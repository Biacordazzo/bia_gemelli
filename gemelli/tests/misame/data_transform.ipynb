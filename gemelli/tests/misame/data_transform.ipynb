{
 "cells": [
  {
   "cell_type": "code",
   "execution_count": 1,
   "metadata": {},
   "outputs": [],
   "source": [
    "import numpy as np\n",
    "import biom\n",
    "import pandas as pd\n",
    "import random\n",
    "import matplotlib.pyplot as plt\n",
    "from biom.util import biom_open\n",
    "from sklearn.preprocessing import scale\n",
    "%matplotlib inline\n"
   ]
  },
  {
   "cell_type": "markdown",
   "metadata": {},
   "source": [
    "### load and preprocess data"
   ]
  },
  {
   "cell_type": "code",
   "execution_count": 2,
   "metadata": {},
   "outputs": [],
   "source": [
    "#define directory to read/write files\n",
    "read_path = '/Users/bec5786/Desktop/temp/tempted_in'\n",
    "save_path = '/Users/bec5786/Desktop/temp/tempted_out'"
   ]
  },
  {
   "cell_type": "code",
   "execution_count": 3,
   "metadata": {},
   "outputs": [],
   "source": [
    "# load data\n",
    "misame_mf = pd.read_csv('{}/Misame_CTF_sample_metadata.tsv'.format(read_path), sep='\\t', index_col=0)\n",
    "misame_table = biom.load_table('{}/Misame_raw2.hd5.biom'.format(read_path))\n",
    "misame_df = misame_table.to_dataframe()\n",
    "misame_array = misame_df.values"
   ]
  },
  {
   "cell_type": "code",
   "execution_count": 4,
   "metadata": {},
   "outputs": [
    {
     "data": {
      "text/html": [
       "<div>\n",
       "<style scoped>\n",
       "    .dataframe tbody tr th:only-of-type {\n",
       "        vertical-align: middle;\n",
       "    }\n",
       "\n",
       "    .dataframe tbody tr th {\n",
       "        vertical-align: top;\n",
       "    }\n",
       "\n",
       "    .dataframe thead th {\n",
       "        text-align: right;\n",
       "    }\n",
       "</style>\n",
       "<table border=\"1\" class=\"dataframe\">\n",
       "  <thead>\n",
       "    <tr style=\"text-align: right;\">\n",
       "      <th></th>\n",
       "      <th>SubjectID</th>\n",
       "      <th>VISIT</th>\n",
       "      <th>Timepoint</th>\n",
       "      <th>AGEDAYS</th>\n",
       "      <th>COUNTRY</th>\n",
       "      <th>STUDYID</th>\n",
       "      <th>SITEID</th>\n",
       "      <th>CITYTOWN</th>\n",
       "      <th>SUBJID</th>\n",
       "      <th>STUDYTYP</th>\n",
       "      <th>...</th>\n",
       "      <th>WAZ_M04_bins</th>\n",
       "      <th>HAZ_M04_bins</th>\n",
       "      <th>WAZ_M06_bins</th>\n",
       "      <th>HAZ_M06_bins</th>\n",
       "      <th>MBMI_AC4_bins</th>\n",
       "      <th>MBMI_M01_bins</th>\n",
       "      <th>MBMI_M04_bins</th>\n",
       "      <th>MHGB_AC3_bins</th>\n",
       "      <th>MHGB_Enroll_bins</th>\n",
       "      <th>SICK_M0_to_4</th>\n",
       "    </tr>\n",
       "    <tr>\n",
       "      <th>SampleID</th>\n",
       "      <th></th>\n",
       "      <th></th>\n",
       "      <th></th>\n",
       "      <th></th>\n",
       "      <th></th>\n",
       "      <th></th>\n",
       "      <th></th>\n",
       "      <th></th>\n",
       "      <th></th>\n",
       "      <th></th>\n",
       "      <th></th>\n",
       "      <th></th>\n",
       "      <th></th>\n",
       "      <th></th>\n",
       "      <th></th>\n",
       "      <th></th>\n",
       "      <th></th>\n",
       "      <th></th>\n",
       "      <th></th>\n",
       "      <th></th>\n",
       "      <th></th>\n",
       "    </tr>\n",
       "  </thead>\n",
       "  <tbody>\n",
       "    <tr>\n",
       "      <th>1421_611</th>\n",
       "      <td>15</td>\n",
       "      <td>BM Collection 14-21D</td>\n",
       "      <td>1</td>\n",
       "      <td>20</td>\n",
       "      <td>BURKINA FASO</td>\n",
       "      <td>MISAME-3</td>\n",
       "      <td>6</td>\n",
       "      <td>Hounde District</td>\n",
       "      <td>15</td>\n",
       "      <td>1</td>\n",
       "      <td>...</td>\n",
       "      <td>0 to 1</td>\n",
       "      <td>below -1</td>\n",
       "      <td>0 to 1</td>\n",
       "      <td>-1 to 0</td>\n",
       "      <td>18.5-25</td>\n",
       "      <td>18.5-25</td>\n",
       "      <td>18.5-25</td>\n",
       "      <td>10.5-11.5</td>\n",
       "      <td>&lt;=10.5</td>\n",
       "      <td>False</td>\n",
       "    </tr>\n",
       "    <tr>\n",
       "      <th>pn12_611</th>\n",
       "      <td>15</td>\n",
       "      <td>BM Collection 1M-2M</td>\n",
       "      <td>2</td>\n",
       "      <td>67</td>\n",
       "      <td>BURKINA FASO</td>\n",
       "      <td>MISAME-3</td>\n",
       "      <td>6</td>\n",
       "      <td>Hounde District</td>\n",
       "      <td>15</td>\n",
       "      <td>1</td>\n",
       "      <td>...</td>\n",
       "      <td>0 to 1</td>\n",
       "      <td>below -1</td>\n",
       "      <td>0 to 1</td>\n",
       "      <td>-1 to 0</td>\n",
       "      <td>18.5-25</td>\n",
       "      <td>18.5-25</td>\n",
       "      <td>18.5-25</td>\n",
       "      <td>10.5-11.5</td>\n",
       "      <td>&lt;=10.5</td>\n",
       "      <td>False</td>\n",
       "    </tr>\n",
       "    <tr>\n",
       "      <th>pn34_611</th>\n",
       "      <td>15</td>\n",
       "      <td>BM Collection 3M-4M</td>\n",
       "      <td>3</td>\n",
       "      <td>125</td>\n",
       "      <td>BURKINA FASO</td>\n",
       "      <td>MISAME-3</td>\n",
       "      <td>6</td>\n",
       "      <td>Hounde District</td>\n",
       "      <td>15</td>\n",
       "      <td>1</td>\n",
       "      <td>...</td>\n",
       "      <td>0 to 1</td>\n",
       "      <td>below -1</td>\n",
       "      <td>0 to 1</td>\n",
       "      <td>-1 to 0</td>\n",
       "      <td>18.5-25</td>\n",
       "      <td>18.5-25</td>\n",
       "      <td>18.5-25</td>\n",
       "      <td>10.5-11.5</td>\n",
       "      <td>&lt;=10.5</td>\n",
       "      <td>False</td>\n",
       "    </tr>\n",
       "    <tr>\n",
       "      <th>1421_229</th>\n",
       "      <td>57</td>\n",
       "      <td>BM Collection 14-21D</td>\n",
       "      <td>1</td>\n",
       "      <td>31</td>\n",
       "      <td>BURKINA FASO</td>\n",
       "      <td>MISAME-3</td>\n",
       "      <td>2</td>\n",
       "      <td>Hounde District</td>\n",
       "      <td>57</td>\n",
       "      <td>1</td>\n",
       "      <td>...</td>\n",
       "      <td>below -1</td>\n",
       "      <td>-1 to 0</td>\n",
       "      <td>below -1</td>\n",
       "      <td>-1 to 0</td>\n",
       "      <td>18.5-25</td>\n",
       "      <td>18.5-25</td>\n",
       "      <td>18.5-25</td>\n",
       "      <td>10.5-11.5</td>\n",
       "      <td>11.5-12.5</td>\n",
       "      <td>False</td>\n",
       "    </tr>\n",
       "    <tr>\n",
       "      <th>pn12_229</th>\n",
       "      <td>57</td>\n",
       "      <td>BM Collection 1M-2M</td>\n",
       "      <td>2</td>\n",
       "      <td>62</td>\n",
       "      <td>BURKINA FASO</td>\n",
       "      <td>MISAME-3</td>\n",
       "      <td>2</td>\n",
       "      <td>Hounde District</td>\n",
       "      <td>57</td>\n",
       "      <td>1</td>\n",
       "      <td>...</td>\n",
       "      <td>below -1</td>\n",
       "      <td>-1 to 0</td>\n",
       "      <td>below -1</td>\n",
       "      <td>-1 to 0</td>\n",
       "      <td>18.5-25</td>\n",
       "      <td>18.5-25</td>\n",
       "      <td>18.5-25</td>\n",
       "      <td>10.5-11.5</td>\n",
       "      <td>11.5-12.5</td>\n",
       "      <td>False</td>\n",
       "    </tr>\n",
       "  </tbody>\n",
       "</table>\n",
       "<p>5 rows × 236 columns</p>\n",
       "</div>"
      ],
      "text/plain": [
       "          SubjectID                 VISIT  Timepoint  AGEDAYS       COUNTRY  \\\n",
       "SampleID                                                                      \n",
       "1421_611         15  BM Collection 14-21D          1       20  BURKINA FASO   \n",
       "pn12_611         15   BM Collection 1M-2M          2       67  BURKINA FASO   \n",
       "pn34_611         15   BM Collection 3M-4M          3      125  BURKINA FASO   \n",
       "1421_229         57  BM Collection 14-21D          1       31  BURKINA FASO   \n",
       "pn12_229         57   BM Collection 1M-2M          2       62  BURKINA FASO   \n",
       "\n",
       "           STUDYID  SITEID         CITYTOWN  SUBJID  STUDYTYP  ...  \\\n",
       "SampleID                                                       ...   \n",
       "1421_611  MISAME-3       6  Hounde District      15         1  ...   \n",
       "pn12_611  MISAME-3       6  Hounde District      15         1  ...   \n",
       "pn34_611  MISAME-3       6  Hounde District      15         1  ...   \n",
       "1421_229  MISAME-3       2  Hounde District      57         1  ...   \n",
       "pn12_229  MISAME-3       2  Hounde District      57         1  ...   \n",
       "\n",
       "         WAZ_M04_bins  HAZ_M04_bins  WAZ_M06_bins HAZ_M06_bins  MBMI_AC4_bins  \\\n",
       "SampleID                                                                        \n",
       "1421_611       0 to 1      below -1        0 to 1      -1 to 0        18.5-25   \n",
       "pn12_611       0 to 1      below -1        0 to 1      -1 to 0        18.5-25   \n",
       "pn34_611       0 to 1      below -1        0 to 1      -1 to 0        18.5-25   \n",
       "1421_229     below -1       -1 to 0      below -1      -1 to 0        18.5-25   \n",
       "pn12_229     below -1       -1 to 0      below -1      -1 to 0        18.5-25   \n",
       "\n",
       "         MBMI_M01_bins  MBMI_M04_bins  MHGB_AC3_bins  MHGB_Enroll_bins  \\\n",
       "SampleID                                                                 \n",
       "1421_611       18.5-25        18.5-25      10.5-11.5            <=10.5   \n",
       "pn12_611       18.5-25        18.5-25      10.5-11.5            <=10.5   \n",
       "pn34_611       18.5-25        18.5-25      10.5-11.5            <=10.5   \n",
       "1421_229       18.5-25        18.5-25      10.5-11.5         11.5-12.5   \n",
       "pn12_229       18.5-25        18.5-25      10.5-11.5         11.5-12.5   \n",
       "\n",
       "          SICK_M0_to_4  \n",
       "SampleID                \n",
       "1421_611         False  \n",
       "pn12_611         False  \n",
       "pn34_611         False  \n",
       "1421_229         False  \n",
       "pn12_229         False  \n",
       "\n",
       "[5 rows x 236 columns]"
      ]
     },
     "metadata": {},
     "output_type": "display_data"
    },
    {
     "data": {
      "text/plain": [
       "37071 x 839 <class 'biom.table.Table'> with 30522605 nonzero entries (98% dense)"
      ]
     },
     "execution_count": 4,
     "metadata": {},
     "output_type": "execute_result"
    }
   ],
   "source": [
    "display(misame_mf.head())\n",
    "misame_table"
   ]
  },
  {
   "cell_type": "code",
   "execution_count": 5,
   "metadata": {},
   "outputs": [
    {
     "data": {
      "text/html": [
       "<div>\n",
       "<style scoped>\n",
       "    .dataframe tbody tr th:only-of-type {\n",
       "        vertical-align: middle;\n",
       "    }\n",
       "\n",
       "    .dataframe tbody tr th {\n",
       "        vertical-align: top;\n",
       "    }\n",
       "\n",
       "    .dataframe thead th {\n",
       "        text-align: right;\n",
       "    }\n",
       "</style>\n",
       "<table border=\"1\" class=\"dataframe\">\n",
       "  <thead>\n",
       "    <tr style=\"text-align: right;\">\n",
       "      <th></th>\n",
       "      <th>1421_101</th>\n",
       "      <th>1421_102</th>\n",
       "      <th>1421_103</th>\n",
       "      <th>1421_104</th>\n",
       "      <th>1421_106</th>\n",
       "      <th>1421_107</th>\n",
       "      <th>1421_108</th>\n",
       "      <th>1421_109</th>\n",
       "      <th>1421_111</th>\n",
       "      <th>1421_112</th>\n",
       "      <th>...</th>\n",
       "      <th>pn34_653</th>\n",
       "      <th>pn34_654</th>\n",
       "      <th>pn34_657</th>\n",
       "      <th>pn34_658</th>\n",
       "      <th>pn34_659</th>\n",
       "      <th>pn34_660</th>\n",
       "      <th>pn34_661</th>\n",
       "      <th>pn34_662</th>\n",
       "      <th>pn34_663</th>\n",
       "      <th>pn34_664</th>\n",
       "    </tr>\n",
       "  </thead>\n",
       "  <tbody>\n",
       "    <tr>\n",
       "      <th>rLC_pos_mtb_4846337</th>\n",
       "      <td>614.0</td>\n",
       "      <td>384.0</td>\n",
       "      <td>319.0</td>\n",
       "      <td>294.0</td>\n",
       "      <td>251.0</td>\n",
       "      <td>314.0</td>\n",
       "      <td>250.0</td>\n",
       "      <td>404.0</td>\n",
       "      <td>298.0</td>\n",
       "      <td>293.0</td>\n",
       "      <td>...</td>\n",
       "      <td>271.0</td>\n",
       "      <td>283.0</td>\n",
       "      <td>395.0</td>\n",
       "      <td>386.0</td>\n",
       "      <td>403.0</td>\n",
       "      <td>352.0</td>\n",
       "      <td>303.0</td>\n",
       "      <td>210.0</td>\n",
       "      <td>243.0</td>\n",
       "      <td>196.0</td>\n",
       "    </tr>\n",
       "    <tr>\n",
       "      <th>rLC_pos_mtb_8977937</th>\n",
       "      <td>86.0</td>\n",
       "      <td>113.0</td>\n",
       "      <td>51.0</td>\n",
       "      <td>69.0</td>\n",
       "      <td>60.0</td>\n",
       "      <td>104.0</td>\n",
       "      <td>85.0</td>\n",
       "      <td>73.0</td>\n",
       "      <td>45.0</td>\n",
       "      <td>49.0</td>\n",
       "      <td>...</td>\n",
       "      <td>70.0</td>\n",
       "      <td>104.0</td>\n",
       "      <td>49.0</td>\n",
       "      <td>120.0</td>\n",
       "      <td>58.0</td>\n",
       "      <td>102.0</td>\n",
       "      <td>63.0</td>\n",
       "      <td>65.0</td>\n",
       "      <td>37.0</td>\n",
       "      <td>49.0</td>\n",
       "    </tr>\n",
       "    <tr>\n",
       "      <th>rLC_pos_mtb_6168557</th>\n",
       "      <td>586.0</td>\n",
       "      <td>319.0</td>\n",
       "      <td>445.0</td>\n",
       "      <td>263.0</td>\n",
       "      <td>278.0</td>\n",
       "      <td>464.0</td>\n",
       "      <td>228.0</td>\n",
       "      <td>243.0</td>\n",
       "      <td>400.0</td>\n",
       "      <td>637.0</td>\n",
       "      <td>...</td>\n",
       "      <td>461.0</td>\n",
       "      <td>225.0</td>\n",
       "      <td>358.0</td>\n",
       "      <td>288.0</td>\n",
       "      <td>280.0</td>\n",
       "      <td>222.0</td>\n",
       "      <td>347.0</td>\n",
       "      <td>424.0</td>\n",
       "      <td>379.0</td>\n",
       "      <td>331.0</td>\n",
       "    </tr>\n",
       "    <tr>\n",
       "      <th>rLC_pos_mtb_1208721</th>\n",
       "      <td>50.0</td>\n",
       "      <td>24.0</td>\n",
       "      <td>212.0</td>\n",
       "      <td>117.0</td>\n",
       "      <td>313.0</td>\n",
       "      <td>52.0</td>\n",
       "      <td>45.0</td>\n",
       "      <td>88.0</td>\n",
       "      <td>133.0</td>\n",
       "      <td>236.0</td>\n",
       "      <td>...</td>\n",
       "      <td>120.0</td>\n",
       "      <td>456.0</td>\n",
       "      <td>43.0</td>\n",
       "      <td>514.0</td>\n",
       "      <td>261.0</td>\n",
       "      <td>354.0</td>\n",
       "      <td>79.0</td>\n",
       "      <td>403.0</td>\n",
       "      <td>485.0</td>\n",
       "      <td>485.0</td>\n",
       "    </tr>\n",
       "    <tr>\n",
       "      <th>rLC_pos_mtb_9938192</th>\n",
       "      <td>635.0</td>\n",
       "      <td>431.0</td>\n",
       "      <td>395.0</td>\n",
       "      <td>568.0</td>\n",
       "      <td>465.0</td>\n",
       "      <td>535.0</td>\n",
       "      <td>398.0</td>\n",
       "      <td>438.0</td>\n",
       "      <td>361.0</td>\n",
       "      <td>447.0</td>\n",
       "      <td>...</td>\n",
       "      <td>510.0</td>\n",
       "      <td>369.0</td>\n",
       "      <td>672.0</td>\n",
       "      <td>356.0</td>\n",
       "      <td>448.0</td>\n",
       "      <td>600.0</td>\n",
       "      <td>562.0</td>\n",
       "      <td>458.0</td>\n",
       "      <td>432.0</td>\n",
       "      <td>491.0</td>\n",
       "    </tr>\n",
       "  </tbody>\n",
       "</table>\n",
       "<p>5 rows × 839 columns</p>\n",
       "</div>"
      ],
      "text/plain": [
       "                     1421_101  1421_102  1421_103  1421_104  1421_106  \\\n",
       "rLC_pos_mtb_4846337     614.0     384.0     319.0     294.0     251.0   \n",
       "rLC_pos_mtb_8977937      86.0     113.0      51.0      69.0      60.0   \n",
       "rLC_pos_mtb_6168557     586.0     319.0     445.0     263.0     278.0   \n",
       "rLC_pos_mtb_1208721      50.0      24.0     212.0     117.0     313.0   \n",
       "rLC_pos_mtb_9938192     635.0     431.0     395.0     568.0     465.0   \n",
       "\n",
       "                     1421_107  1421_108  1421_109  1421_111  1421_112  ...  \\\n",
       "rLC_pos_mtb_4846337     314.0     250.0     404.0     298.0     293.0  ...   \n",
       "rLC_pos_mtb_8977937     104.0      85.0      73.0      45.0      49.0  ...   \n",
       "rLC_pos_mtb_6168557     464.0     228.0     243.0     400.0     637.0  ...   \n",
       "rLC_pos_mtb_1208721      52.0      45.0      88.0     133.0     236.0  ...   \n",
       "rLC_pos_mtb_9938192     535.0     398.0     438.0     361.0     447.0  ...   \n",
       "\n",
       "                     pn34_653  pn34_654  pn34_657  pn34_658  pn34_659  \\\n",
       "rLC_pos_mtb_4846337     271.0     283.0     395.0     386.0     403.0   \n",
       "rLC_pos_mtb_8977937      70.0     104.0      49.0     120.0      58.0   \n",
       "rLC_pos_mtb_6168557     461.0     225.0     358.0     288.0     280.0   \n",
       "rLC_pos_mtb_1208721     120.0     456.0      43.0     514.0     261.0   \n",
       "rLC_pos_mtb_9938192     510.0     369.0     672.0     356.0     448.0   \n",
       "\n",
       "                     pn34_660  pn34_661  pn34_662  pn34_663  pn34_664  \n",
       "rLC_pos_mtb_4846337     352.0     303.0     210.0     243.0     196.0  \n",
       "rLC_pos_mtb_8977937     102.0      63.0      65.0      37.0      49.0  \n",
       "rLC_pos_mtb_6168557     222.0     347.0     424.0     379.0     331.0  \n",
       "rLC_pos_mtb_1208721     354.0      79.0     403.0     485.0     485.0  \n",
       "rLC_pos_mtb_9938192     600.0     562.0     458.0     432.0     491.0  \n",
       "\n",
       "[5 rows x 839 columns]"
      ]
     },
     "execution_count": 5,
     "metadata": {},
     "output_type": "execute_result"
    }
   ],
   "source": [
    "misame_table.to_dataframe().head()"
   ]
  },
  {
   "cell_type": "code",
   "execution_count": 6,
   "metadata": {},
   "outputs": [
    {
     "name": "stdout",
     "output_type": "stream",
     "text": [
      "0\n",
      "0\n",
      "0\n"
     ]
    }
   ],
   "source": [
    "print(misame_table.to_dataframe().isna().sum().sum())\n",
    "print(misame_table.to_dataframe().isnull().sum().sum())\n",
    "print(np.isnan(misame_array).sum())"
   ]
  },
  {
   "cell_type": "code",
   "execution_count": 9,
   "metadata": {},
   "outputs": [
    {
     "name": "stdout",
     "output_type": "stream",
     "text": [
      "0.10000041229608538\n",
      "0.10000041229608538\n"
     ]
    }
   ],
   "source": [
    "#step 1: imputation\n",
    "random.seed(5)\n",
    "#draw from unif distribution with low=min(table)/10 and high=min(table)\n",
    "zero_len = len(misame_array[misame_array==0])\n",
    "min_value = misame_table.min().min()\n",
    "rand_array = np.random.uniform(low=min_value/10, high=min_value, size=zero_len)\n",
    "misame_array[misame_array==0] = rand_array\n",
    "#sanity check\n",
    "print(rand_array.min())\n",
    "print(misame_array.min())"
   ]
  },
  {
   "cell_type": "code",
   "execution_count": 10,
   "metadata": {},
   "outputs": [
    {
     "name": "stdout",
     "output_type": "stream",
     "text": [
      "[[2.78816837 2.58433122 2.50379068 ... 2.32221929 2.38560627 2.29225607]\n",
      " [1.93449845 2.05307844 1.70757018 ... 1.81291336 1.56820172 1.69019608]\n",
      " [2.76789762 2.50379068 2.64836001 ... 2.62736586 2.57863921 2.51982799]\n",
      " ...\n",
      " [5.55443828 6.23467948 5.70000066 ... 5.39610341 5.45523479 5.57417485]\n",
      " [6.31952703 6.40168326 6.32632275 ... 6.25038096 6.33930433 6.25103953]\n",
      " [6.33456392 6.4282291  6.35277334 ... 6.29703177 6.31853934 6.26128214]]\n"
     ]
    }
   ],
   "source": [
    "#step 2: log10 transform the data\n",
    "misame_array = np.log10(misame_array)\n",
    "print(misame_array)"
   ]
  },
  {
   "cell_type": "code",
   "execution_count": 11,
   "metadata": {},
   "outputs": [
    {
     "name": "stdout",
     "output_type": "stream",
     "text": [
      "579964\n",
      "579964\n"
     ]
    }
   ],
   "source": [
    "print(len(rand_array)) #579964\n",
    "print(len(misame_array[misame_array<0])) #579964"
   ]
  },
  {
   "cell_type": "code",
   "execution_count": 12,
   "metadata": {},
   "outputs": [
    {
     "name": "stdout",
     "output_type": "stream",
     "text": [
      "[[ 1.78790402  0.38494199 -0.16939918 ... -1.41911135 -0.98283403\n",
      "  -1.62534101]\n",
      " [ 0.54910552  1.3566518  -0.99630768 ... -0.27890593 -1.94542628\n",
      "  -1.1146277 ]\n",
      " [ 1.88838287 -0.16196996  0.96037138 ...  0.79738655  0.41910486\n",
      "  -0.03746681]\n",
      " ...\n",
      " [ 0.49357931  2.13116235  0.84399986 ...  0.11241084  0.25476115\n",
      "   0.54109227]\n",
      " [ 0.62311738  1.25964683  0.67576924 ...  0.08738801  0.77634785\n",
      "   0.09249043]\n",
      " [ 0.41990709  1.29682197  0.59038782 ...  0.06852253  0.26988127\n",
      "  -0.2661737 ]]\n"
     ]
    }
   ],
   "source": [
    "#step 3: scale the data row-wise (feature-level)\n",
    "misame_array_scaled = scale(misame_array, axis=1)\n",
    "print(misame_array_scaled)"
   ]
  },
  {
   "cell_type": "code",
   "execution_count": 13,
   "metadata": {},
   "outputs": [],
   "source": [
    "#step 4: turn back into biom table\n",
    "table_transformed = biom.Table(misame_array_scaled, \n",
    "                               misame_df.index, \n",
    "                               misame_df.columns)\n",
    "#save\n",
    "with biom_open('{}/Misame_transformed.biom'.format(read_path), 'w') as f:  \n",
    "   table_transformed.to_hdf5(f, 'sapient-norm')"
   ]
  },
  {
   "cell_type": "code",
   "execution_count": 19,
   "metadata": {},
   "outputs": [
    {
     "name": "stderr",
     "output_type": "stream",
     "text": [
      "/var/folders/wc/r9njmvn106j5gvr496l3xw65jl16p6/T/ipykernel_8804/3242813819.py:2: FutureWarning: The behavior of .astype from SparseDtype to a non-sparse dtype is deprecated. In a future version, this will return a non-sparse array with the requested dtype. To retain the old behavior, use `obj.astype(SparseDtype(dtype))`\n",
      "  table_transformed.to_dataframe().to_csv('./Misame_transformed.csv')\n"
     ]
    }
   ],
   "source": [
    "#save transformed table as csv\n",
    "table_transformed.to_dataframe().to_csv('{}/Misame_transformed.csv'.format(read_path))"
   ]
  },
  {
   "cell_type": "markdown",
   "metadata": {},
   "source": [
    "### TEMPTED"
   ]
  },
  {
   "cell_type": "code",
   "execution_count": 13,
   "metadata": {},
   "outputs": [],
   "source": [
    "from gemelli.tempted import (tempted_factorize, tempted)\n",
    "#from gemelli.preprocessing import clr_transformation"
   ]
  },
  {
   "cell_type": "code",
   "execution_count": 14,
   "metadata": {},
   "outputs": [
    {
     "name": "stdout",
     "output_type": "stream",
     "text": [
      "[[ 1.78790402  0.38494199 -0.16939918 -0.41334724 -0.88601117]\n",
      " [ 0.54910552  1.3566518  -0.99630768 -0.10227996 -0.51564072]\n",
      " [ 1.88838287 -0.16196996  0.96037138 -0.81280935 -0.6257978 ]\n",
      " [-1.36747554 -2.23036442  0.33082137 -0.3679979   0.78887344]\n",
      " [ 0.95466242 -0.44473397 -0.75971018  0.55200203 -0.17053894]]\n",
      "(37071, 839)\n"
     ]
    }
   ],
   "source": [
    "print(table_transformed.to_dataframe().values[0:5,0:5])\n",
    "print(table_transformed.to_dataframe().values.shape)"
   ]
  },
  {
   "cell_type": "code",
   "execution_count": 15,
   "metadata": {},
   "outputs": [
    {
     "name": "stdout",
     "output_type": "stream",
     "text": [
      "Mins: -12940.065187746039 -6.857271417359811e-10\n"
     ]
    }
   ],
   "source": [
    "min_sample_count=table_transformed.sum(axis='sample').min()\n",
    "min_feature_count=table_transformed.sum(axis='observation').min()\n",
    "print(\"Mins:\", min_sample_count, min_feature_count)"
   ]
  },
  {
   "cell_type": "code",
   "execution_count": 16,
   "metadata": {},
   "outputs": [
    {
     "name": "stdout",
     "output_type": "stream",
     "text": [
      "Prop explained: [0.05254734 0.03547075 0.018763  ]\n",
      "Prop explained argsort: [0 1 2]\n",
      "Eigenvalues pre-sorting: [5530.10930842 5886.56160798 2889.23833787]\n",
      "Eigenvalues post-sorting: [5530.10930842 5886.56160798 2889.23833787]\n"
     ]
    }
   ],
   "source": [
    "tempted_res = tempted(table=table_transformed.copy(), \n",
    "                      sample_metadata=misame_mf,\n",
    "                      individual_id_column='SubjectID', \n",
    "                      state_column='Timepoint',\n",
    "                      min_sample_count=min_sample_count,\n",
    "                      min_feature_count=min_feature_count,\n",
    "                      transformation=lambda x: x)\n",
    "\n",
    "# Post feature (abs) filter:  (37071, 839)\n",
    "# Post feature (freq) filter:  (37071, 839)\n",
    "# Post sample filter:  (37071, 437)"
   ]
  },
  {
   "cell_type": "code",
   "execution_count": 17,
   "metadata": {},
   "outputs": [
    {
     "data": {
      "image/png": "[encoded data removed]",
      "text/plain": [
       "<Figure size 2000x400 with 3 Axes>"
      ]
     },
     "metadata": {},
     "output_type": "display_data"
    }
   ],
   "source": [
    "#feature loadings\n",
    "comp1 = 'PC1'\n",
    "comp2 = 'PC2'\n",
    "\n",
    "fig, axn = plt.subplots(1, 3, figsize=(20, 4), sharey=False)\n",
    "axn[0].plot(tempted_res[1][['PC1', 'PC2', 'PC3']])\n",
    "axn[0].set_title('Temporal Loadings', fontsize=14)\n",
    "axn[0].legend(['PC1', 'PC2', 'PC3'])\n",
    "axn[1].scatter(tempted_res[0].samples[comp1],\n",
    "               tempted_res[0].samples[comp2])\n",
    "axn[1].set_title('Individual Loadings', fontsize=14)\n",
    "axn[2].scatter(tempted_res[0].features[comp1],\n",
    "               tempted_res[0].features[comp2])\n",
    "axn[2].set_title('Feature Loadings', fontsize=14)\n",
    "plt.suptitle('TEMPTED results', fontsize=16, y=1.02)\n",
    "plt.setp(axn, xlabel=comp1.replace('_', ' '), \n",
    "         ylabel=comp2.replace('_', ' '))\n",
    "plt.show()"
   ]
  },
  {
   "cell_type": "code",
   "execution_count": 18,
   "metadata": {},
   "outputs": [],
   "source": [
    "# %%bash\n",
    "# biom convert \\\n",
    "#   -i Misame_transformed.biom \\\n",
    "#   -o Misame_transformed.hd5.biom \\\n",
    "#   --to-hdf5"
   ]
  },
  {
   "cell_type": "code",
   "execution_count": 19,
   "metadata": {},
   "outputs": [],
   "source": [
    "##save to dir\n",
    "tempted_res[0].features.to_csv('{}/Misame_subject_ordination.csv'.format(save_path))\n",
    "tempted_res[1].to_csv('{}/Misame_state_loadings.csv'.format(save_path))\n",
    "# tempted_res[2].write('{}/Misame_distance_matrix.qza'.format(save_path))\n",
    "# tempted_res[3].to_csv('{}/Misame_svd_center.csv'.format(save_path))"
   ]
  }
 ],
 "metadata": {
  "kernelspec": {
   "display_name": "qiime2-amplicon-2024.2",
   "language": "python",
   "name": "python3"
  },
  "language_info": {
   "codemirror_mode": {
    "name": "ipython",
    "version": 3
   },
   "file_extension": ".py",
   "mimetype": "text/x-python",
   "name": "python",
   "nbconvert_exporter": "python",
   "pygments_lexer": "ipython3",
   "version": "3.8.18"
  }
 },
 "nbformat": 4,
 "nbformat_minor": 2
}
