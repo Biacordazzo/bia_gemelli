{
 "cells": [
  {
   "cell_type": "code",
   "execution_count": 1,
   "metadata": {},
   "outputs": [],
   "source": [
    "import numpy as np\n",
    "import biom\n",
    "import pandas as pd\n",
    "import random\n",
    "import matplotlib.pyplot as plt\n",
    "from biom.util import biom_open\n",
    "from sklearn.preprocessing import scale\n",
    "%matplotlib inline"
   ]
  },
  {
   "cell_type": "markdown",
   "metadata": {},
   "source": [
    "### load and preprocess data"
   ]
  },
  {
   "cell_type": "code",
   "execution_count": 2,
   "metadata": {},
   "outputs": [],
   "source": [
    "#define directory to read/write files\n",
    "read_path = '/Users/bec5786/Desktop/temp/tempted_in'\n",
    "save_path = '/Users/bec5786/Desktop/temp/tempted_out'"
   ]
  },
  {
   "cell_type": "code",
   "execution_count": 3,
   "metadata": {},
   "outputs": [],
   "source": [
    "# load data\n",
    "cohort = 'Elicit'\n",
    "mf = pd.read_csv('{}/{}_CTF_sample_metadata.tsv'.format(read_path, cohort), sep='\\t', index_col=0)\n",
    "table_biom = biom.load_table('{}/{}_raw2.hd5.biom'.format(read_path, cohort))\n",
    "table_df = table_biom.to_dataframe()\n",
    "table_array = table_df.values"
   ]
  },
  {
   "cell_type": "code",
   "execution_count": 4,
   "metadata": {},
   "outputs": [
    {
     "data": {
      "text/html": [
       "<div>\n",
       "<style scoped>\n",
       "    .dataframe tbody tr th:only-of-type {\n",
       "        vertical-align: middle;\n",
       "    }\n",
       "\n",
       "    .dataframe tbody tr th {\n",
       "        vertical-align: top;\n",
       "    }\n",
       "\n",
       "    .dataframe thead th {\n",
       "        text-align: right;\n",
       "    }\n",
       "</style>\n",
       "<table border=\"1\" class=\"dataframe\">\n",
       "  <thead>\n",
       "    <tr style=\"text-align: right;\">\n",
       "      <th></th>\n",
       "      <th>SubjectID</th>\n",
       "      <th>SUBJID</th>\n",
       "      <th>ARM</th>\n",
       "      <th>ARMCD</th>\n",
       "      <th>SEXN</th>\n",
       "      <th>SEX</th>\n",
       "      <th>BRTHYR</th>\n",
       "      <th>BRTHWEEK</th>\n",
       "      <th>MAGE</th>\n",
       "      <th>PARITY</th>\n",
       "      <th>...</th>\n",
       "      <th>WHZ_M3_binary_bins</th>\n",
       "      <th>HAZ_M6_binary_bins</th>\n",
       "      <th>WHZ_M6_binary_bins</th>\n",
       "      <th>HAZ_M9_binary_bins</th>\n",
       "      <th>WHZ_M9_binary_bins</th>\n",
       "      <th>HAZ_M12_binary_bins</th>\n",
       "      <th>WHZ_M12_binary_bins</th>\n",
       "      <th>HAZ_M18_binary_bins</th>\n",
       "      <th>WHZ_M18_binary_bins</th>\n",
       "      <th>Timepoint</th>\n",
       "    </tr>\n",
       "    <tr>\n",
       "      <th>SampleID</th>\n",
       "      <th></th>\n",
       "      <th></th>\n",
       "      <th></th>\n",
       "      <th></th>\n",
       "      <th></th>\n",
       "      <th></th>\n",
       "      <th></th>\n",
       "      <th></th>\n",
       "      <th></th>\n",
       "      <th></th>\n",
       "      <th></th>\n",
       "      <th></th>\n",
       "      <th></th>\n",
       "      <th></th>\n",
       "      <th></th>\n",
       "      <th></th>\n",
       "      <th></th>\n",
       "      <th></th>\n",
       "      <th></th>\n",
       "      <th></th>\n",
       "      <th></th>\n",
       "    </tr>\n",
       "  </thead>\n",
       "  <tbody>\n",
       "    <tr>\n",
       "      <th>TZ1100009</th>\n",
       "      <td>TZ1C1008</td>\n",
       "      <td>1008</td>\n",
       "      <td>Nicotinamide, Azithromycin &amp;Nitazoxanide</td>\n",
       "      <td>4</td>\n",
       "      <td>1</td>\n",
       "      <td>Male</td>\n",
       "      <td>2017</td>\n",
       "      <td>37</td>\n",
       "      <td>33</td>\n",
       "      <td>5</td>\n",
       "      <td>...</td>\n",
       "      <td>above -1</td>\n",
       "      <td>below -1</td>\n",
       "      <td>below -1</td>\n",
       "      <td>below -1</td>\n",
       "      <td>above -1</td>\n",
       "      <td>below -1</td>\n",
       "      <td>above -1</td>\n",
       "      <td>below -1</td>\n",
       "      <td>above -1</td>\n",
       "      <td>1</td>\n",
       "    </tr>\n",
       "    <tr>\n",
       "      <th>TZ1100583</th>\n",
       "      <td>TZ1C1008</td>\n",
       "      <td>1008</td>\n",
       "      <td>Nicotinamide, Azithromycin &amp;Nitazoxanide</td>\n",
       "      <td>4</td>\n",
       "      <td>1</td>\n",
       "      <td>Male</td>\n",
       "      <td>2017</td>\n",
       "      <td>37</td>\n",
       "      <td>33</td>\n",
       "      <td>5</td>\n",
       "      <td>...</td>\n",
       "      <td>above -1</td>\n",
       "      <td>below -1</td>\n",
       "      <td>below -1</td>\n",
       "      <td>below -1</td>\n",
       "      <td>above -1</td>\n",
       "      <td>below -1</td>\n",
       "      <td>above -1</td>\n",
       "      <td>below -1</td>\n",
       "      <td>above -1</td>\n",
       "      <td>2</td>\n",
       "    </tr>\n",
       "    <tr>\n",
       "      <th>TZ1100021</th>\n",
       "      <td>TZ1C1014</td>\n",
       "      <td>1014</td>\n",
       "      <td>Placebo, Placebo</td>\n",
       "      <td>1</td>\n",
       "      <td>1</td>\n",
       "      <td>Male</td>\n",
       "      <td>2017</td>\n",
       "      <td>38</td>\n",
       "      <td>33</td>\n",
       "      <td>8</td>\n",
       "      <td>...</td>\n",
       "      <td>below -1</td>\n",
       "      <td>above -1</td>\n",
       "      <td>below -1</td>\n",
       "      <td>above -1</td>\n",
       "      <td>below -1</td>\n",
       "      <td>above -1</td>\n",
       "      <td>above -1</td>\n",
       "      <td>above -1</td>\n",
       "      <td>above -1</td>\n",
       "      <td>1</td>\n",
       "    </tr>\n",
       "    <tr>\n",
       "      <th>TZ1100634</th>\n",
       "      <td>TZ1C1014</td>\n",
       "      <td>1014</td>\n",
       "      <td>Placebo, Placebo</td>\n",
       "      <td>1</td>\n",
       "      <td>1</td>\n",
       "      <td>Male</td>\n",
       "      <td>2017</td>\n",
       "      <td>38</td>\n",
       "      <td>33</td>\n",
       "      <td>8</td>\n",
       "      <td>...</td>\n",
       "      <td>below -1</td>\n",
       "      <td>above -1</td>\n",
       "      <td>below -1</td>\n",
       "      <td>above -1</td>\n",
       "      <td>below -1</td>\n",
       "      <td>above -1</td>\n",
       "      <td>above -1</td>\n",
       "      <td>above -1</td>\n",
       "      <td>above -1</td>\n",
       "      <td>2</td>\n",
       "    </tr>\n",
       "    <tr>\n",
       "      <th>TZ1100012</th>\n",
       "      <td>TZ1C1015</td>\n",
       "      <td>1015</td>\n",
       "      <td>Nicotinamide, Placebo</td>\n",
       "      <td>3</td>\n",
       "      <td>1</td>\n",
       "      <td>Male</td>\n",
       "      <td>2017</td>\n",
       "      <td>38</td>\n",
       "      <td>20</td>\n",
       "      <td>1</td>\n",
       "      <td>...</td>\n",
       "      <td>below -1</td>\n",
       "      <td>above -1</td>\n",
       "      <td>below -1</td>\n",
       "      <td>above -1</td>\n",
       "      <td>below -1</td>\n",
       "      <td>below -1</td>\n",
       "      <td>above -1</td>\n",
       "      <td>below -1</td>\n",
       "      <td>above -1</td>\n",
       "      <td>1</td>\n",
       "    </tr>\n",
       "  </tbody>\n",
       "</table>\n",
       "<p>5 rows × 60 columns</p>\n",
       "</div>"
      ],
      "text/plain": [
       "          SubjectID  SUBJID                                       ARM  ARMCD  \\\n",
       "SampleID                                                                       \n",
       "TZ1100009  TZ1C1008    1008  Nicotinamide, Azithromycin &Nitazoxanide      4   \n",
       "TZ1100583  TZ1C1008    1008  Nicotinamide, Azithromycin &Nitazoxanide      4   \n",
       "TZ1100021  TZ1C1014    1014                          Placebo, Placebo      1   \n",
       "TZ1100634  TZ1C1014    1014                          Placebo, Placebo      1   \n",
       "TZ1100012  TZ1C1015    1015                     Nicotinamide, Placebo      3   \n",
       "\n",
       "           SEXN   SEX  BRTHYR  BRTHWEEK  MAGE  PARITY  ...  \\\n",
       "SampleID                                               ...   \n",
       "TZ1100009     1  Male    2017        37    33       5  ...   \n",
       "TZ1100583     1  Male    2017        37    33       5  ...   \n",
       "TZ1100021     1  Male    2017        38    33       8  ...   \n",
       "TZ1100634     1  Male    2017        38    33       8  ...   \n",
       "TZ1100012     1  Male    2017        38    20       1  ...   \n",
       "\n",
       "           WHZ_M3_binary_bins  HAZ_M6_binary_bins  WHZ_M6_binary_bins  \\\n",
       "SampleID                                                                \n",
       "TZ1100009            above -1            below -1            below -1   \n",
       "TZ1100583            above -1            below -1            below -1   \n",
       "TZ1100021            below -1            above -1            below -1   \n",
       "TZ1100634            below -1            above -1            below -1   \n",
       "TZ1100012            below -1            above -1            below -1   \n",
       "\n",
       "           HAZ_M9_binary_bins  WHZ_M9_binary_bins HAZ_M12_binary_bins  \\\n",
       "SampleID                                                                \n",
       "TZ1100009            below -1            above -1            below -1   \n",
       "TZ1100583            below -1            above -1            below -1   \n",
       "TZ1100021            above -1            below -1            above -1   \n",
       "TZ1100634            above -1            below -1            above -1   \n",
       "TZ1100012            above -1            below -1            below -1   \n",
       "\n",
       "          WHZ_M12_binary_bins  HAZ_M18_binary_bins  WHZ_M18_binary_bins  \\\n",
       "SampleID                                                                  \n",
       "TZ1100009            above -1             below -1             above -1   \n",
       "TZ1100583            above -1             below -1             above -1   \n",
       "TZ1100021            above -1             above -1             above -1   \n",
       "TZ1100634            above -1             above -1             above -1   \n",
       "TZ1100012            above -1             below -1             above -1   \n",
       "\n",
       "           Timepoint  \n",
       "SampleID              \n",
       "TZ1100009          1  \n",
       "TZ1100583          2  \n",
       "TZ1100021          1  \n",
       "TZ1100634          2  \n",
       "TZ1100012          1  \n",
       "\n",
       "[5 rows x 60 columns]"
      ]
     },
     "metadata": {},
     "output_type": "display_data"
    },
    {
     "data": {
      "text/plain": [
       "60608 x 400 <class 'biom.table.Table'> with 23095412 nonzero entries (95% dense)"
      ]
     },
     "execution_count": 4,
     "metadata": {},
     "output_type": "execute_result"
    }
   ],
   "source": [
    "display(mf.head())\n",
    "table_biom"
   ]
  },
  {
   "cell_type": "code",
   "execution_count": 5,
   "metadata": {},
   "outputs": [
    {
     "data": {
      "text/html": [
       "<div>\n",
       "<style scoped>\n",
       "    .dataframe tbody tr th:only-of-type {\n",
       "        vertical-align: middle;\n",
       "    }\n",
       "\n",
       "    .dataframe tbody tr th {\n",
       "        vertical-align: top;\n",
       "    }\n",
       "\n",
       "    .dataframe thead th {\n",
       "        text-align: right;\n",
       "    }\n",
       "</style>\n",
       "<table border=\"1\" class=\"dataframe\">\n",
       "  <thead>\n",
       "    <tr style=\"text-align: right;\">\n",
       "      <th></th>\n",
       "      <th>SubjectID</th>\n",
       "      <th>Timepoint</th>\n",
       "    </tr>\n",
       "    <tr>\n",
       "      <th>SampleID</th>\n",
       "      <th></th>\n",
       "      <th></th>\n",
       "    </tr>\n",
       "  </thead>\n",
       "  <tbody>\n",
       "    <tr>\n",
       "      <th>TZ1100009</th>\n",
       "      <td>TZ1C1008</td>\n",
       "      <td>1</td>\n",
       "    </tr>\n",
       "    <tr>\n",
       "      <th>TZ1100583</th>\n",
       "      <td>TZ1C1008</td>\n",
       "      <td>2</td>\n",
       "    </tr>\n",
       "    <tr>\n",
       "      <th>TZ1100021</th>\n",
       "      <td>TZ1C1014</td>\n",
       "      <td>1</td>\n",
       "    </tr>\n",
       "    <tr>\n",
       "      <th>TZ1100634</th>\n",
       "      <td>TZ1C1014</td>\n",
       "      <td>2</td>\n",
       "    </tr>\n",
       "    <tr>\n",
       "      <th>TZ1100012</th>\n",
       "      <td>TZ1C1015</td>\n",
       "      <td>1</td>\n",
       "    </tr>\n",
       "  </tbody>\n",
       "</table>\n",
       "</div>"
      ],
      "text/plain": [
       "          SubjectID  Timepoint\n",
       "SampleID                      \n",
       "TZ1100009  TZ1C1008          1\n",
       "TZ1100583  TZ1C1008          2\n",
       "TZ1100021  TZ1C1014          1\n",
       "TZ1100634  TZ1C1014          2\n",
       "TZ1100012  TZ1C1015          1"
      ]
     },
     "execution_count": 5,
     "metadata": {},
     "output_type": "execute_result"
    }
   ],
   "source": [
    "mf[['SubjectID','Timepoint']].head()"
   ]
  },
  {
   "cell_type": "code",
   "execution_count": 6,
   "metadata": {},
   "outputs": [],
   "source": [
    "#mf.SubjectID.value_counts() #TZ1C1381 only has one tp\n",
    "\n",
    "#make sure there are at least two time points per subject\n",
    "subject_id_column = 'SubjectID'\n",
    "ids_to_keep = mf[subject_id_column].value_counts()[mf[subject_id_column].value_counts() > 1].index\n",
    "mf = mf[mf[subject_id_column].isin(ids_to_keep)]"
   ]
  },
  {
   "cell_type": "code",
   "execution_count": 7,
   "metadata": {},
   "outputs": [
    {
     "data": {
      "text/html": [
       "<div>\n",
       "<style scoped>\n",
       "    .dataframe tbody tr th:only-of-type {\n",
       "        vertical-align: middle;\n",
       "    }\n",
       "\n",
       "    .dataframe tbody tr th {\n",
       "        vertical-align: top;\n",
       "    }\n",
       "\n",
       "    .dataframe thead th {\n",
       "        text-align: right;\n",
       "    }\n",
       "</style>\n",
       "<table border=\"1\" class=\"dataframe\">\n",
       "  <thead>\n",
       "    <tr style=\"text-align: right;\">\n",
       "      <th></th>\n",
       "      <th>TZ1100009</th>\n",
       "      <th>TZ1100583</th>\n",
       "      <th>TZ1100021</th>\n",
       "      <th>TZ1100634</th>\n",
       "      <th>TZ1100012</th>\n",
       "      <th>TZ1100633</th>\n",
       "      <th>TZ1100027</th>\n",
       "      <th>TZ1100705</th>\n",
       "      <th>TZ1100026</th>\n",
       "      <th>TZ1100706</th>\n",
       "      <th>...</th>\n",
       "      <th>TZ1105273</th>\n",
       "      <th>TZ1110945</th>\n",
       "      <th>TZ1105117</th>\n",
       "      <th>TZ1111340</th>\n",
       "      <th>TZ1105451</th>\n",
       "      <th>TZ1111109</th>\n",
       "      <th>TZ1105125</th>\n",
       "      <th>TZ1111077</th>\n",
       "      <th>TZ1105149</th>\n",
       "      <th>TZ1111151</th>\n",
       "    </tr>\n",
       "  </thead>\n",
       "  <tbody>\n",
       "    <tr>\n",
       "      <th>rLC_pos_mtb_2172957</th>\n",
       "      <td>225.0</td>\n",
       "      <td>0.0</td>\n",
       "      <td>120.0</td>\n",
       "      <td>410.0</td>\n",
       "      <td>308.0</td>\n",
       "      <td>127.0</td>\n",
       "      <td>360.0</td>\n",
       "      <td>234.0</td>\n",
       "      <td>136.0</td>\n",
       "      <td>261.0</td>\n",
       "      <td>...</td>\n",
       "      <td>283.0</td>\n",
       "      <td>112.0</td>\n",
       "      <td>286.0</td>\n",
       "      <td>275.0</td>\n",
       "      <td>726.0</td>\n",
       "      <td>292.0</td>\n",
       "      <td>106.0</td>\n",
       "      <td>262.0</td>\n",
       "      <td>57.0</td>\n",
       "      <td>58.0</td>\n",
       "    </tr>\n",
       "    <tr>\n",
       "      <th>rLC_pos_mtb_8553707</th>\n",
       "      <td>211.0</td>\n",
       "      <td>305.0</td>\n",
       "      <td>367.0</td>\n",
       "      <td>365.0</td>\n",
       "      <td>243.0</td>\n",
       "      <td>317.0</td>\n",
       "      <td>355.0</td>\n",
       "      <td>240.0</td>\n",
       "      <td>227.0</td>\n",
       "      <td>250.0</td>\n",
       "      <td>...</td>\n",
       "      <td>193.0</td>\n",
       "      <td>180.0</td>\n",
       "      <td>192.0</td>\n",
       "      <td>327.0</td>\n",
       "      <td>495.0</td>\n",
       "      <td>360.0</td>\n",
       "      <td>269.0</td>\n",
       "      <td>302.0</td>\n",
       "      <td>250.0</td>\n",
       "      <td>267.0</td>\n",
       "    </tr>\n",
       "    <tr>\n",
       "      <th>rLC_pos_mtb_154232</th>\n",
       "      <td>26.0</td>\n",
       "      <td>119.0</td>\n",
       "      <td>17.0</td>\n",
       "      <td>262.0</td>\n",
       "      <td>109.0</td>\n",
       "      <td>63.0</td>\n",
       "      <td>35.0</td>\n",
       "      <td>0.0</td>\n",
       "      <td>54.0</td>\n",
       "      <td>15.0</td>\n",
       "      <td>...</td>\n",
       "      <td>0.0</td>\n",
       "      <td>0.0</td>\n",
       "      <td>124.0</td>\n",
       "      <td>85.0</td>\n",
       "      <td>0.0</td>\n",
       "      <td>131.0</td>\n",
       "      <td>0.0</td>\n",
       "      <td>0.0</td>\n",
       "      <td>0.0</td>\n",
       "      <td>21.0</td>\n",
       "    </tr>\n",
       "    <tr>\n",
       "      <th>rLC_pos_mtb_2328983</th>\n",
       "      <td>229.0</td>\n",
       "      <td>137.0</td>\n",
       "      <td>204.0</td>\n",
       "      <td>94.0</td>\n",
       "      <td>204.0</td>\n",
       "      <td>202.0</td>\n",
       "      <td>147.0</td>\n",
       "      <td>225.0</td>\n",
       "      <td>190.0</td>\n",
       "      <td>164.0</td>\n",
       "      <td>...</td>\n",
       "      <td>149.0</td>\n",
       "      <td>208.0</td>\n",
       "      <td>154.0</td>\n",
       "      <td>212.0</td>\n",
       "      <td>206.0</td>\n",
       "      <td>170.0</td>\n",
       "      <td>281.0</td>\n",
       "      <td>179.0</td>\n",
       "      <td>338.0</td>\n",
       "      <td>250.0</td>\n",
       "    </tr>\n",
       "    <tr>\n",
       "      <th>rLC_pos_mtb_2707705</th>\n",
       "      <td>16.0</td>\n",
       "      <td>89.0</td>\n",
       "      <td>323.0</td>\n",
       "      <td>205.0</td>\n",
       "      <td>70.0</td>\n",
       "      <td>117.0</td>\n",
       "      <td>0.0</td>\n",
       "      <td>0.0</td>\n",
       "      <td>289.0</td>\n",
       "      <td>166.0</td>\n",
       "      <td>...</td>\n",
       "      <td>116.0</td>\n",
       "      <td>70.0</td>\n",
       "      <td>140.0</td>\n",
       "      <td>0.0</td>\n",
       "      <td>176.0</td>\n",
       "      <td>263.0</td>\n",
       "      <td>28.0</td>\n",
       "      <td>116.0</td>\n",
       "      <td>0.0</td>\n",
       "      <td>39.0</td>\n",
       "    </tr>\n",
       "  </tbody>\n",
       "</table>\n",
       "<p>5 rows × 400 columns</p>\n",
       "</div>"
      ],
      "text/plain": [
       "                     TZ1100009  TZ1100583  TZ1100021  TZ1100634  TZ1100012  \\\n",
       "rLC_pos_mtb_2172957      225.0        0.0      120.0      410.0      308.0   \n",
       "rLC_pos_mtb_8553707      211.0      305.0      367.0      365.0      243.0   \n",
       "rLC_pos_mtb_154232        26.0      119.0       17.0      262.0      109.0   \n",
       "rLC_pos_mtb_2328983      229.0      137.0      204.0       94.0      204.0   \n",
       "rLC_pos_mtb_2707705       16.0       89.0      323.0      205.0       70.0   \n",
       "\n",
       "                     TZ1100633  TZ1100027  TZ1100705  TZ1100026  TZ1100706  \\\n",
       "rLC_pos_mtb_2172957      127.0      360.0      234.0      136.0      261.0   \n",
       "rLC_pos_mtb_8553707      317.0      355.0      240.0      227.0      250.0   \n",
       "rLC_pos_mtb_154232        63.0       35.0        0.0       54.0       15.0   \n",
       "rLC_pos_mtb_2328983      202.0      147.0      225.0      190.0      164.0   \n",
       "rLC_pos_mtb_2707705      117.0        0.0        0.0      289.0      166.0   \n",
       "\n",
       "                     ...  TZ1105273  TZ1110945  TZ1105117  TZ1111340  \\\n",
       "rLC_pos_mtb_2172957  ...      283.0      112.0      286.0      275.0   \n",
       "rLC_pos_mtb_8553707  ...      193.0      180.0      192.0      327.0   \n",
       "rLC_pos_mtb_154232   ...        0.0        0.0      124.0       85.0   \n",
       "rLC_pos_mtb_2328983  ...      149.0      208.0      154.0      212.0   \n",
       "rLC_pos_mtb_2707705  ...      116.0       70.0      140.0        0.0   \n",
       "\n",
       "                     TZ1105451  TZ1111109  TZ1105125  TZ1111077  TZ1105149  \\\n",
       "rLC_pos_mtb_2172957      726.0      292.0      106.0      262.0       57.0   \n",
       "rLC_pos_mtb_8553707      495.0      360.0      269.0      302.0      250.0   \n",
       "rLC_pos_mtb_154232         0.0      131.0        0.0        0.0        0.0   \n",
       "rLC_pos_mtb_2328983      206.0      170.0      281.0      179.0      338.0   \n",
       "rLC_pos_mtb_2707705      176.0      263.0       28.0      116.0        0.0   \n",
       "\n",
       "                     TZ1111151  \n",
       "rLC_pos_mtb_2172957       58.0  \n",
       "rLC_pos_mtb_8553707      267.0  \n",
       "rLC_pos_mtb_154232        21.0  \n",
       "rLC_pos_mtb_2328983      250.0  \n",
       "rLC_pos_mtb_2707705       39.0  \n",
       "\n",
       "[5 rows x 400 columns]"
      ]
     },
     "execution_count": 7,
     "metadata": {},
     "output_type": "execute_result"
    }
   ],
   "source": [
    "table_df.head()"
   ]
  },
  {
   "cell_type": "code",
   "execution_count": 8,
   "metadata": {},
   "outputs": [
    {
     "name": "stdout",
     "output_type": "stream",
     "text": [
      "0\n",
      "0\n",
      "0\n"
     ]
    }
   ],
   "source": [
    "print(table_df.isna().sum().sum())\n",
    "print(table_df.isnull().sum().sum())\n",
    "print(np.isnan(table_array).sum())"
   ]
  },
  {
   "cell_type": "code",
   "execution_count": 9,
   "metadata": {},
   "outputs": [
    {
     "name": "stdout",
     "output_type": "stream",
     "text": [
      "There are 1147788 zeros in the array\n",
      "The min value (excluding 0) in the array is 1.0\n",
      "0.10000087997853935\n",
      "0.10000087997853935\n"
     ]
    }
   ],
   "source": [
    "#step 1: imputation\n",
    "random.seed(100)\n",
    "#draw from unif distribution with low=min(table)/10 and high=min(table)\n",
    "zero_len = len(table_array[table_array==0])\n",
    "print(\"There are {} zeros in the array\".format(zero_len))\n",
    "min_value = table_array[table_array!=0].min()\n",
    "print(\"The min value (excluding 0) in the array is {}\".format(min_value))\n",
    "rand_array = np.random.uniform(low=min_value/10, high=min_value, size=zero_len)\n",
    "table_array[table_array==0] = rand_array\n",
    "#sanity check\n",
    "print(rand_array.min())\n",
    "print(table_array.min())"
   ]
  },
  {
   "cell_type": "code",
   "execution_count": 10,
   "metadata": {},
   "outputs": [
    {
     "name": "stdout",
     "output_type": "stream",
     "text": [
      "[[ 2.35218252 -0.105632    2.07918125 ...  2.41830129  1.75587486\n",
      "   1.76342799]\n",
      " [ 2.32428246  2.48429984  2.56466606 ...  2.48000694  2.39794001\n",
      "   2.42651126]\n",
      " [ 1.41497335  2.07554696  1.23044892 ... -0.02288001 -0.14172901\n",
      "   1.32221929]\n",
      " ...\n",
      " [ 5.29469103  4.76348041  5.59779497 ...  5.25111968  5.80039055\n",
      "   5.6057951 ]\n",
      " [ 6.35179785  5.91253079  6.48691664 ...  6.40112971  6.62495066\n",
      "   6.53909618]\n",
      " [ 6.05424793  6.1355413   6.06657264 ...  5.94143341  5.66074409\n",
      "   5.26296103]]\n"
     ]
    }
   ],
   "source": [
    "#step 2: log10 transform the data\n",
    "table_array = np.log10(table_array)\n",
    "print(table_array)"
   ]
  },
  {
   "cell_type": "code",
   "execution_count": 11,
   "metadata": {},
   "outputs": [
    {
     "name": "stdout",
     "output_type": "stream",
     "text": [
      "[[ 0.41179637 -2.53180292  0.08483665 ...  0.49098346 -0.30237095\n",
      "  -0.29332494]\n",
      " [-0.7506379   0.07742948  0.49331335 ...  0.05521435 -0.36947046\n",
      "  -0.22161826]\n",
      " [ 0.13968135  0.76355088 -0.03459017 ... -1.21827921 -1.33052449\n",
      "   0.05208108]\n",
      " ...\n",
      " [ 0.02935644 -1.29311522  0.78394672 ... -0.07911631  1.2883171\n",
      "   0.80386339]\n",
      " [ 0.01060459 -1.08375252  0.34722945 ...  0.1335063   0.69111708\n",
      "   0.47722565]\n",
      " [ 0.18007595  0.42075484  0.21656476 ... -0.1539251  -0.98493988\n",
      "  -2.16262485]]\n"
     ]
    }
   ],
   "source": [
    "#step 3: scale the data row-wise (feature-level)\n",
    "table_array_scaled = scale(table_array, axis=1)\n",
    "print(table_array_scaled)"
   ]
  },
  {
   "cell_type": "code",
   "execution_count": 12,
   "metadata": {},
   "outputs": [],
   "source": [
    "#step 4: turn back into biom table\n",
    "table_transformed = biom.Table(table_array_scaled, \n",
    "                               table_df.index, \n",
    "                               table_df.columns)\n",
    "#save\n",
    "with biom_open('{}/{}_transformed.biom'.format(read_path, cohort), 'w') as f:  \n",
    "   table_transformed.to_hdf5(f, 'sapient-norm')"
   ]
  },
  {
   "cell_type": "code",
   "execution_count": 13,
   "metadata": {},
   "outputs": [
    {
     "name": "stderr",
     "output_type": "stream",
     "text": [
      "/var/folders/wc/r9njmvn106j5gvr496l3xw65jl16p6/T/ipykernel_15429/1741911070.py:2: FutureWarning: The behavior of .astype from SparseDtype to a non-sparse dtype is deprecated. In a future version, this will return a non-sparse array with the requested dtype. To retain the old behavior, use `obj.astype(SparseDtype(dtype))`\n",
      "  table_transformed.to_dataframe().to_csv('{}/{}_transformed.csv'.format(read_path, cohort))\n"
     ]
    }
   ],
   "source": [
    "#save transformed table as csv\n",
    "table_transformed.to_dataframe().to_csv('{}/{}_transformed.csv'.format(read_path, cohort))"
   ]
  },
  {
   "cell_type": "markdown",
   "metadata": {},
   "source": [
    "### TEMPTED"
   ]
  },
  {
   "cell_type": "code",
   "execution_count": 14,
   "metadata": {},
   "outputs": [],
   "source": [
    "from gemelli.tempted import (tempted_factorize, tempted)\n",
    "#from gemelli.preprocessing import clr_transformation"
   ]
  },
  {
   "cell_type": "code",
   "execution_count": 15,
   "metadata": {},
   "outputs": [
    {
     "name": "stdout",
     "output_type": "stream",
     "text": [
      "[[ 0.41179637 -2.53180292  0.08483665  0.72390532  0.57511762]\n",
      " [-0.7506379   0.07742948  0.49331335  0.48103238 -0.43329579]\n",
      " [ 0.13968135  0.76355088 -0.03459017  1.08726043  0.72754854]\n",
      " [ 0.71558626 -0.58530364  0.42286003 -1.53914444  0.42286003]\n",
      " [-0.41373449  0.3592481   0.93987703  0.73508631  0.25107808]]\n",
      "(60608, 400)\n"
     ]
    }
   ],
   "source": [
    "print(table_transformed.to_dataframe().values[0:5,0:5])\n",
    "print(table_transformed.to_dataframe().values.shape)"
   ]
  },
  {
   "cell_type": "code",
   "execution_count": 16,
   "metadata": {},
   "outputs": [
    {
     "name": "stdout",
     "output_type": "stream",
     "text": [
      "Mins: -581422.5447798315 -1.3444585722499625e-11\n"
     ]
    }
   ],
   "source": [
    "min_sample_count=table_transformed.sum(axis='sample').min()\n",
    "min_feature_count=table_transformed.sum(axis='observation').min()\n",
    "print(\"Mins:\", min_sample_count, min_feature_count)"
   ]
  },
  {
   "cell_type": "code",
   "execution_count": 17,
   "metadata": {},
   "outputs": [
    {
     "name": "stdout",
     "output_type": "stream",
     "text": [
      "Prop explained: [0.03588002 0.03378489 0.01754175]\n",
      "Prop explained argsort: [0 1 2]\n",
      "Eigenvalues pre-sorting: [5450.69337197 3056.66910576 2163.1725716 ]\n",
      "Eigenvalues post-sorting: [5450.69337197 3056.66910576 2163.1725716 ]\n"
     ]
    }
   ],
   "source": [
    "tempted_res = tempted(table=table_transformed.copy(), \n",
    "                      sample_metadata=mf,\n",
    "                      individual_id_column='SubjectID', \n",
    "                      state_column='Timepoint',\n",
    "                      min_sample_count=min_sample_count-1, #add -1 to avoid filtering error\n",
    "                      min_feature_count=min_feature_count,\n",
    "                      transformation=lambda x: x)"
   ]
  },
  {
   "cell_type": "code",
   "execution_count": 18,
   "metadata": {},
   "outputs": [
    {
     "data": {
      "image/png": "[encoded data removed]",
      "text/plain": [
       "<Figure size 2000x400 with 3 Axes>"
      ]
     },
     "metadata": {},
     "output_type": "display_data"
    }
   ],
   "source": [
    "#feature loadings\n",
    "comp1 = 'PC1'\n",
    "comp2 = 'PC2'\n",
    "\n",
    "fig, axn = plt.subplots(1, 3, figsize=(20, 4), sharey=False)\n",
    "axn[0].plot(tempted_res[1][['PC1', 'PC2', 'PC3']])\n",
    "axn[0].set_title('Temporal Loadings', fontsize=14)\n",
    "axn[0].legend(['PC1', 'PC2', 'PC3'])\n",
    "axn[1].scatter(tempted_res[0].samples[comp1],\n",
    "               tempted_res[0].samples[comp2])\n",
    "axn[1].set_title('Individual Loadings', fontsize=14)\n",
    "axn[2].scatter(tempted_res[0].features[comp1],\n",
    "               tempted_res[0].features[comp2])\n",
    "axn[2].set_title('Feature Loadings', fontsize=14)\n",
    "plt.suptitle('TEMPTED results', fontsize=16, y=1.02)\n",
    "plt.setp(axn, xlabel=comp1.replace('_', ' '), \n",
    "         ylabel=comp2.replace('_', ' '))\n",
    "plt.show()"
   ]
  },
  {
   "cell_type": "code",
   "execution_count": 19,
   "metadata": {},
   "outputs": [],
   "source": [
    "# %%bash\n",
    "# biom convert \\\n",
    "#   -i Misame_transformed.biom \\\n",
    "#   -o Misame_transformed.hd5.biom \\\n",
    "#   --to-hdf5"
   ]
  },
  {
   "cell_type": "code",
   "execution_count": 20,
   "metadata": {},
   "outputs": [],
   "source": [
    "##save to dir\n",
    "tempted_res[0].features.to_csv('{}/{}_subject_ordination.csv'.format(save_path, cohort))\n",
    "tempted_res[1].to_csv('{}/{}_state_loadings.csv'.format(save_path, cohort))\n",
    "# tempted_res[2].write('{}/{}_distance_matrix.qza'.format(save_path, cohort))\n",
    "# tempted_res[3].to_csv('{}/{}_svd_center.csv'.format(save_path, cohort))"
   ]
  }
 ],
 "metadata": {
  "kernelspec": {
   "display_name": "qiime2-amplicon-2024.2",
   "language": "python",
   "name": "python3"
  },
  "language_info": {
   "codemirror_mode": {
    "name": "ipython",
    "version": 3
   },
   "file_extension": ".py",
   "mimetype": "text/x-python",
   "name": "python",
   "nbconvert_exporter": "python",
   "pygments_lexer": "ipython3",
   "version": "3.8.18"
  }
 },
 "nbformat": 4,
 "nbformat_minor": 2
}
