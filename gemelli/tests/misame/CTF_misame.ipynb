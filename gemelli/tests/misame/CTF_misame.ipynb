{
 "cells": [
  {
   "cell_type": "markdown",
   "metadata": {},
   "source": [
    "Use qiime2-ctf2 kernel"
   ]
  },
  {
   "cell_type": "code",
   "execution_count": 3,
   "metadata": {
    "vscode": {
     "languageId": "shellscript"
    }
   },
   "outputs": [],
   "source": [
    "%%bash\n",
    "biom convert \\\n",
    "  -i Misame_raw2.biom \\\n",
    "  -o Misame_raw2.hd5.biom \\\n",
    "  --to-hdf5\n",
    "\n",
    "#qiime tools import --type 'FeatureTable[Frequency]' --input-path Misame_raw2.biom --output-path Misame_raw2.qza"
   ]
  },
  {
   "cell_type": "code",
   "execution_count": 4,
   "metadata": {
    "vscode": {
     "languageId": "shellscript"
    }
   },
   "outputs": [
    {
     "name": "stdout",
     "output_type": "stream",
     "text": [
      "Imported Misame_raw2.hd5.biom as BIOMV210DirFmt to Misame_raw2.qza\n"
     ]
    }
   ],
   "source": [
    "%%bash\n",
    "qiime tools import --type 'FeatureTable[Frequency]' --input-path Misame_raw2.hd5.biom --output-path Misame_raw2.qza"
   ]
  },
  {
   "cell_type": "code",
   "execution_count": 1,
   "metadata": {
    "vscode": {
     "languageId": "shellscript"
    }
   },
   "outputs": [
    {
     "name": "stderr",
     "output_type": "stream",
     "text": [
      "QIIME is caching your current deployment for improved performance. This may take a few moments and should only happen once per deployment.\n"
     ]
    },
    {
     "name": "stdout",
     "output_type": "stream",
     "text": [
      "Saved PCoAResults % Properties('biplot') to: CTF_out/misame_raw_v3/subject_biplot.qza\n",
      "Saved PCoAResults % Properties('biplot') to: CTF_out/misame_raw_v3/state_biplot.qza\n",
      "Saved DistanceMatrix to: CTF_out/misame_raw_v3/distance_matrix.qza\n",
      "Saved SampleData[SampleTrajectory] to: CTF_out/misame_raw_v3/state_subject_ordination.qza\n",
      "Saved FeatureData[FeatureTrajectory] to: CTF_out/misame_raw_v3/state_feature_ordination.qza\n"
     ]
    }
   ],
   "source": [
    "%%bash\n",
    "qiime gemelli ctf --i-table Misame_raw2.qza --m-sample-metadata-file CTF_sample_metadata.tsv --p-state-column Timepoint --p-individual-id-column SubjectID --output-dir CTF_out/misame_raw_v3\n",
    "#    --m-feature-metadata-file taxa_table.qza # add taxa data\n"
   ]
  },
  {
   "cell_type": "code",
   "execution_count": 2,
   "metadata": {
    "vscode": {
     "languageId": "shellscript"
    }
   },
   "outputs": [
    {
     "name": "stdout",
     "output_type": "stream",
     "text": [
      "\u001b[32mSaved Visualization to: CTF_out/misame_raw_v3/longitudinal_volatility.qzv\u001b[0m\n",
      "\u001b[0m"
     ]
    }
   ],
   "source": [
    "!qiime longitudinal volatility \\\n",
    "    --m-metadata-file CTF_out/misame_raw_v3/state_subject_ordination.qza \\\n",
    "    --p-state-column Timepoint \\\n",
    "    --p-individual-id-column subject_id \\\n",
    "    --p-default-group-column ARM \\\n",
    "    --p-default-metric PC1 \\\n",
    "    --o-visualization CTF_out/misame_raw_v3/longitudinal_volatility.qzv"
   ]
  },
  {
   "cell_type": "markdown",
   "metadata": {},
   "source": [
    "Switch to qiime2-2020.6 kernel!"
   ]
  },
  {
   "cell_type": "code",
   "execution_count": 1,
   "metadata": {
    "vscode": {
     "languageId": "shellscript"
    }
   },
   "outputs": [
    {
     "name": "stdout",
     "output_type": "stream",
     "text": [
      "Archive:  CTF_out/misame_raw_v3/subject_biplot.qza\n",
      "  inflating: CTF_out/misame_raw_v3/biplot_unzipped/96c02cca-c980-4f55-9d2a-ec11552320e1/checksums.md5  \n",
      "  inflating: CTF_out/misame_raw_v3/biplot_unzipped/96c02cca-c980-4f55-9d2a-ec11552320e1/metadata.yaml  \n",
      "  inflating: CTF_out/misame_raw_v3/biplot_unzipped/96c02cca-c980-4f55-9d2a-ec11552320e1/VERSION  \n",
      "  inflating: CTF_out/misame_raw_v3/biplot_unzipped/96c02cca-c980-4f55-9d2a-ec11552320e1/data/ordination.txt  \n",
      "  inflating: CTF_out/misame_raw_v3/biplot_unzipped/96c02cca-c980-4f55-9d2a-ec11552320e1/provenance/citations.bib  \n",
      "  inflating: CTF_out/misame_raw_v3/biplot_unzipped/96c02cca-c980-4f55-9d2a-ec11552320e1/provenance/metadata.yaml  \n",
      "  inflating: CTF_out/misame_raw_v3/biplot_unzipped/96c02cca-c980-4f55-9d2a-ec11552320e1/provenance/VERSION  \n",
      "  inflating: CTF_out/misame_raw_v3/biplot_unzipped/96c02cca-c980-4f55-9d2a-ec11552320e1/provenance/action/action.yaml  \n",
      "  inflating: CTF_out/misame_raw_v3/biplot_unzipped/96c02cca-c980-4f55-9d2a-ec11552320e1/provenance/action/sample_metadata.tsv  \n",
      "  inflating: CTF_out/misame_raw_v3/biplot_unzipped/96c02cca-c980-4f55-9d2a-ec11552320e1/provenance/artifacts/ebffa9ef-47ff-4546-adea-d89b2b164e6d/citations.bib  \n",
      "  inflating: CTF_out/misame_raw_v3/biplot_unzipped/96c02cca-c980-4f55-9d2a-ec11552320e1/provenance/artifacts/ebffa9ef-47ff-4546-adea-d89b2b164e6d/metadata.yaml  \n",
      "  inflating: CTF_out/misame_raw_v3/biplot_unzipped/96c02cca-c980-4f55-9d2a-ec11552320e1/provenance/artifacts/ebffa9ef-47ff-4546-adea-d89b2b164e6d/VERSION  \n",
      "  inflating: CTF_out/misame_raw_v3/biplot_unzipped/96c02cca-c980-4f55-9d2a-ec11552320e1/provenance/artifacts/ebffa9ef-47ff-4546-adea-d89b2b164e6d/action/action.yaml  \n"
     ]
    }
   ],
   "source": [
    "!unzip CTF_out/misame_raw_v3/subject_biplot.qza -d CTF_out/misame_raw_v3/biplot_unzipped"
   ]
  },
  {
   "cell_type": "code",
   "execution_count": 2,
   "metadata": {
    "vscode": {
     "languageId": "shellscript"
    }
   },
   "outputs": [
    {
     "name": "stdout",
     "output_type": "stream",
     "text": [
      "\u001b[32mImported CTF_out/misame_raw_v3/biplot_unzipped/96c02cca-c980-4f55-9d2a-ec11552320e1/data/ordination.txt as OrdinationDirectoryFormat to CTF_out/misame_raw_v3/new_subject_biplot.qza\u001b[0m\n",
      "\u001b[33mQIIME is caching your current deployment for improved performance. This may take a few moments and should only happen once per deployment.\u001b[0m\n",
      "\u001b[32mSaved Visualization to: CTF_out/misame_raw_v3/qurro.qzv\u001b[0m\n"
     ]
    }
   ],
   "source": [
    "!qiime tools import \\\n",
    "  --type 'PCoAResults % Properties(\"biplot\")' \\\n",
    "  --input-path CTF_out/misame_raw_v3/biplot_unzipped/96c02cca-c980-4f55-9d2a-ec11552320e1/data/ordination.txt \\\n",
    "  --output-path CTF_out/misame_raw_v3/new_subject_biplot.qza\n",
    "\n",
    "!qiime qurro loading-plot \\\n",
    "  --i-table Misame_raw2.qza \\\n",
    "  --i-ranks CTF_out/misame_raw_v3/new_subject_biplot.qza \\\n",
    "  --m-sample-metadata-file CTF_sample_metadata.tsv \\\n",
    "  --o-visualization CTF_out/misame_raw_v3/qurro.qzv\n",
    "    #--m-feature-metadata-file taxa_table.qza "
   ]
  }
 ],
 "metadata": {
  "kernelspec": {
   "display_name": "gemelli",
   "language": "python",
   "name": "python3"
  },
  "language_info": {
   "codemirror_mode": {
    "name": "ipython",
    "version": 3
   },
   "file_extension": ".py",
   "mimetype": "text/x-python",
   "name": "python",
   "nbconvert_exporter": "python",
   "pygments_lexer": "ipython3",
   "version": "3.6.10"
  }
 },
 "nbformat": 4,
 "nbformat_minor": 2
}
