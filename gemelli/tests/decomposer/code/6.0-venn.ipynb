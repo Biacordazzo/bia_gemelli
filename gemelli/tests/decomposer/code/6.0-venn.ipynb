{
 "cells": [
  {
   "cell_type": "code",
   "execution_count": 2,
   "metadata": {},
   "outputs": [],
   "source": [
    "import numpy as np\n",
    "# hide numpy log warning\n",
    "np.seterr(divide = 'ignore') \n",
    "import pandas as pd\n",
    "import warnings\n",
    "import seaborn as sns\n",
    "import matplotlib.pyplot as plt\n",
    "import json\n",
    "\n",
    "from skbio import OrdinationResults\n",
    "from biom import load_table\n",
    "from matplotlib_venn import venn2\n",
    "from matplotlib_venn.layout.venn2 import DefaultLayoutAlgorithm as Venn2Layout\n",
    "\n",
    "# hide pandas Future/Deprecation Warning(s) for tutorial\n",
    "warnings.filterwarnings(\"ignore\", category=DeprecationWarning) \n",
    "warnings.simplefilter(action='ignore', category=FutureWarning)\n",
    "# plotting\n",
    "plt.style.use('ggplot')\n",
    "sns.set_style('white')\n",
    "%matplotlib inline"
   ]
  },
  {
   "cell_type": "markdown",
   "metadata": {},
   "source": [
    "## Define functions"
   ]
  },
  {
   "cell_type": "code",
   "execution_count": 3,
   "metadata": {},
   "outputs": [],
   "source": [
    "def rename_feats(features_to_use, taxonomy_18s_nosp,\n",
    "                 taxonomy_mag, metab_ids, tables):\n",
    "    \n",
    "    index_dict = {'metabolite': [], \n",
    "                  'mag': [], \n",
    "                  '18S': [], \n",
    "                  'gene_module': [],\n",
    "                  'metabolomics': []}\n",
    "    modality_map = {}\n",
    "\n",
    "    for ind_ in features_to_use:\n",
    "        if ind_ in taxonomy_18s_nosp.index:\n",
    "            label_ = taxonomy_18s_nosp.loc[ind_, :].dropna()\n",
    "            label_ = label_.values[-1] + ' (' + label_.index[-1] + ')'\n",
    "            index_dict['18S'].append((ind_, label_))\n",
    "            modality_map[label_] = 'Eukaryotes (18S)'\n",
    "\n",
    "        elif ind_ in taxonomy_mag.index:\n",
    "            label_ = taxonomy_mag.loc[ind_, :].dropna()\n",
    "            label_ = label_.values[-1] + ' (' + label_.index[-1] + ')'\n",
    "            index_dict['mag'].append((ind_, label_))\n",
    "            modality_map[label_] = 'Bacterial Genomes (MetaG)'\n",
    "            \n",
    "        elif ind_ in metab_ids.index:\n",
    "            label_ = metab_ids.loc[ind_, 'most specific class']\n",
    "            index_dict['metabolite'].append((ind_, label_))\n",
    "            modality_map[label_] = 'Metabolites'\n",
    "            \n",
    "        else:\n",
    "            if ind_ in tables['mag'].ids('observation'):\n",
    "                index_dict['mag'].append((ind_, ind_))\n",
    "                modality_map[ind_] = 'Bacterial Genomes (MetaG)'\n",
    "            elif ind_ in tables['18S'].ids('observation'):\n",
    "                index_dict['18S'].append((ind_, ind_))\n",
    "                modality_map[ind_] = 'Eukaryotes (18S)'\n",
    "            elif ind_ in tables['gene_module'].ids('observation'):\n",
    "                index_dict['gene_module'].append((ind_, ind_))\n",
    "                modality_map[ind_] = 'Functions (MetaG)'\n",
    "            elif ind_ in tables['metabolomics'].ids('observation'):\n",
    "                index_dict['metabolomics'].append((ind_, ind_))\n",
    "                modality_map[ind_] = 'Metabolites'\n",
    "\n",
    "    #clean lists in index_dict\n",
    "    for modality, feature in index_dict.items():\n",
    "        #clean_lst = ['drop' if len(str(i_)) == 0 else i_ for i_ in feature]\n",
    "        #clean_lst = ['drop' if str(i_) == 'nan' else i_ for i_ in clean_lst]\n",
    "        clean_lst = [(i_[0], i_[1].replace('_',' ')) for i_ in feature]\n",
    "        #drop features\n",
    "        index_dict[modality] = [i_ for i_ in clean_lst if i_ != 'drop']\n",
    "\n",
    "    return index_dict"
   ]
  },
  {
   "cell_type": "markdown",
   "metadata": {},
   "source": [
    "## Load data"
   ]
  },
  {
   "cell_type": "code",
   "execution_count": 4,
   "metadata": {},
   "outputs": [],
   "source": [
    "#load joint-rpca results\n",
    "ord_joint = OrdinationResults.read('../results/joint-rpca/Original/ord.txt')\n",
    "#load shared metadata\n",
    "#metadata = pd.read_csv('../network/split-matched-data/metadata_knn.tsv', index_col=0, sep='\\t')"
   ]
  },
  {
   "cell_type": "code",
   "execution_count": 5,
   "metadata": {},
   "outputs": [],
   "source": [
    "# import the rest\n",
    "all_tables = {'18S':'../data/split-matched-data/18S.biom',\n",
    "              'mag':'../data/split-matched-data/mag.biom',\n",
    "              'gene':'../data/split-matched-data/gene.biom',\n",
    "              'gene_module':'../data/split-matched-data/gene_module.biom',\n",
    "              'metabolite':'../data/split-matched-data/metabolite.biom',\n",
    "              'metabolomics':'../data/split-matched-data/metabolomics.biom'}\n",
    "\n",
    "tables = {}\n",
    "for tbl_id, tbl_path in all_tables.items():\n",
    "    tables[tbl_id] = load_table(tbl_path)"
   ]
  },
  {
   "cell_type": "code",
   "execution_count": 6,
   "metadata": {},
   "outputs": [],
   "source": [
    "# annots for tables\n",
    "taxonomy_18s = pd.read_csv('../data/annotations/18S_taxonomy.tsv', sep='\\t', index_col=0)\n",
    "taxonomy_18s = {k:{z.split('__')[0]:z.split('__')[-1]\n",
    "               for z in x.split(';')} for k, x in zip(taxonomy_18s.index, taxonomy_18s.Taxon.values)}\n",
    "taxonomy_18s = pd.DataFrame(taxonomy_18s).T\n",
    "taxonomy_18s_nosp = taxonomy_18s.drop([' s'], axis=1)\n",
    "\n",
    "taxonomy_mag = pd.read_csv('../data/annotations/MAG_taxonomy.tsv', sep='\\t', index_col=0)\n",
    "taxonomy_mag = {k:{z.split('__')[0]:z.split('__')[-1]\n",
    "               for z in x.split(';')} for k, x in zip(taxonomy_mag.index, taxonomy_mag.Taxon.values)}\n",
    "taxonomy_mag = pd.DataFrame(taxonomy_mag).T\n",
    "taxonomy_mag[taxonomy_mag == ''] = np.nan\n",
    "\n",
    "metab_ids = pd.read_excel('../data/metabolite_formulas.xlsx', index_col=0)\n",
    "metab_ids.index = ['metab_' + str(x) for x in metab_ids.index]\n",
    "metab_ids_class = metab_ids.dropna(subset=['most specific class'])"
   ]
  },
  {
   "cell_type": "code",
   "execution_count": 7,
   "metadata": {},
   "outputs": [],
   "source": [
    "bt_tmp = tables['metabolite']\n",
    "keep_metab = set(metab_ids_class.index) & set(bt_tmp.ids('observation'))\n",
    "bt_tmp = bt_tmp.filter(keep_metab, axis='observation')\n",
    "#df_tmp = df_tmp.loc[list(keep_metab), :]\n",
    "#ord_tmp = ord_tmp.loc[list(keep_metab), :].sort_values(by=axis_use)\n",
    "tables['metabolite'] = bt_tmp\n",
    "#tables['metabolite'] = [bt_tmp, df_tmp, ord_tmp]"
   ]
  },
  {
   "cell_type": "code",
   "execution_count": 8,
   "metadata": {},
   "outputs": [
    {
     "name": "stdout",
     "output_type": "stream",
     "text": [
      "Not in ordination results: 42\n",
      "In ordination results: 5431\n"
     ]
    }
   ],
   "source": [
    "#retrieve feature loadings from joint-rpca\n",
    "joint_features = ord_joint.features\n",
    "\n",
    "#for 18S, need to make sure features are in the original table\n",
    "not_in_ord_18S = []\n",
    "in_ord_18S = []\n",
    "\n",
    "for id in tables['18S'].ids(axis='observation'):\n",
    "    if id not in joint_features.index:\n",
    "        not_in_ord_18S.append(id)\n",
    "    else:\n",
    "        in_ord_18S.append(id)\n",
    "print(\"Not in ordination results: %i\" % len(not_in_ord_18S))\n",
    "print(\"In ordination results: %i\" % len(in_ord_18S))\n",
    "\n",
    "#keep only common features\n",
    "tables['18S'] = tables['18S'].filter(ids_to_keep=in_ord_18S, axis='observation')"
   ]
  },
  {
   "cell_type": "markdown",
   "metadata": {},
   "source": [
    "## RPCA and Joint-RPCA\n",
    "Top 20 and bottom 20 features"
   ]
  },
  {
   "cell_type": "code",
   "execution_count": 9,
   "metadata": {},
   "outputs": [],
   "source": [
    "#load json files\n",
    "with open('../results/joint-rpca/network/joint_decomposer_feats.json', 'r') as f:\n",
    "    joint_feats = json.load(f)\n",
    "\n",
    "with open('../results/joint-rpca/network/rpca_decomposer_feats.json', 'r') as f:\n",
    "    rpca_feats = json.load(f)"
   ]
  },
  {
   "cell_type": "code",
   "execution_count": 47,
   "metadata": {},
   "outputs": [
    {
     "data": {
      "image/png": "[encoded data removed]",
      "text/plain": [
       "<Figure size 800x700 with 4 Axes>"
      ]
     },
     "metadata": {},
     "output_type": "display_data"
    },
    {
     "name": "stdout",
     "output_type": "stream",
     "text": [
      "Overlapping features:\n",
      "{'metabolite': {'metab_443', 'metab_150', 'metab_2750'}, 'mag': {'CMU.bins.224', 'SHSU.bins.319', 'SHSU.bins.175', 'UTK.bins.50', 'CMU_advanced.final.11', 'UTK.bins.71', 'SHSU_advanced.final.35', 'UTK_active.final.26', 'SHSU.bins.42', 'UTK.bins.19', 'CMU.bins.248'}, '18S': set(), 'gene_module': {'0DH:ubiquinone_oxidoreductase_mitochondria', 'Arginine/ornithine_transport_system', 'RNF_complex', 'D0_polymerase_II_complex_archaea', 'Putrescine_transport_system', 'Arginine/lysine/histidine/glutamine_transport_system', 'Tyrosine_biosynthesis_prephanate_to_pretyrosine_to_tyrosine', 'D-Methionine_transport_system', 'Type_I_signiture_cas_proteins', 'Adhesin_protein_transport_system', 'Na_-transporting_0DH:ubiquinone_oxidoreductase-', 'Cytochrome_o_ubiquinol_oxidase', 'Universal_Cas_proteins', 'Trehalose_transport_system', 'Taurine_transport_system'}}\n"
     ]
    }
   ],
   "source": [
    "#plot a venn diagram per omic\n",
    "omic_title = {'18S': '18S', 'mag': 'MAG', \n",
    "              'gene_module': 'Gene Module', 'metabolite': 'Metabolite'}\n",
    "overlap_feats_omic = {}\n",
    "rpca_only_feats = {}\n",
    "joint_only_feats = {}\n",
    "#define direction for each omic\n",
    "#e.g. num features = advanced, denom features = initial \n",
    "direction = {'metabolite': 0, 'mag': 0,\n",
    "             '18S': 0, 'gene_module': 0}\n",
    "\n",
    "#RPCA\n",
    "fig, axn = plt.subplots(2, 2, figsize=(8, 7))\n",
    "#reduce padding between subplots\n",
    "plt.subplots_adjust(wspace=0.2, hspace=-0.3)\n",
    "\n",
    "for ax_, omic_id in zip(axn.flatten(), joint_feats.keys()):\n",
    "    \n",
    "   ##check overlap between\n",
    "   rpca_dir = direction[omic_id]\n",
    "   rpca_feats_all = rpca_feats[omic_id][rpca_dir]\n",
    "   joint_feats_all = joint_feats[omic_id][1]\n",
    "\n",
    "   #find overlap\n",
    "   overlap_feats = set(rpca_feats_all).intersection(set(joint_feats_all))\n",
    "   overlap_feats_omic[omic_id] = overlap_feats\n",
    "\n",
    "   #find unique features\n",
    "   rpca_only = set(rpca_feats_all) - set(joint_feats_all)\n",
    "   joint_only = set(joint_feats_all) - set(rpca_feats_all)\n",
    "   rpca_only_feats[omic_id] = rpca_only\n",
    "   joint_only_feats[omic_id] = joint_only\n",
    "\n",
    "   #plot venn diagram                  \n",
    "   a = len(rpca_feats_all) - len(overlap_feats)\n",
    "   b = len(overlap_feats)\n",
    "   c = len(joint_feats_all) - len(overlap_feats)\n",
    "\n",
    "   #v = venn2_unweighted(subsets=(a, c, b), set_labels=('RPCA', 'Joint-RPCA'), ax=ax_,\n",
    "   #                     set_colors=('tab:purple', 'tab:blue'), alpha=0.5)\n",
    "   v = venn2(subsets=(a, c, b), set_labels=('RPCA', 'Joint-RPCA'), ax=ax_,\n",
    "             layout_algorithm=Venn2Layout(fixed_subset_sizes=(1,1,1)),\n",
    "             set_colors=('tab:purple', 'tab:blue'), alpha=0.5)\n",
    "   \n",
    "   #remove 'RPCA', 'Joint-RPCA' for first 2 subplots\n",
    "   if (omic_id == 'metabolite') or (omic_id == 'mag'):\n",
    "      v.set_labels[0].set_text('')\n",
    "      v.set_labels[1].set_text('')\n",
    "   else:\n",
    "      for text in v.set_labels:\n",
    "         text.set_fontsize(14)\n",
    "      #v.set_labels[0].set_text('')\n",
    "      #v.set_labels[1].set_text('')\n",
    "\n",
    "   for text in v.set_labels:\n",
    "      text.set_fontsize(14)\n",
    "      \n",
    "   for text in v.subset_labels:\n",
    "      text.set_fontsize(14)\n",
    "      text.set_fontweight('bold')\n",
    "\n",
    "   #manually add title\n",
    "   ax_.text(0.5, 0.95, omic_title[omic_id], \n",
    "            horizontalalignment='center', fontsize=16, fontweight='bold', transform=ax_.transAxes)\n",
    "   #ax_.set_title(omic_title[omic_id], weight='bold')\n",
    "   plt.suptitle('Overlap of key features in ADD axis', \n",
    "               fontsize=16, x=0.5, y=0.87)\n",
    "\n",
    "plt.savefig('../results/joint-rpca/figures/rpca-venns-hq.pdf', \n",
    "           dpi=600, bbox_inches='tight', format='pdf')\n",
    "plt.show()\n",
    "\n",
    "print(\"Overlapping features:\")\n",
    "print(overlap_feats_omic)"
   ]
  },
  {
   "cell_type": "code",
   "execution_count": 11,
   "metadata": {},
   "outputs": [],
   "source": [
    "#concat all key features in dictionary\n",
    "all_overlap_feats = []\n",
    "all_feats_rpca = []\n",
    "all_feats_joint = []\n",
    "\n",
    "for omic_id in overlap_feats_omic.keys():\n",
    "    all_overlap_feats.extend(overlap_feats_omic[omic_id])\n",
    "    all_feats_rpca.extend(rpca_only_feats[omic_id])\n",
    "    all_feats_joint.extend(joint_only_feats[omic_id])"
   ]
  },
  {
   "cell_type": "code",
   "execution_count": 12,
   "metadata": {},
   "outputs": [],
   "source": [
    "#rename features using available annotations\n",
    "rpca_feats_renamed = rename_feats(all_feats_rpca, taxonomy_18s_nosp, taxonomy_mag, metab_ids, tables)\n",
    "joint_feats_renamed = rename_feats(all_feats_joint, taxonomy_18s_nosp, taxonomy_mag, metab_ids, tables)\n",
    "overlap_feats_renamed = rename_feats(all_overlap_feats, taxonomy_18s_nosp, taxonomy_mag, metab_ids, tables)"
   ]
  },
  {
   "cell_type": "code",
   "execution_count": 13,
   "metadata": {},
   "outputs": [],
   "source": [
    "#remove redundant features\n",
    "del rpca_feats_renamed['metabolomics']\n",
    "del joint_feats_renamed['metabolomics']"
   ]
  },
  {
   "cell_type": "code",
   "execution_count": 14,
   "metadata": {},
   "outputs": [],
   "source": [
    "#create a table with all features and their labels\n",
    "all_feats_table = pd.DataFrame(columns=['Feature_ID', 'Label', 'Modality', 'Network'])\n",
    "for modality in joint_feats_renamed.keys():\n",
    "\n",
    "    #add overlapping features\n",
    "    features = joint_feats_renamed[modality] + overlap_feats_renamed[modality]\n",
    "\n",
    "    for ft in features:\n",
    "        network = 'Shared' if ft[0] in all_overlap_feats else 'Joint-RPCA'\n",
    "        all_feats_table = all_feats_table._append({'Feature_ID': ft[0], 'Label': ft[1],\n",
    "                                                   'Modality': modality, 'Network': network}, \n",
    "                                                   ignore_index=True)"
   ]
  },
  {
   "cell_type": "code",
   "execution_count": 15,
   "metadata": {},
   "outputs": [],
   "source": [
    "#export table to csv\n",
    "#all_feats_table.to_csv('../results/joint-rpca/Original/feature_overlap_table.csv', index=False)"
   ]
  },
  {
   "cell_type": "code",
   "execution_count": 16,
   "metadata": {},
   "outputs": [
    {
     "name": "stdout",
     "output_type": "stream",
     "text": [
      "metabolite: 3 overlapped feats\n",
      "[('metab_443', 'Carbamate esters'), ('metab_150', 'Fatty amides'), ('metab_2750', 'Long-chain fatty acids')]\n",
      "\n",
      "mag: 11 overlapped feats\n",
      "[('CMU.bins.224', 'Tissierellales (o)'), ('SHSU.bins.319', 'Catellicoccaceae (f)'), ('SHSU.bins.175', 'Ignatzschineria cameli (s)'), ('UTK.bins.50', 'Peptoniphilaceae (f)'), ('CMU_advanced.final.11', 'Wohlfahrtiimonas chitiniclastica (s)'), ('UTK.bins.71', 'Savagea sp009740415 (s)'), ('SHSU_advanced.final.35', 'Vagococcus A lutrae (s)'), ('UTK_active.final.26', 'Savagea sp009740415 (s)'), ('SHSU.bins.42', 'Planococcaceae (f)'), ('UTK.bins.19', 'Bacteroides E (g)'), ('CMU.bins.248', 'Ignatzschineria larvae (s)')]\n",
      "\n",
      "gene_module: 15 overlapped feats\n",
      "[('0DH:ubiquinone_oxidoreductase_mitochondria', '0DH:ubiquinone oxidoreductase mitochondria'), ('Arginine/ornithine_transport_system', 'Arginine/ornithine transport system'), ('RNF_complex', 'RNF complex'), ('D0_polymerase_II_complex_archaea', 'D0 polymerase II complex archaea'), ('Putrescine_transport_system', 'Putrescine transport system'), ('Arginine/lysine/histidine/glutamine_transport_system', 'Arginine/lysine/histidine/glutamine transport system'), ('Tyrosine_biosynthesis_prephanate_to_pretyrosine_to_tyrosine', 'Tyrosine biosynthesis prephanate to pretyrosine to tyrosine'), ('D-Methionine_transport_system', 'D-Methionine transport system'), ('Type_I_signiture_cas_proteins', 'Type I signiture cas proteins'), ('Adhesin_protein_transport_system', 'Adhesin protein transport system'), ('Na_-transporting_0DH:ubiquinone_oxidoreductase-', 'Na -transporting 0DH:ubiquinone oxidoreductase-'), ('Cytochrome_o_ubiquinol_oxidase', 'Cytochrome o ubiquinol oxidase'), ('Universal_Cas_proteins', 'Universal Cas proteins'), ('Trehalose_transport_system', 'Trehalose transport system'), ('Taurine_transport_system', 'Taurine transport system')]\n",
      "\n"
     ]
    }
   ],
   "source": [
    "for omic_id in overlap_feats_renamed.keys():\n",
    "    if len(overlap_feats_renamed[omic_id]) > 0:\n",
    "        print(\"{}: {} overlapped feats\".format(omic_id,len(overlap_feats_renamed[omic_id])))\n",
    "        print(overlap_feats_renamed[omic_id])\n",
    "        print()"
   ]
  },
  {
   "cell_type": "code",
   "execution_count": 17,
   "metadata": {},
   "outputs": [
    {
     "name": "stdout",
     "output_type": "stream",
     "text": [
      "metabolite\n",
      "16 Joint-RPCA-specific features:\n",
      "{('metab_560', 'Curcuminoids'), ('metab_656', 'Medium-chain fatty acids'), ('metab_476', 'Lineolic acids and derivatives'), ('metab_1884', 'Carboxylic acids'), ('metab_512', 'Fatty acid esters'), ('metab_350', 'Fatty acids and conjugates'), ('metab_1008', 'Lineolic acids and derivatives'), ('metab_2325', 'Benzene and substituted derivatives'), ('metab_907', 'Long-chain fatty acids'), ('metab_487', 'Fatty Acyls'), ('metab_464', 'Lineolic acids and derivatives'), ('metab_685', 'Lineolic acids and derivatives'), ('metab_215', 'Fatty acid esters'), ('metab_1098', 'Lineolic acids and derivatives'), ('metab_669', 'Monosaccharides'), ('metab_2874', 'Medium-chain fatty acids')}\n",
      "\n",
      "16 RPCA-specific features:\n",
      "{('metab_2382', 'Triacylglycerols'), ('metab_856', 'Polyethylene glycols'), ('metab_989', 'Polyethylene glycols'), ('metab_716', 'Heteroaromatic compounds'), ('metab_2470', 'Fatty acyl glycosides of mono- and disaccharides'), ('metab_2401', 'Triacylglycerols'), ('metab_2362', 'Peptides'), ('metab_583', 'Benzodioxoles'), ('metab_2449', 'Cholesterols and derivatives'), ('metab_460', 'Triacylglycerols'), ('metab_566', 'Benzodioxoles'), ('metab_2524', 'Fatty acid esters'), ('metab_1127', 'Polyethylene glycols'), ('metab_2407', 'Triacylglycerols'), ('metab_540', 'Tricarboxylic acids and derivatives'), ('metab_634', 'N-acylpyrrolidines')}\n",
      "\n",
      "mag\n",
      "8 Joint-RPCA-specific features:\n",
      "{('SHSU.bins.450', 'Acinetobacter baumannii B (s)'), ('UTK_active.final.18', 'Oblitimonas alkaliphila (s)'), ('SHSU_active.final.81', 'Bacteroides E (g)'), ('SHSU.bins.50', 'Klebsiella pneumoniae (s)'), ('UTK.bins.107', 'Acinetobacter rudis (s)'), ('SHSU.bins.123', 'Morganella morganii (s)'), ('SHSU.bins.354', 'Wohlfahrtiimonadaceae (f)'), ('SHSU.bins.195', 'Ignatzschineria (g)')}\n",
      "\n",
      "8 RPCA-specific features:\n",
      "{('CMU_active.final.40', 'Ornithinimicrobium (g)'), ('CMU.bins.328', 'Belnapia rosea (s)'), ('CMU.bins.204', 'Proteus mirabilis (s)'), ('CMU_advanced.final.23', 'Savagea (g)'), ('CMU_early.final.2', 'JACCUC01 (g)'), ('CMU.bins.320', 'Sphingomicrobium (g)'), ('CMU.bins.307', 'CADCWL01 (g)'), ('CMU.bins.171', 'Alteraurantiacibacter (g)')}\n",
      "\n",
      "18S\n",
      "19 Joint-RPCA-specific features:\n",
      "{('e8605d8efcc8261776f20005daa5b06f', 'Yarrowia ( g)'), ('1bf1f0a861f411b0851c7cfefff7d931', 'Candida ( g)'), ('cb007d7071ba8180be246bfa8f745397', 'Debaryomycetaceae ( fs)'), ('b7493926527a25494179aa6f25f088b5', 'Animalia ( k)'), ('5762fbdafca096037872f442ab771c93', 'Rhabditida ( g)'), ('6188e3bdd766dfe2a5998f9206afe127', 'Trichosporonaceae ( fs)'), ('ab95739d586d342a13bd529de41082f5', 'Animalia ( k)'), ('a5ee0d17d497426a83c7bce938a264f4', 'Yarrowia ( g)'), ('21403936c8146cb545ac3a3854ceec31', 'Yarrowia ( g)'), ('1fccaf33a96b52f2af8f5bf91acc8a1f', 'Apiotrichum ( g)'), ('7d41d94d8409a2fb21d04e19b8141333', 'Eurotiales ( os)'), ('c9b278c1820ada81e04b8438a3772692', 'Yarrowia ( g)'), ('609325b35c075dc6f90b67e705e9ce95', 'Yarrowia ( g)'), ('39a273fa9daebbe860042c798642aa77', 'Apiotrichum ( g)'), ('023d794c3779b0cd1b0245b408fe7618', 'Yarrowia ( g)'), ('4ba629958d8066a41ed7d8d3af839653', 'Geotrichum ( g)'), ('fed846c55d7d619c6d5ef6b499bb5c69', 'Animalia ( k)'), ('32794c9125af0f00b2f95ce56025c220', 'Apiotrichum ( g)'), ('a2d8dab575b4a07593c4e87bc6fdb5ed', 'Yarrowia ( g)')}\n",
      "\n",
      "19 RPCA-specific features:\n",
      "{('97728fc2743a8d2c388119a1eb700096', 'Ophiosphaerella ( g)'), ('8f6bd29e42f556671c4313ef4ea60719', 'Spumella ( g)'), ('a750dccf8dffcbcc77fd834f5021370c', 'Mischococcales ( fs)'), ('25bb6b93f45c87ffdfa8a2a9e6514d2a', 'Spumella ( g)'), ('ff63d42e733892aa9207c97a998e4ec3', 'Cladosporium ( g)'), ('1e4c06fdf8811e02ec22021b442bd8b5', 'Bipolaris ( g)'), ('5a1755d0c201843d136e6ca6e190668e', 'Alternaria ( g)'), ('703f4bef35d1f31df60062238778e18e', 'Filobasidiaceae ( fs)'), ('e8e25fed7df635f1e0782832a8314e04', 'Mischococcales ( fs)'), ('02e8e53ad96c9864c41b2cf6fd0aa169', 'Pleosporales ( fs)'), ('b4a8bd18bf11510260f31ad98bbb16e3', 'Herpotrichia ( g)'), ('00d2d306d387c11e63eac2b97f184ac8', 'Pleiochaeta ( g)'), ('0eb10867cac23317e32e990c88ee69e2', 'Filobasidiaceae ( fs)'), ('41c65b95ad217a6e548ae94e598bfefe', 'Shiraia ( g)'), ('fa50bb92f93c8e5ef1bbd6af213fa2a3', 'Pleiochaeta ( g)'), ('32c82f64c71e2e831995a94e34e6bfcc', 'Pleosporales ( os)'), ('570e35cfb2b043cb1cb5c273fa0e8c81', 'Ascochyta ( g)'), ('28c2ee0bc4d11dc9f808c30998b30f23', 'Pleosporales ( os)'), ('df580cdc4ad8981a16880bec72a7f1e5', 'Pezizomycotina ( ps)')}\n",
      "\n",
      "gene_module\n",
      "4 Joint-RPCA-specific features:\n",
      "{('Carbazole_degradation_carbazole_to_2-oxopent-4-enoate___anthranilate', 'Carbazole degradation carbazole to 2-oxopent-4-enoate   anthranilate'), ('Ornithine_biosynthesis_mediated_by_LysW_glutamate_to_ornithine', 'Ornithine biosynthesis mediated by LysW glutamate to ornithine'), ('R0_polymerase_archaea', 'R0 polymerase archaea'), ('Fluoroquinolone_transport_system', 'Fluoroquinolone transport system')}\n",
      "\n",
      "4 RPCA-specific features:\n",
      "{('Capsular_polysaccharide_transport_system', 'Capsular polysaccharide transport system'), ('Dipeptide_transport_system', 'Dipeptide transport system'), ('Cytochrome_bc1_complex', 'Cytochrome bc1 complex'), ('Subtype_I-F_factors', 'Subtype I-F factors')}\n",
      "\n"
     ]
    }
   ],
   "source": [
    "for omic_id in joint_feats_renamed.keys():\n",
    "    print(omic_id)\n",
    "    ren_joint_ = set(joint_feats_renamed[omic_id])\n",
    "    ren_rpca_ = set(rpca_feats_renamed[omic_id])\n",
    "    joint_specific = ren_joint_.difference(ren_rpca_)\n",
    "    rpca_specific = ren_rpca_.difference(ren_joint_)\n",
    "    print(\"{} Joint-RPCA-specific features:\".format(len(joint_specific)))\n",
    "    print(joint_specific)\n",
    "    print()\n",
    "    print(\"{} RPCA-specific features:\".format(len(rpca_specific)))\n",
    "    print(rpca_specific)\n",
    "    print()"
   ]
  }
 ],
 "metadata": {
  "kernelspec": {
   "display_name": "qiime2-joint-rpca",
   "language": "python",
   "name": "python3"
  },
  "language_info": {
   "codemirror_mode": {
    "name": "ipython",
    "version": 3
   },
   "file_extension": ".py",
   "mimetype": "text/x-python",
   "name": "python",
   "nbconvert_exporter": "python",
   "pygments_lexer": "ipython3",
   "version": "3.9.19"
  }
 },
 "nbformat": 4,
 "nbformat_minor": 2
}
