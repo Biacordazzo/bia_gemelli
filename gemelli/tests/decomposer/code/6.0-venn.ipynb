{
 "cells": [
  {
   "cell_type": "code",
   "execution_count": 1,
   "metadata": {},
   "outputs": [],
   "source": [
    "import numpy as np\n",
    "# hide numpy log warning\n",
    "np.seterr(divide = 'ignore') \n",
    "import pandas as pd\n",
    "import warnings\n",
    "import seaborn as sns\n",
    "import matplotlib.pyplot as plt\n",
    "\n",
    "from skbio import OrdinationResults\n",
    "from biom import load_table\n",
    "from matplotlib_venn import venn2\n",
    "\n",
    "# hide pandas Future/Deprecation Warning(s) for tutorial\n",
    "warnings.filterwarnings(\"ignore\", category=DeprecationWarning) \n",
    "warnings.simplefilter(action='ignore', category=FutureWarning)\n",
    "# plotting\n",
    "plt.style.use('ggplot')\n",
    "sns.set_style('white')\n",
    "%matplotlib inline"
   ]
  },
  {
   "cell_type": "markdown",
   "metadata": {},
   "source": [
    "## Define functions"
   ]
  },
  {
   "cell_type": "code",
   "execution_count": 2,
   "metadata": {},
   "outputs": [],
   "source": [
    "def get_top_features(table, ordination, component='PC1', \n",
    "                     quantile=0.90, pseudocount=0):\n",
    "    \n",
    "    #get the loadings\n",
    "    floadings = ordination.copy()\n",
    "    floadings.rename(columns={0:\"PC1\", 1:\"PC2\", \n",
    "                              2:\"PC3\", 3:\"PC4\"}, inplace=True)\n",
    "    table_df = table.copy().to_dataframe()\n",
    "    top_pc_values = {}\n",
    "    bottom_pc_values = {}\n",
    "    beta_l = {}\n",
    "    \n",
    "    #sort loadings along each component\n",
    "    floadings.sort_values(by=component, ascending=False, inplace=True)\n",
    "    floadings_ = floadings[component].copy()\n",
    "    #get top and bottom loading quantiles\n",
    "    top_q = floadings_.quantile(quantile)\n",
    "    bottom_q = floadings_.quantile(1-quantile)\n",
    "    top_fts = floadings_[floadings_ >= top_q].index\n",
    "    bottom_fts = floadings_[floadings_ <= bottom_q].index\n",
    "    #aggregate the top and bottom features per sample\n",
    "    num = table_df.loc[top_fts].sum(axis=0)\n",
    "    num = num+pseudocount\n",
    "    top_pc_values[component] = num\n",
    "    \n",
    "    denom = table_df.loc[bottom_fts].sum(axis=0)\n",
    "    denom = denom+pseudocount\n",
    "    bottom_pc_values[component] = denom\n",
    "    #calculate trajectories\n",
    "    beta_ = np.log(num) - np.log(denom)\n",
    "    beta_l[component] = beta_\n",
    "\n",
    "    #save top and bottom aggregated features as df\n",
    "    top_fts_df = pd.DataFrame(top_pc_values, index=num.index)\n",
    "    bottom_fts_df = pd.DataFrame(bottom_pc_values, index=denom.index)\n",
    "    #save trajectories as df\n",
    "    beta_df = pd.DataFrame(beta_l, index=num.index)\n",
    "    #drop any NaN or infinity values\n",
    "    beta_df = beta_df.sparse.to_dense()\n",
    "    beta_df.replace([np.inf, -np.inf], np.nan, inplace=True)\n",
    "    beta_df.dropna(inplace=True)\n",
    "\n",
    "    return (top_fts_df, bottom_fts_df, beta_df,\n",
    "            top_fts.tolist(), bottom_fts.tolist())"
   ]
  },
  {
   "cell_type": "markdown",
   "metadata": {},
   "source": [
    "## Load data"
   ]
  },
  {
   "cell_type": "code",
   "execution_count": 3,
   "metadata": {},
   "outputs": [],
   "source": [
    "#load rpca results\n",
    "ord_18S = OrdinationResults.read('../results/joint-rpca/18S_ord.txt')\n",
    "ord_mag = OrdinationResults.read('../results/joint-rpca/mag_ord.txt')\n",
    "ord_gene = OrdinationResults.read('../results/joint-rpca/gene_ord.txt')\n",
    "ord_gene_module = OrdinationResults.read('../results/joint-rpca/gene_module_ord.txt')\n",
    "ord_metabolite = OrdinationResults.read('../results/joint-rpca/metabolite_ord.txt')\n",
    "#load joint-rpca results\n",
    "ord_joint = OrdinationResults.read('../results/joint-rpca/joint_ord.txt')\n",
    "#load shared metadata\n",
    "metadata = pd.read_csv('../network/split-matched-data/metadata_knn.tsv', index_col=0, sep='\\t')"
   ]
  },
  {
   "cell_type": "code",
   "execution_count": 4,
   "metadata": {},
   "outputs": [],
   "source": [
    "# import the rest\n",
    "all_tables = {'18S':'../network/split-matched-data/18S.biom',\n",
    "              'mag':'../network/split-matched-data/mag.biom',\n",
    "              'gene':'../network/split-matched-data/gene.biom',\n",
    "              'gene_module':'../network/split-matched-data/gene_module.biom',\n",
    "              'metabolite':'../network/split-matched-data/metabolite.biom'}\n",
    "\n",
    "tables = {}\n",
    "for tbl_id, tbl_path in all_tables.items():\n",
    "    tables[tbl_id] = load_table(tbl_path)"
   ]
  },
  {
   "cell_type": "code",
   "execution_count": 5,
   "metadata": {},
   "outputs": [
    {
     "name": "stdout",
     "output_type": "stream",
     "text": [
      "Not in ordination results: 42\n",
      "In ordination results: 5431\n"
     ]
    }
   ],
   "source": [
    "#retrieve feature loadings from joint-rpca\n",
    "joint_features = ord_joint.features\n",
    "\n",
    "#for 18S, need to make sure features are in the original table\n",
    "not_in_ord_18S = []\n",
    "in_ord_18S = []\n",
    "\n",
    "for id in tables['18S'].ids(axis='observation'):\n",
    "    if id not in joint_features.index:\n",
    "        not_in_ord_18S.append(id)\n",
    "    else:\n",
    "        in_ord_18S.append(id)\n",
    "print(\"Not in ordination results: %i\" % len(not_in_ord_18S))\n",
    "print(\"In ordination results: %i\" % len(in_ord_18S))\n",
    "\n",
    "#keep only common features\n",
    "tables['18S'] = tables['18S'].filter(ids_to_keep=in_ord_18S, axis='observation')"
   ]
  },
  {
   "cell_type": "markdown",
   "metadata": {},
   "source": [
    "## Find overlapping features"
   ]
  },
  {
   "cell_type": "code",
   "execution_count": 6,
   "metadata": {},
   "outputs": [],
   "source": [
    "pc_ratio = {}\n",
    "\n",
    "for task in ['facility', 'stage', 'season']:\n",
    "    acc_task = pd.DataFrame(columns=['Omic', 'Fold', 'Accuracy',\n",
    "                                     'Report', 'Optimization', 'PC'])\n",
    "    for pc in ['PC1','PC2','PC3']:\n",
    "        #load results\n",
    "        #acc_ratio = pd.read_csv('../results/joint-rpca/RF/rf_acc_{}-ratio_{}_opt.csv'.format(pc, task))\n",
    "        acc_ratio = pd.read_csv('../results/joint-rpca/KNN/knn_acc_{}-ratio_{}.tsv'.format(pc, task),\n",
    "                                sep='\\t', index_col=0)\n",
    "        #add PC column\n",
    "        acc_ratio['PC'] = pc\n",
    "        #save results\n",
    "        acc_task = acc_task._append(acc_ratio, ignore_index=True)\n",
    "    \n",
    "    pc_ratio[task] = acc_task"
   ]
  },
  {
   "cell_type": "code",
   "execution_count": 10,
   "metadata": {},
   "outputs": [],
   "source": [
    "best_pc_per_task = {}\n",
    "\n",
    "for task in ['facility', 'stage', 'season']:\n",
    "    #Find the median accuracy across folds for each modality and PC\n",
    "    median_values = pc_ratio[task].groupby(['Omic', 'PC']).median(numeric_only=True)\n",
    "    median_values = median_values.reset_index()\n",
    "\n",
    "    #Find the PC with the maximum value for each Omic\n",
    "    max_pc_per_omic = median_values.loc[median_values.groupby('Omic')['Accuracy'].idxmax()]\n",
    "\n",
    "    #Store results in dictionary\n",
    "    result_dict = max_pc_per_omic.set_index('Omic').apply(tuple, axis=1).to_dict()\n",
    "    best_pc_per_task[task] = result_dict"
   ]
  },
  {
   "cell_type": "code",
   "execution_count": 21,
   "metadata": {},
   "outputs": [
    {
     "data": {
      "text/plain": [
       "{'18S_Joint-RPCA': ('PC2', 0.48808848553601814),\n",
       " '18S_RPCA': ('PC2', 0.44351134079816246),\n",
       " 'Gene_Joint-RPCA': ('PC1', 0.44680851063829785),\n",
       " 'Gene_Module_Joint-RPCA': ('PC1', 0.4032146160962071),\n",
       " 'Gene_Module_RPCA': ('PC1', 0.35827041866849696),\n",
       " 'Gene_RPCA': ('PC3', 0.4042553191489361),\n",
       " 'MAG_Joint-RPCA': ('PC2', 0.4402103273071014),\n",
       " 'MAG_RPCA': ('PC2', 0.45744680851063824),\n",
       " 'Metabolite_Joint-RPCA': ('PC3', 0.42021276595744683),\n",
       " 'Metabolite_RPCA': ('PC3', 0.4308510638297872)}"
      ]
     },
     "execution_count": 21,
     "metadata": {},
     "output_type": "execute_result"
    }
   ],
   "source": [
    "#define parameters\n",
    "quantile = 0.90\n",
    "task = 'season' #'season', 'facility'\n",
    "groups = ['fall', 'spring', 'summer', 'winter'] #for season\n",
    "#groups = ['FIRS', 'STAFS', 'ARF'] #for facility\n",
    "best_pc = best_pc_per_task[task]\n",
    "best_pc"
   ]
  },
  {
   "cell_type": "code",
   "execution_count": 24,
   "metadata": {},
   "outputs": [
    {
     "name": "stdout",
     "output_type": "stream",
     "text": [
      "18S 18S_RPCA\n",
      "mag MAG_RPCA\n",
      "gene Gene_RPCA\n",
      "gene_module Gene_Module_RPCA\n",
      "metabolite Metabolite_RPCA\n"
     ]
    }
   ],
   "source": [
    "#find top/bottom features from individual RPCA results\n",
    "rpca_ord = {'18S_RPCA': ord_18S, 'MAG_RPCA': ord_mag, 'Gene_RPCA': ord_gene, \n",
    "            'Gene_Module_RPCA': ord_gene_module, 'Metabolite_RPCA': ord_metabolite}\n",
    "\n",
    "rpca_top_fts = {}\n",
    "rpca_bot_fts = {}\n",
    "\n",
    "for omic_pc, omic_table in zip(rpca_ord.keys(), tables.keys()):\n",
    "    #sanity check\n",
    "    print(omic_table, omic_pc)\n",
    "    pc_to_use = best_pc[omic_pc][0]\n",
    "    ord_ = rpca_ord[omic_pc].features.copy()\n",
    "    table_ = tables[omic_table]\n",
    "    _, _, _, top_fts, bottom_fts = get_top_features(table_, ord_, component=pc_to_use,\n",
    "                                                    quantile=quantile, pseudocount=0)\n",
    "    rpca_top_fts[omic_pc] = top_fts\n",
    "    rpca_bot_fts[omic_pc] = bottom_fts"
   ]
  },
  {
   "cell_type": "code",
   "execution_count": 38,
   "metadata": {},
   "outputs": [
    {
     "name": "stdout",
     "output_type": "stream",
     "text": [
      "18S 18S_Joint-RPCA\n",
      "mag MAG_Joint-RPCA\n",
      "gene Gene_Joint-RPCA\n",
      "gene_module Gene_Module_Joint-RPCA\n",
      "metabolite Metabolite_Joint-RPCA\n"
     ]
    }
   ],
   "source": [
    "#find top features from joint-RPCA results\n",
    "joint_pc_ids = ['{}_Joint-RPCA'.format(id.split('_')[0]) if 'Module' not in id else 'Gene_Module_Joint-RPCA'\n",
    "                for id in rpca_ord.keys()]\n",
    "joint_top_fts = {}\n",
    "joint_bot_fts = {}\n",
    "\n",
    "for omic_pc, omic_table in zip(joint_pc_ids, tables.keys()):\n",
    "    #sanity check\n",
    "    print(omic_table, omic_pc)\n",
    "    pc_to_use = best_pc[omic_pc][0]\n",
    "    table_ = tables[omic_table]\n",
    "    if omic_table == '18S':\n",
    "        ord_ = joint_features.loc[in_ord_18S]\n",
    "    else:\n",
    "        ord_ = joint_features.loc[table_.ids(axis='observation')]\n",
    "\n",
    "    _, _, _, top_fts, bottom_fts = get_top_features(table_, ord_, component=pc_to_use,\n",
    "                                                    quantile=quantile, pseudocount=0)\n",
    "    joint_top_fts[omic_pc] = top_fts\n",
    "    joint_bot_fts[omic_pc] = bottom_fts"
   ]
  },
  {
   "cell_type": "code",
   "execution_count": 59,
   "metadata": {},
   "outputs": [
    {
     "name": "stdout",
     "output_type": "stream",
     "text": [
      "Total features: 544. Number of intersecting features for 18S: 14\n",
      "Total features: 26. Number of intersecting features for mag: 4\n",
      "Total features: 246. Number of intersecting features for gene: 20\n",
      "Total features: 38. Number of intersecting features for gene_module: 13\n",
      "Total features: 234. Number of intersecting features for metabolite: 63\n"
     ]
    }
   ],
   "source": [
    "#RCPA TOP and Joint-RPCA TOP intersecting features\n",
    "common_top_fts = {}\n",
    "for omic_rpca, omic_joint, omic_id in zip(rpca_ord.keys(), joint_pc_ids, tables.keys()):\n",
    "    common_fts = set(rpca_top_fts[omic_rpca]).intersection(joint_top_fts[omic_joint])\n",
    "    common_top_fts[omic_id] = common_fts\n",
    "    print(\"Total features: %i. Number of intersecting features for %s: %i\" % (len(joint_top_fts[omic_joint]), omic_id, len(common_fts)))"
   ]
  },
  {
   "cell_type": "code",
   "execution_count": 60,
   "metadata": {},
   "outputs": [
    {
     "name": "stdout",
     "output_type": "stream",
     "text": [
      "Total features: 544. Number of intersecting features for 18S: 292\n",
      "Total features: 26. Number of intersecting features for mag: 0\n",
      "Total features: 246. Number of intersecting features for gene: 90\n",
      "Total features: 38. Number of intersecting features for gene_module: 5\n",
      "Total features: 234. Number of intersecting features for metabolite: 19\n"
     ]
    }
   ],
   "source": [
    "#RCPA TOP and Joint-RPCA BOTTOM intersecting features\n",
    "common_top_fts2 = {}\n",
    "for omic_rpca, omic_joint, omic_id in zip(rpca_ord.keys(), joint_pc_ids, tables.keys()):\n",
    "    common_fts = set(rpca_top_fts[omic_rpca]).intersection(joint_bot_fts[omic_joint])\n",
    "    common_top_fts2[omic_id] = common_fts\n",
    "    print(\"Total features: %i. Number of intersecting features for %s: %i\" % (len(joint_top_fts[omic_joint]), omic_id, len(common_fts)))"
   ]
  },
  {
   "cell_type": "code",
   "execution_count": 61,
   "metadata": {},
   "outputs": [
    {
     "name": "stdout",
     "output_type": "stream",
     "text": [
      "Total features: 544. Number of intersecting features for 18S: 39\n",
      "Total features: 26. Number of intersecting features for mag: 21\n",
      "Total features: 246. Number of intersecting features for gene: 15\n",
      "Total features: 38. Number of intersecting features for gene_module: 0\n",
      "Total features: 234. Number of intersecting features for metabolite: 70\n"
     ]
    }
   ],
   "source": [
    "#RCPA BOTTOM and Joint-RPCA BOTTOM intersecting features\n",
    "common_bottom_fts = {}\n",
    "for omic_rpca, omic_joint, omic_id in zip(rpca_ord.keys(), joint_pc_ids, tables.keys()):\n",
    "    common_fts = set(rpca_bot_fts[omic_rpca]).intersection(joint_bot_fts[omic_joint])\n",
    "    common_bottom_fts[omic_id] = common_fts\n",
    "    print(\"Total features: %i. Number of intersecting features for %s: %i\" % (len(joint_bot_fts[omic_joint]), omic_id, len(common_fts)))"
   ]
  },
  {
   "cell_type": "code",
   "execution_count": 62,
   "metadata": {},
   "outputs": [
    {
     "name": "stdout",
     "output_type": "stream",
     "text": [
      "Total features: 544. Number of intersecting features for 18S: 249\n",
      "Total features: 26. Number of intersecting features for mag: 0\n",
      "Total features: 246. Number of intersecting features for gene: 97\n",
      "Total features: 38. Number of intersecting features for gene_module: 1\n",
      "Total features: 234. Number of intersecting features for metabolite: 6\n"
     ]
    }
   ],
   "source": [
    "#RCPA BOTTOM and Joint-RPCA TOP intersecting features\n",
    "common_bottom_fts2 = {}\n",
    "for omic_rpca, omic_joint, omic_id in zip(rpca_ord.keys(), joint_pc_ids, tables.keys()):\n",
    "    common_fts = set(rpca_bot_fts[omic_rpca]).intersection(joint_top_fts[omic_joint])\n",
    "    common_bottom_fts2[omic_id] = common_fts\n",
    "    print(\"Total features: %i. Number of intersecting features for %s: %i\" % (len(joint_bot_fts[omic_joint]), omic_id, len(common_fts)))"
   ]
  },
  {
   "cell_type": "code",
   "execution_count": 54,
   "metadata": {},
   "outputs": [
    {
     "name": "stdout",
     "output_type": "stream",
     "text": [
      "Total features: 1087. Number of intersecting features for 18S: 594\n",
      "Total features: 52. Number of intersecting features for mag: 25\n",
      "Total features: 492. Number of intersecting features for gene: 222\n",
      "Total features: 76. Number of intersecting features for gene_module: 19\n",
      "Total features: 468. Number of intersecting features for metabolite: 158\n"
     ]
    }
   ],
   "source": [
    "#find intersecting bottom features\n",
    "common_top_bot_fts = {}\n",
    "for omic_rpca, omic_joint, omic_id in zip(rpca_ord.keys(), joint_pc_ids, tables.keys()):\n",
    "    rpca_top_bot = set(rpca_top_fts[omic_rpca]).union(set(rpca_bot_fts[omic_rpca]))\n",
    "    joint_top_bot = set(joint_top_fts[omic_joint]).union(set(joint_bot_fts[omic_joint]))\n",
    "    common_fts = set(rpca_top_bot).intersection(joint_top_bot)\n",
    "    common_top_bot_fts[omic_id] = common_fts\n",
    "    print(\"Total features: %i. Number of intersecting features for %s: %i\" % (len(rpca_top_bot), omic_id, len(common_fts)))"
   ]
  },
  {
   "cell_type": "markdown",
   "metadata": {},
   "source": [
    "## Plotting"
   ]
  },
  {
   "cell_type": "code",
   "execution_count": 74,
   "metadata": {},
   "outputs": [],
   "source": [
    "#find the average ranks of the intersecting features\n",
    "avg_ranks_common_top = {}\n",
    "avg_ranks_common_bottom = {}\n",
    "\n",
    "for omic_rpca, omic_joint, omic_id in zip(rpca_ord.keys(), joint_pc_ids, tables.keys()):\n",
    "    top_ranks_rpca = []\n",
    "    top_ranks_joint = []\n",
    "\n",
    "    bottom_ranks_rpca = []\n",
    "    bottom_ranks_joint = []\n",
    "\n",
    "    for ft in common_top_bot_fts[omic_id]:\n",
    "\n",
    "        #check rank in rpca\n",
    "        if ft in rpca_top_fts[omic_rpca]:\n",
    "            r_rpca = rpca_top_fts[omic_rpca].index(ft) + 1\n",
    "            top_ranks_rpca.append(r_rpca)\n",
    "        elif ft in rpca_bot_fts[omic_rpca]:\n",
    "            r_rpca = rpca_bot_fts[omic_rpca].index(ft) + 1\n",
    "            bottom_ranks_rpca.append(r_rpca)\n",
    "\n",
    "        #check rank in joint-rpca\n",
    "        if ft in joint_top_fts[omic_joint]:\n",
    "            r_joint = joint_top_fts[omic_joint].index(ft) + 1\n",
    "            top_ranks_joint.append(r_rpca)\n",
    "        elif ft in joint_bot_fts[omic_joint]:\n",
    "            r_joint = joint_bot_fts[omic_joint].index(ft) + 1\n",
    "            bottom_ranks_joint.append(r_rpca)\n",
    "        \n",
    "    avg_ranks_common_top[omic_id] = (np.mean(top_ranks_rpca), \n",
    "                              np.mean(top_ranks_joint))\n",
    "    avg_ranks_common_bottom[omic_id] = (np.mean(bottom_ranks_rpca), \n",
    "                                 np.mean(bottom_ranks_joint))"
   ]
  },
  {
   "cell_type": "code",
   "execution_count": 75,
   "metadata": {},
   "outputs": [
    {
     "data": {
      "text/plain": [
       "{'18S': (233.23529411764707, 283.68441064638785),\n",
       " 'mag': (16.5, 16.5),\n",
       " 'gene': (105.77272727272727, 133.42735042735043),\n",
       " 'gene_module': (19.11111111111111, 21.214285714285715),\n",
       " 'metabolite': (119.58536585365853, 109.04347826086956)}"
      ]
     },
     "execution_count": 75,
     "metadata": {},
     "output_type": "execute_result"
    }
   ],
   "source": [
    "avg_ranks_common_top"
   ]
  },
  {
   "cell_type": "code",
   "execution_count": 76,
   "metadata": {},
   "outputs": [
    {
     "data": {
      "text/plain": [
       "{'18S': (294.43402777777777, 246.3987915407855),\n",
       " 'mag': (15.428571428571429, 15.428571428571429),\n",
       " 'gene': (136.375, 107.6),\n",
       " 'gene_module': (37.0, 16.8),\n",
       " 'metabolite': (160.51315789473685, 162.7078651685393)}"
      ]
     },
     "execution_count": 76,
     "metadata": {},
     "output_type": "execute_result"
    }
   ],
   "source": [
    "avg_ranks_common_bottom"
   ]
  },
  {
   "cell_type": "code",
   "execution_count": 80,
   "metadata": {},
   "outputs": [
    {
     "name": "stdout",
     "output_type": "stream",
     "text": [
      "Number of features unique to RPCA for 18S: 493\n",
      "Number of features unique to RPCA for mag: 27\n",
      "Number of features unique to RPCA for gene: 270\n",
      "Number of features unique to RPCA for gene_module: 57\n",
      "Number of features unique to RPCA for metabolite: 310\n"
     ]
    }
   ],
   "source": [
    "avg_ranks_top_rpca_only = {}\n",
    "avg_ranks_bottom_rpca_only = {}\n",
    "\n",
    "for omic_rpca, omic_id in zip(rpca_ord.keys(), tables.keys()):\n",
    "    ranks_top_rpca_only = []\n",
    "    ranks_bot_rpca_only = []\n",
    "\n",
    "    #get features unique to RPCA \n",
    "    rpca_only_top = set(rpca_top_fts[omic_rpca]) - set(common_top_bot_fts[omic_id])\n",
    "    rpca_only_bot = set(rpca_bot_fts[omic_rpca]) - set(common_top_bot_fts[omic_id])\n",
    "    print(\"Number of features unique to RPCA for %s: %i\" % (omic_id, len(rpca_only_top)+len(rpca_only_bot)))\n",
    "    for ft in rpca_only_top:\n",
    "        r_rpca = rpca_top_fts[omic_rpca].index(ft) + 1\n",
    "        ranks_top_rpca_only.append(r_rpca)\n",
    "    \n",
    "    for ft in rpca_only_bot:\n",
    "        r_rpca = rpca_bot_fts[omic_rpca].index(ft) + 1\n",
    "        ranks_bot_rpca_only.append(r_rpca)\n",
    "        \n",
    "    avg_ranks_top_rpca_only[omic_id] = np.mean(ranks_top_rpca_only)\n",
    "    avg_ranks_bottom_rpca_only[omic_id] = np.mean(ranks_bot_rpca_only)"
   ]
  },
  {
   "cell_type": "code",
   "execution_count": 92,
   "metadata": {},
   "outputs": [
    {
     "name": "stdout",
     "output_type": "stream",
     "text": [
      "Number of features unique to Joint-RPCA for 18S: 494\n",
      "Number of features unique to Joint-RPCA for mag: 27\n",
      "Number of features unique to Joint-RPCA for gene: 270\n",
      "Number of features unique to Joint-RPCA for gene_module: 57\n",
      "Number of features unique to Joint-RPCA for metabolite: 310\n"
     ]
    }
   ],
   "source": [
    "avg_ranks_top_joint_only = {}\n",
    "avg_ranks_bottom_joint_only = {}\n",
    "\n",
    "for omic_joint, omic_id in zip(joint_pc_ids, tables.keys()):\n",
    "    ranks_top_joint_only = []\n",
    "    ranks_bot_joint_only = []\n",
    "\n",
    "    #get features unique to RPCA \n",
    "    joint_only_top = set(joint_top_fts[omic_joint]) - set(common_top_bot_fts[omic_id])\n",
    "    joint_only_bot = set(joint_bot_fts[omic_joint]) - set(common_top_bot_fts[omic_id])\n",
    "    print(\"Number of features unique to Joint-RPCA for %s: %i\" % (omic_id, len(joint_only_top)+len(joint_only_bot)))\n",
    "    for ft in joint_only_top:\n",
    "        r_joint = joint_top_fts[omic_joint].index(ft) + 1\n",
    "        ranks_top_joint_only.append(r_joint)\n",
    "    \n",
    "    for ft in joint_only_bot:\n",
    "        r_joint = joint_bot_fts[omic_joint].index(ft) + 1\n",
    "        ranks_bot_joint_only.append(r_joint)\n",
    "        \n",
    "    avg_ranks_top_joint_only[omic_id] = np.mean(ranks_top_joint_only)\n",
    "    avg_ranks_bottom_joint_only[omic_id] = np.mean(ranks_bot_joint_only)"
   ]
  },
  {
   "cell_type": "code",
   "execution_count": 90,
   "metadata": {},
   "outputs": [
    {
     "data": {
      "image/png": "[encoded data removed]",
      "text/plain": [
       "<Figure size 2000x500 with 5 Axes>"
      ]
     },
     "metadata": {},
     "output_type": "display_data"
    }
   ],
   "source": [
    "#plot a venn diagram per omic\n",
    "fig, axn = plt.subplots(1, 5, figsize=(20, 5))\n",
    "for ax_, omic_id, omic_rpca, omic_joint in zip(axn.flatten(), tables.keys(),\n",
    "                                               rpca_ord.keys(), joint_pc_ids):\n",
    "    \n",
    "    rpca_top_bot = set(rpca_top_fts[omic_rpca]).union(set(rpca_bot_fts[omic_rpca]))\n",
    "    joint_top_bot = set(joint_top_fts[omic_joint]).union(set(joint_bot_fts[omic_joint]))\n",
    "                                                         \n",
    "    a = len(rpca_top_bot) - len(common_top_bot_fts[omic_id])\n",
    "    b = len(common_top_bot_fts[omic_id])\n",
    "    c = len(joint_top_bot) - len(common_top_bot_fts[omic_id])\n",
    "\n",
    "    venn2(subsets=(a, c, b), set_labels=('RPCA', 'Joint-RPCA'), ax=ax_,\n",
    "          set_colors=('tab:purple', 'tab:blue'), alpha=0.5)\n",
    "    ax_.set_title(omic_id)\n",
    "    plt.suptitle('Intersection of key features for {} classification'.format(task), \n",
    "                 fontsize=16, y=0.8)\n",
    "#plt.tight_layout()\n",
    "plt.show()"
   ]
  },
  {
   "cell_type": "code",
   "execution_count": 104,
   "metadata": {},
   "outputs": [],
   "source": [
    "#create table with top and bottom ranks\n",
    "#Common features: avg_ranks_common_top, avg_ranks_common_bottom\n",
    "#RPCA only: avg_ranks_top_rpca_only, avg_ranks_bottom_rpca_only\n",
    "#Joint-RPCA only: avg_ranks_top_joint_only, avg_ranks_bottom_joint_only\n",
    "\n",
    "#top ranks\n",
    "top_ranks = pd.DataFrame(columns=['Omic', 'RPCA', 'Common', 'Joint-RPCA'])\n",
    "for omic_id in tables.keys():\n",
    "    top_ranks = top_ranks._append({'Omic': omic_id, \n",
    "                                   'RPCA': round(avg_ranks_top_rpca_only[omic_id], 2),\n",
    "                                   'Common': round(avg_ranks_common_top[omic_id][0], 2),\n",
    "                                   'Joint-RPCA': round(avg_ranks_top_joint_only[omic_id], 2)}, \n",
    "                                   ignore_index=True)\n",
    "top_ranks.set_index('Omic', inplace=True)\n",
    "\n",
    "#bottom ranks\n",
    "bottom_ranks = pd.DataFrame(columns=['Omic', 'RPCA', 'Common', 'Joint-RPCA'])\n",
    "for omic_id in tables.keys():\n",
    "    bottom_ranks = bottom_ranks._append({'Omic': omic_id, \n",
    "                                         'RPCA': round(avg_ranks_bottom_rpca_only[omic_id], 2),\n",
    "                                         'Common': round(avg_ranks_common_bottom[omic_id][0], 2),\n",
    "                                         'Joint-RPCA': round(avg_ranks_bottom_joint_only[omic_id], 2)}, \n",
    "                                         ignore_index=True)\n",
    "bottom_ranks.set_index('Omic', inplace=True)\n"
   ]
  },
  {
   "cell_type": "code",
   "execution_count": 105,
   "metadata": {},
   "outputs": [
    {
     "name": "stdout",
     "output_type": "stream",
     "text": [
      "Ranks of top features:\n"
     ]
    },
    {
     "data": {
      "text/html": [
       "<div>\n",
       "<style scoped>\n",
       "    .dataframe tbody tr th:only-of-type {\n",
       "        vertical-align: middle;\n",
       "    }\n",
       "\n",
       "    .dataframe tbody tr th {\n",
       "        vertical-align: top;\n",
       "    }\n",
       "\n",
       "    .dataframe thead th {\n",
       "        text-align: right;\n",
       "    }\n",
       "</style>\n",
       "<table border=\"1\" class=\"dataframe\">\n",
       "  <thead>\n",
       "    <tr style=\"text-align: right;\">\n",
       "      <th>Omic</th>\n",
       "      <th>18S</th>\n",
       "      <th>mag</th>\n",
       "      <th>gene</th>\n",
       "      <th>gene_module</th>\n",
       "      <th>metabolite</th>\n",
       "    </tr>\n",
       "  </thead>\n",
       "  <tbody>\n",
       "    <tr>\n",
       "      <th>RPCA</th>\n",
       "      <td>322.98</td>\n",
       "      <td>12.95</td>\n",
       "      <td>137.84</td>\n",
       "      <td>19.85</td>\n",
       "      <td>116.38</td>\n",
       "    </tr>\n",
       "    <tr>\n",
       "      <th>Common</th>\n",
       "      <td>233.24</td>\n",
       "      <td>16.50</td>\n",
       "      <td>105.77</td>\n",
       "      <td>19.11</td>\n",
       "      <td>119.59</td>\n",
       "    </tr>\n",
       "    <tr>\n",
       "      <th>Joint-RPCA</th>\n",
       "      <td>333.21</td>\n",
       "      <td>12.77</td>\n",
       "      <td>139.79</td>\n",
       "      <td>21.96</td>\n",
       "      <td>123.20</td>\n",
       "    </tr>\n",
       "  </tbody>\n",
       "</table>\n",
       "</div>"
      ],
      "text/plain": [
       "Omic           18S    mag    gene  gene_module  metabolite\n",
       "RPCA        322.98  12.95  137.84        19.85      116.38\n",
       "Common      233.24  16.50  105.77        19.11      119.59\n",
       "Joint-RPCA  333.21  12.77  139.79        21.96      123.20"
      ]
     },
     "metadata": {},
     "output_type": "display_data"
    },
    {
     "name": "stdout",
     "output_type": "stream",
     "text": [
      "\n",
      "Ranks of bottom features:\n"
     ]
    },
    {
     "data": {
      "text/html": [
       "<div>\n",
       "<style scoped>\n",
       "    .dataframe tbody tr th:only-of-type {\n",
       "        vertical-align: middle;\n",
       "    }\n",
       "\n",
       "    .dataframe tbody tr th {\n",
       "        vertical-align: top;\n",
       "    }\n",
       "\n",
       "    .dataframe thead th {\n",
       "        text-align: right;\n",
       "    }\n",
       "</style>\n",
       "<table border=\"1\" class=\"dataframe\">\n",
       "  <thead>\n",
       "    <tr style=\"text-align: right;\">\n",
       "      <th>Omic</th>\n",
       "      <th>18S</th>\n",
       "      <th>mag</th>\n",
       "      <th>gene</th>\n",
       "      <th>gene_module</th>\n",
       "      <th>metabolite</th>\n",
       "    </tr>\n",
       "  </thead>\n",
       "  <tbody>\n",
       "    <tr>\n",
       "      <th>RPCA</th>\n",
       "      <td>246.66</td>\n",
       "      <td>5.40</td>\n",
       "      <td>112.74</td>\n",
       "      <td>19.03</td>\n",
       "      <td>96.81</td>\n",
       "    </tr>\n",
       "    <tr>\n",
       "      <th>Common</th>\n",
       "      <td>294.43</td>\n",
       "      <td>15.43</td>\n",
       "      <td>136.38</td>\n",
       "      <td>37.00</td>\n",
       "      <td>160.51</td>\n",
       "    </tr>\n",
       "    <tr>\n",
       "      <th>Joint-RPCA</th>\n",
       "      <td>184.61</td>\n",
       "      <td>6.40</td>\n",
       "      <td>110.09</td>\n",
       "      <td>17.82</td>\n",
       "      <td>102.51</td>\n",
       "    </tr>\n",
       "  </tbody>\n",
       "</table>\n",
       "</div>"
      ],
      "text/plain": [
       "Omic           18S    mag    gene  gene_module  metabolite\n",
       "RPCA        246.66   5.40  112.74        19.03       96.81\n",
       "Common      294.43  15.43  136.38        37.00      160.51\n",
       "Joint-RPCA  184.61   6.40  110.09        17.82      102.51"
      ]
     },
     "metadata": {},
     "output_type": "display_data"
    }
   ],
   "source": [
    "print(\"Ranks of top features:\")\n",
    "display(top_ranks.T)\n",
    "print()\n",
    "print(\"Ranks of bottom features:\")\n",
    "display(bottom_ranks.T)"
   ]
  }
 ],
 "metadata": {
  "kernelspec": {
   "display_name": "qiime2-amplicon-2024.5",
   "language": "python",
   "name": "python3"
  },
  "language_info": {
   "codemirror_mode": {
    "name": "ipython",
    "version": 3
   },
   "file_extension": ".py",
   "mimetype": "text/x-python",
   "name": "python",
   "nbconvert_exporter": "python",
   "pygments_lexer": "ipython3",
   "version": "3.9.19"
  }
 },
 "nbformat": 4,
 "nbformat_minor": 2
}
