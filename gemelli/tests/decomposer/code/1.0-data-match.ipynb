{
 "cells": [
  {
   "cell_type": "code",
   "execution_count": 1,
   "metadata": {},
   "outputs": [],
   "source": [
    "import pandas as pd\n",
    "from biom import Table\n",
    "from biom.util import biom_open\n",
    "import numpy as np\n",
    "from sklearn.model_selection import train_test_split\n",
    "np.random.seed(42)\n",
    "#ignore warnings\n",
    "import warnings\n",
    "warnings.filterwarnings('ignore')"
   ]
  },
  {
   "cell_type": "code",
   "execution_count": 2,
   "metadata": {},
   "outputs": [],
   "source": [
    "# import metadata\n",
    "metadata = pd.read_csv('../data/metadata_v0.csv', index_col=0)\n",
    "tables = {}\n",
    "\n",
    "# import/match metabolomics\n",
    "metabolomics = pd.read_csv('../data/tables/GNPS-raw-metabolomics-quant-table.csv', index_col=0)\n",
    "metabolomics = metabolomics.drop(['row m/z', 'row retention time'], axis=1)\n",
    "map_names = pd.read_csv('../data/annotations/metabolite_sample_names.txt', sep='\\t', index_col=0).orig_sample_name.to_dict()\n",
    "metabolomics.columns = [c.replace(' Peak area','') for c in metabolomics.columns]\n",
    "metabolomics.index = ['metab_' + str(i) for i in metabolomics.index]\n",
    "metabolomics = metabolomics[list(set(metabolomics.columns) & set(map_names.keys()))]\n",
    "metabolomics.columns = [map_names[c] for c in metabolomics.columns]\n",
    "tables['metabolomics'] = metabolomics.copy()"
   ]
  },
  {
   "cell_type": "code",
   "execution_count": 3,
   "metadata": {},
   "outputs": [
    {
     "data": {
      "text/plain": [
       "{'metabolomics': 2333 x 374 <class 'biom.table.Table'> with 104825 nonzero entries (12% dense),\n",
       " 'mag': 257 x 374 <class 'biom.table.Table'> with 58498 nonzero entries (60% dense),\n",
       " '18S': 5473 x 374 <class 'biom.table.Table'> with 114755 nonzero entries (5% dense),\n",
       " '16S': 14237 x 374 <class 'biom.table.Table'> with 318875 nonzero entries (5% dense),\n",
       " 'gene': 2457 x 374 <class 'biom.table.Table'> with 901890 nonzero entries (98% dense),\n",
       " 'gene_module': 377 x 374 <class 'biom.table.Table'> with 117093 nonzero entries (83% dense)}"
      ]
     },
     "execution_count": 3,
     "metadata": {},
     "output_type": "execute_result"
    }
   ],
   "source": [
    "# import the rest\n",
    "all_tables = {'mag':'../data/tables/MAG_bact_table.tsv',\n",
    "             '18S':'../data/tables/18S_ASV_table.tsv',\n",
    "             '16S':'../data/tables/16S_ASV_table.tsv',\n",
    "             'gene':'../data/tables/MAG_bact_genes_table.tsv',\n",
    "             'gene_module':'../data/tables/MAG_bact_gene_modules_table.tsv'}\n",
    "for tbl_id, tbl_path in all_tables.items():\n",
    "    tables[tbl_id] = pd.read_csv(tbl_path, sep='\\t', index_col=0)\n",
    "    \n",
    "# match and filter the tables\n",
    "def filter_table(df, use_ids):\n",
    "    df = df[use_ids]\n",
    "    df = df[df.sum(1) > 0]\n",
    "    return df\n",
    "\n",
    "all_shared_samples = set(metadata.index) & set.intersection(*[set(t.columns) for t in tables.values()])\n",
    "tables = {tblid:filter_table(tbl, list(all_shared_samples)) for tblid, tbl in tables.items()}\n",
    "metadata = metadata.reindex(all_shared_samples)\n",
    "metadata = pd.concat([df for _, df in metadata.groupby('subjects') \n",
    "                      if len(set(df.add_0c_group)) == 4])\n",
    "\n",
    "all_shared_samples = set(metadata.index) & set.intersection(*[set(t.columns) for t in tables.values()])\n",
    "tables_subset = {tblid:filter_table(tbl.copy(), metadata.index) for tblid, tbl in tables.items()}\n",
    "metadata = metadata.reindex(all_shared_samples)\n",
    "tables_subset = {tblid:Table(tbl.values, tbl.index, tbl.columns) for tblid, tbl in tables_subset.items()}\n",
    "\n",
    "# train-tests\n",
    "for i_ in range(10):\n",
    "    train, test = train_test_split(metadata, test_size=0.25, shuffle=True, random_state=42,\n",
    "                                   stratify=metadata[['facility']])\n",
    "    metadata.loc[:, 'traintest_%i' % i_] = 'train'\n",
    "    metadata.loc[test.index, 'traintest_%i' % i_] = 'test'\n",
    "    \n",
    "# save data \n",
    "# metadata.to_csv('../data/split-matched-data/metadata.tsv', sep='\\t')\n",
    "# for tblid, tbl in tables_subset.items():\n",
    "    # with biom_open('../network/split-matched-data/%s.biom' % (tblid), 'w') as f:\n",
    "    #     tbl.to_hdf5(f, \"filtered-table-cm\")\n",
    "    # with open('../network/split-matched-data/%s.biom' % (tblid), 'w') as f:\n",
    "    #     f.write(tbl.to_json(\"filtered-table-cm\"))\n",
    "\n",
    "tables_subset"
   ]
  },
  {
   "cell_type": "code",
   "execution_count": 4,
   "metadata": {},
   "outputs": [
    {
     "name": "stdout",
     "output_type": "stream",
     "text": [
      "# unique subjects: 23\n",
      "season\n",
      "spring    116\n",
      "summer    108\n",
      "fall       87\n",
      "winter     63\n",
      "Name: count, dtype: int64\n",
      "facility\n",
      "ARF      191\n",
      "STAFS    125\n",
      "FIRS      58\n",
      "Name: count, dtype: int64\n"
     ]
    }
   ],
   "source": [
    "print(\"# unique subjects:\",len(metadata.subjects.unique()))\n",
    "print(metadata.season.value_counts())\n",
    "print(metadata.facility.value_counts())"
   ]
  }
 ],
 "metadata": {
  "kernelspec": {
   "display_name": "qiime2-joint-rpca",
   "language": "python",
   "name": "python3"
  },
  "language_info": {
   "codemirror_mode": {
    "name": "ipython",
    "version": 3
   },
   "file_extension": ".py",
   "mimetype": "text/x-python",
   "name": "python",
   "nbconvert_exporter": "python",
   "pygments_lexer": "ipython3",
   "version": "3.9.19"
  }
 },
 "nbformat": 4,
 "nbformat_minor": 4
}
