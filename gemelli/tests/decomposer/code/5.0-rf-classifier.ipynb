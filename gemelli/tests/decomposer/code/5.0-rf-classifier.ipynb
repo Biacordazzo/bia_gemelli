{
 "cells": [
  {
   "cell_type": "code",
   "execution_count": 1,
   "metadata": {},
   "outputs": [],
   "source": [
    "import numpy as np\n",
    "# hide numpy log warning\n",
    "np.seterr(divide = 'ignore') \n",
    "import pandas as pd\n",
    "import warnings\n",
    "import seaborn as sns\n",
    "import matplotlib.pyplot as plt\n",
    "\n",
    "from skbio import OrdinationResults\n",
    "from sklearn.ensemble import RandomForestClassifier\n",
    "from sklearn.model_selection import GridSearchCV\n",
    "from sklearn.metrics import (accuracy_score, classification_report)\n",
    "from statannotations.Annotator import Annotator\n",
    "from biom import load_table\n",
    "from matplotlib_venn import venn2\n",
    "\n",
    "# hide pandas Future/Deprecation Warning(s) for tutorial\n",
    "warnings.filterwarnings(\"ignore\", category=DeprecationWarning) \n",
    "warnings.simplefilter(action='ignore', category=FutureWarning)\n",
    "# plotting\n",
    "plt.style.use('ggplot')\n",
    "sns.set_style('white')\n",
    "%matplotlib inline"
   ]
  },
  {
   "cell_type": "markdown",
   "metadata": {},
   "source": [
    "## Load data"
   ]
  },
  {
   "cell_type": "code",
   "execution_count": 2,
   "metadata": {},
   "outputs": [],
   "source": [
    "#load rpca results\n",
    "ord_18S = OrdinationResults.read('../results/joint-rpca/18S_ord.txt')\n",
    "ord_mag = OrdinationResults.read('../results/joint-rpca/mag_ord.txt')\n",
    "ord_gene = OrdinationResults.read('../results/joint-rpca/gene_ord.txt')\n",
    "ord_gene_module = OrdinationResults.read('../results/joint-rpca/gene_module_ord.txt')\n",
    "ord_metabolite = OrdinationResults.read('../results/joint-rpca/metabolite_ord.txt')\n",
    "#load joint-rpca results\n",
    "ord_joint = OrdinationResults.read('../results/joint-rpca/joint_ord.txt')\n",
    "#load shared metadata\n",
    "metadata = pd.read_csv('../network/split-matched-data/metadata_knn.tsv', index_col=0, sep='\\t')"
   ]
  },
  {
   "cell_type": "markdown",
   "metadata": {},
   "source": [
    "## Define functions"
   ]
  },
  {
   "cell_type": "code",
   "execution_count": 13,
   "metadata": {},
   "outputs": [],
   "source": [
    "def rf_acc(ord_tables, ord_ids, shared_mt, cat_of_interest,\n",
    "           ordination=True, n_folds=10, n_estimators=100, \n",
    "           random_state=42, optimize=False, param_grid=None, \n",
    "           **kwargs):\n",
    "\n",
    "    #initialize dataframe to store results\n",
    "    metrics_df = pd.DataFrame(columns=['Omic', 'Fold', 'Accuracy', \n",
    "                                       'Report', 'Optimization'])\n",
    "    acc_ord = {}\n",
    "    \n",
    "    #iterate over ordination tables\n",
    "    for ord, omic in zip(ord_tables, ord_ids):\n",
    "        \n",
    "        if ordination:\n",
    "            X = ord.samples.copy()\n",
    "        else: \n",
    "            X = ord.copy()\n",
    "        y = X.index.map(shared_mt[cat_of_interest])\n",
    "        \n",
    "        #iterate over folds\n",
    "        acc_fold = {}\n",
    "        for fold in ['traintest_{}'.format(i) for i in range(n_folds)]:\n",
    "            \n",
    "            #split data into pre-defined train and test sets\n",
    "            X_group = X.index.map(shared_mt[fold])\n",
    "            train_index = [True if x == 'train' else False for x in X_group]\n",
    "            test_index = [True if x == 'test' else False for x in X_group]\n",
    "            X_train, X_test = X[train_index], X[test_index]\n",
    "            y_train, y_test = y[train_index], y[test_index]\n",
    "\n",
    "            if optimize:\n",
    "                print(f'Optimizing hyperparameters for {omic}, {fold}...')\n",
    "                #initialize random forest\n",
    "                rf = RandomForestClassifier(random_state=random_state)\n",
    "                #hyperparameter optimization\n",
    "                grid_search = GridSearchCV(estimator=rf, param_grid=param_grid, \n",
    "                                           cv=5, n_jobs=-1, verbose=0, scoring='accuracy')\n",
    "                grid_search.fit(X_train.values, y_train)\n",
    "                \n",
    "                print(f'Best parameters found: {grid_search.best_params_}')\n",
    "                print(f'Best cross-validation accuracy: {grid_search.best_score_}')\n",
    "\n",
    "                #save best parameters\n",
    "                best_params = grid_search.best_params_.copy()\n",
    "                best_params['best_score'] = grid_search.best_score_\n",
    "\n",
    "                #get best model\n",
    "                best_rf = grid_search.best_estimator_\n",
    "\n",
    "            else:\n",
    "                #initialize random forest with user-defined parameters\n",
    "                rf = RandomForestClassifier(n_estimators=n_estimators, \n",
    "                                            random_state=random_state, **kwargs)\n",
    "                rf.fit(X_train.values, y_train)\n",
    "                best_params = 'None'\n",
    "                best_rf = rf\n",
    "            \n",
    "            #predict on test set\n",
    "            y_pred = best_rf.predict(X_test)\n",
    "            #get accuracy and classification report\n",
    "            accuracy = accuracy_score(y_test, y_pred)\n",
    "            report = classification_report(y_test, y_pred)\n",
    "            #save results for each fold\n",
    "            acc_fold[fold] = (accuracy, report, best_params)\n",
    "        \n",
    "        #save results for each omic\n",
    "        acc_ord[omic] = acc_fold\n",
    "\n",
    "    #create df with metrics\n",
    "    for omic, acc_fold in acc_ord.items():\n",
    "        for fold, metrics in acc_fold.items():\n",
    "            metrics_df = metrics_df.append({'Omic': omic, 'Fold': fold, \n",
    "                                            'Accuracy': metrics[0], \n",
    "                                            'Report': metrics[1], \n",
    "                                            'Optimization': metrics[2]}, \n",
    "                                            ignore_index=True)\n",
    "    return metrics_df"
   ]
  },
  {
   "cell_type": "markdown",
   "metadata": {},
   "source": [
    "## Ordination-based classification"
   ]
  },
  {
   "cell_type": "markdown",
   "metadata": {},
   "source": [
    "### RF default params"
   ]
  },
  {
   "cell_type": "code",
   "execution_count": 20,
   "metadata": {},
   "outputs": [
    {
     "data": {
      "text/html": [
       "<div>\n",
       "<style scoped>\n",
       "    .dataframe tbody tr th:only-of-type {\n",
       "        vertical-align: middle;\n",
       "    }\n",
       "\n",
       "    .dataframe tbody tr th {\n",
       "        vertical-align: top;\n",
       "    }\n",
       "\n",
       "    .dataframe thead th {\n",
       "        text-align: right;\n",
       "    }\n",
       "</style>\n",
       "<table border=\"1\" class=\"dataframe\">\n",
       "  <thead>\n",
       "    <tr style=\"text-align: right;\">\n",
       "      <th></th>\n",
       "      <th>Omic</th>\n",
       "      <th>Fold</th>\n",
       "      <th>Accuracy</th>\n",
       "      <th>Report</th>\n",
       "      <th>Optimization</th>\n",
       "    </tr>\n",
       "  </thead>\n",
       "  <tbody>\n",
       "    <tr>\n",
       "      <th>0</th>\n",
       "      <td>18S_RPCA</td>\n",
       "      <td>traintest_0</td>\n",
       "      <td>0.797872</td>\n",
       "      <td>precision    recall  f1-score   ...</td>\n",
       "      <td>None</td>\n",
       "    </tr>\n",
       "    <tr>\n",
       "      <th>1</th>\n",
       "      <td>18S_RPCA</td>\n",
       "      <td>traintest_1</td>\n",
       "      <td>0.744681</td>\n",
       "      <td>precision    recall  f1-score   ...</td>\n",
       "      <td>None</td>\n",
       "    </tr>\n",
       "    <tr>\n",
       "      <th>2</th>\n",
       "      <td>18S_RPCA</td>\n",
       "      <td>traintest_2</td>\n",
       "      <td>0.734043</td>\n",
       "      <td>precision    recall  f1-score   ...</td>\n",
       "      <td>None</td>\n",
       "    </tr>\n",
       "    <tr>\n",
       "      <th>3</th>\n",
       "      <td>18S_RPCA</td>\n",
       "      <td>traintest_3</td>\n",
       "      <td>0.765957</td>\n",
       "      <td>precision    recall  f1-score   ...</td>\n",
       "      <td>None</td>\n",
       "    </tr>\n",
       "    <tr>\n",
       "      <th>4</th>\n",
       "      <td>18S_RPCA</td>\n",
       "      <td>traintest_4</td>\n",
       "      <td>0.755319</td>\n",
       "      <td>precision    recall  f1-score   ...</td>\n",
       "      <td>None</td>\n",
       "    </tr>\n",
       "  </tbody>\n",
       "</table>\n",
       "</div>"
      ],
      "text/plain": [
       "       Omic         Fold  Accuracy  \\\n",
       "0  18S_RPCA  traintest_0  0.797872   \n",
       "1  18S_RPCA  traintest_1  0.744681   \n",
       "2  18S_RPCA  traintest_2  0.734043   \n",
       "3  18S_RPCA  traintest_3  0.765957   \n",
       "4  18S_RPCA  traintest_4  0.755319   \n",
       "\n",
       "                                              Report Optimization  \n",
       "0                precision    recall  f1-score   ...         None  \n",
       "1                precision    recall  f1-score   ...         None  \n",
       "2                precision    recall  f1-score   ...         None  \n",
       "3                precision    recall  f1-score   ...         None  \n",
       "4                precision    recall  f1-score   ...         None  "
      ]
     },
     "metadata": {},
     "output_type": "display_data"
    }
   ],
   "source": [
    "#FACILITY\n",
    "acc_ord_facility = rf_acc(ord_tables=[ord_18S, ord_mag, ord_gene, \n",
    "                                      ord_gene_module, ord_metabolite, ord_joint],\n",
    "                          ord_ids=[\"18S_RPCA\", \"MAG_RPCA\", \"Gene_RPCA\",\n",
    "                                   \"Gene_Module_RPCA\", \"Metabolite_RPCA\", \"Joint_RPCA\"], \n",
    "                          shared_mt=metadata, cat_of_interest='facility', ordination=True, \n",
    "                          random_state=42, bootstrap=False, optimize=False, param_grid=None)\n",
    "\n",
    "display(acc_ord_facility.head())"
   ]
  },
  {
   "cell_type": "code",
   "execution_count": 21,
   "metadata": {},
   "outputs": [
    {
     "data": {
      "text/html": [
       "<div>\n",
       "<style scoped>\n",
       "    .dataframe tbody tr th:only-of-type {\n",
       "        vertical-align: middle;\n",
       "    }\n",
       "\n",
       "    .dataframe tbody tr th {\n",
       "        vertical-align: top;\n",
       "    }\n",
       "\n",
       "    .dataframe thead th {\n",
       "        text-align: right;\n",
       "    }\n",
       "</style>\n",
       "<table border=\"1\" class=\"dataframe\">\n",
       "  <thead>\n",
       "    <tr style=\"text-align: right;\">\n",
       "      <th></th>\n",
       "      <th>Omic</th>\n",
       "      <th>Fold</th>\n",
       "      <th>Accuracy</th>\n",
       "      <th>Report</th>\n",
       "      <th>Optimization</th>\n",
       "    </tr>\n",
       "  </thead>\n",
       "  <tbody>\n",
       "    <tr>\n",
       "      <th>0</th>\n",
       "      <td>18S_RPCA</td>\n",
       "      <td>traintest_0</td>\n",
       "      <td>0.446809</td>\n",
       "      <td>precision    recall  f1-score   ...</td>\n",
       "      <td>None</td>\n",
       "    </tr>\n",
       "    <tr>\n",
       "      <th>1</th>\n",
       "      <td>18S_RPCA</td>\n",
       "      <td>traintest_1</td>\n",
       "      <td>0.468085</td>\n",
       "      <td>precision    recall  f1-score   ...</td>\n",
       "      <td>None</td>\n",
       "    </tr>\n",
       "    <tr>\n",
       "      <th>2</th>\n",
       "      <td>18S_RPCA</td>\n",
       "      <td>traintest_2</td>\n",
       "      <td>0.489362</td>\n",
       "      <td>precision    recall  f1-score   ...</td>\n",
       "      <td>None</td>\n",
       "    </tr>\n",
       "    <tr>\n",
       "      <th>3</th>\n",
       "      <td>18S_RPCA</td>\n",
       "      <td>traintest_3</td>\n",
       "      <td>0.457447</td>\n",
       "      <td>precision    recall  f1-score   ...</td>\n",
       "      <td>None</td>\n",
       "    </tr>\n",
       "    <tr>\n",
       "      <th>4</th>\n",
       "      <td>18S_RPCA</td>\n",
       "      <td>traintest_4</td>\n",
       "      <td>0.510638</td>\n",
       "      <td>precision    recall  f1-score   ...</td>\n",
       "      <td>None</td>\n",
       "    </tr>\n",
       "  </tbody>\n",
       "</table>\n",
       "</div>"
      ],
      "text/plain": [
       "       Omic         Fold  Accuracy  \\\n",
       "0  18S_RPCA  traintest_0  0.446809   \n",
       "1  18S_RPCA  traintest_1  0.468085   \n",
       "2  18S_RPCA  traintest_2  0.489362   \n",
       "3  18S_RPCA  traintest_3  0.457447   \n",
       "4  18S_RPCA  traintest_4  0.510638   \n",
       "\n",
       "                                              Report Optimization  \n",
       "0                precision    recall  f1-score   ...         None  \n",
       "1                precision    recall  f1-score   ...         None  \n",
       "2                precision    recall  f1-score   ...         None  \n",
       "3                precision    recall  f1-score   ...         None  \n",
       "4                precision    recall  f1-score   ...         None  "
      ]
     },
     "metadata": {},
     "output_type": "display_data"
    }
   ],
   "source": [
    "#STAGE OF DECOPMPOSITION (ADD 0C)\n",
    "acc_ord_stage = rf_acc(ord_tables=[ord_18S, ord_mag, ord_gene, \n",
    "                                    ord_gene_module, ord_metabolite, ord_joint],\n",
    "                        ord_ids=[\"18S_RPCA\", \"MAG_RPCA\", \"Gene_RPCA\",\n",
    "                                 \"Gene_Module_RPCA\", \"Metabolite_RPCA\", \"Joint_RPCA\"], \n",
    "                        shared_mt=metadata, cat_of_interest='add_0c_group', ordination=True, \n",
    "                        random_state=42, bootstrap=False, optimize=False, param_grid=None)\n",
    "\n",
    "display(acc_ord_stage.head())"
   ]
  },
  {
   "cell_type": "code",
   "execution_count": 22,
   "metadata": {},
   "outputs": [
    {
     "data": {
      "text/html": [
       "<div>\n",
       "<style scoped>\n",
       "    .dataframe tbody tr th:only-of-type {\n",
       "        vertical-align: middle;\n",
       "    }\n",
       "\n",
       "    .dataframe tbody tr th {\n",
       "        vertical-align: top;\n",
       "    }\n",
       "\n",
       "    .dataframe thead th {\n",
       "        text-align: right;\n",
       "    }\n",
       "</style>\n",
       "<table border=\"1\" class=\"dataframe\">\n",
       "  <thead>\n",
       "    <tr style=\"text-align: right;\">\n",
       "      <th></th>\n",
       "      <th>Omic</th>\n",
       "      <th>Fold</th>\n",
       "      <th>Accuracy</th>\n",
       "      <th>Report</th>\n",
       "      <th>Optimization</th>\n",
       "    </tr>\n",
       "  </thead>\n",
       "  <tbody>\n",
       "    <tr>\n",
       "      <th>0</th>\n",
       "      <td>18S_RPCA</td>\n",
       "      <td>traintest_0</td>\n",
       "      <td>0.787234</td>\n",
       "      <td>precision    recall  f1-score   ...</td>\n",
       "      <td>None</td>\n",
       "    </tr>\n",
       "    <tr>\n",
       "      <th>1</th>\n",
       "      <td>18S_RPCA</td>\n",
       "      <td>traintest_1</td>\n",
       "      <td>0.797872</td>\n",
       "      <td>precision    recall  f1-score   ...</td>\n",
       "      <td>None</td>\n",
       "    </tr>\n",
       "    <tr>\n",
       "      <th>2</th>\n",
       "      <td>18S_RPCA</td>\n",
       "      <td>traintest_2</td>\n",
       "      <td>0.776596</td>\n",
       "      <td>precision    recall  f1-score   ...</td>\n",
       "      <td>None</td>\n",
       "    </tr>\n",
       "    <tr>\n",
       "      <th>3</th>\n",
       "      <td>18S_RPCA</td>\n",
       "      <td>traintest_3</td>\n",
       "      <td>0.723404</td>\n",
       "      <td>precision    recall  f1-score   ...</td>\n",
       "      <td>None</td>\n",
       "    </tr>\n",
       "    <tr>\n",
       "      <th>4</th>\n",
       "      <td>18S_RPCA</td>\n",
       "      <td>traintest_4</td>\n",
       "      <td>0.829787</td>\n",
       "      <td>precision    recall  f1-score   ...</td>\n",
       "      <td>None</td>\n",
       "    </tr>\n",
       "  </tbody>\n",
       "</table>\n",
       "</div>"
      ],
      "text/plain": [
       "       Omic         Fold  Accuracy  \\\n",
       "0  18S_RPCA  traintest_0  0.787234   \n",
       "1  18S_RPCA  traintest_1  0.797872   \n",
       "2  18S_RPCA  traintest_2  0.776596   \n",
       "3  18S_RPCA  traintest_3  0.723404   \n",
       "4  18S_RPCA  traintest_4  0.829787   \n",
       "\n",
       "                                              Report Optimization  \n",
       "0                precision    recall  f1-score   ...         None  \n",
       "1                precision    recall  f1-score   ...         None  \n",
       "2                precision    recall  f1-score   ...         None  \n",
       "3                precision    recall  f1-score   ...         None  \n",
       "4                precision    recall  f1-score   ...         None  "
      ]
     },
     "metadata": {},
     "output_type": "display_data"
    }
   ],
   "source": [
    "#SEASON\n",
    "acc_ord_season = rf_acc(ord_tables=[ord_18S, ord_mag, ord_gene, \n",
    "                                    ord_gene_module, ord_metabolite, ord_joint],\n",
    "                        ord_ids=[\"18S_RPCA\", \"MAG_RPCA\", \"Gene_RPCA\",\n",
    "                                 \"Gene_Module_RPCA\", \"Metabolite_RPCA\", \"Joint_RPCA\"], \n",
    "                        shared_mt=metadata, cat_of_interest='season', ordination=True, \n",
    "                        random_state=42, bootstrap=False, optimize=False, param_grid=None)\n",
    "\n",
    "display(acc_ord_season.head())"
   ]
  },
  {
   "cell_type": "code",
   "execution_count": 23,
   "metadata": {},
   "outputs": [
    {
     "name": "stdout",
     "output_type": "stream",
     "text": [
      "p-value annotation legend:\n",
      "      ns: 5.00e-02 < p <= 1.00e+00\n",
      "       *: 1.00e-02 < p <= 5.00e-02\n",
      "      **: 1.00e-03 < p <= 1.00e-02\n",
      "     ***: 1.00e-04 < p <= 1.00e-03\n",
      "    ****: p <= 1.00e-04\n",
      "\n",
      "Metabolite_RPCA vs. Joint_RPCA: Wilcoxon test (paired samples), P_val:1.953e-03 Stat=0.000e+00\n",
      "Gene_Module_RPCA vs. Joint_RPCA: Wilcoxon test (paired samples), P_val:1.953e-03 Stat=0.000e+00\n",
      "Gene_RPCA vs. Joint_RPCA: Wilcoxon test (paired samples), P_val:1.953e-03 Stat=0.000e+00\n",
      "MAG_RPCA vs. Joint_RPCA: Wilcoxon test (paired samples), P_val:3.363e-01 Stat=4.000e+00\n",
      "18S_RPCA vs. Joint_RPCA: Wilcoxon test (paired samples), P_val:1.953e-03 Stat=0.000e+00\n",
      "p-value annotation legend:\n",
      "      ns: 5.00e-02 < p <= 1.00e+00\n",
      "       *: 1.00e-02 < p <= 5.00e-02\n",
      "      **: 1.00e-03 < p <= 1.00e-02\n",
      "     ***: 1.00e-04 < p <= 1.00e-03\n",
      "    ****: p <= 1.00e-04\n",
      "\n",
      "Metabolite_RPCA vs. Joint_RPCA: Wilcoxon test (paired samples), P_val:3.906e-03 Stat=1.000e+00\n",
      "Gene_Module_RPCA vs. Joint_RPCA: Wilcoxon test (paired samples), P_val:2.506e-02 Stat=2.000e+00\n",
      "Gene_RPCA vs. Joint_RPCA: Wilcoxon test (paired samples), P_val:4.922e-01 Stat=2.050e+01\n",
      "MAG_RPCA vs. Joint_RPCA: Wilcoxon test (paired samples), P_val:5.780e-02 Stat=6.500e+00\n",
      "18S_RPCA vs. Joint_RPCA: Wilcoxon test (paired samples), P_val:7.686e-03 Stat=0.000e+00\n",
      "p-value annotation legend:\n",
      "      ns: 5.00e-02 < p <= 1.00e+00\n",
      "       *: 1.00e-02 < p <= 5.00e-02\n",
      "      **: 1.00e-03 < p <= 1.00e-02\n",
      "     ***: 1.00e-04 < p <= 1.00e-03\n",
      "    ****: p <= 1.00e-04\n",
      "\n",
      "Metabolite_RPCA vs. Joint_RPCA: Wilcoxon test (paired samples), P_val:1.953e-03 Stat=0.000e+00\n",
      "Gene_Module_RPCA vs. Joint_RPCA: Wilcoxon test (paired samples), P_val:1.953e-03 Stat=0.000e+00\n",
      "Gene_RPCA vs. Joint_RPCA: Wilcoxon test (paired samples), P_val:1.953e-03 Stat=0.000e+00\n",
      "MAG_RPCA vs. Joint_RPCA: Wilcoxon test (paired samples), P_val:1.953e-03 Stat=0.000e+00\n",
      "18S_RPCA vs. Joint_RPCA: Wilcoxon test (paired samples), P_val:5.859e-03 Stat=2.000e+00\n"
     ]
    },
    {
     "data": {
      "image/png": "[encoded data removed]",
      "text/plain": [
       "<Figure size 1500x500 with 3 Axes>"
      ]
     },
     "metadata": {},
     "output_type": "display_data"
    }
   ],
   "source": [
    "order = ['18S_RPCA', 'MAG_RPCA', 'Gene_RPCA', \n",
    "         'Gene_Module_RPCA', 'Metabolite_RPCA', 'Joint_RPCA']\n",
    "stat_pairs = [(omic, \"Joint_RPCA\") for omic in order[0:-1]]\n",
    "plotting_params = {'x':'Omic', 'y':'Accuracy', \n",
    "                   'order':order, 'palette':'tab20'}\n",
    "\n",
    "fig, axn = plt.subplots(1, 3, figsize=(15, 5))\n",
    "for ax_, data, title in zip(axn.flatten(), \n",
    "                           [acc_ord_facility, acc_ord_stage, acc_ord_season],\n",
    "                           ['Facility', 'Stage of Decomposition', 'Season']):\n",
    "    \n",
    "    plotting_params['data'] = data\n",
    "    sns.boxplot(ax=ax_, **plotting_params)\n",
    "    \n",
    "    ax_.set_xticklabels(ax_.get_xticklabels(), rotation=30)\n",
    "    ax_.set_xlabel('')\n",
    "    ax_.set_ylabel('RF Accuracy')\n",
    "    ax_.set_title(title)\n",
    "\n",
    "    #add statistical test\n",
    "    annotator = Annotator(ax_, stat_pairs, **plotting_params)\n",
    "    annotator.configure(test=\"Wilcoxon\").apply_and_annotate()\n",
    "    #test options: Mann-Whitney, Kruskal, Wilcoxon\n",
    "\n",
    "plt.tight_layout()\n",
    "plt.show()"
   ]
  },
  {
   "cell_type": "markdown",
   "metadata": {},
   "source": [
    "### Hyper-parameter optimization"
   ]
  },
  {
   "cell_type": "code",
   "execution_count": 5,
   "metadata": {},
   "outputs": [],
   "source": [
    "param_grid = {\n",
    "    'n_estimators': [100, 200, 300],\n",
    "    'max_depth': [None, 10, 20],\n",
    "    'min_samples_split': [2, 5, 10],\n",
    "    'min_samples_leaf': [1, 2, 4],\n",
    "    'bootstrap': [True, False]\n",
    "}"
   ]
  },
  {
   "cell_type": "code",
   "execution_count": 14,
   "metadata": {},
   "outputs": [
    {
     "name": "stdout",
     "output_type": "stream",
     "text": [
      "Optimizing hyperparameters for 18S_RPCA, traintest_0...\n",
      "Best parameters found: {'bootstrap': True, 'max_depth': None, 'min_samples_leaf': 2, 'min_samples_split': 2, 'n_estimators': 100}\n",
      "Best cross-validation accuracy: 0.7964285714285715\n",
      "Optimizing hyperparameters for 18S_RPCA, traintest_1...\n",
      "Best parameters found: {'bootstrap': True, 'max_depth': None, 'min_samples_leaf': 1, 'min_samples_split': 5, 'n_estimators': 100}\n",
      "Best cross-validation accuracy: 0.7857142857142858\n",
      "Optimizing hyperparameters for 18S_RPCA, traintest_2...\n",
      "Best parameters found: {'bootstrap': False, 'max_depth': None, 'min_samples_leaf': 4, 'min_samples_split': 10, 'n_estimators': 100}\n",
      "Best cross-validation accuracy: 0.8071428571428572\n",
      "Optimizing hyperparameters for 18S_RPCA, traintest_3...\n",
      "Best parameters found: {'bootstrap': True, 'max_depth': 10, 'min_samples_leaf': 1, 'min_samples_split': 5, 'n_estimators': 100}\n",
      "Best cross-validation accuracy: 0.7785714285714286\n",
      "Optimizing hyperparameters for 18S_RPCA, traintest_4...\n",
      "Best parameters found: {'bootstrap': True, 'max_depth': None, 'min_samples_leaf': 2, 'min_samples_split': 5, 'n_estimators': 200}\n",
      "Best cross-validation accuracy: 0.8071428571428572\n",
      "Optimizing hyperparameters for 18S_RPCA, traintest_5...\n",
      "Best parameters found: {'bootstrap': True, 'max_depth': 10, 'min_samples_leaf': 1, 'min_samples_split': 5, 'n_estimators': 200}\n",
      "Best cross-validation accuracy: 0.7964285714285714\n",
      "Optimizing hyperparameters for 18S_RPCA, traintest_6...\n",
      "Best parameters found: {'bootstrap': True, 'max_depth': 10, 'min_samples_leaf': 1, 'min_samples_split': 5, 'n_estimators': 200}\n",
      "Best cross-validation accuracy: 0.7964285714285714\n",
      "Optimizing hyperparameters for 18S_RPCA, traintest_7...\n",
      "Best parameters found: {'bootstrap': True, 'max_depth': None, 'min_samples_leaf': 2, 'min_samples_split': 2, 'n_estimators': 100}\n",
      "Best cross-validation accuracy: 0.775\n",
      "Optimizing hyperparameters for 18S_RPCA, traintest_8...\n",
      "Best parameters found: {'bootstrap': False, 'max_depth': 10, 'min_samples_leaf': 2, 'min_samples_split': 2, 'n_estimators': 200}\n",
      "Best cross-validation accuracy: 0.7607142857142858\n",
      "Optimizing hyperparameters for 18S_RPCA, traintest_9...\n",
      "Best parameters found: {'bootstrap': True, 'max_depth': 10, 'min_samples_leaf': 2, 'min_samples_split': 2, 'n_estimators': 300}\n",
      "Best cross-validation accuracy: 0.75\n",
      "Optimizing hyperparameters for MAG_RPCA, traintest_0...\n",
      "Best parameters found: {'bootstrap': True, 'max_depth': None, 'min_samples_leaf': 1, 'min_samples_split': 2, 'n_estimators': 100}\n",
      "Best cross-validation accuracy: 0.9928571428571429\n",
      "Optimizing hyperparameters for MAG_RPCA, traintest_1...\n",
      "Best parameters found: {'bootstrap': True, 'max_depth': None, 'min_samples_leaf': 1, 'min_samples_split': 2, 'n_estimators': 100}\n",
      "Best cross-validation accuracy: 0.9964285714285716\n",
      "Optimizing hyperparameters for MAG_RPCA, traintest_2...\n",
      "Best parameters found: {'bootstrap': True, 'max_depth': None, 'min_samples_leaf': 1, 'min_samples_split': 2, 'n_estimators': 100}\n",
      "Best cross-validation accuracy: 0.9964285714285716\n",
      "Optimizing hyperparameters for MAG_RPCA, traintest_3...\n",
      "Best parameters found: {'bootstrap': True, 'max_depth': None, 'min_samples_leaf': 1, 'min_samples_split': 2, 'n_estimators': 200}\n",
      "Best cross-validation accuracy: 0.9928571428571429\n",
      "Optimizing hyperparameters for MAG_RPCA, traintest_4...\n",
      "Best parameters found: {'bootstrap': True, 'max_depth': None, 'min_samples_leaf': 1, 'min_samples_split': 2, 'n_estimators': 200}\n",
      "Best cross-validation accuracy: 1.0\n",
      "Optimizing hyperparameters for MAG_RPCA, traintest_5...\n",
      "Best parameters found: {'bootstrap': True, 'max_depth': None, 'min_samples_leaf': 1, 'min_samples_split': 2, 'n_estimators': 100}\n",
      "Best cross-validation accuracy: 0.9928571428571429\n",
      "Optimizing hyperparameters for MAG_RPCA, traintest_6...\n",
      "Best parameters found: {'bootstrap': False, 'max_depth': None, 'min_samples_leaf': 1, 'min_samples_split': 10, 'n_estimators': 100}\n",
      "Best cross-validation accuracy: 0.9928571428571429\n",
      "Optimizing hyperparameters for MAG_RPCA, traintest_7...\n",
      "Best parameters found: {'bootstrap': True, 'max_depth': None, 'min_samples_leaf': 1, 'min_samples_split': 2, 'n_estimators': 100}\n",
      "Best cross-validation accuracy: 0.9928571428571429\n",
      "Optimizing hyperparameters for MAG_RPCA, traintest_8...\n",
      "Best parameters found: {'bootstrap': True, 'max_depth': None, 'min_samples_leaf': 1, 'min_samples_split': 2, 'n_estimators': 100}\n",
      "Best cross-validation accuracy: 0.9892857142857142\n",
      "Optimizing hyperparameters for MAG_RPCA, traintest_9...\n",
      "Best parameters found: {'bootstrap': True, 'max_depth': None, 'min_samples_leaf': 1, 'min_samples_split': 2, 'n_estimators': 100}\n",
      "Best cross-validation accuracy: 0.9928571428571429\n",
      "Optimizing hyperparameters for Gene_RPCA, traintest_0...\n",
      "Best parameters found: {'bootstrap': False, 'max_depth': None, 'min_samples_leaf': 1, 'min_samples_split': 10, 'n_estimators': 100}\n",
      "Best cross-validation accuracy: 0.9428571428571428\n",
      "Optimizing hyperparameters for Gene_RPCA, traintest_1...\n",
      "Best parameters found: {'bootstrap': True, 'max_depth': None, 'min_samples_leaf': 1, 'min_samples_split': 2, 'n_estimators': 300}\n",
      "Best cross-validation accuracy: 0.9571428571428571\n",
      "Optimizing hyperparameters for Gene_RPCA, traintest_2...\n",
      "Best parameters found: {'bootstrap': True, 'max_depth': None, 'min_samples_leaf': 1, 'min_samples_split': 2, 'n_estimators': 100}\n",
      "Best cross-validation accuracy: 0.9571428571428571\n",
      "Optimizing hyperparameters for Gene_RPCA, traintest_3...\n",
      "Best parameters found: {'bootstrap': True, 'max_depth': None, 'min_samples_leaf': 2, 'min_samples_split': 2, 'n_estimators': 100}\n",
      "Best cross-validation accuracy: 0.9535714285714286\n",
      "Optimizing hyperparameters for Gene_RPCA, traintest_4...\n",
      "Best parameters found: {'bootstrap': True, 'max_depth': None, 'min_samples_leaf': 1, 'min_samples_split': 2, 'n_estimators': 100}\n",
      "Best cross-validation accuracy: 0.9571428571428571\n",
      "Optimizing hyperparameters for Gene_RPCA, traintest_5...\n",
      "Best parameters found: {'bootstrap': False, 'max_depth': None, 'min_samples_leaf': 1, 'min_samples_split': 2, 'n_estimators': 100}\n",
      "Best cross-validation accuracy: 0.9535714285714286\n",
      "Optimizing hyperparameters for Gene_RPCA, traintest_6...\n",
      "Best parameters found: {'bootstrap': False, 'max_depth': None, 'min_samples_leaf': 1, 'min_samples_split': 2, 'n_estimators': 100}\n",
      "Best cross-validation accuracy: 0.9464285714285715\n",
      "Optimizing hyperparameters for Gene_RPCA, traintest_7...\n",
      "Best parameters found: {'bootstrap': False, 'max_depth': None, 'min_samples_leaf': 1, 'min_samples_split': 2, 'n_estimators': 100}\n",
      "Best cross-validation accuracy: 0.95\n",
      "Optimizing hyperparameters for Gene_RPCA, traintest_8...\n",
      "Best parameters found: {'bootstrap': True, 'max_depth': None, 'min_samples_leaf': 1, 'min_samples_split': 2, 'n_estimators': 200}\n",
      "Best cross-validation accuracy: 0.9571428571428571\n",
      "Optimizing hyperparameters for Gene_RPCA, traintest_9...\n",
      "Best parameters found: {'bootstrap': True, 'max_depth': None, 'min_samples_leaf': 1, 'min_samples_split': 10, 'n_estimators': 200}\n",
      "Best cross-validation accuracy: 0.9535714285714286\n",
      "Optimizing hyperparameters for Gene_Module_RPCA, traintest_0...\n",
      "Best parameters found: {'bootstrap': True, 'max_depth': None, 'min_samples_leaf': 1, 'min_samples_split': 5, 'n_estimators': 100}\n",
      "Best cross-validation accuracy: 0.775\n",
      "Optimizing hyperparameters for Gene_Module_RPCA, traintest_1...\n",
      "Best parameters found: {'bootstrap': True, 'max_depth': 10, 'min_samples_leaf': 2, 'min_samples_split': 2, 'n_estimators': 100}\n",
      "Best cross-validation accuracy: 0.8035714285714285\n",
      "Optimizing hyperparameters for Gene_Module_RPCA, traintest_2...\n",
      "Best parameters found: {'bootstrap': True, 'max_depth': None, 'min_samples_leaf': 2, 'min_samples_split': 5, 'n_estimators': 200}\n",
      "Best cross-validation accuracy: 0.7964285714285715\n",
      "Optimizing hyperparameters for Gene_Module_RPCA, traintest_3...\n",
      "Best parameters found: {'bootstrap': False, 'max_depth': 10, 'min_samples_leaf': 1, 'min_samples_split': 5, 'n_estimators': 100}\n",
      "Best cross-validation accuracy: 0.7607142857142857\n",
      "Optimizing hyperparameters for Gene_Module_RPCA, traintest_4...\n",
      "Best parameters found: {'bootstrap': True, 'max_depth': 10, 'min_samples_leaf': 1, 'min_samples_split': 2, 'n_estimators': 200}\n",
      "Best cross-validation accuracy: 0.7821428571428571\n",
      "Optimizing hyperparameters for Gene_Module_RPCA, traintest_5...\n",
      "Best parameters found: {'bootstrap': True, 'max_depth': 10, 'min_samples_leaf': 4, 'min_samples_split': 10, 'n_estimators': 100}\n",
      "Best cross-validation accuracy: 0.8\n",
      "Optimizing hyperparameters for Gene_Module_RPCA, traintest_6...\n",
      "Best parameters found: {'bootstrap': False, 'max_depth': 10, 'min_samples_leaf': 1, 'min_samples_split': 2, 'n_estimators': 200}\n",
      "Best cross-validation accuracy: 0.8214285714285715\n",
      "Optimizing hyperparameters for Gene_Module_RPCA, traintest_7...\n",
      "Best parameters found: {'bootstrap': True, 'max_depth': None, 'min_samples_leaf': 1, 'min_samples_split': 2, 'n_estimators': 100}\n",
      "Best cross-validation accuracy: 0.7785714285714286\n",
      "Optimizing hyperparameters for Gene_Module_RPCA, traintest_8...\n",
      "Best parameters found: {'bootstrap': False, 'max_depth': None, 'min_samples_leaf': 1, 'min_samples_split': 2, 'n_estimators': 300}\n",
      "Best cross-validation accuracy: 0.7857142857142857\n",
      "Optimizing hyperparameters for Gene_Module_RPCA, traintest_9...\n",
      "Best parameters found: {'bootstrap': False, 'max_depth': None, 'min_samples_leaf': 1, 'min_samples_split': 5, 'n_estimators': 100}\n",
      "Best cross-validation accuracy: 0.7857142857142857\n",
      "Optimizing hyperparameters for Metabolite_RPCA, traintest_0...\n",
      "Best parameters found: {'bootstrap': False, 'max_depth': 10, 'min_samples_leaf': 4, 'min_samples_split': 10, 'n_estimators': 100}\n",
      "Best cross-validation accuracy: 0.5357142857142857\n",
      "Optimizing hyperparameters for Metabolite_RPCA, traintest_1...\n",
      "Best parameters found: {'bootstrap': True, 'max_depth': 10, 'min_samples_leaf': 1, 'min_samples_split': 2, 'n_estimators': 100}\n",
      "Best cross-validation accuracy: 0.5464285714285715\n",
      "Optimizing hyperparameters for Metabolite_RPCA, traintest_2...\n",
      "Best parameters found: {'bootstrap': True, 'max_depth': 10, 'min_samples_leaf': 2, 'min_samples_split': 5, 'n_estimators': 100}\n",
      "Best cross-validation accuracy: 0.5428571428571428\n",
      "Optimizing hyperparameters for Metabolite_RPCA, traintest_3...\n",
      "Best parameters found: {'bootstrap': True, 'max_depth': 10, 'min_samples_leaf': 1, 'min_samples_split': 2, 'n_estimators': 300}\n",
      "Best cross-validation accuracy: 0.5428571428571428\n",
      "Optimizing hyperparameters for Metabolite_RPCA, traintest_4...\n",
      "Best parameters found: {'bootstrap': False, 'max_depth': 10, 'min_samples_leaf': 4, 'min_samples_split': 10, 'n_estimators': 100}\n",
      "Best cross-validation accuracy: 0.5428571428571429\n",
      "Optimizing hyperparameters for Metabolite_RPCA, traintest_5...\n",
      "Best parameters found: {'bootstrap': True, 'max_depth': 10, 'min_samples_leaf': 1, 'min_samples_split': 5, 'n_estimators': 100}\n",
      "Best cross-validation accuracy: 0.5642857142857143\n",
      "Optimizing hyperparameters for Metabolite_RPCA, traintest_6...\n",
      "Best parameters found: {'bootstrap': True, 'max_depth': 10, 'min_samples_leaf': 2, 'min_samples_split': 10, 'n_estimators': 200}\n",
      "Best cross-validation accuracy: 0.5357142857142858\n",
      "Optimizing hyperparameters for Metabolite_RPCA, traintest_7...\n",
      "Best parameters found: {'bootstrap': True, 'max_depth': None, 'min_samples_leaf': 4, 'min_samples_split': 10, 'n_estimators': 100}\n",
      "Best cross-validation accuracy: 0.5321428571428571\n",
      "Optimizing hyperparameters for Metabolite_RPCA, traintest_8...\n",
      "Best parameters found: {'bootstrap': False, 'max_depth': 10, 'min_samples_leaf': 1, 'min_samples_split': 2, 'n_estimators': 300}\n",
      "Best cross-validation accuracy: 0.5714285714285714\n",
      "Optimizing hyperparameters for Metabolite_RPCA, traintest_9...\n",
      "Best parameters found: {'bootstrap': True, 'max_depth': None, 'min_samples_leaf': 1, 'min_samples_split': 10, 'n_estimators': 300}\n",
      "Best cross-validation accuracy: 0.5321428571428571\n",
      "Optimizing hyperparameters for Joint_RPCA, traintest_0...\n",
      "Best parameters found: {'bootstrap': True, 'max_depth': None, 'min_samples_leaf': 1, 'min_samples_split': 5, 'n_estimators': 200}\n",
      "Best cross-validation accuracy: 0.975\n",
      "Optimizing hyperparameters for Joint_RPCA, traintest_1...\n",
      "Best parameters found: {'bootstrap': True, 'max_depth': None, 'min_samples_leaf': 1, 'min_samples_split': 5, 'n_estimators': 100}\n",
      "Best cross-validation accuracy: 0.9857142857142858\n",
      "Optimizing hyperparameters for Joint_RPCA, traintest_2...\n",
      "Best parameters found: {'bootstrap': True, 'max_depth': None, 'min_samples_leaf': 1, 'min_samples_split': 2, 'n_estimators': 100}\n",
      "Best cross-validation accuracy: 0.9857142857142858\n",
      "Optimizing hyperparameters for Joint_RPCA, traintest_3...\n",
      "Best parameters found: {'bootstrap': True, 'max_depth': None, 'min_samples_leaf': 1, 'min_samples_split': 2, 'n_estimators': 100}\n",
      "Best cross-validation accuracy: 0.975\n",
      "Optimizing hyperparameters for Joint_RPCA, traintest_4...\n",
      "Best parameters found: {'bootstrap': True, 'max_depth': None, 'min_samples_leaf': 1, 'min_samples_split': 2, 'n_estimators': 200}\n",
      "Best cross-validation accuracy: 0.9857142857142858\n",
      "Optimizing hyperparameters for Joint_RPCA, traintest_5...\n",
      "Best parameters found: {'bootstrap': False, 'max_depth': None, 'min_samples_leaf': 2, 'min_samples_split': 2, 'n_estimators': 300}\n",
      "Best cross-validation accuracy: 0.9928571428571429\n",
      "Optimizing hyperparameters for Joint_RPCA, traintest_6...\n",
      "Best parameters found: {'bootstrap': True, 'max_depth': None, 'min_samples_leaf': 2, 'min_samples_split': 2, 'n_estimators': 300}\n",
      "Best cross-validation accuracy: 0.975\n",
      "Optimizing hyperparameters for Joint_RPCA, traintest_7...\n",
      "Best parameters found: {'bootstrap': True, 'max_depth': None, 'min_samples_leaf': 1, 'min_samples_split': 2, 'n_estimators': 300}\n",
      "Best cross-validation accuracy: 0.9785714285714286\n",
      "Optimizing hyperparameters for Joint_RPCA, traintest_8...\n",
      "Best parameters found: {'bootstrap': False, 'max_depth': None, 'min_samples_leaf': 1, 'min_samples_split': 2, 'n_estimators': 100}\n",
      "Best cross-validation accuracy: 0.9892857142857142\n",
      "Optimizing hyperparameters for Joint_RPCA, traintest_9...\n",
      "Best parameters found: {'bootstrap': True, 'max_depth': None, 'min_samples_leaf': 1, 'min_samples_split': 2, 'n_estimators': 100}\n",
      "Best cross-validation accuracy: 0.9821428571428571\n"
     ]
    }
   ],
   "source": [
    "#FACILITY\n",
    "acc_ord_facility_opt = rf_acc(ord_tables=[ord_18S, ord_mag, ord_gene, \n",
    "                                          ord_gene_module, ord_metabolite, ord_joint],\n",
    "                              ord_ids=[\"18S_RPCA\", \"MAG_RPCA\", \"Gene_RPCA\",\n",
    "                                       \"Gene_Module_RPCA\", \"Metabolite_RPCA\", \"Joint_RPCA\"], \n",
    "                              shared_mt=metadata, cat_of_interest='facility', ordination=True, \n",
    "                              n_folds=10, random_state=42, optimize=True, param_grid=param_grid)"
   ]
  },
  {
   "cell_type": "code",
   "execution_count": 15,
   "metadata": {},
   "outputs": [
    {
     "data": {
      "text/html": [
       "<div>\n",
       "<style scoped>\n",
       "    .dataframe tbody tr th:only-of-type {\n",
       "        vertical-align: middle;\n",
       "    }\n",
       "\n",
       "    .dataframe tbody tr th {\n",
       "        vertical-align: top;\n",
       "    }\n",
       "\n",
       "    .dataframe thead th {\n",
       "        text-align: right;\n",
       "    }\n",
       "</style>\n",
       "<table border=\"1\" class=\"dataframe\">\n",
       "  <thead>\n",
       "    <tr style=\"text-align: right;\">\n",
       "      <th></th>\n",
       "      <th>Omic</th>\n",
       "      <th>Fold</th>\n",
       "      <th>Accuracy</th>\n",
       "      <th>Report</th>\n",
       "      <th>Optimization</th>\n",
       "    </tr>\n",
       "  </thead>\n",
       "  <tbody>\n",
       "    <tr>\n",
       "      <th>0</th>\n",
       "      <td>18S_RPCA</td>\n",
       "      <td>traintest_0</td>\n",
       "      <td>0.787234</td>\n",
       "      <td>precision    recall  f1-score   ...</td>\n",
       "      <td>{'bootstrap': True, 'max_depth': None, 'min_sa...</td>\n",
       "    </tr>\n",
       "    <tr>\n",
       "      <th>1</th>\n",
       "      <td>18S_RPCA</td>\n",
       "      <td>traintest_1</td>\n",
       "      <td>0.744681</td>\n",
       "      <td>precision    recall  f1-score   ...</td>\n",
       "      <td>{'bootstrap': True, 'max_depth': None, 'min_sa...</td>\n",
       "    </tr>\n",
       "    <tr>\n",
       "      <th>2</th>\n",
       "      <td>18S_RPCA</td>\n",
       "      <td>traintest_2</td>\n",
       "      <td>0.670213</td>\n",
       "      <td>precision    recall  f1-score   ...</td>\n",
       "      <td>{'bootstrap': False, 'max_depth': None, 'min_s...</td>\n",
       "    </tr>\n",
       "    <tr>\n",
       "      <th>3</th>\n",
       "      <td>18S_RPCA</td>\n",
       "      <td>traintest_3</td>\n",
       "      <td>0.765957</td>\n",
       "      <td>precision    recall  f1-score   ...</td>\n",
       "      <td>{'bootstrap': True, 'max_depth': 10, 'min_samp...</td>\n",
       "    </tr>\n",
       "    <tr>\n",
       "      <th>4</th>\n",
       "      <td>18S_RPCA</td>\n",
       "      <td>traintest_4</td>\n",
       "      <td>0.797872</td>\n",
       "      <td>precision    recall  f1-score   ...</td>\n",
       "      <td>{'bootstrap': True, 'max_depth': None, 'min_sa...</td>\n",
       "    </tr>\n",
       "  </tbody>\n",
       "</table>\n",
       "</div>"
      ],
      "text/plain": [
       "       Omic         Fold  Accuracy  \\\n",
       "0  18S_RPCA  traintest_0  0.787234   \n",
       "1  18S_RPCA  traintest_1  0.744681   \n",
       "2  18S_RPCA  traintest_2  0.670213   \n",
       "3  18S_RPCA  traintest_3  0.765957   \n",
       "4  18S_RPCA  traintest_4  0.797872   \n",
       "\n",
       "                                              Report  \\\n",
       "0                precision    recall  f1-score   ...   \n",
       "1                precision    recall  f1-score   ...   \n",
       "2                precision    recall  f1-score   ...   \n",
       "3                precision    recall  f1-score   ...   \n",
       "4                precision    recall  f1-score   ...   \n",
       "\n",
       "                                        Optimization  \n",
       "0  {'bootstrap': True, 'max_depth': None, 'min_sa...  \n",
       "1  {'bootstrap': True, 'max_depth': None, 'min_sa...  \n",
       "2  {'bootstrap': False, 'max_depth': None, 'min_s...  \n",
       "3  {'bootstrap': True, 'max_depth': 10, 'min_samp...  \n",
       "4  {'bootstrap': True, 'max_depth': None, 'min_sa...  "
      ]
     },
     "metadata": {},
     "output_type": "display_data"
    }
   ],
   "source": [
    "#save results\n",
    "#acc_ord_facility_opt.to_csv('../results/joint-rpca/rf_acc_facility_opt.csv', index=False)\n",
    "display(acc_ord_facility_opt.head())"
   ]
  },
  {
   "cell_type": "code",
   "execution_count": 18,
   "metadata": {},
   "outputs": [
    {
     "name": "stdout",
     "output_type": "stream",
     "text": [
      "Optimizing hyperparameters for 18S_RPCA, traintest_0...\n",
      "Best parameters found: {'bootstrap': True, 'max_depth': 10, 'min_samples_leaf': 2, 'min_samples_split': 10, 'n_estimators': 100}\n",
      "Best cross-validation accuracy: 0.46071428571428574\n",
      "Optimizing hyperparameters for 18S_RPCA, traintest_1...\n"
     ]
    },
    {
     "name": "stderr",
     "output_type": "stream",
     "text": [
      "/Users/biacordazzo/opt/anaconda3/envs/qiime2-amplicon-2024.5/lib/python3.9/site-packages/sklearn/metrics/_classification.py:1509: UndefinedMetricWarning: Precision is ill-defined and being set to 0.0 in labels with no predicted samples. Use `zero_division` parameter to control this behavior.\n",
      "  _warn_prf(average, modifier, f\"{metric.capitalize()} is\", len(result))\n",
      "/Users/biacordazzo/opt/anaconda3/envs/qiime2-amplicon-2024.5/lib/python3.9/site-packages/sklearn/metrics/_classification.py:1509: UndefinedMetricWarning: Precision is ill-defined and being set to 0.0 in labels with no predicted samples. Use `zero_division` parameter to control this behavior.\n",
      "  _warn_prf(average, modifier, f\"{metric.capitalize()} is\", len(result))\n",
      "/Users/biacordazzo/opt/anaconda3/envs/qiime2-amplicon-2024.5/lib/python3.9/site-packages/sklearn/metrics/_classification.py:1509: UndefinedMetricWarning: Precision is ill-defined and being set to 0.0 in labels with no predicted samples. Use `zero_division` parameter to control this behavior.\n",
      "  _warn_prf(average, modifier, f\"{metric.capitalize()} is\", len(result))\n"
     ]
    },
    {
     "name": "stdout",
     "output_type": "stream",
     "text": [
      "Best parameters found: {'bootstrap': False, 'max_depth': None, 'min_samples_leaf': 2, 'min_samples_split': 2, 'n_estimators': 200}\n",
      "Best cross-validation accuracy: 0.4821428571428572\n",
      "Optimizing hyperparameters for 18S_RPCA, traintest_2...\n",
      "Best parameters found: {'bootstrap': True, 'max_depth': None, 'min_samples_leaf': 1, 'min_samples_split': 2, 'n_estimators': 300}\n",
      "Best cross-validation accuracy: 0.5178571428571429\n",
      "Optimizing hyperparameters for 18S_RPCA, traintest_3...\n"
     ]
    },
    {
     "name": "stderr",
     "output_type": "stream",
     "text": [
      "/Users/biacordazzo/opt/anaconda3/envs/qiime2-amplicon-2024.5/lib/python3.9/site-packages/sklearn/metrics/_classification.py:1509: UndefinedMetricWarning: Precision is ill-defined and being set to 0.0 in labels with no predicted samples. Use `zero_division` parameter to control this behavior.\n",
      "  _warn_prf(average, modifier, f\"{metric.capitalize()} is\", len(result))\n",
      "/Users/biacordazzo/opt/anaconda3/envs/qiime2-amplicon-2024.5/lib/python3.9/site-packages/sklearn/metrics/_classification.py:1509: UndefinedMetricWarning: Precision is ill-defined and being set to 0.0 in labels with no predicted samples. Use `zero_division` parameter to control this behavior.\n",
      "  _warn_prf(average, modifier, f\"{metric.capitalize()} is\", len(result))\n",
      "/Users/biacordazzo/opt/anaconda3/envs/qiime2-amplicon-2024.5/lib/python3.9/site-packages/sklearn/metrics/_classification.py:1509: UndefinedMetricWarning: Precision is ill-defined and being set to 0.0 in labels with no predicted samples. Use `zero_division` parameter to control this behavior.\n",
      "  _warn_prf(average, modifier, f\"{metric.capitalize()} is\", len(result))\n"
     ]
    },
    {
     "name": "stdout",
     "output_type": "stream",
     "text": [
      "Best parameters found: {'bootstrap': True, 'max_depth': 10, 'min_samples_leaf': 1, 'min_samples_split': 5, 'n_estimators': 100}\n",
      "Best cross-validation accuracy: 0.5142857142857142\n",
      "Optimizing hyperparameters for 18S_RPCA, traintest_4...\n",
      "Best parameters found: {'bootstrap': True, 'max_depth': None, 'min_samples_leaf': 4, 'min_samples_split': 2, 'n_estimators': 100}\n",
      "Best cross-validation accuracy: 0.45357142857142857\n",
      "Optimizing hyperparameters for 18S_RPCA, traintest_5...\n"
     ]
    },
    {
     "name": "stderr",
     "output_type": "stream",
     "text": [
      "/Users/biacordazzo/opt/anaconda3/envs/qiime2-amplicon-2024.5/lib/python3.9/site-packages/sklearn/metrics/_classification.py:1509: UndefinedMetricWarning: Precision is ill-defined and being set to 0.0 in labels with no predicted samples. Use `zero_division` parameter to control this behavior.\n",
      "  _warn_prf(average, modifier, f\"{metric.capitalize()} is\", len(result))\n",
      "/Users/biacordazzo/opt/anaconda3/envs/qiime2-amplicon-2024.5/lib/python3.9/site-packages/sklearn/metrics/_classification.py:1509: UndefinedMetricWarning: Precision is ill-defined and being set to 0.0 in labels with no predicted samples. Use `zero_division` parameter to control this behavior.\n",
      "  _warn_prf(average, modifier, f\"{metric.capitalize()} is\", len(result))\n",
      "/Users/biacordazzo/opt/anaconda3/envs/qiime2-amplicon-2024.5/lib/python3.9/site-packages/sklearn/metrics/_classification.py:1509: UndefinedMetricWarning: Precision is ill-defined and being set to 0.0 in labels with no predicted samples. Use `zero_division` parameter to control this behavior.\n",
      "  _warn_prf(average, modifier, f\"{metric.capitalize()} is\", len(result))\n"
     ]
    },
    {
     "name": "stdout",
     "output_type": "stream",
     "text": [
      "Best parameters found: {'bootstrap': True, 'max_depth': 10, 'min_samples_leaf': 2, 'min_samples_split': 10, 'n_estimators': 200}\n",
      "Best cross-validation accuracy: 0.5178571428571429\n",
      "Optimizing hyperparameters for 18S_RPCA, traintest_6...\n"
     ]
    },
    {
     "name": "stderr",
     "output_type": "stream",
     "text": [
      "/Users/biacordazzo/opt/anaconda3/envs/qiime2-amplicon-2024.5/lib/python3.9/site-packages/sklearn/metrics/_classification.py:1509: UndefinedMetricWarning: Precision is ill-defined and being set to 0.0 in labels with no predicted samples. Use `zero_division` parameter to control this behavior.\n",
      "  _warn_prf(average, modifier, f\"{metric.capitalize()} is\", len(result))\n",
      "/Users/biacordazzo/opt/anaconda3/envs/qiime2-amplicon-2024.5/lib/python3.9/site-packages/sklearn/metrics/_classification.py:1509: UndefinedMetricWarning: Precision is ill-defined and being set to 0.0 in labels with no predicted samples. Use `zero_division` parameter to control this behavior.\n",
      "  _warn_prf(average, modifier, f\"{metric.capitalize()} is\", len(result))\n",
      "/Users/biacordazzo/opt/anaconda3/envs/qiime2-amplicon-2024.5/lib/python3.9/site-packages/sklearn/metrics/_classification.py:1509: UndefinedMetricWarning: Precision is ill-defined and being set to 0.0 in labels with no predicted samples. Use `zero_division` parameter to control this behavior.\n",
      "  _warn_prf(average, modifier, f\"{metric.capitalize()} is\", len(result))\n"
     ]
    },
    {
     "name": "stdout",
     "output_type": "stream",
     "text": [
      "Best parameters found: {'bootstrap': False, 'max_depth': None, 'min_samples_leaf': 4, 'min_samples_split': 10, 'n_estimators': 100}\n",
      "Best cross-validation accuracy: 0.525\n",
      "Optimizing hyperparameters for 18S_RPCA, traintest_7...\n"
     ]
    },
    {
     "name": "stderr",
     "output_type": "stream",
     "text": [
      "/Users/biacordazzo/opt/anaconda3/envs/qiime2-amplicon-2024.5/lib/python3.9/site-packages/sklearn/metrics/_classification.py:1509: UndefinedMetricWarning: Precision is ill-defined and being set to 0.0 in labels with no predicted samples. Use `zero_division` parameter to control this behavior.\n",
      "  _warn_prf(average, modifier, f\"{metric.capitalize()} is\", len(result))\n",
      "/Users/biacordazzo/opt/anaconda3/envs/qiime2-amplicon-2024.5/lib/python3.9/site-packages/sklearn/metrics/_classification.py:1509: UndefinedMetricWarning: Precision is ill-defined and being set to 0.0 in labels with no predicted samples. Use `zero_division` parameter to control this behavior.\n",
      "  _warn_prf(average, modifier, f\"{metric.capitalize()} is\", len(result))\n",
      "/Users/biacordazzo/opt/anaconda3/envs/qiime2-amplicon-2024.5/lib/python3.9/site-packages/sklearn/metrics/_classification.py:1509: UndefinedMetricWarning: Precision is ill-defined and being set to 0.0 in labels with no predicted samples. Use `zero_division` parameter to control this behavior.\n",
      "  _warn_prf(average, modifier, f\"{metric.capitalize()} is\", len(result))\n"
     ]
    },
    {
     "name": "stdout",
     "output_type": "stream",
     "text": [
      "Best parameters found: {'bootstrap': True, 'max_depth': None, 'min_samples_leaf': 2, 'min_samples_split': 5, 'n_estimators': 100}\n",
      "Best cross-validation accuracy: 0.5142857142857143\n",
      "Optimizing hyperparameters for 18S_RPCA, traintest_8...\n"
     ]
    },
    {
     "name": "stderr",
     "output_type": "stream",
     "text": [
      "/Users/biacordazzo/opt/anaconda3/envs/qiime2-amplicon-2024.5/lib/python3.9/site-packages/sklearn/metrics/_classification.py:1509: UndefinedMetricWarning: Precision is ill-defined and being set to 0.0 in labels with no predicted samples. Use `zero_division` parameter to control this behavior.\n",
      "  _warn_prf(average, modifier, f\"{metric.capitalize()} is\", len(result))\n",
      "/Users/biacordazzo/opt/anaconda3/envs/qiime2-amplicon-2024.5/lib/python3.9/site-packages/sklearn/metrics/_classification.py:1509: UndefinedMetricWarning: Precision is ill-defined and being set to 0.0 in labels with no predicted samples. Use `zero_division` parameter to control this behavior.\n",
      "  _warn_prf(average, modifier, f\"{metric.capitalize()} is\", len(result))\n",
      "/Users/biacordazzo/opt/anaconda3/envs/qiime2-amplicon-2024.5/lib/python3.9/site-packages/sklearn/metrics/_classification.py:1509: UndefinedMetricWarning: Precision is ill-defined and being set to 0.0 in labels with no predicted samples. Use `zero_division` parameter to control this behavior.\n",
      "  _warn_prf(average, modifier, f\"{metric.capitalize()} is\", len(result))\n"
     ]
    },
    {
     "name": "stdout",
     "output_type": "stream",
     "text": [
      "Best parameters found: {'bootstrap': True, 'max_depth': 10, 'min_samples_leaf': 1, 'min_samples_split': 2, 'n_estimators': 100}\n",
      "Best cross-validation accuracy: 0.5142857142857142\n",
      "Optimizing hyperparameters for 18S_RPCA, traintest_9...\n",
      "Best parameters found: {'bootstrap': False, 'max_depth': None, 'min_samples_leaf': 2, 'min_samples_split': 2, 'n_estimators': 300}\n",
      "Best cross-validation accuracy: 0.45357142857142857\n",
      "Optimizing hyperparameters for MAG_RPCA, traintest_0...\n",
      "Best parameters found: {'bootstrap': True, 'max_depth': None, 'min_samples_leaf': 2, 'min_samples_split': 10, 'n_estimators': 200}\n",
      "Best cross-validation accuracy: 0.5571428571428572\n",
      "Optimizing hyperparameters for MAG_RPCA, traintest_1...\n",
      "Best parameters found: {'bootstrap': True, 'max_depth': None, 'min_samples_leaf': 4, 'min_samples_split': 2, 'n_estimators': 200}\n",
      "Best cross-validation accuracy: 0.5892857142857144\n",
      "Optimizing hyperparameters for MAG_RPCA, traintest_2...\n"
     ]
    },
    {
     "name": "stderr",
     "output_type": "stream",
     "text": [
      "/Users/biacordazzo/opt/anaconda3/envs/qiime2-amplicon-2024.5/lib/python3.9/site-packages/sklearn/metrics/_classification.py:1509: UndefinedMetricWarning: Precision is ill-defined and being set to 0.0 in labels with no predicted samples. Use `zero_division` parameter to control this behavior.\n",
      "  _warn_prf(average, modifier, f\"{metric.capitalize()} is\", len(result))\n",
      "/Users/biacordazzo/opt/anaconda3/envs/qiime2-amplicon-2024.5/lib/python3.9/site-packages/sklearn/metrics/_classification.py:1509: UndefinedMetricWarning: Precision is ill-defined and being set to 0.0 in labels with no predicted samples. Use `zero_division` parameter to control this behavior.\n",
      "  _warn_prf(average, modifier, f\"{metric.capitalize()} is\", len(result))\n",
      "/Users/biacordazzo/opt/anaconda3/envs/qiime2-amplicon-2024.5/lib/python3.9/site-packages/sklearn/metrics/_classification.py:1509: UndefinedMetricWarning: Precision is ill-defined and being set to 0.0 in labels with no predicted samples. Use `zero_division` parameter to control this behavior.\n",
      "  _warn_prf(average, modifier, f\"{metric.capitalize()} is\", len(result))\n"
     ]
    },
    {
     "name": "stdout",
     "output_type": "stream",
     "text": [
      "Best parameters found: {'bootstrap': False, 'max_depth': None, 'min_samples_leaf': 4, 'min_samples_split': 10, 'n_estimators': 300}\n",
      "Best cross-validation accuracy: 0.5928571428571429\n",
      "Optimizing hyperparameters for MAG_RPCA, traintest_3...\n",
      "Best parameters found: {'bootstrap': True, 'max_depth': None, 'min_samples_leaf': 4, 'min_samples_split': 10, 'n_estimators': 200}\n",
      "Best cross-validation accuracy: 0.6250000000000001\n",
      "Optimizing hyperparameters for MAG_RPCA, traintest_4...\n",
      "Best parameters found: {'bootstrap': True, 'max_depth': None, 'min_samples_leaf': 1, 'min_samples_split': 10, 'n_estimators': 200}\n",
      "Best cross-validation accuracy: 0.5535714285714286\n",
      "Optimizing hyperparameters for MAG_RPCA, traintest_5...\n",
      "Best parameters found: {'bootstrap': True, 'max_depth': None, 'min_samples_leaf': 1, 'min_samples_split': 10, 'n_estimators': 100}\n",
      "Best cross-validation accuracy: 0.5857142857142856\n",
      "Optimizing hyperparameters for MAG_RPCA, traintest_6...\n"
     ]
    },
    {
     "name": "stderr",
     "output_type": "stream",
     "text": [
      "/Users/biacordazzo/opt/anaconda3/envs/qiime2-amplicon-2024.5/lib/python3.9/site-packages/sklearn/metrics/_classification.py:1509: UndefinedMetricWarning: Precision is ill-defined and being set to 0.0 in labels with no predicted samples. Use `zero_division` parameter to control this behavior.\n",
      "  _warn_prf(average, modifier, f\"{metric.capitalize()} is\", len(result))\n",
      "/Users/biacordazzo/opt/anaconda3/envs/qiime2-amplicon-2024.5/lib/python3.9/site-packages/sklearn/metrics/_classification.py:1509: UndefinedMetricWarning: Precision is ill-defined and being set to 0.0 in labels with no predicted samples. Use `zero_division` parameter to control this behavior.\n",
      "  _warn_prf(average, modifier, f\"{metric.capitalize()} is\", len(result))\n",
      "/Users/biacordazzo/opt/anaconda3/envs/qiime2-amplicon-2024.5/lib/python3.9/site-packages/sklearn/metrics/_classification.py:1509: UndefinedMetricWarning: Precision is ill-defined and being set to 0.0 in labels with no predicted samples. Use `zero_division` parameter to control this behavior.\n",
      "  _warn_prf(average, modifier, f\"{metric.capitalize()} is\", len(result))\n"
     ]
    },
    {
     "name": "stdout",
     "output_type": "stream",
     "text": [
      "Best parameters found: {'bootstrap': True, 'max_depth': None, 'min_samples_leaf': 1, 'min_samples_split': 5, 'n_estimators': 300}\n",
      "Best cross-validation accuracy: 0.6214285714285714\n",
      "Optimizing hyperparameters for MAG_RPCA, traintest_7...\n",
      "Best parameters found: {'bootstrap': True, 'max_depth': None, 'min_samples_leaf': 4, 'min_samples_split': 10, 'n_estimators': 100}\n",
      "Best cross-validation accuracy: 0.5892857142857142\n",
      "Optimizing hyperparameters for MAG_RPCA, traintest_8...\n"
     ]
    },
    {
     "name": "stderr",
     "output_type": "stream",
     "text": [
      "/Users/biacordazzo/opt/anaconda3/envs/qiime2-amplicon-2024.5/lib/python3.9/site-packages/sklearn/metrics/_classification.py:1509: UndefinedMetricWarning: Precision is ill-defined and being set to 0.0 in labels with no predicted samples. Use `zero_division` parameter to control this behavior.\n",
      "  _warn_prf(average, modifier, f\"{metric.capitalize()} is\", len(result))\n",
      "/Users/biacordazzo/opt/anaconda3/envs/qiime2-amplicon-2024.5/lib/python3.9/site-packages/sklearn/metrics/_classification.py:1509: UndefinedMetricWarning: Precision is ill-defined and being set to 0.0 in labels with no predicted samples. Use `zero_division` parameter to control this behavior.\n",
      "  _warn_prf(average, modifier, f\"{metric.capitalize()} is\", len(result))\n",
      "/Users/biacordazzo/opt/anaconda3/envs/qiime2-amplicon-2024.5/lib/python3.9/site-packages/sklearn/metrics/_classification.py:1509: UndefinedMetricWarning: Precision is ill-defined and being set to 0.0 in labels with no predicted samples. Use `zero_division` parameter to control this behavior.\n",
      "  _warn_prf(average, modifier, f\"{metric.capitalize()} is\", len(result))\n"
     ]
    },
    {
     "name": "stdout",
     "output_type": "stream",
     "text": [
      "Best parameters found: {'bootstrap': True, 'max_depth': None, 'min_samples_leaf': 4, 'min_samples_split': 10, 'n_estimators': 100}\n",
      "Best cross-validation accuracy: 0.6\n",
      "Optimizing hyperparameters for MAG_RPCA, traintest_9...\n"
     ]
    },
    {
     "name": "stderr",
     "output_type": "stream",
     "text": [
      "/Users/biacordazzo/opt/anaconda3/envs/qiime2-amplicon-2024.5/lib/python3.9/site-packages/sklearn/metrics/_classification.py:1509: UndefinedMetricWarning: Precision is ill-defined and being set to 0.0 in labels with no predicted samples. Use `zero_division` parameter to control this behavior.\n",
      "  _warn_prf(average, modifier, f\"{metric.capitalize()} is\", len(result))\n",
      "/Users/biacordazzo/opt/anaconda3/envs/qiime2-amplicon-2024.5/lib/python3.9/site-packages/sklearn/metrics/_classification.py:1509: UndefinedMetricWarning: Precision is ill-defined and being set to 0.0 in labels with no predicted samples. Use `zero_division` parameter to control this behavior.\n",
      "  _warn_prf(average, modifier, f\"{metric.capitalize()} is\", len(result))\n",
      "/Users/biacordazzo/opt/anaconda3/envs/qiime2-amplicon-2024.5/lib/python3.9/site-packages/sklearn/metrics/_classification.py:1509: UndefinedMetricWarning: Precision is ill-defined and being set to 0.0 in labels with no predicted samples. Use `zero_division` parameter to control this behavior.\n",
      "  _warn_prf(average, modifier, f\"{metric.capitalize()} is\", len(result))\n"
     ]
    },
    {
     "name": "stdout",
     "output_type": "stream",
     "text": [
      "Best parameters found: {'bootstrap': True, 'max_depth': None, 'min_samples_leaf': 1, 'min_samples_split': 5, 'n_estimators': 100}\n",
      "Best cross-validation accuracy: 0.6035714285714285\n",
      "Optimizing hyperparameters for Gene_RPCA, traintest_0...\n",
      "Best parameters found: {'bootstrap': True, 'max_depth': None, 'min_samples_leaf': 2, 'min_samples_split': 5, 'n_estimators': 300}\n",
      "Best cross-validation accuracy: 0.5464285714285715\n",
      "Optimizing hyperparameters for Gene_RPCA, traintest_1...\n"
     ]
    },
    {
     "name": "stderr",
     "output_type": "stream",
     "text": [
      "/Users/biacordazzo/opt/anaconda3/envs/qiime2-amplicon-2024.5/lib/python3.9/site-packages/sklearn/metrics/_classification.py:1509: UndefinedMetricWarning: Precision is ill-defined and being set to 0.0 in labels with no predicted samples. Use `zero_division` parameter to control this behavior.\n",
      "  _warn_prf(average, modifier, f\"{metric.capitalize()} is\", len(result))\n",
      "/Users/biacordazzo/opt/anaconda3/envs/qiime2-amplicon-2024.5/lib/python3.9/site-packages/sklearn/metrics/_classification.py:1509: UndefinedMetricWarning: Precision is ill-defined and being set to 0.0 in labels with no predicted samples. Use `zero_division` parameter to control this behavior.\n",
      "  _warn_prf(average, modifier, f\"{metric.capitalize()} is\", len(result))\n",
      "/Users/biacordazzo/opt/anaconda3/envs/qiime2-amplicon-2024.5/lib/python3.9/site-packages/sklearn/metrics/_classification.py:1509: UndefinedMetricWarning: Precision is ill-defined and being set to 0.0 in labels with no predicted samples. Use `zero_division` parameter to control this behavior.\n",
      "  _warn_prf(average, modifier, f\"{metric.capitalize()} is\", len(result))\n"
     ]
    },
    {
     "name": "stdout",
     "output_type": "stream",
     "text": [
      "Best parameters found: {'bootstrap': True, 'max_depth': None, 'min_samples_leaf': 1, 'min_samples_split': 10, 'n_estimators': 100}\n",
      "Best cross-validation accuracy: 0.5392857142857144\n",
      "Optimizing hyperparameters for Gene_RPCA, traintest_2...\n"
     ]
    },
    {
     "name": "stderr",
     "output_type": "stream",
     "text": [
      "/Users/biacordazzo/opt/anaconda3/envs/qiime2-amplicon-2024.5/lib/python3.9/site-packages/sklearn/metrics/_classification.py:1509: UndefinedMetricWarning: Precision is ill-defined and being set to 0.0 in labels with no predicted samples. Use `zero_division` parameter to control this behavior.\n",
      "  _warn_prf(average, modifier, f\"{metric.capitalize()} is\", len(result))\n",
      "/Users/biacordazzo/opt/anaconda3/envs/qiime2-amplicon-2024.5/lib/python3.9/site-packages/sklearn/metrics/_classification.py:1509: UndefinedMetricWarning: Precision is ill-defined and being set to 0.0 in labels with no predicted samples. Use `zero_division` parameter to control this behavior.\n",
      "  _warn_prf(average, modifier, f\"{metric.capitalize()} is\", len(result))\n",
      "/Users/biacordazzo/opt/anaconda3/envs/qiime2-amplicon-2024.5/lib/python3.9/site-packages/sklearn/metrics/_classification.py:1509: UndefinedMetricWarning: Precision is ill-defined and being set to 0.0 in labels with no predicted samples. Use `zero_division` parameter to control this behavior.\n",
      "  _warn_prf(average, modifier, f\"{metric.capitalize()} is\", len(result))\n"
     ]
    },
    {
     "name": "stdout",
     "output_type": "stream",
     "text": [
      "Best parameters found: {'bootstrap': True, 'max_depth': None, 'min_samples_leaf': 4, 'min_samples_split': 10, 'n_estimators': 300}\n",
      "Best cross-validation accuracy: 0.5535714285714286\n",
      "Optimizing hyperparameters for Gene_RPCA, traintest_3...\n"
     ]
    },
    {
     "name": "stderr",
     "output_type": "stream",
     "text": [
      "/Users/biacordazzo/opt/anaconda3/envs/qiime2-amplicon-2024.5/lib/python3.9/site-packages/sklearn/metrics/_classification.py:1509: UndefinedMetricWarning: Precision is ill-defined and being set to 0.0 in labels with no predicted samples. Use `zero_division` parameter to control this behavior.\n",
      "  _warn_prf(average, modifier, f\"{metric.capitalize()} is\", len(result))\n",
      "/Users/biacordazzo/opt/anaconda3/envs/qiime2-amplicon-2024.5/lib/python3.9/site-packages/sklearn/metrics/_classification.py:1509: UndefinedMetricWarning: Precision is ill-defined and being set to 0.0 in labels with no predicted samples. Use `zero_division` parameter to control this behavior.\n",
      "  _warn_prf(average, modifier, f\"{metric.capitalize()} is\", len(result))\n",
      "/Users/biacordazzo/opt/anaconda3/envs/qiime2-amplicon-2024.5/lib/python3.9/site-packages/sklearn/metrics/_classification.py:1509: UndefinedMetricWarning: Precision is ill-defined and being set to 0.0 in labels with no predicted samples. Use `zero_division` parameter to control this behavior.\n",
      "  _warn_prf(average, modifier, f\"{metric.capitalize()} is\", len(result))\n"
     ]
    },
    {
     "name": "stdout",
     "output_type": "stream",
     "text": [
      "Best parameters found: {'bootstrap': True, 'max_depth': 10, 'min_samples_leaf': 1, 'min_samples_split': 2, 'n_estimators': 100}\n",
      "Best cross-validation accuracy: 0.5892857142857142\n",
      "Optimizing hyperparameters for Gene_RPCA, traintest_4...\n",
      "Best parameters found: {'bootstrap': True, 'max_depth': None, 'min_samples_leaf': 4, 'min_samples_split': 2, 'n_estimators': 300}\n",
      "Best cross-validation accuracy: 0.5178571428571429\n",
      "Optimizing hyperparameters for Gene_RPCA, traintest_5...\n"
     ]
    },
    {
     "name": "stderr",
     "output_type": "stream",
     "text": [
      "/Users/biacordazzo/opt/anaconda3/envs/qiime2-amplicon-2024.5/lib/python3.9/site-packages/sklearn/metrics/_classification.py:1509: UndefinedMetricWarning: Precision is ill-defined and being set to 0.0 in labels with no predicted samples. Use `zero_division` parameter to control this behavior.\n",
      "  _warn_prf(average, modifier, f\"{metric.capitalize()} is\", len(result))\n",
      "/Users/biacordazzo/opt/anaconda3/envs/qiime2-amplicon-2024.5/lib/python3.9/site-packages/sklearn/metrics/_classification.py:1509: UndefinedMetricWarning: Precision is ill-defined and being set to 0.0 in labels with no predicted samples. Use `zero_division` parameter to control this behavior.\n",
      "  _warn_prf(average, modifier, f\"{metric.capitalize()} is\", len(result))\n",
      "/Users/biacordazzo/opt/anaconda3/envs/qiime2-amplicon-2024.5/lib/python3.9/site-packages/sklearn/metrics/_classification.py:1509: UndefinedMetricWarning: Precision is ill-defined and being set to 0.0 in labels with no predicted samples. Use `zero_division` parameter to control this behavior.\n",
      "  _warn_prf(average, modifier, f\"{metric.capitalize()} is\", len(result))\n"
     ]
    },
    {
     "name": "stdout",
     "output_type": "stream",
     "text": [
      "Best parameters found: {'bootstrap': True, 'max_depth': None, 'min_samples_leaf': 4, 'min_samples_split': 10, 'n_estimators': 200}\n",
      "Best cross-validation accuracy: 0.5392857142857143\n",
      "Optimizing hyperparameters for Gene_RPCA, traintest_6...\n"
     ]
    },
    {
     "name": "stderr",
     "output_type": "stream",
     "text": [
      "/Users/biacordazzo/opt/anaconda3/envs/qiime2-amplicon-2024.5/lib/python3.9/site-packages/sklearn/metrics/_classification.py:1509: UndefinedMetricWarning: Precision is ill-defined and being set to 0.0 in labels with no predicted samples. Use `zero_division` parameter to control this behavior.\n",
      "  _warn_prf(average, modifier, f\"{metric.capitalize()} is\", len(result))\n",
      "/Users/biacordazzo/opt/anaconda3/envs/qiime2-amplicon-2024.5/lib/python3.9/site-packages/sklearn/metrics/_classification.py:1509: UndefinedMetricWarning: Precision is ill-defined and being set to 0.0 in labels with no predicted samples. Use `zero_division` parameter to control this behavior.\n",
      "  _warn_prf(average, modifier, f\"{metric.capitalize()} is\", len(result))\n",
      "/Users/biacordazzo/opt/anaconda3/envs/qiime2-amplicon-2024.5/lib/python3.9/site-packages/sklearn/metrics/_classification.py:1509: UndefinedMetricWarning: Precision is ill-defined and being set to 0.0 in labels with no predicted samples. Use `zero_division` parameter to control this behavior.\n",
      "  _warn_prf(average, modifier, f\"{metric.capitalize()} is\", len(result))\n"
     ]
    },
    {
     "name": "stdout",
     "output_type": "stream",
     "text": [
      "Best parameters found: {'bootstrap': True, 'max_depth': None, 'min_samples_leaf': 4, 'min_samples_split': 2, 'n_estimators': 100}\n",
      "Best cross-validation accuracy: 0.5785714285714285\n",
      "Optimizing hyperparameters for Gene_RPCA, traintest_7...\n",
      "Best parameters found: {'bootstrap': False, 'max_depth': None, 'min_samples_leaf': 4, 'min_samples_split': 10, 'n_estimators': 200}\n",
      "Best cross-validation accuracy: 0.5714285714285714\n",
      "Optimizing hyperparameters for Gene_RPCA, traintest_8...\n",
      "Best parameters found: {'bootstrap': True, 'max_depth': None, 'min_samples_leaf': 2, 'min_samples_split': 10, 'n_estimators': 300}\n",
      "Best cross-validation accuracy: 0.5392857142857143\n",
      "Optimizing hyperparameters for Gene_RPCA, traintest_9...\n"
     ]
    },
    {
     "name": "stderr",
     "output_type": "stream",
     "text": [
      "/Users/biacordazzo/opt/anaconda3/envs/qiime2-amplicon-2024.5/lib/python3.9/site-packages/sklearn/metrics/_classification.py:1509: UndefinedMetricWarning: Precision is ill-defined and being set to 0.0 in labels with no predicted samples. Use `zero_division` parameter to control this behavior.\n",
      "  _warn_prf(average, modifier, f\"{metric.capitalize()} is\", len(result))\n",
      "/Users/biacordazzo/opt/anaconda3/envs/qiime2-amplicon-2024.5/lib/python3.9/site-packages/sklearn/metrics/_classification.py:1509: UndefinedMetricWarning: Precision is ill-defined and being set to 0.0 in labels with no predicted samples. Use `zero_division` parameter to control this behavior.\n",
      "  _warn_prf(average, modifier, f\"{metric.capitalize()} is\", len(result))\n",
      "/Users/biacordazzo/opt/anaconda3/envs/qiime2-amplicon-2024.5/lib/python3.9/site-packages/sklearn/metrics/_classification.py:1509: UndefinedMetricWarning: Precision is ill-defined and being set to 0.0 in labels with no predicted samples. Use `zero_division` parameter to control this behavior.\n",
      "  _warn_prf(average, modifier, f\"{metric.capitalize()} is\", len(result))\n"
     ]
    },
    {
     "name": "stdout",
     "output_type": "stream",
     "text": [
      "Best parameters found: {'bootstrap': True, 'max_depth': None, 'min_samples_leaf': 2, 'min_samples_split': 10, 'n_estimators': 300}\n",
      "Best cross-validation accuracy: 0.5678571428571428\n",
      "Optimizing hyperparameters for Gene_Module_RPCA, traintest_0...\n"
     ]
    },
    {
     "name": "stderr",
     "output_type": "stream",
     "text": [
      "/Users/biacordazzo/opt/anaconda3/envs/qiime2-amplicon-2024.5/lib/python3.9/site-packages/sklearn/metrics/_classification.py:1509: UndefinedMetricWarning: Precision is ill-defined and being set to 0.0 in labels with no predicted samples. Use `zero_division` parameter to control this behavior.\n",
      "  _warn_prf(average, modifier, f\"{metric.capitalize()} is\", len(result))\n",
      "/Users/biacordazzo/opt/anaconda3/envs/qiime2-amplicon-2024.5/lib/python3.9/site-packages/sklearn/metrics/_classification.py:1509: UndefinedMetricWarning: Precision is ill-defined and being set to 0.0 in labels with no predicted samples. Use `zero_division` parameter to control this behavior.\n",
      "  _warn_prf(average, modifier, f\"{metric.capitalize()} is\", len(result))\n",
      "/Users/biacordazzo/opt/anaconda3/envs/qiime2-amplicon-2024.5/lib/python3.9/site-packages/sklearn/metrics/_classification.py:1509: UndefinedMetricWarning: Precision is ill-defined and being set to 0.0 in labels with no predicted samples. Use `zero_division` parameter to control this behavior.\n",
      "  _warn_prf(average, modifier, f\"{metric.capitalize()} is\", len(result))\n"
     ]
    },
    {
     "name": "stdout",
     "output_type": "stream",
     "text": [
      "Best parameters found: {'bootstrap': True, 'max_depth': None, 'min_samples_leaf': 4, 'min_samples_split': 2, 'n_estimators': 100}\n",
      "Best cross-validation accuracy: 0.5428571428571428\n",
      "Optimizing hyperparameters for Gene_Module_RPCA, traintest_1...\n"
     ]
    },
    {
     "name": "stderr",
     "output_type": "stream",
     "text": [
      "/Users/biacordazzo/opt/anaconda3/envs/qiime2-amplicon-2024.5/lib/python3.9/site-packages/sklearn/metrics/_classification.py:1509: UndefinedMetricWarning: Precision is ill-defined and being set to 0.0 in labels with no predicted samples. Use `zero_division` parameter to control this behavior.\n",
      "  _warn_prf(average, modifier, f\"{metric.capitalize()} is\", len(result))\n",
      "/Users/biacordazzo/opt/anaconda3/envs/qiime2-amplicon-2024.5/lib/python3.9/site-packages/sklearn/metrics/_classification.py:1509: UndefinedMetricWarning: Precision is ill-defined and being set to 0.0 in labels with no predicted samples. Use `zero_division` parameter to control this behavior.\n",
      "  _warn_prf(average, modifier, f\"{metric.capitalize()} is\", len(result))\n",
      "/Users/biacordazzo/opt/anaconda3/envs/qiime2-amplicon-2024.5/lib/python3.9/site-packages/sklearn/metrics/_classification.py:1509: UndefinedMetricWarning: Precision is ill-defined and being set to 0.0 in labels with no predicted samples. Use `zero_division` parameter to control this behavior.\n",
      "  _warn_prf(average, modifier, f\"{metric.capitalize()} is\", len(result))\n"
     ]
    },
    {
     "name": "stdout",
     "output_type": "stream",
     "text": [
      "Best parameters found: {'bootstrap': True, 'max_depth': 10, 'min_samples_leaf': 2, 'min_samples_split': 5, 'n_estimators': 100}\n",
      "Best cross-validation accuracy: 0.5178571428571429\n",
      "Optimizing hyperparameters for Gene_Module_RPCA, traintest_2...\n",
      "Best parameters found: {'bootstrap': True, 'max_depth': None, 'min_samples_leaf': 4, 'min_samples_split': 2, 'n_estimators': 100}\n",
      "Best cross-validation accuracy: 0.5535714285714286\n",
      "Optimizing hyperparameters for Gene_Module_RPCA, traintest_3...\n",
      "Best parameters found: {'bootstrap': True, 'max_depth': None, 'min_samples_leaf': 4, 'min_samples_split': 2, 'n_estimators': 200}\n",
      "Best cross-validation accuracy: 0.55\n",
      "Optimizing hyperparameters for Gene_Module_RPCA, traintest_4...\n"
     ]
    },
    {
     "name": "stderr",
     "output_type": "stream",
     "text": [
      "/Users/biacordazzo/opt/anaconda3/envs/qiime2-amplicon-2024.5/lib/python3.9/site-packages/sklearn/metrics/_classification.py:1509: UndefinedMetricWarning: Precision is ill-defined and being set to 0.0 in labels with no predicted samples. Use `zero_division` parameter to control this behavior.\n",
      "  _warn_prf(average, modifier, f\"{metric.capitalize()} is\", len(result))\n",
      "/Users/biacordazzo/opt/anaconda3/envs/qiime2-amplicon-2024.5/lib/python3.9/site-packages/sklearn/metrics/_classification.py:1509: UndefinedMetricWarning: Precision is ill-defined and being set to 0.0 in labels with no predicted samples. Use `zero_division` parameter to control this behavior.\n",
      "  _warn_prf(average, modifier, f\"{metric.capitalize()} is\", len(result))\n",
      "/Users/biacordazzo/opt/anaconda3/envs/qiime2-amplicon-2024.5/lib/python3.9/site-packages/sklearn/metrics/_classification.py:1509: UndefinedMetricWarning: Precision is ill-defined and being set to 0.0 in labels with no predicted samples. Use `zero_division` parameter to control this behavior.\n",
      "  _warn_prf(average, modifier, f\"{metric.capitalize()} is\", len(result))\n"
     ]
    },
    {
     "name": "stdout",
     "output_type": "stream",
     "text": [
      "Best parameters found: {'bootstrap': True, 'max_depth': 10, 'min_samples_leaf': 2, 'min_samples_split': 5, 'n_estimators': 200}\n",
      "Best cross-validation accuracy: 0.5535714285714286\n",
      "Optimizing hyperparameters for Gene_Module_RPCA, traintest_5...\n",
      "Best parameters found: {'bootstrap': True, 'max_depth': None, 'min_samples_leaf': 4, 'min_samples_split': 10, 'n_estimators': 100}\n",
      "Best cross-validation accuracy: 0.5607142857142857\n",
      "Optimizing hyperparameters for Gene_Module_RPCA, traintest_6...\n"
     ]
    },
    {
     "name": "stderr",
     "output_type": "stream",
     "text": [
      "/Users/biacordazzo/opt/anaconda3/envs/qiime2-amplicon-2024.5/lib/python3.9/site-packages/sklearn/metrics/_classification.py:1509: UndefinedMetricWarning: Precision is ill-defined and being set to 0.0 in labels with no predicted samples. Use `zero_division` parameter to control this behavior.\n",
      "  _warn_prf(average, modifier, f\"{metric.capitalize()} is\", len(result))\n",
      "/Users/biacordazzo/opt/anaconda3/envs/qiime2-amplicon-2024.5/lib/python3.9/site-packages/sklearn/metrics/_classification.py:1509: UndefinedMetricWarning: Precision is ill-defined and being set to 0.0 in labels with no predicted samples. Use `zero_division` parameter to control this behavior.\n",
      "  _warn_prf(average, modifier, f\"{metric.capitalize()} is\", len(result))\n",
      "/Users/biacordazzo/opt/anaconda3/envs/qiime2-amplicon-2024.5/lib/python3.9/site-packages/sklearn/metrics/_classification.py:1509: UndefinedMetricWarning: Precision is ill-defined and being set to 0.0 in labels with no predicted samples. Use `zero_division` parameter to control this behavior.\n",
      "  _warn_prf(average, modifier, f\"{metric.capitalize()} is\", len(result))\n"
     ]
    },
    {
     "name": "stdout",
     "output_type": "stream",
     "text": [
      "Best parameters found: {'bootstrap': True, 'max_depth': None, 'min_samples_leaf': 4, 'min_samples_split': 10, 'n_estimators': 100}\n",
      "Best cross-validation accuracy: 0.5821428571428571\n",
      "Optimizing hyperparameters for Gene_Module_RPCA, traintest_7...\n"
     ]
    },
    {
     "name": "stderr",
     "output_type": "stream",
     "text": [
      "/Users/biacordazzo/opt/anaconda3/envs/qiime2-amplicon-2024.5/lib/python3.9/site-packages/sklearn/metrics/_classification.py:1509: UndefinedMetricWarning: Precision is ill-defined and being set to 0.0 in labels with no predicted samples. Use `zero_division` parameter to control this behavior.\n",
      "  _warn_prf(average, modifier, f\"{metric.capitalize()} is\", len(result))\n",
      "/Users/biacordazzo/opt/anaconda3/envs/qiime2-amplicon-2024.5/lib/python3.9/site-packages/sklearn/metrics/_classification.py:1509: UndefinedMetricWarning: Precision is ill-defined and being set to 0.0 in labels with no predicted samples. Use `zero_division` parameter to control this behavior.\n",
      "  _warn_prf(average, modifier, f\"{metric.capitalize()} is\", len(result))\n",
      "/Users/biacordazzo/opt/anaconda3/envs/qiime2-amplicon-2024.5/lib/python3.9/site-packages/sklearn/metrics/_classification.py:1509: UndefinedMetricWarning: Precision is ill-defined and being set to 0.0 in labels with no predicted samples. Use `zero_division` parameter to control this behavior.\n",
      "  _warn_prf(average, modifier, f\"{metric.capitalize()} is\", len(result))\n"
     ]
    },
    {
     "name": "stdout",
     "output_type": "stream",
     "text": [
      "Best parameters found: {'bootstrap': True, 'max_depth': None, 'min_samples_leaf': 4, 'min_samples_split': 2, 'n_estimators': 300}\n",
      "Best cross-validation accuracy: 0.55\n",
      "Optimizing hyperparameters for Gene_Module_RPCA, traintest_8...\n"
     ]
    },
    {
     "name": "stderr",
     "output_type": "stream",
     "text": [
      "/Users/biacordazzo/opt/anaconda3/envs/qiime2-amplicon-2024.5/lib/python3.9/site-packages/sklearn/metrics/_classification.py:1509: UndefinedMetricWarning: Precision is ill-defined and being set to 0.0 in labels with no predicted samples. Use `zero_division` parameter to control this behavior.\n",
      "  _warn_prf(average, modifier, f\"{metric.capitalize()} is\", len(result))\n",
      "/Users/biacordazzo/opt/anaconda3/envs/qiime2-amplicon-2024.5/lib/python3.9/site-packages/sklearn/metrics/_classification.py:1509: UndefinedMetricWarning: Precision is ill-defined and being set to 0.0 in labels with no predicted samples. Use `zero_division` parameter to control this behavior.\n",
      "  _warn_prf(average, modifier, f\"{metric.capitalize()} is\", len(result))\n",
      "/Users/biacordazzo/opt/anaconda3/envs/qiime2-amplicon-2024.5/lib/python3.9/site-packages/sklearn/metrics/_classification.py:1509: UndefinedMetricWarning: Precision is ill-defined and being set to 0.0 in labels with no predicted samples. Use `zero_division` parameter to control this behavior.\n",
      "  _warn_prf(average, modifier, f\"{metric.capitalize()} is\", len(result))\n"
     ]
    },
    {
     "name": "stdout",
     "output_type": "stream",
     "text": [
      "Best parameters found: {'bootstrap': True, 'max_depth': None, 'min_samples_leaf': 4, 'min_samples_split': 2, 'n_estimators': 100}\n",
      "Best cross-validation accuracy: 0.5428571428571429\n",
      "Optimizing hyperparameters for Gene_Module_RPCA, traintest_9...\n"
     ]
    },
    {
     "name": "stderr",
     "output_type": "stream",
     "text": [
      "/Users/biacordazzo/opt/anaconda3/envs/qiime2-amplicon-2024.5/lib/python3.9/site-packages/sklearn/metrics/_classification.py:1509: UndefinedMetricWarning: Precision is ill-defined and being set to 0.0 in labels with no predicted samples. Use `zero_division` parameter to control this behavior.\n",
      "  _warn_prf(average, modifier, f\"{metric.capitalize()} is\", len(result))\n",
      "/Users/biacordazzo/opt/anaconda3/envs/qiime2-amplicon-2024.5/lib/python3.9/site-packages/sklearn/metrics/_classification.py:1509: UndefinedMetricWarning: Precision is ill-defined and being set to 0.0 in labels with no predicted samples. Use `zero_division` parameter to control this behavior.\n",
      "  _warn_prf(average, modifier, f\"{metric.capitalize()} is\", len(result))\n",
      "/Users/biacordazzo/opt/anaconda3/envs/qiime2-amplicon-2024.5/lib/python3.9/site-packages/sklearn/metrics/_classification.py:1509: UndefinedMetricWarning: Precision is ill-defined and being set to 0.0 in labels with no predicted samples. Use `zero_division` parameter to control this behavior.\n",
      "  _warn_prf(average, modifier, f\"{metric.capitalize()} is\", len(result))\n"
     ]
    },
    {
     "name": "stdout",
     "output_type": "stream",
     "text": [
      "Best parameters found: {'bootstrap': True, 'max_depth': None, 'min_samples_leaf': 2, 'min_samples_split': 5, 'n_estimators': 100}\n",
      "Best cross-validation accuracy: 0.5392857142857143\n",
      "Optimizing hyperparameters for Metabolite_RPCA, traintest_0...\n",
      "Best parameters found: {'bootstrap': False, 'max_depth': 10, 'min_samples_leaf': 1, 'min_samples_split': 10, 'n_estimators': 100}\n",
      "Best cross-validation accuracy: 0.4892857142857143\n",
      "Optimizing hyperparameters for Metabolite_RPCA, traintest_1...\n"
     ]
    },
    {
     "name": "stderr",
     "output_type": "stream",
     "text": [
      "/Users/biacordazzo/opt/anaconda3/envs/qiime2-amplicon-2024.5/lib/python3.9/site-packages/sklearn/metrics/_classification.py:1509: UndefinedMetricWarning: Precision is ill-defined and being set to 0.0 in labels with no predicted samples. Use `zero_division` parameter to control this behavior.\n",
      "  _warn_prf(average, modifier, f\"{metric.capitalize()} is\", len(result))\n",
      "/Users/biacordazzo/opt/anaconda3/envs/qiime2-amplicon-2024.5/lib/python3.9/site-packages/sklearn/metrics/_classification.py:1509: UndefinedMetricWarning: Precision is ill-defined and being set to 0.0 in labels with no predicted samples. Use `zero_division` parameter to control this behavior.\n",
      "  _warn_prf(average, modifier, f\"{metric.capitalize()} is\", len(result))\n",
      "/Users/biacordazzo/opt/anaconda3/envs/qiime2-amplicon-2024.5/lib/python3.9/site-packages/sklearn/metrics/_classification.py:1509: UndefinedMetricWarning: Precision is ill-defined and being set to 0.0 in labels with no predicted samples. Use `zero_division` parameter to control this behavior.\n",
      "  _warn_prf(average, modifier, f\"{metric.capitalize()} is\", len(result))\n"
     ]
    },
    {
     "name": "stdout",
     "output_type": "stream",
     "text": [
      "Best parameters found: {'bootstrap': True, 'max_depth': 10, 'min_samples_leaf': 2, 'min_samples_split': 5, 'n_estimators': 100}\n",
      "Best cross-validation accuracy: 0.4821428571428571\n",
      "Optimizing hyperparameters for Metabolite_RPCA, traintest_2...\n"
     ]
    },
    {
     "name": "stderr",
     "output_type": "stream",
     "text": [
      "/Users/biacordazzo/opt/anaconda3/envs/qiime2-amplicon-2024.5/lib/python3.9/site-packages/sklearn/metrics/_classification.py:1509: UndefinedMetricWarning: Precision is ill-defined and being set to 0.0 in labels with no predicted samples. Use `zero_division` parameter to control this behavior.\n",
      "  _warn_prf(average, modifier, f\"{metric.capitalize()} is\", len(result))\n",
      "/Users/biacordazzo/opt/anaconda3/envs/qiime2-amplicon-2024.5/lib/python3.9/site-packages/sklearn/metrics/_classification.py:1509: UndefinedMetricWarning: Precision is ill-defined and being set to 0.0 in labels with no predicted samples. Use `zero_division` parameter to control this behavior.\n",
      "  _warn_prf(average, modifier, f\"{metric.capitalize()} is\", len(result))\n",
      "/Users/biacordazzo/opt/anaconda3/envs/qiime2-amplicon-2024.5/lib/python3.9/site-packages/sklearn/metrics/_classification.py:1509: UndefinedMetricWarning: Precision is ill-defined and being set to 0.0 in labels with no predicted samples. Use `zero_division` parameter to control this behavior.\n",
      "  _warn_prf(average, modifier, f\"{metric.capitalize()} is\", len(result))\n"
     ]
    },
    {
     "name": "stdout",
     "output_type": "stream",
     "text": [
      "Best parameters found: {'bootstrap': True, 'max_depth': 10, 'min_samples_leaf': 2, 'min_samples_split': 10, 'n_estimators': 300}\n",
      "Best cross-validation accuracy: 0.4821428571428571\n",
      "Optimizing hyperparameters for Metabolite_RPCA, traintest_3...\n"
     ]
    },
    {
     "name": "stderr",
     "output_type": "stream",
     "text": [
      "/Users/biacordazzo/opt/anaconda3/envs/qiime2-amplicon-2024.5/lib/python3.9/site-packages/sklearn/metrics/_classification.py:1509: UndefinedMetricWarning: Precision is ill-defined and being set to 0.0 in labels with no predicted samples. Use `zero_division` parameter to control this behavior.\n",
      "  _warn_prf(average, modifier, f\"{metric.capitalize()} is\", len(result))\n",
      "/Users/biacordazzo/opt/anaconda3/envs/qiime2-amplicon-2024.5/lib/python3.9/site-packages/sklearn/metrics/_classification.py:1509: UndefinedMetricWarning: Precision is ill-defined and being set to 0.0 in labels with no predicted samples. Use `zero_division` parameter to control this behavior.\n",
      "  _warn_prf(average, modifier, f\"{metric.capitalize()} is\", len(result))\n",
      "/Users/biacordazzo/opt/anaconda3/envs/qiime2-amplicon-2024.5/lib/python3.9/site-packages/sklearn/metrics/_classification.py:1509: UndefinedMetricWarning: Precision is ill-defined and being set to 0.0 in labels with no predicted samples. Use `zero_division` parameter to control this behavior.\n",
      "  _warn_prf(average, modifier, f\"{metric.capitalize()} is\", len(result))\n"
     ]
    },
    {
     "name": "stdout",
     "output_type": "stream",
     "text": [
      "Best parameters found: {'bootstrap': True, 'max_depth': 10, 'min_samples_leaf': 2, 'min_samples_split': 10, 'n_estimators': 100}\n",
      "Best cross-validation accuracy: 0.46071428571428574\n",
      "Optimizing hyperparameters for Metabolite_RPCA, traintest_4...\n"
     ]
    },
    {
     "name": "stderr",
     "output_type": "stream",
     "text": [
      "/Users/biacordazzo/opt/anaconda3/envs/qiime2-amplicon-2024.5/lib/python3.9/site-packages/sklearn/metrics/_classification.py:1509: UndefinedMetricWarning: Precision is ill-defined and being set to 0.0 in labels with no predicted samples. Use `zero_division` parameter to control this behavior.\n",
      "  _warn_prf(average, modifier, f\"{metric.capitalize()} is\", len(result))\n",
      "/Users/biacordazzo/opt/anaconda3/envs/qiime2-amplicon-2024.5/lib/python3.9/site-packages/sklearn/metrics/_classification.py:1509: UndefinedMetricWarning: Precision is ill-defined and being set to 0.0 in labels with no predicted samples. Use `zero_division` parameter to control this behavior.\n",
      "  _warn_prf(average, modifier, f\"{metric.capitalize()} is\", len(result))\n",
      "/Users/biacordazzo/opt/anaconda3/envs/qiime2-amplicon-2024.5/lib/python3.9/site-packages/sklearn/metrics/_classification.py:1509: UndefinedMetricWarning: Precision is ill-defined and being set to 0.0 in labels with no predicted samples. Use `zero_division` parameter to control this behavior.\n",
      "  _warn_prf(average, modifier, f\"{metric.capitalize()} is\", len(result))\n"
     ]
    },
    {
     "name": "stdout",
     "output_type": "stream",
     "text": [
      "Best parameters found: {'bootstrap': False, 'max_depth': None, 'min_samples_leaf': 4, 'min_samples_split': 10, 'n_estimators': 100}\n",
      "Best cross-validation accuracy: 0.492857142857143\n",
      "Optimizing hyperparameters for Metabolite_RPCA, traintest_5...\n"
     ]
    },
    {
     "name": "stderr",
     "output_type": "stream",
     "text": [
      "/Users/biacordazzo/opt/anaconda3/envs/qiime2-amplicon-2024.5/lib/python3.9/site-packages/sklearn/metrics/_classification.py:1509: UndefinedMetricWarning: Precision is ill-defined and being set to 0.0 in labels with no predicted samples. Use `zero_division` parameter to control this behavior.\n",
      "  _warn_prf(average, modifier, f\"{metric.capitalize()} is\", len(result))\n",
      "/Users/biacordazzo/opt/anaconda3/envs/qiime2-amplicon-2024.5/lib/python3.9/site-packages/sklearn/metrics/_classification.py:1509: UndefinedMetricWarning: Precision is ill-defined and being set to 0.0 in labels with no predicted samples. Use `zero_division` parameter to control this behavior.\n",
      "  _warn_prf(average, modifier, f\"{metric.capitalize()} is\", len(result))\n",
      "/Users/biacordazzo/opt/anaconda3/envs/qiime2-amplicon-2024.5/lib/python3.9/site-packages/sklearn/metrics/_classification.py:1509: UndefinedMetricWarning: Precision is ill-defined and being set to 0.0 in labels with no predicted samples. Use `zero_division` parameter to control this behavior.\n",
      "  _warn_prf(average, modifier, f\"{metric.capitalize()} is\", len(result))\n"
     ]
    },
    {
     "name": "stdout",
     "output_type": "stream",
     "text": [
      "Best parameters found: {'bootstrap': False, 'max_depth': 10, 'min_samples_leaf': 2, 'min_samples_split': 5, 'n_estimators': 300}\n",
      "Best cross-validation accuracy: 0.475\n",
      "Optimizing hyperparameters for Metabolite_RPCA, traintest_6...\n",
      "Best parameters found: {'bootstrap': True, 'max_depth': 10, 'min_samples_leaf': 2, 'min_samples_split': 10, 'n_estimators': 200}\n",
      "Best cross-validation accuracy: 0.5250000000000001\n",
      "Optimizing hyperparameters for Metabolite_RPCA, traintest_7...\n"
     ]
    },
    {
     "name": "stderr",
     "output_type": "stream",
     "text": [
      "/Users/biacordazzo/opt/anaconda3/envs/qiime2-amplicon-2024.5/lib/python3.9/site-packages/sklearn/metrics/_classification.py:1509: UndefinedMetricWarning: Precision is ill-defined and being set to 0.0 in labels with no predicted samples. Use `zero_division` parameter to control this behavior.\n",
      "  _warn_prf(average, modifier, f\"{metric.capitalize()} is\", len(result))\n",
      "/Users/biacordazzo/opt/anaconda3/envs/qiime2-amplicon-2024.5/lib/python3.9/site-packages/sklearn/metrics/_classification.py:1509: UndefinedMetricWarning: Precision is ill-defined and being set to 0.0 in labels with no predicted samples. Use `zero_division` parameter to control this behavior.\n",
      "  _warn_prf(average, modifier, f\"{metric.capitalize()} is\", len(result))\n",
      "/Users/biacordazzo/opt/anaconda3/envs/qiime2-amplicon-2024.5/lib/python3.9/site-packages/sklearn/metrics/_classification.py:1509: UndefinedMetricWarning: Precision is ill-defined and being set to 0.0 in labels with no predicted samples. Use `zero_division` parameter to control this behavior.\n",
      "  _warn_prf(average, modifier, f\"{metric.capitalize()} is\", len(result))\n"
     ]
    },
    {
     "name": "stdout",
     "output_type": "stream",
     "text": [
      "Best parameters found: {'bootstrap': True, 'max_depth': None, 'min_samples_leaf': 1, 'min_samples_split': 10, 'n_estimators': 200}\n",
      "Best cross-validation accuracy: 0.4928571428571429\n",
      "Optimizing hyperparameters for Metabolite_RPCA, traintest_8...\n"
     ]
    },
    {
     "name": "stderr",
     "output_type": "stream",
     "text": [
      "/Users/biacordazzo/opt/anaconda3/envs/qiime2-amplicon-2024.5/lib/python3.9/site-packages/sklearn/metrics/_classification.py:1509: UndefinedMetricWarning: Precision is ill-defined and being set to 0.0 in labels with no predicted samples. Use `zero_division` parameter to control this behavior.\n",
      "  _warn_prf(average, modifier, f\"{metric.capitalize()} is\", len(result))\n",
      "/Users/biacordazzo/opt/anaconda3/envs/qiime2-amplicon-2024.5/lib/python3.9/site-packages/sklearn/metrics/_classification.py:1509: UndefinedMetricWarning: Precision is ill-defined and being set to 0.0 in labels with no predicted samples. Use `zero_division` parameter to control this behavior.\n",
      "  _warn_prf(average, modifier, f\"{metric.capitalize()} is\", len(result))\n",
      "/Users/biacordazzo/opt/anaconda3/envs/qiime2-amplicon-2024.5/lib/python3.9/site-packages/sklearn/metrics/_classification.py:1509: UndefinedMetricWarning: Precision is ill-defined and being set to 0.0 in labels with no predicted samples. Use `zero_division` parameter to control this behavior.\n",
      "  _warn_prf(average, modifier, f\"{metric.capitalize()} is\", len(result))\n"
     ]
    },
    {
     "name": "stdout",
     "output_type": "stream",
     "text": [
      "Best parameters found: {'bootstrap': False, 'max_depth': 10, 'min_samples_leaf': 1, 'min_samples_split': 10, 'n_estimators': 200}\n",
      "Best cross-validation accuracy: 0.49642857142857144\n",
      "Optimizing hyperparameters for Metabolite_RPCA, traintest_9...\n",
      "Best parameters found: {'bootstrap': True, 'max_depth': 10, 'min_samples_leaf': 1, 'min_samples_split': 2, 'n_estimators': 100}\n",
      "Best cross-validation accuracy: 0.4642857142857143\n",
      "Optimizing hyperparameters for Joint_RPCA, traintest_0...\n",
      "Best parameters found: {'bootstrap': True, 'max_depth': None, 'min_samples_leaf': 4, 'min_samples_split': 10, 'n_estimators': 300}\n",
      "Best cross-validation accuracy: 0.5785714285714285\n",
      "Optimizing hyperparameters for Joint_RPCA, traintest_1...\n"
     ]
    },
    {
     "name": "stderr",
     "output_type": "stream",
     "text": [
      "/Users/biacordazzo/opt/anaconda3/envs/qiime2-amplicon-2024.5/lib/python3.9/site-packages/sklearn/metrics/_classification.py:1509: UndefinedMetricWarning: Precision is ill-defined and being set to 0.0 in labels with no predicted samples. Use `zero_division` parameter to control this behavior.\n",
      "  _warn_prf(average, modifier, f\"{metric.capitalize()} is\", len(result))\n",
      "/Users/biacordazzo/opt/anaconda3/envs/qiime2-amplicon-2024.5/lib/python3.9/site-packages/sklearn/metrics/_classification.py:1509: UndefinedMetricWarning: Precision is ill-defined and being set to 0.0 in labels with no predicted samples. Use `zero_division` parameter to control this behavior.\n",
      "  _warn_prf(average, modifier, f\"{metric.capitalize()} is\", len(result))\n",
      "/Users/biacordazzo/opt/anaconda3/envs/qiime2-amplicon-2024.5/lib/python3.9/site-packages/sklearn/metrics/_classification.py:1509: UndefinedMetricWarning: Precision is ill-defined and being set to 0.0 in labels with no predicted samples. Use `zero_division` parameter to control this behavior.\n",
      "  _warn_prf(average, modifier, f\"{metric.capitalize()} is\", len(result))\n"
     ]
    },
    {
     "name": "stdout",
     "output_type": "stream",
     "text": [
      "Best parameters found: {'bootstrap': True, 'max_depth': 10, 'min_samples_leaf': 1, 'min_samples_split': 5, 'n_estimators': 200}\n",
      "Best cross-validation accuracy: 0.5642857142857144\n",
      "Optimizing hyperparameters for Joint_RPCA, traintest_2...\n",
      "Best parameters found: {'bootstrap': True, 'max_depth': None, 'min_samples_leaf': 4, 'min_samples_split': 10, 'n_estimators': 100}\n",
      "Best cross-validation accuracy: 0.5714285714285715\n",
      "Optimizing hyperparameters for Joint_RPCA, traintest_3...\n"
     ]
    },
    {
     "name": "stderr",
     "output_type": "stream",
     "text": [
      "/Users/biacordazzo/opt/anaconda3/envs/qiime2-amplicon-2024.5/lib/python3.9/site-packages/sklearn/metrics/_classification.py:1509: UndefinedMetricWarning: Precision is ill-defined and being set to 0.0 in labels with no predicted samples. Use `zero_division` parameter to control this behavior.\n",
      "  _warn_prf(average, modifier, f\"{metric.capitalize()} is\", len(result))\n",
      "/Users/biacordazzo/opt/anaconda3/envs/qiime2-amplicon-2024.5/lib/python3.9/site-packages/sklearn/metrics/_classification.py:1509: UndefinedMetricWarning: Precision is ill-defined and being set to 0.0 in labels with no predicted samples. Use `zero_division` parameter to control this behavior.\n",
      "  _warn_prf(average, modifier, f\"{metric.capitalize()} is\", len(result))\n",
      "/Users/biacordazzo/opt/anaconda3/envs/qiime2-amplicon-2024.5/lib/python3.9/site-packages/sklearn/metrics/_classification.py:1509: UndefinedMetricWarning: Precision is ill-defined and being set to 0.0 in labels with no predicted samples. Use `zero_division` parameter to control this behavior.\n",
      "  _warn_prf(average, modifier, f\"{metric.capitalize()} is\", len(result))\n"
     ]
    },
    {
     "name": "stdout",
     "output_type": "stream",
     "text": [
      "Best parameters found: {'bootstrap': True, 'max_depth': None, 'min_samples_leaf': 2, 'min_samples_split': 10, 'n_estimators': 300}\n",
      "Best cross-validation accuracy: 0.5964285714285713\n",
      "Optimizing hyperparameters for Joint_RPCA, traintest_4...\n"
     ]
    },
    {
     "name": "stderr",
     "output_type": "stream",
     "text": [
      "/Users/biacordazzo/opt/anaconda3/envs/qiime2-amplicon-2024.5/lib/python3.9/site-packages/sklearn/metrics/_classification.py:1509: UndefinedMetricWarning: Precision is ill-defined and being set to 0.0 in labels with no predicted samples. Use `zero_division` parameter to control this behavior.\n",
      "  _warn_prf(average, modifier, f\"{metric.capitalize()} is\", len(result))\n",
      "/Users/biacordazzo/opt/anaconda3/envs/qiime2-amplicon-2024.5/lib/python3.9/site-packages/sklearn/metrics/_classification.py:1509: UndefinedMetricWarning: Precision is ill-defined and being set to 0.0 in labels with no predicted samples. Use `zero_division` parameter to control this behavior.\n",
      "  _warn_prf(average, modifier, f\"{metric.capitalize()} is\", len(result))\n",
      "/Users/biacordazzo/opt/anaconda3/envs/qiime2-amplicon-2024.5/lib/python3.9/site-packages/sklearn/metrics/_classification.py:1509: UndefinedMetricWarning: Precision is ill-defined and being set to 0.0 in labels with no predicted samples. Use `zero_division` parameter to control this behavior.\n",
      "  _warn_prf(average, modifier, f\"{metric.capitalize()} is\", len(result))\n"
     ]
    },
    {
     "name": "stdout",
     "output_type": "stream",
     "text": [
      "Best parameters found: {'bootstrap': True, 'max_depth': None, 'min_samples_leaf': 4, 'min_samples_split': 2, 'n_estimators': 100}\n",
      "Best cross-validation accuracy: 0.6035714285714286\n",
      "Optimizing hyperparameters for Joint_RPCA, traintest_5...\n"
     ]
    },
    {
     "name": "stderr",
     "output_type": "stream",
     "text": [
      "/Users/biacordazzo/opt/anaconda3/envs/qiime2-amplicon-2024.5/lib/python3.9/site-packages/sklearn/metrics/_classification.py:1509: UndefinedMetricWarning: Precision is ill-defined and being set to 0.0 in labels with no predicted samples. Use `zero_division` parameter to control this behavior.\n",
      "  _warn_prf(average, modifier, f\"{metric.capitalize()} is\", len(result))\n",
      "/Users/biacordazzo/opt/anaconda3/envs/qiime2-amplicon-2024.5/lib/python3.9/site-packages/sklearn/metrics/_classification.py:1509: UndefinedMetricWarning: Precision is ill-defined and being set to 0.0 in labels with no predicted samples. Use `zero_division` parameter to control this behavior.\n",
      "  _warn_prf(average, modifier, f\"{metric.capitalize()} is\", len(result))\n",
      "/Users/biacordazzo/opt/anaconda3/envs/qiime2-amplicon-2024.5/lib/python3.9/site-packages/sklearn/metrics/_classification.py:1509: UndefinedMetricWarning: Precision is ill-defined and being set to 0.0 in labels with no predicted samples. Use `zero_division` parameter to control this behavior.\n",
      "  _warn_prf(average, modifier, f\"{metric.capitalize()} is\", len(result))\n"
     ]
    },
    {
     "name": "stdout",
     "output_type": "stream",
     "text": [
      "Best parameters found: {'bootstrap': True, 'max_depth': None, 'min_samples_leaf': 4, 'min_samples_split': 2, 'n_estimators': 100}\n",
      "Best cross-validation accuracy: 0.5642857142857143\n"
     ]
    },
    {
     "name": "stderr",
     "output_type": "stream",
     "text": [
      "/Users/biacordazzo/opt/anaconda3/envs/qiime2-amplicon-2024.5/lib/python3.9/site-packages/sklearn/metrics/_classification.py:1509: UndefinedMetricWarning: Precision is ill-defined and being set to 0.0 in labels with no predicted samples. Use `zero_division` parameter to control this behavior.\n",
      "  _warn_prf(average, modifier, f\"{metric.capitalize()} is\", len(result))\n",
      "/Users/biacordazzo/opt/anaconda3/envs/qiime2-amplicon-2024.5/lib/python3.9/site-packages/sklearn/metrics/_classification.py:1509: UndefinedMetricWarning: Precision is ill-defined and being set to 0.0 in labels with no predicted samples. Use `zero_division` parameter to control this behavior.\n",
      "  _warn_prf(average, modifier, f\"{metric.capitalize()} is\", len(result))\n",
      "/Users/biacordazzo/opt/anaconda3/envs/qiime2-amplicon-2024.5/lib/python3.9/site-packages/sklearn/metrics/_classification.py:1509: UndefinedMetricWarning: Precision is ill-defined and being set to 0.0 in labels with no predicted samples. Use `zero_division` parameter to control this behavior.\n",
      "  _warn_prf(average, modifier, f\"{metric.capitalize()} is\", len(result))\n"
     ]
    },
    {
     "name": "stdout",
     "output_type": "stream",
     "text": [
      "Optimizing hyperparameters for Joint_RPCA, traintest_6...\n",
      "Best parameters found: {'bootstrap': True, 'max_depth': 10, 'min_samples_leaf': 4, 'min_samples_split': 10, 'n_estimators': 200}\n",
      "Best cross-validation accuracy: 0.5571428571428572\n",
      "Optimizing hyperparameters for Joint_RPCA, traintest_7...\n"
     ]
    },
    {
     "name": "stderr",
     "output_type": "stream",
     "text": [
      "/Users/biacordazzo/opt/anaconda3/envs/qiime2-amplicon-2024.5/lib/python3.9/site-packages/sklearn/metrics/_classification.py:1509: UndefinedMetricWarning: Precision is ill-defined and being set to 0.0 in labels with no predicted samples. Use `zero_division` parameter to control this behavior.\n",
      "  _warn_prf(average, modifier, f\"{metric.capitalize()} is\", len(result))\n",
      "/Users/biacordazzo/opt/anaconda3/envs/qiime2-amplicon-2024.5/lib/python3.9/site-packages/sklearn/metrics/_classification.py:1509: UndefinedMetricWarning: Precision is ill-defined and being set to 0.0 in labels with no predicted samples. Use `zero_division` parameter to control this behavior.\n",
      "  _warn_prf(average, modifier, f\"{metric.capitalize()} is\", len(result))\n",
      "/Users/biacordazzo/opt/anaconda3/envs/qiime2-amplicon-2024.5/lib/python3.9/site-packages/sklearn/metrics/_classification.py:1509: UndefinedMetricWarning: Precision is ill-defined and being set to 0.0 in labels with no predicted samples. Use `zero_division` parameter to control this behavior.\n",
      "  _warn_prf(average, modifier, f\"{metric.capitalize()} is\", len(result))\n"
     ]
    },
    {
     "name": "stdout",
     "output_type": "stream",
     "text": [
      "Best parameters found: {'bootstrap': True, 'max_depth': None, 'min_samples_leaf': 1, 'min_samples_split': 10, 'n_estimators': 200}\n",
      "Best cross-validation accuracy: 0.5892857142857142\n",
      "Optimizing hyperparameters for Joint_RPCA, traintest_8...\n"
     ]
    },
    {
     "name": "stderr",
     "output_type": "stream",
     "text": [
      "/Users/biacordazzo/opt/anaconda3/envs/qiime2-amplicon-2024.5/lib/python3.9/site-packages/sklearn/metrics/_classification.py:1509: UndefinedMetricWarning: Precision is ill-defined and being set to 0.0 in labels with no predicted samples. Use `zero_division` parameter to control this behavior.\n",
      "  _warn_prf(average, modifier, f\"{metric.capitalize()} is\", len(result))\n",
      "/Users/biacordazzo/opt/anaconda3/envs/qiime2-amplicon-2024.5/lib/python3.9/site-packages/sklearn/metrics/_classification.py:1509: UndefinedMetricWarning: Precision is ill-defined and being set to 0.0 in labels with no predicted samples. Use `zero_division` parameter to control this behavior.\n",
      "  _warn_prf(average, modifier, f\"{metric.capitalize()} is\", len(result))\n",
      "/Users/biacordazzo/opt/anaconda3/envs/qiime2-amplicon-2024.5/lib/python3.9/site-packages/sklearn/metrics/_classification.py:1509: UndefinedMetricWarning: Precision is ill-defined and being set to 0.0 in labels with no predicted samples. Use `zero_division` parameter to control this behavior.\n",
      "  _warn_prf(average, modifier, f\"{metric.capitalize()} is\", len(result))\n"
     ]
    },
    {
     "name": "stdout",
     "output_type": "stream",
     "text": [
      "Best parameters found: {'bootstrap': True, 'max_depth': None, 'min_samples_leaf': 1, 'min_samples_split': 10, 'n_estimators': 100}\n",
      "Best cross-validation accuracy: 0.5928571428571429\n",
      "Optimizing hyperparameters for Joint_RPCA, traintest_9...\n"
     ]
    },
    {
     "name": "stderr",
     "output_type": "stream",
     "text": [
      "/Users/biacordazzo/opt/anaconda3/envs/qiime2-amplicon-2024.5/lib/python3.9/site-packages/sklearn/metrics/_classification.py:1509: UndefinedMetricWarning: Precision is ill-defined and being set to 0.0 in labels with no predicted samples. Use `zero_division` parameter to control this behavior.\n",
      "  _warn_prf(average, modifier, f\"{metric.capitalize()} is\", len(result))\n",
      "/Users/biacordazzo/opt/anaconda3/envs/qiime2-amplicon-2024.5/lib/python3.9/site-packages/sklearn/metrics/_classification.py:1509: UndefinedMetricWarning: Precision is ill-defined and being set to 0.0 in labels with no predicted samples. Use `zero_division` parameter to control this behavior.\n",
      "  _warn_prf(average, modifier, f\"{metric.capitalize()} is\", len(result))\n",
      "/Users/biacordazzo/opt/anaconda3/envs/qiime2-amplicon-2024.5/lib/python3.9/site-packages/sklearn/metrics/_classification.py:1509: UndefinedMetricWarning: Precision is ill-defined and being set to 0.0 in labels with no predicted samples. Use `zero_division` parameter to control this behavior.\n",
      "  _warn_prf(average, modifier, f\"{metric.capitalize()} is\", len(result))\n"
     ]
    },
    {
     "name": "stdout",
     "output_type": "stream",
     "text": [
      "Best parameters found: {'bootstrap': True, 'max_depth': 10, 'min_samples_leaf': 1, 'min_samples_split': 5, 'n_estimators': 200}\n",
      "Best cross-validation accuracy: 0.6285714285714286\n"
     ]
    }
   ],
   "source": [
    "#STAGE OF DECOMPOSITION (ADD 0C)\n",
    "acc_ord_stage_opt = rf_acc(ord_tables=[ord_18S, ord_mag, ord_gene, \n",
    "                                        ord_gene_module, ord_metabolite, ord_joint],\n",
    "                            ord_ids=[\"18S_RPCA\", \"MAG_RPCA\", \"Gene_RPCA\",\n",
    "                                     \"Gene_Module_RPCA\", \"Metabolite_RPCA\", \"Joint_RPCA\"], \n",
    "                            shared_mt=metadata, cat_of_interest='add_0c_group', ordination=True, \n",
    "                            n_folds=10, random_state=42, optimize=True, param_grid=param_grid)"
   ]
  },
  {
   "cell_type": "code",
   "execution_count": 19,
   "metadata": {},
   "outputs": [
    {
     "data": {
      "text/html": [
       "<div>\n",
       "<style scoped>\n",
       "    .dataframe tbody tr th:only-of-type {\n",
       "        vertical-align: middle;\n",
       "    }\n",
       "\n",
       "    .dataframe tbody tr th {\n",
       "        vertical-align: top;\n",
       "    }\n",
       "\n",
       "    .dataframe thead th {\n",
       "        text-align: right;\n",
       "    }\n",
       "</style>\n",
       "<table border=\"1\" class=\"dataframe\">\n",
       "  <thead>\n",
       "    <tr style=\"text-align: right;\">\n",
       "      <th></th>\n",
       "      <th>Omic</th>\n",
       "      <th>Fold</th>\n",
       "      <th>Accuracy</th>\n",
       "      <th>Report</th>\n",
       "      <th>Optimization</th>\n",
       "    </tr>\n",
       "  </thead>\n",
       "  <tbody>\n",
       "    <tr>\n",
       "      <th>0</th>\n",
       "      <td>18S_RPCA</td>\n",
       "      <td>traintest_0</td>\n",
       "      <td>0.489362</td>\n",
       "      <td>precision    recall  f1-score   ...</td>\n",
       "      <td>{'bootstrap': True, 'max_depth': 10, 'min_samp...</td>\n",
       "    </tr>\n",
       "    <tr>\n",
       "      <th>1</th>\n",
       "      <td>18S_RPCA</td>\n",
       "      <td>traintest_1</td>\n",
       "      <td>0.446809</td>\n",
       "      <td>precision    recall  f1-score   ...</td>\n",
       "      <td>{'bootstrap': False, 'max_depth': None, 'min_s...</td>\n",
       "    </tr>\n",
       "    <tr>\n",
       "      <th>2</th>\n",
       "      <td>18S_RPCA</td>\n",
       "      <td>traintest_2</td>\n",
       "      <td>0.521277</td>\n",
       "      <td>precision    recall  f1-score   ...</td>\n",
       "      <td>{'bootstrap': True, 'max_depth': None, 'min_sa...</td>\n",
       "    </tr>\n",
       "    <tr>\n",
       "      <th>3</th>\n",
       "      <td>18S_RPCA</td>\n",
       "      <td>traintest_3</td>\n",
       "      <td>0.446809</td>\n",
       "      <td>precision    recall  f1-score   ...</td>\n",
       "      <td>{'bootstrap': True, 'max_depth': 10, 'min_samp...</td>\n",
       "    </tr>\n",
       "    <tr>\n",
       "      <th>4</th>\n",
       "      <td>18S_RPCA</td>\n",
       "      <td>traintest_4</td>\n",
       "      <td>0.531915</td>\n",
       "      <td>precision    recall  f1-score   ...</td>\n",
       "      <td>{'bootstrap': True, 'max_depth': None, 'min_sa...</td>\n",
       "    </tr>\n",
       "  </tbody>\n",
       "</table>\n",
       "</div>"
      ],
      "text/plain": [
       "       Omic         Fold  Accuracy  \\\n",
       "0  18S_RPCA  traintest_0  0.489362   \n",
       "1  18S_RPCA  traintest_1  0.446809   \n",
       "2  18S_RPCA  traintest_2  0.521277   \n",
       "3  18S_RPCA  traintest_3  0.446809   \n",
       "4  18S_RPCA  traintest_4  0.531915   \n",
       "\n",
       "                                              Report  \\\n",
       "0                precision    recall  f1-score   ...   \n",
       "1                precision    recall  f1-score   ...   \n",
       "2                precision    recall  f1-score   ...   \n",
       "3                precision    recall  f1-score   ...   \n",
       "4                precision    recall  f1-score   ...   \n",
       "\n",
       "                                        Optimization  \n",
       "0  {'bootstrap': True, 'max_depth': 10, 'min_samp...  \n",
       "1  {'bootstrap': False, 'max_depth': None, 'min_s...  \n",
       "2  {'bootstrap': True, 'max_depth': None, 'min_sa...  \n",
       "3  {'bootstrap': True, 'max_depth': 10, 'min_samp...  \n",
       "4  {'bootstrap': True, 'max_depth': None, 'min_sa...  "
      ]
     },
     "metadata": {},
     "output_type": "display_data"
    }
   ],
   "source": [
    "#save results\n",
    "#acc_ord_stage_opt.to_csv('../results/joint-rpca/rf_acc_stage_opt.csv', index=False)\n",
    "display(acc_ord_stage_opt.head())"
   ]
  },
  {
   "cell_type": "code",
   "execution_count": 20,
   "metadata": {},
   "outputs": [
    {
     "name": "stdout",
     "output_type": "stream",
     "text": [
      "traintest_0 early\n",
      "train    36\n",
      "test     11\n",
      "Name: traintest_0, dtype: int64\n",
      "traintest_0 advanced\n",
      "train    118\n",
      "test      44\n",
      "Name: traintest_0, dtype: int64\n",
      "traintest_0 initial\n",
      "train    19\n",
      "test      4\n",
      "Name: traintest_0, dtype: int64\n",
      "traintest_0 active\n",
      "train    107\n",
      "test      35\n",
      "Name: traintest_0, dtype: int64\n",
      "\n",
      "traintest_1 early\n",
      "train    34\n",
      "test     13\n",
      "Name: traintest_1, dtype: int64\n",
      "traintest_1 advanced\n",
      "train    126\n",
      "test      36\n",
      "Name: traintest_1, dtype: int64\n",
      "traintest_1 initial\n",
      "train    17\n",
      "test      6\n",
      "Name: traintest_1, dtype: int64\n",
      "traintest_1 active\n",
      "train    103\n",
      "test      39\n",
      "Name: traintest_1, dtype: int64\n",
      "\n",
      "traintest_2 early\n",
      "train    36\n",
      "test     11\n",
      "Name: traintest_2, dtype: int64\n",
      "traintest_2 advanced\n",
      "train    125\n",
      "test      37\n",
      "Name: traintest_2, dtype: int64\n",
      "traintest_2 initial\n",
      "train    17\n",
      "test      6\n",
      "Name: traintest_2, dtype: int64\n",
      "traintest_2 active\n",
      "train    102\n",
      "test      40\n",
      "Name: traintest_2, dtype: int64\n",
      "\n",
      "traintest_3 early\n",
      "train    35\n",
      "test     12\n",
      "Name: traintest_3, dtype: int64\n",
      "traintest_3 advanced\n",
      "train    126\n",
      "test      36\n",
      "Name: traintest_3, dtype: int64\n",
      "traintest_3 initial\n",
      "train    15\n",
      "test      8\n",
      "Name: traintest_3, dtype: int64\n",
      "traintest_3 active\n",
      "train    104\n",
      "test      38\n",
      "Name: traintest_3, dtype: int64\n",
      "\n",
      "traintest_4 early\n",
      "train    37\n",
      "test     10\n",
      "Name: traintest_4, dtype: int64\n",
      "traintest_4 advanced\n",
      "train    116\n",
      "test      46\n",
      "Name: traintest_4, dtype: int64\n",
      "traintest_4 initial\n",
      "train    19\n",
      "test      4\n",
      "Name: traintest_4, dtype: int64\n",
      "traintest_4 active\n",
      "train    108\n",
      "test      34\n",
      "Name: traintest_4, dtype: int64\n",
      "\n",
      "traintest_5 early\n",
      "train    30\n",
      "test     17\n",
      "Name: traintest_5, dtype: int64\n",
      "traintest_5 advanced\n",
      "train    120\n",
      "test      42\n",
      "Name: traintest_5, dtype: int64\n",
      "traintest_5 initial\n",
      "train    17\n",
      "test      6\n",
      "Name: traintest_5, dtype: int64\n",
      "traintest_5 active\n",
      "train    113\n",
      "test      29\n",
      "Name: traintest_5, dtype: int64\n",
      "\n",
      "traintest_6 early\n",
      "train    30\n",
      "test     17\n",
      "Name: traintest_6, dtype: int64\n",
      "traintest_6 advanced\n",
      "train    128\n",
      "test      34\n",
      "Name: traintest_6, dtype: int64\n",
      "traintest_6 initial\n",
      "train    18\n",
      "test      5\n",
      "Name: traintest_6, dtype: int64\n",
      "traintest_6 active\n",
      "train    104\n",
      "test      38\n",
      "Name: traintest_6, dtype: int64\n",
      "\n",
      "traintest_7 early\n",
      "train    36\n",
      "test     11\n",
      "Name: traintest_7, dtype: int64\n",
      "traintest_7 advanced\n",
      "train    124\n",
      "test      38\n",
      "Name: traintest_7, dtype: int64\n",
      "traintest_7 initial\n",
      "train    16\n",
      "test      7\n",
      "Name: traintest_7, dtype: int64\n",
      "traintest_7 active\n",
      "train    104\n",
      "test      38\n",
      "Name: traintest_7, dtype: int64\n",
      "\n",
      "traintest_8 early\n",
      "train    36\n",
      "test     11\n",
      "Name: traintest_8, dtype: int64\n",
      "traintest_8 advanced\n",
      "train    121\n",
      "test      41\n",
      "Name: traintest_8, dtype: int64\n",
      "traintest_8 initial\n",
      "train    15\n",
      "test      8\n",
      "Name: traintest_8, dtype: int64\n",
      "traintest_8 active\n",
      "train    108\n",
      "test      34\n",
      "Name: traintest_8, dtype: int64\n",
      "\n",
      "traintest_9 early\n",
      "train    38\n",
      "test      9\n",
      "Name: traintest_9, dtype: int64\n",
      "traintest_9 advanced\n",
      "train    117\n",
      "test      45\n",
      "Name: traintest_9, dtype: int64\n",
      "traintest_9 initial\n",
      "train    16\n",
      "test      7\n",
      "Name: traintest_9, dtype: int64\n",
      "traintest_9 active\n",
      "train    109\n",
      "test      33\n",
      "Name: traintest_9, dtype: int64\n",
      "\n"
     ]
    }
   ],
   "source": [
    "for fold in ['traintest_{}'.format(i) for i in range(10)]:\n",
    "    for group in metadata.add_0c_group.unique():\n",
    "        print(fold, group)\n",
    "        print(metadata[metadata.add_0c_group == group][fold].value_counts())\n",
    "    print()"
   ]
  },
  {
   "cell_type": "code",
   "execution_count": 21,
   "metadata": {},
   "outputs": [
    {
     "name": "stdout",
     "output_type": "stream",
     "text": [
      "Optimizing hyperparameters for 18S_RPCA, traintest_0...\n",
      "Best parameters found: {'bootstrap': False, 'max_depth': None, 'min_samples_leaf': 2, 'min_samples_split': 2, 'n_estimators': 200}\n",
      "Best cross-validation accuracy: 0.8214285714285715\n",
      "Optimizing hyperparameters for 18S_RPCA, traintest_1...\n",
      "Best parameters found: {'bootstrap': True, 'max_depth': None, 'min_samples_leaf': 1, 'min_samples_split': 10, 'n_estimators': 300}\n",
      "Best cross-validation accuracy: 0.7428571428571429\n",
      "Optimizing hyperparameters for 18S_RPCA, traintest_2...\n",
      "Best parameters found: {'bootstrap': True, 'max_depth': None, 'min_samples_leaf': 1, 'min_samples_split': 2, 'n_estimators': 300}\n",
      "Best cross-validation accuracy: 0.7571428571428571\n",
      "Optimizing hyperparameters for 18S_RPCA, traintest_3...\n",
      "Best parameters found: {'bootstrap': True, 'max_depth': None, 'min_samples_leaf': 4, 'min_samples_split': 10, 'n_estimators': 100}\n",
      "Best cross-validation accuracy: 0.8357142857142857\n",
      "Optimizing hyperparameters for 18S_RPCA, traintest_4...\n",
      "Best parameters found: {'bootstrap': True, 'max_depth': 10, 'min_samples_leaf': 1, 'min_samples_split': 2, 'n_estimators': 300}\n",
      "Best cross-validation accuracy: 0.7607142857142858\n",
      "Optimizing hyperparameters for 18S_RPCA, traintest_5...\n",
      "Best parameters found: {'bootstrap': False, 'max_depth': None, 'min_samples_leaf': 1, 'min_samples_split': 5, 'n_estimators': 100}\n",
      "Best cross-validation accuracy: 0.8107142857142857\n",
      "Optimizing hyperparameters for 18S_RPCA, traintest_6...\n",
      "Best parameters found: {'bootstrap': True, 'max_depth': None, 'min_samples_leaf': 4, 'min_samples_split': 10, 'n_estimators': 200}\n",
      "Best cross-validation accuracy: 0.8071428571428572\n",
      "Optimizing hyperparameters for 18S_RPCA, traintest_7...\n",
      "Best parameters found: {'bootstrap': False, 'max_depth': None, 'min_samples_leaf': 1, 'min_samples_split': 10, 'n_estimators': 200}\n",
      "Best cross-validation accuracy: 0.8178571428571428\n",
      "Optimizing hyperparameters for 18S_RPCA, traintest_8...\n",
      "Best parameters found: {'bootstrap': True, 'max_depth': None, 'min_samples_leaf': 4, 'min_samples_split': 2, 'n_estimators': 100}\n",
      "Best cross-validation accuracy: 0.8214285714285714\n",
      "Optimizing hyperparameters for 18S_RPCA, traintest_9...\n",
      "Best parameters found: {'bootstrap': False, 'max_depth': None, 'min_samples_leaf': 2, 'min_samples_split': 10, 'n_estimators': 300}\n",
      "Best cross-validation accuracy: 0.7535714285714286\n",
      "Optimizing hyperparameters for MAG_RPCA, traintest_0...\n",
      "Best parameters found: {'bootstrap': True, 'max_depth': None, 'min_samples_leaf': 1, 'min_samples_split': 5, 'n_estimators': 200}\n",
      "Best cross-validation accuracy: 0.5678571428571428\n",
      "Optimizing hyperparameters for MAG_RPCA, traintest_1...\n",
      "Best parameters found: {'bootstrap': True, 'max_depth': None, 'min_samples_leaf': 2, 'min_samples_split': 5, 'n_estimators': 200}\n",
      "Best cross-validation accuracy: 0.5714285714285714\n",
      "Optimizing hyperparameters for MAG_RPCA, traintest_2...\n",
      "Best parameters found: {'bootstrap': True, 'max_depth': 10, 'min_samples_leaf': 1, 'min_samples_split': 10, 'n_estimators': 100}\n",
      "Best cross-validation accuracy: 0.49642857142857155\n",
      "Optimizing hyperparameters for MAG_RPCA, traintest_3...\n",
      "Best parameters found: {'bootstrap': True, 'max_depth': None, 'min_samples_leaf': 1, 'min_samples_split': 2, 'n_estimators': 300}\n",
      "Best cross-validation accuracy: 0.55\n",
      "Optimizing hyperparameters for MAG_RPCA, traintest_4...\n",
      "Best parameters found: {'bootstrap': True, 'max_depth': 10, 'min_samples_leaf': 1, 'min_samples_split': 2, 'n_estimators': 200}\n",
      "Best cross-validation accuracy: 0.55\n",
      "Optimizing hyperparameters for MAG_RPCA, traintest_5...\n",
      "Best parameters found: {'bootstrap': True, 'max_depth': None, 'min_samples_leaf': 1, 'min_samples_split': 5, 'n_estimators': 100}\n",
      "Best cross-validation accuracy: 0.5285714285714286\n",
      "Optimizing hyperparameters for MAG_RPCA, traintest_6...\n",
      "Best parameters found: {'bootstrap': False, 'max_depth': None, 'min_samples_leaf': 4, 'min_samples_split': 10, 'n_estimators': 300}\n",
      "Best cross-validation accuracy: 0.5892857142857142\n",
      "Optimizing hyperparameters for MAG_RPCA, traintest_7...\n",
      "Best parameters found: {'bootstrap': True, 'max_depth': None, 'min_samples_leaf': 1, 'min_samples_split': 5, 'n_estimators': 200}\n",
      "Best cross-validation accuracy: 0.5857142857142856\n",
      "Optimizing hyperparameters for MAG_RPCA, traintest_8...\n",
      "Best parameters found: {'bootstrap': True, 'max_depth': None, 'min_samples_leaf': 1, 'min_samples_split': 2, 'n_estimators': 300}\n",
      "Best cross-validation accuracy: 0.5607142857142857\n",
      "Optimizing hyperparameters for MAG_RPCA, traintest_9...\n",
      "Best parameters found: {'bootstrap': True, 'max_depth': 10, 'min_samples_leaf': 1, 'min_samples_split': 5, 'n_estimators': 300}\n",
      "Best cross-validation accuracy: 0.5321428571428571\n",
      "Optimizing hyperparameters for Gene_RPCA, traintest_0...\n",
      "Best parameters found: {'bootstrap': True, 'max_depth': None, 'min_samples_leaf': 1, 'min_samples_split': 2, 'n_estimators': 100}\n",
      "Best cross-validation accuracy: 0.6142857142857143\n",
      "Optimizing hyperparameters for Gene_RPCA, traintest_1...\n",
      "Best parameters found: {'bootstrap': True, 'max_depth': None, 'min_samples_leaf': 1, 'min_samples_split': 10, 'n_estimators': 300}\n",
      "Best cross-validation accuracy: 0.6071428571428571\n",
      "Optimizing hyperparameters for Gene_RPCA, traintest_2...\n",
      "Best parameters found: {'bootstrap': False, 'max_depth': None, 'min_samples_leaf': 4, 'min_samples_split': 10, 'n_estimators': 100}\n",
      "Best cross-validation accuracy: 0.5285714285714287\n",
      "Optimizing hyperparameters for Gene_RPCA, traintest_3...\n",
      "Best parameters found: {'bootstrap': False, 'max_depth': 10, 'min_samples_leaf': 1, 'min_samples_split': 5, 'n_estimators': 300}\n",
      "Best cross-validation accuracy: 0.5535714285714286\n",
      "Optimizing hyperparameters for Gene_RPCA, traintest_4...\n",
      "Best parameters found: {'bootstrap': False, 'max_depth': 10, 'min_samples_leaf': 2, 'min_samples_split': 2, 'n_estimators': 100}\n",
      "Best cross-validation accuracy: 0.5785714285714286\n",
      "Optimizing hyperparameters for Gene_RPCA, traintest_5...\n",
      "Best parameters found: {'bootstrap': True, 'max_depth': None, 'min_samples_leaf': 4, 'min_samples_split': 10, 'n_estimators': 300}\n",
      "Best cross-validation accuracy: 0.55\n",
      "Optimizing hyperparameters for Gene_RPCA, traintest_6...\n",
      "Best parameters found: {'bootstrap': True, 'max_depth': 10, 'min_samples_leaf': 2, 'min_samples_split': 5, 'n_estimators': 200}\n",
      "Best cross-validation accuracy: 0.6\n",
      "Optimizing hyperparameters for Gene_RPCA, traintest_7...\n",
      "Best parameters found: {'bootstrap': True, 'max_depth': None, 'min_samples_leaf': 2, 'min_samples_split': 10, 'n_estimators': 200}\n",
      "Best cross-validation accuracy: 0.6178571428571428\n",
      "Optimizing hyperparameters for Gene_RPCA, traintest_8...\n",
      "Best parameters found: {'bootstrap': True, 'max_depth': None, 'min_samples_leaf': 2, 'min_samples_split': 10, 'n_estimators': 100}\n",
      "Best cross-validation accuracy: 0.5785714285714285\n",
      "Optimizing hyperparameters for Gene_RPCA, traintest_9...\n",
      "Best parameters found: {'bootstrap': True, 'max_depth': None, 'min_samples_leaf': 1, 'min_samples_split': 2, 'n_estimators': 100}\n",
      "Best cross-validation accuracy: 0.6142857142857142\n",
      "Optimizing hyperparameters for Gene_Module_RPCA, traintest_0...\n",
      "Best parameters found: {'bootstrap': True, 'max_depth': None, 'min_samples_leaf': 1, 'min_samples_split': 2, 'n_estimators': 300}\n",
      "Best cross-validation accuracy: 0.5142857142857143\n",
      "Optimizing hyperparameters for Gene_Module_RPCA, traintest_1...\n",
      "Best parameters found: {'bootstrap': True, 'max_depth': 10, 'min_samples_leaf': 1, 'min_samples_split': 2, 'n_estimators': 300}\n",
      "Best cross-validation accuracy: 0.5464285714285715\n",
      "Optimizing hyperparameters for Gene_Module_RPCA, traintest_2...\n",
      "Best parameters found: {'bootstrap': True, 'max_depth': 10, 'min_samples_leaf': 1, 'min_samples_split': 2, 'n_estimators': 300}\n",
      "Best cross-validation accuracy: 0.5214285714285714\n",
      "Optimizing hyperparameters for Gene_Module_RPCA, traintest_3...\n",
      "Best parameters found: {'bootstrap': True, 'max_depth': 10, 'min_samples_leaf': 1, 'min_samples_split': 2, 'n_estimators': 200}\n",
      "Best cross-validation accuracy: 0.5000000000000001\n",
      "Optimizing hyperparameters for Gene_Module_RPCA, traintest_4...\n",
      "Best parameters found: {'bootstrap': True, 'max_depth': None, 'min_samples_leaf': 2, 'min_samples_split': 5, 'n_estimators': 200}\n",
      "Best cross-validation accuracy: 0.5142857142857142\n",
      "Optimizing hyperparameters for Gene_Module_RPCA, traintest_5...\n",
      "Best parameters found: {'bootstrap': True, 'max_depth': 20, 'min_samples_leaf': 1, 'min_samples_split': 2, 'n_estimators': 200}\n",
      "Best cross-validation accuracy: 0.49642857142857144\n",
      "Optimizing hyperparameters for Gene_Module_RPCA, traintest_6...\n",
      "Best parameters found: {'bootstrap': True, 'max_depth': None, 'min_samples_leaf': 2, 'min_samples_split': 5, 'n_estimators': 200}\n",
      "Best cross-validation accuracy: 0.55\n",
      "Optimizing hyperparameters for Gene_Module_RPCA, traintest_7...\n",
      "Best parameters found: {'bootstrap': True, 'max_depth': None, 'min_samples_leaf': 1, 'min_samples_split': 5, 'n_estimators': 100}\n",
      "Best cross-validation accuracy: 0.5285714285714286\n",
      "Optimizing hyperparameters for Gene_Module_RPCA, traintest_8...\n",
      "Best parameters found: {'bootstrap': True, 'max_depth': 10, 'min_samples_leaf': 1, 'min_samples_split': 2, 'n_estimators': 300}\n",
      "Best cross-validation accuracy: 0.5535714285714286\n",
      "Optimizing hyperparameters for Gene_Module_RPCA, traintest_9...\n",
      "Best parameters found: {'bootstrap': False, 'max_depth': 10, 'min_samples_leaf': 1, 'min_samples_split': 10, 'n_estimators': 300}\n",
      "Best cross-validation accuracy: 0.5142857142857143\n",
      "Optimizing hyperparameters for Metabolite_RPCA, traintest_0...\n",
      "Best parameters found: {'bootstrap': True, 'max_depth': 10, 'min_samples_leaf': 2, 'min_samples_split': 10, 'n_estimators': 100}\n",
      "Best cross-validation accuracy: 0.5857142857142856\n",
      "Optimizing hyperparameters for Metabolite_RPCA, traintest_1...\n",
      "Best parameters found: {'bootstrap': True, 'max_depth': None, 'min_samples_leaf': 4, 'min_samples_split': 10, 'n_estimators': 100}\n",
      "Best cross-validation accuracy: 0.5607142857142857\n",
      "Optimizing hyperparameters for Metabolite_RPCA, traintest_2...\n",
      "Best parameters found: {'bootstrap': True, 'max_depth': None, 'min_samples_leaf': 4, 'min_samples_split': 2, 'n_estimators': 300}\n",
      "Best cross-validation accuracy: 0.5607142857142857\n",
      "Optimizing hyperparameters for Metabolite_RPCA, traintest_3...\n",
      "Best parameters found: {'bootstrap': True, 'max_depth': 10, 'min_samples_leaf': 1, 'min_samples_split': 10, 'n_estimators': 200}\n",
      "Best cross-validation accuracy: 0.6250000000000001\n",
      "Optimizing hyperparameters for Metabolite_RPCA, traintest_4...\n",
      "Best parameters found: {'bootstrap': True, 'max_depth': None, 'min_samples_leaf': 2, 'min_samples_split': 10, 'n_estimators': 200}\n",
      "Best cross-validation accuracy: 0.5642857142857143\n",
      "Optimizing hyperparameters for Metabolite_RPCA, traintest_5...\n",
      "Best parameters found: {'bootstrap': True, 'max_depth': None, 'min_samples_leaf': 4, 'min_samples_split': 10, 'n_estimators': 300}\n",
      "Best cross-validation accuracy: 0.5714285714285714\n",
      "Optimizing hyperparameters for Metabolite_RPCA, traintest_6...\n",
      "Best parameters found: {'bootstrap': True, 'max_depth': None, 'min_samples_leaf': 1, 'min_samples_split': 5, 'n_estimators': 200}\n",
      "Best cross-validation accuracy: 0.5714285714285714\n",
      "Optimizing hyperparameters for Metabolite_RPCA, traintest_7...\n",
      "Best parameters found: {'bootstrap': True, 'max_depth': None, 'min_samples_leaf': 4, 'min_samples_split': 10, 'n_estimators': 300}\n",
      "Best cross-validation accuracy: 0.557142857142857\n",
      "Optimizing hyperparameters for Metabolite_RPCA, traintest_8...\n",
      "Best parameters found: {'bootstrap': True, 'max_depth': None, 'min_samples_leaf': 2, 'min_samples_split': 2, 'n_estimators': 200}\n",
      "Best cross-validation accuracy: 0.5642857142857143\n",
      "Optimizing hyperparameters for Metabolite_RPCA, traintest_9...\n",
      "Best parameters found: {'bootstrap': True, 'max_depth': None, 'min_samples_leaf': 2, 'min_samples_split': 5, 'n_estimators': 100}\n",
      "Best cross-validation accuracy: 0.575\n",
      "Optimizing hyperparameters for Joint_RPCA, traintest_0...\n",
      "Best parameters found: {'bootstrap': False, 'max_depth': None, 'min_samples_leaf': 4, 'min_samples_split': 2, 'n_estimators': 300}\n",
      "Best cross-validation accuracy: 0.7535714285714284\n",
      "Optimizing hyperparameters for Joint_RPCA, traintest_1...\n",
      "Best parameters found: {'bootstrap': False, 'max_depth': None, 'min_samples_leaf': 1, 'min_samples_split': 5, 'n_estimators': 100}\n",
      "Best cross-validation accuracy: 0.7107142857142857\n",
      "Optimizing hyperparameters for Joint_RPCA, traintest_2...\n",
      "Best parameters found: {'bootstrap': True, 'max_depth': None, 'min_samples_leaf': 1, 'min_samples_split': 2, 'n_estimators': 200}\n",
      "Best cross-validation accuracy: 0.6928571428571428\n",
      "Optimizing hyperparameters for Joint_RPCA, traintest_3...\n",
      "Best parameters found: {'bootstrap': False, 'max_depth': 10, 'min_samples_leaf': 2, 'min_samples_split': 2, 'n_estimators': 100}\n",
      "Best cross-validation accuracy: 0.7035714285714285\n",
      "Optimizing hyperparameters for Joint_RPCA, traintest_4...\n",
      "Best parameters found: {'bootstrap': False, 'max_depth': 10, 'min_samples_leaf': 1, 'min_samples_split': 2, 'n_estimators': 100}\n",
      "Best cross-validation accuracy: 0.7107142857142856\n",
      "Optimizing hyperparameters for Joint_RPCA, traintest_5...\n",
      "Best parameters found: {'bootstrap': True, 'max_depth': None, 'min_samples_leaf': 2, 'min_samples_split': 2, 'n_estimators': 100}\n",
      "Best cross-validation accuracy: 0.6857142857142857\n",
      "Optimizing hyperparameters for Joint_RPCA, traintest_6...\n",
      "Best parameters found: {'bootstrap': True, 'max_depth': None, 'min_samples_leaf': 1, 'min_samples_split': 2, 'n_estimators': 200}\n",
      "Best cross-validation accuracy: 0.7071428571428571\n",
      "Optimizing hyperparameters for Joint_RPCA, traintest_7...\n",
      "Best parameters found: {'bootstrap': True, 'max_depth': 10, 'min_samples_leaf': 1, 'min_samples_split': 2, 'n_estimators': 300}\n",
      "Best cross-validation accuracy: 0.7428571428571429\n",
      "Optimizing hyperparameters for Joint_RPCA, traintest_8...\n",
      "Best parameters found: {'bootstrap': False, 'max_depth': None, 'min_samples_leaf': 1, 'min_samples_split': 5, 'n_estimators': 100}\n",
      "Best cross-validation accuracy: 0.7\n",
      "Optimizing hyperparameters for Joint_RPCA, traintest_9...\n",
      "Best parameters found: {'bootstrap': False, 'max_depth': None, 'min_samples_leaf': 2, 'min_samples_split': 5, 'n_estimators': 300}\n",
      "Best cross-validation accuracy: 0.7357142857142857\n"
     ]
    }
   ],
   "source": [
    "#SEASON\n",
    "acc_ord_season_opt = rf_acc(ord_tables=[ord_18S, ord_mag, ord_gene, \n",
    "                                        ord_gene_module, ord_metabolite, ord_joint],\n",
    "                            ord_ids=[\"18S_RPCA\", \"MAG_RPCA\", \"Gene_RPCA\",\n",
    "                                     \"Gene_Module_RPCA\", \"Metabolite_RPCA\", \"Joint_RPCA\"], \n",
    "                            shared_mt=metadata, cat_of_interest='season', ordination=True, \n",
    "                            n_folds=10, random_state=42, optimize=True, param_grid=param_grid)"
   ]
  },
  {
   "cell_type": "code",
   "execution_count": 22,
   "metadata": {},
   "outputs": [
    {
     "data": {
      "text/html": [
       "<div>\n",
       "<style scoped>\n",
       "    .dataframe tbody tr th:only-of-type {\n",
       "        vertical-align: middle;\n",
       "    }\n",
       "\n",
       "    .dataframe tbody tr th {\n",
       "        vertical-align: top;\n",
       "    }\n",
       "\n",
       "    .dataframe thead th {\n",
       "        text-align: right;\n",
       "    }\n",
       "</style>\n",
       "<table border=\"1\" class=\"dataframe\">\n",
       "  <thead>\n",
       "    <tr style=\"text-align: right;\">\n",
       "      <th></th>\n",
       "      <th>Omic</th>\n",
       "      <th>Fold</th>\n",
       "      <th>Accuracy</th>\n",
       "      <th>Report</th>\n",
       "      <th>Optimization</th>\n",
       "    </tr>\n",
       "  </thead>\n",
       "  <tbody>\n",
       "    <tr>\n",
       "      <th>0</th>\n",
       "      <td>18S_RPCA</td>\n",
       "      <td>traintest_0</td>\n",
       "      <td>0.819149</td>\n",
       "      <td>precision    recall  f1-score   ...</td>\n",
       "      <td>{'bootstrap': False, 'max_depth': None, 'min_s...</td>\n",
       "    </tr>\n",
       "    <tr>\n",
       "      <th>1</th>\n",
       "      <td>18S_RPCA</td>\n",
       "      <td>traintest_1</td>\n",
       "      <td>0.808511</td>\n",
       "      <td>precision    recall  f1-score   ...</td>\n",
       "      <td>{'bootstrap': True, 'max_depth': None, 'min_sa...</td>\n",
       "    </tr>\n",
       "    <tr>\n",
       "      <th>2</th>\n",
       "      <td>18S_RPCA</td>\n",
       "      <td>traintest_2</td>\n",
       "      <td>0.765957</td>\n",
       "      <td>precision    recall  f1-score   ...</td>\n",
       "      <td>{'bootstrap': True, 'max_depth': None, 'min_sa...</td>\n",
       "    </tr>\n",
       "    <tr>\n",
       "      <th>3</th>\n",
       "      <td>18S_RPCA</td>\n",
       "      <td>traintest_3</td>\n",
       "      <td>0.755319</td>\n",
       "      <td>precision    recall  f1-score   ...</td>\n",
       "      <td>{'bootstrap': True, 'max_depth': None, 'min_sa...</td>\n",
       "    </tr>\n",
       "    <tr>\n",
       "      <th>4</th>\n",
       "      <td>18S_RPCA</td>\n",
       "      <td>traintest_4</td>\n",
       "      <td>0.851064</td>\n",
       "      <td>precision    recall  f1-score   ...</td>\n",
       "      <td>{'bootstrap': True, 'max_depth': 10, 'min_samp...</td>\n",
       "    </tr>\n",
       "  </tbody>\n",
       "</table>\n",
       "</div>"
      ],
      "text/plain": [
       "       Omic         Fold  Accuracy  \\\n",
       "0  18S_RPCA  traintest_0  0.819149   \n",
       "1  18S_RPCA  traintest_1  0.808511   \n",
       "2  18S_RPCA  traintest_2  0.765957   \n",
       "3  18S_RPCA  traintest_3  0.755319   \n",
       "4  18S_RPCA  traintest_4  0.851064   \n",
       "\n",
       "                                              Report  \\\n",
       "0                precision    recall  f1-score   ...   \n",
       "1                precision    recall  f1-score   ...   \n",
       "2                precision    recall  f1-score   ...   \n",
       "3                precision    recall  f1-score   ...   \n",
       "4                precision    recall  f1-score   ...   \n",
       "\n",
       "                                        Optimization  \n",
       "0  {'bootstrap': False, 'max_depth': None, 'min_s...  \n",
       "1  {'bootstrap': True, 'max_depth': None, 'min_sa...  \n",
       "2  {'bootstrap': True, 'max_depth': None, 'min_sa...  \n",
       "3  {'bootstrap': True, 'max_depth': None, 'min_sa...  \n",
       "4  {'bootstrap': True, 'max_depth': 10, 'min_samp...  "
      ]
     },
     "metadata": {},
     "output_type": "display_data"
    }
   ],
   "source": [
    "#save results\n",
    "#acc_ord_season_opt.to_csv('../results/joint-rpca/rf_acc_season_opt.csv', index=False)\n",
    "display(acc_ord_season_opt.head())"
   ]
  },
  {
   "cell_type": "code",
   "execution_count": 26,
   "metadata": {},
   "outputs": [
    {
     "name": "stdout",
     "output_type": "stream",
     "text": [
      "p-value annotation legend:\n",
      "      ns: 5.00e-02 < p <= 1.00e+00\n",
      "       *: 1.00e-02 < p <= 5.00e-02\n",
      "      **: 1.00e-03 < p <= 1.00e-02\n",
      "     ***: 1.00e-04 < p <= 1.00e-03\n",
      "    ****: p <= 1.00e-04\n",
      "\n",
      "Metabolite_RPCA vs. Joint_RPCA: Wilcoxon test (paired samples), P_val:1.953e-03 Stat=0.000e+00\n",
      "Gene_Module_RPCA vs. Joint_RPCA: Wilcoxon test (paired samples), P_val:1.953e-03 Stat=0.000e+00\n",
      "Gene_RPCA vs. Joint_RPCA: Wilcoxon test (paired samples), P_val:1.953e-03 Stat=0.000e+00\n",
      "MAG_RPCA vs. Joint_RPCA: Wilcoxon test (paired samples), P_val:4.962e-01 Stat=5.000e+00\n",
      "18S_RPCA vs. Joint_RPCA: Wilcoxon test (paired samples), P_val:1.953e-03 Stat=0.000e+00\n",
      "p-value annotation legend:\n",
      "      ns: 5.00e-02 < p <= 1.00e+00\n",
      "       *: 1.00e-02 < p <= 5.00e-02\n",
      "      **: 1.00e-03 < p <= 1.00e-02\n",
      "     ***: 1.00e-04 < p <= 1.00e-03\n",
      "    ****: p <= 1.00e-04\n",
      "\n",
      "Metabolite_RPCA vs. Joint_RPCA: Wilcoxon test (paired samples), P_val:1.953e-03 Stat=0.000e+00\n",
      "Gene_Module_RPCA vs. Joint_RPCA: Wilcoxon test (paired samples), P_val:4.995e-02 Stat=4.000e+00\n",
      "Gene_RPCA vs. Joint_RPCA: Wilcoxon test (paired samples), P_val:8.583e-01 Stat=2.100e+01\n",
      "MAG_RPCA vs. Joint_RPCA: Wilcoxon test (paired samples), P_val:8.398e-02 Stat=1.000e+01\n",
      "18S_RPCA vs. Joint_RPCA: Wilcoxon test (paired samples), P_val:1.953e-03 Stat=0.000e+00\n",
      "p-value annotation legend:\n",
      "      ns: 5.00e-02 < p <= 1.00e+00\n",
      "       *: 1.00e-02 < p <= 5.00e-02\n",
      "      **: 1.00e-03 < p <= 1.00e-02\n",
      "     ***: 1.00e-04 < p <= 1.00e-03\n",
      "    ****: p <= 1.00e-04\n",
      "\n",
      "Metabolite_RPCA vs. Joint_RPCA: Wilcoxon test (paired samples), P_val:1.953e-03 Stat=0.000e+00\n",
      "Gene_Module_RPCA vs. Joint_RPCA: Wilcoxon test (paired samples), P_val:1.953e-03 Stat=0.000e+00\n",
      "Gene_RPCA vs. Joint_RPCA: Wilcoxon test (paired samples), P_val:1.953e-03 Stat=0.000e+00\n",
      "MAG_RPCA vs. Joint_RPCA: Wilcoxon test (paired samples), P_val:1.953e-03 Stat=0.000e+00\n",
      "18S_RPCA vs. Joint_RPCA: Wilcoxon test (paired samples), P_val:7.579e-03 Stat=0.000e+00\n"
     ]
    },
    {
     "data": {
      "image/png": "[encoded data removed]",
      "text/plain": [
       "<Figure size 1500x500 with 3 Axes>"
      ]
     },
     "metadata": {},
     "output_type": "display_data"
    }
   ],
   "source": [
    "#plot results and run statistical test\n",
    "order = ['18S_RPCA', 'MAG_RPCA', 'Gene_RPCA', \n",
    "         'Gene_Module_RPCA', 'Metabolite_RPCA', 'Joint_RPCA']\n",
    "stat_pairs = [(omic, \"Joint_RPCA\") for omic in order[0:-1]]\n",
    "plotting_params = {'x':'Omic', 'y':'Accuracy', \n",
    "                   'order':order, 'palette':'tab10'}\n",
    "\n",
    "fig, axn = plt.subplots(1, 3, figsize=(15, 5))\n",
    "for ax_, data, title in zip(axn.flatten(), \n",
    "                           [acc_ord_facility_opt, acc_ord_stage_opt, acc_ord_season_opt],\n",
    "                           ['Facility', 'Stage of Decomposition', 'Season']):\n",
    "    \n",
    "    plotting_params['data'] = data\n",
    "    sns.boxplot(ax=ax_, **plotting_params)\n",
    "    \n",
    "    ax_.set_xticklabels(ax_.get_xticklabels(), rotation=30)\n",
    "    ax_.set_xlabel('')\n",
    "    ax_.set_ylabel('RF Accuracy')\n",
    "    ax_.set_title(title)\n",
    "\n",
    "    #add statistical test\n",
    "    annotator = Annotator(ax_, stat_pairs, **plotting_params)\n",
    "    annotator.configure(test=\"Wilcoxon\").apply_and_annotate()\n",
    "    #test options: Mann-Whitney, Kruskal, Wilcoxon\n",
    "\n",
    "plt.tight_layout()\n",
    "plt.show()"
   ]
  },
  {
   "cell_type": "markdown",
   "metadata": {},
   "source": [
    "## Feature-based classification"
   ]
  },
  {
   "cell_type": "code",
   "execution_count": 4,
   "metadata": {},
   "outputs": [],
   "source": [
    "def get_top_features(table, ordination, component='PC1', \n",
    "                     quantile=0.90, pseudocount=0):\n",
    "    \n",
    "    #get the loadings\n",
    "    floadings = ordination.copy()\n",
    "    floadings.rename(columns={0:\"PC1\", 1:\"PC2\", \n",
    "                              2:\"PC3\", 3:\"PC4\"}, inplace=True)\n",
    "    table_df = table.copy().to_dataframe()\n",
    "    \n",
    "    top_pc_values = {}\n",
    "    bottom_pc_values = {}\n",
    "    beta_l = {}\n",
    "    \n",
    "    #sort loadings along each component\n",
    "    floadings.sort_values(by=component, ascending=False, inplace=True)\n",
    "    floadings_ = floadings[component].copy()\n",
    "    #get top and bottom loading quantiles\n",
    "    top_q = floadings_.quantile(quantile)\n",
    "    bottom_q = floadings_.quantile(1-quantile)\n",
    "    top_fts = floadings_[floadings_ >= top_q].index\n",
    "    bottom_fts = floadings_[floadings_ <= bottom_q].index\n",
    "    #aggregate the top and bottom features per sample\n",
    "    num = table_df.loc[top_fts].sum(axis=0)\n",
    "    num += pseudocount\n",
    "    top_pc_values[component] = num.values\n",
    "    denom = table_df.loc[bottom_fts].sum(axis=0)\n",
    "    denom += pseudocount\n",
    "    bottom_pc_values[component] = denom.values\n",
    "    #calculate trajectories\n",
    "    beta_ = np.log(num).values - np.log(denom).values\n",
    "    beta_l[component] = beta_\n",
    "\n",
    "    #save top and bottom aggregated features as df\n",
    "    top_fts_df = pd.DataFrame(top_pc_values, index=num.index)\n",
    "    bottom_fts_df = pd.DataFrame(bottom_pc_values, index=denom.index)\n",
    "    #save trajectories as df\n",
    "    beta_df = pd.DataFrame(beta_l, index=num.index)\n",
    "    #drop any NaN or infinity values\n",
    "    beta_df.replace([np.inf, -np.inf], np.nan, inplace=True)\n",
    "    beta_df.dropna(inplace=True)\n",
    "\n",
    "    return (top_fts_df, bottom_fts_df, beta_df,\n",
    "            top_fts.tolist(), bottom_fts.tolist())"
   ]
  },
  {
   "cell_type": "code",
   "execution_count": 5,
   "metadata": {},
   "outputs": [],
   "source": [
    "# import the rest\n",
    "all_tables = {'18S':'../network/split-matched-data/18S.biom',\n",
    "              'mag':'../network/split-matched-data/mag.biom',\n",
    "              'gene':'../network/split-matched-data/gene.biom',\n",
    "              'gene_module':'../network/split-matched-data/gene_module.biom',\n",
    "              'metabolite':'../network/split-matched-data/metabolite.biom'}\n",
    "\n",
    "tables = {}\n",
    "for tbl_id, tbl_path in all_tables.items():\n",
    "    tables[tbl_id] = load_table(tbl_path)"
   ]
  },
  {
   "cell_type": "code",
   "execution_count": 6,
   "metadata": {},
   "outputs": [
    {
     "name": "stdout",
     "output_type": "stream",
     "text": [
      "Not in ordination results: 42\n",
      "In ordination results: 5431\n"
     ]
    }
   ],
   "source": [
    "#retrieve feature loadings from joint-rpca\n",
    "joint_features = ord_joint.features\n",
    "\n",
    "#for 18S, need to make sure features are in the original table\n",
    "not_in_ord_18S = []\n",
    "in_ord_18S = []\n",
    "\n",
    "for id in tables['18S'].ids(axis='observation'):\n",
    "    if id not in joint_features.index:\n",
    "        not_in_ord_18S.append(id)\n",
    "    else:\n",
    "        in_ord_18S.append(id)\n",
    "print(\"Not in ordination results: %i\" % len(not_in_ord_18S))\n",
    "print(\"In ordination results: %i\" % len(in_ord_18S))\n",
    "\n",
    "#keep only common features\n",
    "tables['18S'] = tables['18S'].filter(ids_to_keep=in_ord_18S, axis='observation')"
   ]
  },
  {
   "cell_type": "markdown",
   "metadata": {},
   "source": [
    "### Hyper-parameter optimization"
   ]
  },
  {
   "cell_type": "code",
   "execution_count": 49,
   "metadata": {},
   "outputs": [],
   "source": [
    "#common parameters\n",
    "quantile = 0.90\n",
    "pc_to_use = 'PC3'\n",
    "\n",
    "param_grid = {\n",
    "    'n_estimators': [100, 200, 300],\n",
    "    'max_depth': [None, 10, 20],\n",
    "    'min_samples_split': [2, 5, 10],\n",
    "    'min_samples_leaf': [1, 2, 4],\n",
    "    'bootstrap': [True, False]\n",
    "}"
   ]
  },
  {
   "cell_type": "code",
   "execution_count": 50,
   "metadata": {},
   "outputs": [],
   "source": [
    "#find top/bottom features from individual RPCA results\n",
    "rpca_ord = {'18S': ord_18S, 'mag': ord_mag, 'gene': ord_gene, \n",
    "            'gene_module': ord_gene_module, 'metabolite': ord_metabolite}\n",
    "\n",
    "rpca_top_fts = {}\n",
    "rpca_bottom_fts = {}\n",
    "rpca_traj = {}\n",
    "\n",
    "for omic in tables.keys():\n",
    "    ord_ = rpca_ord[omic].features.copy()\n",
    "    table_ = tables[omic]\n",
    "    top_fts, bottom_fts, beta_l, _, _ = get_top_features(table_, ord_, component=pc_to_use,\n",
    "                                                         quantile=quantile, pseudocount=0)\n",
    "    rpca_top_fts[omic] = top_fts\n",
    "    rpca_bottom_fts[omic] = bottom_fts\n",
    "    rpca_traj[omic] = beta_l\n",
    "\n",
    "#find top features from joint-RPCA results\n",
    "joint_rpca_top_fts = {}\n",
    "joint_rpca_bottom_fts = {}\n",
    "joint_rpca_traj = {}\n",
    "\n",
    "for omic in tables.keys():\n",
    "    table_ = tables[omic]\n",
    "    \n",
    "    if omic == '18S':\n",
    "        ord_ = joint_features.loc[in_ord_18S]\n",
    "    else:\n",
    "        ord_ = joint_features.loc[table_.ids(axis='observation')]\n",
    "\n",
    "    top_fts, bottom_fts, beta_l, _, _ = get_top_features(table_, ord_, component=pc_to_use,\n",
    "                                                         quantile=quantile, pseudocount=0)\n",
    "    joint_rpca_top_fts[omic] = top_fts\n",
    "    joint_rpca_bottom_fts[omic] = bottom_fts\n",
    "    joint_rpca_traj[omic] = beta_l"
   ]
  },
  {
   "cell_type": "code",
   "execution_count": 51,
   "metadata": {},
   "outputs": [
    {
     "name": "stdout",
     "output_type": "stream",
     "text": [
      "Optimizing hyperparameters for 18S_RPCA, traintest_0...\n"
     ]
    },
    {
     "name": "stdout",
     "output_type": "stream",
     "text": [
      "Best parameters found: {'bootstrap': False, 'max_depth': 10, 'min_samples_leaf': 2, 'min_samples_split': 2, 'n_estimators': 100}\n",
      "Best cross-validation accuracy: 0.6087585034013606\n",
      "Optimizing hyperparameters for 18S_RPCA, traintest_1...\n"
     ]
    },
    {
     "name": "stderr",
     "output_type": "stream",
     "text": [
      "/Users/biacordazzo/opt/anaconda3/envs/qiime2-amplicon-2024.5/lib/python3.9/site-packages/sklearn/base.py:486: UserWarning: X has feature names, but RandomForestClassifier was fitted without feature names\n",
      "  warnings.warn(\n"
     ]
    },
    {
     "name": "stdout",
     "output_type": "stream",
     "text": [
      "Best parameters found: {'bootstrap': False, 'max_depth': 10, 'min_samples_leaf': 2, 'min_samples_split': 10, 'n_estimators': 100}\n",
      "Best cross-validation accuracy: 0.6193262411347519\n",
      "Optimizing hyperparameters for 18S_RPCA, traintest_2...\n"
     ]
    },
    {
     "name": "stderr",
     "output_type": "stream",
     "text": [
      "/Users/biacordazzo/opt/anaconda3/envs/qiime2-amplicon-2024.5/lib/python3.9/site-packages/sklearn/base.py:486: UserWarning: X has feature names, but RandomForestClassifier was fitted without feature names\n",
      "  warnings.warn(\n"
     ]
    },
    {
     "name": "stdout",
     "output_type": "stream",
     "text": [
      "Best parameters found: {'bootstrap': True, 'max_depth': None, 'min_samples_leaf': 2, 'min_samples_split': 10, 'n_estimators': 200}\n",
      "Best cross-validation accuracy: 0.6264489795918367\n",
      "Optimizing hyperparameters for 18S_RPCA, traintest_3...\n"
     ]
    },
    {
     "name": "stderr",
     "output_type": "stream",
     "text": [
      "/Users/biacordazzo/opt/anaconda3/envs/qiime2-amplicon-2024.5/lib/python3.9/site-packages/sklearn/base.py:486: UserWarning: X has feature names, but RandomForestClassifier was fitted without feature names\n",
      "  warnings.warn(\n"
     ]
    },
    {
     "name": "stdout",
     "output_type": "stream",
     "text": [
      "Best parameters found: {'bootstrap': False, 'max_depth': None, 'min_samples_leaf': 2, 'min_samples_split': 5, 'n_estimators': 100}\n",
      "Best cross-validation accuracy: 0.6177721088435375\n",
      "Optimizing hyperparameters for 18S_RPCA, traintest_4...\n"
     ]
    },
    {
     "name": "stderr",
     "output_type": "stream",
     "text": [
      "/Users/biacordazzo/opt/anaconda3/envs/qiime2-amplicon-2024.5/lib/python3.9/site-packages/sklearn/base.py:486: UserWarning: X has feature names, but RandomForestClassifier was fitted without feature names\n",
      "  warnings.warn(\n"
     ]
    },
    {
     "name": "stdout",
     "output_type": "stream",
     "text": [
      "Best parameters found: {'bootstrap': False, 'max_depth': 10, 'min_samples_leaf': 1, 'min_samples_split': 10, 'n_estimators': 100}\n",
      "Best cross-validation accuracy: 0.6065476190476191\n",
      "Optimizing hyperparameters for 18S_RPCA, traintest_5...\n"
     ]
    },
    {
     "name": "stderr",
     "output_type": "stream",
     "text": [
      "/Users/biacordazzo/opt/anaconda3/envs/qiime2-amplicon-2024.5/lib/python3.9/site-packages/sklearn/base.py:486: UserWarning: X has feature names, but RandomForestClassifier was fitted without feature names\n",
      "  warnings.warn(\n"
     ]
    },
    {
     "name": "stdout",
     "output_type": "stream",
     "text": [
      "Best parameters found: {'bootstrap': True, 'max_depth': 10, 'min_samples_leaf': 1, 'min_samples_split': 10, 'n_estimators': 100}\n",
      "Best cross-validation accuracy: 0.6251700680272109\n",
      "Optimizing hyperparameters for 18S_RPCA, traintest_6...\n"
     ]
    },
    {
     "name": "stderr",
     "output_type": "stream",
     "text": [
      "/Users/biacordazzo/opt/anaconda3/envs/qiime2-amplicon-2024.5/lib/python3.9/site-packages/sklearn/base.py:486: UserWarning: X has feature names, but RandomForestClassifier was fitted without feature names\n",
      "  warnings.warn(\n"
     ]
    },
    {
     "name": "stdout",
     "output_type": "stream",
     "text": [
      "Best parameters found: {'bootstrap': False, 'max_depth': None, 'min_samples_leaf': 2, 'min_samples_split': 2, 'n_estimators': 100}\n",
      "Best cross-validation accuracy: 0.5638605442176872\n",
      "Optimizing hyperparameters for 18S_RPCA, traintest_7...\n"
     ]
    },
    {
     "name": "stderr",
     "output_type": "stream",
     "text": [
      "/Users/biacordazzo/opt/anaconda3/envs/qiime2-amplicon-2024.5/lib/python3.9/site-packages/sklearn/base.py:486: UserWarning: X has feature names, but RandomForestClassifier was fitted without feature names\n",
      "  warnings.warn(\n"
     ]
    },
    {
     "name": "stdout",
     "output_type": "stream",
     "text": [
      "Best parameters found: {'bootstrap': True, 'max_depth': 10, 'min_samples_leaf': 4, 'min_samples_split': 10, 'n_estimators': 300}\n",
      "Best cross-validation accuracy: 0.6\n",
      "Optimizing hyperparameters for 18S_RPCA, traintest_8...\n"
     ]
    },
    {
     "name": "stderr",
     "output_type": "stream",
     "text": [
      "/Users/biacordazzo/opt/anaconda3/envs/qiime2-amplicon-2024.5/lib/python3.9/site-packages/sklearn/base.py:486: UserWarning: X has feature names, but RandomForestClassifier was fitted without feature names\n",
      "  warnings.warn(\n"
     ]
    },
    {
     "name": "stdout",
     "output_type": "stream",
     "text": [
      "Best parameters found: {'bootstrap': False, 'max_depth': 10, 'min_samples_leaf': 1, 'min_samples_split': 10, 'n_estimators': 100}\n",
      "Best cross-validation accuracy: 0.5819727891156463\n",
      "Optimizing hyperparameters for 18S_RPCA, traintest_9...\n"
     ]
    },
    {
     "name": "stderr",
     "output_type": "stream",
     "text": [
      "/Users/biacordazzo/opt/anaconda3/envs/qiime2-amplicon-2024.5/lib/python3.9/site-packages/sklearn/base.py:486: UserWarning: X has feature names, but RandomForestClassifier was fitted without feature names\n",
      "  warnings.warn(\n"
     ]
    },
    {
     "name": "stdout",
     "output_type": "stream",
     "text": [
      "Best parameters found: {'bootstrap': False, 'max_depth': 10, 'min_samples_leaf': 1, 'min_samples_split': 10, 'n_estimators': 100}\n",
      "Best cross-validation accuracy: 0.5870748299319727\n",
      "Optimizing hyperparameters for MAG_RPCA, traintest_0...\n"
     ]
    },
    {
     "name": "stderr",
     "output_type": "stream",
     "text": [
      "/Users/biacordazzo/opt/anaconda3/envs/qiime2-amplicon-2024.5/lib/python3.9/site-packages/sklearn/base.py:486: UserWarning: X has feature names, but RandomForestClassifier was fitted without feature names\n",
      "  warnings.warn(\n"
     ]
    },
    {
     "name": "stdout",
     "output_type": "stream",
     "text": [
      "Best parameters found: {'bootstrap': True, 'max_depth': None, 'min_samples_leaf': 1, 'min_samples_split': 10, 'n_estimators': 200}\n",
      "Best cross-validation accuracy: 0.5964285714285714\n",
      "Optimizing hyperparameters for MAG_RPCA, traintest_1...\n"
     ]
    },
    {
     "name": "stderr",
     "output_type": "stream",
     "text": [
      "/Users/biacordazzo/opt/anaconda3/envs/qiime2-amplicon-2024.5/lib/python3.9/site-packages/sklearn/base.py:486: UserWarning: X has feature names, but RandomForestClassifier was fitted without feature names\n",
      "  warnings.warn(\n"
     ]
    },
    {
     "name": "stdout",
     "output_type": "stream",
     "text": [
      "Best parameters found: {'bootstrap': False, 'max_depth': 20, 'min_samples_leaf': 2, 'min_samples_split': 5, 'n_estimators': 100}\n",
      "Best cross-validation accuracy: 0.6071428571428571\n",
      "Optimizing hyperparameters for MAG_RPCA, traintest_2...\n"
     ]
    },
    {
     "name": "stderr",
     "output_type": "stream",
     "text": [
      "/Users/biacordazzo/opt/anaconda3/envs/qiime2-amplicon-2024.5/lib/python3.9/site-packages/sklearn/base.py:486: UserWarning: X has feature names, but RandomForestClassifier was fitted without feature names\n",
      "  warnings.warn(\n"
     ]
    },
    {
     "name": "stdout",
     "output_type": "stream",
     "text": [
      "Best parameters found: {'bootstrap': False, 'max_depth': 10, 'min_samples_leaf': 1, 'min_samples_split': 10, 'n_estimators': 100}\n",
      "Best cross-validation accuracy: 0.5642857142857143\n",
      "Optimizing hyperparameters for MAG_RPCA, traintest_3...\n"
     ]
    },
    {
     "name": "stderr",
     "output_type": "stream",
     "text": [
      "/Users/biacordazzo/opt/anaconda3/envs/qiime2-amplicon-2024.5/lib/python3.9/site-packages/sklearn/base.py:486: UserWarning: X has feature names, but RandomForestClassifier was fitted without feature names\n",
      "  warnings.warn(\n"
     ]
    },
    {
     "name": "stdout",
     "output_type": "stream",
     "text": [
      "Best parameters found: {'bootstrap': True, 'max_depth': None, 'min_samples_leaf': 4, 'min_samples_split': 10, 'n_estimators': 300}\n",
      "Best cross-validation accuracy: 0.625\n",
      "Optimizing hyperparameters for MAG_RPCA, traintest_4...\n"
     ]
    },
    {
     "name": "stderr",
     "output_type": "stream",
     "text": [
      "/Users/biacordazzo/opt/anaconda3/envs/qiime2-amplicon-2024.5/lib/python3.9/site-packages/sklearn/base.py:486: UserWarning: X has feature names, but RandomForestClassifier was fitted without feature names\n",
      "  warnings.warn(\n"
     ]
    },
    {
     "name": "stdout",
     "output_type": "stream",
     "text": [
      "Best parameters found: {'bootstrap': False, 'max_depth': None, 'min_samples_leaf': 4, 'min_samples_split': 2, 'n_estimators': 100}\n",
      "Best cross-validation accuracy: 0.6464285714285715\n",
      "Optimizing hyperparameters for MAG_RPCA, traintest_5...\n"
     ]
    },
    {
     "name": "stderr",
     "output_type": "stream",
     "text": [
      "/Users/biacordazzo/opt/anaconda3/envs/qiime2-amplicon-2024.5/lib/python3.9/site-packages/sklearn/base.py:486: UserWarning: X has feature names, but RandomForestClassifier was fitted without feature names\n",
      "  warnings.warn(\n"
     ]
    },
    {
     "name": "stdout",
     "output_type": "stream",
     "text": [
      "Best parameters found: {'bootstrap': False, 'max_depth': None, 'min_samples_leaf': 2, 'min_samples_split': 10, 'n_estimators': 100}\n",
      "Best cross-validation accuracy: 0.6285714285714286\n",
      "Optimizing hyperparameters for MAG_RPCA, traintest_6...\n"
     ]
    },
    {
     "name": "stderr",
     "output_type": "stream",
     "text": [
      "/Users/biacordazzo/opt/anaconda3/envs/qiime2-amplicon-2024.5/lib/python3.9/site-packages/sklearn/base.py:486: UserWarning: X has feature names, but RandomForestClassifier was fitted without feature names\n",
      "  warnings.warn(\n"
     ]
    },
    {
     "name": "stdout",
     "output_type": "stream",
     "text": [
      "Best parameters found: {'bootstrap': True, 'max_depth': 10, 'min_samples_leaf': 4, 'min_samples_split': 10, 'n_estimators': 100}\n",
      "Best cross-validation accuracy: 0.6178571428571429\n",
      "Optimizing hyperparameters for MAG_RPCA, traintest_7...\n"
     ]
    },
    {
     "name": "stderr",
     "output_type": "stream",
     "text": [
      "/Users/biacordazzo/opt/anaconda3/envs/qiime2-amplicon-2024.5/lib/python3.9/site-packages/sklearn/base.py:486: UserWarning: X has feature names, but RandomForestClassifier was fitted without feature names\n",
      "  warnings.warn(\n"
     ]
    },
    {
     "name": "stdout",
     "output_type": "stream",
     "text": [
      "Best parameters found: {'bootstrap': True, 'max_depth': None, 'min_samples_leaf': 1, 'min_samples_split': 10, 'n_estimators': 300}\n",
      "Best cross-validation accuracy: 0.5928571428571429\n",
      "Optimizing hyperparameters for MAG_RPCA, traintest_8...\n"
     ]
    },
    {
     "name": "stderr",
     "output_type": "stream",
     "text": [
      "/Users/biacordazzo/opt/anaconda3/envs/qiime2-amplicon-2024.5/lib/python3.9/site-packages/sklearn/base.py:486: UserWarning: X has feature names, but RandomForestClassifier was fitted without feature names\n",
      "  warnings.warn(\n"
     ]
    },
    {
     "name": "stdout",
     "output_type": "stream",
     "text": [
      "Best parameters found: {'bootstrap': False, 'max_depth': 10, 'min_samples_leaf': 1, 'min_samples_split': 2, 'n_estimators': 100}\n",
      "Best cross-validation accuracy: 0.6321428571428571\n",
      "Optimizing hyperparameters for MAG_RPCA, traintest_9...\n"
     ]
    },
    {
     "name": "stderr",
     "output_type": "stream",
     "text": [
      "/Users/biacordazzo/opt/anaconda3/envs/qiime2-amplicon-2024.5/lib/python3.9/site-packages/sklearn/base.py:486: UserWarning: X has feature names, but RandomForestClassifier was fitted without feature names\n",
      "  warnings.warn(\n"
     ]
    },
    {
     "name": "stdout",
     "output_type": "stream",
     "text": [
      "Best parameters found: {'bootstrap': True, 'max_depth': None, 'min_samples_leaf': 4, 'min_samples_split': 2, 'n_estimators': 300}\n",
      "Best cross-validation accuracy: 0.6214285714285714\n",
      "Optimizing hyperparameters for Gene_RPCA, traintest_0...\n"
     ]
    },
    {
     "name": "stderr",
     "output_type": "stream",
     "text": [
      "/Users/biacordazzo/opt/anaconda3/envs/qiime2-amplicon-2024.5/lib/python3.9/site-packages/sklearn/base.py:486: UserWarning: X has feature names, but RandomForestClassifier was fitted without feature names\n",
      "  warnings.warn(\n"
     ]
    },
    {
     "name": "stdout",
     "output_type": "stream",
     "text": [
      "Best parameters found: {'bootstrap': True, 'max_depth': None, 'min_samples_leaf': 2, 'min_samples_split': 2, 'n_estimators': 100}\n",
      "Best cross-validation accuracy: 0.7821428571428573\n",
      "Optimizing hyperparameters for Gene_RPCA, traintest_1...\n"
     ]
    },
    {
     "name": "stderr",
     "output_type": "stream",
     "text": [
      "/Users/biacordazzo/opt/anaconda3/envs/qiime2-amplicon-2024.5/lib/python3.9/site-packages/sklearn/base.py:486: UserWarning: X has feature names, but RandomForestClassifier was fitted without feature names\n",
      "  warnings.warn(\n"
     ]
    },
    {
     "name": "stdout",
     "output_type": "stream",
     "text": [
      "Best parameters found: {'bootstrap': False, 'max_depth': None, 'min_samples_leaf': 4, 'min_samples_split': 2, 'n_estimators': 100}\n",
      "Best cross-validation accuracy: 0.7892857142857143\n",
      "Optimizing hyperparameters for Gene_RPCA, traintest_2...\n"
     ]
    },
    {
     "name": "stderr",
     "output_type": "stream",
     "text": [
      "/Users/biacordazzo/opt/anaconda3/envs/qiime2-amplicon-2024.5/lib/python3.9/site-packages/sklearn/base.py:486: UserWarning: X has feature names, but RandomForestClassifier was fitted without feature names\n",
      "  warnings.warn(\n"
     ]
    },
    {
     "name": "stdout",
     "output_type": "stream",
     "text": [
      "Best parameters found: {'bootstrap': False, 'max_depth': None, 'min_samples_leaf': 4, 'min_samples_split': 2, 'n_estimators': 100}\n",
      "Best cross-validation accuracy: 0.7642857142857142\n",
      "Optimizing hyperparameters for Gene_RPCA, traintest_3...\n"
     ]
    },
    {
     "name": "stderr",
     "output_type": "stream",
     "text": [
      "/Users/biacordazzo/opt/anaconda3/envs/qiime2-amplicon-2024.5/lib/python3.9/site-packages/sklearn/base.py:486: UserWarning: X has feature names, but RandomForestClassifier was fitted without feature names\n",
      "  warnings.warn(\n"
     ]
    },
    {
     "name": "stdout",
     "output_type": "stream",
     "text": [
      "Best parameters found: {'bootstrap': True, 'max_depth': None, 'min_samples_leaf': 2, 'min_samples_split': 2, 'n_estimators': 100}\n",
      "Best cross-validation accuracy: 0.7642857142857143\n",
      "Optimizing hyperparameters for Gene_RPCA, traintest_4...\n"
     ]
    },
    {
     "name": "stderr",
     "output_type": "stream",
     "text": [
      "/Users/biacordazzo/opt/anaconda3/envs/qiime2-amplicon-2024.5/lib/python3.9/site-packages/sklearn/base.py:486: UserWarning: X has feature names, but RandomForestClassifier was fitted without feature names\n",
      "  warnings.warn(\n"
     ]
    },
    {
     "name": "stdout",
     "output_type": "stream",
     "text": [
      "Best parameters found: {'bootstrap': True, 'max_depth': None, 'min_samples_leaf': 2, 'min_samples_split': 10, 'n_estimators': 100}\n",
      "Best cross-validation accuracy: 0.7892857142857143\n",
      "Optimizing hyperparameters for Gene_RPCA, traintest_5...\n"
     ]
    },
    {
     "name": "stderr",
     "output_type": "stream",
     "text": [
      "/Users/biacordazzo/opt/anaconda3/envs/qiime2-amplicon-2024.5/lib/python3.9/site-packages/sklearn/base.py:486: UserWarning: X has feature names, but RandomForestClassifier was fitted without feature names\n",
      "  warnings.warn(\n"
     ]
    },
    {
     "name": "stdout",
     "output_type": "stream",
     "text": [
      "Best parameters found: {'bootstrap': True, 'max_depth': None, 'min_samples_leaf': 2, 'min_samples_split': 10, 'n_estimators': 100}\n",
      "Best cross-validation accuracy: 0.7535714285714287\n",
      "Optimizing hyperparameters for Gene_RPCA, traintest_6...\n"
     ]
    },
    {
     "name": "stderr",
     "output_type": "stream",
     "text": [
      "/Users/biacordazzo/opt/anaconda3/envs/qiime2-amplicon-2024.5/lib/python3.9/site-packages/sklearn/base.py:486: UserWarning: X has feature names, but RandomForestClassifier was fitted without feature names\n",
      "  warnings.warn(\n"
     ]
    },
    {
     "name": "stdout",
     "output_type": "stream",
     "text": [
      "Best parameters found: {'bootstrap': True, 'max_depth': None, 'min_samples_leaf': 2, 'min_samples_split': 2, 'n_estimators': 100}\n",
      "Best cross-validation accuracy: 0.7714285714285714\n",
      "Optimizing hyperparameters for Gene_RPCA, traintest_7...\n"
     ]
    },
    {
     "name": "stderr",
     "output_type": "stream",
     "text": [
      "/Users/biacordazzo/opt/anaconda3/envs/qiime2-amplicon-2024.5/lib/python3.9/site-packages/sklearn/base.py:486: UserWarning: X has feature names, but RandomForestClassifier was fitted without feature names\n",
      "  warnings.warn(\n"
     ]
    },
    {
     "name": "stdout",
     "output_type": "stream",
     "text": [
      "Best parameters found: {'bootstrap': False, 'max_depth': None, 'min_samples_leaf': 4, 'min_samples_split': 10, 'n_estimators': 100}\n",
      "Best cross-validation accuracy: 0.7785714285714286\n",
      "Optimizing hyperparameters for Gene_RPCA, traintest_8...\n"
     ]
    },
    {
     "name": "stderr",
     "output_type": "stream",
     "text": [
      "/Users/biacordazzo/opt/anaconda3/envs/qiime2-amplicon-2024.5/lib/python3.9/site-packages/sklearn/base.py:486: UserWarning: X has feature names, but RandomForestClassifier was fitted without feature names\n",
      "  warnings.warn(\n"
     ]
    },
    {
     "name": "stdout",
     "output_type": "stream",
     "text": [
      "Best parameters found: {'bootstrap': False, 'max_depth': None, 'min_samples_leaf': 4, 'min_samples_split': 2, 'n_estimators': 100}\n",
      "Best cross-validation accuracy: 0.7857142857142857\n",
      "Optimizing hyperparameters for Gene_RPCA, traintest_9...\n"
     ]
    },
    {
     "name": "stderr",
     "output_type": "stream",
     "text": [
      "/Users/biacordazzo/opt/anaconda3/envs/qiime2-amplicon-2024.5/lib/python3.9/site-packages/sklearn/base.py:486: UserWarning: X has feature names, but RandomForestClassifier was fitted without feature names\n",
      "  warnings.warn(\n"
     ]
    },
    {
     "name": "stdout",
     "output_type": "stream",
     "text": [
      "Best parameters found: {'bootstrap': False, 'max_depth': None, 'min_samples_leaf': 4, 'min_samples_split': 10, 'n_estimators': 100}\n",
      "Best cross-validation accuracy: 0.7678571428571428\n",
      "Optimizing hyperparameters for Gene_Module_RPCA, traintest_0...\n"
     ]
    },
    {
     "name": "stderr",
     "output_type": "stream",
     "text": [
      "/Users/biacordazzo/opt/anaconda3/envs/qiime2-amplicon-2024.5/lib/python3.9/site-packages/sklearn/base.py:486: UserWarning: X has feature names, but RandomForestClassifier was fitted without feature names\n",
      "  warnings.warn(\n"
     ]
    },
    {
     "name": "stdout",
     "output_type": "stream",
     "text": [
      "Best parameters found: {'bootstrap': False, 'max_depth': 10, 'min_samples_leaf': 1, 'min_samples_split': 2, 'n_estimators': 100}\n",
      "Best cross-validation accuracy: 0.5964285714285714\n",
      "Optimizing hyperparameters for Gene_Module_RPCA, traintest_1...\n"
     ]
    },
    {
     "name": "stderr",
     "output_type": "stream",
     "text": [
      "/Users/biacordazzo/opt/anaconda3/envs/qiime2-amplicon-2024.5/lib/python3.9/site-packages/sklearn/base.py:486: UserWarning: X has feature names, but RandomForestClassifier was fitted without feature names\n",
      "  warnings.warn(\n"
     ]
    },
    {
     "name": "stdout",
     "output_type": "stream",
     "text": [
      "Best parameters found: {'bootstrap': False, 'max_depth': 10, 'min_samples_leaf': 2, 'min_samples_split': 2, 'n_estimators': 100}\n",
      "Best cross-validation accuracy: 0.6035714285714285\n",
      "Optimizing hyperparameters for Gene_Module_RPCA, traintest_2...\n"
     ]
    },
    {
     "name": "stderr",
     "output_type": "stream",
     "text": [
      "/Users/biacordazzo/opt/anaconda3/envs/qiime2-amplicon-2024.5/lib/python3.9/site-packages/sklearn/base.py:486: UserWarning: X has feature names, but RandomForestClassifier was fitted without feature names\n",
      "  warnings.warn(\n"
     ]
    },
    {
     "name": "stdout",
     "output_type": "stream",
     "text": [
      "Best parameters found: {'bootstrap': True, 'max_depth': 10, 'min_samples_leaf': 4, 'min_samples_split': 10, 'n_estimators': 100}\n",
      "Best cross-validation accuracy: 0.6214285714285714\n",
      "Optimizing hyperparameters for Gene_Module_RPCA, traintest_3...\n"
     ]
    },
    {
     "name": "stderr",
     "output_type": "stream",
     "text": [
      "/Users/biacordazzo/opt/anaconda3/envs/qiime2-amplicon-2024.5/lib/python3.9/site-packages/sklearn/base.py:486: UserWarning: X has feature names, but RandomForestClassifier was fitted without feature names\n",
      "  warnings.warn(\n"
     ]
    },
    {
     "name": "stdout",
     "output_type": "stream",
     "text": [
      "Best parameters found: {'bootstrap': True, 'max_depth': 10, 'min_samples_leaf': 1, 'min_samples_split': 10, 'n_estimators': 300}\n",
      "Best cross-validation accuracy: 0.5892857142857142\n",
      "Optimizing hyperparameters for Gene_Module_RPCA, traintest_4...\n"
     ]
    },
    {
     "name": "stderr",
     "output_type": "stream",
     "text": [
      "/Users/biacordazzo/opt/anaconda3/envs/qiime2-amplicon-2024.5/lib/python3.9/site-packages/sklearn/base.py:486: UserWarning: X has feature names, but RandomForestClassifier was fitted without feature names\n",
      "  warnings.warn(\n"
     ]
    },
    {
     "name": "stdout",
     "output_type": "stream",
     "text": [
      "Best parameters found: {'bootstrap': True, 'max_depth': 10, 'min_samples_leaf': 1, 'min_samples_split': 10, 'n_estimators': 100}\n",
      "Best cross-validation accuracy: 0.6142857142857142\n",
      "Optimizing hyperparameters for Gene_Module_RPCA, traintest_5...\n"
     ]
    },
    {
     "name": "stderr",
     "output_type": "stream",
     "text": [
      "/Users/biacordazzo/opt/anaconda3/envs/qiime2-amplicon-2024.5/lib/python3.9/site-packages/sklearn/base.py:486: UserWarning: X has feature names, but RandomForestClassifier was fitted without feature names\n",
      "  warnings.warn(\n"
     ]
    },
    {
     "name": "stdout",
     "output_type": "stream",
     "text": [
      "Best parameters found: {'bootstrap': True, 'max_depth': 10, 'min_samples_leaf': 1, 'min_samples_split': 10, 'n_estimators': 200}\n",
      "Best cross-validation accuracy: 0.5607142857142857\n",
      "Optimizing hyperparameters for Gene_Module_RPCA, traintest_6...\n"
     ]
    },
    {
     "name": "stderr",
     "output_type": "stream",
     "text": [
      "/Users/biacordazzo/opt/anaconda3/envs/qiime2-amplicon-2024.5/lib/python3.9/site-packages/sklearn/base.py:486: UserWarning: X has feature names, but RandomForestClassifier was fitted without feature names\n",
      "  warnings.warn(\n"
     ]
    },
    {
     "name": "stdout",
     "output_type": "stream",
     "text": [
      "Best parameters found: {'bootstrap': False, 'max_depth': None, 'min_samples_leaf': 4, 'min_samples_split': 2, 'n_estimators': 100}\n",
      "Best cross-validation accuracy: 0.5892857142857143\n",
      "Optimizing hyperparameters for Gene_Module_RPCA, traintest_7...\n"
     ]
    },
    {
     "name": "stderr",
     "output_type": "stream",
     "text": [
      "/Users/biacordazzo/opt/anaconda3/envs/qiime2-amplicon-2024.5/lib/python3.9/site-packages/sklearn/base.py:486: UserWarning: X has feature names, but RandomForestClassifier was fitted without feature names\n",
      "  warnings.warn(\n"
     ]
    },
    {
     "name": "stdout",
     "output_type": "stream",
     "text": [
      "Best parameters found: {'bootstrap': True, 'max_depth': 20, 'min_samples_leaf': 1, 'min_samples_split': 10, 'n_estimators': 300}\n",
      "Best cross-validation accuracy: 0.6071428571428571\n",
      "Optimizing hyperparameters for Gene_Module_RPCA, traintest_8...\n"
     ]
    },
    {
     "name": "stderr",
     "output_type": "stream",
     "text": [
      "/Users/biacordazzo/opt/anaconda3/envs/qiime2-amplicon-2024.5/lib/python3.9/site-packages/sklearn/base.py:486: UserWarning: X has feature names, but RandomForestClassifier was fitted without feature names\n",
      "  warnings.warn(\n"
     ]
    },
    {
     "name": "stdout",
     "output_type": "stream",
     "text": [
      "Best parameters found: {'bootstrap': False, 'max_depth': 10, 'min_samples_leaf': 2, 'min_samples_split': 2, 'n_estimators': 100}\n",
      "Best cross-validation accuracy: 0.6321428571428571\n",
      "Optimizing hyperparameters for Gene_Module_RPCA, traintest_9...\n"
     ]
    },
    {
     "name": "stderr",
     "output_type": "stream",
     "text": [
      "/Users/biacordazzo/opt/anaconda3/envs/qiime2-amplicon-2024.5/lib/python3.9/site-packages/sklearn/base.py:486: UserWarning: X has feature names, but RandomForestClassifier was fitted without feature names\n",
      "  warnings.warn(\n"
     ]
    },
    {
     "name": "stdout",
     "output_type": "stream",
     "text": [
      "Best parameters found: {'bootstrap': True, 'max_depth': None, 'min_samples_leaf': 4, 'min_samples_split': 2, 'n_estimators': 300}\n",
      "Best cross-validation accuracy: 0.6107142857142858\n",
      "Optimizing hyperparameters for Metabolite_RPCA, traintest_0...\n"
     ]
    },
    {
     "name": "stderr",
     "output_type": "stream",
     "text": [
      "/Users/biacordazzo/opt/anaconda3/envs/qiime2-amplicon-2024.5/lib/python3.9/site-packages/sklearn/base.py:486: UserWarning: X has feature names, but RandomForestClassifier was fitted without feature names\n",
      "  warnings.warn(\n"
     ]
    },
    {
     "name": "stdout",
     "output_type": "stream",
     "text": [
      "Best parameters found: {'bootstrap': False, 'max_depth': 10, 'min_samples_leaf': 2, 'min_samples_split': 10, 'n_estimators': 100}\n",
      "Best cross-validation accuracy: 0.4892857142857143\n",
      "Optimizing hyperparameters for Metabolite_RPCA, traintest_1...\n"
     ]
    },
    {
     "name": "stderr",
     "output_type": "stream",
     "text": [
      "/Users/biacordazzo/opt/anaconda3/envs/qiime2-amplicon-2024.5/lib/python3.9/site-packages/sklearn/base.py:486: UserWarning: X has feature names, but RandomForestClassifier was fitted without feature names\n",
      "  warnings.warn(\n"
     ]
    },
    {
     "name": "stdout",
     "output_type": "stream",
     "text": [
      "Best parameters found: {'bootstrap': True, 'max_depth': None, 'min_samples_leaf': 4, 'min_samples_split': 2, 'n_estimators': 100}\n",
      "Best cross-validation accuracy: 0.46071428571428574\n",
      "Optimizing hyperparameters for Metabolite_RPCA, traintest_2...\n"
     ]
    },
    {
     "name": "stderr",
     "output_type": "stream",
     "text": [
      "/Users/biacordazzo/opt/anaconda3/envs/qiime2-amplicon-2024.5/lib/python3.9/site-packages/sklearn/base.py:486: UserWarning: X has feature names, but RandomForestClassifier was fitted without feature names\n",
      "  warnings.warn(\n"
     ]
    },
    {
     "name": "stdout",
     "output_type": "stream",
     "text": [
      "Best parameters found: {'bootstrap': True, 'max_depth': 10, 'min_samples_leaf': 4, 'min_samples_split': 2, 'n_estimators': 200}\n",
      "Best cross-validation accuracy: 0.49642857142857155\n",
      "Optimizing hyperparameters for Metabolite_RPCA, traintest_3...\n"
     ]
    },
    {
     "name": "stderr",
     "output_type": "stream",
     "text": [
      "/Users/biacordazzo/opt/anaconda3/envs/qiime2-amplicon-2024.5/lib/python3.9/site-packages/sklearn/base.py:486: UserWarning: X has feature names, but RandomForestClassifier was fitted without feature names\n",
      "  warnings.warn(\n"
     ]
    },
    {
     "name": "stdout",
     "output_type": "stream",
     "text": [
      "Best parameters found: {'bootstrap': True, 'max_depth': None, 'min_samples_leaf': 4, 'min_samples_split': 10, 'n_estimators': 300}\n",
      "Best cross-validation accuracy: 0.4642857142857143\n",
      "Optimizing hyperparameters for Metabolite_RPCA, traintest_4...\n"
     ]
    },
    {
     "name": "stderr",
     "output_type": "stream",
     "text": [
      "/Users/biacordazzo/opt/anaconda3/envs/qiime2-amplicon-2024.5/lib/python3.9/site-packages/sklearn/base.py:486: UserWarning: X has feature names, but RandomForestClassifier was fitted without feature names\n",
      "  warnings.warn(\n"
     ]
    },
    {
     "name": "stdout",
     "output_type": "stream",
     "text": [
      "Best parameters found: {'bootstrap': False, 'max_depth': None, 'min_samples_leaf': 1, 'min_samples_split': 10, 'n_estimators': 100}\n",
      "Best cross-validation accuracy: 0.4714285714285714\n",
      "Optimizing hyperparameters for Metabolite_RPCA, traintest_5...\n"
     ]
    },
    {
     "name": "stderr",
     "output_type": "stream",
     "text": [
      "/Users/biacordazzo/opt/anaconda3/envs/qiime2-amplicon-2024.5/lib/python3.9/site-packages/sklearn/base.py:486: UserWarning: X has feature names, but RandomForestClassifier was fitted without feature names\n",
      "  warnings.warn(\n"
     ]
    },
    {
     "name": "stdout",
     "output_type": "stream",
     "text": [
      "Best parameters found: {'bootstrap': False, 'max_depth': 10, 'min_samples_leaf': 4, 'min_samples_split': 10, 'n_estimators': 100}\n",
      "Best cross-validation accuracy: 0.45714285714285713\n",
      "Optimizing hyperparameters for Metabolite_RPCA, traintest_6...\n"
     ]
    },
    {
     "name": "stderr",
     "output_type": "stream",
     "text": [
      "/Users/biacordazzo/opt/anaconda3/envs/qiime2-amplicon-2024.5/lib/python3.9/site-packages/sklearn/base.py:486: UserWarning: X has feature names, but RandomForestClassifier was fitted without feature names\n",
      "  warnings.warn(\n"
     ]
    },
    {
     "name": "stdout",
     "output_type": "stream",
     "text": [
      "Best parameters found: {'bootstrap': True, 'max_depth': 10, 'min_samples_leaf': 1, 'min_samples_split': 10, 'n_estimators': 200}\n",
      "Best cross-validation accuracy: 0.4928571428571429\n",
      "Optimizing hyperparameters for Metabolite_RPCA, traintest_7...\n"
     ]
    },
    {
     "name": "stderr",
     "output_type": "stream",
     "text": [
      "/Users/biacordazzo/opt/anaconda3/envs/qiime2-amplicon-2024.5/lib/python3.9/site-packages/sklearn/base.py:486: UserWarning: X has feature names, but RandomForestClassifier was fitted without feature names\n",
      "  warnings.warn(\n"
     ]
    },
    {
     "name": "stdout",
     "output_type": "stream",
     "text": [
      "Best parameters found: {'bootstrap': True, 'max_depth': None, 'min_samples_leaf': 4, 'min_samples_split': 10, 'n_estimators': 300}\n",
      "Best cross-validation accuracy: 0.5071428571428572\n",
      "Optimizing hyperparameters for Metabolite_RPCA, traintest_8...\n"
     ]
    },
    {
     "name": "stderr",
     "output_type": "stream",
     "text": [
      "/Users/biacordazzo/opt/anaconda3/envs/qiime2-amplicon-2024.5/lib/python3.9/site-packages/sklearn/base.py:486: UserWarning: X has feature names, but RandomForestClassifier was fitted without feature names\n",
      "  warnings.warn(\n"
     ]
    },
    {
     "name": "stdout",
     "output_type": "stream",
     "text": [
      "Best parameters found: {'bootstrap': True, 'max_depth': None, 'min_samples_leaf': 1, 'min_samples_split': 10, 'n_estimators': 100}\n",
      "Best cross-validation accuracy: 0.46785714285714286\n",
      "Optimizing hyperparameters for Metabolite_RPCA, traintest_9...\n"
     ]
    },
    {
     "name": "stderr",
     "output_type": "stream",
     "text": [
      "/Users/biacordazzo/opt/anaconda3/envs/qiime2-amplicon-2024.5/lib/python3.9/site-packages/sklearn/base.py:486: UserWarning: X has feature names, but RandomForestClassifier was fitted without feature names\n",
      "  warnings.warn(\n"
     ]
    },
    {
     "name": "stdout",
     "output_type": "stream",
     "text": [
      "Best parameters found: {'bootstrap': False, 'max_depth': 10, 'min_samples_leaf': 2, 'min_samples_split': 2, 'n_estimators': 100}\n",
      "Best cross-validation accuracy: 0.4892857142857142\n",
      "Optimizing hyperparameters for 18S_Joint-RPCA, traintest_0...\n"
     ]
    },
    {
     "name": "stderr",
     "output_type": "stream",
     "text": [
      "/Users/biacordazzo/opt/anaconda3/envs/qiime2-amplicon-2024.5/lib/python3.9/site-packages/sklearn/base.py:486: UserWarning: X has feature names, but RandomForestClassifier was fitted without feature names\n",
      "  warnings.warn(\n"
     ]
    },
    {
     "name": "stdout",
     "output_type": "stream",
     "text": [
      "Best parameters found: {'bootstrap': True, 'max_depth': None, 'min_samples_leaf': 2, 'min_samples_split': 10, 'n_estimators': 200}\n",
      "Best cross-validation accuracy: 0.6916666666666667\n",
      "Optimizing hyperparameters for 18S_Joint-RPCA, traintest_1...\n"
     ]
    },
    {
     "name": "stderr",
     "output_type": "stream",
     "text": [
      "/Users/biacordazzo/opt/anaconda3/envs/qiime2-amplicon-2024.5/lib/python3.9/site-packages/sklearn/base.py:486: UserWarning: X has feature names, but RandomForestClassifier was fitted without feature names\n",
      "  warnings.warn(\n"
     ]
    },
    {
     "name": "stdout",
     "output_type": "stream",
     "text": [
      "Best parameters found: {'bootstrap': False, 'max_depth': None, 'min_samples_leaf': 4, 'min_samples_split': 10, 'n_estimators': 100}\n",
      "Best cross-validation accuracy: 0.6289965986394558\n",
      "Optimizing hyperparameters for 18S_Joint-RPCA, traintest_2...\n"
     ]
    },
    {
     "name": "stderr",
     "output_type": "stream",
     "text": [
      "/Users/biacordazzo/opt/anaconda3/envs/qiime2-amplicon-2024.5/lib/python3.9/site-packages/sklearn/base.py:486: UserWarning: X has feature names, but RandomForestClassifier was fitted without feature names\n",
      "  warnings.warn(\n"
     ]
    },
    {
     "name": "stdout",
     "output_type": "stream",
     "text": [
      "Best parameters found: {'bootstrap': True, 'max_depth': None, 'min_samples_leaf': 4, 'min_samples_split': 2, 'n_estimators': 100}\n",
      "Best cross-validation accuracy: 0.6791836734693877\n",
      "Optimizing hyperparameters for 18S_Joint-RPCA, traintest_3...\n"
     ]
    },
    {
     "name": "stderr",
     "output_type": "stream",
     "text": [
      "/Users/biacordazzo/opt/anaconda3/envs/qiime2-amplicon-2024.5/lib/python3.9/site-packages/sklearn/base.py:486: UserWarning: X has feature names, but RandomForestClassifier was fitted without feature names\n",
      "  warnings.warn(\n"
     ]
    },
    {
     "name": "stdout",
     "output_type": "stream",
     "text": [
      "Best parameters found: {'bootstrap': True, 'max_depth': None, 'min_samples_leaf': 4, 'min_samples_split': 10, 'n_estimators': 200}\n",
      "Best cross-validation accuracy: 0.6427721088435374\n",
      "Optimizing hyperparameters for 18S_Joint-RPCA, traintest_4...\n"
     ]
    },
    {
     "name": "stderr",
     "output_type": "stream",
     "text": [
      "/Users/biacordazzo/opt/anaconda3/envs/qiime2-amplicon-2024.5/lib/python3.9/site-packages/sklearn/base.py:486: UserWarning: X has feature names, but RandomForestClassifier was fitted without feature names\n",
      "  warnings.warn(\n"
     ]
    },
    {
     "name": "stdout",
     "output_type": "stream",
     "text": [
      "Best parameters found: {'bootstrap': True, 'max_depth': None, 'min_samples_leaf': 4, 'min_samples_split': 2, 'n_estimators': 100}\n",
      "Best cross-validation accuracy: 0.6326530612244897\n",
      "Optimizing hyperparameters for 18S_Joint-RPCA, traintest_5...\n"
     ]
    },
    {
     "name": "stderr",
     "output_type": "stream",
     "text": [
      "/Users/biacordazzo/opt/anaconda3/envs/qiime2-amplicon-2024.5/lib/python3.9/site-packages/sklearn/base.py:486: UserWarning: X has feature names, but RandomForestClassifier was fitted without feature names\n",
      "  warnings.warn(\n"
     ]
    },
    {
     "name": "stdout",
     "output_type": "stream",
     "text": [
      "Best parameters found: {'bootstrap': True, 'max_depth': None, 'min_samples_leaf': 4, 'min_samples_split': 10, 'n_estimators': 100}\n",
      "Best cross-validation accuracy: 0.6869897959183674\n",
      "Optimizing hyperparameters for 18S_Joint-RPCA, traintest_6...\n"
     ]
    },
    {
     "name": "stderr",
     "output_type": "stream",
     "text": [
      "/Users/biacordazzo/opt/anaconda3/envs/qiime2-amplicon-2024.5/lib/python3.9/site-packages/sklearn/base.py:486: UserWarning: X has feature names, but RandomForestClassifier was fitted without feature names\n",
      "  warnings.warn(\n"
     ]
    },
    {
     "name": "stdout",
     "output_type": "stream",
     "text": [
      "Best parameters found: {'bootstrap': True, 'max_depth': None, 'min_samples_leaf': 4, 'min_samples_split': 10, 'n_estimators': 100}\n",
      "Best cross-validation accuracy: 0.6704489795918367\n",
      "Optimizing hyperparameters for 18S_Joint-RPCA, traintest_7...\n"
     ]
    },
    {
     "name": "stderr",
     "output_type": "stream",
     "text": [
      "/Users/biacordazzo/opt/anaconda3/envs/qiime2-amplicon-2024.5/lib/python3.9/site-packages/sklearn/base.py:486: UserWarning: X has feature names, but RandomForestClassifier was fitted without feature names\n",
      "  warnings.warn(\n"
     ]
    },
    {
     "name": "stdout",
     "output_type": "stream",
     "text": [
      "Best parameters found: {'bootstrap': True, 'max_depth': None, 'min_samples_leaf': 1, 'min_samples_split': 10, 'n_estimators': 300}\n",
      "Best cross-validation accuracy: 0.6389455782312925\n",
      "Optimizing hyperparameters for 18S_Joint-RPCA, traintest_8...\n"
     ]
    },
    {
     "name": "stderr",
     "output_type": "stream",
     "text": [
      "/Users/biacordazzo/opt/anaconda3/envs/qiime2-amplicon-2024.5/lib/python3.9/site-packages/sklearn/base.py:486: UserWarning: X has feature names, but RandomForestClassifier was fitted without feature names\n",
      "  warnings.warn(\n"
     ]
    },
    {
     "name": "stdout",
     "output_type": "stream",
     "text": [
      "Best parameters found: {'bootstrap': True, 'max_depth': None, 'min_samples_leaf': 4, 'min_samples_split': 10, 'n_estimators': 200}\n",
      "Best cross-validation accuracy: 0.653061224489796\n",
      "Optimizing hyperparameters for 18S_Joint-RPCA, traintest_9...\n"
     ]
    },
    {
     "name": "stderr",
     "output_type": "stream",
     "text": [
      "/Users/biacordazzo/opt/anaconda3/envs/qiime2-amplicon-2024.5/lib/python3.9/site-packages/sklearn/base.py:486: UserWarning: X has feature names, but RandomForestClassifier was fitted without feature names\n",
      "  warnings.warn(\n"
     ]
    },
    {
     "name": "stdout",
     "output_type": "stream",
     "text": [
      "Best parameters found: {'bootstrap': True, 'max_depth': None, 'min_samples_leaf': 4, 'min_samples_split': 2, 'n_estimators': 100}\n",
      "Best cross-validation accuracy: 0.6304421768707483\n",
      "Optimizing hyperparameters for MAG_Joint-RPCA, traintest_0...\n"
     ]
    },
    {
     "name": "stderr",
     "output_type": "stream",
     "text": [
      "/Users/biacordazzo/opt/anaconda3/envs/qiime2-amplicon-2024.5/lib/python3.9/site-packages/sklearn/base.py:486: UserWarning: X has feature names, but RandomForestClassifier was fitted without feature names\n",
      "  warnings.warn(\n"
     ]
    },
    {
     "name": "stdout",
     "output_type": "stream",
     "text": [
      "Best parameters found: {'bootstrap': True, 'max_depth': None, 'min_samples_leaf': 2, 'min_samples_split': 5, 'n_estimators': 100}\n",
      "Best cross-validation accuracy: 0.8321428571428571\n",
      "Optimizing hyperparameters for MAG_Joint-RPCA, traintest_1...\n"
     ]
    },
    {
     "name": "stderr",
     "output_type": "stream",
     "text": [
      "/Users/biacordazzo/opt/anaconda3/envs/qiime2-amplicon-2024.5/lib/python3.9/site-packages/sklearn/base.py:486: UserWarning: X has feature names, but RandomForestClassifier was fitted without feature names\n",
      "  warnings.warn(\n"
     ]
    },
    {
     "name": "stdout",
     "output_type": "stream",
     "text": [
      "Best parameters found: {'bootstrap': True, 'max_depth': None, 'min_samples_leaf': 2, 'min_samples_split': 10, 'n_estimators': 200}\n",
      "Best cross-validation accuracy: 0.8214285714285714\n",
      "Optimizing hyperparameters for MAG_Joint-RPCA, traintest_2...\n"
     ]
    },
    {
     "name": "stderr",
     "output_type": "stream",
     "text": [
      "/Users/biacordazzo/opt/anaconda3/envs/qiime2-amplicon-2024.5/lib/python3.9/site-packages/sklearn/base.py:486: UserWarning: X has feature names, but RandomForestClassifier was fitted without feature names\n",
      "  warnings.warn(\n"
     ]
    },
    {
     "name": "stdout",
     "output_type": "stream",
     "text": [
      "Best parameters found: {'bootstrap': True, 'max_depth': None, 'min_samples_leaf': 1, 'min_samples_split': 10, 'n_estimators': 100}\n",
      "Best cross-validation accuracy: 0.8428571428571429\n",
      "Optimizing hyperparameters for MAG_Joint-RPCA, traintest_3...\n"
     ]
    },
    {
     "name": "stderr",
     "output_type": "stream",
     "text": [
      "/Users/biacordazzo/opt/anaconda3/envs/qiime2-amplicon-2024.5/lib/python3.9/site-packages/sklearn/base.py:486: UserWarning: X has feature names, but RandomForestClassifier was fitted without feature names\n",
      "  warnings.warn(\n"
     ]
    },
    {
     "name": "stdout",
     "output_type": "stream",
     "text": [
      "Best parameters found: {'bootstrap': True, 'max_depth': None, 'min_samples_leaf': 4, 'min_samples_split': 2, 'n_estimators': 100}\n",
      "Best cross-validation accuracy: 0.8321428571428571\n",
      "Optimizing hyperparameters for MAG_Joint-RPCA, traintest_4...\n"
     ]
    },
    {
     "name": "stderr",
     "output_type": "stream",
     "text": [
      "/Users/biacordazzo/opt/anaconda3/envs/qiime2-amplicon-2024.5/lib/python3.9/site-packages/sklearn/base.py:486: UserWarning: X has feature names, but RandomForestClassifier was fitted without feature names\n",
      "  warnings.warn(\n"
     ]
    },
    {
     "name": "stdout",
     "output_type": "stream",
     "text": [
      "Best parameters found: {'bootstrap': True, 'max_depth': None, 'min_samples_leaf': 1, 'min_samples_split': 10, 'n_estimators': 200}\n",
      "Best cross-validation accuracy: 0.8321428571428571\n",
      "Optimizing hyperparameters for MAG_Joint-RPCA, traintest_5...\n"
     ]
    },
    {
     "name": "stderr",
     "output_type": "stream",
     "text": [
      "/Users/biacordazzo/opt/anaconda3/envs/qiime2-amplicon-2024.5/lib/python3.9/site-packages/sklearn/base.py:486: UserWarning: X has feature names, but RandomForestClassifier was fitted without feature names\n",
      "  warnings.warn(\n"
     ]
    },
    {
     "name": "stdout",
     "output_type": "stream",
     "text": [
      "Best parameters found: {'bootstrap': True, 'max_depth': None, 'min_samples_leaf': 4, 'min_samples_split': 2, 'n_estimators': 200}\n",
      "Best cross-validation accuracy: 0.8357142857142856\n",
      "Optimizing hyperparameters for MAG_Joint-RPCA, traintest_6...\n"
     ]
    },
    {
     "name": "stderr",
     "output_type": "stream",
     "text": [
      "/Users/biacordazzo/opt/anaconda3/envs/qiime2-amplicon-2024.5/lib/python3.9/site-packages/sklearn/base.py:486: UserWarning: X has feature names, but RandomForestClassifier was fitted without feature names\n",
      "  warnings.warn(\n"
     ]
    },
    {
     "name": "stdout",
     "output_type": "stream",
     "text": [
      "Best parameters found: {'bootstrap': True, 'max_depth': None, 'min_samples_leaf': 2, 'min_samples_split': 10, 'n_estimators': 300}\n",
      "Best cross-validation accuracy: 0.875\n",
      "Optimizing hyperparameters for MAG_Joint-RPCA, traintest_7...\n"
     ]
    },
    {
     "name": "stderr",
     "output_type": "stream",
     "text": [
      "/Users/biacordazzo/opt/anaconda3/envs/qiime2-amplicon-2024.5/lib/python3.9/site-packages/sklearn/base.py:486: UserWarning: X has feature names, but RandomForestClassifier was fitted without feature names\n",
      "  warnings.warn(\n"
     ]
    },
    {
     "name": "stdout",
     "output_type": "stream",
     "text": [
      "Best parameters found: {'bootstrap': True, 'max_depth': None, 'min_samples_leaf': 4, 'min_samples_split': 2, 'n_estimators': 200}\n",
      "Best cross-validation accuracy: 0.8428571428571429\n",
      "Optimizing hyperparameters for MAG_Joint-RPCA, traintest_8...\n"
     ]
    },
    {
     "name": "stderr",
     "output_type": "stream",
     "text": [
      "/Users/biacordazzo/opt/anaconda3/envs/qiime2-amplicon-2024.5/lib/python3.9/site-packages/sklearn/base.py:486: UserWarning: X has feature names, but RandomForestClassifier was fitted without feature names\n",
      "  warnings.warn(\n"
     ]
    },
    {
     "name": "stdout",
     "output_type": "stream",
     "text": [
      "Best parameters found: {'bootstrap': True, 'max_depth': None, 'min_samples_leaf': 4, 'min_samples_split': 10, 'n_estimators': 300}\n",
      "Best cross-validation accuracy: 0.8\n",
      "Optimizing hyperparameters for MAG_Joint-RPCA, traintest_9...\n"
     ]
    },
    {
     "name": "stderr",
     "output_type": "stream",
     "text": [
      "/Users/biacordazzo/opt/anaconda3/envs/qiime2-amplicon-2024.5/lib/python3.9/site-packages/sklearn/base.py:486: UserWarning: X has feature names, but RandomForestClassifier was fitted without feature names\n",
      "  warnings.warn(\n"
     ]
    },
    {
     "name": "stdout",
     "output_type": "stream",
     "text": [
      "Best parameters found: {'bootstrap': True, 'max_depth': None, 'min_samples_leaf': 2, 'min_samples_split': 10, 'n_estimators': 100}\n",
      "Best cross-validation accuracy: 0.7892857142857143\n",
      "Optimizing hyperparameters for Gene_Joint-RPCA, traintest_0...\n"
     ]
    },
    {
     "name": "stderr",
     "output_type": "stream",
     "text": [
      "/Users/biacordazzo/opt/anaconda3/envs/qiime2-amplicon-2024.5/lib/python3.9/site-packages/sklearn/base.py:486: UserWarning: X has feature names, but RandomForestClassifier was fitted without feature names\n",
      "  warnings.warn(\n"
     ]
    },
    {
     "name": "stdout",
     "output_type": "stream",
     "text": [
      "Best parameters found: {'bootstrap': True, 'max_depth': None, 'min_samples_leaf': 2, 'min_samples_split': 10, 'n_estimators': 200}\n",
      "Best cross-validation accuracy: 0.8821428571428571\n",
      "Optimizing hyperparameters for Gene_Joint-RPCA, traintest_1...\n"
     ]
    },
    {
     "name": "stderr",
     "output_type": "stream",
     "text": [
      "/Users/biacordazzo/opt/anaconda3/envs/qiime2-amplicon-2024.5/lib/python3.9/site-packages/sklearn/base.py:486: UserWarning: X has feature names, but RandomForestClassifier was fitted without feature names\n",
      "  warnings.warn(\n"
     ]
    },
    {
     "name": "stdout",
     "output_type": "stream",
     "text": [
      "Best parameters found: {'bootstrap': True, 'max_depth': None, 'min_samples_leaf': 4, 'min_samples_split': 2, 'n_estimators': 200}\n",
      "Best cross-validation accuracy: 0.875\n",
      "Optimizing hyperparameters for Gene_Joint-RPCA, traintest_2...\n"
     ]
    },
    {
     "name": "stderr",
     "output_type": "stream",
     "text": [
      "/Users/biacordazzo/opt/anaconda3/envs/qiime2-amplicon-2024.5/lib/python3.9/site-packages/sklearn/base.py:486: UserWarning: X has feature names, but RandomForestClassifier was fitted without feature names\n",
      "  warnings.warn(\n"
     ]
    },
    {
     "name": "stdout",
     "output_type": "stream",
     "text": [
      "Best parameters found: {'bootstrap': False, 'max_depth': None, 'min_samples_leaf': 4, 'min_samples_split': 10, 'n_estimators': 100}\n",
      "Best cross-validation accuracy: 0.8857142857142858\n",
      "Optimizing hyperparameters for Gene_Joint-RPCA, traintest_3...\n"
     ]
    },
    {
     "name": "stderr",
     "output_type": "stream",
     "text": [
      "/Users/biacordazzo/opt/anaconda3/envs/qiime2-amplicon-2024.5/lib/python3.9/site-packages/sklearn/base.py:486: UserWarning: X has feature names, but RandomForestClassifier was fitted without feature names\n",
      "  warnings.warn(\n"
     ]
    },
    {
     "name": "stdout",
     "output_type": "stream",
     "text": [
      "Best parameters found: {'bootstrap': False, 'max_depth': None, 'min_samples_leaf': 4, 'min_samples_split': 10, 'n_estimators': 100}\n",
      "Best cross-validation accuracy: 0.8928571428571429\n",
      "Optimizing hyperparameters for Gene_Joint-RPCA, traintest_4...\n"
     ]
    },
    {
     "name": "stderr",
     "output_type": "stream",
     "text": [
      "/Users/biacordazzo/opt/anaconda3/envs/qiime2-amplicon-2024.5/lib/python3.9/site-packages/sklearn/base.py:486: UserWarning: X has feature names, but RandomForestClassifier was fitted without feature names\n",
      "  warnings.warn(\n"
     ]
    },
    {
     "name": "stdout",
     "output_type": "stream",
     "text": [
      "Best parameters found: {'bootstrap': True, 'max_depth': None, 'min_samples_leaf': 4, 'min_samples_split': 2, 'n_estimators': 200}\n",
      "Best cross-validation accuracy: 0.8964285714285714\n",
      "Optimizing hyperparameters for Gene_Joint-RPCA, traintest_5...\n"
     ]
    },
    {
     "name": "stderr",
     "output_type": "stream",
     "text": [
      "/Users/biacordazzo/opt/anaconda3/envs/qiime2-amplicon-2024.5/lib/python3.9/site-packages/sklearn/base.py:486: UserWarning: X has feature names, but RandomForestClassifier was fitted without feature names\n",
      "  warnings.warn(\n"
     ]
    },
    {
     "name": "stdout",
     "output_type": "stream",
     "text": [
      "Best parameters found: {'bootstrap': True, 'max_depth': None, 'min_samples_leaf': 4, 'min_samples_split': 2, 'n_estimators': 300}\n",
      "Best cross-validation accuracy: 0.8857142857142858\n",
      "Optimizing hyperparameters for Gene_Joint-RPCA, traintest_6...\n"
     ]
    },
    {
     "name": "stderr",
     "output_type": "stream",
     "text": [
      "/Users/biacordazzo/opt/anaconda3/envs/qiime2-amplicon-2024.5/lib/python3.9/site-packages/sklearn/base.py:486: UserWarning: X has feature names, but RandomForestClassifier was fitted without feature names\n",
      "  warnings.warn(\n"
     ]
    },
    {
     "name": "stdout",
     "output_type": "stream",
     "text": [
      "Best parameters found: {'bootstrap': True, 'max_depth': None, 'min_samples_leaf': 4, 'min_samples_split': 2, 'n_estimators': 100}\n",
      "Best cross-validation accuracy: 0.8892857142857142\n",
      "Optimizing hyperparameters for Gene_Joint-RPCA, traintest_7...\n"
     ]
    },
    {
     "name": "stderr",
     "output_type": "stream",
     "text": [
      "/Users/biacordazzo/opt/anaconda3/envs/qiime2-amplicon-2024.5/lib/python3.9/site-packages/sklearn/base.py:486: UserWarning: X has feature names, but RandomForestClassifier was fitted without feature names\n",
      "  warnings.warn(\n"
     ]
    },
    {
     "name": "stdout",
     "output_type": "stream",
     "text": [
      "Best parameters found: {'bootstrap': True, 'max_depth': None, 'min_samples_leaf': 4, 'min_samples_split': 2, 'n_estimators': 100}\n",
      "Best cross-validation accuracy: 0.8607142857142858\n",
      "Optimizing hyperparameters for Gene_Joint-RPCA, traintest_8...\n"
     ]
    },
    {
     "name": "stderr",
     "output_type": "stream",
     "text": [
      "/Users/biacordazzo/opt/anaconda3/envs/qiime2-amplicon-2024.5/lib/python3.9/site-packages/sklearn/base.py:486: UserWarning: X has feature names, but RandomForestClassifier was fitted without feature names\n",
      "  warnings.warn(\n"
     ]
    },
    {
     "name": "stdout",
     "output_type": "stream",
     "text": [
      "Best parameters found: {'bootstrap': True, 'max_depth': None, 'min_samples_leaf': 4, 'min_samples_split': 10, 'n_estimators': 200}\n",
      "Best cross-validation accuracy: 0.8678571428571429\n",
      "Optimizing hyperparameters for Gene_Joint-RPCA, traintest_9...\n"
     ]
    },
    {
     "name": "stderr",
     "output_type": "stream",
     "text": [
      "/Users/biacordazzo/opt/anaconda3/envs/qiime2-amplicon-2024.5/lib/python3.9/site-packages/sklearn/base.py:486: UserWarning: X has feature names, but RandomForestClassifier was fitted without feature names\n",
      "  warnings.warn(\n"
     ]
    },
    {
     "name": "stdout",
     "output_type": "stream",
     "text": [
      "Best parameters found: {'bootstrap': False, 'max_depth': None, 'min_samples_leaf': 2, 'min_samples_split': 2, 'n_estimators': 100}\n",
      "Best cross-validation accuracy: 0.875\n",
      "Optimizing hyperparameters for Gene_Module_Joint-RPCA, traintest_0...\n"
     ]
    },
    {
     "name": "stderr",
     "output_type": "stream",
     "text": [
      "/Users/biacordazzo/opt/anaconda3/envs/qiime2-amplicon-2024.5/lib/python3.9/site-packages/sklearn/base.py:486: UserWarning: X has feature names, but RandomForestClassifier was fitted without feature names\n",
      "  warnings.warn(\n"
     ]
    },
    {
     "name": "stdout",
     "output_type": "stream",
     "text": [
      "Best parameters found: {'bootstrap': True, 'max_depth': None, 'min_samples_leaf': 2, 'min_samples_split': 10, 'n_estimators': 200}\n",
      "Best cross-validation accuracy: 0.8892857142857142\n",
      "Optimizing hyperparameters for Gene_Module_Joint-RPCA, traintest_1...\n"
     ]
    },
    {
     "name": "stderr",
     "output_type": "stream",
     "text": [
      "/Users/biacordazzo/opt/anaconda3/envs/qiime2-amplicon-2024.5/lib/python3.9/site-packages/sklearn/base.py:486: UserWarning: X has feature names, but RandomForestClassifier was fitted without feature names\n",
      "  warnings.warn(\n"
     ]
    },
    {
     "name": "stdout",
     "output_type": "stream",
     "text": [
      "Best parameters found: {'bootstrap': True, 'max_depth': None, 'min_samples_leaf': 4, 'min_samples_split': 2, 'n_estimators': 200}\n",
      "Best cross-validation accuracy: 0.8571428571428571\n",
      "Optimizing hyperparameters for Gene_Module_Joint-RPCA, traintest_2...\n"
     ]
    },
    {
     "name": "stderr",
     "output_type": "stream",
     "text": [
      "/Users/biacordazzo/opt/anaconda3/envs/qiime2-amplicon-2024.5/lib/python3.9/site-packages/sklearn/base.py:486: UserWarning: X has feature names, but RandomForestClassifier was fitted without feature names\n",
      "  warnings.warn(\n"
     ]
    },
    {
     "name": "stdout",
     "output_type": "stream",
     "text": [
      "Best parameters found: {'bootstrap': True, 'max_depth': None, 'min_samples_leaf': 4, 'min_samples_split': 2, 'n_estimators': 100}\n",
      "Best cross-validation accuracy: 0.8571428571428571\n",
      "Optimizing hyperparameters for Gene_Module_Joint-RPCA, traintest_3...\n"
     ]
    },
    {
     "name": "stderr",
     "output_type": "stream",
     "text": [
      "/Users/biacordazzo/opt/anaconda3/envs/qiime2-amplicon-2024.5/lib/python3.9/site-packages/sklearn/base.py:486: UserWarning: X has feature names, but RandomForestClassifier was fitted without feature names\n",
      "  warnings.warn(\n"
     ]
    },
    {
     "name": "stdout",
     "output_type": "stream",
     "text": [
      "Best parameters found: {'bootstrap': False, 'max_depth': None, 'min_samples_leaf': 4, 'min_samples_split': 2, 'n_estimators': 100}\n",
      "Best cross-validation accuracy: 0.8607142857142858\n",
      "Optimizing hyperparameters for Gene_Module_Joint-RPCA, traintest_4...\n"
     ]
    },
    {
     "name": "stderr",
     "output_type": "stream",
     "text": [
      "/Users/biacordazzo/opt/anaconda3/envs/qiime2-amplicon-2024.5/lib/python3.9/site-packages/sklearn/base.py:486: UserWarning: X has feature names, but RandomForestClassifier was fitted without feature names\n",
      "  warnings.warn(\n"
     ]
    },
    {
     "name": "stdout",
     "output_type": "stream",
     "text": [
      "Best parameters found: {'bootstrap': True, 'max_depth': None, 'min_samples_leaf': 4, 'min_samples_split': 2, 'n_estimators': 100}\n",
      "Best cross-validation accuracy: 0.8571428571428571\n",
      "Optimizing hyperparameters for Gene_Module_Joint-RPCA, traintest_5...\n"
     ]
    },
    {
     "name": "stderr",
     "output_type": "stream",
     "text": [
      "/Users/biacordazzo/opt/anaconda3/envs/qiime2-amplicon-2024.5/lib/python3.9/site-packages/sklearn/base.py:486: UserWarning: X has feature names, but RandomForestClassifier was fitted without feature names\n",
      "  warnings.warn(\n"
     ]
    },
    {
     "name": "stdout",
     "output_type": "stream",
     "text": [
      "Best parameters found: {'bootstrap': True, 'max_depth': None, 'min_samples_leaf': 4, 'min_samples_split': 10, 'n_estimators': 100}\n",
      "Best cross-validation accuracy: 0.8785714285714287\n",
      "Optimizing hyperparameters for Gene_Module_Joint-RPCA, traintest_6...\n"
     ]
    },
    {
     "name": "stderr",
     "output_type": "stream",
     "text": [
      "/Users/biacordazzo/opt/anaconda3/envs/qiime2-amplicon-2024.5/lib/python3.9/site-packages/sklearn/base.py:486: UserWarning: X has feature names, but RandomForestClassifier was fitted without feature names\n",
      "  warnings.warn(\n"
     ]
    },
    {
     "name": "stdout",
     "output_type": "stream",
     "text": [
      "Best parameters found: {'bootstrap': True, 'max_depth': None, 'min_samples_leaf': 4, 'min_samples_split': 2, 'n_estimators': 100}\n",
      "Best cross-validation accuracy: 0.8892857142857142\n",
      "Optimizing hyperparameters for Gene_Module_Joint-RPCA, traintest_7...\n"
     ]
    },
    {
     "name": "stderr",
     "output_type": "stream",
     "text": [
      "/Users/biacordazzo/opt/anaconda3/envs/qiime2-amplicon-2024.5/lib/python3.9/site-packages/sklearn/base.py:486: UserWarning: X has feature names, but RandomForestClassifier was fitted without feature names\n",
      "  warnings.warn(\n"
     ]
    },
    {
     "name": "stdout",
     "output_type": "stream",
     "text": [
      "Best parameters found: {'bootstrap': False, 'max_depth': None, 'min_samples_leaf': 4, 'min_samples_split': 10, 'n_estimators': 100}\n",
      "Best cross-validation accuracy: 0.8607142857142858\n",
      "Optimizing hyperparameters for Gene_Module_Joint-RPCA, traintest_8...\n"
     ]
    },
    {
     "name": "stderr",
     "output_type": "stream",
     "text": [
      "/Users/biacordazzo/opt/anaconda3/envs/qiime2-amplicon-2024.5/lib/python3.9/site-packages/sklearn/base.py:486: UserWarning: X has feature names, but RandomForestClassifier was fitted without feature names\n",
      "  warnings.warn(\n"
     ]
    },
    {
     "name": "stdout",
     "output_type": "stream",
     "text": [
      "Best parameters found: {'bootstrap': True, 'max_depth': None, 'min_samples_leaf': 4, 'min_samples_split': 10, 'n_estimators': 200}\n",
      "Best cross-validation accuracy: 0.8964285714285716\n",
      "Optimizing hyperparameters for Gene_Module_Joint-RPCA, traintest_9...\n"
     ]
    },
    {
     "name": "stderr",
     "output_type": "stream",
     "text": [
      "/Users/biacordazzo/opt/anaconda3/envs/qiime2-amplicon-2024.5/lib/python3.9/site-packages/sklearn/base.py:486: UserWarning: X has feature names, but RandomForestClassifier was fitted without feature names\n",
      "  warnings.warn(\n"
     ]
    },
    {
     "name": "stdout",
     "output_type": "stream",
     "text": [
      "Best parameters found: {'bootstrap': True, 'max_depth': None, 'min_samples_leaf': 4, 'min_samples_split': 10, 'n_estimators': 300}\n",
      "Best cross-validation accuracy: 0.8785714285714287\n",
      "Optimizing hyperparameters for Metabolite_Joint-RPCA, traintest_0...\n"
     ]
    },
    {
     "name": "stderr",
     "output_type": "stream",
     "text": [
      "/Users/biacordazzo/opt/anaconda3/envs/qiime2-amplicon-2024.5/lib/python3.9/site-packages/sklearn/base.py:486: UserWarning: X has feature names, but RandomForestClassifier was fitted without feature names\n",
      "  warnings.warn(\n"
     ]
    },
    {
     "name": "stdout",
     "output_type": "stream",
     "text": [
      "Best parameters found: {'bootstrap': False, 'max_depth': 10, 'min_samples_leaf': 1, 'min_samples_split': 2, 'n_estimators': 100}\n",
      "Best cross-validation accuracy: 0.475\n",
      "Optimizing hyperparameters for Metabolite_Joint-RPCA, traintest_1...\n"
     ]
    },
    {
     "name": "stderr",
     "output_type": "stream",
     "text": [
      "/Users/biacordazzo/opt/anaconda3/envs/qiime2-amplicon-2024.5/lib/python3.9/site-packages/sklearn/base.py:486: UserWarning: X has feature names, but RandomForestClassifier was fitted without feature names\n",
      "  warnings.warn(\n"
     ]
    },
    {
     "name": "stdout",
     "output_type": "stream",
     "text": [
      "Best parameters found: {'bootstrap': True, 'max_depth': None, 'min_samples_leaf': 1, 'min_samples_split': 2, 'n_estimators': 100}\n",
      "Best cross-validation accuracy: 0.5\n",
      "Optimizing hyperparameters for Metabolite_Joint-RPCA, traintest_2...\n"
     ]
    },
    {
     "name": "stderr",
     "output_type": "stream",
     "text": [
      "/Users/biacordazzo/opt/anaconda3/envs/qiime2-amplicon-2024.5/lib/python3.9/site-packages/sklearn/base.py:486: UserWarning: X has feature names, but RandomForestClassifier was fitted without feature names\n",
      "  warnings.warn(\n"
     ]
    },
    {
     "name": "stdout",
     "output_type": "stream",
     "text": [
      "Best parameters found: {'bootstrap': True, 'max_depth': None, 'min_samples_leaf': 4, 'min_samples_split': 10, 'n_estimators': 100}\n",
      "Best cross-validation accuracy: 0.4821428571428571\n",
      "Optimizing hyperparameters for Metabolite_Joint-RPCA, traintest_3...\n"
     ]
    },
    {
     "name": "stderr",
     "output_type": "stream",
     "text": [
      "/Users/biacordazzo/opt/anaconda3/envs/qiime2-amplicon-2024.5/lib/python3.9/site-packages/sklearn/base.py:486: UserWarning: X has feature names, but RandomForestClassifier was fitted without feature names\n",
      "  warnings.warn(\n"
     ]
    },
    {
     "name": "stdout",
     "output_type": "stream",
     "text": [
      "Best parameters found: {'bootstrap': True, 'max_depth': None, 'min_samples_leaf': 2, 'min_samples_split': 10, 'n_estimators': 200}\n",
      "Best cross-validation accuracy: 0.47142857142857153\n",
      "Optimizing hyperparameters for Metabolite_Joint-RPCA, traintest_4...\n"
     ]
    },
    {
     "name": "stderr",
     "output_type": "stream",
     "text": [
      "/Users/biacordazzo/opt/anaconda3/envs/qiime2-amplicon-2024.5/lib/python3.9/site-packages/sklearn/base.py:486: UserWarning: X has feature names, but RandomForestClassifier was fitted without feature names\n",
      "  warnings.warn(\n"
     ]
    },
    {
     "name": "stdout",
     "output_type": "stream",
     "text": [
      "Best parameters found: {'bootstrap': True, 'max_depth': 10, 'min_samples_leaf': 4, 'min_samples_split': 10, 'n_estimators': 300}\n",
      "Best cross-validation accuracy: 0.48571428571428577\n",
      "Optimizing hyperparameters for Metabolite_Joint-RPCA, traintest_5...\n"
     ]
    },
    {
     "name": "stderr",
     "output_type": "stream",
     "text": [
      "/Users/biacordazzo/opt/anaconda3/envs/qiime2-amplicon-2024.5/lib/python3.9/site-packages/sklearn/base.py:486: UserWarning: X has feature names, but RandomForestClassifier was fitted without feature names\n",
      "  warnings.warn(\n"
     ]
    },
    {
     "name": "stdout",
     "output_type": "stream",
     "text": [
      "Best parameters found: {'bootstrap': False, 'max_depth': 10, 'min_samples_leaf': 4, 'min_samples_split': 10, 'n_estimators': 100}\n",
      "Best cross-validation accuracy: 0.42142857142857143\n",
      "Optimizing hyperparameters for Metabolite_Joint-RPCA, traintest_6...\n"
     ]
    },
    {
     "name": "stderr",
     "output_type": "stream",
     "text": [
      "/Users/biacordazzo/opt/anaconda3/envs/qiime2-amplicon-2024.5/lib/python3.9/site-packages/sklearn/base.py:486: UserWarning: X has feature names, but RandomForestClassifier was fitted without feature names\n",
      "  warnings.warn(\n"
     ]
    },
    {
     "name": "stdout",
     "output_type": "stream",
     "text": [
      "Best parameters found: {'bootstrap': False, 'max_depth': None, 'min_samples_leaf': 1, 'min_samples_split': 10, 'n_estimators': 100}\n",
      "Best cross-validation accuracy: 0.46785714285714286\n",
      "Optimizing hyperparameters for Metabolite_Joint-RPCA, traintest_7...\n"
     ]
    },
    {
     "name": "stderr",
     "output_type": "stream",
     "text": [
      "/Users/biacordazzo/opt/anaconda3/envs/qiime2-amplicon-2024.5/lib/python3.9/site-packages/sklearn/base.py:486: UserWarning: X has feature names, but RandomForestClassifier was fitted without feature names\n",
      "  warnings.warn(\n"
     ]
    },
    {
     "name": "stdout",
     "output_type": "stream",
     "text": [
      "Best parameters found: {'bootstrap': True, 'max_depth': None, 'min_samples_leaf': 4, 'min_samples_split': 10, 'n_estimators': 300}\n",
      "Best cross-validation accuracy: 0.48571428571428565\n",
      "Optimizing hyperparameters for Metabolite_Joint-RPCA, traintest_8...\n"
     ]
    },
    {
     "name": "stderr",
     "output_type": "stream",
     "text": [
      "/Users/biacordazzo/opt/anaconda3/envs/qiime2-amplicon-2024.5/lib/python3.9/site-packages/sklearn/base.py:486: UserWarning: X has feature names, but RandomForestClassifier was fitted without feature names\n",
      "  warnings.warn(\n"
     ]
    },
    {
     "name": "stdout",
     "output_type": "stream",
     "text": [
      "Best parameters found: {'bootstrap': False, 'max_depth': 10, 'min_samples_leaf': 1, 'min_samples_split': 10, 'n_estimators': 100}\n",
      "Best cross-validation accuracy: 0.4821428571428571\n",
      "Optimizing hyperparameters for Metabolite_Joint-RPCA, traintest_9...\n"
     ]
    },
    {
     "name": "stderr",
     "output_type": "stream",
     "text": [
      "/Users/biacordazzo/opt/anaconda3/envs/qiime2-amplicon-2024.5/lib/python3.9/site-packages/sklearn/base.py:486: UserWarning: X has feature names, but RandomForestClassifier was fitted without feature names\n",
      "  warnings.warn(\n"
     ]
    },
    {
     "name": "stdout",
     "output_type": "stream",
     "text": [
      "Best parameters found: {'bootstrap': True, 'max_depth': 10, 'min_samples_leaf': 1, 'min_samples_split': 2, 'n_estimators': 100}\n",
      "Best cross-validation accuracy: 0.47857142857142854\n"
     ]
    },
    {
     "name": "stderr",
     "output_type": "stream",
     "text": [
      "/Users/biacordazzo/opt/anaconda3/envs/qiime2-amplicon-2024.5/lib/python3.9/site-packages/sklearn/base.py:486: UserWarning: X has feature names, but RandomForestClassifier was fitted without feature names\n",
      "  warnings.warn(\n"
     ]
    }
   ],
   "source": [
    "#FACILITY\n",
    "acc_ratio_facility_opt = rf_acc(ord_tables=[rpca_traj['18S'], rpca_traj['mag'], rpca_traj['gene'],\n",
    "                                            rpca_traj['gene_module'], rpca_traj['metabolite'],\n",
    "                                            joint_rpca_traj['18S'], joint_rpca_traj['mag'], joint_rpca_traj['gene'],\n",
    "                                            joint_rpca_traj['gene_module'], joint_rpca_traj['metabolite']],\n",
    "                                ord_ids=[\"18S_RPCA\", \"MAG_RPCA\", \"Gene_RPCA\", \n",
    "                                         \"Gene_Module_RPCA\", \"Metabolite_RPCA\",\n",
    "                                         \"18S_Joint-RPCA\", \"MAG_Joint-RPCA\", \"Gene_Joint-RPCA\", \n",
    "                                         \"Gene_Module_Joint-RPCA\", \"Metabolite_Joint-RPCA\"],\n",
    "                                shared_mt=metadata, cat_of_interest='facility', ordination=False, \n",
    "                                n_folds=10, random_state=42, optimize=True, param_grid=param_grid)"
   ]
  },
  {
   "cell_type": "code",
   "execution_count": 52,
   "metadata": {},
   "outputs": [
    {
     "data": {
      "text/html": [
       "<div>\n",
       "<style scoped>\n",
       "    .dataframe tbody tr th:only-of-type {\n",
       "        vertical-align: middle;\n",
       "    }\n",
       "\n",
       "    .dataframe tbody tr th {\n",
       "        vertical-align: top;\n",
       "    }\n",
       "\n",
       "    .dataframe thead th {\n",
       "        text-align: right;\n",
       "    }\n",
       "</style>\n",
       "<table border=\"1\" class=\"dataframe\">\n",
       "  <thead>\n",
       "    <tr style=\"text-align: right;\">\n",
       "      <th></th>\n",
       "      <th>Omic</th>\n",
       "      <th>Fold</th>\n",
       "      <th>Accuracy</th>\n",
       "      <th>Report</th>\n",
       "      <th>Optimization</th>\n",
       "    </tr>\n",
       "  </thead>\n",
       "  <tbody>\n",
       "    <tr>\n",
       "      <th>0</th>\n",
       "      <td>18S_RPCA</td>\n",
       "      <td>traintest_0</td>\n",
       "      <td>0.590361</td>\n",
       "      <td>precision    recall  f1-score   ...</td>\n",
       "      <td>{'bootstrap': False, 'max_depth': 10, 'min_sam...</td>\n",
       "    </tr>\n",
       "    <tr>\n",
       "      <th>1</th>\n",
       "      <td>18S_RPCA</td>\n",
       "      <td>traintest_1</td>\n",
       "      <td>0.655172</td>\n",
       "      <td>precision    recall  f1-score   ...</td>\n",
       "      <td>{'bootstrap': False, 'max_depth': 10, 'min_sam...</td>\n",
       "    </tr>\n",
       "    <tr>\n",
       "      <th>2</th>\n",
       "      <td>18S_RPCA</td>\n",
       "      <td>traintest_2</td>\n",
       "      <td>0.571429</td>\n",
       "      <td>precision    recall  f1-score   ...</td>\n",
       "      <td>{'bootstrap': True, 'max_depth': None, 'min_sa...</td>\n",
       "    </tr>\n",
       "    <tr>\n",
       "      <th>3</th>\n",
       "      <td>18S_RPCA</td>\n",
       "      <td>traintest_3</td>\n",
       "      <td>0.564706</td>\n",
       "      <td>precision    recall  f1-score   ...</td>\n",
       "      <td>{'bootstrap': False, 'max_depth': None, 'min_s...</td>\n",
       "    </tr>\n",
       "    <tr>\n",
       "      <th>4</th>\n",
       "      <td>18S_RPCA</td>\n",
       "      <td>traintest_4</td>\n",
       "      <td>0.646341</td>\n",
       "      <td>precision    recall  f1-score   ...</td>\n",
       "      <td>{'bootstrap': False, 'max_depth': 10, 'min_sam...</td>\n",
       "    </tr>\n",
       "  </tbody>\n",
       "</table>\n",
       "</div>"
      ],
      "text/plain": [
       "       Omic         Fold  Accuracy  \\\n",
       "0  18S_RPCA  traintest_0  0.590361   \n",
       "1  18S_RPCA  traintest_1  0.655172   \n",
       "2  18S_RPCA  traintest_2  0.571429   \n",
       "3  18S_RPCA  traintest_3  0.564706   \n",
       "4  18S_RPCA  traintest_4  0.646341   \n",
       "\n",
       "                                              Report  \\\n",
       "0                precision    recall  f1-score   ...   \n",
       "1                precision    recall  f1-score   ...   \n",
       "2                precision    recall  f1-score   ...   \n",
       "3                precision    recall  f1-score   ...   \n",
       "4                precision    recall  f1-score   ...   \n",
       "\n",
       "                                        Optimization  \n",
       "0  {'bootstrap': False, 'max_depth': 10, 'min_sam...  \n",
       "1  {'bootstrap': False, 'max_depth': 10, 'min_sam...  \n",
       "2  {'bootstrap': True, 'max_depth': None, 'min_sa...  \n",
       "3  {'bootstrap': False, 'max_depth': None, 'min_s...  \n",
       "4  {'bootstrap': False, 'max_depth': 10, 'min_sam...  "
      ]
     },
     "metadata": {},
     "output_type": "display_data"
    }
   ],
   "source": [
    "#save results\n",
    "acc_ratio_facility_opt.to_csv('../results/joint-rpca/rf_acc_{}-ratio_facility_opt.csv'.format(pc_to_use), index=False)\n",
    "\n",
    "#read results\n",
    "#acc_ratio_facility_opt = pd.read_csv('../results/joint-rpca/rf_acc_{}-ratio_facility_opt.csv'.format(pc_to_use))\n",
    "display(acc_ratio_facility_opt.head())"
   ]
  },
  {
   "cell_type": "code",
   "execution_count": 46,
   "metadata": {},
   "outputs": [
    {
     "name": "stdout",
     "output_type": "stream",
     "text": [
      "Optimizing hyperparameters for 18S_RPCA, traintest_0...\n",
      "Best parameters found: {'bootstrap': False, 'max_depth': 10, 'min_samples_leaf': 4, 'min_samples_split': 2, 'n_estimators': 100}\n",
      "Best cross-validation accuracy: 0.4300170068027211\n",
      "Optimizing hyperparameters for 18S_RPCA, traintest_1...\n"
     ]
    },
    {
     "name": "stderr",
     "output_type": "stream",
     "text": [
      "/Users/biacordazzo/opt/anaconda3/envs/qiime2-amplicon-2024.5/lib/python3.9/site-packages/sklearn/base.py:486: UserWarning: X has feature names, but RandomForestClassifier was fitted without feature names\n",
      "  warnings.warn(\n",
      "/Users/biacordazzo/opt/anaconda3/envs/qiime2-amplicon-2024.5/lib/python3.9/site-packages/sklearn/metrics/_classification.py:1509: UndefinedMetricWarning: Precision is ill-defined and being set to 0.0 in labels with no predicted samples. Use `zero_division` parameter to control this behavior.\n",
      "  _warn_prf(average, modifier, f\"{metric.capitalize()} is\", len(result))\n",
      "/Users/biacordazzo/opt/anaconda3/envs/qiime2-amplicon-2024.5/lib/python3.9/site-packages/sklearn/metrics/_classification.py:1509: UndefinedMetricWarning: Precision is ill-defined and being set to 0.0 in labels with no predicted samples. Use `zero_division` parameter to control this behavior.\n",
      "  _warn_prf(average, modifier, f\"{metric.capitalize()} is\", len(result))\n",
      "/Users/biacordazzo/opt/anaconda3/envs/qiime2-amplicon-2024.5/lib/python3.9/site-packages/sklearn/metrics/_classification.py:1509: UndefinedMetricWarning: Precision is ill-defined and being set to 0.0 in labels with no predicted samples. Use `zero_division` parameter to control this behavior.\n",
      "  _warn_prf(average, modifier, f\"{metric.capitalize()} is\", len(result))\n"
     ]
    },
    {
     "name": "stdout",
     "output_type": "stream",
     "text": [
      "Best parameters found: {'bootstrap': True, 'max_depth': None, 'min_samples_leaf': 4, 'min_samples_split': 10, 'n_estimators': 300}\n",
      "Best cross-validation accuracy: 0.42372448979591837\n",
      "Optimizing hyperparameters for 18S_RPCA, traintest_2...\n"
     ]
    },
    {
     "name": "stderr",
     "output_type": "stream",
     "text": [
      "/Users/biacordazzo/opt/anaconda3/envs/qiime2-amplicon-2024.5/lib/python3.9/site-packages/sklearn/base.py:486: UserWarning: X has feature names, but RandomForestClassifier was fitted without feature names\n",
      "  warnings.warn(\n"
     ]
    },
    {
     "name": "stdout",
     "output_type": "stream",
     "text": [
      "Best parameters found: {'bootstrap': True, 'max_depth': 10, 'min_samples_leaf': 1, 'min_samples_split': 10, 'n_estimators': 100}\n",
      "Best cross-validation accuracy: 0.404\n",
      "Optimizing hyperparameters for 18S_RPCA, traintest_3...\n"
     ]
    },
    {
     "name": "stderr",
     "output_type": "stream",
     "text": [
      "/Users/biacordazzo/opt/anaconda3/envs/qiime2-amplicon-2024.5/lib/python3.9/site-packages/sklearn/base.py:486: UserWarning: X has feature names, but RandomForestClassifier was fitted without feature names\n",
      "  warnings.warn(\n"
     ]
    },
    {
     "name": "stdout",
     "output_type": "stream",
     "text": [
      "Best parameters found: {'bootstrap': False, 'max_depth': 10, 'min_samples_leaf': 1, 'min_samples_split': 2, 'n_estimators': 100}\n",
      "Best cross-validation accuracy: 0.4366496598639456\n",
      "Optimizing hyperparameters for 18S_RPCA, traintest_4...\n"
     ]
    },
    {
     "name": "stderr",
     "output_type": "stream",
     "text": [
      "/Users/biacordazzo/opt/anaconda3/envs/qiime2-amplicon-2024.5/lib/python3.9/site-packages/sklearn/base.py:486: UserWarning: X has feature names, but RandomForestClassifier was fitted without feature names\n",
      "  warnings.warn(\n"
     ]
    },
    {
     "name": "stdout",
     "output_type": "stream",
     "text": [
      "Best parameters found: {'bootstrap': False, 'max_depth': 10, 'min_samples_leaf': 1, 'min_samples_split': 5, 'n_estimators': 100}\n",
      "Best cross-validation accuracy: 0.4855510204081632\n",
      "Optimizing hyperparameters for 18S_RPCA, traintest_5...\n"
     ]
    },
    {
     "name": "stderr",
     "output_type": "stream",
     "text": [
      "/Users/biacordazzo/opt/anaconda3/envs/qiime2-amplicon-2024.5/lib/python3.9/site-packages/sklearn/base.py:486: UserWarning: X has feature names, but RandomForestClassifier was fitted without feature names\n",
      "  warnings.warn(\n"
     ]
    },
    {
     "name": "stdout",
     "output_type": "stream",
     "text": [
      "Best parameters found: {'bootstrap': True, 'max_depth': 10, 'min_samples_leaf': 2, 'min_samples_split': 10, 'n_estimators': 100}\n",
      "Best cross-validation accuracy: 0.47551020408163264\n",
      "Optimizing hyperparameters for 18S_RPCA, traintest_6...\n"
     ]
    },
    {
     "name": "stderr",
     "output_type": "stream",
     "text": [
      "/Users/biacordazzo/opt/anaconda3/envs/qiime2-amplicon-2024.5/lib/python3.9/site-packages/sklearn/base.py:486: UserWarning: X has feature names, but RandomForestClassifier was fitted without feature names\n",
      "  warnings.warn(\n",
      "/Users/biacordazzo/opt/anaconda3/envs/qiime2-amplicon-2024.5/lib/python3.9/site-packages/sklearn/metrics/_classification.py:1509: UndefinedMetricWarning: Precision is ill-defined and being set to 0.0 in labels with no predicted samples. Use `zero_division` parameter to control this behavior.\n",
      "  _warn_prf(average, modifier, f\"{metric.capitalize()} is\", len(result))\n",
      "/Users/biacordazzo/opt/anaconda3/envs/qiime2-amplicon-2024.5/lib/python3.9/site-packages/sklearn/metrics/_classification.py:1509: UndefinedMetricWarning: Precision is ill-defined and being set to 0.0 in labels with no predicted samples. Use `zero_division` parameter to control this behavior.\n",
      "  _warn_prf(average, modifier, f\"{metric.capitalize()} is\", len(result))\n",
      "/Users/biacordazzo/opt/anaconda3/envs/qiime2-amplicon-2024.5/lib/python3.9/site-packages/sklearn/metrics/_classification.py:1509: UndefinedMetricWarning: Precision is ill-defined and being set to 0.0 in labels with no predicted samples. Use `zero_division` parameter to control this behavior.\n",
      "  _warn_prf(average, modifier, f\"{metric.capitalize()} is\", len(result))\n"
     ]
    },
    {
     "name": "stdout",
     "output_type": "stream",
     "text": [
      "Best parameters found: {'bootstrap': False, 'max_depth': None, 'min_samples_leaf': 4, 'min_samples_split': 2, 'n_estimators': 100}\n",
      "Best cross-validation accuracy: 0.43095238095238103\n",
      "Optimizing hyperparameters for 18S_RPCA, traintest_7...\n"
     ]
    },
    {
     "name": "stderr",
     "output_type": "stream",
     "text": [
      "/Users/biacordazzo/opt/anaconda3/envs/qiime2-amplicon-2024.5/lib/python3.9/site-packages/sklearn/base.py:486: UserWarning: X has feature names, but RandomForestClassifier was fitted without feature names\n",
      "  warnings.warn(\n"
     ]
    },
    {
     "name": "stdout",
     "output_type": "stream",
     "text": [
      "Best parameters found: {'bootstrap': True, 'max_depth': 10, 'min_samples_leaf': 1, 'min_samples_split': 10, 'n_estimators': 300}\n",
      "Best cross-validation accuracy: 0.4545068027210884\n",
      "Optimizing hyperparameters for 18S_RPCA, traintest_8...\n"
     ]
    },
    {
     "name": "stderr",
     "output_type": "stream",
     "text": [
      "/Users/biacordazzo/opt/anaconda3/envs/qiime2-amplicon-2024.5/lib/python3.9/site-packages/sklearn/base.py:486: UserWarning: X has feature names, but RandomForestClassifier was fitted without feature names\n",
      "  warnings.warn(\n"
     ]
    },
    {
     "name": "stdout",
     "output_type": "stream",
     "text": [
      "Best parameters found: {'bootstrap': True, 'max_depth': None, 'min_samples_leaf': 2, 'min_samples_split': 10, 'n_estimators': 300}\n",
      "Best cross-validation accuracy: 0.46571428571428575\n",
      "Optimizing hyperparameters for 18S_RPCA, traintest_9...\n"
     ]
    },
    {
     "name": "stderr",
     "output_type": "stream",
     "text": [
      "/Users/biacordazzo/opt/anaconda3/envs/qiime2-amplicon-2024.5/lib/python3.9/site-packages/sklearn/base.py:486: UserWarning: X has feature names, but RandomForestClassifier was fitted without feature names\n",
      "  warnings.warn(\n"
     ]
    },
    {
     "name": "stdout",
     "output_type": "stream",
     "text": [
      "Best parameters found: {'bootstrap': False, 'max_depth': 10, 'min_samples_leaf': 2, 'min_samples_split': 5, 'n_estimators': 100}\n",
      "Best cross-validation accuracy: 0.4340136054421769\n",
      "Optimizing hyperparameters for MAG_RPCA, traintest_0...\n"
     ]
    },
    {
     "name": "stderr",
     "output_type": "stream",
     "text": [
      "/Users/biacordazzo/opt/anaconda3/envs/qiime2-amplicon-2024.5/lib/python3.9/site-packages/sklearn/base.py:486: UserWarning: X has feature names, but RandomForestClassifier was fitted without feature names\n",
      "  warnings.warn(\n"
     ]
    },
    {
     "name": "stdout",
     "output_type": "stream",
     "text": [
      "Best parameters found: {'bootstrap': True, 'max_depth': 10, 'min_samples_leaf': 1, 'min_samples_split': 5, 'n_estimators': 100}\n",
      "Best cross-validation accuracy: 0.4714285714285714\n",
      "Optimizing hyperparameters for MAG_RPCA, traintest_1...\n"
     ]
    },
    {
     "name": "stderr",
     "output_type": "stream",
     "text": [
      "/Users/biacordazzo/opt/anaconda3/envs/qiime2-amplicon-2024.5/lib/python3.9/site-packages/sklearn/base.py:486: UserWarning: X has feature names, but RandomForestClassifier was fitted without feature names\n",
      "  warnings.warn(\n"
     ]
    },
    {
     "name": "stdout",
     "output_type": "stream",
     "text": [
      "Best parameters found: {'bootstrap': True, 'max_depth': None, 'min_samples_leaf': 2, 'min_samples_split': 10, 'n_estimators': 100}\n",
      "Best cross-validation accuracy: 0.5071428571428571\n",
      "Optimizing hyperparameters for MAG_RPCA, traintest_2...\n"
     ]
    },
    {
     "name": "stderr",
     "output_type": "stream",
     "text": [
      "/Users/biacordazzo/opt/anaconda3/envs/qiime2-amplicon-2024.5/lib/python3.9/site-packages/sklearn/base.py:486: UserWarning: X has feature names, but RandomForestClassifier was fitted without feature names\n",
      "  warnings.warn(\n"
     ]
    },
    {
     "name": "stdout",
     "output_type": "stream",
     "text": [
      "Best parameters found: {'bootstrap': True, 'max_depth': None, 'min_samples_leaf': 2, 'min_samples_split': 10, 'n_estimators': 300}\n",
      "Best cross-validation accuracy: 0.4892857142857142\n",
      "Optimizing hyperparameters for MAG_RPCA, traintest_3...\n"
     ]
    },
    {
     "name": "stderr",
     "output_type": "stream",
     "text": [
      "/Users/biacordazzo/opt/anaconda3/envs/qiime2-amplicon-2024.5/lib/python3.9/site-packages/sklearn/base.py:486: UserWarning: X has feature names, but RandomForestClassifier was fitted without feature names\n",
      "  warnings.warn(\n",
      "/Users/biacordazzo/opt/anaconda3/envs/qiime2-amplicon-2024.5/lib/python3.9/site-packages/sklearn/metrics/_classification.py:1509: UndefinedMetricWarning: Precision is ill-defined and being set to 0.0 in labels with no predicted samples. Use `zero_division` parameter to control this behavior.\n",
      "  _warn_prf(average, modifier, f\"{metric.capitalize()} is\", len(result))\n",
      "/Users/biacordazzo/opt/anaconda3/envs/qiime2-amplicon-2024.5/lib/python3.9/site-packages/sklearn/metrics/_classification.py:1509: UndefinedMetricWarning: Precision is ill-defined and being set to 0.0 in labels with no predicted samples. Use `zero_division` parameter to control this behavior.\n",
      "  _warn_prf(average, modifier, f\"{metric.capitalize()} is\", len(result))\n",
      "/Users/biacordazzo/opt/anaconda3/envs/qiime2-amplicon-2024.5/lib/python3.9/site-packages/sklearn/metrics/_classification.py:1509: UndefinedMetricWarning: Precision is ill-defined and being set to 0.0 in labels with no predicted samples. Use `zero_division` parameter to control this behavior.\n",
      "  _warn_prf(average, modifier, f\"{metric.capitalize()} is\", len(result))\n"
     ]
    },
    {
     "name": "stdout",
     "output_type": "stream",
     "text": [
      "Best parameters found: {'bootstrap': False, 'max_depth': None, 'min_samples_leaf': 2, 'min_samples_split': 10, 'n_estimators': 100}\n",
      "Best cross-validation accuracy: 0.48571428571428565\n",
      "Optimizing hyperparameters for MAG_RPCA, traintest_4...\n"
     ]
    },
    {
     "name": "stderr",
     "output_type": "stream",
     "text": [
      "/Users/biacordazzo/opt/anaconda3/envs/qiime2-amplicon-2024.5/lib/python3.9/site-packages/sklearn/base.py:486: UserWarning: X has feature names, but RandomForestClassifier was fitted without feature names\n",
      "  warnings.warn(\n",
      "/Users/biacordazzo/opt/anaconda3/envs/qiime2-amplicon-2024.5/lib/python3.9/site-packages/sklearn/metrics/_classification.py:1509: UndefinedMetricWarning: Precision is ill-defined and being set to 0.0 in labels with no predicted samples. Use `zero_division` parameter to control this behavior.\n",
      "  _warn_prf(average, modifier, f\"{metric.capitalize()} is\", len(result))\n",
      "/Users/biacordazzo/opt/anaconda3/envs/qiime2-amplicon-2024.5/lib/python3.9/site-packages/sklearn/metrics/_classification.py:1509: UndefinedMetricWarning: Precision is ill-defined and being set to 0.0 in labels with no predicted samples. Use `zero_division` parameter to control this behavior.\n",
      "  _warn_prf(average, modifier, f\"{metric.capitalize()} is\", len(result))\n",
      "/Users/biacordazzo/opt/anaconda3/envs/qiime2-amplicon-2024.5/lib/python3.9/site-packages/sklearn/metrics/_classification.py:1509: UndefinedMetricWarning: Precision is ill-defined and being set to 0.0 in labels with no predicted samples. Use `zero_division` parameter to control this behavior.\n",
      "  _warn_prf(average, modifier, f\"{metric.capitalize()} is\", len(result))\n"
     ]
    },
    {
     "name": "stdout",
     "output_type": "stream",
     "text": [
      "Best parameters found: {'bootstrap': True, 'max_depth': 10, 'min_samples_leaf': 2, 'min_samples_split': 10, 'n_estimators': 300}\n",
      "Best cross-validation accuracy: 0.4071428571428572\n",
      "Optimizing hyperparameters for MAG_RPCA, traintest_5...\n"
     ]
    },
    {
     "name": "stderr",
     "output_type": "stream",
     "text": [
      "/Users/biacordazzo/opt/anaconda3/envs/qiime2-amplicon-2024.5/lib/python3.9/site-packages/sklearn/base.py:486: UserWarning: X has feature names, but RandomForestClassifier was fitted without feature names\n",
      "  warnings.warn(\n",
      "/Users/biacordazzo/opt/anaconda3/envs/qiime2-amplicon-2024.5/lib/python3.9/site-packages/sklearn/metrics/_classification.py:1509: UndefinedMetricWarning: Precision is ill-defined and being set to 0.0 in labels with no predicted samples. Use `zero_division` parameter to control this behavior.\n",
      "  _warn_prf(average, modifier, f\"{metric.capitalize()} is\", len(result))\n",
      "/Users/biacordazzo/opt/anaconda3/envs/qiime2-amplicon-2024.5/lib/python3.9/site-packages/sklearn/metrics/_classification.py:1509: UndefinedMetricWarning: Precision is ill-defined and being set to 0.0 in labels with no predicted samples. Use `zero_division` parameter to control this behavior.\n",
      "  _warn_prf(average, modifier, f\"{metric.capitalize()} is\", len(result))\n",
      "/Users/biacordazzo/opt/anaconda3/envs/qiime2-amplicon-2024.5/lib/python3.9/site-packages/sklearn/metrics/_classification.py:1509: UndefinedMetricWarning: Precision is ill-defined and being set to 0.0 in labels with no predicted samples. Use `zero_division` parameter to control this behavior.\n",
      "  _warn_prf(average, modifier, f\"{metric.capitalize()} is\", len(result))\n"
     ]
    },
    {
     "name": "stdout",
     "output_type": "stream",
     "text": [
      "Best parameters found: {'bootstrap': True, 'max_depth': None, 'min_samples_leaf': 2, 'min_samples_split': 10, 'n_estimators': 200}\n",
      "Best cross-validation accuracy: 0.5071428571428571\n",
      "Optimizing hyperparameters for MAG_RPCA, traintest_6...\n"
     ]
    },
    {
     "name": "stderr",
     "output_type": "stream",
     "text": [
      "/Users/biacordazzo/opt/anaconda3/envs/qiime2-amplicon-2024.5/lib/python3.9/site-packages/sklearn/base.py:486: UserWarning: X has feature names, but RandomForestClassifier was fitted without feature names\n",
      "  warnings.warn(\n",
      "/Users/biacordazzo/opt/anaconda3/envs/qiime2-amplicon-2024.5/lib/python3.9/site-packages/sklearn/metrics/_classification.py:1509: UndefinedMetricWarning: Precision is ill-defined and being set to 0.0 in labels with no predicted samples. Use `zero_division` parameter to control this behavior.\n",
      "  _warn_prf(average, modifier, f\"{metric.capitalize()} is\", len(result))\n",
      "/Users/biacordazzo/opt/anaconda3/envs/qiime2-amplicon-2024.5/lib/python3.9/site-packages/sklearn/metrics/_classification.py:1509: UndefinedMetricWarning: Precision is ill-defined and being set to 0.0 in labels with no predicted samples. Use `zero_division` parameter to control this behavior.\n",
      "  _warn_prf(average, modifier, f\"{metric.capitalize()} is\", len(result))\n",
      "/Users/biacordazzo/opt/anaconda3/envs/qiime2-amplicon-2024.5/lib/python3.9/site-packages/sklearn/metrics/_classification.py:1509: UndefinedMetricWarning: Precision is ill-defined and being set to 0.0 in labels with no predicted samples. Use `zero_division` parameter to control this behavior.\n",
      "  _warn_prf(average, modifier, f\"{metric.capitalize()} is\", len(result))\n"
     ]
    },
    {
     "name": "stdout",
     "output_type": "stream",
     "text": [
      "Best parameters found: {'bootstrap': True, 'max_depth': None, 'min_samples_leaf': 4, 'min_samples_split': 10, 'n_estimators': 300}\n",
      "Best cross-validation accuracy: 0.5392857142857143\n",
      "Optimizing hyperparameters for MAG_RPCA, traintest_7...\n"
     ]
    },
    {
     "name": "stderr",
     "output_type": "stream",
     "text": [
      "/Users/biacordazzo/opt/anaconda3/envs/qiime2-amplicon-2024.5/lib/python3.9/site-packages/sklearn/base.py:486: UserWarning: X has feature names, but RandomForestClassifier was fitted without feature names\n",
      "  warnings.warn(\n",
      "/Users/biacordazzo/opt/anaconda3/envs/qiime2-amplicon-2024.5/lib/python3.9/site-packages/sklearn/metrics/_classification.py:1509: UndefinedMetricWarning: Precision is ill-defined and being set to 0.0 in labels with no predicted samples. Use `zero_division` parameter to control this behavior.\n",
      "  _warn_prf(average, modifier, f\"{metric.capitalize()} is\", len(result))\n",
      "/Users/biacordazzo/opt/anaconda3/envs/qiime2-amplicon-2024.5/lib/python3.9/site-packages/sklearn/metrics/_classification.py:1509: UndefinedMetricWarning: Precision is ill-defined and being set to 0.0 in labels with no predicted samples. Use `zero_division` parameter to control this behavior.\n",
      "  _warn_prf(average, modifier, f\"{metric.capitalize()} is\", len(result))\n",
      "/Users/biacordazzo/opt/anaconda3/envs/qiime2-amplicon-2024.5/lib/python3.9/site-packages/sklearn/metrics/_classification.py:1509: UndefinedMetricWarning: Precision is ill-defined and being set to 0.0 in labels with no predicted samples. Use `zero_division` parameter to control this behavior.\n",
      "  _warn_prf(average, modifier, f\"{metric.capitalize()} is\", len(result))\n"
     ]
    },
    {
     "name": "stdout",
     "output_type": "stream",
     "text": [
      "Best parameters found: {'bootstrap': False, 'max_depth': None, 'min_samples_leaf': 2, 'min_samples_split': 5, 'n_estimators': 100}\n",
      "Best cross-validation accuracy: 0.49642857142857144\n",
      "Optimizing hyperparameters for MAG_RPCA, traintest_8...\n"
     ]
    },
    {
     "name": "stderr",
     "output_type": "stream",
     "text": [
      "/Users/biacordazzo/opt/anaconda3/envs/qiime2-amplicon-2024.5/lib/python3.9/site-packages/sklearn/base.py:486: UserWarning: X has feature names, but RandomForestClassifier was fitted without feature names\n",
      "  warnings.warn(\n",
      "/Users/biacordazzo/opt/anaconda3/envs/qiime2-amplicon-2024.5/lib/python3.9/site-packages/sklearn/metrics/_classification.py:1509: UndefinedMetricWarning: Precision is ill-defined and being set to 0.0 in labels with no predicted samples. Use `zero_division` parameter to control this behavior.\n",
      "  _warn_prf(average, modifier, f\"{metric.capitalize()} is\", len(result))\n",
      "/Users/biacordazzo/opt/anaconda3/envs/qiime2-amplicon-2024.5/lib/python3.9/site-packages/sklearn/metrics/_classification.py:1509: UndefinedMetricWarning: Precision is ill-defined and being set to 0.0 in labels with no predicted samples. Use `zero_division` parameter to control this behavior.\n",
      "  _warn_prf(average, modifier, f\"{metric.capitalize()} is\", len(result))\n",
      "/Users/biacordazzo/opt/anaconda3/envs/qiime2-amplicon-2024.5/lib/python3.9/site-packages/sklearn/metrics/_classification.py:1509: UndefinedMetricWarning: Precision is ill-defined and being set to 0.0 in labels with no predicted samples. Use `zero_division` parameter to control this behavior.\n",
      "  _warn_prf(average, modifier, f\"{metric.capitalize()} is\", len(result))\n"
     ]
    },
    {
     "name": "stdout",
     "output_type": "stream",
     "text": [
      "Best parameters found: {'bootstrap': True, 'max_depth': None, 'min_samples_leaf': 4, 'min_samples_split': 10, 'n_estimators': 200}\n",
      "Best cross-validation accuracy: 0.4642857142857143\n",
      "Optimizing hyperparameters for MAG_RPCA, traintest_9...\n"
     ]
    },
    {
     "name": "stderr",
     "output_type": "stream",
     "text": [
      "/Users/biacordazzo/opt/anaconda3/envs/qiime2-amplicon-2024.5/lib/python3.9/site-packages/sklearn/base.py:486: UserWarning: X has feature names, but RandomForestClassifier was fitted without feature names\n",
      "  warnings.warn(\n",
      "/Users/biacordazzo/opt/anaconda3/envs/qiime2-amplicon-2024.5/lib/python3.9/site-packages/sklearn/metrics/_classification.py:1509: UndefinedMetricWarning: Precision is ill-defined and being set to 0.0 in labels with no predicted samples. Use `zero_division` parameter to control this behavior.\n",
      "  _warn_prf(average, modifier, f\"{metric.capitalize()} is\", len(result))\n",
      "/Users/biacordazzo/opt/anaconda3/envs/qiime2-amplicon-2024.5/lib/python3.9/site-packages/sklearn/metrics/_classification.py:1509: UndefinedMetricWarning: Precision is ill-defined and being set to 0.0 in labels with no predicted samples. Use `zero_division` parameter to control this behavior.\n",
      "  _warn_prf(average, modifier, f\"{metric.capitalize()} is\", len(result))\n",
      "/Users/biacordazzo/opt/anaconda3/envs/qiime2-amplicon-2024.5/lib/python3.9/site-packages/sklearn/metrics/_classification.py:1509: UndefinedMetricWarning: Precision is ill-defined and being set to 0.0 in labels with no predicted samples. Use `zero_division` parameter to control this behavior.\n",
      "  _warn_prf(average, modifier, f\"{metric.capitalize()} is\", len(result))\n"
     ]
    },
    {
     "name": "stdout",
     "output_type": "stream",
     "text": [
      "Best parameters found: {'bootstrap': False, 'max_depth': 10, 'min_samples_leaf': 2, 'min_samples_split': 2, 'n_estimators': 100}\n",
      "Best cross-validation accuracy: 0.5214285714285715\n",
      "Optimizing hyperparameters for Gene_RPCA, traintest_0...\n"
     ]
    },
    {
     "name": "stderr",
     "output_type": "stream",
     "text": [
      "/Users/biacordazzo/opt/anaconda3/envs/qiime2-amplicon-2024.5/lib/python3.9/site-packages/sklearn/base.py:486: UserWarning: X has feature names, but RandomForestClassifier was fitted without feature names\n",
      "  warnings.warn(\n"
     ]
    },
    {
     "name": "stdout",
     "output_type": "stream",
     "text": [
      "Best parameters found: {'bootstrap': False, 'max_depth': 10, 'min_samples_leaf': 1, 'min_samples_split': 10, 'n_estimators': 100}\n",
      "Best cross-validation accuracy: 0.4714285714285714\n",
      "Optimizing hyperparameters for Gene_RPCA, traintest_1...\n"
     ]
    },
    {
     "name": "stderr",
     "output_type": "stream",
     "text": [
      "/Users/biacordazzo/opt/anaconda3/envs/qiime2-amplicon-2024.5/lib/python3.9/site-packages/sklearn/base.py:486: UserWarning: X has feature names, but RandomForestClassifier was fitted without feature names\n",
      "  warnings.warn(\n"
     ]
    },
    {
     "name": "stdout",
     "output_type": "stream",
     "text": [
      "Best parameters found: {'bootstrap': True, 'max_depth': 10, 'min_samples_leaf': 1, 'min_samples_split': 10, 'n_estimators': 100}\n",
      "Best cross-validation accuracy: 0.5071428571428571\n",
      "Optimizing hyperparameters for Gene_RPCA, traintest_2...\n"
     ]
    },
    {
     "name": "stderr",
     "output_type": "stream",
     "text": [
      "/Users/biacordazzo/opt/anaconda3/envs/qiime2-amplicon-2024.5/lib/python3.9/site-packages/sklearn/base.py:486: UserWarning: X has feature names, but RandomForestClassifier was fitted without feature names\n",
      "  warnings.warn(\n"
     ]
    },
    {
     "name": "stdout",
     "output_type": "stream",
     "text": [
      "Best parameters found: {'bootstrap': True, 'max_depth': None, 'min_samples_leaf': 4, 'min_samples_split': 10, 'n_estimators': 300}\n",
      "Best cross-validation accuracy: 0.5178571428571429\n",
      "Optimizing hyperparameters for Gene_RPCA, traintest_3...\n"
     ]
    },
    {
     "name": "stderr",
     "output_type": "stream",
     "text": [
      "/Users/biacordazzo/opt/anaconda3/envs/qiime2-amplicon-2024.5/lib/python3.9/site-packages/sklearn/base.py:486: UserWarning: X has feature names, but RandomForestClassifier was fitted without feature names\n",
      "  warnings.warn(\n"
     ]
    },
    {
     "name": "stdout",
     "output_type": "stream",
     "text": [
      "Best parameters found: {'bootstrap': True, 'max_depth': None, 'min_samples_leaf': 4, 'min_samples_split': 10, 'n_estimators': 300}\n",
      "Best cross-validation accuracy: 0.5607142857142857\n",
      "Optimizing hyperparameters for Gene_RPCA, traintest_4...\n"
     ]
    },
    {
     "name": "stderr",
     "output_type": "stream",
     "text": [
      "/Users/biacordazzo/opt/anaconda3/envs/qiime2-amplicon-2024.5/lib/python3.9/site-packages/sklearn/base.py:486: UserWarning: X has feature names, but RandomForestClassifier was fitted without feature names\n",
      "  warnings.warn(\n",
      "/Users/biacordazzo/opt/anaconda3/envs/qiime2-amplicon-2024.5/lib/python3.9/site-packages/sklearn/metrics/_classification.py:1509: UndefinedMetricWarning: Precision is ill-defined and being set to 0.0 in labels with no predicted samples. Use `zero_division` parameter to control this behavior.\n",
      "  _warn_prf(average, modifier, f\"{metric.capitalize()} is\", len(result))\n",
      "/Users/biacordazzo/opt/anaconda3/envs/qiime2-amplicon-2024.5/lib/python3.9/site-packages/sklearn/metrics/_classification.py:1509: UndefinedMetricWarning: Precision is ill-defined and being set to 0.0 in labels with no predicted samples. Use `zero_division` parameter to control this behavior.\n",
      "  _warn_prf(average, modifier, f\"{metric.capitalize()} is\", len(result))\n",
      "/Users/biacordazzo/opt/anaconda3/envs/qiime2-amplicon-2024.5/lib/python3.9/site-packages/sklearn/metrics/_classification.py:1509: UndefinedMetricWarning: Precision is ill-defined and being set to 0.0 in labels with no predicted samples. Use `zero_division` parameter to control this behavior.\n",
      "  _warn_prf(average, modifier, f\"{metric.capitalize()} is\", len(result))\n"
     ]
    },
    {
     "name": "stdout",
     "output_type": "stream",
     "text": [
      "Best parameters found: {'bootstrap': True, 'max_depth': None, 'min_samples_leaf': 4, 'min_samples_split': 10, 'n_estimators': 200}\n",
      "Best cross-validation accuracy: 0.5392857142857144\n",
      "Optimizing hyperparameters for Gene_RPCA, traintest_5...\n"
     ]
    },
    {
     "name": "stderr",
     "output_type": "stream",
     "text": [
      "/Users/biacordazzo/opt/anaconda3/envs/qiime2-amplicon-2024.5/lib/python3.9/site-packages/sklearn/base.py:486: UserWarning: X has feature names, but RandomForestClassifier was fitted without feature names\n",
      "  warnings.warn(\n",
      "/Users/biacordazzo/opt/anaconda3/envs/qiime2-amplicon-2024.5/lib/python3.9/site-packages/sklearn/metrics/_classification.py:1509: UndefinedMetricWarning: Precision is ill-defined and being set to 0.0 in labels with no predicted samples. Use `zero_division` parameter to control this behavior.\n",
      "  _warn_prf(average, modifier, f\"{metric.capitalize()} is\", len(result))\n",
      "/Users/biacordazzo/opt/anaconda3/envs/qiime2-amplicon-2024.5/lib/python3.9/site-packages/sklearn/metrics/_classification.py:1509: UndefinedMetricWarning: Precision is ill-defined and being set to 0.0 in labels with no predicted samples. Use `zero_division` parameter to control this behavior.\n",
      "  _warn_prf(average, modifier, f\"{metric.capitalize()} is\", len(result))\n",
      "/Users/biacordazzo/opt/anaconda3/envs/qiime2-amplicon-2024.5/lib/python3.9/site-packages/sklearn/metrics/_classification.py:1509: UndefinedMetricWarning: Precision is ill-defined and being set to 0.0 in labels with no predicted samples. Use `zero_division` parameter to control this behavior.\n",
      "  _warn_prf(average, modifier, f\"{metric.capitalize()} is\", len(result))\n"
     ]
    },
    {
     "name": "stdout",
     "output_type": "stream",
     "text": [
      "Best parameters found: {'bootstrap': True, 'max_depth': None, 'min_samples_leaf': 4, 'min_samples_split': 10, 'n_estimators': 200}\n",
      "Best cross-validation accuracy: 0.48571428571428565\n",
      "Optimizing hyperparameters for Gene_RPCA, traintest_6...\n"
     ]
    },
    {
     "name": "stderr",
     "output_type": "stream",
     "text": [
      "/Users/biacordazzo/opt/anaconda3/envs/qiime2-amplicon-2024.5/lib/python3.9/site-packages/sklearn/base.py:486: UserWarning: X has feature names, but RandomForestClassifier was fitted without feature names\n",
      "  warnings.warn(\n",
      "/Users/biacordazzo/opt/anaconda3/envs/qiime2-amplicon-2024.5/lib/python3.9/site-packages/sklearn/metrics/_classification.py:1509: UndefinedMetricWarning: Precision is ill-defined and being set to 0.0 in labels with no predicted samples. Use `zero_division` parameter to control this behavior.\n",
      "  _warn_prf(average, modifier, f\"{metric.capitalize()} is\", len(result))\n",
      "/Users/biacordazzo/opt/anaconda3/envs/qiime2-amplicon-2024.5/lib/python3.9/site-packages/sklearn/metrics/_classification.py:1509: UndefinedMetricWarning: Precision is ill-defined and being set to 0.0 in labels with no predicted samples. Use `zero_division` parameter to control this behavior.\n",
      "  _warn_prf(average, modifier, f\"{metric.capitalize()} is\", len(result))\n",
      "/Users/biacordazzo/opt/anaconda3/envs/qiime2-amplicon-2024.5/lib/python3.9/site-packages/sklearn/metrics/_classification.py:1509: UndefinedMetricWarning: Precision is ill-defined and being set to 0.0 in labels with no predicted samples. Use `zero_division` parameter to control this behavior.\n",
      "  _warn_prf(average, modifier, f\"{metric.capitalize()} is\", len(result))\n"
     ]
    },
    {
     "name": "stdout",
     "output_type": "stream",
     "text": [
      "Best parameters found: {'bootstrap': True, 'max_depth': None, 'min_samples_leaf': 4, 'min_samples_split': 10, 'n_estimators': 100}\n",
      "Best cross-validation accuracy: 0.5214285714285715\n",
      "Optimizing hyperparameters for Gene_RPCA, traintest_7...\n"
     ]
    },
    {
     "name": "stderr",
     "output_type": "stream",
     "text": [
      "/Users/biacordazzo/opt/anaconda3/envs/qiime2-amplicon-2024.5/lib/python3.9/site-packages/sklearn/base.py:486: UserWarning: X has feature names, but RandomForestClassifier was fitted without feature names\n",
      "  warnings.warn(\n"
     ]
    },
    {
     "name": "stdout",
     "output_type": "stream",
     "text": [
      "Best parameters found: {'bootstrap': True, 'max_depth': None, 'min_samples_leaf': 2, 'min_samples_split': 10, 'n_estimators': 100}\n",
      "Best cross-validation accuracy: 0.5178571428571429\n",
      "Optimizing hyperparameters for Gene_RPCA, traintest_8...\n"
     ]
    },
    {
     "name": "stderr",
     "output_type": "stream",
     "text": [
      "/Users/biacordazzo/opt/anaconda3/envs/qiime2-amplicon-2024.5/lib/python3.9/site-packages/sklearn/base.py:486: UserWarning: X has feature names, but RandomForestClassifier was fitted without feature names\n",
      "  warnings.warn(\n"
     ]
    },
    {
     "name": "stdout",
     "output_type": "stream",
     "text": [
      "Best parameters found: {'bootstrap': True, 'max_depth': None, 'min_samples_leaf': 4, 'min_samples_split': 10, 'n_estimators': 200}\n",
      "Best cross-validation accuracy: 0.525\n",
      "Optimizing hyperparameters for Gene_RPCA, traintest_9...\n"
     ]
    },
    {
     "name": "stderr",
     "output_type": "stream",
     "text": [
      "/Users/biacordazzo/opt/anaconda3/envs/qiime2-amplicon-2024.5/lib/python3.9/site-packages/sklearn/base.py:486: UserWarning: X has feature names, but RandomForestClassifier was fitted without feature names\n",
      "  warnings.warn(\n",
      "/Users/biacordazzo/opt/anaconda3/envs/qiime2-amplicon-2024.5/lib/python3.9/site-packages/sklearn/metrics/_classification.py:1509: UndefinedMetricWarning: Precision is ill-defined and being set to 0.0 in labels with no predicted samples. Use `zero_division` parameter to control this behavior.\n",
      "  _warn_prf(average, modifier, f\"{metric.capitalize()} is\", len(result))\n",
      "/Users/biacordazzo/opt/anaconda3/envs/qiime2-amplicon-2024.5/lib/python3.9/site-packages/sklearn/metrics/_classification.py:1509: UndefinedMetricWarning: Precision is ill-defined and being set to 0.0 in labels with no predicted samples. Use `zero_division` parameter to control this behavior.\n",
      "  _warn_prf(average, modifier, f\"{metric.capitalize()} is\", len(result))\n",
      "/Users/biacordazzo/opt/anaconda3/envs/qiime2-amplicon-2024.5/lib/python3.9/site-packages/sklearn/metrics/_classification.py:1509: UndefinedMetricWarning: Precision is ill-defined and being set to 0.0 in labels with no predicted samples. Use `zero_division` parameter to control this behavior.\n",
      "  _warn_prf(average, modifier, f\"{metric.capitalize()} is\", len(result))\n"
     ]
    },
    {
     "name": "stdout",
     "output_type": "stream",
     "text": [
      "Best parameters found: {'bootstrap': True, 'max_depth': None, 'min_samples_leaf': 2, 'min_samples_split': 5, 'n_estimators': 300}\n",
      "Best cross-validation accuracy: 0.49642857142857144\n",
      "Optimizing hyperparameters for Gene_Module_RPCA, traintest_0...\n"
     ]
    },
    {
     "name": "stderr",
     "output_type": "stream",
     "text": [
      "/Users/biacordazzo/opt/anaconda3/envs/qiime2-amplicon-2024.5/lib/python3.9/site-packages/sklearn/base.py:486: UserWarning: X has feature names, but RandomForestClassifier was fitted without feature names\n",
      "  warnings.warn(\n"
     ]
    },
    {
     "name": "stdout",
     "output_type": "stream",
     "text": [
      "Best parameters found: {'bootstrap': True, 'max_depth': None, 'min_samples_leaf': 1, 'min_samples_split': 2, 'n_estimators': 100}\n",
      "Best cross-validation accuracy: 0.4642857142857143\n",
      "Optimizing hyperparameters for Gene_Module_RPCA, traintest_1...\n"
     ]
    },
    {
     "name": "stderr",
     "output_type": "stream",
     "text": [
      "/Users/biacordazzo/opt/anaconda3/envs/qiime2-amplicon-2024.5/lib/python3.9/site-packages/sklearn/base.py:486: UserWarning: X has feature names, but RandomForestClassifier was fitted without feature names\n",
      "  warnings.warn(\n"
     ]
    },
    {
     "name": "stdout",
     "output_type": "stream",
     "text": [
      "Best parameters found: {'bootstrap': False, 'max_depth': 10, 'min_samples_leaf': 1, 'min_samples_split': 2, 'n_estimators': 100}\n",
      "Best cross-validation accuracy: 0.49642857142857144\n",
      "Optimizing hyperparameters for Gene_Module_RPCA, traintest_2...\n"
     ]
    },
    {
     "name": "stderr",
     "output_type": "stream",
     "text": [
      "/Users/biacordazzo/opt/anaconda3/envs/qiime2-amplicon-2024.5/lib/python3.9/site-packages/sklearn/base.py:486: UserWarning: X has feature names, but RandomForestClassifier was fitted without feature names\n",
      "  warnings.warn(\n",
      "/Users/biacordazzo/opt/anaconda3/envs/qiime2-amplicon-2024.5/lib/python3.9/site-packages/sklearn/metrics/_classification.py:1509: UndefinedMetricWarning: Precision is ill-defined and being set to 0.0 in labels with no predicted samples. Use `zero_division` parameter to control this behavior.\n",
      "  _warn_prf(average, modifier, f\"{metric.capitalize()} is\", len(result))\n",
      "/Users/biacordazzo/opt/anaconda3/envs/qiime2-amplicon-2024.5/lib/python3.9/site-packages/sklearn/metrics/_classification.py:1509: UndefinedMetricWarning: Precision is ill-defined and being set to 0.0 in labels with no predicted samples. Use `zero_division` parameter to control this behavior.\n",
      "  _warn_prf(average, modifier, f\"{metric.capitalize()} is\", len(result))\n",
      "/Users/biacordazzo/opt/anaconda3/envs/qiime2-amplicon-2024.5/lib/python3.9/site-packages/sklearn/metrics/_classification.py:1509: UndefinedMetricWarning: Precision is ill-defined and being set to 0.0 in labels with no predicted samples. Use `zero_division` parameter to control this behavior.\n",
      "  _warn_prf(average, modifier, f\"{metric.capitalize()} is\", len(result))\n"
     ]
    },
    {
     "name": "stdout",
     "output_type": "stream",
     "text": [
      "Best parameters found: {'bootstrap': True, 'max_depth': None, 'min_samples_leaf': 1, 'min_samples_split': 5, 'n_estimators': 200}\n",
      "Best cross-validation accuracy: 0.5142857142857142\n",
      "Optimizing hyperparameters for Gene_Module_RPCA, traintest_3...\n"
     ]
    },
    {
     "name": "stderr",
     "output_type": "stream",
     "text": [
      "/Users/biacordazzo/opt/anaconda3/envs/qiime2-amplicon-2024.5/lib/python3.9/site-packages/sklearn/base.py:486: UserWarning: X has feature names, but RandomForestClassifier was fitted without feature names\n",
      "  warnings.warn(\n"
     ]
    },
    {
     "name": "stdout",
     "output_type": "stream",
     "text": [
      "Best parameters found: {'bootstrap': True, 'max_depth': None, 'min_samples_leaf': 4, 'min_samples_split': 2, 'n_estimators': 300}\n",
      "Best cross-validation accuracy: 0.49642857142857133\n",
      "Optimizing hyperparameters for Gene_Module_RPCA, traintest_4...\n"
     ]
    },
    {
     "name": "stderr",
     "output_type": "stream",
     "text": [
      "/Users/biacordazzo/opt/anaconda3/envs/qiime2-amplicon-2024.5/lib/python3.9/site-packages/sklearn/base.py:486: UserWarning: X has feature names, but RandomForestClassifier was fitted without feature names\n",
      "  warnings.warn(\n",
      "/Users/biacordazzo/opt/anaconda3/envs/qiime2-amplicon-2024.5/lib/python3.9/site-packages/sklearn/metrics/_classification.py:1509: UndefinedMetricWarning: Precision is ill-defined and being set to 0.0 in labels with no predicted samples. Use `zero_division` parameter to control this behavior.\n",
      "  _warn_prf(average, modifier, f\"{metric.capitalize()} is\", len(result))\n",
      "/Users/biacordazzo/opt/anaconda3/envs/qiime2-amplicon-2024.5/lib/python3.9/site-packages/sklearn/metrics/_classification.py:1509: UndefinedMetricWarning: Precision is ill-defined and being set to 0.0 in labels with no predicted samples. Use `zero_division` parameter to control this behavior.\n",
      "  _warn_prf(average, modifier, f\"{metric.capitalize()} is\", len(result))\n",
      "/Users/biacordazzo/opt/anaconda3/envs/qiime2-amplicon-2024.5/lib/python3.9/site-packages/sklearn/metrics/_classification.py:1509: UndefinedMetricWarning: Precision is ill-defined and being set to 0.0 in labels with no predicted samples. Use `zero_division` parameter to control this behavior.\n",
      "  _warn_prf(average, modifier, f\"{metric.capitalize()} is\", len(result))\n"
     ]
    },
    {
     "name": "stdout",
     "output_type": "stream",
     "text": [
      "Best parameters found: {'bootstrap': True, 'max_depth': None, 'min_samples_leaf': 2, 'min_samples_split': 2, 'n_estimators': 100}\n",
      "Best cross-validation accuracy: 0.4535714285714286\n",
      "Optimizing hyperparameters for Gene_Module_RPCA, traintest_5...\n"
     ]
    },
    {
     "name": "stderr",
     "output_type": "stream",
     "text": [
      "/Users/biacordazzo/opt/anaconda3/envs/qiime2-amplicon-2024.5/lib/python3.9/site-packages/sklearn/base.py:486: UserWarning: X has feature names, but RandomForestClassifier was fitted without feature names\n",
      "  warnings.warn(\n"
     ]
    },
    {
     "name": "stdout",
     "output_type": "stream",
     "text": [
      "Best parameters found: {'bootstrap': True, 'max_depth': 10, 'min_samples_leaf': 2, 'min_samples_split': 10, 'n_estimators': 300}\n",
      "Best cross-validation accuracy: 0.5357142857142857\n",
      "Optimizing hyperparameters for Gene_Module_RPCA, traintest_6...\n"
     ]
    },
    {
     "name": "stderr",
     "output_type": "stream",
     "text": [
      "/Users/biacordazzo/opt/anaconda3/envs/qiime2-amplicon-2024.5/lib/python3.9/site-packages/sklearn/base.py:486: UserWarning: X has feature names, but RandomForestClassifier was fitted without feature names\n",
      "  warnings.warn(\n"
     ]
    },
    {
     "name": "stdout",
     "output_type": "stream",
     "text": [
      "Best parameters found: {'bootstrap': True, 'max_depth': None, 'min_samples_leaf': 2, 'min_samples_split': 2, 'n_estimators': 200}\n",
      "Best cross-validation accuracy: 0.5285714285714287\n",
      "Optimizing hyperparameters for Gene_Module_RPCA, traintest_7...\n"
     ]
    },
    {
     "name": "stderr",
     "output_type": "stream",
     "text": [
      "/Users/biacordazzo/opt/anaconda3/envs/qiime2-amplicon-2024.5/lib/python3.9/site-packages/sklearn/base.py:486: UserWarning: X has feature names, but RandomForestClassifier was fitted without feature names\n",
      "  warnings.warn(\n"
     ]
    },
    {
     "name": "stdout",
     "output_type": "stream",
     "text": [
      "Best parameters found: {'bootstrap': False, 'max_depth': None, 'min_samples_leaf': 2, 'min_samples_split': 5, 'n_estimators': 100}\n",
      "Best cross-validation accuracy: 0.5142857142857142\n",
      "Optimizing hyperparameters for Gene_Module_RPCA, traintest_8...\n"
     ]
    },
    {
     "name": "stderr",
     "output_type": "stream",
     "text": [
      "/Users/biacordazzo/opt/anaconda3/envs/qiime2-amplicon-2024.5/lib/python3.9/site-packages/sklearn/base.py:486: UserWarning: X has feature names, but RandomForestClassifier was fitted without feature names\n",
      "  warnings.warn(\n"
     ]
    },
    {
     "name": "stdout",
     "output_type": "stream",
     "text": [
      "Best parameters found: {'bootstrap': True, 'max_depth': 10, 'min_samples_leaf': 2, 'min_samples_split': 10, 'n_estimators': 100}\n",
      "Best cross-validation accuracy: 0.46785714285714286\n",
      "Optimizing hyperparameters for Gene_Module_RPCA, traintest_9...\n"
     ]
    },
    {
     "name": "stderr",
     "output_type": "stream",
     "text": [
      "/Users/biacordazzo/opt/anaconda3/envs/qiime2-amplicon-2024.5/lib/python3.9/site-packages/sklearn/base.py:486: UserWarning: X has feature names, but RandomForestClassifier was fitted without feature names\n",
      "  warnings.warn(\n",
      "/Users/biacordazzo/opt/anaconda3/envs/qiime2-amplicon-2024.5/lib/python3.9/site-packages/sklearn/metrics/_classification.py:1509: UndefinedMetricWarning: Precision is ill-defined and being set to 0.0 in labels with no predicted samples. Use `zero_division` parameter to control this behavior.\n",
      "  _warn_prf(average, modifier, f\"{metric.capitalize()} is\", len(result))\n",
      "/Users/biacordazzo/opt/anaconda3/envs/qiime2-amplicon-2024.5/lib/python3.9/site-packages/sklearn/metrics/_classification.py:1509: UndefinedMetricWarning: Precision is ill-defined and being set to 0.0 in labels with no predicted samples. Use `zero_division` parameter to control this behavior.\n",
      "  _warn_prf(average, modifier, f\"{metric.capitalize()} is\", len(result))\n",
      "/Users/biacordazzo/opt/anaconda3/envs/qiime2-amplicon-2024.5/lib/python3.9/site-packages/sklearn/metrics/_classification.py:1509: UndefinedMetricWarning: Precision is ill-defined and being set to 0.0 in labels with no predicted samples. Use `zero_division` parameter to control this behavior.\n",
      "  _warn_prf(average, modifier, f\"{metric.capitalize()} is\", len(result))\n"
     ]
    },
    {
     "name": "stdout",
     "output_type": "stream",
     "text": [
      "Best parameters found: {'bootstrap': False, 'max_depth': None, 'min_samples_leaf': 2, 'min_samples_split': 2, 'n_estimators': 100}\n",
      "Best cross-validation accuracy: 0.5107142857142857\n",
      "Optimizing hyperparameters for Metabolite_RPCA, traintest_0...\n"
     ]
    },
    {
     "name": "stderr",
     "output_type": "stream",
     "text": [
      "/Users/biacordazzo/opt/anaconda3/envs/qiime2-amplicon-2024.5/lib/python3.9/site-packages/sklearn/base.py:486: UserWarning: X has feature names, but RandomForestClassifier was fitted without feature names\n",
      "  warnings.warn(\n"
     ]
    },
    {
     "name": "stdout",
     "output_type": "stream",
     "text": [
      "Best parameters found: {'bootstrap': True, 'max_depth': None, 'min_samples_leaf': 1, 'min_samples_split': 5, 'n_estimators': 100}\n",
      "Best cross-validation accuracy: 0.4035714285714286\n",
      "Optimizing hyperparameters for Metabolite_RPCA, traintest_1...\n"
     ]
    },
    {
     "name": "stderr",
     "output_type": "stream",
     "text": [
      "/Users/biacordazzo/opt/anaconda3/envs/qiime2-amplicon-2024.5/lib/python3.9/site-packages/sklearn/base.py:486: UserWarning: X has feature names, but RandomForestClassifier was fitted without feature names\n",
      "  warnings.warn(\n"
     ]
    },
    {
     "name": "stdout",
     "output_type": "stream",
     "text": [
      "Best parameters found: {'bootstrap': False, 'max_depth': 20, 'min_samples_leaf': 2, 'min_samples_split': 2, 'n_estimators': 100}\n",
      "Best cross-validation accuracy: 0.44642857142857145\n",
      "Optimizing hyperparameters for Metabolite_RPCA, traintest_2...\n"
     ]
    },
    {
     "name": "stderr",
     "output_type": "stream",
     "text": [
      "/Users/biacordazzo/opt/anaconda3/envs/qiime2-amplicon-2024.5/lib/python3.9/site-packages/sklearn/base.py:486: UserWarning: X has feature names, but RandomForestClassifier was fitted without feature names\n",
      "  warnings.warn(\n",
      "/Users/biacordazzo/opt/anaconda3/envs/qiime2-amplicon-2024.5/lib/python3.9/site-packages/sklearn/metrics/_classification.py:1509: UndefinedMetricWarning: Precision is ill-defined and being set to 0.0 in labels with no predicted samples. Use `zero_division` parameter to control this behavior.\n",
      "  _warn_prf(average, modifier, f\"{metric.capitalize()} is\", len(result))\n",
      "/Users/biacordazzo/opt/anaconda3/envs/qiime2-amplicon-2024.5/lib/python3.9/site-packages/sklearn/metrics/_classification.py:1509: UndefinedMetricWarning: Precision is ill-defined and being set to 0.0 in labels with no predicted samples. Use `zero_division` parameter to control this behavior.\n",
      "  _warn_prf(average, modifier, f\"{metric.capitalize()} is\", len(result))\n",
      "/Users/biacordazzo/opt/anaconda3/envs/qiime2-amplicon-2024.5/lib/python3.9/site-packages/sklearn/metrics/_classification.py:1509: UndefinedMetricWarning: Precision is ill-defined and being set to 0.0 in labels with no predicted samples. Use `zero_division` parameter to control this behavior.\n",
      "  _warn_prf(average, modifier, f\"{metric.capitalize()} is\", len(result))\n"
     ]
    },
    {
     "name": "stdout",
     "output_type": "stream",
     "text": [
      "Best parameters found: {'bootstrap': False, 'max_depth': 10, 'min_samples_leaf': 2, 'min_samples_split': 10, 'n_estimators': 100}\n",
      "Best cross-validation accuracy: 0.4142857142857143\n",
      "Optimizing hyperparameters for Metabolite_RPCA, traintest_3...\n"
     ]
    },
    {
     "name": "stderr",
     "output_type": "stream",
     "text": [
      "/Users/biacordazzo/opt/anaconda3/envs/qiime2-amplicon-2024.5/lib/python3.9/site-packages/sklearn/base.py:486: UserWarning: X has feature names, but RandomForestClassifier was fitted without feature names\n",
      "  warnings.warn(\n",
      "/Users/biacordazzo/opt/anaconda3/envs/qiime2-amplicon-2024.5/lib/python3.9/site-packages/sklearn/metrics/_classification.py:1509: UndefinedMetricWarning: Precision is ill-defined and being set to 0.0 in labels with no predicted samples. Use `zero_division` parameter to control this behavior.\n",
      "  _warn_prf(average, modifier, f\"{metric.capitalize()} is\", len(result))\n",
      "/Users/biacordazzo/opt/anaconda3/envs/qiime2-amplicon-2024.5/lib/python3.9/site-packages/sklearn/metrics/_classification.py:1509: UndefinedMetricWarning: Precision is ill-defined and being set to 0.0 in labels with no predicted samples. Use `zero_division` parameter to control this behavior.\n",
      "  _warn_prf(average, modifier, f\"{metric.capitalize()} is\", len(result))\n",
      "/Users/biacordazzo/opt/anaconda3/envs/qiime2-amplicon-2024.5/lib/python3.9/site-packages/sklearn/metrics/_classification.py:1509: UndefinedMetricWarning: Precision is ill-defined and being set to 0.0 in labels with no predicted samples. Use `zero_division` parameter to control this behavior.\n",
      "  _warn_prf(average, modifier, f\"{metric.capitalize()} is\", len(result))\n"
     ]
    },
    {
     "name": "stdout",
     "output_type": "stream",
     "text": [
      "Best parameters found: {'bootstrap': False, 'max_depth': None, 'min_samples_leaf': 2, 'min_samples_split': 10, 'n_estimators': 100}\n",
      "Best cross-validation accuracy: 0.4571428571428572\n",
      "Optimizing hyperparameters for Metabolite_RPCA, traintest_4...\n"
     ]
    },
    {
     "name": "stderr",
     "output_type": "stream",
     "text": [
      "/Users/biacordazzo/opt/anaconda3/envs/qiime2-amplicon-2024.5/lib/python3.9/site-packages/sklearn/base.py:486: UserWarning: X has feature names, but RandomForestClassifier was fitted without feature names\n",
      "  warnings.warn(\n",
      "/Users/biacordazzo/opt/anaconda3/envs/qiime2-amplicon-2024.5/lib/python3.9/site-packages/sklearn/metrics/_classification.py:1509: UndefinedMetricWarning: Precision is ill-defined and being set to 0.0 in labels with no predicted samples. Use `zero_division` parameter to control this behavior.\n",
      "  _warn_prf(average, modifier, f\"{metric.capitalize()} is\", len(result))\n",
      "/Users/biacordazzo/opt/anaconda3/envs/qiime2-amplicon-2024.5/lib/python3.9/site-packages/sklearn/metrics/_classification.py:1509: UndefinedMetricWarning: Precision is ill-defined and being set to 0.0 in labels with no predicted samples. Use `zero_division` parameter to control this behavior.\n",
      "  _warn_prf(average, modifier, f\"{metric.capitalize()} is\", len(result))\n",
      "/Users/biacordazzo/opt/anaconda3/envs/qiime2-amplicon-2024.5/lib/python3.9/site-packages/sklearn/metrics/_classification.py:1509: UndefinedMetricWarning: Precision is ill-defined and being set to 0.0 in labels with no predicted samples. Use `zero_division` parameter to control this behavior.\n",
      "  _warn_prf(average, modifier, f\"{metric.capitalize()} is\", len(result))\n"
     ]
    },
    {
     "name": "stdout",
     "output_type": "stream",
     "text": [
      "Best parameters found: {'bootstrap': True, 'max_depth': None, 'min_samples_leaf': 2, 'min_samples_split': 5, 'n_estimators': 100}\n",
      "Best cross-validation accuracy: 0.37857142857142856\n",
      "Optimizing hyperparameters for Metabolite_RPCA, traintest_5...\n"
     ]
    },
    {
     "name": "stderr",
     "output_type": "stream",
     "text": [
      "/Users/biacordazzo/opt/anaconda3/envs/qiime2-amplicon-2024.5/lib/python3.9/site-packages/sklearn/base.py:486: UserWarning: X has feature names, but RandomForestClassifier was fitted without feature names\n",
      "  warnings.warn(\n",
      "/Users/biacordazzo/opt/anaconda3/envs/qiime2-amplicon-2024.5/lib/python3.9/site-packages/sklearn/metrics/_classification.py:1509: UndefinedMetricWarning: Precision is ill-defined and being set to 0.0 in labels with no predicted samples. Use `zero_division` parameter to control this behavior.\n",
      "  _warn_prf(average, modifier, f\"{metric.capitalize()} is\", len(result))\n",
      "/Users/biacordazzo/opt/anaconda3/envs/qiime2-amplicon-2024.5/lib/python3.9/site-packages/sklearn/metrics/_classification.py:1509: UndefinedMetricWarning: Precision is ill-defined and being set to 0.0 in labels with no predicted samples. Use `zero_division` parameter to control this behavior.\n",
      "  _warn_prf(average, modifier, f\"{metric.capitalize()} is\", len(result))\n",
      "/Users/biacordazzo/opt/anaconda3/envs/qiime2-amplicon-2024.5/lib/python3.9/site-packages/sklearn/metrics/_classification.py:1509: UndefinedMetricWarning: Precision is ill-defined and being set to 0.0 in labels with no predicted samples. Use `zero_division` parameter to control this behavior.\n",
      "  _warn_prf(average, modifier, f\"{metric.capitalize()} is\", len(result))\n"
     ]
    },
    {
     "name": "stdout",
     "output_type": "stream",
     "text": [
      "Best parameters found: {'bootstrap': False, 'max_depth': None, 'min_samples_leaf': 2, 'min_samples_split': 2, 'n_estimators': 100}\n",
      "Best cross-validation accuracy: 0.4607142857142857\n",
      "Optimizing hyperparameters for Metabolite_RPCA, traintest_6...\n"
     ]
    },
    {
     "name": "stderr",
     "output_type": "stream",
     "text": [
      "/Users/biacordazzo/opt/anaconda3/envs/qiime2-amplicon-2024.5/lib/python3.9/site-packages/sklearn/base.py:486: UserWarning: X has feature names, but RandomForestClassifier was fitted without feature names\n",
      "  warnings.warn(\n",
      "/Users/biacordazzo/opt/anaconda3/envs/qiime2-amplicon-2024.5/lib/python3.9/site-packages/sklearn/metrics/_classification.py:1509: UndefinedMetricWarning: Precision is ill-defined and being set to 0.0 in labels with no predicted samples. Use `zero_division` parameter to control this behavior.\n",
      "  _warn_prf(average, modifier, f\"{metric.capitalize()} is\", len(result))\n",
      "/Users/biacordazzo/opt/anaconda3/envs/qiime2-amplicon-2024.5/lib/python3.9/site-packages/sklearn/metrics/_classification.py:1509: UndefinedMetricWarning: Precision is ill-defined and being set to 0.0 in labels with no predicted samples. Use `zero_division` parameter to control this behavior.\n",
      "  _warn_prf(average, modifier, f\"{metric.capitalize()} is\", len(result))\n",
      "/Users/biacordazzo/opt/anaconda3/envs/qiime2-amplicon-2024.5/lib/python3.9/site-packages/sklearn/metrics/_classification.py:1509: UndefinedMetricWarning: Precision is ill-defined and being set to 0.0 in labels with no predicted samples. Use `zero_division` parameter to control this behavior.\n",
      "  _warn_prf(average, modifier, f\"{metric.capitalize()} is\", len(result))\n"
     ]
    },
    {
     "name": "stdout",
     "output_type": "stream",
     "text": [
      "Best parameters found: {'bootstrap': False, 'max_depth': 10, 'min_samples_leaf': 1, 'min_samples_split': 10, 'n_estimators': 100}\n",
      "Best cross-validation accuracy: 0.4107142857142857\n",
      "Optimizing hyperparameters for Metabolite_RPCA, traintest_7...\n"
     ]
    },
    {
     "name": "stderr",
     "output_type": "stream",
     "text": [
      "/Users/biacordazzo/opt/anaconda3/envs/qiime2-amplicon-2024.5/lib/python3.9/site-packages/sklearn/base.py:486: UserWarning: X has feature names, but RandomForestClassifier was fitted without feature names\n",
      "  warnings.warn(\n"
     ]
    },
    {
     "name": "stdout",
     "output_type": "stream",
     "text": [
      "Best parameters found: {'bootstrap': False, 'max_depth': None, 'min_samples_leaf': 4, 'min_samples_split': 10, 'n_estimators': 100}\n",
      "Best cross-validation accuracy: 0.40714285714285714\n",
      "Optimizing hyperparameters for Metabolite_RPCA, traintest_8...\n"
     ]
    },
    {
     "name": "stderr",
     "output_type": "stream",
     "text": [
      "/Users/biacordazzo/opt/anaconda3/envs/qiime2-amplicon-2024.5/lib/python3.9/site-packages/sklearn/base.py:486: UserWarning: X has feature names, but RandomForestClassifier was fitted without feature names\n",
      "  warnings.warn(\n",
      "/Users/biacordazzo/opt/anaconda3/envs/qiime2-amplicon-2024.5/lib/python3.9/site-packages/sklearn/metrics/_classification.py:1509: UndefinedMetricWarning: Precision is ill-defined and being set to 0.0 in labels with no predicted samples. Use `zero_division` parameter to control this behavior.\n",
      "  _warn_prf(average, modifier, f\"{metric.capitalize()} is\", len(result))\n",
      "/Users/biacordazzo/opt/anaconda3/envs/qiime2-amplicon-2024.5/lib/python3.9/site-packages/sklearn/metrics/_classification.py:1509: UndefinedMetricWarning: Precision is ill-defined and being set to 0.0 in labels with no predicted samples. Use `zero_division` parameter to control this behavior.\n",
      "  _warn_prf(average, modifier, f\"{metric.capitalize()} is\", len(result))\n",
      "/Users/biacordazzo/opt/anaconda3/envs/qiime2-amplicon-2024.5/lib/python3.9/site-packages/sklearn/metrics/_classification.py:1509: UndefinedMetricWarning: Precision is ill-defined and being set to 0.0 in labels with no predicted samples. Use `zero_division` parameter to control this behavior.\n",
      "  _warn_prf(average, modifier, f\"{metric.capitalize()} is\", len(result))\n"
     ]
    },
    {
     "name": "stdout",
     "output_type": "stream",
     "text": [
      "Best parameters found: {'bootstrap': True, 'max_depth': 10, 'min_samples_leaf': 4, 'min_samples_split': 2, 'n_estimators': 300}\n",
      "Best cross-validation accuracy: 0.4392857142857142\n",
      "Optimizing hyperparameters for Metabolite_RPCA, traintest_9...\n"
     ]
    },
    {
     "name": "stderr",
     "output_type": "stream",
     "text": [
      "/Users/biacordazzo/opt/anaconda3/envs/qiime2-amplicon-2024.5/lib/python3.9/site-packages/sklearn/base.py:486: UserWarning: X has feature names, but RandomForestClassifier was fitted without feature names\n",
      "  warnings.warn(\n",
      "/Users/biacordazzo/opt/anaconda3/envs/qiime2-amplicon-2024.5/lib/python3.9/site-packages/sklearn/metrics/_classification.py:1509: UndefinedMetricWarning: Precision is ill-defined and being set to 0.0 in labels with no predicted samples. Use `zero_division` parameter to control this behavior.\n",
      "  _warn_prf(average, modifier, f\"{metric.capitalize()} is\", len(result))\n",
      "/Users/biacordazzo/opt/anaconda3/envs/qiime2-amplicon-2024.5/lib/python3.9/site-packages/sklearn/metrics/_classification.py:1509: UndefinedMetricWarning: Precision is ill-defined and being set to 0.0 in labels with no predicted samples. Use `zero_division` parameter to control this behavior.\n",
      "  _warn_prf(average, modifier, f\"{metric.capitalize()} is\", len(result))\n",
      "/Users/biacordazzo/opt/anaconda3/envs/qiime2-amplicon-2024.5/lib/python3.9/site-packages/sklearn/metrics/_classification.py:1509: UndefinedMetricWarning: Precision is ill-defined and being set to 0.0 in labels with no predicted samples. Use `zero_division` parameter to control this behavior.\n",
      "  _warn_prf(average, modifier, f\"{metric.capitalize()} is\", len(result))\n"
     ]
    },
    {
     "name": "stdout",
     "output_type": "stream",
     "text": [
      "Best parameters found: {'bootstrap': False, 'max_depth': 20, 'min_samples_leaf': 2, 'min_samples_split': 10, 'n_estimators': 100}\n",
      "Best cross-validation accuracy: 0.425\n",
      "Optimizing hyperparameters for 18S_Joint-RPCA, traintest_0...\n"
     ]
    },
    {
     "name": "stderr",
     "output_type": "stream",
     "text": [
      "/Users/biacordazzo/opt/anaconda3/envs/qiime2-amplicon-2024.5/lib/python3.9/site-packages/sklearn/base.py:486: UserWarning: X has feature names, but RandomForestClassifier was fitted without feature names\n",
      "  warnings.warn(\n"
     ]
    },
    {
     "name": "stdout",
     "output_type": "stream",
     "text": [
      "Best parameters found: {'bootstrap': False, 'max_depth': 10, 'min_samples_leaf': 4, 'min_samples_split': 10, 'n_estimators': 100}\n",
      "Best cross-validation accuracy: 0.405952380952381\n",
      "Optimizing hyperparameters for 18S_Joint-RPCA, traintest_1...\n"
     ]
    },
    {
     "name": "stderr",
     "output_type": "stream",
     "text": [
      "/Users/biacordazzo/opt/anaconda3/envs/qiime2-amplicon-2024.5/lib/python3.9/site-packages/sklearn/base.py:486: UserWarning: X has feature names, but RandomForestClassifier was fitted without feature names\n",
      "  warnings.warn(\n",
      "/Users/biacordazzo/opt/anaconda3/envs/qiime2-amplicon-2024.5/lib/python3.9/site-packages/sklearn/metrics/_classification.py:1509: UndefinedMetricWarning: Precision is ill-defined and being set to 0.0 in labels with no predicted samples. Use `zero_division` parameter to control this behavior.\n",
      "  _warn_prf(average, modifier, f\"{metric.capitalize()} is\", len(result))\n",
      "/Users/biacordazzo/opt/anaconda3/envs/qiime2-amplicon-2024.5/lib/python3.9/site-packages/sklearn/metrics/_classification.py:1509: UndefinedMetricWarning: Precision is ill-defined and being set to 0.0 in labels with no predicted samples. Use `zero_division` parameter to control this behavior.\n",
      "  _warn_prf(average, modifier, f\"{metric.capitalize()} is\", len(result))\n",
      "/Users/biacordazzo/opt/anaconda3/envs/qiime2-amplicon-2024.5/lib/python3.9/site-packages/sklearn/metrics/_classification.py:1509: UndefinedMetricWarning: Precision is ill-defined and being set to 0.0 in labels with no predicted samples. Use `zero_division` parameter to control this behavior.\n",
      "  _warn_prf(average, modifier, f\"{metric.capitalize()} is\", len(result))\n"
     ]
    },
    {
     "name": "stdout",
     "output_type": "stream",
     "text": [
      "Best parameters found: {'bootstrap': False, 'max_depth': None, 'min_samples_leaf': 2, 'min_samples_split': 2, 'n_estimators': 100}\n",
      "Best cross-validation accuracy: 0.4545918367346939\n",
      "Optimizing hyperparameters for 18S_Joint-RPCA, traintest_2...\n"
     ]
    },
    {
     "name": "stderr",
     "output_type": "stream",
     "text": [
      "/Users/biacordazzo/opt/anaconda3/envs/qiime2-amplicon-2024.5/lib/python3.9/site-packages/sklearn/base.py:486: UserWarning: X has feature names, but RandomForestClassifier was fitted without feature names\n",
      "  warnings.warn(\n",
      "/Users/biacordazzo/opt/anaconda3/envs/qiime2-amplicon-2024.5/lib/python3.9/site-packages/sklearn/metrics/_classification.py:1509: UndefinedMetricWarning: Precision is ill-defined and being set to 0.0 in labels with no predicted samples. Use `zero_division` parameter to control this behavior.\n",
      "  _warn_prf(average, modifier, f\"{metric.capitalize()} is\", len(result))\n",
      "/Users/biacordazzo/opt/anaconda3/envs/qiime2-amplicon-2024.5/lib/python3.9/site-packages/sklearn/metrics/_classification.py:1509: UndefinedMetricWarning: Precision is ill-defined and being set to 0.0 in labels with no predicted samples. Use `zero_division` parameter to control this behavior.\n",
      "  _warn_prf(average, modifier, f\"{metric.capitalize()} is\", len(result))\n",
      "/Users/biacordazzo/opt/anaconda3/envs/qiime2-amplicon-2024.5/lib/python3.9/site-packages/sklearn/metrics/_classification.py:1509: UndefinedMetricWarning: Precision is ill-defined and being set to 0.0 in labels with no predicted samples. Use `zero_division` parameter to control this behavior.\n",
      "  _warn_prf(average, modifier, f\"{metric.capitalize()} is\", len(result))\n"
     ]
    },
    {
     "name": "stdout",
     "output_type": "stream",
     "text": [
      "Best parameters found: {'bootstrap': False, 'max_depth': None, 'min_samples_leaf': 2, 'min_samples_split': 2, 'n_estimators': 100}\n",
      "Best cross-validation accuracy: 0.4699591836734694\n",
      "Optimizing hyperparameters for 18S_Joint-RPCA, traintest_3...\n"
     ]
    },
    {
     "name": "stderr",
     "output_type": "stream",
     "text": [
      "/Users/biacordazzo/opt/anaconda3/envs/qiime2-amplicon-2024.5/lib/python3.9/site-packages/sklearn/base.py:486: UserWarning: X has feature names, but RandomForestClassifier was fitted without feature names\n",
      "  warnings.warn(\n",
      "/Users/biacordazzo/opt/anaconda3/envs/qiime2-amplicon-2024.5/lib/python3.9/site-packages/sklearn/metrics/_classification.py:1509: UndefinedMetricWarning: Precision is ill-defined and being set to 0.0 in labels with no predicted samples. Use `zero_division` parameter to control this behavior.\n",
      "  _warn_prf(average, modifier, f\"{metric.capitalize()} is\", len(result))\n",
      "/Users/biacordazzo/opt/anaconda3/envs/qiime2-amplicon-2024.5/lib/python3.9/site-packages/sklearn/metrics/_classification.py:1509: UndefinedMetricWarning: Precision is ill-defined and being set to 0.0 in labels with no predicted samples. Use `zero_division` parameter to control this behavior.\n",
      "  _warn_prf(average, modifier, f\"{metric.capitalize()} is\", len(result))\n",
      "/Users/biacordazzo/opt/anaconda3/envs/qiime2-amplicon-2024.5/lib/python3.9/site-packages/sklearn/metrics/_classification.py:1509: UndefinedMetricWarning: Precision is ill-defined and being set to 0.0 in labels with no predicted samples. Use `zero_division` parameter to control this behavior.\n",
      "  _warn_prf(average, modifier, f\"{metric.capitalize()} is\", len(result))\n"
     ]
    },
    {
     "name": "stdout",
     "output_type": "stream",
     "text": [
      "Best parameters found: {'bootstrap': False, 'max_depth': 10, 'min_samples_leaf': 4, 'min_samples_split': 10, 'n_estimators': 100}\n",
      "Best cross-validation accuracy: 0.4408163265306123\n",
      "Optimizing hyperparameters for 18S_Joint-RPCA, traintest_4...\n"
     ]
    },
    {
     "name": "stderr",
     "output_type": "stream",
     "text": [
      "/Users/biacordazzo/opt/anaconda3/envs/qiime2-amplicon-2024.5/lib/python3.9/site-packages/sklearn/base.py:486: UserWarning: X has feature names, but RandomForestClassifier was fitted without feature names\n",
      "  warnings.warn(\n",
      "/Users/biacordazzo/opt/anaconda3/envs/qiime2-amplicon-2024.5/lib/python3.9/site-packages/sklearn/metrics/_classification.py:1509: UndefinedMetricWarning: Precision is ill-defined and being set to 0.0 in labels with no predicted samples. Use `zero_division` parameter to control this behavior.\n",
      "  _warn_prf(average, modifier, f\"{metric.capitalize()} is\", len(result))\n",
      "/Users/biacordazzo/opt/anaconda3/envs/qiime2-amplicon-2024.5/lib/python3.9/site-packages/sklearn/metrics/_classification.py:1509: UndefinedMetricWarning: Precision is ill-defined and being set to 0.0 in labels with no predicted samples. Use `zero_division` parameter to control this behavior.\n",
      "  _warn_prf(average, modifier, f\"{metric.capitalize()} is\", len(result))\n",
      "/Users/biacordazzo/opt/anaconda3/envs/qiime2-amplicon-2024.5/lib/python3.9/site-packages/sklearn/metrics/_classification.py:1509: UndefinedMetricWarning: Precision is ill-defined and being set to 0.0 in labels with no predicted samples. Use `zero_division` parameter to control this behavior.\n",
      "  _warn_prf(average, modifier, f\"{metric.capitalize()} is\", len(result))\n"
     ]
    },
    {
     "name": "stdout",
     "output_type": "stream",
     "text": [
      "Best parameters found: {'bootstrap': False, 'max_depth': None, 'min_samples_leaf': 2, 'min_samples_split': 5, 'n_estimators': 100}\n",
      "Best cross-validation accuracy: 0.4313469387755102\n",
      "Optimizing hyperparameters for 18S_Joint-RPCA, traintest_5...\n"
     ]
    },
    {
     "name": "stderr",
     "output_type": "stream",
     "text": [
      "/Users/biacordazzo/opt/anaconda3/envs/qiime2-amplicon-2024.5/lib/python3.9/site-packages/sklearn/base.py:486: UserWarning: X has feature names, but RandomForestClassifier was fitted without feature names\n",
      "  warnings.warn(\n",
      "/Users/biacordazzo/opt/anaconda3/envs/qiime2-amplicon-2024.5/lib/python3.9/site-packages/sklearn/metrics/_classification.py:1509: UndefinedMetricWarning: Precision is ill-defined and being set to 0.0 in labels with no predicted samples. Use `zero_division` parameter to control this behavior.\n",
      "  _warn_prf(average, modifier, f\"{metric.capitalize()} is\", len(result))\n",
      "/Users/biacordazzo/opt/anaconda3/envs/qiime2-amplicon-2024.5/lib/python3.9/site-packages/sklearn/metrics/_classification.py:1509: UndefinedMetricWarning: Precision is ill-defined and being set to 0.0 in labels with no predicted samples. Use `zero_division` parameter to control this behavior.\n",
      "  _warn_prf(average, modifier, f\"{metric.capitalize()} is\", len(result))\n",
      "/Users/biacordazzo/opt/anaconda3/envs/qiime2-amplicon-2024.5/lib/python3.9/site-packages/sklearn/metrics/_classification.py:1509: UndefinedMetricWarning: Precision is ill-defined and being set to 0.0 in labels with no predicted samples. Use `zero_division` parameter to control this behavior.\n",
      "  _warn_prf(average, modifier, f\"{metric.capitalize()} is\", len(result))\n"
     ]
    },
    {
     "name": "stdout",
     "output_type": "stream",
     "text": [
      "Best parameters found: {'bootstrap': True, 'max_depth': None, 'min_samples_leaf': 4, 'min_samples_split': 10, 'n_estimators': 300}\n",
      "Best cross-validation accuracy: 0.46734693877551015\n",
      "Optimizing hyperparameters for 18S_Joint-RPCA, traintest_6...\n"
     ]
    },
    {
     "name": "stderr",
     "output_type": "stream",
     "text": [
      "/Users/biacordazzo/opt/anaconda3/envs/qiime2-amplicon-2024.5/lib/python3.9/site-packages/sklearn/base.py:486: UserWarning: X has feature names, but RandomForestClassifier was fitted without feature names\n",
      "  warnings.warn(\n",
      "/Users/biacordazzo/opt/anaconda3/envs/qiime2-amplicon-2024.5/lib/python3.9/site-packages/sklearn/metrics/_classification.py:1509: UndefinedMetricWarning: Precision is ill-defined and being set to 0.0 in labels with no predicted samples. Use `zero_division` parameter to control this behavior.\n",
      "  _warn_prf(average, modifier, f\"{metric.capitalize()} is\", len(result))\n",
      "/Users/biacordazzo/opt/anaconda3/envs/qiime2-amplicon-2024.5/lib/python3.9/site-packages/sklearn/metrics/_classification.py:1509: UndefinedMetricWarning: Precision is ill-defined and being set to 0.0 in labels with no predicted samples. Use `zero_division` parameter to control this behavior.\n",
      "  _warn_prf(average, modifier, f\"{metric.capitalize()} is\", len(result))\n",
      "/Users/biacordazzo/opt/anaconda3/envs/qiime2-amplicon-2024.5/lib/python3.9/site-packages/sklearn/metrics/_classification.py:1509: UndefinedMetricWarning: Precision is ill-defined and being set to 0.0 in labels with no predicted samples. Use `zero_division` parameter to control this behavior.\n",
      "  _warn_prf(average, modifier, f\"{metric.capitalize()} is\", len(result))\n"
     ]
    },
    {
     "name": "stdout",
     "output_type": "stream",
     "text": [
      "Best parameters found: {'bootstrap': False, 'max_depth': 10, 'min_samples_leaf': 4, 'min_samples_split': 2, 'n_estimators': 100}\n",
      "Best cross-validation accuracy: 0.4818775510204082\n",
      "Optimizing hyperparameters for 18S_Joint-RPCA, traintest_7...\n"
     ]
    },
    {
     "name": "stderr",
     "output_type": "stream",
     "text": [
      "/Users/biacordazzo/opt/anaconda3/envs/qiime2-amplicon-2024.5/lib/python3.9/site-packages/sklearn/base.py:486: UserWarning: X has feature names, but RandomForestClassifier was fitted without feature names\n",
      "  warnings.warn(\n"
     ]
    },
    {
     "name": "stdout",
     "output_type": "stream",
     "text": [
      "Best parameters found: {'bootstrap': True, 'max_depth': None, 'min_samples_leaf': 2, 'min_samples_split': 10, 'n_estimators': 200}\n",
      "Best cross-validation accuracy: 0.46394557823129257\n",
      "Optimizing hyperparameters for 18S_Joint-RPCA, traintest_8...\n"
     ]
    },
    {
     "name": "stderr",
     "output_type": "stream",
     "text": [
      "/Users/biacordazzo/opt/anaconda3/envs/qiime2-amplicon-2024.5/lib/python3.9/site-packages/sklearn/base.py:486: UserWarning: X has feature names, but RandomForestClassifier was fitted without feature names\n",
      "  warnings.warn(\n"
     ]
    },
    {
     "name": "stdout",
     "output_type": "stream",
     "text": [
      "Best parameters found: {'bootstrap': False, 'max_depth': 10, 'min_samples_leaf': 2, 'min_samples_split': 10, 'n_estimators': 100}\n",
      "Best cross-validation accuracy: 0.41142857142857137\n",
      "Optimizing hyperparameters for 18S_Joint-RPCA, traintest_9...\n"
     ]
    },
    {
     "name": "stderr",
     "output_type": "stream",
     "text": [
      "/Users/biacordazzo/opt/anaconda3/envs/qiime2-amplicon-2024.5/lib/python3.9/site-packages/sklearn/base.py:486: UserWarning: X has feature names, but RandomForestClassifier was fitted without feature names\n",
      "  warnings.warn(\n",
      "/Users/biacordazzo/opt/anaconda3/envs/qiime2-amplicon-2024.5/lib/python3.9/site-packages/sklearn/metrics/_classification.py:1509: UndefinedMetricWarning: Precision is ill-defined and being set to 0.0 in labels with no predicted samples. Use `zero_division` parameter to control this behavior.\n",
      "  _warn_prf(average, modifier, f\"{metric.capitalize()} is\", len(result))\n",
      "/Users/biacordazzo/opt/anaconda3/envs/qiime2-amplicon-2024.5/lib/python3.9/site-packages/sklearn/metrics/_classification.py:1509: UndefinedMetricWarning: Precision is ill-defined and being set to 0.0 in labels with no predicted samples. Use `zero_division` parameter to control this behavior.\n",
      "  _warn_prf(average, modifier, f\"{metric.capitalize()} is\", len(result))\n",
      "/Users/biacordazzo/opt/anaconda3/envs/qiime2-amplicon-2024.5/lib/python3.9/site-packages/sklearn/metrics/_classification.py:1509: UndefinedMetricWarning: Precision is ill-defined and being set to 0.0 in labels with no predicted samples. Use `zero_division` parameter to control this behavior.\n",
      "  _warn_prf(average, modifier, f\"{metric.capitalize()} is\", len(result))\n"
     ]
    },
    {
     "name": "stdout",
     "output_type": "stream",
     "text": [
      "Best parameters found: {'bootstrap': False, 'max_depth': 20, 'min_samples_leaf': 1, 'min_samples_split': 10, 'n_estimators': 100}\n",
      "Best cross-validation accuracy: 0.42670068027210883\n",
      "Optimizing hyperparameters for MAG_Joint-RPCA, traintest_0...\n"
     ]
    },
    {
     "name": "stderr",
     "output_type": "stream",
     "text": [
      "/Users/biacordazzo/opt/anaconda3/envs/qiime2-amplicon-2024.5/lib/python3.9/site-packages/sklearn/base.py:486: UserWarning: X has feature names, but RandomForestClassifier was fitted without feature names\n",
      "  warnings.warn(\n"
     ]
    },
    {
     "name": "stdout",
     "output_type": "stream",
     "text": [
      "Best parameters found: {'bootstrap': False, 'max_depth': 10, 'min_samples_leaf': 4, 'min_samples_split': 10, 'n_estimators': 100}\n",
      "Best cross-validation accuracy: 0.5272727272727272\n",
      "Optimizing hyperparameters for MAG_Joint-RPCA, traintest_1...\n"
     ]
    },
    {
     "name": "stderr",
     "output_type": "stream",
     "text": [
      "/Users/biacordazzo/opt/anaconda3/envs/qiime2-amplicon-2024.5/lib/python3.9/site-packages/sklearn/base.py:486: UserWarning: X has feature names, but RandomForestClassifier was fitted without feature names\n",
      "  warnings.warn(\n",
      "/Users/biacordazzo/opt/anaconda3/envs/qiime2-amplicon-2024.5/lib/python3.9/site-packages/sklearn/metrics/_classification.py:1509: UndefinedMetricWarning: Precision is ill-defined and being set to 0.0 in labels with no predicted samples. Use `zero_division` parameter to control this behavior.\n",
      "  _warn_prf(average, modifier, f\"{metric.capitalize()} is\", len(result))\n",
      "/Users/biacordazzo/opt/anaconda3/envs/qiime2-amplicon-2024.5/lib/python3.9/site-packages/sklearn/metrics/_classification.py:1509: UndefinedMetricWarning: Precision is ill-defined and being set to 0.0 in labels with no predicted samples. Use `zero_division` parameter to control this behavior.\n",
      "  _warn_prf(average, modifier, f\"{metric.capitalize()} is\", len(result))\n",
      "/Users/biacordazzo/opt/anaconda3/envs/qiime2-amplicon-2024.5/lib/python3.9/site-packages/sklearn/metrics/_classification.py:1509: UndefinedMetricWarning: Precision is ill-defined and being set to 0.0 in labels with no predicted samples. Use `zero_division` parameter to control this behavior.\n",
      "  _warn_prf(average, modifier, f\"{metric.capitalize()} is\", len(result))\n"
     ]
    },
    {
     "name": "stdout",
     "output_type": "stream",
     "text": [
      "Best parameters found: {'bootstrap': True, 'max_depth': 10, 'min_samples_leaf': 1, 'min_samples_split': 5, 'n_estimators': 100}\n",
      "Best cross-validation accuracy: 0.5345454545454544\n",
      "Optimizing hyperparameters for MAG_Joint-RPCA, traintest_2...\n"
     ]
    },
    {
     "name": "stderr",
     "output_type": "stream",
     "text": [
      "/Users/biacordazzo/opt/anaconda3/envs/qiime2-amplicon-2024.5/lib/python3.9/site-packages/sklearn/base.py:486: UserWarning: X has feature names, but RandomForestClassifier was fitted without feature names\n",
      "  warnings.warn(\n",
      "/Users/biacordazzo/opt/anaconda3/envs/qiime2-amplicon-2024.5/lib/python3.9/site-packages/sklearn/metrics/_classification.py:1509: UndefinedMetricWarning: Precision is ill-defined and being set to 0.0 in labels with no predicted samples. Use `zero_division` parameter to control this behavior.\n",
      "  _warn_prf(average, modifier, f\"{metric.capitalize()} is\", len(result))\n",
      "/Users/biacordazzo/opt/anaconda3/envs/qiime2-amplicon-2024.5/lib/python3.9/site-packages/sklearn/metrics/_classification.py:1509: UndefinedMetricWarning: Precision is ill-defined and being set to 0.0 in labels with no predicted samples. Use `zero_division` parameter to control this behavior.\n",
      "  _warn_prf(average, modifier, f\"{metric.capitalize()} is\", len(result))\n",
      "/Users/biacordazzo/opt/anaconda3/envs/qiime2-amplicon-2024.5/lib/python3.9/site-packages/sklearn/metrics/_classification.py:1509: UndefinedMetricWarning: Precision is ill-defined and being set to 0.0 in labels with no predicted samples. Use `zero_division` parameter to control this behavior.\n",
      "  _warn_prf(average, modifier, f\"{metric.capitalize()} is\", len(result))\n"
     ]
    },
    {
     "name": "stdout",
     "output_type": "stream",
     "text": [
      "Best parameters found: {'bootstrap': True, 'max_depth': None, 'min_samples_leaf': 4, 'min_samples_split': 2, 'n_estimators': 300}\n",
      "Best cross-validation accuracy: 0.5498989898989899\n",
      "Optimizing hyperparameters for MAG_Joint-RPCA, traintest_3...\n"
     ]
    },
    {
     "name": "stderr",
     "output_type": "stream",
     "text": [
      "/Users/biacordazzo/opt/anaconda3/envs/qiime2-amplicon-2024.5/lib/python3.9/site-packages/sklearn/base.py:486: UserWarning: X has feature names, but RandomForestClassifier was fitted without feature names\n",
      "  warnings.warn(\n"
     ]
    },
    {
     "name": "stdout",
     "output_type": "stream",
     "text": [
      "Best parameters found: {'bootstrap': True, 'max_depth': 10, 'min_samples_leaf': 2, 'min_samples_split': 5, 'n_estimators': 100}\n",
      "Best cross-validation accuracy: 0.6023569023569024\n",
      "Optimizing hyperparameters for MAG_Joint-RPCA, traintest_4...\n"
     ]
    },
    {
     "name": "stderr",
     "output_type": "stream",
     "text": [
      "/Users/biacordazzo/opt/anaconda3/envs/qiime2-amplicon-2024.5/lib/python3.9/site-packages/sklearn/base.py:486: UserWarning: X has feature names, but RandomForestClassifier was fitted without feature names\n",
      "  warnings.warn(\n"
     ]
    },
    {
     "name": "stdout",
     "output_type": "stream",
     "text": [
      "Best parameters found: {'bootstrap': False, 'max_depth': 10, 'min_samples_leaf': 4, 'min_samples_split': 2, 'n_estimators': 100}\n",
      "Best cross-validation accuracy: 0.541952861952862\n",
      "Optimizing hyperparameters for MAG_Joint-RPCA, traintest_5...\n"
     ]
    },
    {
     "name": "stderr",
     "output_type": "stream",
     "text": [
      "/Users/biacordazzo/opt/anaconda3/envs/qiime2-amplicon-2024.5/lib/python3.9/site-packages/sklearn/base.py:486: UserWarning: X has feature names, but RandomForestClassifier was fitted without feature names\n",
      "  warnings.warn(\n",
      "/Users/biacordazzo/opt/anaconda3/envs/qiime2-amplicon-2024.5/lib/python3.9/site-packages/sklearn/metrics/_classification.py:1509: UndefinedMetricWarning: Precision is ill-defined and being set to 0.0 in labels with no predicted samples. Use `zero_division` parameter to control this behavior.\n",
      "  _warn_prf(average, modifier, f\"{metric.capitalize()} is\", len(result))\n",
      "/Users/biacordazzo/opt/anaconda3/envs/qiime2-amplicon-2024.5/lib/python3.9/site-packages/sklearn/metrics/_classification.py:1509: UndefinedMetricWarning: Precision is ill-defined and being set to 0.0 in labels with no predicted samples. Use `zero_division` parameter to control this behavior.\n",
      "  _warn_prf(average, modifier, f\"{metric.capitalize()} is\", len(result))\n",
      "/Users/biacordazzo/opt/anaconda3/envs/qiime2-amplicon-2024.5/lib/python3.9/site-packages/sklearn/metrics/_classification.py:1509: UndefinedMetricWarning: Precision is ill-defined and being set to 0.0 in labels with no predicted samples. Use `zero_division` parameter to control this behavior.\n",
      "  _warn_prf(average, modifier, f\"{metric.capitalize()} is\", len(result))\n"
     ]
    },
    {
     "name": "stdout",
     "output_type": "stream",
     "text": [
      "Best parameters found: {'bootstrap': True, 'max_depth': 10, 'min_samples_leaf': 2, 'min_samples_split': 10, 'n_estimators': 100}\n",
      "Best cross-validation accuracy: 0.5622895622895623\n",
      "Optimizing hyperparameters for MAG_Joint-RPCA, traintest_6...\n"
     ]
    },
    {
     "name": "stderr",
     "output_type": "stream",
     "text": [
      "/Users/biacordazzo/opt/anaconda3/envs/qiime2-amplicon-2024.5/lib/python3.9/site-packages/sklearn/base.py:486: UserWarning: X has feature names, but RandomForestClassifier was fitted without feature names\n",
      "  warnings.warn(\n"
     ]
    },
    {
     "name": "stdout",
     "output_type": "stream",
     "text": [
      "Best parameters found: {'bootstrap': True, 'max_depth': None, 'min_samples_leaf': 2, 'min_samples_split': 10, 'n_estimators': 300}\n",
      "Best cross-validation accuracy: 0.5583838383838383\n",
      "Optimizing hyperparameters for MAG_Joint-RPCA, traintest_7...\n"
     ]
    },
    {
     "name": "stderr",
     "output_type": "stream",
     "text": [
      "/Users/biacordazzo/opt/anaconda3/envs/qiime2-amplicon-2024.5/lib/python3.9/site-packages/sklearn/base.py:486: UserWarning: X has feature names, but RandomForestClassifier was fitted without feature names\n",
      "  warnings.warn(\n"
     ]
    },
    {
     "name": "stdout",
     "output_type": "stream",
     "text": [
      "Best parameters found: {'bootstrap': True, 'max_depth': 10, 'min_samples_leaf': 2, 'min_samples_split': 5, 'n_estimators': 100}\n",
      "Best cross-validation accuracy: 0.5912457912457912\n",
      "Optimizing hyperparameters for MAG_Joint-RPCA, traintest_8...\n"
     ]
    },
    {
     "name": "stderr",
     "output_type": "stream",
     "text": [
      "/Users/biacordazzo/opt/anaconda3/envs/qiime2-amplicon-2024.5/lib/python3.9/site-packages/sklearn/base.py:486: UserWarning: X has feature names, but RandomForestClassifier was fitted without feature names\n",
      "  warnings.warn(\n"
     ]
    },
    {
     "name": "stdout",
     "output_type": "stream",
     "text": [
      "Best parameters found: {'bootstrap': True, 'max_depth': 10, 'min_samples_leaf': 2, 'min_samples_split': 10, 'n_estimators': 200}\n",
      "Best cross-validation accuracy: 0.5606060606060607\n",
      "Optimizing hyperparameters for MAG_Joint-RPCA, traintest_9...\n"
     ]
    },
    {
     "name": "stderr",
     "output_type": "stream",
     "text": [
      "/Users/biacordazzo/opt/anaconda3/envs/qiime2-amplicon-2024.5/lib/python3.9/site-packages/sklearn/base.py:486: UserWarning: X has feature names, but RandomForestClassifier was fitted without feature names\n",
      "  warnings.warn(\n"
     ]
    },
    {
     "name": "stdout",
     "output_type": "stream",
     "text": [
      "Best parameters found: {'bootstrap': True, 'max_depth': 10, 'min_samples_leaf': 2, 'min_samples_split': 2, 'n_estimators': 200}\n",
      "Best cross-validation accuracy: 0.5717845117845117\n",
      "Optimizing hyperparameters for Gene_Joint-RPCA, traintest_0...\n"
     ]
    },
    {
     "name": "stderr",
     "output_type": "stream",
     "text": [
      "/Users/biacordazzo/opt/anaconda3/envs/qiime2-amplicon-2024.5/lib/python3.9/site-packages/sklearn/base.py:486: UserWarning: X has feature names, but RandomForestClassifier was fitted without feature names\n",
      "  warnings.warn(\n"
     ]
    },
    {
     "name": "stdout",
     "output_type": "stream",
     "text": [
      "Best parameters found: {'bootstrap': False, 'max_depth': None, 'min_samples_leaf': 1, 'min_samples_split': 5, 'n_estimators': 100}\n",
      "Best cross-validation accuracy: 0.42857142857142855\n",
      "Optimizing hyperparameters for Gene_Joint-RPCA, traintest_1...\n"
     ]
    },
    {
     "name": "stderr",
     "output_type": "stream",
     "text": [
      "/Users/biacordazzo/opt/anaconda3/envs/qiime2-amplicon-2024.5/lib/python3.9/site-packages/sklearn/base.py:486: UserWarning: X has feature names, but RandomForestClassifier was fitted without feature names\n",
      "  warnings.warn(\n"
     ]
    },
    {
     "name": "stdout",
     "output_type": "stream",
     "text": [
      "Best parameters found: {'bootstrap': False, 'max_depth': 10, 'min_samples_leaf': 1, 'min_samples_split': 5, 'n_estimators': 100}\n",
      "Best cross-validation accuracy: 0.4821428571428572\n",
      "Optimizing hyperparameters for Gene_Joint-RPCA, traintest_2...\n"
     ]
    },
    {
     "name": "stderr",
     "output_type": "stream",
     "text": [
      "/Users/biacordazzo/opt/anaconda3/envs/qiime2-amplicon-2024.5/lib/python3.9/site-packages/sklearn/base.py:486: UserWarning: X has feature names, but RandomForestClassifier was fitted without feature names\n",
      "  warnings.warn(\n"
     ]
    },
    {
     "name": "stdout",
     "output_type": "stream",
     "text": [
      "Best parameters found: {'bootstrap': False, 'max_depth': 10, 'min_samples_leaf': 1, 'min_samples_split': 10, 'n_estimators': 100}\n",
      "Best cross-validation accuracy: 0.5142857142857143\n",
      "Optimizing hyperparameters for Gene_Joint-RPCA, traintest_3...\n"
     ]
    },
    {
     "name": "stderr",
     "output_type": "stream",
     "text": [
      "/Users/biacordazzo/opt/anaconda3/envs/qiime2-amplicon-2024.5/lib/python3.9/site-packages/sklearn/base.py:486: UserWarning: X has feature names, but RandomForestClassifier was fitted without feature names\n",
      "  warnings.warn(\n"
     ]
    },
    {
     "name": "stdout",
     "output_type": "stream",
     "text": [
      "Best parameters found: {'bootstrap': True, 'max_depth': None, 'min_samples_leaf': 1, 'min_samples_split': 10, 'n_estimators': 200}\n",
      "Best cross-validation accuracy: 0.49642857142857144\n",
      "Optimizing hyperparameters for Gene_Joint-RPCA, traintest_4...\n"
     ]
    },
    {
     "name": "stderr",
     "output_type": "stream",
     "text": [
      "/Users/biacordazzo/opt/anaconda3/envs/qiime2-amplicon-2024.5/lib/python3.9/site-packages/sklearn/base.py:486: UserWarning: X has feature names, but RandomForestClassifier was fitted without feature names\n",
      "  warnings.warn(\n"
     ]
    },
    {
     "name": "stdout",
     "output_type": "stream",
     "text": [
      "Best parameters found: {'bootstrap': True, 'max_depth': None, 'min_samples_leaf': 4, 'min_samples_split': 10, 'n_estimators': 100}\n",
      "Best cross-validation accuracy: 0.45\n",
      "Optimizing hyperparameters for Gene_Joint-RPCA, traintest_5...\n"
     ]
    },
    {
     "name": "stderr",
     "output_type": "stream",
     "text": [
      "/Users/biacordazzo/opt/anaconda3/envs/qiime2-amplicon-2024.5/lib/python3.9/site-packages/sklearn/base.py:486: UserWarning: X has feature names, but RandomForestClassifier was fitted without feature names\n",
      "  warnings.warn(\n",
      "/Users/biacordazzo/opt/anaconda3/envs/qiime2-amplicon-2024.5/lib/python3.9/site-packages/sklearn/metrics/_classification.py:1509: UndefinedMetricWarning: Precision is ill-defined and being set to 0.0 in labels with no predicted samples. Use `zero_division` parameter to control this behavior.\n",
      "  _warn_prf(average, modifier, f\"{metric.capitalize()} is\", len(result))\n",
      "/Users/biacordazzo/opt/anaconda3/envs/qiime2-amplicon-2024.5/lib/python3.9/site-packages/sklearn/metrics/_classification.py:1509: UndefinedMetricWarning: Precision is ill-defined and being set to 0.0 in labels with no predicted samples. Use `zero_division` parameter to control this behavior.\n",
      "  _warn_prf(average, modifier, f\"{metric.capitalize()} is\", len(result))\n",
      "/Users/biacordazzo/opt/anaconda3/envs/qiime2-amplicon-2024.5/lib/python3.9/site-packages/sklearn/metrics/_classification.py:1509: UndefinedMetricWarning: Precision is ill-defined and being set to 0.0 in labels with no predicted samples. Use `zero_division` parameter to control this behavior.\n",
      "  _warn_prf(average, modifier, f\"{metric.capitalize()} is\", len(result))\n"
     ]
    },
    {
     "name": "stdout",
     "output_type": "stream",
     "text": [
      "Best parameters found: {'bootstrap': True, 'max_depth': None, 'min_samples_leaf': 2, 'min_samples_split': 2, 'n_estimators': 300}\n",
      "Best cross-validation accuracy: 0.46071428571428574\n",
      "Optimizing hyperparameters for Gene_Joint-RPCA, traintest_6...\n"
     ]
    },
    {
     "name": "stderr",
     "output_type": "stream",
     "text": [
      "/Users/biacordazzo/opt/anaconda3/envs/qiime2-amplicon-2024.5/lib/python3.9/site-packages/sklearn/base.py:486: UserWarning: X has feature names, but RandomForestClassifier was fitted without feature names\n",
      "  warnings.warn(\n"
     ]
    },
    {
     "name": "stdout",
     "output_type": "stream",
     "text": [
      "Best parameters found: {'bootstrap': True, 'max_depth': 10, 'min_samples_leaf': 2, 'min_samples_split': 5, 'n_estimators': 100}\n",
      "Best cross-validation accuracy: 0.5107142857142857\n",
      "Optimizing hyperparameters for Gene_Joint-RPCA, traintest_7...\n"
     ]
    },
    {
     "name": "stderr",
     "output_type": "stream",
     "text": [
      "/Users/biacordazzo/opt/anaconda3/envs/qiime2-amplicon-2024.5/lib/python3.9/site-packages/sklearn/base.py:486: UserWarning: X has feature names, but RandomForestClassifier was fitted without feature names\n",
      "  warnings.warn(\n"
     ]
    },
    {
     "name": "stdout",
     "output_type": "stream",
     "text": [
      "Best parameters found: {'bootstrap': True, 'max_depth': None, 'min_samples_leaf': 2, 'min_samples_split': 2, 'n_estimators': 200}\n",
      "Best cross-validation accuracy: 0.4892857142857143\n",
      "Optimizing hyperparameters for Gene_Joint-RPCA, traintest_8...\n"
     ]
    },
    {
     "name": "stderr",
     "output_type": "stream",
     "text": [
      "/Users/biacordazzo/opt/anaconda3/envs/qiime2-amplicon-2024.5/lib/python3.9/site-packages/sklearn/base.py:486: UserWarning: X has feature names, but RandomForestClassifier was fitted without feature names\n",
      "  warnings.warn(\n"
     ]
    },
    {
     "name": "stdout",
     "output_type": "stream",
     "text": [
      "Best parameters found: {'bootstrap': True, 'max_depth': None, 'min_samples_leaf': 4, 'min_samples_split': 2, 'n_estimators': 200}\n",
      "Best cross-validation accuracy: 0.4642857142857143\n",
      "Optimizing hyperparameters for Gene_Joint-RPCA, traintest_9...\n"
     ]
    },
    {
     "name": "stderr",
     "output_type": "stream",
     "text": [
      "/Users/biacordazzo/opt/anaconda3/envs/qiime2-amplicon-2024.5/lib/python3.9/site-packages/sklearn/base.py:486: UserWarning: X has feature names, but RandomForestClassifier was fitted without feature names\n",
      "  warnings.warn(\n"
     ]
    },
    {
     "name": "stdout",
     "output_type": "stream",
     "text": [
      "Best parameters found: {'bootstrap': True, 'max_depth': None, 'min_samples_leaf': 4, 'min_samples_split': 2, 'n_estimators': 300}\n",
      "Best cross-validation accuracy: 0.5107142857142857\n",
      "Optimizing hyperparameters for Gene_Module_Joint-RPCA, traintest_0...\n"
     ]
    },
    {
     "name": "stderr",
     "output_type": "stream",
     "text": [
      "/Users/biacordazzo/opt/anaconda3/envs/qiime2-amplicon-2024.5/lib/python3.9/site-packages/sklearn/base.py:486: UserWarning: X has feature names, but RandomForestClassifier was fitted without feature names\n",
      "  warnings.warn(\n"
     ]
    },
    {
     "name": "stdout",
     "output_type": "stream",
     "text": [
      "Best parameters found: {'bootstrap': False, 'max_depth': None, 'min_samples_leaf': 2, 'min_samples_split': 10, 'n_estimators': 100}\n",
      "Best cross-validation accuracy: 0.46071428571428574\n",
      "Optimizing hyperparameters for Gene_Module_Joint-RPCA, traintest_1...\n"
     ]
    },
    {
     "name": "stderr",
     "output_type": "stream",
     "text": [
      "/Users/biacordazzo/opt/anaconda3/envs/qiime2-amplicon-2024.5/lib/python3.9/site-packages/sklearn/base.py:486: UserWarning: X has feature names, but RandomForestClassifier was fitted without feature names\n",
      "  warnings.warn(\n"
     ]
    },
    {
     "name": "stdout",
     "output_type": "stream",
     "text": [
      "Best parameters found: {'bootstrap': True, 'max_depth': None, 'min_samples_leaf': 1, 'min_samples_split': 10, 'n_estimators': 300}\n",
      "Best cross-validation accuracy: 0.525\n",
      "Optimizing hyperparameters for Gene_Module_Joint-RPCA, traintest_2...\n"
     ]
    },
    {
     "name": "stderr",
     "output_type": "stream",
     "text": [
      "/Users/biacordazzo/opt/anaconda3/envs/qiime2-amplicon-2024.5/lib/python3.9/site-packages/sklearn/base.py:486: UserWarning: X has feature names, but RandomForestClassifier was fitted without feature names\n",
      "  warnings.warn(\n"
     ]
    },
    {
     "name": "stdout",
     "output_type": "stream",
     "text": [
      "Best parameters found: {'bootstrap': True, 'max_depth': None, 'min_samples_leaf': 1, 'min_samples_split': 10, 'n_estimators': 100}\n",
      "Best cross-validation accuracy: 0.5285714285714286\n",
      "Optimizing hyperparameters for Gene_Module_Joint-RPCA, traintest_3...\n"
     ]
    },
    {
     "name": "stderr",
     "output_type": "stream",
     "text": [
      "/Users/biacordazzo/opt/anaconda3/envs/qiime2-amplicon-2024.5/lib/python3.9/site-packages/sklearn/base.py:486: UserWarning: X has feature names, but RandomForestClassifier was fitted without feature names\n",
      "  warnings.warn(\n",
      "/Users/biacordazzo/opt/anaconda3/envs/qiime2-amplicon-2024.5/lib/python3.9/site-packages/sklearn/metrics/_classification.py:1509: UndefinedMetricWarning: Precision is ill-defined and being set to 0.0 in labels with no predicted samples. Use `zero_division` parameter to control this behavior.\n",
      "  _warn_prf(average, modifier, f\"{metric.capitalize()} is\", len(result))\n",
      "/Users/biacordazzo/opt/anaconda3/envs/qiime2-amplicon-2024.5/lib/python3.9/site-packages/sklearn/metrics/_classification.py:1509: UndefinedMetricWarning: Precision is ill-defined and being set to 0.0 in labels with no predicted samples. Use `zero_division` parameter to control this behavior.\n",
      "  _warn_prf(average, modifier, f\"{metric.capitalize()} is\", len(result))\n",
      "/Users/biacordazzo/opt/anaconda3/envs/qiime2-amplicon-2024.5/lib/python3.9/site-packages/sklearn/metrics/_classification.py:1509: UndefinedMetricWarning: Precision is ill-defined and being set to 0.0 in labels with no predicted samples. Use `zero_division` parameter to control this behavior.\n",
      "  _warn_prf(average, modifier, f\"{metric.capitalize()} is\", len(result))\n"
     ]
    },
    {
     "name": "stdout",
     "output_type": "stream",
     "text": [
      "Best parameters found: {'bootstrap': True, 'max_depth': None, 'min_samples_leaf': 1, 'min_samples_split': 10, 'n_estimators': 100}\n",
      "Best cross-validation accuracy: 0.55\n",
      "Optimizing hyperparameters for Gene_Module_Joint-RPCA, traintest_4...\n"
     ]
    },
    {
     "name": "stderr",
     "output_type": "stream",
     "text": [
      "/Users/biacordazzo/opt/anaconda3/envs/qiime2-amplicon-2024.5/lib/python3.9/site-packages/sklearn/base.py:486: UserWarning: X has feature names, but RandomForestClassifier was fitted without feature names\n",
      "  warnings.warn(\n",
      "/Users/biacordazzo/opt/anaconda3/envs/qiime2-amplicon-2024.5/lib/python3.9/site-packages/sklearn/metrics/_classification.py:1509: UndefinedMetricWarning: Precision is ill-defined and being set to 0.0 in labels with no predicted samples. Use `zero_division` parameter to control this behavior.\n",
      "  _warn_prf(average, modifier, f\"{metric.capitalize()} is\", len(result))\n",
      "/Users/biacordazzo/opt/anaconda3/envs/qiime2-amplicon-2024.5/lib/python3.9/site-packages/sklearn/metrics/_classification.py:1509: UndefinedMetricWarning: Precision is ill-defined and being set to 0.0 in labels with no predicted samples. Use `zero_division` parameter to control this behavior.\n",
      "  _warn_prf(average, modifier, f\"{metric.capitalize()} is\", len(result))\n",
      "/Users/biacordazzo/opt/anaconda3/envs/qiime2-amplicon-2024.5/lib/python3.9/site-packages/sklearn/metrics/_classification.py:1509: UndefinedMetricWarning: Precision is ill-defined and being set to 0.0 in labels with no predicted samples. Use `zero_division` parameter to control this behavior.\n",
      "  _warn_prf(average, modifier, f\"{metric.capitalize()} is\", len(result))\n"
     ]
    },
    {
     "name": "stdout",
     "output_type": "stream",
     "text": [
      "Best parameters found: {'bootstrap': False, 'max_depth': 10, 'min_samples_leaf': 2, 'min_samples_split': 2, 'n_estimators': 100}\n",
      "Best cross-validation accuracy: 0.4928571428571429\n",
      "Optimizing hyperparameters for Gene_Module_Joint-RPCA, traintest_5...\n"
     ]
    },
    {
     "name": "stderr",
     "output_type": "stream",
     "text": [
      "/Users/biacordazzo/opt/anaconda3/envs/qiime2-amplicon-2024.5/lib/python3.9/site-packages/sklearn/base.py:486: UserWarning: X has feature names, but RandomForestClassifier was fitted without feature names\n",
      "  warnings.warn(\n",
      "/Users/biacordazzo/opt/anaconda3/envs/qiime2-amplicon-2024.5/lib/python3.9/site-packages/sklearn/metrics/_classification.py:1509: UndefinedMetricWarning: Precision is ill-defined and being set to 0.0 in labels with no predicted samples. Use `zero_division` parameter to control this behavior.\n",
      "  _warn_prf(average, modifier, f\"{metric.capitalize()} is\", len(result))\n",
      "/Users/biacordazzo/opt/anaconda3/envs/qiime2-amplicon-2024.5/lib/python3.9/site-packages/sklearn/metrics/_classification.py:1509: UndefinedMetricWarning: Precision is ill-defined and being set to 0.0 in labels with no predicted samples. Use `zero_division` parameter to control this behavior.\n",
      "  _warn_prf(average, modifier, f\"{metric.capitalize()} is\", len(result))\n",
      "/Users/biacordazzo/opt/anaconda3/envs/qiime2-amplicon-2024.5/lib/python3.9/site-packages/sklearn/metrics/_classification.py:1509: UndefinedMetricWarning: Precision is ill-defined and being set to 0.0 in labels with no predicted samples. Use `zero_division` parameter to control this behavior.\n",
      "  _warn_prf(average, modifier, f\"{metric.capitalize()} is\", len(result))\n"
     ]
    },
    {
     "name": "stdout",
     "output_type": "stream",
     "text": [
      "Best parameters found: {'bootstrap': True, 'max_depth': 10, 'min_samples_leaf': 1, 'min_samples_split': 10, 'n_estimators': 200}\n",
      "Best cross-validation accuracy: 0.5285714285714285\n",
      "Optimizing hyperparameters for Gene_Module_Joint-RPCA, traintest_6...\n"
     ]
    },
    {
     "name": "stderr",
     "output_type": "stream",
     "text": [
      "/Users/biacordazzo/opt/anaconda3/envs/qiime2-amplicon-2024.5/lib/python3.9/site-packages/sklearn/base.py:486: UserWarning: X has feature names, but RandomForestClassifier was fitted without feature names\n",
      "  warnings.warn(\n"
     ]
    },
    {
     "name": "stdout",
     "output_type": "stream",
     "text": [
      "Best parameters found: {'bootstrap': True, 'max_depth': 10, 'min_samples_leaf': 2, 'min_samples_split': 2, 'n_estimators': 200}\n",
      "Best cross-validation accuracy: 0.5535714285714286\n",
      "Optimizing hyperparameters for Gene_Module_Joint-RPCA, traintest_7...\n"
     ]
    },
    {
     "name": "stderr",
     "output_type": "stream",
     "text": [
      "/Users/biacordazzo/opt/anaconda3/envs/qiime2-amplicon-2024.5/lib/python3.9/site-packages/sklearn/base.py:486: UserWarning: X has feature names, but RandomForestClassifier was fitted without feature names\n",
      "  warnings.warn(\n"
     ]
    },
    {
     "name": "stdout",
     "output_type": "stream",
     "text": [
      "Best parameters found: {'bootstrap': True, 'max_depth': 10, 'min_samples_leaf': 1, 'min_samples_split': 5, 'n_estimators': 300}\n",
      "Best cross-validation accuracy: 0.5178571428571429\n",
      "Optimizing hyperparameters for Gene_Module_Joint-RPCA, traintest_8...\n"
     ]
    },
    {
     "name": "stderr",
     "output_type": "stream",
     "text": [
      "/Users/biacordazzo/opt/anaconda3/envs/qiime2-amplicon-2024.5/lib/python3.9/site-packages/sklearn/base.py:486: UserWarning: X has feature names, but RandomForestClassifier was fitted without feature names\n",
      "  warnings.warn(\n"
     ]
    },
    {
     "name": "stdout",
     "output_type": "stream",
     "text": [
      "Best parameters found: {'bootstrap': True, 'max_depth': 10, 'min_samples_leaf': 4, 'min_samples_split': 10, 'n_estimators': 100}\n",
      "Best cross-validation accuracy: 0.5035714285714287\n",
      "Optimizing hyperparameters for Gene_Module_Joint-RPCA, traintest_9...\n"
     ]
    },
    {
     "name": "stderr",
     "output_type": "stream",
     "text": [
      "/Users/biacordazzo/opt/anaconda3/envs/qiime2-amplicon-2024.5/lib/python3.9/site-packages/sklearn/base.py:486: UserWarning: X has feature names, but RandomForestClassifier was fitted without feature names\n",
      "  warnings.warn(\n",
      "/Users/biacordazzo/opt/anaconda3/envs/qiime2-amplicon-2024.5/lib/python3.9/site-packages/sklearn/metrics/_classification.py:1509: UndefinedMetricWarning: Precision is ill-defined and being set to 0.0 in labels with no predicted samples. Use `zero_division` parameter to control this behavior.\n",
      "  _warn_prf(average, modifier, f\"{metric.capitalize()} is\", len(result))\n",
      "/Users/biacordazzo/opt/anaconda3/envs/qiime2-amplicon-2024.5/lib/python3.9/site-packages/sklearn/metrics/_classification.py:1509: UndefinedMetricWarning: Precision is ill-defined and being set to 0.0 in labels with no predicted samples. Use `zero_division` parameter to control this behavior.\n",
      "  _warn_prf(average, modifier, f\"{metric.capitalize()} is\", len(result))\n",
      "/Users/biacordazzo/opt/anaconda3/envs/qiime2-amplicon-2024.5/lib/python3.9/site-packages/sklearn/metrics/_classification.py:1509: UndefinedMetricWarning: Precision is ill-defined and being set to 0.0 in labels with no predicted samples. Use `zero_division` parameter to control this behavior.\n",
      "  _warn_prf(average, modifier, f\"{metric.capitalize()} is\", len(result))\n"
     ]
    },
    {
     "name": "stdout",
     "output_type": "stream",
     "text": [
      "Best parameters found: {'bootstrap': True, 'max_depth': 10, 'min_samples_leaf': 1, 'min_samples_split': 10, 'n_estimators': 200}\n",
      "Best cross-validation accuracy: 0.5178571428571428\n",
      "Optimizing hyperparameters for Metabolite_Joint-RPCA, traintest_0...\n"
     ]
    },
    {
     "name": "stderr",
     "output_type": "stream",
     "text": [
      "/Users/biacordazzo/opt/anaconda3/envs/qiime2-amplicon-2024.5/lib/python3.9/site-packages/sklearn/base.py:486: UserWarning: X has feature names, but RandomForestClassifier was fitted without feature names\n",
      "  warnings.warn(\n",
      "/Users/biacordazzo/opt/anaconda3/envs/qiime2-amplicon-2024.5/lib/python3.9/site-packages/sklearn/metrics/_classification.py:1509: UndefinedMetricWarning: Precision is ill-defined and being set to 0.0 in labels with no predicted samples. Use `zero_division` parameter to control this behavior.\n",
      "  _warn_prf(average, modifier, f\"{metric.capitalize()} is\", len(result))\n",
      "/Users/biacordazzo/opt/anaconda3/envs/qiime2-amplicon-2024.5/lib/python3.9/site-packages/sklearn/metrics/_classification.py:1509: UndefinedMetricWarning: Precision is ill-defined and being set to 0.0 in labels with no predicted samples. Use `zero_division` parameter to control this behavior.\n",
      "  _warn_prf(average, modifier, f\"{metric.capitalize()} is\", len(result))\n",
      "/Users/biacordazzo/opt/anaconda3/envs/qiime2-amplicon-2024.5/lib/python3.9/site-packages/sklearn/metrics/_classification.py:1509: UndefinedMetricWarning: Precision is ill-defined and being set to 0.0 in labels with no predicted samples. Use `zero_division` parameter to control this behavior.\n",
      "  _warn_prf(average, modifier, f\"{metric.capitalize()} is\", len(result))\n"
     ]
    },
    {
     "name": "stdout",
     "output_type": "stream",
     "text": [
      "Best parameters found: {'bootstrap': True, 'max_depth': 10, 'min_samples_leaf': 4, 'min_samples_split': 2, 'n_estimators': 200}\n",
      "Best cross-validation accuracy: 0.4642857142857143\n",
      "Optimizing hyperparameters for Metabolite_Joint-RPCA, traintest_1...\n"
     ]
    },
    {
     "name": "stderr",
     "output_type": "stream",
     "text": [
      "/Users/biacordazzo/opt/anaconda3/envs/qiime2-amplicon-2024.5/lib/python3.9/site-packages/sklearn/base.py:486: UserWarning: X has feature names, but RandomForestClassifier was fitted without feature names\n",
      "  warnings.warn(\n",
      "/Users/biacordazzo/opt/anaconda3/envs/qiime2-amplicon-2024.5/lib/python3.9/site-packages/sklearn/metrics/_classification.py:1509: UndefinedMetricWarning: Precision is ill-defined and being set to 0.0 in labels with no predicted samples. Use `zero_division` parameter to control this behavior.\n",
      "  _warn_prf(average, modifier, f\"{metric.capitalize()} is\", len(result))\n",
      "/Users/biacordazzo/opt/anaconda3/envs/qiime2-amplicon-2024.5/lib/python3.9/site-packages/sklearn/metrics/_classification.py:1509: UndefinedMetricWarning: Precision is ill-defined and being set to 0.0 in labels with no predicted samples. Use `zero_division` parameter to control this behavior.\n",
      "  _warn_prf(average, modifier, f\"{metric.capitalize()} is\", len(result))\n",
      "/Users/biacordazzo/opt/anaconda3/envs/qiime2-amplicon-2024.5/lib/python3.9/site-packages/sklearn/metrics/_classification.py:1509: UndefinedMetricWarning: Precision is ill-defined and being set to 0.0 in labels with no predicted samples. Use `zero_division` parameter to control this behavior.\n",
      "  _warn_prf(average, modifier, f\"{metric.capitalize()} is\", len(result))\n"
     ]
    },
    {
     "name": "stdout",
     "output_type": "stream",
     "text": [
      "Best parameters found: {'bootstrap': True, 'max_depth': None, 'min_samples_leaf': 1, 'min_samples_split': 10, 'n_estimators': 300}\n",
      "Best cross-validation accuracy: 0.42857142857142855\n",
      "Optimizing hyperparameters for Metabolite_Joint-RPCA, traintest_2...\n"
     ]
    },
    {
     "name": "stderr",
     "output_type": "stream",
     "text": [
      "/Users/biacordazzo/opt/anaconda3/envs/qiime2-amplicon-2024.5/lib/python3.9/site-packages/sklearn/base.py:486: UserWarning: X has feature names, but RandomForestClassifier was fitted without feature names\n",
      "  warnings.warn(\n",
      "/Users/biacordazzo/opt/anaconda3/envs/qiime2-amplicon-2024.5/lib/python3.9/site-packages/sklearn/metrics/_classification.py:1509: UndefinedMetricWarning: Precision is ill-defined and being set to 0.0 in labels with no predicted samples. Use `zero_division` parameter to control this behavior.\n",
      "  _warn_prf(average, modifier, f\"{metric.capitalize()} is\", len(result))\n",
      "/Users/biacordazzo/opt/anaconda3/envs/qiime2-amplicon-2024.5/lib/python3.9/site-packages/sklearn/metrics/_classification.py:1509: UndefinedMetricWarning: Precision is ill-defined and being set to 0.0 in labels with no predicted samples. Use `zero_division` parameter to control this behavior.\n",
      "  _warn_prf(average, modifier, f\"{metric.capitalize()} is\", len(result))\n",
      "/Users/biacordazzo/opt/anaconda3/envs/qiime2-amplicon-2024.5/lib/python3.9/site-packages/sklearn/metrics/_classification.py:1509: UndefinedMetricWarning: Precision is ill-defined and being set to 0.0 in labels with no predicted samples. Use `zero_division` parameter to control this behavior.\n",
      "  _warn_prf(average, modifier, f\"{metric.capitalize()} is\", len(result))\n"
     ]
    },
    {
     "name": "stdout",
     "output_type": "stream",
     "text": [
      "Best parameters found: {'bootstrap': True, 'max_depth': None, 'min_samples_leaf': 2, 'min_samples_split': 10, 'n_estimators': 100}\n",
      "Best cross-validation accuracy: 0.47857142857142854\n",
      "Optimizing hyperparameters for Metabolite_Joint-RPCA, traintest_3...\n"
     ]
    },
    {
     "name": "stderr",
     "output_type": "stream",
     "text": [
      "/Users/biacordazzo/opt/anaconda3/envs/qiime2-amplicon-2024.5/lib/python3.9/site-packages/sklearn/base.py:486: UserWarning: X has feature names, but RandomForestClassifier was fitted without feature names\n",
      "  warnings.warn(\n"
     ]
    },
    {
     "name": "stdout",
     "output_type": "stream",
     "text": [
      "Best parameters found: {'bootstrap': True, 'max_depth': None, 'min_samples_leaf': 1, 'min_samples_split': 10, 'n_estimators': 100}\n",
      "Best cross-validation accuracy: 0.42142857142857143\n",
      "Optimizing hyperparameters for Metabolite_Joint-RPCA, traintest_4...\n"
     ]
    },
    {
     "name": "stderr",
     "output_type": "stream",
     "text": [
      "/Users/biacordazzo/opt/anaconda3/envs/qiime2-amplicon-2024.5/lib/python3.9/site-packages/sklearn/base.py:486: UserWarning: X has feature names, but RandomForestClassifier was fitted without feature names\n",
      "  warnings.warn(\n"
     ]
    },
    {
     "name": "stdout",
     "output_type": "stream",
     "text": [
      "Best parameters found: {'bootstrap': True, 'max_depth': None, 'min_samples_leaf': 2, 'min_samples_split': 10, 'n_estimators': 200}\n",
      "Best cross-validation accuracy: 0.4428571428571429\n",
      "Optimizing hyperparameters for Metabolite_Joint-RPCA, traintest_5...\n"
     ]
    },
    {
     "name": "stderr",
     "output_type": "stream",
     "text": [
      "/Users/biacordazzo/opt/anaconda3/envs/qiime2-amplicon-2024.5/lib/python3.9/site-packages/sklearn/base.py:486: UserWarning: X has feature names, but RandomForestClassifier was fitted without feature names\n",
      "  warnings.warn(\n",
      "/Users/biacordazzo/opt/anaconda3/envs/qiime2-amplicon-2024.5/lib/python3.9/site-packages/sklearn/metrics/_classification.py:1509: UndefinedMetricWarning: Precision is ill-defined and being set to 0.0 in labels with no predicted samples. Use `zero_division` parameter to control this behavior.\n",
      "  _warn_prf(average, modifier, f\"{metric.capitalize()} is\", len(result))\n",
      "/Users/biacordazzo/opt/anaconda3/envs/qiime2-amplicon-2024.5/lib/python3.9/site-packages/sklearn/metrics/_classification.py:1509: UndefinedMetricWarning: Precision is ill-defined and being set to 0.0 in labels with no predicted samples. Use `zero_division` parameter to control this behavior.\n",
      "  _warn_prf(average, modifier, f\"{metric.capitalize()} is\", len(result))\n",
      "/Users/biacordazzo/opt/anaconda3/envs/qiime2-amplicon-2024.5/lib/python3.9/site-packages/sklearn/metrics/_classification.py:1509: UndefinedMetricWarning: Precision is ill-defined and being set to 0.0 in labels with no predicted samples. Use `zero_division` parameter to control this behavior.\n",
      "  _warn_prf(average, modifier, f\"{metric.capitalize()} is\", len(result))\n"
     ]
    },
    {
     "name": "stdout",
     "output_type": "stream",
     "text": [
      "Best parameters found: {'bootstrap': False, 'max_depth': 10, 'min_samples_leaf': 2, 'min_samples_split': 2, 'n_estimators': 100}\n",
      "Best cross-validation accuracy: 0.42857142857142855\n",
      "Optimizing hyperparameters for Metabolite_Joint-RPCA, traintest_6...\n"
     ]
    },
    {
     "name": "stderr",
     "output_type": "stream",
     "text": [
      "/Users/biacordazzo/opt/anaconda3/envs/qiime2-amplicon-2024.5/lib/python3.9/site-packages/sklearn/base.py:486: UserWarning: X has feature names, but RandomForestClassifier was fitted without feature names\n",
      "  warnings.warn(\n",
      "/Users/biacordazzo/opt/anaconda3/envs/qiime2-amplicon-2024.5/lib/python3.9/site-packages/sklearn/metrics/_classification.py:1509: UndefinedMetricWarning: Precision is ill-defined and being set to 0.0 in labels with no predicted samples. Use `zero_division` parameter to control this behavior.\n",
      "  _warn_prf(average, modifier, f\"{metric.capitalize()} is\", len(result))\n",
      "/Users/biacordazzo/opt/anaconda3/envs/qiime2-amplicon-2024.5/lib/python3.9/site-packages/sklearn/metrics/_classification.py:1509: UndefinedMetricWarning: Precision is ill-defined and being set to 0.0 in labels with no predicted samples. Use `zero_division` parameter to control this behavior.\n",
      "  _warn_prf(average, modifier, f\"{metric.capitalize()} is\", len(result))\n",
      "/Users/biacordazzo/opt/anaconda3/envs/qiime2-amplicon-2024.5/lib/python3.9/site-packages/sklearn/metrics/_classification.py:1509: UndefinedMetricWarning: Precision is ill-defined and being set to 0.0 in labels with no predicted samples. Use `zero_division` parameter to control this behavior.\n",
      "  _warn_prf(average, modifier, f\"{metric.capitalize()} is\", len(result))\n"
     ]
    },
    {
     "name": "stdout",
     "output_type": "stream",
     "text": [
      "Best parameters found: {'bootstrap': True, 'max_depth': None, 'min_samples_leaf': 4, 'min_samples_split': 10, 'n_estimators': 100}\n",
      "Best cross-validation accuracy: 0.4607142857142857\n",
      "Optimizing hyperparameters for Metabolite_Joint-RPCA, traintest_7...\n"
     ]
    },
    {
     "name": "stderr",
     "output_type": "stream",
     "text": [
      "/Users/biacordazzo/opt/anaconda3/envs/qiime2-amplicon-2024.5/lib/python3.9/site-packages/sklearn/base.py:486: UserWarning: X has feature names, but RandomForestClassifier was fitted without feature names\n",
      "  warnings.warn(\n",
      "/Users/biacordazzo/opt/anaconda3/envs/qiime2-amplicon-2024.5/lib/python3.9/site-packages/sklearn/metrics/_classification.py:1509: UndefinedMetricWarning: Precision is ill-defined and being set to 0.0 in labels with no predicted samples. Use `zero_division` parameter to control this behavior.\n",
      "  _warn_prf(average, modifier, f\"{metric.capitalize()} is\", len(result))\n",
      "/Users/biacordazzo/opt/anaconda3/envs/qiime2-amplicon-2024.5/lib/python3.9/site-packages/sklearn/metrics/_classification.py:1509: UndefinedMetricWarning: Precision is ill-defined and being set to 0.0 in labels with no predicted samples. Use `zero_division` parameter to control this behavior.\n",
      "  _warn_prf(average, modifier, f\"{metric.capitalize()} is\", len(result))\n",
      "/Users/biacordazzo/opt/anaconda3/envs/qiime2-amplicon-2024.5/lib/python3.9/site-packages/sklearn/metrics/_classification.py:1509: UndefinedMetricWarning: Precision is ill-defined and being set to 0.0 in labels with no predicted samples. Use `zero_division` parameter to control this behavior.\n",
      "  _warn_prf(average, modifier, f\"{metric.capitalize()} is\", len(result))\n"
     ]
    },
    {
     "name": "stdout",
     "output_type": "stream",
     "text": [
      "Best parameters found: {'bootstrap': True, 'max_depth': None, 'min_samples_leaf': 4, 'min_samples_split': 10, 'n_estimators': 300}\n",
      "Best cross-validation accuracy: 0.46071428571428574\n",
      "Optimizing hyperparameters for Metabolite_Joint-RPCA, traintest_8...\n"
     ]
    },
    {
     "name": "stderr",
     "output_type": "stream",
     "text": [
      "/Users/biacordazzo/opt/anaconda3/envs/qiime2-amplicon-2024.5/lib/python3.9/site-packages/sklearn/base.py:486: UserWarning: X has feature names, but RandomForestClassifier was fitted without feature names\n",
      "  warnings.warn(\n",
      "/Users/biacordazzo/opt/anaconda3/envs/qiime2-amplicon-2024.5/lib/python3.9/site-packages/sklearn/metrics/_classification.py:1509: UndefinedMetricWarning: Precision is ill-defined and being set to 0.0 in labels with no predicted samples. Use `zero_division` parameter to control this behavior.\n",
      "  _warn_prf(average, modifier, f\"{metric.capitalize()} is\", len(result))\n",
      "/Users/biacordazzo/opt/anaconda3/envs/qiime2-amplicon-2024.5/lib/python3.9/site-packages/sklearn/metrics/_classification.py:1509: UndefinedMetricWarning: Precision is ill-defined and being set to 0.0 in labels with no predicted samples. Use `zero_division` parameter to control this behavior.\n",
      "  _warn_prf(average, modifier, f\"{metric.capitalize()} is\", len(result))\n",
      "/Users/biacordazzo/opt/anaconda3/envs/qiime2-amplicon-2024.5/lib/python3.9/site-packages/sklearn/metrics/_classification.py:1509: UndefinedMetricWarning: Precision is ill-defined and being set to 0.0 in labels with no predicted samples. Use `zero_division` parameter to control this behavior.\n",
      "  _warn_prf(average, modifier, f\"{metric.capitalize()} is\", len(result))\n"
     ]
    },
    {
     "name": "stdout",
     "output_type": "stream",
     "text": [
      "Best parameters found: {'bootstrap': True, 'max_depth': 10, 'min_samples_leaf': 2, 'min_samples_split': 10, 'n_estimators': 300}\n",
      "Best cross-validation accuracy: 0.46071428571428574\n",
      "Optimizing hyperparameters for Metabolite_Joint-RPCA, traintest_9...\n"
     ]
    },
    {
     "name": "stderr",
     "output_type": "stream",
     "text": [
      "/Users/biacordazzo/opt/anaconda3/envs/qiime2-amplicon-2024.5/lib/python3.9/site-packages/sklearn/base.py:486: UserWarning: X has feature names, but RandomForestClassifier was fitted without feature names\n",
      "  warnings.warn(\n",
      "/Users/biacordazzo/opt/anaconda3/envs/qiime2-amplicon-2024.5/lib/python3.9/site-packages/sklearn/metrics/_classification.py:1509: UndefinedMetricWarning: Precision is ill-defined and being set to 0.0 in labels with no predicted samples. Use `zero_division` parameter to control this behavior.\n",
      "  _warn_prf(average, modifier, f\"{metric.capitalize()} is\", len(result))\n",
      "/Users/biacordazzo/opt/anaconda3/envs/qiime2-amplicon-2024.5/lib/python3.9/site-packages/sklearn/metrics/_classification.py:1509: UndefinedMetricWarning: Precision is ill-defined and being set to 0.0 in labels with no predicted samples. Use `zero_division` parameter to control this behavior.\n",
      "  _warn_prf(average, modifier, f\"{metric.capitalize()} is\", len(result))\n",
      "/Users/biacordazzo/opt/anaconda3/envs/qiime2-amplicon-2024.5/lib/python3.9/site-packages/sklearn/metrics/_classification.py:1509: UndefinedMetricWarning: Precision is ill-defined and being set to 0.0 in labels with no predicted samples. Use `zero_division` parameter to control this behavior.\n",
      "  _warn_prf(average, modifier, f\"{metric.capitalize()} is\", len(result))\n"
     ]
    },
    {
     "name": "stdout",
     "output_type": "stream",
     "text": [
      "Best parameters found: {'bootstrap': True, 'max_depth': None, 'min_samples_leaf': 4, 'min_samples_split': 10, 'n_estimators': 100}\n",
      "Best cross-validation accuracy: 0.4892857142857143\n"
     ]
    },
    {
     "name": "stderr",
     "output_type": "stream",
     "text": [
      "/Users/biacordazzo/opt/anaconda3/envs/qiime2-amplicon-2024.5/lib/python3.9/site-packages/sklearn/base.py:486: UserWarning: X has feature names, but RandomForestClassifier was fitted without feature names\n",
      "  warnings.warn(\n",
      "/Users/biacordazzo/opt/anaconda3/envs/qiime2-amplicon-2024.5/lib/python3.9/site-packages/sklearn/metrics/_classification.py:1509: UndefinedMetricWarning: Precision is ill-defined and being set to 0.0 in labels with no predicted samples. Use `zero_division` parameter to control this behavior.\n",
      "  _warn_prf(average, modifier, f\"{metric.capitalize()} is\", len(result))\n",
      "/Users/biacordazzo/opt/anaconda3/envs/qiime2-amplicon-2024.5/lib/python3.9/site-packages/sklearn/metrics/_classification.py:1509: UndefinedMetricWarning: Precision is ill-defined and being set to 0.0 in labels with no predicted samples. Use `zero_division` parameter to control this behavior.\n",
      "  _warn_prf(average, modifier, f\"{metric.capitalize()} is\", len(result))\n",
      "/Users/biacordazzo/opt/anaconda3/envs/qiime2-amplicon-2024.5/lib/python3.9/site-packages/sklearn/metrics/_classification.py:1509: UndefinedMetricWarning: Precision is ill-defined and being set to 0.0 in labels with no predicted samples. Use `zero_division` parameter to control this behavior.\n",
      "  _warn_prf(average, modifier, f\"{metric.capitalize()} is\", len(result))\n"
     ]
    }
   ],
   "source": [
    "#STAGE OF DECOMPOSITION\n",
    "acc_ratio_stage_opt = rf_acc(ord_tables=[rpca_traj['18S'], rpca_traj['mag'], rpca_traj['gene'],\n",
    "                                         rpca_traj['gene_module'], rpca_traj['metabolite'],\n",
    "                                         joint_rpca_traj['18S'], joint_rpca_traj['mag'], joint_rpca_traj['gene'],\n",
    "                                         joint_rpca_traj['gene_module'], joint_rpca_traj['metabolite']],\n",
    "                             ord_ids=[\"18S_RPCA\", \"MAG_RPCA\", \"Gene_RPCA\", \n",
    "                                      \"Gene_Module_RPCA\", \"Metabolite_RPCA\",\n",
    "                                      \"18S_Joint-RPCA\", \"MAG_Joint-RPCA\", \"Gene_Joint-RPCA\", \n",
    "                                      \"Gene_Module_Joint-RPCA\", \"Metabolite_Joint-RPCA\"],\n",
    "                             shared_mt=metadata, cat_of_interest='add_0c_group', ordination=False, \n",
    "                             n_folds=10, random_state=42, optimize=True, param_grid=param_grid)"
   ]
  },
  {
   "cell_type": "code",
   "execution_count": 47,
   "metadata": {},
   "outputs": [
    {
     "data": {
      "text/html": [
       "<div>\n",
       "<style scoped>\n",
       "    .dataframe tbody tr th:only-of-type {\n",
       "        vertical-align: middle;\n",
       "    }\n",
       "\n",
       "    .dataframe tbody tr th {\n",
       "        vertical-align: top;\n",
       "    }\n",
       "\n",
       "    .dataframe thead th {\n",
       "        text-align: right;\n",
       "    }\n",
       "</style>\n",
       "<table border=\"1\" class=\"dataframe\">\n",
       "  <thead>\n",
       "    <tr style=\"text-align: right;\">\n",
       "      <th></th>\n",
       "      <th>Omic</th>\n",
       "      <th>Fold</th>\n",
       "      <th>Accuracy</th>\n",
       "      <th>Report</th>\n",
       "      <th>Optimization</th>\n",
       "    </tr>\n",
       "  </thead>\n",
       "  <tbody>\n",
       "    <tr>\n",
       "      <th>0</th>\n",
       "      <td>18S_RPCA</td>\n",
       "      <td>traintest_0</td>\n",
       "      <td>0.488372</td>\n",
       "      <td>precision    recall  f1-score   ...</td>\n",
       "      <td>{'bootstrap': False, 'max_depth': 10, 'min_sam...</td>\n",
       "    </tr>\n",
       "    <tr>\n",
       "      <th>1</th>\n",
       "      <td>18S_RPCA</td>\n",
       "      <td>traintest_1</td>\n",
       "      <td>0.390805</td>\n",
       "      <td>precision    recall  f1-score   ...</td>\n",
       "      <td>{'bootstrap': True, 'max_depth': None, 'min_sa...</td>\n",
       "    </tr>\n",
       "    <tr>\n",
       "      <th>2</th>\n",
       "      <td>18S_RPCA</td>\n",
       "      <td>traintest_2</td>\n",
       "      <td>0.487179</td>\n",
       "      <td>precision    recall  f1-score   ...</td>\n",
       "      <td>{'bootstrap': True, 'max_depth': 10, 'min_samp...</td>\n",
       "    </tr>\n",
       "    <tr>\n",
       "      <th>3</th>\n",
       "      <td>18S_RPCA</td>\n",
       "      <td>traintest_3</td>\n",
       "      <td>0.458824</td>\n",
       "      <td>precision    recall  f1-score   ...</td>\n",
       "      <td>{'bootstrap': False, 'max_depth': 10, 'min_sam...</td>\n",
       "    </tr>\n",
       "    <tr>\n",
       "      <th>4</th>\n",
       "      <td>18S_RPCA</td>\n",
       "      <td>traintest_4</td>\n",
       "      <td>0.407407</td>\n",
       "      <td>precision    recall  f1-score   ...</td>\n",
       "      <td>{'bootstrap': False, 'max_depth': 10, 'min_sam...</td>\n",
       "    </tr>\n",
       "  </tbody>\n",
       "</table>\n",
       "</div>"
      ],
      "text/plain": [
       "       Omic         Fold  Accuracy  \\\n",
       "0  18S_RPCA  traintest_0  0.488372   \n",
       "1  18S_RPCA  traintest_1  0.390805   \n",
       "2  18S_RPCA  traintest_2  0.487179   \n",
       "3  18S_RPCA  traintest_3  0.458824   \n",
       "4  18S_RPCA  traintest_4  0.407407   \n",
       "\n",
       "                                              Report  \\\n",
       "0                precision    recall  f1-score   ...   \n",
       "1                precision    recall  f1-score   ...   \n",
       "2                precision    recall  f1-score   ...   \n",
       "3                precision    recall  f1-score   ...   \n",
       "4                precision    recall  f1-score   ...   \n",
       "\n",
       "                                        Optimization  \n",
       "0  {'bootstrap': False, 'max_depth': 10, 'min_sam...  \n",
       "1  {'bootstrap': True, 'max_depth': None, 'min_sa...  \n",
       "2  {'bootstrap': True, 'max_depth': 10, 'min_samp...  \n",
       "3  {'bootstrap': False, 'max_depth': 10, 'min_sam...  \n",
       "4  {'bootstrap': False, 'max_depth': 10, 'min_sam...  "
      ]
     },
     "metadata": {},
     "output_type": "display_data"
    }
   ],
   "source": [
    "#save results\n",
    "acc_ratio_stage_opt.to_csv('../results/joint-rpca/rf_acc_{}-ratio_stage_opt.csv'.format(pc_to_use), index=False)\n",
    "#read results\n",
    "#acc_ratio_stage_opt = pd.read_csv('../results/joint-rpca/rf_acc_{}-ratio_stage_opt.csv'.format(pc_to_use))\n",
    "display(acc_ratio_stage_opt.head())"
   ]
  },
  {
   "cell_type": "code",
   "execution_count": 44,
   "metadata": {},
   "outputs": [
    {
     "name": "stdout",
     "output_type": "stream",
     "text": [
      "Optimizing hyperparameters for 18S_RPCA, traintest_0...\n",
      "Best parameters found: {'bootstrap': False, 'max_depth': None, 'min_samples_leaf': 4, 'min_samples_split': 10, 'n_estimators': 100}\n",
      "Best cross-validation accuracy: 0.48392857142857143\n",
      "Optimizing hyperparameters for 18S_RPCA, traintest_1...\n"
     ]
    },
    {
     "name": "stderr",
     "output_type": "stream",
     "text": [
      "/Users/biacordazzo/opt/anaconda3/envs/qiime2-amplicon-2024.5/lib/python3.9/site-packages/sklearn/base.py:486: UserWarning: X has feature names, but RandomForestClassifier was fitted without feature names\n",
      "  warnings.warn(\n"
     ]
    },
    {
     "name": "stdout",
     "output_type": "stream",
     "text": [
      "Best parameters found: {'bootstrap': True, 'max_depth': None, 'min_samples_leaf': 4, 'min_samples_split': 10, 'n_estimators': 100}\n",
      "Best cross-validation accuracy: 0.4610544217687075\n",
      "Optimizing hyperparameters for 18S_RPCA, traintest_2...\n"
     ]
    },
    {
     "name": "stderr",
     "output_type": "stream",
     "text": [
      "/Users/biacordazzo/opt/anaconda3/envs/qiime2-amplicon-2024.5/lib/python3.9/site-packages/sklearn/base.py:486: UserWarning: X has feature names, but RandomForestClassifier was fitted without feature names\n",
      "  warnings.warn(\n"
     ]
    },
    {
     "name": "stdout",
     "output_type": "stream",
     "text": [
      "Best parameters found: {'bootstrap': False, 'max_depth': 10, 'min_samples_leaf': 1, 'min_samples_split': 10, 'n_estimators': 100}\n",
      "Best cross-validation accuracy: 0.44399999999999995\n",
      "Optimizing hyperparameters for 18S_RPCA, traintest_3...\n"
     ]
    },
    {
     "name": "stderr",
     "output_type": "stream",
     "text": [
      "/Users/biacordazzo/opt/anaconda3/envs/qiime2-amplicon-2024.5/lib/python3.9/site-packages/sklearn/base.py:486: UserWarning: X has feature names, but RandomForestClassifier was fitted without feature names\n",
      "  warnings.warn(\n"
     ]
    },
    {
     "name": "stdout",
     "output_type": "stream",
     "text": [
      "Best parameters found: {'bootstrap': True, 'max_depth': None, 'min_samples_leaf': 4, 'min_samples_split': 10, 'n_estimators': 200}\n",
      "Best cross-validation accuracy: 0.5106292517006803\n",
      "Optimizing hyperparameters for 18S_RPCA, traintest_4...\n"
     ]
    },
    {
     "name": "stderr",
     "output_type": "stream",
     "text": [
      "/Users/biacordazzo/opt/anaconda3/envs/qiime2-amplicon-2024.5/lib/python3.9/site-packages/sklearn/base.py:486: UserWarning: X has feature names, but RandomForestClassifier was fitted without feature names\n",
      "  warnings.warn(\n"
     ]
    },
    {
     "name": "stdout",
     "output_type": "stream",
     "text": [
      "Best parameters found: {'bootstrap': False, 'max_depth': None, 'min_samples_leaf': 4, 'min_samples_split': 2, 'n_estimators': 100}\n",
      "Best cross-validation accuracy: 0.437795918367347\n",
      "Optimizing hyperparameters for 18S_RPCA, traintest_5...\n"
     ]
    },
    {
     "name": "stderr",
     "output_type": "stream",
     "text": [
      "/Users/biacordazzo/opt/anaconda3/envs/qiime2-amplicon-2024.5/lib/python3.9/site-packages/sklearn/base.py:486: UserWarning: X has feature names, but RandomForestClassifier was fitted without feature names\n",
      "  warnings.warn(\n"
     ]
    },
    {
     "name": "stdout",
     "output_type": "stream",
     "text": [
      "Best parameters found: {'bootstrap': False, 'max_depth': None, 'min_samples_leaf': 2, 'min_samples_split': 10, 'n_estimators': 100}\n",
      "Best cross-validation accuracy: 0.4625850340136054\n",
      "Optimizing hyperparameters for 18S_RPCA, traintest_6...\n"
     ]
    },
    {
     "name": "stderr",
     "output_type": "stream",
     "text": [
      "/Users/biacordazzo/opt/anaconda3/envs/qiime2-amplicon-2024.5/lib/python3.9/site-packages/sklearn/base.py:486: UserWarning: X has feature names, but RandomForestClassifier was fitted without feature names\n",
      "  warnings.warn(\n"
     ]
    },
    {
     "name": "stdout",
     "output_type": "stream",
     "text": [
      "Best parameters found: {'bootstrap': True, 'max_depth': None, 'min_samples_leaf': 4, 'min_samples_split': 10, 'n_estimators': 200}\n",
      "Best cross-validation accuracy: 0.49574829931972786\n",
      "Optimizing hyperparameters for 18S_RPCA, traintest_7...\n"
     ]
    },
    {
     "name": "stderr",
     "output_type": "stream",
     "text": [
      "/Users/biacordazzo/opt/anaconda3/envs/qiime2-amplicon-2024.5/lib/python3.9/site-packages/sklearn/base.py:486: UserWarning: X has feature names, but RandomForestClassifier was fitted without feature names\n",
      "  warnings.warn(\n"
     ]
    },
    {
     "name": "stdout",
     "output_type": "stream",
     "text": [
      "Best parameters found: {'bootstrap': True, 'max_depth': None, 'min_samples_leaf': 1, 'min_samples_split': 10, 'n_estimators': 100}\n",
      "Best cross-validation accuracy: 0.4383503401360544\n",
      "Optimizing hyperparameters for 18S_RPCA, traintest_8...\n"
     ]
    },
    {
     "name": "stderr",
     "output_type": "stream",
     "text": [
      "/Users/biacordazzo/opt/anaconda3/envs/qiime2-amplicon-2024.5/lib/python3.9/site-packages/sklearn/base.py:486: UserWarning: X has feature names, but RandomForestClassifier was fitted without feature names\n",
      "  warnings.warn(\n"
     ]
    },
    {
     "name": "stdout",
     "output_type": "stream",
     "text": [
      "Best parameters found: {'bootstrap': True, 'max_depth': None, 'min_samples_leaf': 4, 'min_samples_split': 10, 'n_estimators': 100}\n",
      "Best cross-validation accuracy: 0.437795918367347\n",
      "Optimizing hyperparameters for 18S_RPCA, traintest_9...\n"
     ]
    },
    {
     "name": "stderr",
     "output_type": "stream",
     "text": [
      "/Users/biacordazzo/opt/anaconda3/envs/qiime2-amplicon-2024.5/lib/python3.9/site-packages/sklearn/base.py:486: UserWarning: X has feature names, but RandomForestClassifier was fitted without feature names\n",
      "  warnings.warn(\n"
     ]
    },
    {
     "name": "stdout",
     "output_type": "stream",
     "text": [
      "Best parameters found: {'bootstrap': True, 'max_depth': None, 'min_samples_leaf': 4, 'min_samples_split': 10, 'n_estimators': 300}\n",
      "Best cross-validation accuracy: 0.4511904761904762\n",
      "Optimizing hyperparameters for MAG_RPCA, traintest_0...\n"
     ]
    },
    {
     "name": "stderr",
     "output_type": "stream",
     "text": [
      "/Users/biacordazzo/opt/anaconda3/envs/qiime2-amplicon-2024.5/lib/python3.9/site-packages/sklearn/base.py:486: UserWarning: X has feature names, but RandomForestClassifier was fitted without feature names\n",
      "  warnings.warn(\n"
     ]
    },
    {
     "name": "stdout",
     "output_type": "stream",
     "text": [
      "Best parameters found: {'bootstrap': True, 'max_depth': None, 'min_samples_leaf': 2, 'min_samples_split': 10, 'n_estimators': 200}\n",
      "Best cross-validation accuracy: 0.41785714285714287\n",
      "Optimizing hyperparameters for MAG_RPCA, traintest_1...\n"
     ]
    },
    {
     "name": "stderr",
     "output_type": "stream",
     "text": [
      "/Users/biacordazzo/opt/anaconda3/envs/qiime2-amplicon-2024.5/lib/python3.9/site-packages/sklearn/base.py:486: UserWarning: X has feature names, but RandomForestClassifier was fitted without feature names\n",
      "  warnings.warn(\n"
     ]
    },
    {
     "name": "stdout",
     "output_type": "stream",
     "text": [
      "Best parameters found: {'bootstrap': True, 'max_depth': 10, 'min_samples_leaf': 1, 'min_samples_split': 10, 'n_estimators': 100}\n",
      "Best cross-validation accuracy: 0.48571428571428577\n",
      "Optimizing hyperparameters for MAG_RPCA, traintest_2...\n"
     ]
    },
    {
     "name": "stderr",
     "output_type": "stream",
     "text": [
      "/Users/biacordazzo/opt/anaconda3/envs/qiime2-amplicon-2024.5/lib/python3.9/site-packages/sklearn/base.py:486: UserWarning: X has feature names, but RandomForestClassifier was fitted without feature names\n",
      "  warnings.warn(\n"
     ]
    },
    {
     "name": "stdout",
     "output_type": "stream",
     "text": [
      "Best parameters found: {'bootstrap': True, 'max_depth': None, 'min_samples_leaf': 4, 'min_samples_split': 10, 'n_estimators': 300}\n",
      "Best cross-validation accuracy: 0.4214285714285714\n",
      "Optimizing hyperparameters for MAG_RPCA, traintest_3...\n"
     ]
    },
    {
     "name": "stderr",
     "output_type": "stream",
     "text": [
      "/Users/biacordazzo/opt/anaconda3/envs/qiime2-amplicon-2024.5/lib/python3.9/site-packages/sklearn/base.py:486: UserWarning: X has feature names, but RandomForestClassifier was fitted without feature names\n",
      "  warnings.warn(\n"
     ]
    },
    {
     "name": "stdout",
     "output_type": "stream",
     "text": [
      "Best parameters found: {'bootstrap': True, 'max_depth': None, 'min_samples_leaf': 4, 'min_samples_split': 10, 'n_estimators': 100}\n",
      "Best cross-validation accuracy: 0.43571428571428567\n",
      "Optimizing hyperparameters for MAG_RPCA, traintest_4...\n"
     ]
    },
    {
     "name": "stderr",
     "output_type": "stream",
     "text": [
      "/Users/biacordazzo/opt/anaconda3/envs/qiime2-amplicon-2024.5/lib/python3.9/site-packages/sklearn/base.py:486: UserWarning: X has feature names, but RandomForestClassifier was fitted without feature names\n",
      "  warnings.warn(\n"
     ]
    },
    {
     "name": "stdout",
     "output_type": "stream",
     "text": [
      "Best parameters found: {'bootstrap': True, 'max_depth': 10, 'min_samples_leaf': 2, 'min_samples_split': 10, 'n_estimators': 300}\n",
      "Best cross-validation accuracy: 0.475\n",
      "Optimizing hyperparameters for MAG_RPCA, traintest_5...\n"
     ]
    },
    {
     "name": "stderr",
     "output_type": "stream",
     "text": [
      "/Users/biacordazzo/opt/anaconda3/envs/qiime2-amplicon-2024.5/lib/python3.9/site-packages/sklearn/base.py:486: UserWarning: X has feature names, but RandomForestClassifier was fitted without feature names\n",
      "  warnings.warn(\n"
     ]
    },
    {
     "name": "stdout",
     "output_type": "stream",
     "text": [
      "Best parameters found: {'bootstrap': True, 'max_depth': None, 'min_samples_leaf': 2, 'min_samples_split': 10, 'n_estimators': 300}\n",
      "Best cross-validation accuracy: 0.45357142857142857\n",
      "Optimizing hyperparameters for MAG_RPCA, traintest_6...\n"
     ]
    },
    {
     "name": "stderr",
     "output_type": "stream",
     "text": [
      "/Users/biacordazzo/opt/anaconda3/envs/qiime2-amplicon-2024.5/lib/python3.9/site-packages/sklearn/base.py:486: UserWarning: X has feature names, but RandomForestClassifier was fitted without feature names\n",
      "  warnings.warn(\n"
     ]
    },
    {
     "name": "stdout",
     "output_type": "stream",
     "text": [
      "Best parameters found: {'bootstrap': True, 'max_depth': None, 'min_samples_leaf': 2, 'min_samples_split': 10, 'n_estimators': 300}\n",
      "Best cross-validation accuracy: 0.42857142857142855\n",
      "Optimizing hyperparameters for MAG_RPCA, traintest_7...\n"
     ]
    },
    {
     "name": "stderr",
     "output_type": "stream",
     "text": [
      "/Users/biacordazzo/opt/anaconda3/envs/qiime2-amplicon-2024.5/lib/python3.9/site-packages/sklearn/base.py:486: UserWarning: X has feature names, but RandomForestClassifier was fitted without feature names\n",
      "  warnings.warn(\n"
     ]
    },
    {
     "name": "stdout",
     "output_type": "stream",
     "text": [
      "Best parameters found: {'bootstrap': False, 'max_depth': None, 'min_samples_leaf': 4, 'min_samples_split': 2, 'n_estimators': 100}\n",
      "Best cross-validation accuracy: 0.45714285714285713\n",
      "Optimizing hyperparameters for MAG_RPCA, traintest_8...\n"
     ]
    },
    {
     "name": "stderr",
     "output_type": "stream",
     "text": [
      "/Users/biacordazzo/opt/anaconda3/envs/qiime2-amplicon-2024.5/lib/python3.9/site-packages/sklearn/base.py:486: UserWarning: X has feature names, but RandomForestClassifier was fitted without feature names\n",
      "  warnings.warn(\n"
     ]
    },
    {
     "name": "stdout",
     "output_type": "stream",
     "text": [
      "Best parameters found: {'bootstrap': True, 'max_depth': None, 'min_samples_leaf': 1, 'min_samples_split': 10, 'n_estimators': 200}\n",
      "Best cross-validation accuracy: 0.4714285714285714\n",
      "Optimizing hyperparameters for MAG_RPCA, traintest_9...\n"
     ]
    },
    {
     "name": "stderr",
     "output_type": "stream",
     "text": [
      "/Users/biacordazzo/opt/anaconda3/envs/qiime2-amplicon-2024.5/lib/python3.9/site-packages/sklearn/base.py:486: UserWarning: X has feature names, but RandomForestClassifier was fitted without feature names\n",
      "  warnings.warn(\n"
     ]
    },
    {
     "name": "stdout",
     "output_type": "stream",
     "text": [
      "Best parameters found: {'bootstrap': True, 'max_depth': 10, 'min_samples_leaf': 1, 'min_samples_split': 10, 'n_estimators': 200}\n",
      "Best cross-validation accuracy: 0.44642857142857145\n",
      "Optimizing hyperparameters for Gene_RPCA, traintest_0...\n"
     ]
    },
    {
     "name": "stderr",
     "output_type": "stream",
     "text": [
      "/Users/biacordazzo/opt/anaconda3/envs/qiime2-amplicon-2024.5/lib/python3.9/site-packages/sklearn/base.py:486: UserWarning: X has feature names, but RandomForestClassifier was fitted without feature names\n",
      "  warnings.warn(\n"
     ]
    },
    {
     "name": "stdout",
     "output_type": "stream",
     "text": [
      "Best parameters found: {'bootstrap': True, 'max_depth': None, 'min_samples_leaf': 1, 'min_samples_split': 5, 'n_estimators': 100}\n",
      "Best cross-validation accuracy: 0.31428571428571433\n",
      "Optimizing hyperparameters for Gene_RPCA, traintest_1...\n"
     ]
    },
    {
     "name": "stderr",
     "output_type": "stream",
     "text": [
      "/Users/biacordazzo/opt/anaconda3/envs/qiime2-amplicon-2024.5/lib/python3.9/site-packages/sklearn/base.py:486: UserWarning: X has feature names, but RandomForestClassifier was fitted without feature names\n",
      "  warnings.warn(\n"
     ]
    },
    {
     "name": "stdout",
     "output_type": "stream",
     "text": [
      "Best parameters found: {'bootstrap': False, 'max_depth': 10, 'min_samples_leaf': 1, 'min_samples_split': 2, 'n_estimators': 100}\n",
      "Best cross-validation accuracy: 0.31071428571428567\n",
      "Optimizing hyperparameters for Gene_RPCA, traintest_2...\n"
     ]
    },
    {
     "name": "stderr",
     "output_type": "stream",
     "text": [
      "/Users/biacordazzo/opt/anaconda3/envs/qiime2-amplicon-2024.5/lib/python3.9/site-packages/sklearn/base.py:486: UserWarning: X has feature names, but RandomForestClassifier was fitted without feature names\n",
      "  warnings.warn(\n"
     ]
    },
    {
     "name": "stdout",
     "output_type": "stream",
     "text": [
      "Best parameters found: {'bootstrap': False, 'max_depth': 10, 'min_samples_leaf': 2, 'min_samples_split': 5, 'n_estimators': 100}\n",
      "Best cross-validation accuracy: 0.34285714285714286\n",
      "Optimizing hyperparameters for Gene_RPCA, traintest_3...\n"
     ]
    },
    {
     "name": "stderr",
     "output_type": "stream",
     "text": [
      "/Users/biacordazzo/opt/anaconda3/envs/qiime2-amplicon-2024.5/lib/python3.9/site-packages/sklearn/base.py:486: UserWarning: X has feature names, but RandomForestClassifier was fitted without feature names\n",
      "  warnings.warn(\n"
     ]
    },
    {
     "name": "stdout",
     "output_type": "stream",
     "text": [
      "Best parameters found: {'bootstrap': True, 'max_depth': None, 'min_samples_leaf': 2, 'min_samples_split': 2, 'n_estimators': 300}\n",
      "Best cross-validation accuracy: 0.29285714285714287\n",
      "Optimizing hyperparameters for Gene_RPCA, traintest_4...\n"
     ]
    },
    {
     "name": "stderr",
     "output_type": "stream",
     "text": [
      "/Users/biacordazzo/opt/anaconda3/envs/qiime2-amplicon-2024.5/lib/python3.9/site-packages/sklearn/base.py:486: UserWarning: X has feature names, but RandomForestClassifier was fitted without feature names\n",
      "  warnings.warn(\n"
     ]
    },
    {
     "name": "stdout",
     "output_type": "stream",
     "text": [
      "Best parameters found: {'bootstrap': True, 'max_depth': None, 'min_samples_leaf': 1, 'min_samples_split': 2, 'n_estimators': 100}\n",
      "Best cross-validation accuracy: 0.3571428571428571\n",
      "Optimizing hyperparameters for Gene_RPCA, traintest_5...\n"
     ]
    },
    {
     "name": "stderr",
     "output_type": "stream",
     "text": [
      "/Users/biacordazzo/opt/anaconda3/envs/qiime2-amplicon-2024.5/lib/python3.9/site-packages/sklearn/base.py:486: UserWarning: X has feature names, but RandomForestClassifier was fitted without feature names\n",
      "  warnings.warn(\n"
     ]
    },
    {
     "name": "stdout",
     "output_type": "stream",
     "text": [
      "Best parameters found: {'bootstrap': False, 'max_depth': None, 'min_samples_leaf': 4, 'min_samples_split': 10, 'n_estimators': 100}\n",
      "Best cross-validation accuracy: 0.32857142857142857\n",
      "Optimizing hyperparameters for Gene_RPCA, traintest_6...\n"
     ]
    },
    {
     "name": "stderr",
     "output_type": "stream",
     "text": [
      "/Users/biacordazzo/opt/anaconda3/envs/qiime2-amplicon-2024.5/lib/python3.9/site-packages/sklearn/base.py:486: UserWarning: X has feature names, but RandomForestClassifier was fitted without feature names\n",
      "  warnings.warn(\n"
     ]
    },
    {
     "name": "stdout",
     "output_type": "stream",
     "text": [
      "Best parameters found: {'bootstrap': True, 'max_depth': None, 'min_samples_leaf': 1, 'min_samples_split': 10, 'n_estimators': 100}\n",
      "Best cross-validation accuracy: 0.3464285714285714\n",
      "Optimizing hyperparameters for Gene_RPCA, traintest_7...\n"
     ]
    },
    {
     "name": "stderr",
     "output_type": "stream",
     "text": [
      "/Users/biacordazzo/opt/anaconda3/envs/qiime2-amplicon-2024.5/lib/python3.9/site-packages/sklearn/base.py:486: UserWarning: X has feature names, but RandomForestClassifier was fitted without feature names\n",
      "  warnings.warn(\n"
     ]
    },
    {
     "name": "stdout",
     "output_type": "stream",
     "text": [
      "Best parameters found: {'bootstrap': False, 'max_depth': None, 'min_samples_leaf': 4, 'min_samples_split': 2, 'n_estimators': 100}\n",
      "Best cross-validation accuracy: 0.28571428571428575\n",
      "Optimizing hyperparameters for Gene_RPCA, traintest_8...\n"
     ]
    },
    {
     "name": "stderr",
     "output_type": "stream",
     "text": [
      "/Users/biacordazzo/opt/anaconda3/envs/qiime2-amplicon-2024.5/lib/python3.9/site-packages/sklearn/base.py:486: UserWarning: X has feature names, but RandomForestClassifier was fitted without feature names\n",
      "  warnings.warn(\n"
     ]
    },
    {
     "name": "stdout",
     "output_type": "stream",
     "text": [
      "Best parameters found: {'bootstrap': False, 'max_depth': 10, 'min_samples_leaf': 1, 'min_samples_split': 5, 'n_estimators': 100}\n",
      "Best cross-validation accuracy: 0.3142857142857143\n",
      "Optimizing hyperparameters for Gene_RPCA, traintest_9...\n"
     ]
    },
    {
     "name": "stderr",
     "output_type": "stream",
     "text": [
      "/Users/biacordazzo/opt/anaconda3/envs/qiime2-amplicon-2024.5/lib/python3.9/site-packages/sklearn/base.py:486: UserWarning: X has feature names, but RandomForestClassifier was fitted without feature names\n",
      "  warnings.warn(\n"
     ]
    },
    {
     "name": "stdout",
     "output_type": "stream",
     "text": [
      "Best parameters found: {'bootstrap': True, 'max_depth': None, 'min_samples_leaf': 1, 'min_samples_split': 5, 'n_estimators': 100}\n",
      "Best cross-validation accuracy: 0.37142857142857144\n",
      "Optimizing hyperparameters for Gene_Module_RPCA, traintest_0...\n"
     ]
    },
    {
     "name": "stderr",
     "output_type": "stream",
     "text": [
      "/Users/biacordazzo/opt/anaconda3/envs/qiime2-amplicon-2024.5/lib/python3.9/site-packages/sklearn/base.py:486: UserWarning: X has feature names, but RandomForestClassifier was fitted without feature names\n",
      "  warnings.warn(\n"
     ]
    },
    {
     "name": "stdout",
     "output_type": "stream",
     "text": [
      "Best parameters found: {'bootstrap': True, 'max_depth': None, 'min_samples_leaf': 4, 'min_samples_split': 10, 'n_estimators': 200}\n",
      "Best cross-validation accuracy: 0.3678571428571428\n",
      "Optimizing hyperparameters for Gene_Module_RPCA, traintest_1...\n"
     ]
    },
    {
     "name": "stderr",
     "output_type": "stream",
     "text": [
      "/Users/biacordazzo/opt/anaconda3/envs/qiime2-amplicon-2024.5/lib/python3.9/site-packages/sklearn/base.py:486: UserWarning: X has feature names, but RandomForestClassifier was fitted without feature names\n",
      "  warnings.warn(\n"
     ]
    },
    {
     "name": "stdout",
     "output_type": "stream",
     "text": [
      "Best parameters found: {'bootstrap': True, 'max_depth': None, 'min_samples_leaf': 4, 'min_samples_split': 10, 'n_estimators': 100}\n",
      "Best cross-validation accuracy: 0.3821428571428571\n",
      "Optimizing hyperparameters for Gene_Module_RPCA, traintest_2...\n"
     ]
    },
    {
     "name": "stderr",
     "output_type": "stream",
     "text": [
      "/Users/biacordazzo/opt/anaconda3/envs/qiime2-amplicon-2024.5/lib/python3.9/site-packages/sklearn/base.py:486: UserWarning: X has feature names, but RandomForestClassifier was fitted without feature names\n",
      "  warnings.warn(\n"
     ]
    },
    {
     "name": "stdout",
     "output_type": "stream",
     "text": [
      "Best parameters found: {'bootstrap': False, 'max_depth': None, 'min_samples_leaf': 2, 'min_samples_split': 10, 'n_estimators': 100}\n",
      "Best cross-validation accuracy: 0.32857142857142857\n",
      "Optimizing hyperparameters for Gene_Module_RPCA, traintest_3...\n"
     ]
    },
    {
     "name": "stderr",
     "output_type": "stream",
     "text": [
      "/Users/biacordazzo/opt/anaconda3/envs/qiime2-amplicon-2024.5/lib/python3.9/site-packages/sklearn/base.py:486: UserWarning: X has feature names, but RandomForestClassifier was fitted without feature names\n",
      "  warnings.warn(\n"
     ]
    },
    {
     "name": "stdout",
     "output_type": "stream",
     "text": [
      "Best parameters found: {'bootstrap': True, 'max_depth': None, 'min_samples_leaf': 4, 'min_samples_split': 10, 'n_estimators': 100}\n",
      "Best cross-validation accuracy: 0.35357142857142865\n",
      "Optimizing hyperparameters for Gene_Module_RPCA, traintest_4...\n"
     ]
    },
    {
     "name": "stderr",
     "output_type": "stream",
     "text": [
      "/Users/biacordazzo/opt/anaconda3/envs/qiime2-amplicon-2024.5/lib/python3.9/site-packages/sklearn/base.py:486: UserWarning: X has feature names, but RandomForestClassifier was fitted without feature names\n",
      "  warnings.warn(\n"
     ]
    },
    {
     "name": "stdout",
     "output_type": "stream",
     "text": [
      "Best parameters found: {'bootstrap': False, 'max_depth': None, 'min_samples_leaf': 4, 'min_samples_split': 2, 'n_estimators': 100}\n",
      "Best cross-validation accuracy: 0.32857142857142857\n",
      "Optimizing hyperparameters for Gene_Module_RPCA, traintest_5...\n"
     ]
    },
    {
     "name": "stderr",
     "output_type": "stream",
     "text": [
      "/Users/biacordazzo/opt/anaconda3/envs/qiime2-amplicon-2024.5/lib/python3.9/site-packages/sklearn/base.py:486: UserWarning: X has feature names, but RandomForestClassifier was fitted without feature names\n",
      "  warnings.warn(\n"
     ]
    },
    {
     "name": "stdout",
     "output_type": "stream",
     "text": [
      "Best parameters found: {'bootstrap': True, 'max_depth': None, 'min_samples_leaf': 2, 'min_samples_split': 10, 'n_estimators': 300}\n",
      "Best cross-validation accuracy: 0.37857142857142856\n",
      "Optimizing hyperparameters for Gene_Module_RPCA, traintest_6...\n"
     ]
    },
    {
     "name": "stderr",
     "output_type": "stream",
     "text": [
      "/Users/biacordazzo/opt/anaconda3/envs/qiime2-amplicon-2024.5/lib/python3.9/site-packages/sklearn/base.py:486: UserWarning: X has feature names, but RandomForestClassifier was fitted without feature names\n",
      "  warnings.warn(\n"
     ]
    },
    {
     "name": "stdout",
     "output_type": "stream",
     "text": [
      "Best parameters found: {'bootstrap': True, 'max_depth': None, 'min_samples_leaf': 4, 'min_samples_split': 10, 'n_estimators': 100}\n",
      "Best cross-validation accuracy: 0.40714285714285714\n",
      "Optimizing hyperparameters for Gene_Module_RPCA, traintest_7...\n"
     ]
    },
    {
     "name": "stderr",
     "output_type": "stream",
     "text": [
      "/Users/biacordazzo/opt/anaconda3/envs/qiime2-amplicon-2024.5/lib/python3.9/site-packages/sklearn/base.py:486: UserWarning: X has feature names, but RandomForestClassifier was fitted without feature names\n",
      "  warnings.warn(\n"
     ]
    },
    {
     "name": "stdout",
     "output_type": "stream",
     "text": [
      "Best parameters found: {'bootstrap': True, 'max_depth': None, 'min_samples_leaf': 1, 'min_samples_split': 5, 'n_estimators': 200}\n",
      "Best cross-validation accuracy: 0.32857142857142857\n",
      "Optimizing hyperparameters for Gene_Module_RPCA, traintest_8...\n"
     ]
    },
    {
     "name": "stderr",
     "output_type": "stream",
     "text": [
      "/Users/biacordazzo/opt/anaconda3/envs/qiime2-amplicon-2024.5/lib/python3.9/site-packages/sklearn/base.py:486: UserWarning: X has feature names, but RandomForestClassifier was fitted without feature names\n",
      "  warnings.warn(\n"
     ]
    },
    {
     "name": "stdout",
     "output_type": "stream",
     "text": [
      "Best parameters found: {'bootstrap': True, 'max_depth': 10, 'min_samples_leaf': 4, 'min_samples_split': 10, 'n_estimators': 100}\n",
      "Best cross-validation accuracy: 0.32142857142857145\n",
      "Optimizing hyperparameters for Gene_Module_RPCA, traintest_9...\n"
     ]
    },
    {
     "name": "stderr",
     "output_type": "stream",
     "text": [
      "/Users/biacordazzo/opt/anaconda3/envs/qiime2-amplicon-2024.5/lib/python3.9/site-packages/sklearn/base.py:486: UserWarning: X has feature names, but RandomForestClassifier was fitted without feature names\n",
      "  warnings.warn(\n"
     ]
    },
    {
     "name": "stdout",
     "output_type": "stream",
     "text": [
      "Best parameters found: {'bootstrap': True, 'max_depth': None, 'min_samples_leaf': 4, 'min_samples_split': 2, 'n_estimators': 200}\n",
      "Best cross-validation accuracy: 0.38571428571428573\n",
      "Optimizing hyperparameters for Metabolite_RPCA, traintest_0...\n"
     ]
    },
    {
     "name": "stderr",
     "output_type": "stream",
     "text": [
      "/Users/biacordazzo/opt/anaconda3/envs/qiime2-amplicon-2024.5/lib/python3.9/site-packages/sklearn/base.py:486: UserWarning: X has feature names, but RandomForestClassifier was fitted without feature names\n",
      "  warnings.warn(\n"
     ]
    },
    {
     "name": "stdout",
     "output_type": "stream",
     "text": [
      "Best parameters found: {'bootstrap': True, 'max_depth': None, 'min_samples_leaf': 4, 'min_samples_split': 10, 'n_estimators': 100}\n",
      "Best cross-validation accuracy: 0.41428571428571426\n",
      "Optimizing hyperparameters for Metabolite_RPCA, traintest_1...\n"
     ]
    },
    {
     "name": "stderr",
     "output_type": "stream",
     "text": [
      "/Users/biacordazzo/opt/anaconda3/envs/qiime2-amplicon-2024.5/lib/python3.9/site-packages/sklearn/base.py:486: UserWarning: X has feature names, but RandomForestClassifier was fitted without feature names\n",
      "  warnings.warn(\n"
     ]
    },
    {
     "name": "stdout",
     "output_type": "stream",
     "text": [
      "Best parameters found: {'bootstrap': True, 'max_depth': None, 'min_samples_leaf': 1, 'min_samples_split': 10, 'n_estimators': 100}\n",
      "Best cross-validation accuracy: 0.39642857142857146\n",
      "Optimizing hyperparameters for Metabolite_RPCA, traintest_2...\n"
     ]
    },
    {
     "name": "stderr",
     "output_type": "stream",
     "text": [
      "/Users/biacordazzo/opt/anaconda3/envs/qiime2-amplicon-2024.5/lib/python3.9/site-packages/sklearn/base.py:486: UserWarning: X has feature names, but RandomForestClassifier was fitted without feature names\n",
      "  warnings.warn(\n"
     ]
    },
    {
     "name": "stdout",
     "output_type": "stream",
     "text": [
      "Best parameters found: {'bootstrap': True, 'max_depth': 10, 'min_samples_leaf': 4, 'min_samples_split': 10, 'n_estimators': 100}\n",
      "Best cross-validation accuracy: 0.3821428571428572\n",
      "Optimizing hyperparameters for Metabolite_RPCA, traintest_3...\n"
     ]
    },
    {
     "name": "stderr",
     "output_type": "stream",
     "text": [
      "/Users/biacordazzo/opt/anaconda3/envs/qiime2-amplicon-2024.5/lib/python3.9/site-packages/sklearn/base.py:486: UserWarning: X has feature names, but RandomForestClassifier was fitted without feature names\n",
      "  warnings.warn(\n"
     ]
    },
    {
     "name": "stdout",
     "output_type": "stream",
     "text": [
      "Best parameters found: {'bootstrap': True, 'max_depth': None, 'min_samples_leaf': 4, 'min_samples_split': 10, 'n_estimators': 300}\n",
      "Best cross-validation accuracy: 0.4428571428571429\n",
      "Optimizing hyperparameters for Metabolite_RPCA, traintest_4...\n"
     ]
    },
    {
     "name": "stderr",
     "output_type": "stream",
     "text": [
      "/Users/biacordazzo/opt/anaconda3/envs/qiime2-amplicon-2024.5/lib/python3.9/site-packages/sklearn/base.py:486: UserWarning: X has feature names, but RandomForestClassifier was fitted without feature names\n",
      "  warnings.warn(\n"
     ]
    },
    {
     "name": "stdout",
     "output_type": "stream",
     "text": [
      "Best parameters found: {'bootstrap': True, 'max_depth': None, 'min_samples_leaf': 2, 'min_samples_split': 10, 'n_estimators': 300}\n",
      "Best cross-validation accuracy: 0.39999999999999997\n",
      "Optimizing hyperparameters for Metabolite_RPCA, traintest_5...\n"
     ]
    },
    {
     "name": "stderr",
     "output_type": "stream",
     "text": [
      "/Users/biacordazzo/opt/anaconda3/envs/qiime2-amplicon-2024.5/lib/python3.9/site-packages/sklearn/base.py:486: UserWarning: X has feature names, but RandomForestClassifier was fitted without feature names\n",
      "  warnings.warn(\n"
     ]
    },
    {
     "name": "stdout",
     "output_type": "stream",
     "text": [
      "Best parameters found: {'bootstrap': True, 'max_depth': 10, 'min_samples_leaf': 1, 'min_samples_split': 5, 'n_estimators': 300}\n",
      "Best cross-validation accuracy: 0.41071428571428575\n",
      "Optimizing hyperparameters for Metabolite_RPCA, traintest_6...\n"
     ]
    },
    {
     "name": "stderr",
     "output_type": "stream",
     "text": [
      "/Users/biacordazzo/opt/anaconda3/envs/qiime2-amplicon-2024.5/lib/python3.9/site-packages/sklearn/base.py:486: UserWarning: X has feature names, but RandomForestClassifier was fitted without feature names\n",
      "  warnings.warn(\n"
     ]
    },
    {
     "name": "stdout",
     "output_type": "stream",
     "text": [
      "Best parameters found: {'bootstrap': True, 'max_depth': None, 'min_samples_leaf': 4, 'min_samples_split': 2, 'n_estimators': 300}\n",
      "Best cross-validation accuracy: 0.42142857142857143\n",
      "Optimizing hyperparameters for Metabolite_RPCA, traintest_7...\n"
     ]
    },
    {
     "name": "stderr",
     "output_type": "stream",
     "text": [
      "/Users/biacordazzo/opt/anaconda3/envs/qiime2-amplicon-2024.5/lib/python3.9/site-packages/sklearn/base.py:486: UserWarning: X has feature names, but RandomForestClassifier was fitted without feature names\n",
      "  warnings.warn(\n"
     ]
    },
    {
     "name": "stdout",
     "output_type": "stream",
     "text": [
      "Best parameters found: {'bootstrap': True, 'max_depth': None, 'min_samples_leaf': 4, 'min_samples_split': 10, 'n_estimators': 300}\n",
      "Best cross-validation accuracy: 0.44642857142857145\n",
      "Optimizing hyperparameters for Metabolite_RPCA, traintest_8...\n"
     ]
    },
    {
     "name": "stderr",
     "output_type": "stream",
     "text": [
      "/Users/biacordazzo/opt/anaconda3/envs/qiime2-amplicon-2024.5/lib/python3.9/site-packages/sklearn/base.py:486: UserWarning: X has feature names, but RandomForestClassifier was fitted without feature names\n",
      "  warnings.warn(\n"
     ]
    },
    {
     "name": "stdout",
     "output_type": "stream",
     "text": [
      "Best parameters found: {'bootstrap': True, 'max_depth': None, 'min_samples_leaf': 4, 'min_samples_split': 10, 'n_estimators': 200}\n",
      "Best cross-validation accuracy: 0.4321428571428571\n",
      "Optimizing hyperparameters for Metabolite_RPCA, traintest_9...\n"
     ]
    },
    {
     "name": "stderr",
     "output_type": "stream",
     "text": [
      "/Users/biacordazzo/opt/anaconda3/envs/qiime2-amplicon-2024.5/lib/python3.9/site-packages/sklearn/base.py:486: UserWarning: X has feature names, but RandomForestClassifier was fitted without feature names\n",
      "  warnings.warn(\n"
     ]
    },
    {
     "name": "stdout",
     "output_type": "stream",
     "text": [
      "Best parameters found: {'bootstrap': True, 'max_depth': None, 'min_samples_leaf': 4, 'min_samples_split': 10, 'n_estimators': 300}\n",
      "Best cross-validation accuracy: 0.40714285714285714\n",
      "Optimizing hyperparameters for 18S_Joint-RPCA, traintest_0...\n"
     ]
    },
    {
     "name": "stderr",
     "output_type": "stream",
     "text": [
      "/Users/biacordazzo/opt/anaconda3/envs/qiime2-amplicon-2024.5/lib/python3.9/site-packages/sklearn/base.py:486: UserWarning: X has feature names, but RandomForestClassifier was fitted without feature names\n",
      "  warnings.warn(\n"
     ]
    },
    {
     "name": "stdout",
     "output_type": "stream",
     "text": [
      "Best parameters found: {'bootstrap': True, 'max_depth': None, 'min_samples_leaf': 4, 'min_samples_split': 10, 'n_estimators': 100}\n",
      "Best cross-validation accuracy: 0.5079931972789116\n",
      "Optimizing hyperparameters for 18S_Joint-RPCA, traintest_1...\n"
     ]
    },
    {
     "name": "stderr",
     "output_type": "stream",
     "text": [
      "/Users/biacordazzo/opt/anaconda3/envs/qiime2-amplicon-2024.5/lib/python3.9/site-packages/sklearn/base.py:486: UserWarning: X has feature names, but RandomForestClassifier was fitted without feature names\n",
      "  warnings.warn(\n"
     ]
    },
    {
     "name": "stdout",
     "output_type": "stream",
     "text": [
      "Best parameters found: {'bootstrap': True, 'max_depth': None, 'min_samples_leaf': 2, 'min_samples_split': 5, 'n_estimators': 300}\n",
      "Best cross-validation accuracy: 0.5164965986394559\n",
      "Optimizing hyperparameters for 18S_Joint-RPCA, traintest_2...\n"
     ]
    },
    {
     "name": "stderr",
     "output_type": "stream",
     "text": [
      "/Users/biacordazzo/opt/anaconda3/envs/qiime2-amplicon-2024.5/lib/python3.9/site-packages/sklearn/base.py:486: UserWarning: X has feature names, but RandomForestClassifier was fitted without feature names\n",
      "  warnings.warn(\n"
     ]
    },
    {
     "name": "stdout",
     "output_type": "stream",
     "text": [
      "Best parameters found: {'bootstrap': True, 'max_depth': None, 'min_samples_leaf': 4, 'min_samples_split': 2, 'n_estimators': 100}\n",
      "Best cross-validation accuracy: 0.5058775510204081\n",
      "Optimizing hyperparameters for 18S_Joint-RPCA, traintest_3...\n"
     ]
    },
    {
     "name": "stderr",
     "output_type": "stream",
     "text": [
      "/Users/biacordazzo/opt/anaconda3/envs/qiime2-amplicon-2024.5/lib/python3.9/site-packages/sklearn/base.py:486: UserWarning: X has feature names, but RandomForestClassifier was fitted without feature names\n",
      "  warnings.warn(\n"
     ]
    },
    {
     "name": "stdout",
     "output_type": "stream",
     "text": [
      "Best parameters found: {'bootstrap': True, 'max_depth': None, 'min_samples_leaf': 4, 'min_samples_split': 2, 'n_estimators': 100}\n",
      "Best cross-validation accuracy: 0.5306122448979591\n",
      "Optimizing hyperparameters for 18S_Joint-RPCA, traintest_4...\n"
     ]
    },
    {
     "name": "stderr",
     "output_type": "stream",
     "text": [
      "/Users/biacordazzo/opt/anaconda3/envs/qiime2-amplicon-2024.5/lib/python3.9/site-packages/sklearn/base.py:486: UserWarning: X has feature names, but RandomForestClassifier was fitted without feature names\n",
      "  warnings.warn(\n"
     ]
    },
    {
     "name": "stdout",
     "output_type": "stream",
     "text": [
      "Best parameters found: {'bootstrap': True, 'max_depth': None, 'min_samples_leaf': 4, 'min_samples_split': 10, 'n_estimators': 100}\n",
      "Best cross-validation accuracy: 0.46751020408163263\n",
      "Optimizing hyperparameters for 18S_Joint-RPCA, traintest_5...\n"
     ]
    },
    {
     "name": "stderr",
     "output_type": "stream",
     "text": [
      "/Users/biacordazzo/opt/anaconda3/envs/qiime2-amplicon-2024.5/lib/python3.9/site-packages/sklearn/base.py:486: UserWarning: X has feature names, but RandomForestClassifier was fitted without feature names\n",
      "  warnings.warn(\n"
     ]
    },
    {
     "name": "stdout",
     "output_type": "stream",
     "text": [
      "Best parameters found: {'bootstrap': True, 'max_depth': None, 'min_samples_leaf': 4, 'min_samples_split': 10, 'n_estimators': 200}\n",
      "Best cross-validation accuracy: 0.4598367346938776\n",
      "Optimizing hyperparameters for 18S_Joint-RPCA, traintest_6...\n"
     ]
    },
    {
     "name": "stderr",
     "output_type": "stream",
     "text": [
      "/Users/biacordazzo/opt/anaconda3/envs/qiime2-amplicon-2024.5/lib/python3.9/site-packages/sklearn/base.py:486: UserWarning: X has feature names, but RandomForestClassifier was fitted without feature names\n",
      "  warnings.warn(\n"
     ]
    },
    {
     "name": "stdout",
     "output_type": "stream",
     "text": [
      "Best parameters found: {'bootstrap': False, 'max_depth': None, 'min_samples_leaf': 4, 'min_samples_split': 2, 'n_estimators': 100}\n",
      "Best cross-validation accuracy: 0.4698775510204081\n",
      "Optimizing hyperparameters for 18S_Joint-RPCA, traintest_7...\n"
     ]
    },
    {
     "name": "stderr",
     "output_type": "stream",
     "text": [
      "/Users/biacordazzo/opt/anaconda3/envs/qiime2-amplicon-2024.5/lib/python3.9/site-packages/sklearn/base.py:486: UserWarning: X has feature names, but RandomForestClassifier was fitted without feature names\n",
      "  warnings.warn(\n"
     ]
    },
    {
     "name": "stdout",
     "output_type": "stream",
     "text": [
      "Best parameters found: {'bootstrap': True, 'max_depth': 10, 'min_samples_leaf': 2, 'min_samples_split': 10, 'n_estimators': 300}\n",
      "Best cross-validation accuracy: 0.4958333333333333\n",
      "Optimizing hyperparameters for 18S_Joint-RPCA, traintest_8...\n"
     ]
    },
    {
     "name": "stderr",
     "output_type": "stream",
     "text": [
      "/Users/biacordazzo/opt/anaconda3/envs/qiime2-amplicon-2024.5/lib/python3.9/site-packages/sklearn/base.py:486: UserWarning: X has feature names, but RandomForestClassifier was fitted without feature names\n",
      "  warnings.warn(\n"
     ]
    },
    {
     "name": "stdout",
     "output_type": "stream",
     "text": [
      "Best parameters found: {'bootstrap': True, 'max_depth': None, 'min_samples_leaf': 4, 'min_samples_split': 10, 'n_estimators': 300}\n",
      "Best cross-validation accuracy: 0.48783673469387756\n",
      "Optimizing hyperparameters for 18S_Joint-RPCA, traintest_9...\n"
     ]
    },
    {
     "name": "stderr",
     "output_type": "stream",
     "text": [
      "/Users/biacordazzo/opt/anaconda3/envs/qiime2-amplicon-2024.5/lib/python3.9/site-packages/sklearn/base.py:486: UserWarning: X has feature names, but RandomForestClassifier was fitted without feature names\n",
      "  warnings.warn(\n"
     ]
    },
    {
     "name": "stdout",
     "output_type": "stream",
     "text": [
      "Best parameters found: {'bootstrap': True, 'max_depth': None, 'min_samples_leaf': 4, 'min_samples_split': 10, 'n_estimators': 300}\n",
      "Best cross-validation accuracy: 0.5241496598639455\n",
      "Optimizing hyperparameters for MAG_Joint-RPCA, traintest_0...\n"
     ]
    },
    {
     "name": "stderr",
     "output_type": "stream",
     "text": [
      "/Users/biacordazzo/opt/anaconda3/envs/qiime2-amplicon-2024.5/lib/python3.9/site-packages/sklearn/base.py:486: UserWarning: X has feature names, but RandomForestClassifier was fitted without feature names\n",
      "  warnings.warn(\n"
     ]
    },
    {
     "name": "stdout",
     "output_type": "stream",
     "text": [
      "Best parameters found: {'bootstrap': True, 'max_depth': None, 'min_samples_leaf': 1, 'min_samples_split': 10, 'n_estimators': 200}\n",
      "Best cross-validation accuracy: 0.4254545454545454\n",
      "Optimizing hyperparameters for MAG_Joint-RPCA, traintest_1...\n"
     ]
    },
    {
     "name": "stderr",
     "output_type": "stream",
     "text": [
      "/Users/biacordazzo/opt/anaconda3/envs/qiime2-amplicon-2024.5/lib/python3.9/site-packages/sklearn/base.py:486: UserWarning: X has feature names, but RandomForestClassifier was fitted without feature names\n",
      "  warnings.warn(\n"
     ]
    },
    {
     "name": "stdout",
     "output_type": "stream",
     "text": [
      "Best parameters found: {'bootstrap': True, 'max_depth': None, 'min_samples_leaf': 2, 'min_samples_split': 2, 'n_estimators': 100}\n",
      "Best cross-validation accuracy: 0.41818181818181815\n",
      "Optimizing hyperparameters for MAG_Joint-RPCA, traintest_2...\n"
     ]
    },
    {
     "name": "stderr",
     "output_type": "stream",
     "text": [
      "/Users/biacordazzo/opt/anaconda3/envs/qiime2-amplicon-2024.5/lib/python3.9/site-packages/sklearn/base.py:486: UserWarning: X has feature names, but RandomForestClassifier was fitted without feature names\n",
      "  warnings.warn(\n"
     ]
    },
    {
     "name": "stdout",
     "output_type": "stream",
     "text": [
      "Best parameters found: {'bootstrap': True, 'max_depth': None, 'min_samples_leaf': 1, 'min_samples_split': 10, 'n_estimators': 300}\n",
      "Best cross-validation accuracy: 0.41811447811447816\n",
      "Optimizing hyperparameters for MAG_Joint-RPCA, traintest_3...\n"
     ]
    },
    {
     "name": "stderr",
     "output_type": "stream",
     "text": [
      "/Users/biacordazzo/opt/anaconda3/envs/qiime2-amplicon-2024.5/lib/python3.9/site-packages/sklearn/base.py:486: UserWarning: X has feature names, but RandomForestClassifier was fitted without feature names\n",
      "  warnings.warn(\n"
     ]
    },
    {
     "name": "stdout",
     "output_type": "stream",
     "text": [
      "Best parameters found: {'bootstrap': False, 'max_depth': 10, 'min_samples_leaf': 2, 'min_samples_split': 2, 'n_estimators': 100}\n",
      "Best cross-validation accuracy: 0.4231649831649832\n",
      "Optimizing hyperparameters for MAG_Joint-RPCA, traintest_4...\n"
     ]
    },
    {
     "name": "stderr",
     "output_type": "stream",
     "text": [
      "/Users/biacordazzo/opt/anaconda3/envs/qiime2-amplicon-2024.5/lib/python3.9/site-packages/sklearn/base.py:486: UserWarning: X has feature names, but RandomForestClassifier was fitted without feature names\n",
      "  warnings.warn(\n"
     ]
    },
    {
     "name": "stdout",
     "output_type": "stream",
     "text": [
      "Best parameters found: {'bootstrap': False, 'max_depth': None, 'min_samples_leaf': 1, 'min_samples_split': 5, 'n_estimators': 100}\n",
      "Best cross-validation accuracy: 0.37757575757575756\n",
      "Optimizing hyperparameters for MAG_Joint-RPCA, traintest_5...\n"
     ]
    },
    {
     "name": "stderr",
     "output_type": "stream",
     "text": [
      "/Users/biacordazzo/opt/anaconda3/envs/qiime2-amplicon-2024.5/lib/python3.9/site-packages/sklearn/base.py:486: UserWarning: X has feature names, but RandomForestClassifier was fitted without feature names\n",
      "  warnings.warn(\n"
     ]
    },
    {
     "name": "stdout",
     "output_type": "stream",
     "text": [
      "Best parameters found: {'bootstrap': True, 'max_depth': None, 'min_samples_leaf': 4, 'min_samples_split': 10, 'n_estimators': 100}\n",
      "Best cross-validation accuracy: 0.38727272727272727\n",
      "Optimizing hyperparameters for MAG_Joint-RPCA, traintest_6...\n"
     ]
    },
    {
     "name": "stderr",
     "output_type": "stream",
     "text": [
      "/Users/biacordazzo/opt/anaconda3/envs/qiime2-amplicon-2024.5/lib/python3.9/site-packages/sklearn/base.py:486: UserWarning: X has feature names, but RandomForestClassifier was fitted without feature names\n",
      "  warnings.warn(\n"
     ]
    },
    {
     "name": "stdout",
     "output_type": "stream",
     "text": [
      "Best parameters found: {'bootstrap': True, 'max_depth': None, 'min_samples_leaf': 4, 'min_samples_split': 10, 'n_estimators': 300}\n",
      "Best cross-validation accuracy: 0.3581144781144781\n",
      "Optimizing hyperparameters for MAG_Joint-RPCA, traintest_7...\n"
     ]
    },
    {
     "name": "stderr",
     "output_type": "stream",
     "text": [
      "/Users/biacordazzo/opt/anaconda3/envs/qiime2-amplicon-2024.5/lib/python3.9/site-packages/sklearn/base.py:486: UserWarning: X has feature names, but RandomForestClassifier was fitted without feature names\n",
      "  warnings.warn(\n"
     ]
    },
    {
     "name": "stdout",
     "output_type": "stream",
     "text": [
      "Best parameters found: {'bootstrap': False, 'max_depth': 10, 'min_samples_leaf': 2, 'min_samples_split': 2, 'n_estimators': 100}\n",
      "Best cross-validation accuracy: 0.3510437710437711\n",
      "Optimizing hyperparameters for MAG_Joint-RPCA, traintest_8...\n"
     ]
    },
    {
     "name": "stderr",
     "output_type": "stream",
     "text": [
      "/Users/biacordazzo/opt/anaconda3/envs/qiime2-amplicon-2024.5/lib/python3.9/site-packages/sklearn/base.py:486: UserWarning: X has feature names, but RandomForestClassifier was fitted without feature names\n",
      "  warnings.warn(\n"
     ]
    },
    {
     "name": "stdout",
     "output_type": "stream",
     "text": [
      "Best parameters found: {'bootstrap': True, 'max_depth': None, 'min_samples_leaf': 4, 'min_samples_split': 10, 'n_estimators': 200}\n",
      "Best cross-validation accuracy: 0.40316498316498317\n",
      "Optimizing hyperparameters for MAG_Joint-RPCA, traintest_9...\n"
     ]
    },
    {
     "name": "stderr",
     "output_type": "stream",
     "text": [
      "/Users/biacordazzo/opt/anaconda3/envs/qiime2-amplicon-2024.5/lib/python3.9/site-packages/sklearn/base.py:486: UserWarning: X has feature names, but RandomForestClassifier was fitted without feature names\n",
      "  warnings.warn(\n"
     ]
    },
    {
     "name": "stdout",
     "output_type": "stream",
     "text": [
      "Best parameters found: {'bootstrap': True, 'max_depth': None, 'min_samples_leaf': 2, 'min_samples_split': 5, 'n_estimators': 300}\n",
      "Best cross-validation accuracy: 0.4290909090909091\n",
      "Optimizing hyperparameters for Gene_Joint-RPCA, traintest_0...\n"
     ]
    },
    {
     "name": "stderr",
     "output_type": "stream",
     "text": [
      "/Users/biacordazzo/opt/anaconda3/envs/qiime2-amplicon-2024.5/lib/python3.9/site-packages/sklearn/base.py:486: UserWarning: X has feature names, but RandomForestClassifier was fitted without feature names\n",
      "  warnings.warn(\n"
     ]
    },
    {
     "name": "stdout",
     "output_type": "stream",
     "text": [
      "Best parameters found: {'bootstrap': False, 'max_depth': 10, 'min_samples_leaf': 1, 'min_samples_split': 5, 'n_estimators': 100}\n",
      "Best cross-validation accuracy: 0.36071428571428577\n",
      "Optimizing hyperparameters for Gene_Joint-RPCA, traintest_1...\n"
     ]
    },
    {
     "name": "stderr",
     "output_type": "stream",
     "text": [
      "/Users/biacordazzo/opt/anaconda3/envs/qiime2-amplicon-2024.5/lib/python3.9/site-packages/sklearn/base.py:486: UserWarning: X has feature names, but RandomForestClassifier was fitted without feature names\n",
      "  warnings.warn(\n"
     ]
    },
    {
     "name": "stdout",
     "output_type": "stream",
     "text": [
      "Best parameters found: {'bootstrap': True, 'max_depth': 10, 'min_samples_leaf': 1, 'min_samples_split': 5, 'n_estimators': 300}\n",
      "Best cross-validation accuracy: 0.3535714285714286\n",
      "Optimizing hyperparameters for Gene_Joint-RPCA, traintest_2...\n"
     ]
    },
    {
     "name": "stderr",
     "output_type": "stream",
     "text": [
      "/Users/biacordazzo/opt/anaconda3/envs/qiime2-amplicon-2024.5/lib/python3.9/site-packages/sklearn/base.py:486: UserWarning: X has feature names, but RandomForestClassifier was fitted without feature names\n",
      "  warnings.warn(\n"
     ]
    },
    {
     "name": "stdout",
     "output_type": "stream",
     "text": [
      "Best parameters found: {'bootstrap': False, 'max_depth': None, 'min_samples_leaf': 4, 'min_samples_split': 10, 'n_estimators': 100}\n",
      "Best cross-validation accuracy: 0.3392857142857143\n",
      "Optimizing hyperparameters for Gene_Joint-RPCA, traintest_3...\n"
     ]
    },
    {
     "name": "stderr",
     "output_type": "stream",
     "text": [
      "/Users/biacordazzo/opt/anaconda3/envs/qiime2-amplicon-2024.5/lib/python3.9/site-packages/sklearn/base.py:486: UserWarning: X has feature names, but RandomForestClassifier was fitted without feature names\n",
      "  warnings.warn(\n"
     ]
    },
    {
     "name": "stdout",
     "output_type": "stream",
     "text": [
      "Best parameters found: {'bootstrap': True, 'max_depth': 10, 'min_samples_leaf': 1, 'min_samples_split': 5, 'n_estimators': 100}\n",
      "Best cross-validation accuracy: 0.31785714285714284\n",
      "Optimizing hyperparameters for Gene_Joint-RPCA, traintest_4...\n"
     ]
    },
    {
     "name": "stderr",
     "output_type": "stream",
     "text": [
      "/Users/biacordazzo/opt/anaconda3/envs/qiime2-amplicon-2024.5/lib/python3.9/site-packages/sklearn/base.py:486: UserWarning: X has feature names, but RandomForestClassifier was fitted without feature names\n",
      "  warnings.warn(\n"
     ]
    },
    {
     "name": "stdout",
     "output_type": "stream",
     "text": [
      "Best parameters found: {'bootstrap': True, 'max_depth': 10, 'min_samples_leaf': 1, 'min_samples_split': 10, 'n_estimators': 300}\n",
      "Best cross-validation accuracy: 0.375\n",
      "Optimizing hyperparameters for Gene_Joint-RPCA, traintest_5...\n"
     ]
    },
    {
     "name": "stderr",
     "output_type": "stream",
     "text": [
      "/Users/biacordazzo/opt/anaconda3/envs/qiime2-amplicon-2024.5/lib/python3.9/site-packages/sklearn/base.py:486: UserWarning: X has feature names, but RandomForestClassifier was fitted without feature names\n",
      "  warnings.warn(\n"
     ]
    },
    {
     "name": "stdout",
     "output_type": "stream",
     "text": [
      "Best parameters found: {'bootstrap': False, 'max_depth': 10, 'min_samples_leaf': 2, 'min_samples_split': 10, 'n_estimators': 100}\n",
      "Best cross-validation accuracy: 0.36428571428571427\n",
      "Optimizing hyperparameters for Gene_Joint-RPCA, traintest_6...\n"
     ]
    },
    {
     "name": "stderr",
     "output_type": "stream",
     "text": [
      "/Users/biacordazzo/opt/anaconda3/envs/qiime2-amplicon-2024.5/lib/python3.9/site-packages/sklearn/base.py:486: UserWarning: X has feature names, but RandomForestClassifier was fitted without feature names\n",
      "  warnings.warn(\n"
     ]
    },
    {
     "name": "stdout",
     "output_type": "stream",
     "text": [
      "Best parameters found: {'bootstrap': True, 'max_depth': None, 'min_samples_leaf': 2, 'min_samples_split': 2, 'n_estimators': 200}\n",
      "Best cross-validation accuracy: 0.3785714285714285\n",
      "Optimizing hyperparameters for Gene_Joint-RPCA, traintest_7...\n"
     ]
    },
    {
     "name": "stderr",
     "output_type": "stream",
     "text": [
      "/Users/biacordazzo/opt/anaconda3/envs/qiime2-amplicon-2024.5/lib/python3.9/site-packages/sklearn/base.py:486: UserWarning: X has feature names, but RandomForestClassifier was fitted without feature names\n",
      "  warnings.warn(\n"
     ]
    },
    {
     "name": "stdout",
     "output_type": "stream",
     "text": [
      "Best parameters found: {'bootstrap': False, 'max_depth': None, 'min_samples_leaf': 2, 'min_samples_split': 10, 'n_estimators': 100}\n",
      "Best cross-validation accuracy: 0.31785714285714284\n",
      "Optimizing hyperparameters for Gene_Joint-RPCA, traintest_8...\n"
     ]
    },
    {
     "name": "stderr",
     "output_type": "stream",
     "text": [
      "/Users/biacordazzo/opt/anaconda3/envs/qiime2-amplicon-2024.5/lib/python3.9/site-packages/sklearn/base.py:486: UserWarning: X has feature names, but RandomForestClassifier was fitted without feature names\n",
      "  warnings.warn(\n"
     ]
    },
    {
     "name": "stdout",
     "output_type": "stream",
     "text": [
      "Best parameters found: {'bootstrap': True, 'max_depth': 10, 'min_samples_leaf': 2, 'min_samples_split': 2, 'n_estimators': 100}\n",
      "Best cross-validation accuracy: 0.3464285714285714\n",
      "Optimizing hyperparameters for Gene_Joint-RPCA, traintest_9...\n"
     ]
    },
    {
     "name": "stderr",
     "output_type": "stream",
     "text": [
      "/Users/biacordazzo/opt/anaconda3/envs/qiime2-amplicon-2024.5/lib/python3.9/site-packages/sklearn/base.py:486: UserWarning: X has feature names, but RandomForestClassifier was fitted without feature names\n",
      "  warnings.warn(\n"
     ]
    },
    {
     "name": "stdout",
     "output_type": "stream",
     "text": [
      "Best parameters found: {'bootstrap': False, 'max_depth': None, 'min_samples_leaf': 2, 'min_samples_split': 5, 'n_estimators': 100}\n",
      "Best cross-validation accuracy: 0.375\n",
      "Optimizing hyperparameters for Gene_Module_Joint-RPCA, traintest_0...\n"
     ]
    },
    {
     "name": "stderr",
     "output_type": "stream",
     "text": [
      "/Users/biacordazzo/opt/anaconda3/envs/qiime2-amplicon-2024.5/lib/python3.9/site-packages/sklearn/base.py:486: UserWarning: X has feature names, but RandomForestClassifier was fitted without feature names\n",
      "  warnings.warn(\n"
     ]
    },
    {
     "name": "stdout",
     "output_type": "stream",
     "text": [
      "Best parameters found: {'bootstrap': True, 'max_depth': 10, 'min_samples_leaf': 4, 'min_samples_split': 10, 'n_estimators': 300}\n",
      "Best cross-validation accuracy: 0.3571428571428571\n",
      "Optimizing hyperparameters for Gene_Module_Joint-RPCA, traintest_1...\n"
     ]
    },
    {
     "name": "stderr",
     "output_type": "stream",
     "text": [
      "/Users/biacordazzo/opt/anaconda3/envs/qiime2-amplicon-2024.5/lib/python3.9/site-packages/sklearn/base.py:486: UserWarning: X has feature names, but RandomForestClassifier was fitted without feature names\n",
      "  warnings.warn(\n"
     ]
    },
    {
     "name": "stdout",
     "output_type": "stream",
     "text": [
      "Best parameters found: {'bootstrap': False, 'max_depth': None, 'min_samples_leaf': 2, 'min_samples_split': 10, 'n_estimators': 100}\n",
      "Best cross-validation accuracy: 0.37857142857142856\n",
      "Optimizing hyperparameters for Gene_Module_Joint-RPCA, traintest_2...\n"
     ]
    },
    {
     "name": "stderr",
     "output_type": "stream",
     "text": [
      "/Users/biacordazzo/opt/anaconda3/envs/qiime2-amplicon-2024.5/lib/python3.9/site-packages/sklearn/base.py:486: UserWarning: X has feature names, but RandomForestClassifier was fitted without feature names\n",
      "  warnings.warn(\n"
     ]
    },
    {
     "name": "stdout",
     "output_type": "stream",
     "text": [
      "Best parameters found: {'bootstrap': True, 'max_depth': 10, 'min_samples_leaf': 2, 'min_samples_split': 2, 'n_estimators': 300}\n",
      "Best cross-validation accuracy: 0.35357142857142854\n",
      "Optimizing hyperparameters for Gene_Module_Joint-RPCA, traintest_3...\n"
     ]
    },
    {
     "name": "stderr",
     "output_type": "stream",
     "text": [
      "/Users/biacordazzo/opt/anaconda3/envs/qiime2-amplicon-2024.5/lib/python3.9/site-packages/sklearn/base.py:486: UserWarning: X has feature names, but RandomForestClassifier was fitted without feature names\n",
      "  warnings.warn(\n"
     ]
    },
    {
     "name": "stdout",
     "output_type": "stream",
     "text": [
      "Best parameters found: {'bootstrap': True, 'max_depth': None, 'min_samples_leaf': 2, 'min_samples_split': 10, 'n_estimators': 100}\n",
      "Best cross-validation accuracy: 0.36428571428571427\n",
      "Optimizing hyperparameters for Gene_Module_Joint-RPCA, traintest_4...\n"
     ]
    },
    {
     "name": "stderr",
     "output_type": "stream",
     "text": [
      "/Users/biacordazzo/opt/anaconda3/envs/qiime2-amplicon-2024.5/lib/python3.9/site-packages/sklearn/base.py:486: UserWarning: X has feature names, but RandomForestClassifier was fitted without feature names\n",
      "  warnings.warn(\n"
     ]
    },
    {
     "name": "stdout",
     "output_type": "stream",
     "text": [
      "Best parameters found: {'bootstrap': True, 'max_depth': None, 'min_samples_leaf': 4, 'min_samples_split': 10, 'n_estimators': 200}\n",
      "Best cross-validation accuracy: 0.36071428571428577\n",
      "Optimizing hyperparameters for Gene_Module_Joint-RPCA, traintest_5...\n"
     ]
    },
    {
     "name": "stderr",
     "output_type": "stream",
     "text": [
      "/Users/biacordazzo/opt/anaconda3/envs/qiime2-amplicon-2024.5/lib/python3.9/site-packages/sklearn/base.py:486: UserWarning: X has feature names, but RandomForestClassifier was fitted without feature names\n",
      "  warnings.warn(\n"
     ]
    },
    {
     "name": "stdout",
     "output_type": "stream",
     "text": [
      "Best parameters found: {'bootstrap': True, 'max_depth': 10, 'min_samples_leaf': 1, 'min_samples_split': 2, 'n_estimators': 100}\n",
      "Best cross-validation accuracy: 0.32857142857142857\n",
      "Optimizing hyperparameters for Gene_Module_Joint-RPCA, traintest_6...\n"
     ]
    },
    {
     "name": "stderr",
     "output_type": "stream",
     "text": [
      "/Users/biacordazzo/opt/anaconda3/envs/qiime2-amplicon-2024.5/lib/python3.9/site-packages/sklearn/base.py:486: UserWarning: X has feature names, but RandomForestClassifier was fitted without feature names\n",
      "  warnings.warn(\n"
     ]
    },
    {
     "name": "stdout",
     "output_type": "stream",
     "text": [
      "Best parameters found: {'bootstrap': True, 'max_depth': 10, 'min_samples_leaf': 1, 'min_samples_split': 10, 'n_estimators': 100}\n",
      "Best cross-validation accuracy: 0.3821428571428572\n",
      "Optimizing hyperparameters for Gene_Module_Joint-RPCA, traintest_7...\n"
     ]
    },
    {
     "name": "stderr",
     "output_type": "stream",
     "text": [
      "/Users/biacordazzo/opt/anaconda3/envs/qiime2-amplicon-2024.5/lib/python3.9/site-packages/sklearn/base.py:486: UserWarning: X has feature names, but RandomForestClassifier was fitted without feature names\n",
      "  warnings.warn(\n"
     ]
    },
    {
     "name": "stdout",
     "output_type": "stream",
     "text": [
      "Best parameters found: {'bootstrap': True, 'max_depth': 10, 'min_samples_leaf': 1, 'min_samples_split': 5, 'n_estimators': 100}\n",
      "Best cross-validation accuracy: 0.3892857142857143\n",
      "Optimizing hyperparameters for Gene_Module_Joint-RPCA, traintest_8...\n"
     ]
    },
    {
     "name": "stderr",
     "output_type": "stream",
     "text": [
      "/Users/biacordazzo/opt/anaconda3/envs/qiime2-amplicon-2024.5/lib/python3.9/site-packages/sklearn/base.py:486: UserWarning: X has feature names, but RandomForestClassifier was fitted without feature names\n",
      "  warnings.warn(\n"
     ]
    },
    {
     "name": "stdout",
     "output_type": "stream",
     "text": [
      "Best parameters found: {'bootstrap': False, 'max_depth': 10, 'min_samples_leaf': 1, 'min_samples_split': 5, 'n_estimators': 100}\n",
      "Best cross-validation accuracy: 0.37857142857142856\n",
      "Optimizing hyperparameters for Gene_Module_Joint-RPCA, traintest_9...\n"
     ]
    },
    {
     "name": "stderr",
     "output_type": "stream",
     "text": [
      "/Users/biacordazzo/opt/anaconda3/envs/qiime2-amplicon-2024.5/lib/python3.9/site-packages/sklearn/base.py:486: UserWarning: X has feature names, but RandomForestClassifier was fitted without feature names\n",
      "  warnings.warn(\n"
     ]
    },
    {
     "name": "stdout",
     "output_type": "stream",
     "text": [
      "Best parameters found: {'bootstrap': True, 'max_depth': None, 'min_samples_leaf': 2, 'min_samples_split': 5, 'n_estimators': 100}\n",
      "Best cross-validation accuracy: 0.3321428571428572\n",
      "Optimizing hyperparameters for Metabolite_Joint-RPCA, traintest_0...\n"
     ]
    },
    {
     "name": "stderr",
     "output_type": "stream",
     "text": [
      "/Users/biacordazzo/opt/anaconda3/envs/qiime2-amplicon-2024.5/lib/python3.9/site-packages/sklearn/base.py:486: UserWarning: X has feature names, but RandomForestClassifier was fitted without feature names\n",
      "  warnings.warn(\n"
     ]
    },
    {
     "name": "stdout",
     "output_type": "stream",
     "text": [
      "Best parameters found: {'bootstrap': True, 'max_depth': None, 'min_samples_leaf': 1, 'min_samples_split': 2, 'n_estimators': 100}\n",
      "Best cross-validation accuracy: 0.3392857142857143\n",
      "Optimizing hyperparameters for Metabolite_Joint-RPCA, traintest_1...\n"
     ]
    },
    {
     "name": "stderr",
     "output_type": "stream",
     "text": [
      "/Users/biacordazzo/opt/anaconda3/envs/qiime2-amplicon-2024.5/lib/python3.9/site-packages/sklearn/base.py:486: UserWarning: X has feature names, but RandomForestClassifier was fitted without feature names\n",
      "  warnings.warn(\n"
     ]
    },
    {
     "name": "stdout",
     "output_type": "stream",
     "text": [
      "Best parameters found: {'bootstrap': True, 'max_depth': 10, 'min_samples_leaf': 1, 'min_samples_split': 5, 'n_estimators': 300}\n",
      "Best cross-validation accuracy: 0.33928571428571425\n",
      "Optimizing hyperparameters for Metabolite_Joint-RPCA, traintest_2...\n"
     ]
    },
    {
     "name": "stderr",
     "output_type": "stream",
     "text": [
      "/Users/biacordazzo/opt/anaconda3/envs/qiime2-amplicon-2024.5/lib/python3.9/site-packages/sklearn/base.py:486: UserWarning: X has feature names, but RandomForestClassifier was fitted without feature names\n",
      "  warnings.warn(\n"
     ]
    },
    {
     "name": "stdout",
     "output_type": "stream",
     "text": [
      "Best parameters found: {'bootstrap': False, 'max_depth': None, 'min_samples_leaf': 4, 'min_samples_split': 10, 'n_estimators': 100}\n",
      "Best cross-validation accuracy: 0.36428571428571427\n",
      "Optimizing hyperparameters for Metabolite_Joint-RPCA, traintest_3...\n"
     ]
    },
    {
     "name": "stderr",
     "output_type": "stream",
     "text": [
      "/Users/biacordazzo/opt/anaconda3/envs/qiime2-amplicon-2024.5/lib/python3.9/site-packages/sklearn/base.py:486: UserWarning: X has feature names, but RandomForestClassifier was fitted without feature names\n",
      "  warnings.warn(\n"
     ]
    },
    {
     "name": "stdout",
     "output_type": "stream",
     "text": [
      "Best parameters found: {'bootstrap': True, 'max_depth': None, 'min_samples_leaf': 2, 'min_samples_split': 5, 'n_estimators': 200}\n",
      "Best cross-validation accuracy: 0.32142857142857145\n",
      "Optimizing hyperparameters for Metabolite_Joint-RPCA, traintest_4...\n"
     ]
    },
    {
     "name": "stderr",
     "output_type": "stream",
     "text": [
      "/Users/biacordazzo/opt/anaconda3/envs/qiime2-amplicon-2024.5/lib/python3.9/site-packages/sklearn/base.py:486: UserWarning: X has feature names, but RandomForestClassifier was fitted without feature names\n",
      "  warnings.warn(\n"
     ]
    },
    {
     "name": "stdout",
     "output_type": "stream",
     "text": [
      "Best parameters found: {'bootstrap': False, 'max_depth': 10, 'min_samples_leaf': 1, 'min_samples_split': 2, 'n_estimators': 100}\n",
      "Best cross-validation accuracy: 0.3464285714285714\n",
      "Optimizing hyperparameters for Metabolite_Joint-RPCA, traintest_5...\n"
     ]
    },
    {
     "name": "stderr",
     "output_type": "stream",
     "text": [
      "/Users/biacordazzo/opt/anaconda3/envs/qiime2-amplicon-2024.5/lib/python3.9/site-packages/sklearn/base.py:486: UserWarning: X has feature names, but RandomForestClassifier was fitted without feature names\n",
      "  warnings.warn(\n"
     ]
    },
    {
     "name": "stdout",
     "output_type": "stream",
     "text": [
      "Best parameters found: {'bootstrap': False, 'max_depth': None, 'min_samples_leaf': 1, 'min_samples_split': 5, 'n_estimators': 100}\n",
      "Best cross-validation accuracy: 0.35357142857142854\n",
      "Optimizing hyperparameters for Metabolite_Joint-RPCA, traintest_6...\n"
     ]
    },
    {
     "name": "stderr",
     "output_type": "stream",
     "text": [
      "/Users/biacordazzo/opt/anaconda3/envs/qiime2-amplicon-2024.5/lib/python3.9/site-packages/sklearn/base.py:486: UserWarning: X has feature names, but RandomForestClassifier was fitted without feature names\n",
      "  warnings.warn(\n"
     ]
    },
    {
     "name": "stdout",
     "output_type": "stream",
     "text": [
      "Best parameters found: {'bootstrap': False, 'max_depth': None, 'min_samples_leaf': 2, 'min_samples_split': 2, 'n_estimators': 100}\n",
      "Best cross-validation accuracy: 0.3392857142857143\n",
      "Optimizing hyperparameters for Metabolite_Joint-RPCA, traintest_7...\n"
     ]
    },
    {
     "name": "stderr",
     "output_type": "stream",
     "text": [
      "/Users/biacordazzo/opt/anaconda3/envs/qiime2-amplicon-2024.5/lib/python3.9/site-packages/sklearn/base.py:486: UserWarning: X has feature names, but RandomForestClassifier was fitted without feature names\n",
      "  warnings.warn(\n"
     ]
    },
    {
     "name": "stdout",
     "output_type": "stream",
     "text": [
      "Best parameters found: {'bootstrap': False, 'max_depth': None, 'min_samples_leaf': 1, 'min_samples_split': 10, 'n_estimators': 100}\n",
      "Best cross-validation accuracy: 0.3178571428571429\n",
      "Optimizing hyperparameters for Metabolite_Joint-RPCA, traintest_8...\n"
     ]
    },
    {
     "name": "stderr",
     "output_type": "stream",
     "text": [
      "/Users/biacordazzo/opt/anaconda3/envs/qiime2-amplicon-2024.5/lib/python3.9/site-packages/sklearn/base.py:486: UserWarning: X has feature names, but RandomForestClassifier was fitted without feature names\n",
      "  warnings.warn(\n"
     ]
    },
    {
     "name": "stdout",
     "output_type": "stream",
     "text": [
      "Best parameters found: {'bootstrap': False, 'max_depth': 10, 'min_samples_leaf': 1, 'min_samples_split': 10, 'n_estimators': 100}\n",
      "Best cross-validation accuracy: 0.33571428571428574\n",
      "Optimizing hyperparameters for Metabolite_Joint-RPCA, traintest_9...\n"
     ]
    },
    {
     "name": "stderr",
     "output_type": "stream",
     "text": [
      "/Users/biacordazzo/opt/anaconda3/envs/qiime2-amplicon-2024.5/lib/python3.9/site-packages/sklearn/base.py:486: UserWarning: X has feature names, but RandomForestClassifier was fitted without feature names\n",
      "  warnings.warn(\n"
     ]
    },
    {
     "name": "stdout",
     "output_type": "stream",
     "text": [
      "Best parameters found: {'bootstrap': True, 'max_depth': None, 'min_samples_leaf': 2, 'min_samples_split': 2, 'n_estimators': 200}\n",
      "Best cross-validation accuracy: 0.375\n"
     ]
    },
    {
     "name": "stderr",
     "output_type": "stream",
     "text": [
      "/Users/biacordazzo/opt/anaconda3/envs/qiime2-amplicon-2024.5/lib/python3.9/site-packages/sklearn/base.py:486: UserWarning: X has feature names, but RandomForestClassifier was fitted without feature names\n",
      "  warnings.warn(\n"
     ]
    }
   ],
   "source": [
    "#SEASON\n",
    "acc_ratio_season_opt = rf_acc(ord_tables=[rpca_traj['18S'], rpca_traj['mag'], rpca_traj['gene'],\n",
    "                                          rpca_traj['gene_module'], rpca_traj['metabolite'],\n",
    "                                          joint_rpca_traj['18S'], joint_rpca_traj['mag'], joint_rpca_traj['gene'],\n",
    "                                          joint_rpca_traj['gene_module'], joint_rpca_traj['metabolite']],\n",
    "                              ord_ids=[\"18S_RPCA\", \"MAG_RPCA\", \"Gene_RPCA\", \n",
    "                                       \"Gene_Module_RPCA\", \"Metabolite_RPCA\",\n",
    "                                       \"18S_Joint-RPCA\", \"MAG_Joint-RPCA\", \"Gene_Joint-RPCA\", \n",
    "                                       \"Gene_Module_Joint-RPCA\", \"Metabolite_Joint-RPCA\"],\n",
    "                              shared_mt=metadata, cat_of_interest='season', ordination=False, \n",
    "                              n_folds=10, random_state=42, optimize=True, param_grid=param_grid)"
   ]
  },
  {
   "cell_type": "code",
   "execution_count": 45,
   "metadata": {},
   "outputs": [
    {
     "data": {
      "text/html": [
       "<div>\n",
       "<style scoped>\n",
       "    .dataframe tbody tr th:only-of-type {\n",
       "        vertical-align: middle;\n",
       "    }\n",
       "\n",
       "    .dataframe tbody tr th {\n",
       "        vertical-align: top;\n",
       "    }\n",
       "\n",
       "    .dataframe thead th {\n",
       "        text-align: right;\n",
       "    }\n",
       "</style>\n",
       "<table border=\"1\" class=\"dataframe\">\n",
       "  <thead>\n",
       "    <tr style=\"text-align: right;\">\n",
       "      <th></th>\n",
       "      <th>Omic</th>\n",
       "      <th>Fold</th>\n",
       "      <th>Accuracy</th>\n",
       "      <th>Report</th>\n",
       "      <th>Optimization</th>\n",
       "    </tr>\n",
       "  </thead>\n",
       "  <tbody>\n",
       "    <tr>\n",
       "      <th>0</th>\n",
       "      <td>18S_RPCA</td>\n",
       "      <td>traintest_0</td>\n",
       "      <td>0.488372</td>\n",
       "      <td>precision    recall  f1-score   ...</td>\n",
       "      <td>{'bootstrap': False, 'max_depth': None, 'min_s...</td>\n",
       "    </tr>\n",
       "    <tr>\n",
       "      <th>1</th>\n",
       "      <td>18S_RPCA</td>\n",
       "      <td>traintest_1</td>\n",
       "      <td>0.413793</td>\n",
       "      <td>precision    recall  f1-score   ...</td>\n",
       "      <td>{'bootstrap': True, 'max_depth': None, 'min_sa...</td>\n",
       "    </tr>\n",
       "    <tr>\n",
       "      <th>2</th>\n",
       "      <td>18S_RPCA</td>\n",
       "      <td>traintest_2</td>\n",
       "      <td>0.435897</td>\n",
       "      <td>precision    recall  f1-score   ...</td>\n",
       "      <td>{'bootstrap': False, 'max_depth': 10, 'min_sam...</td>\n",
       "    </tr>\n",
       "    <tr>\n",
       "      <th>3</th>\n",
       "      <td>18S_RPCA</td>\n",
       "      <td>traintest_3</td>\n",
       "      <td>0.376471</td>\n",
       "      <td>precision    recall  f1-score   ...</td>\n",
       "      <td>{'bootstrap': True, 'max_depth': None, 'min_sa...</td>\n",
       "    </tr>\n",
       "    <tr>\n",
       "      <th>4</th>\n",
       "      <td>18S_RPCA</td>\n",
       "      <td>traintest_4</td>\n",
       "      <td>0.456790</td>\n",
       "      <td>precision    recall  f1-score   ...</td>\n",
       "      <td>{'bootstrap': False, 'max_depth': None, 'min_s...</td>\n",
       "    </tr>\n",
       "  </tbody>\n",
       "</table>\n",
       "</div>"
      ],
      "text/plain": [
       "       Omic         Fold  Accuracy  \\\n",
       "0  18S_RPCA  traintest_0  0.488372   \n",
       "1  18S_RPCA  traintest_1  0.413793   \n",
       "2  18S_RPCA  traintest_2  0.435897   \n",
       "3  18S_RPCA  traintest_3  0.376471   \n",
       "4  18S_RPCA  traintest_4  0.456790   \n",
       "\n",
       "                                              Report  \\\n",
       "0                precision    recall  f1-score   ...   \n",
       "1                precision    recall  f1-score   ...   \n",
       "2                precision    recall  f1-score   ...   \n",
       "3                precision    recall  f1-score   ...   \n",
       "4                precision    recall  f1-score   ...   \n",
       "\n",
       "                                        Optimization  \n",
       "0  {'bootstrap': False, 'max_depth': None, 'min_s...  \n",
       "1  {'bootstrap': True, 'max_depth': None, 'min_sa...  \n",
       "2  {'bootstrap': False, 'max_depth': 10, 'min_sam...  \n",
       "3  {'bootstrap': True, 'max_depth': None, 'min_sa...  \n",
       "4  {'bootstrap': False, 'max_depth': None, 'min_s...  "
      ]
     },
     "metadata": {},
     "output_type": "display_data"
    }
   ],
   "source": [
    "#save results\n",
    "acc_ratio_season_opt.to_csv('../results/joint-rpca/rf_acc_{}-ratio_season_opt.csv'.format(pc_to_use), index=False)\n",
    "#read results\n",
    "#acc_ratio_season_opt = pd.read_csv('../results/joint-rpca/rf_acc_{}-ratio_season_opt.csv'.format(pc_to_use))\n",
    "display(acc_ratio_season_opt.head())"
   ]
  },
  {
   "cell_type": "code",
   "execution_count": 48,
   "metadata": {},
   "outputs": [
    {
     "name": "stdout",
     "output_type": "stream",
     "text": [
      "p-value annotation legend:\n",
      "      ns: 5.00e-02 < p <= 1.00e+00\n",
      "       *: 1.00e-02 < p <= 5.00e-02\n",
      "      **: 1.00e-03 < p <= 1.00e-02\n",
      "     ***: 1.00e-04 < p <= 1.00e-03\n",
      "    ****: p <= 1.00e-04\n",
      "\n",
      "18S_RPCA vs. 18S_Joint-RPCA: Wilcoxon test (paired samples), P_val:1.953e-03 Stat=0.000e+00\n",
      "MAG_RPCA vs. MAG_Joint-RPCA: Wilcoxon test (paired samples), P_val:1.953e-03 Stat=0.000e+00\n",
      "Gene_RPCA vs. Gene_Joint-RPCA: Wilcoxon test (paired samples), P_val:5.745e-01 Stat=1.400e+01\n",
      "Gene_Module_RPCA vs. Gene_Module_Joint-RPCA: Wilcoxon test (paired samples), P_val:1.544e-01 Stat=1.050e+01\n",
      "Metabolite_RPCA vs. Metabolite_Joint-RPCA: Wilcoxon test (paired samples), P_val:5.041e-02 Stat=6.000e+00\n",
      "p-value annotation legend:\n",
      "      ns: 5.00e-02 < p <= 1.00e+00\n",
      "       *: 1.00e-02 < p <= 5.00e-02\n",
      "      **: 1.00e-03 < p <= 1.00e-02\n",
      "     ***: 1.00e-04 < p <= 1.00e-03\n",
      "    ****: p <= 1.00e-04\n",
      "\n",
      "18S_RPCA vs. 18S_Joint-RPCA: Wilcoxon test (paired samples), P_val:6.744e-01 Stat=1.500e+01\n",
      "MAG_RPCA vs. MAG_Joint-RPCA: Wilcoxon test (paired samples), P_val:3.711e-02 Stat=7.000e+00\n",
      "Gene_RPCA vs. Gene_Joint-RPCA: Wilcoxon test (paired samples), P_val:1.230e-01 Stat=7.000e+00\n",
      "Gene_Module_RPCA vs. Gene_Module_Joint-RPCA: Wilcoxon test (paired samples), P_val:2.065e-01 Stat=9.000e+00\n",
      "Metabolite_RPCA vs. Metabolite_Joint-RPCA: Wilcoxon test (paired samples), P_val:3.711e-02 Stat=7.000e+00\n",
      "p-value annotation legend:\n",
      "      ns: 5.00e-02 < p <= 1.00e+00\n",
      "       *: 1.00e-02 < p <= 5.00e-02\n",
      "      **: 1.00e-03 < p <= 1.00e-02\n",
      "     ***: 1.00e-04 < p <= 1.00e-03\n",
      "    ****: p <= 1.00e-04\n",
      "\n",
      "18S_RPCA vs. 18S_Joint-RPCA: Wilcoxon test (paired samples), P_val:5.859e-03 Stat=2.000e+00\n",
      "MAG_RPCA vs. MAG_Joint-RPCA: Wilcoxon test (paired samples), P_val:2.734e-02 Stat=6.000e+00\n",
      "Gene_RPCA vs. Gene_Joint-RPCA: Wilcoxon test (paired samples), P_val:1.000e+00 Stat=2.650e+01\n",
      "Gene_Module_RPCA vs. Gene_Module_Joint-RPCA: Wilcoxon test (paired samples), P_val:3.750e-01 Stat=1.750e+01\n",
      "Metabolite_RPCA vs. Metabolite_Joint-RPCA: Wilcoxon test (paired samples), P_val:3.906e-03 Stat=1.000e+00\n"
     ]
    },
    {
     "data": {
      "image/png": "[encoded data removed]",
      "text/plain": [
       "<Figure size 800x1500 with 3 Axes>"
      ]
     },
     "metadata": {},
     "output_type": "display_data"
    }
   ],
   "source": [
    "order_v1 = ['18S_RPCA', '18S_Joint-RPCA', 'MAG_RPCA', 'MAG_Joint-RPCA',\n",
    "            'Gene_RPCA', 'Gene_Joint-RPCA', 'Gene_Module_RPCA', 'Gene_Module_Joint-RPCA',\n",
    "            'Metabolite_RPCA', 'Metabolite_Joint-RPCA']\n",
    "\n",
    "stat_pairs = [('18S_RPCA', '18S_Joint-RPCA'), \n",
    "              ('MAG_RPCA', 'MAG_Joint-RPCA'),\n",
    "              ('Gene_RPCA', 'Gene_Joint-RPCA'), \n",
    "              ('Gene_Module_RPCA', 'Gene_Module_Joint-RPCA'),\n",
    "              ('Metabolite_RPCA', 'Metabolite_Joint-RPCA')]\n",
    "\n",
    "pair_palette = {'18S_RPCA': 'tab:grey', '18S_Joint-RPCA': 'tab:purple',\n",
    "                'MAG_RPCA': 'tab:grey', 'MAG_Joint-RPCA': 'tab:purple',\n",
    "                'Gene_RPCA': 'tab:grey', 'Gene_Joint-RPCA': 'tab:purple',\n",
    "                'Gene_Module_RPCA': 'tab:grey', 'Gene_Module_Joint-RPCA': 'tab:purple',\n",
    "                'Metabolite_RPCA': 'tab:grey', 'Metabolite_Joint-RPCA': 'tab:purple'}\n",
    "\n",
    "plotting_params = {'x':'Omic', 'y':'Accuracy', \n",
    "                   'order':order_v1, 'palette':pair_palette}\n",
    "\n",
    "fig, axn = plt.subplots(3, 1, figsize=(8, 15))\n",
    "\n",
    "for ax_, data, title in zip(axn.flatten(), \n",
    "                           [acc_ratio_facility_opt, acc_ratio_stage_opt, acc_ratio_season_opt],\n",
    "                           ['Facility', 'Stage of Decomposition', 'Season']):\n",
    "    \n",
    "    plotting_params['data'] = data\n",
    "    sns.boxplot(ax=ax_, **plotting_params)\n",
    "    \n",
    "    ax_.set_xticklabels(ax_.get_xticklabels(), rotation=30)\n",
    "    ax_.set_xlabel('')\n",
    "    ax_.set_ylabel('RF Accuracy')\n",
    "    ax_.set_title('{} ({})'.format(title, pc_to_use))\n",
    "\n",
    "    #add statistical test\n",
    "    annotator = Annotator(ax_, stat_pairs, **plotting_params)\n",
    "    annotator.configure(test=\"Wilcoxon\").apply_and_annotate()\n",
    "    #test options: Mann-Whitney, Kruskal, Wilcoxon\n",
    "\n",
    "plt.tight_layout()\n",
    "plt.show()"
   ]
  },
  {
   "cell_type": "markdown",
   "metadata": {},
   "source": [
    "## Venn Diagrams"
   ]
  },
  {
   "cell_type": "code",
   "execution_count": 25,
   "metadata": {},
   "outputs": [],
   "source": [
    "#find top/bottom features from individual RPCA results\n",
    "rpca_ord = {'18S': ord_18S, 'mag': ord_mag, 'gene': ord_gene, \n",
    "            'gene_module': ord_gene_module, 'metabolite': ord_metabolite}\n",
    "pc_to_use = 'PC1'\n",
    "rpca_top_bot_fts = {}\n",
    "\n",
    "for omic in tables.keys():\n",
    "    ord_ = rpca_ord[omic].features.copy()\n",
    "    table_ = tables[omic]\n",
    "    _, _, _, top_fts, bottom_fts = get_top_features(table_, ord_, component=pc_to_use,\n",
    "                                                    quantile=quantile, pseudocount=0)\n",
    "    rpca_top_bot_fts[omic] = top_fts + bottom_fts\n",
    "\n",
    "#find top features from joint-RPCA results\n",
    "joint_top_bot_fts = {}\n",
    "\n",
    "for omic in tables.keys():\n",
    "    table_ = tables[omic]\n",
    "    \n",
    "    if omic == '18S':\n",
    "        ord_ = joint_features.loc[in_ord_18S]\n",
    "    else:\n",
    "        ord_ = joint_features.loc[table_.ids(axis='observation')]\n",
    "\n",
    "    _, _, _, top_fts, bottom_fts = get_top_features(table_, ord_, component=pc_to_use,\n",
    "                                                    quantile=quantile, pseudocount=0)\n",
    "    joint_top_bot_fts[omic] = top_fts + bottom_fts"
   ]
  },
  {
   "cell_type": "code",
   "execution_count": 28,
   "metadata": {},
   "outputs": [
    {
     "name": "stdout",
     "output_type": "stream",
     "text": [
      "Number of intersecting features for 18S: 429\n",
      "Number of intersecting features for mag: 9\n",
      "Number of intersecting features for gene: 171\n",
      "Number of intersecting features for gene_module: 19\n",
      "Number of intersecting features for metabolite: 172\n"
     ]
    }
   ],
   "source": [
    "#find intersecting features\n",
    "common_omic_fts = {}\n",
    "\n",
    "for omic in tables.keys():\n",
    "    common_fts = set(rpca_top_bot_fts[omic]).intersection(joint_top_bot_fts[omic])\n",
    "    common_omic_fts[omic] = common_fts\n",
    "    print(\"Number of intersecting features for %s: %i\" % (omic, len(common_fts)))"
   ]
  },
  {
   "cell_type": "code",
   "execution_count": 29,
   "metadata": {},
   "outputs": [
    {
     "data": {
      "image/png": "[encoded data removed]",
      "text/plain": [
       "<Figure size 2000x500 with 5 Axes>"
      ]
     },
     "metadata": {},
     "output_type": "display_data"
    }
   ],
   "source": [
    "#plot a venn diagram per omic\n",
    "fig, axn = plt.subplots(1, 5, figsize=(20, 5))\n",
    "for ax_, omic in zip(axn.flatten(), tables.keys()):\n",
    "\n",
    "    a = len(rpca_top_bot_fts[omic]) - len(set(common_omic_fts[omic]))\n",
    "    b = len(set(common_omic_fts[omic]))\n",
    "    c = len(joint_top_bot_fts[omic]) - len(set(common_omic_fts[omic]))\n",
    "\n",
    "    venn2(subsets=(a, c, b), set_labels=('RPCA', 'Joint-RPCA'), ax=ax_,\n",
    "          set_colors=('tab:purple', 'tab:blue'), alpha=0.5)\n",
    "    ax_.set_title(omic)\n",
    "    plt.suptitle('Intersection of top and bottom {} features'.format(pc_to_use), \n",
    "                 fontsize=16, y=0.8)\n",
    "#plt.tight_layout()\n",
    "plt.show()"
   ]
  },
  {
   "cell_type": "code",
   "execution_count": 39,
   "metadata": {},
   "outputs": [
    {
     "name": "stdout",
     "output_type": "stream",
     "text": [
      "18S\n",
      "['6f2101148940d2ff3aa240c3b3ab01cf', 'f215150e53175907f4476312b424cdcb', '32794c9125af0f00b2f95ce56025c220']\n",
      "['e8605d8efcc8261776f20005daa5b06f', '7d41d94d8409a2fb21d04e19b8141333', 'ff13b38588402a2de3d0150de322c97f']\n",
      "mag\n",
      "['UTK_active.final.18', 'UTK_active.final.26', 'SHSU.bins.68']\n",
      "['SHSU.bins.354', 'SHSU.bins.335', 'SHSU.bins.365']\n",
      "gene\n",
      "['K01989', 'MER0469302', 'MER0027574']\n",
      "['None', 'K02824', 'K18220']\n",
      "gene_module\n",
      "['Type_III_signiture_cas_proteins', 'Biphenyl_degradation_biphenyl_to_2-oxopent-4-enoate___benzoate', 'Manganese/zinc_transport_system']\n",
      "['Hydroxyproline_transporter_system', 'Acetoin_utilization_transport_system', 'Uncharacterized_ABC_transport_system']\n",
      "metabolite\n",
      "['metab_327', 'metab_2121', 'metab_680']\n",
      "['metab_313', 'metab_241', 'metab_304']\n"
     ]
    }
   ],
   "source": [
    "for omic in rpca_top_bot_fts.keys():\n",
    "    print(omic)\n",
    "    print(rpca_top_bot_fts[omic][:3])\n",
    "    print(joint_top_bot_fts[omic][:3])"
   ]
  }
 ],
 "metadata": {
  "kernelspec": {
   "display_name": "qiime2-amplicon-2024.5",
   "language": "python",
   "name": "python3"
  },
  "language_info": {
   "codemirror_mode": {
    "name": "ipython",
    "version": 3
   },
   "file_extension": ".py",
   "mimetype": "text/x-python",
   "name": "python",
   "nbconvert_exporter": "python",
   "pygments_lexer": "ipython3",
   "version": "3.9.19"
  }
 },
 "nbformat": 4,
 "nbformat_minor": 2
}
