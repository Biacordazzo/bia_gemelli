{
 "cells": [
  {
   "cell_type": "code",
   "execution_count": 1,
   "metadata": {},
   "outputs": [],
   "source": [
    "import glob\n",
    "import pandas as pd\n",
    "import qiime2 as q2\n",
    "import time\n",
    "from qiime2.plugins.mmvec.actions import paired_omics                                   \n",
    "from biom import load_table\n",
    "import json\n",
    "import itertools\n",
    "\n",
    "#turn off warnings\n",
    "import warnings\n",
    "warnings.filterwarnings(\"ignore\")\n",
    "#turn off tensorflow warnings\n",
    "import os\n",
    "os.environ['TF_CPP_MIN_LOG_LEVEL'] = '2' "
   ]
  },
  {
   "cell_type": "code",
   "execution_count": 2,
   "metadata": {},
   "outputs": [],
   "source": [
    "##calculate # of features needed to match percentages\n",
    "def get_n_features(p_features, total_features, subtotal_features):\n",
    "    total_fts = [int(0.01 * p * total_features) for p in p_features]\n",
    "    prot_fts = [fts - subtotal_features for fts in total_fts]\n",
    "    return total_fts, prot_fts"
   ]
  },
  {
   "cell_type": "code",
   "execution_count": 3,
   "metadata": {},
   "outputs": [
    {
     "data": {
      "text/plain": [
       "{'metagenomics': 3568 x 173 <class 'biom.table.Table'> with 162126 nonzero entries (26% dense),\n",
       " 'metabolomics': 1928 x 173 <class 'biom.table.Table'> with 58132 nonzero entries (17% dense),\n",
       " 'metaproteomics': 108080 x 173 <class 'biom.table.Table'> with 5065165 nonzero entries (27% dense)}"
      ]
     },
     "execution_count": 3,
     "metadata": {},
     "output_type": "execute_result"
    }
   ],
   "source": [
    "#load the data\n",
    "data_path = '/Users/bec5786/Desktop/Shenhav Lab/Joint-RPCA/Case studies/iHMP/Data/runtime/'\n",
    "uc_omic_keys = [omics_.split('/')[-1].split('.')[0] for omics_ in glob.glob('{}UC/*.biom'.format(data_path))]\n",
    "\n",
    "uc_metadata_shared = pd.read_csv('../data/uc-metadata-plus-train-tests.csv', index_col=0)\n",
    "uc_tables_shared = {k_: load_table('{}UC/{}.biom'.format(data_path, k_)) for k_ in uc_omic_keys}\n",
    "uc_tables_shared"
   ]
  },
  {
   "cell_type": "code",
   "execution_count": 39,
   "metadata": {},
   "outputs": [
    {
     "name": "stdout",
     "output_type": "stream",
     "text": [
      "113576 5496\n"
     ]
    }
   ],
   "source": [
    "#add number of features across tables\n",
    "uc_n_feat = 0\n",
    "for k, v in uc_tables_shared.items():\n",
    "    uc_n_feat += v.shape[0]\n",
    "\n",
    "uc_n_noprot = uc_n_feat - uc_tables_shared['metaproteomics'].shape[0]\n",
    "print(uc_n_feat, uc_n_noprot)"
   ]
  },
  {
   "cell_type": "code",
   "execution_count": 7,
   "metadata": {},
   "outputs": [],
   "source": [
    "##formatting for running MMvec\n",
    "#change index name to 'sample id'\n",
    "uc_metadata_shared.index.name = 'sample id'\n",
    "\n",
    "#change train to Train and test to Test\n",
    "uc_metadata_shared['train_test_mmvec'] = uc_metadata_shared['train_test'].apply(lambda x: 'Train' if x == 'train' else 'Test')"
   ]
  },
  {
   "cell_type": "code",
   "execution_count": 8,
   "metadata": {},
   "outputs": [
    {
     "data": {
      "text/plain": [
       "[('metagenomics', 'metagenomics'),\n",
       " ('metabolomics', 'metabolomics'),\n",
       " ('metaproteomics', 'metaproteomics'),\n",
       " ('metagenomics', 'metabolomics'),\n",
       " ('metagenomics', 'metaproteomics'),\n",
       " ('metabolomics', 'metagenomics'),\n",
       " ('metabolomics', 'metaproteomics'),\n",
       " ('metaproteomics', 'metagenomics'),\n",
       " ('metaproteomics', 'metabolomics')]"
      ]
     },
     "execution_count": 8,
     "metadata": {},
     "output_type": "execute_result"
    }
   ],
   "source": [
    "#create list with all possible pairs of omics\n",
    "omic_keys = list(uc_tables_shared.keys())\n",
    "pairs = [('metagenomics', 'metagenomics'), \n",
    "         ('metabolomics', 'metabolomics'),\n",
    "         ('metaproteomics', 'metaproteomics')] + list(itertools.permutations(omic_keys, 2))\n",
    "pairs"
   ]
  },
  {
   "cell_type": "code",
   "execution_count": 9,
   "metadata": {},
   "outputs": [],
   "source": [
    "#create list with and without proteomics\n",
    "pairs_no_prot = [pair for pair in pairs if 'metaproteomics' not in pair]\n",
    "pairs_prot = [pair for pair in pairs if 'metaproteomics' in pair]"
   ]
  },
  {
   "cell_type": "code",
   "execution_count": 54,
   "metadata": {},
   "outputs": [
    {
     "name": "stdout",
     "output_type": "stream",
     "text": [
      "Proteomics: 1.0% of features: 1080\n",
      "Proteomics: 3.0% of features: 3242\n",
      "Proteomics: 4.0% of features: 4323\n",
      "Proteomics: 5.0% of features: 5404\n",
      "Proteomics: 6.0% of features: 6484\n"
     ]
    }
   ],
   "source": [
    "#generate subsets of metabolomics data\n",
    "proteomics_all = uc_tables_shared['metaproteomics'].copy()\n",
    "\n",
    "proteomics_sub = {}\n",
    "proteomics_sub_nfeats = {}\n",
    "for factor in [0.01, 0.03, 0.04, 0.05, 0.06]:\n",
    "    #get metabolomics table\n",
    "    prot = uc_tables_shared['metaproteomics'].copy()\n",
    "    #number of features to keep\n",
    "    n_features = int(prot.shape[0]*factor)\n",
    "    proteomics_sub_nfeats[factor] = n_features\n",
    "    #take first n_features\n",
    "    feature_ids = list(prot.ids(axis='observation'))[:n_features]\n",
    "    #filter table\n",
    "    proteomics_sub[factor] = prot.filter(feature_ids, axis='observation')\n",
    "    #sanity check\n",
    "    print('Proteomics: {}% of features: {}'.format(factor*100, proteomics_sub[factor].shape[0]))"
   ]
  },
  {
   "cell_type": "code",
   "execution_count": 13,
   "metadata": {},
   "outputs": [],
   "source": [
    "uc_metadata_shared_short = uc_metadata_shared.copy()\n",
    "uc_metadata_shared_short = uc_metadata_shared_short[['train_test_mmvec']]"
   ]
  },
  {
   "cell_type": "code",
   "execution_count": 20,
   "metadata": {},
   "outputs": [],
   "source": [
    "# runtime = {}\n",
    "# runtime_total = {}"
   ]
  },
  {
   "cell_type": "code",
   "execution_count": null,
   "metadata": {},
   "outputs": [],
   "source": [
    "# #run mmvec for each pair of omics without proteomics\n",
    "# factor = 0\n",
    "# time_factor = 0\n",
    "# for pair in pairs_no_prot:  \n",
    "#     print(pair)\n",
    "#     #get tables and set to correct format\n",
    "#     t1 = uc_tables_shared[pair[0]]\n",
    "#     t2 = uc_tables_shared[pair[1]]\n",
    "#     t1_q2 = q2.Artifact.import_data('FeatureTable[Frequency]', t1)\n",
    "#     t2_q2 = q2.Artifact.import_data('FeatureTable[Frequency]', t2)\n",
    "\n",
    "#     #run and time mmvec\n",
    "#     time_start = time.perf_counter()\n",
    "#     mmvec_res = paired_omics(t1_q2, t2_q2, \n",
    "#                             summary_interval=1,\n",
    "#                             metadata=q2.Metadata(uc_metadata_shared_short),\n",
    "#                             training_column='train_test_mmvec',\n",
    "#                             min_feature_count=10)\n",
    "#     time_elapsed = (time.perf_counter() - time_start)\n",
    "#     time_factor += time_elapsed\n",
    "#     print('Time elapsed: ', round(time_elapsed,4))\n",
    "#     print()\n",
    "#     #save output\n",
    "#     runtime[\"{}-{}\".format(pair[0], pair[1])] = time_elapsed\n",
    "#     with open(\"../results/mmvec-runtime-uc.json\", \"w\") as outfile: \n",
    "#         json.dump(runtime, outfile)\n",
    "\n",
    "# runtime_total[factor] = time_factor\n",
    "# print('Total time elapsed: ', round(time_factor,4))\n",
    "\n",
    "# #save mmvec results as json/pickle\n",
    "# with open(\"../results/mmvec-runtime-total-uc.json\", \"w\") as outfile: \n",
    "#    json.dump(runtime_total, outfile)"
   ]
  },
  {
   "cell_type": "code",
   "execution_count": null,
   "metadata": {},
   "outputs": [],
   "source": [
    "# #sanity check\n",
    "# print(runtime)\n",
    "# print(runtime_total)"
   ]
  },
  {
   "cell_type": "code",
   "execution_count": 14,
   "metadata": {},
   "outputs": [],
   "source": [
    "# #load mmvec results\n",
    "# with open(\"../results/mmvec-runtime-total-uc.json\", \"r\") as infile:\n",
    "#     runtime_total = json.load(infile)\n",
    "\n",
    "# with open(\"../results/mmvec-runtime-uc.json\", \"r\") as infile:\n",
    "#     runtime = json.load(infile)"
   ]
  },
  {
   "cell_type": "code",
   "execution_count": null,
   "metadata": {},
   "outputs": [],
   "source": [
    "# for factor in [0.01, 0.03]: #0.04 onwards is too slow\n",
    "#     print('\\n### Proteomic Features: {}% ###'.format(factor*100))\n",
    "#     prot_table = proteomics_sub[factor]\n",
    "#     table_to_use = uc_tables_shared.copy()\n",
    "#     table_to_use['metaproteomics'] = prot_table\n",
    "#     print('Proteomics n features: {}'.format(table_to_use['metaproteomics'].shape[0]))\n",
    "\n",
    "#     time_factor = 0\n",
    "#     for pair in pairs_prot:\n",
    "#         print(pair)\n",
    "        \n",
    "#         #get tables and set to correct format\n",
    "#         t1 = table_to_use[pair[0]]\n",
    "#         t2 = table_to_use[pair[1]]\n",
    "#         t1_q2 = q2.Artifact.import_data('FeatureTable[Frequency]', t1)\n",
    "#         t2_q2 = q2.Artifact.import_data('FeatureTable[Frequency]', t2)\n",
    "\n",
    "#         #run and time mmvec\n",
    "#         time_start = time.perf_counter()\n",
    "#         mmvec_res = paired_omics(t1_q2, t2_q2, \n",
    "#                                 summary_interval=1,\n",
    "#                                 metadata=q2.Metadata(uc_metadata_shared_short),\n",
    "#                                 training_column='train_test_mmvec',\n",
    "#                                 min_feature_count=10)\n",
    "#         time_elapsed = (time.perf_counter() - time_start)\n",
    "#         time_factor += time_elapsed\n",
    "#         print('Time elapsed: ', round(time_elapsed,2))\n",
    "#         print()\n",
    "\n",
    "#         # update pair name before saving\n",
    "#         if pair[0] == 'metaproteomics':\n",
    "#             pair = ('metaproteomics{}'.format(factor), pair[1])\n",
    "#         if pair[1] == 'metaproteomics':\n",
    "#             pair = (pair[0], 'metaproteomics{}'.format(factor))\n",
    "#         #save output\n",
    "#         runtime[\"{}-{}\".format(pair[0], pair[1])] = time_elapsed\n",
    "#         with open(\"../results/mmvec-runtime-uc.json\", \"w\") as outfile: \n",
    "#             json.dump(runtime, outfile)\n",
    "    \n",
    "#     runtime_total[factor] = time_factor\n",
    "#     print('Total time elapsed: {} secs ({} mins)'.format(round(time_factor, 2),\n",
    "#                                                          round(time_factor/60, 2)))\n",
    "    \n",
    "#     #save mmvec results as json/pickle\n",
    "#     with open(\"../results/mmvec-runtime-total-uc.json\", \"w\") as outfile: \n",
    "#         json.dump(runtime_total, outfile)\n",
    "    "
   ]
  },
  {
   "cell_type": "code",
   "execution_count": 14,
   "metadata": {},
   "outputs": [],
   "source": [
    "# pairs_prot_sub = [#('metaproteomics', 'metaproteomics'),\n",
    "#                     ('metagenomics', 'metaproteomics'),\n",
    "#                     ('metabolomics', 'metaproteomics'),\n",
    "#                     ('metaproteomics', 'metagenomics'),\n",
    "#                     ('metaproteomics', 'metabolomics')]\n",
    "\n",
    "# for factor in [0.04]:\n",
    "#     print('\\n### Proteomic Features: {}% ###'.format(factor*100))\n",
    "#     prot_table = proteomics_sub[factor]\n",
    "#     table_to_use = uc_tables_shared.copy()\n",
    "#     table_to_use['metaproteomics'] = prot_table\n",
    "#     print('Proteomics n features: {}'.format(table_to_use['metaproteomics'].shape[0]))\n",
    "\n",
    "#     time_factor = 0\n",
    "#     for pair in pairs_prot_sub:\n",
    "#         print(pair)\n",
    "        \n",
    "#         #get tables and set to correct format\n",
    "#         t1 = table_to_use[pair[0]]\n",
    "#         t2 = table_to_use[pair[1]]\n",
    "#         t1_q2 = q2.Artifact.import_data('FeatureTable[Frequency]', t1)\n",
    "#         t2_q2 = q2.Artifact.import_data('FeatureTable[Frequency]', t2)\n",
    "\n",
    "#         #run and time mmvec\n",
    "#         time_start = time.perf_counter()\n",
    "#         mmvec_res = paired_omics(t1_q2, t2_q2, \n",
    "#                                 summary_interval=1,\n",
    "#                                 metadata=q2.Metadata(uc_metadata_shared_short),\n",
    "#                                 training_column='train_test_mmvec',\n",
    "#                                 min_feature_count=10)\n",
    "#         time_elapsed = (time.perf_counter() - time_start)\n",
    "#         time_factor += time_elapsed\n",
    "#         print('Time elapsed: ', round(time_elapsed,2))\n",
    "#         print()\n",
    "\n",
    "#         # update pair name before saving\n",
    "#         if pair[0] == 'metaproteomics':\n",
    "#             pair = ('metaproteomics{}'.format(factor), pair[1])\n",
    "#         if pair[1] == 'metaproteomics':\n",
    "#             pair = (pair[0], 'metaproteomics{}'.format(factor))\n",
    "#         #save output\n",
    "#         runtime[\"{}-{}\".format(pair[0], pair[1])] = time_elapsed\n",
    "#         with open(\"../results/mmvec-runtime-uc.json\", \"w\") as outfile: \n",
    "#             json.dump(runtime, outfile)\n",
    "    \n",
    "#     runtime_total[factor] = time_factor\n",
    "#     print('Total time elapsed: {} secs ({} mins)'.format(round(time_factor, 2),\n",
    "#                                                          round(time_factor/60, 2)))\n",
    "    \n",
    "#     #save mmvec results as json/pickle\n",
    "#     with open(\"../results/mmvec-runtime-total-uc.json\", \"w\") as outfile: \n",
    "#         json.dump(runtime_total, outfile)\n",
    "    "
   ]
  },
  {
   "cell_type": "code",
   "execution_count": 18,
   "metadata": {},
   "outputs": [],
   "source": [
    "runtime_small = {}\n",
    "runtime_total_small = {}"
   ]
  },
  {
   "cell_type": "code",
   "execution_count": 20,
   "metadata": {},
   "outputs": [
    {
     "name": "stdout",
     "output_type": "stream",
     "text": [
      "\n",
      "### Proteomic Features: 1.0% ###\n",
      "Proteomics n features: 1080\n",
      "('metagenomics', 'metaproteomics')\n"
     ]
    },
    {
     "name": "stderr",
     "output_type": "stream",
     "text": [
      "100%|██████████| 236508/236508 [09:10<00:00, 429.62it/s]\n"
     ]
    },
    {
     "name": "stdout",
     "output_type": "stream",
     "text": [
      "Time elapsed: 565.58 secs (9.43 mins)\n",
      "\n",
      "('metabolomics', 'metaproteomics')\n"
     ]
    },
    {
     "name": "stderr",
     "output_type": "stream",
     "text": [
      "100%|██████████| 80740/80740 [01:51<00:00, 725.94it/s]\n"
     ]
    },
    {
     "name": "stdout",
     "output_type": "stream",
     "text": [
      "Time elapsed: 120.35 secs (2.01 mins)\n",
      "\n",
      "('metaproteomics', 'metabolomics')\n"
     ]
    },
    {
     "name": "stderr",
     "output_type": "stream",
     "text": [
      "100%|██████████| 143664/143664 [05:43<00:00, 418.72it/s]\n"
     ]
    },
    {
     "name": "stdout",
     "output_type": "stream",
     "text": [
      "Time elapsed: 352.77 secs (5.88 mins)\n",
      "\n",
      "Total time elapsed: 1038.7 secs (17.31 mins)\n",
      "\n",
      "### Proteomic Features: 3.0% ###\n",
      "Proteomics n features: 3242\n",
      "('metagenomics', 'metaproteomics')\n"
     ]
    },
    {
     "name": "stderr",
     "output_type": "stream",
     "text": [
      "100%|██████████| 236508/236508 [23:46<00:00, 165.80it/s]\n"
     ]
    },
    {
     "name": "stdout",
     "output_type": "stream",
     "text": [
      "Time elapsed: 1450.95 secs (24.18 mins)\n",
      "\n",
      "('metabolomics', 'metaproteomics')\n"
     ]
    },
    {
     "name": "stderr",
     "output_type": "stream",
     "text": [
      "100%|██████████| 80740/80740 [04:07<00:00, 325.67it/s]\n"
     ]
    },
    {
     "name": "stdout",
     "output_type": "stream",
     "text": [
      "Time elapsed: 263.8 secs (4.4 mins)\n",
      "\n",
      "('metaproteomics', 'metabolomics')\n"
     ]
    },
    {
     "name": "stderr",
     "output_type": "stream",
     "text": [
      "100%|██████████| 311720/311720 [19:39<00:00, 264.28it/s]\n"
     ]
    },
    {
     "name": "stdout",
     "output_type": "stream",
     "text": [
      "Time elapsed: 1199.8 secs (20.0 mins)\n",
      "\n",
      "Total time elapsed: 2914.55 secs (48.58 mins)\n",
      "\n",
      "### Proteomic Features: 4.0% ###\n",
      "Proteomics n features: 4323\n",
      "('metagenomics', 'metaproteomics')\n"
     ]
    },
    {
     "name": "stderr",
     "output_type": "stream",
     "text": [
      "100%|██████████| 236508/236508 [38:35<00:00, 102.14it/s]\n"
     ]
    },
    {
     "name": "stdout",
     "output_type": "stream",
     "text": [
      "Time elapsed: 2343.91 secs (39.07 mins)\n",
      "\n",
      "('metabolomics', 'metaproteomics')\n"
     ]
    },
    {
     "name": "stderr",
     "output_type": "stream",
     "text": [
      "100%|██████████| 80740/80740 [05:37<00:00, 239.48it/s]\n"
     ]
    },
    {
     "name": "stdout",
     "output_type": "stream",
     "text": [
      "Time elapsed: 356.42 secs (5.94 mins)\n",
      "\n",
      "('metaproteomics', 'metabolomics')\n"
     ]
    },
    {
     "name": "stderr",
     "output_type": "stream",
     "text": [
      "100%|██████████| 379518/379518 [29:00<00:00, 218.05it/s] \n"
     ]
    },
    {
     "name": "stdout",
     "output_type": "stream",
     "text": [
      "Time elapsed: 1764.06 secs (29.4 mins)\n",
      "\n",
      "Total time elapsed: 4464.39 secs (74.41 mins)\n",
      "\n",
      "### Proteomic Features: 5.0% ###\n",
      "Proteomics n features: 5404\n",
      "('metagenomics', 'metaproteomics')\n"
     ]
    },
    {
     "name": "stderr",
     "output_type": "stream",
     "text": [
      "100%|██████████| 236508/236508 [1:11:40<00:00, 55.00it/s]\n"
     ]
    },
    {
     "name": "stdout",
     "output_type": "stream",
     "text": [
      "Time elapsed: 4332.17 secs (72.2 mins)\n",
      "\n",
      "('metabolomics', 'metaproteomics')\n"
     ]
    },
    {
     "name": "stderr",
     "output_type": "stream",
     "text": [
      "100%|██████████| 80740/80740 [06:32<00:00, 205.88it/s]\n"
     ]
    },
    {
     "name": "stdout",
     "output_type": "stream",
     "text": [
      "Time elapsed: 414.98 secs (6.92 mins)\n",
      "\n",
      "('metaproteomics', 'metabolomics')\n"
     ]
    },
    {
     "name": "stderr",
     "output_type": "stream",
     "text": [
      "100%|██████████| 447748/447748 [41:24<00:00, 180.22it/s] \n"
     ]
    },
    {
     "name": "stdout",
     "output_type": "stream",
     "text": [
      "Time elapsed: 2512.89 secs (41.88 mins)\n",
      "\n",
      "Total time elapsed: 7260.05 secs (121.0 mins)\n",
      "\n",
      "### Proteomic Features: 6.0% ###\n",
      "Proteomics n features: 6484\n",
      "('metagenomics', 'metaproteomics')\n"
     ]
    },
    {
     "name": "stderr",
     "output_type": "stream",
     "text": [
      "100%|██████████| 236508/236508 [3:53:52<00:00, 16.85it/s]   \n"
     ]
    },
    {
     "name": "stdout",
     "output_type": "stream",
     "text": [
      "Time elapsed: 14068.98 secs (234.48 mins)\n",
      "\n",
      "('metabolomics', 'metaproteomics')\n"
     ]
    },
    {
     "name": "stderr",
     "output_type": "stream",
     "text": [
      "100%|██████████| 80740/80740 [07:59<00:00, 168.33it/s]\n"
     ]
    },
    {
     "name": "stdout",
     "output_type": "stream",
     "text": [
      "Time elapsed: 504.55 secs (8.41 mins)\n",
      "\n",
      "('metaproteomics', 'metabolomics')\n"
     ]
    },
    {
     "name": "stderr",
     "output_type": "stream",
     "text": [
      "100%|██████████| 516396/516396 [1:02:26<00:00, 137.82it/s]\n"
     ]
    },
    {
     "name": "stdout",
     "output_type": "stream",
     "text": [
      "Time elapsed: 3780.14 secs (63.0 mins)\n",
      "\n",
      "Total time elapsed: 18353.66 secs (305.89 mins)\n"
     ]
    }
   ],
   "source": [
    "pairs_prot_sub = [#('metaproteomics', 'metaproteomics'),\n",
    "                    ('metagenomics', 'metaproteomics'),\n",
    "                    ('metabolomics', 'metaproteomics'),\n",
    "                    #('metaproteomics', 'metagenomics'),\n",
    "                    ('metaproteomics', 'metabolomics')]\n",
    "\n",
    "for factor in [0.01, 0.03, 0.04, 0.05, 0.06]:\n",
    "    print('\\n### Proteomic Features: {}% ###'.format(factor*100))\n",
    "    prot_table = proteomics_sub[factor]\n",
    "    table_to_use = uc_tables_shared.copy()\n",
    "    table_to_use['metaproteomics'] = prot_table\n",
    "    print('Proteomics n features: {}'.format(table_to_use['metaproteomics'].shape[0]))\n",
    "\n",
    "    time_factor = 0\n",
    "    for pair in pairs_prot_sub:\n",
    "        print(pair)\n",
    "        \n",
    "        #get tables and set to correct format\n",
    "        t1 = table_to_use[pair[0]]\n",
    "        t2 = table_to_use[pair[1]]\n",
    "        t1_q2 = q2.Artifact.import_data('FeatureTable[Frequency]', t1)\n",
    "        t2_q2 = q2.Artifact.import_data('FeatureTable[Frequency]', t2)\n",
    "\n",
    "        #run and time mmvec\n",
    "        time_start = time.perf_counter()\n",
    "        mmvec_res = paired_omics(t1_q2, t2_q2, \n",
    "                                summary_interval=1,\n",
    "                                metadata=q2.Metadata(uc_metadata_shared_short),\n",
    "                                training_column='train_test_mmvec',\n",
    "                                min_feature_count=10)\n",
    "        time_elapsed = (time.perf_counter() - time_start)\n",
    "        time_factor += time_elapsed\n",
    "        print('Time elapsed: {} secs ({} mins)'.format(round(time_elapsed,2),\n",
    "                                                       round(time_elapsed/60, 2)))\n",
    "        print()\n",
    "\n",
    "        # update pair name before saving\n",
    "        if pair[0] == 'metaproteomics':\n",
    "            pair = ('metaproteomics{}'.format(factor), pair[1])\n",
    "        if pair[1] == 'metaproteomics':\n",
    "            pair = (pair[0], 'metaproteomics{}'.format(factor))\n",
    "        #save output\n",
    "        runtime_small[\"{}-{}\".format(pair[0], pair[1])] = time_elapsed\n",
    "        with open(\"../results/mmvec-runtime-uc-small.json\", \"w\") as outfile: \n",
    "            json.dump(runtime_small, outfile)\n",
    "    \n",
    "    runtime_total_small[factor] = time_factor\n",
    "    print('Total time elapsed: {} secs ({} mins)'.format(round(time_factor, 2),\n",
    "                                                         round(time_factor/60, 2)))\n",
    "    \n",
    "    #save mmvec results as json/pickle\n",
    "    with open(\"../results/mmvec-runtime-total-uc-small.json\", \"w\") as outfile: \n",
    "        json.dump(runtime_total_small, outfile)\n",
    "    "
   ]
  },
  {
   "cell_type": "markdown",
   "metadata": {},
   "source": [
    "### Add runtimes"
   ]
  },
  {
   "cell_type": "code",
   "execution_count": 25,
   "metadata": {},
   "outputs": [],
   "source": [
    "#load mmvec results\n",
    "with open(\"../results/mmvec-runtime-total-uc.json\", \"r\") as infile:\n",
    "    runtime_total = json.load(infile)\n",
    "runtime_total_noprot = runtime_total['0']\n",
    "runtime_total_noprot\n",
    "\n",
    "# with open(\"../results/mmvec-runtime-uc.json\", \"r\") as infile:\n",
    "#     runtime = json.load(infile)"
   ]
  },
  {
   "cell_type": "code",
   "execution_count": null,
   "metadata": {},
   "outputs": [],
   "source": [
    "## add an estimated time for runtime_total with factor = 0.5 for ('metaproteomics', 'metaproteomics')\n",
    "#100hrs = 100*60*60 = 360000\n",
    "#runtime['metaproteomics0.05-metaproteomics0.05'] = 360000\n",
    "#runtime\n",
    "\n",
    "# #now, update runtime_total to include a new pair\n",
    "# runtime_prot_004 = {k: v for k, v in runtime.items() if 'metaproteomics0.04' in k}\n",
    "# sum(runtime_prot_004.values())\n",
    "# #need to add runtime_total[0] to this sum \n",
    "# runtime_total['0.04'] += runtime_total['0']\n",
    "# runtime_total\n",
    "# #add to total runtime\n",
    "# #runtime_total['0.05'] = sum(runtime_prot_004.values())\n",
    "\n",
    "#now, update runtime_total to include another new pair\n",
    "# runtime_prot = {k: v for k, v in runtime.items() if 'metaproteomics0.05' in k}\n",
    "# #add to total runtime\n",
    "# runtime_total['0.05'] = sum(runtime_prot.values())"
   ]
  },
  {
   "cell_type": "code",
   "execution_count": 31,
   "metadata": {},
   "outputs": [
    {
     "name": "stdout",
     "output_type": "stream",
     "text": [
      "runtime_total_small[0.01]:  1038.7009053920629\n",
      "Updated runtime_total_small[0.01]:  4074.4403780760767\n",
      "\n",
      "runtime_total_small[0.03]:  2914.5526906710584\n",
      "Updated runtime_total_small[0.03]:  5950.292163355072\n",
      "\n",
      "runtime_total_small[0.04]:  4464.388501600013\n",
      "Updated runtime_total_small[0.04]:  7500.127974284027\n",
      "\n",
      "runtime_total_small[0.05]:  7260.049163474003\n",
      "Updated runtime_total_small[0.05]:  10295.788636158017\n",
      "\n",
      "runtime_total_small[0.06]:  18353.66015205899\n",
      "Updated runtime_total_small[0.06]:  21389.399624743004\n",
      "\n"
     ]
    }
   ],
   "source": [
    "#need to add runtime_total[0] to each individual runtime \n",
    "#runtime_total[0] is the time that all pairs excluding metaproteomics took to run\n",
    "#print('runtime_total[0]: ', runtime_total['0'])\n",
    "\n",
    "#runtime_total_small[0] = runtime_total_noprot\n",
    "\n",
    "for factor in [0.01, 0.03, 0.04, 0.05, 0.06]:\n",
    "    print('runtime_total_small[{}]: '.format(factor), runtime_total_small[factor])\n",
    "    runtime_total_small[factor] += runtime_total_small[0]\n",
    "    print('Updated runtime_total_small[{}]: '.format(factor), runtime_total_small[factor])\n",
    "    print()"
   ]
  },
  {
   "cell_type": "code",
   "execution_count": 33,
   "metadata": {},
   "outputs": [],
   "source": [
    "# save final set of mmvec results\n",
    "with open(\"../results/mmvec-runtime-total-uc-small.json\", \"w\") as outfile: \n",
    "   json.dump(runtime_total_small, outfile)\n",
    "\n",
    "# with open(\"../results/mmvec-runtime-uc.json\", \"w\") as outfile: \n",
    "#   json.dump(runtime, outfile)"
   ]
  },
  {
   "cell_type": "code",
   "execution_count": 34,
   "metadata": {},
   "outputs": [
    {
     "data": {
      "text/plain": [
       "{0.01: 67.90733963460129,\n",
       " 0.03: 99.17153605591787,\n",
       " 0.04: 125.00213290473378,\n",
       " 0.05: 171.59647726930027,\n",
       " 0.06: 356.48999374571673,\n",
       " 0: 50.595657878066895}"
      ]
     },
     "execution_count": 34,
     "metadata": {},
     "output_type": "execute_result"
    }
   ],
   "source": [
    "#print time in minutes\n",
    "runtime_total_minutes = {k: v/60 for k, v in runtime_total_small.items()}\n",
    "runtime_total_minutes\n",
    "#runtime_minutes = {k: v/60 for k, v in runtime.items()}"
   ]
  },
  {
   "cell_type": "code",
   "execution_count": 47,
   "metadata": {},
   "outputs": [
    {
     "data": {
      "text/html": [
       "<div>\n",
       "<style scoped>\n",
       "    .dataframe tbody tr th:only-of-type {\n",
       "        vertical-align: middle;\n",
       "    }\n",
       "\n",
       "    .dataframe tbody tr th {\n",
       "        vertical-align: top;\n",
       "    }\n",
       "\n",
       "    .dataframe thead th {\n",
       "        text-align: right;\n",
       "    }\n",
       "</style>\n",
       "<table border=\"1\" class=\"dataframe\">\n",
       "  <thead>\n",
       "    <tr style=\"text-align: right;\">\n",
       "      <th></th>\n",
       "      <th>factor</th>\n",
       "      <th>time (s)</th>\n",
       "    </tr>\n",
       "  </thead>\n",
       "  <tbody>\n",
       "    <tr>\n",
       "      <th>5</th>\n",
       "      <td>0.00</td>\n",
       "      <td>3035.739473</td>\n",
       "    </tr>\n",
       "    <tr>\n",
       "      <th>0</th>\n",
       "      <td>0.01</td>\n",
       "      <td>4074.440378</td>\n",
       "    </tr>\n",
       "    <tr>\n",
       "      <th>1</th>\n",
       "      <td>0.03</td>\n",
       "      <td>5950.292163</td>\n",
       "    </tr>\n",
       "    <tr>\n",
       "      <th>2</th>\n",
       "      <td>0.04</td>\n",
       "      <td>7500.127974</td>\n",
       "    </tr>\n",
       "    <tr>\n",
       "      <th>3</th>\n",
       "      <td>0.05</td>\n",
       "      <td>10295.788636</td>\n",
       "    </tr>\n",
       "    <tr>\n",
       "      <th>4</th>\n",
       "      <td>0.06</td>\n",
       "      <td>21389.399625</td>\n",
       "    </tr>\n",
       "  </tbody>\n",
       "</table>\n",
       "</div>"
      ],
      "text/plain": [
       "   factor      time (s)\n",
       "5    0.00   3035.739473\n",
       "0    0.01   4074.440378\n",
       "1    0.03   5950.292163\n",
       "2    0.04   7500.127974\n",
       "3    0.05  10295.788636\n",
       "4    0.06  21389.399625"
      ]
     },
     "execution_count": 47,
     "metadata": {},
     "output_type": "execute_result"
    }
   ],
   "source": [
    "#prepare dataframe\n",
    "uc_runtime_df = pd.DataFrame(runtime_total_small.items(), columns=['factor', 'time (s)'])\n",
    "uc_runtime_df.sort_values(by='factor', inplace=True)\n",
    "uc_runtime_df"
   ]
  },
  {
   "cell_type": "code",
   "execution_count": 56,
   "metadata": {},
   "outputs": [],
   "source": [
    "#add number of features\n",
    "proteomics_sub_nfeats[0] = uc_n_noprot\n",
    "\n",
    "for factor in [0.01, 0.03, 0.04, 0.05, 0.06]:\n",
    "    proteomics_sub_nfeats[factor] = proteomics_sub_nfeats[factor]+uc_n_noprot"
   ]
  },
  {
   "cell_type": "code",
   "execution_count": 61,
   "metadata": {},
   "outputs": [
    {
     "data": {
      "text/html": [
       "<div>\n",
       "<style scoped>\n",
       "    .dataframe tbody tr th:only-of-type {\n",
       "        vertical-align: middle;\n",
       "    }\n",
       "\n",
       "    .dataframe tbody tr th {\n",
       "        vertical-align: top;\n",
       "    }\n",
       "\n",
       "    .dataframe thead th {\n",
       "        text-align: right;\n",
       "    }\n",
       "</style>\n",
       "<table border=\"1\" class=\"dataframe\">\n",
       "  <thead>\n",
       "    <tr style=\"text-align: right;\">\n",
       "      <th></th>\n",
       "      <th>factor</th>\n",
       "      <th>time (s)</th>\n",
       "      <th>n features</th>\n",
       "      <th>% features</th>\n",
       "      <th>method</th>\n",
       "    </tr>\n",
       "  </thead>\n",
       "  <tbody>\n",
       "    <tr>\n",
       "      <th>5</th>\n",
       "      <td>0.00</td>\n",
       "      <td>3035.739473</td>\n",
       "      <td>5496</td>\n",
       "      <td>4.84</td>\n",
       "      <td>MMvec</td>\n",
       "    </tr>\n",
       "    <tr>\n",
       "      <th>0</th>\n",
       "      <td>0.01</td>\n",
       "      <td>4074.440378</td>\n",
       "      <td>6576</td>\n",
       "      <td>5.79</td>\n",
       "      <td>MMvec</td>\n",
       "    </tr>\n",
       "    <tr>\n",
       "      <th>1</th>\n",
       "      <td>0.03</td>\n",
       "      <td>5950.292163</td>\n",
       "      <td>8738</td>\n",
       "      <td>7.69</td>\n",
       "      <td>MMvec</td>\n",
       "    </tr>\n",
       "    <tr>\n",
       "      <th>2</th>\n",
       "      <td>0.04</td>\n",
       "      <td>7500.127974</td>\n",
       "      <td>9819</td>\n",
       "      <td>8.65</td>\n",
       "      <td>MMvec</td>\n",
       "    </tr>\n",
       "    <tr>\n",
       "      <th>3</th>\n",
       "      <td>0.05</td>\n",
       "      <td>10295.788636</td>\n",
       "      <td>10900</td>\n",
       "      <td>9.60</td>\n",
       "      <td>MMvec</td>\n",
       "    </tr>\n",
       "    <tr>\n",
       "      <th>4</th>\n",
       "      <td>0.06</td>\n",
       "      <td>21389.399625</td>\n",
       "      <td>11980</td>\n",
       "      <td>10.55</td>\n",
       "      <td>MMvec</td>\n",
       "    </tr>\n",
       "  </tbody>\n",
       "</table>\n",
       "</div>"
      ],
      "text/plain": [
       "   factor      time (s)  n features  % features method\n",
       "5    0.00   3035.739473        5496        4.84  MMvec\n",
       "0    0.01   4074.440378        6576        5.79  MMvec\n",
       "1    0.03   5950.292163        8738        7.69  MMvec\n",
       "2    0.04   7500.127974        9819        8.65  MMvec\n",
       "3    0.05  10295.788636       10900        9.60  MMvec\n",
       "4    0.06  21389.399625       11980       10.55  MMvec"
      ]
     },
     "execution_count": 61,
     "metadata": {},
     "output_type": "execute_result"
    }
   ],
   "source": [
    "uc_runtime_df['n features'] = uc_runtime_df['factor'].map(proteomics_sub_nfeats)\n",
    "uc_runtime_df['% features'] = round(100*(uc_runtime_df['n features']/uc_n_feat), 2)\n",
    "uc_runtime_df['method'] = 'MMvec'\n",
    "uc_runtime_df"
   ]
  },
  {
   "cell_type": "code",
   "execution_count": 62,
   "metadata": {},
   "outputs": [],
   "source": [
    "#save to csv\n",
    "uc_runtime_df.to_csv('../results/uc-runtime-small.csv', index=False)"
   ]
  }
 ],
 "metadata": {
  "kernelspec": {
   "display_name": "qiime2-2019.10",
   "language": "python",
   "name": "python3"
  },
  "language_info": {
   "codemirror_mode": {
    "name": "ipython",
    "version": 3
   },
   "file_extension": ".py",
   "mimetype": "text/x-python",
   "name": "python",
   "nbconvert_exporter": "python",
   "pygments_lexer": "ipython3",
   "version": "3.6.7"
  }
 },
 "nbformat": 4,
 "nbformat_minor": 4
}
