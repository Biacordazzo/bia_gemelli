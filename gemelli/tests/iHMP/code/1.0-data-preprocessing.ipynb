{
 "cells": [
  {
   "cell_type": "code",
   "execution_count": 1,
   "metadata": {},
   "outputs": [],
   "source": [
    "import glob\n",
    "import pandas as pd\n",
    "\n",
    "from biom import Table, load_table\n",
    "from skbio.stats.composition import closure\n",
    "from gemelli.rpca import rpca_table_processing\n",
    "from sklearn.model_selection import train_test_split\n",
    "\n",
    "#turn off warnings\n",
    "import warnings\n",
    "warnings.filterwarnings(\"ignore\")"
   ]
  },
  {
   "cell_type": "markdown",
   "metadata": {},
   "source": [
    "## Data pre-processing\n",
    "\n",
    "Only need to run these blocks once"
   ]
  },
  {
   "cell_type": "code",
   "execution_count": 2,
   "metadata": {},
   "outputs": [],
   "source": [
    "save_path = '/Users/bec5786/Desktop/Shenhav Lab/Joint-RPCA/Case studies/iHMP/Data/runtime/'"
   ]
  },
  {
   "cell_type": "markdown",
   "metadata": {},
   "source": [
    "### iHMP cohort"
   ]
  },
  {
   "cell_type": "code",
   "execution_count": 2,
   "metadata": {},
   "outputs": [],
   "source": [
    "ihmp_data_path = '/Users/bec5786/Desktop/Shenhav Lab/Joint-RPCA/Case studies/iHMP/Data/'\n",
    "ihmp_metadata = pd.read_csv('{}ihmp_data/sample-metadata.txt'.format(ihmp_data_path), sep='\\t', index_col=0)"
   ]
  },
  {
   "cell_type": "code",
   "execution_count": 4,
   "metadata": {},
   "outputs": [],
   "source": [
    "# import and match the data the same as in ../../simulations-benchmarking/3.0-ihmp-benchmarks.ipynb\n",
    "# we will also save each table with all the data for that table\n",
    "# for exploration non-jointly based on the joint samples\n",
    "ihmp_tables = {omics_.split('/')[-1].split('.')[0]:rpca_table_processing(load_table(omics_),\n",
    "                                                                         min_sample_count=0,\n",
    "                                                                         min_feature_count=0,\n",
    "                                                                         min_feature_frequency=0)\n",
    "                for omics_ in glob.glob('{}ihmp_data/*.biom'.format(ihmp_data_path))\n",
    "                if not any ('_' + str(d_) in omics_ for d_ in [10, 8, 6, 4, 2, 1])}\n",
    "\n",
    "# add pathways instead of ECs (easier to interpret)\n",
    "tbl_ = pd.read_csv('{}ihmp_data/additional-data/pathabundances_3.tsv'.format(ihmp_data_path), sep='\\t', index_col=0)\n",
    "tbl_ = tbl_[[('UNINTEGRATED' not in x) and ('UNMAPPED' not in x) for x in tbl_.index]]\n",
    "tbl_.columns = [c.replace('_pathabundance_cpm','') for c in tbl_.columns]\n",
    "tbl_ = tbl_.loc[tbl_.sum(1) > 0, tbl_.sum(0) > 0]\n",
    "tbl_ = Table(tbl_.values, tbl_.index, tbl_.columns)\n",
    "ihmp_tables['meta_t_ecs'] = tbl_.copy()\n",
    "ihmp_tables"
   ]
  },
  {
   "cell_type": "code",
   "execution_count": 5,
   "metadata": {},
   "outputs": [
    {
     "name": "stdout",
     "output_type": "stream",
     "text": [
      "virome_virmap_analysis\n",
      "meta_t_ecs\n",
      "shared_meta_g_taxonomic_profiles\n",
      "HMP2_proteomics_ecs\n",
      "HMP2_metabolomics\n"
     ]
    },
    {
     "data": {
      "text/plain": [
       "dict_keys(['virome_virmap_analysis', 'meta_t_ecs', 'shared_meta_g_taxonomic_profiles', 'HMP2_proteomics_ecs', 'HMP2_metabolomics'])"
      ]
     },
     "execution_count": 5,
     "metadata": {},
     "output_type": "execute_result"
    }
   ],
   "source": [
    "# make table/metadata pair for each dataset of all samples in the data\n",
    "tables_metdata_unshared = {}\n",
    "for omics_, table_ in ihmp_tables.items():\n",
    "    print(omics_)\n",
    "    metadata_omic = ihmp_metadata.copy()\n",
    "    table_omic = table_.copy()\n",
    "    shared_samps = set(table_omic.ids()) & set(ihmp_metadata.index)\n",
    "    table_omic = table_omic.filter(shared_samps)\n",
    "    table_omic = rpca_table_processing(table_omic, min_sample_count=0,\n",
    "                                       min_feature_count=0,\n",
    "                                       min_feature_frequency=0)\n",
    "    metadata_omic = metadata_omic.reindex(shared_samps)\n",
    "    table_omic_df = pd.DataFrame(table_omic.matrix_data.toarray(),\n",
    "                                 table_omic.ids('observation'),\n",
    "                                 table_omic.ids())\n",
    "    # these omics output in % abundance so have to use relative counts.\n",
    "    # possibly try to re-scale back to counts?\n",
    "    if omics_ in ['shared_meta_g_taxonomic_profiles','meta_t_ecs','HMP2_metabolomics']:\n",
    "        table_omic_df = table_omic_df.apply(closure)\n",
    "    tables_metdata_unshared[omics_] = [table_omic, table_omic_df, metadata_omic]\n",
    "tables_metdata_unshared.keys()"
   ]
  },
  {
   "cell_type": "code",
   "execution_count": 6,
   "metadata": {},
   "outputs": [
    {
     "data": {
      "text/plain": [
       "diagnosis\n",
       "CD        61\n",
       "nonIBD    44\n",
       "UC        30\n",
       "Name: count, dtype: int64"
      ]
     },
     "execution_count": 6,
     "metadata": {},
     "output_type": "execute_result"
    }
   ],
   "source": [
    "shared_samps = set.intersection(*[set(t_.ids()) for t_ in ihmp_tables.values()]) & set(ihmp_metadata.index)\n",
    "metadata_shared = ihmp_metadata.reindex(shared_samps)\n",
    "metadata_shared['diagnosis_binned'] = [x.replace('UC','IBD').replace('CD','IBD')\n",
    "                                       for x in metadata_shared.diagnosis]\n",
    "# re-close metaG/T data\n",
    "metadata_shared = metadata_shared.reindex(shared_samps)\n",
    "tables_shared = {t_k:t_.copy().filter(shared_samps) for t_k, t_ in ihmp_tables.items()}\n",
    "for t_ in ['shared_meta_g_taxonomic_profiles','meta_t_ecs','HMP2_metabolomics']:\n",
    "    tbl_tmp = tables_shared[t_].to_dataframe().copy()\n",
    "    tbl_tmp = tbl_tmp.apply(closure)\n",
    "    tables_shared[t_] = Table(tbl_tmp.values, tbl_tmp.index, tbl_tmp.columns)\n",
    "\n",
    "train_, test_ = train_test_split(metadata_shared, shuffle=True,\n",
    "                                 stratify=metadata_shared['diagnosis'],\n",
    "                                 test_size=0.25)\n",
    "metadata_shared['train_test'] = 'train'\n",
    "metadata_shared.loc[test_.index, 'train_test'] = 'test'\n",
    "#metadata_shared.to_csv('../data/ihmp-sample-metadata-plus-train-tests.csv')\n",
    "metadata_shared.diagnosis.value_counts()"
   ]
  },
  {
   "cell_type": "code",
   "execution_count": 7,
   "metadata": {},
   "outputs": [],
   "source": [
    "# #save all tables in biom format\n",
    "# for k_, t_ in tables_shared.items():\n",
    "#    with open('{}iHMP/{}.biom'.format(save_path,k_), 'w') as f:\n",
    "#        f.write(t_.to_json(generated_by='BIOM-Format'))"
   ]
  },
  {
   "cell_type": "markdown",
   "metadata": {},
   "source": [
    "### UC cohort two"
   ]
  },
  {
   "cell_type": "code",
   "execution_count": 3,
   "metadata": {},
   "outputs": [],
   "source": [
    "uc_data_path = '/Users/bec5786/Desktop/Shenhav Lab/Joint-RPCA/Case studies/iHMP/Data/uc-severity-multiomics/Cohort_Two/'\n",
    "uc_metadata = pd.read_csv('{}metadata_cohort_two_revised.txt'.format(uc_data_path), sep='\\t', index_col=0)"
   ]
  },
  {
   "cell_type": "code",
   "execution_count": 4,
   "metadata": {},
   "outputs": [
    {
     "data": {
      "text/plain": [
       "{'metaproteomics': 108080 x 174 <class 'biom.table.Table'> with 5091405 nonzero entries (27% dense),\n",
       " 'metagenomics': 3568 x 174 <class 'biom.table.Table'> with 163422 nonzero entries (26% dense),\n",
       " 'metabolomics': 1928 x 174 <class 'biom.table.Table'> with 58524 nonzero entries (17% dense)}"
      ]
     },
     "execution_count": 4,
     "metadata": {},
     "output_type": "execute_result"
    }
   ],
   "source": [
    "uc_tables = {'metaproteomics': load_table('{}metaproteomics_cohort_two_matched.biom'.format(uc_data_path)),\n",
    "             'metagenomics': load_table('{}metagenomics_cohort_two_matched.biom'.format(uc_data_path)),\n",
    "             'metabolomics': load_table('{}metabolomics_cohort_two_matched.biom'.format(uc_data_path))}\n",
    "uc_tables"
   ]
  },
  {
   "cell_type": "code",
   "execution_count": 5,
   "metadata": {},
   "outputs": [
    {
     "name": "stdout",
     "output_type": "stream",
     "text": [
      "metaproteomics\n",
      "metagenomics\n",
      "metabolomics\n"
     ]
    },
    {
     "data": {
      "text/plain": [
       "dict_keys(['metaproteomics', 'metagenomics', 'metabolomics'])"
      ]
     },
     "execution_count": 5,
     "metadata": {},
     "output_type": "execute_result"
    }
   ],
   "source": [
    "# make table/metadata pair for each dataset of all samples in the data\n",
    "uc_tables_metdata_unshared = {}\n",
    "for omics_, table_ in uc_tables.items():\n",
    "    print(omics_)\n",
    "    metadata_omic = uc_metadata.copy()\n",
    "    table_omic = table_.copy()\n",
    "    shared_samps = set(table_omic.ids()) & set(uc_metadata.index)\n",
    "    table_omic = table_omic.filter(shared_samps)\n",
    "    table_omic = rpca_table_processing(table_omic, min_sample_count=0,\n",
    "                                       min_feature_count=0,\n",
    "                                       min_feature_frequency=0)\n",
    "    metadata_omic = metadata_omic.reindex(shared_samps)\n",
    "    table_omic_df = pd.DataFrame(table_omic.matrix_data.toarray(),\n",
    "                                 table_omic.ids('observation'),\n",
    "                                 table_omic.ids())\n",
    "    # these omics output in % abundance so have to use relative counts.\n",
    "    # possibly try to re-scale back to counts?\n",
    "    if omics_ in ['metaproteomics','metagenomics','metabolomics']:\n",
    "        table_omic_df = table_omic_df.apply(closure)\n",
    "    uc_tables_metdata_unshared[omics_] = [table_omic, table_omic_df, metadata_omic]\n",
    "uc_tables_metdata_unshared.keys()"
   ]
  },
  {
   "cell_type": "code",
   "execution_count": 6,
   "metadata": {},
   "outputs": [
    {
     "data": {
      "text/plain": [
       "Diagnosis\n",
       "IBD                157\n",
       "Healthy_control     16\n",
       "Name: count, dtype: int64"
      ]
     },
     "execution_count": 6,
     "metadata": {},
     "output_type": "execute_result"
    }
   ],
   "source": [
    "shared_samps = list(set.intersection(*[set(t_.ids()) for t_ in uc_tables.values()]) & set(uc_metadata.index))\n",
    "uc_metadata_shared = uc_metadata.reindex(shared_samps)\n",
    "uc_metadata_shared['Diagnosis'] = [x.replace('UC','IBD').replace('CD','IBD')\n",
    "                                for x in uc_metadata_shared.Diagnosis]\n",
    "uc_metadata_shared = uc_metadata_shared.reindex(shared_samps)\n",
    "tables_shared = {t_k:t_.copy().filter(shared_samps) for t_k, t_ in uc_tables.items()}\n",
    "\n",
    "train_, test_ = train_test_split(uc_metadata_shared, shuffle=True,\n",
    "                                 stratify=uc_metadata_shared['Diagnosis'],\n",
    "                                 test_size=0.25)\n",
    "uc_metadata_shared['train_test'] = 'train'\n",
    "uc_metadata_shared.loc[test_.index, 'train_test'] = 'test'\n",
    "uc_metadata_shared.to_csv('../data/uc-metadata-plus-train-tests.csv')\n",
    "uc_metadata_shared.Diagnosis.value_counts()"
   ]
  },
  {
   "cell_type": "code",
   "execution_count": 7,
   "metadata": {},
   "outputs": [],
   "source": [
    "#save all tables in biom format\n",
    "for k_, t_ in tables_shared.items():\n",
    "   with open('{}UC/{}.biom'.format(save_path,k_), 'w') as f:\n",
    "       f.write(t_.to_json(generated_by='BIOM-Format'))"
   ]
  }
 ],
 "metadata": {
  "kernelspec": {
   "display_name": "qiime2-joint-rpca",
   "language": "python",
   "name": "python3"
  },
  "language_info": {
   "codemirror_mode": {
    "name": "ipython",
    "version": 3
   },
   "file_extension": ".py",
   "mimetype": "text/x-python",
   "name": "python",
   "nbconvert_exporter": "python",
   "pygments_lexer": "ipython3",
   "version": "3.9.19"
  }
 },
 "nbformat": 4,
 "nbformat_minor": 4
}
