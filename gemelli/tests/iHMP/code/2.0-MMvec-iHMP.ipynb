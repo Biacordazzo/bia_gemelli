{
 "cells": [
  {
   "cell_type": "code",
   "execution_count": 1,
   "metadata": {},
   "outputs": [],
   "source": [
    "import glob\n",
    "import pandas as pd\n",
    "import qiime2 as q2\n",
    "import time\n",
    "from qiime2.plugins.mmvec.actions import paired_omics                                   \n",
    "from biom import load_table\n",
    "import json\n",
    "import itertools\n",
    "\n",
    "#turn off warnings\n",
    "import warnings\n",
    "warnings.filterwarnings(\"ignore\")\n",
    "#turn off tensorflow warnings\n",
    "import os\n",
    "os.environ['TF_CPP_MIN_LOG_LEVEL'] = '2' "
   ]
  },
  {
   "cell_type": "code",
   "execution_count": 2,
   "metadata": {},
   "outputs": [],
   "source": [
    "#load the data\n",
    "data_path = '/Users/bec5786/Desktop/Shenhav Lab/Joint-RPCA/Case studies/iHMP/Data/runtime/iHMP/'\n",
    "omic_keys = [omics_.split('/')[-1].split('.')[0] for omics_ in glob.glob('{}/*.biom'.format(data_path))]\n",
    "tables_shared = {k_: load_table('{}{}.biom'.format(data_path,k_)) for k_ in omic_keys}\n",
    "metadata_shared = pd.read_csv('../data/ihmp-sample-metadata-plus-train-tests.csv', index_col=0)"
   ]
  },
  {
   "cell_type": "code",
   "execution_count": 3,
   "metadata": {},
   "outputs": [
    {
     "data": {
      "text/plain": [
       "{'virome_virmap_analysis': 260 x 135 <class 'biom.table.Table'> with 505 nonzero entries (1% dense),\n",
       " 'meta_t_ecs': 8291 x 135 <class 'biom.table.Table'> with 59744 nonzero entries (5% dense),\n",
       " 'shared_meta_g_taxonomic_profiles': 181 x 135 <class 'biom.table.Table'> with 4465 nonzero entries (18% dense),\n",
       " 'HMP2_proteomics_ecs': 830 x 135 <class 'biom.table.Table'> with 15760 nonzero entries (14% dense),\n",
       " 'HMP2_metabolomics': 81867 x 135 <class 'biom.table.Table'> with 6886507 nonzero entries (62% dense)}"
      ]
     },
     "execution_count": 3,
     "metadata": {},
     "output_type": "execute_result"
    }
   ],
   "source": [
    "#check dimension of tables\n",
    "tables_shared"
   ]
  },
  {
   "cell_type": "code",
   "execution_count": 4,
   "metadata": {},
   "outputs": [],
   "source": [
    "##formatting for running MMvec\n",
    "#change index name to 'sample id'\n",
    "metadata_shared.index.name = 'sample id'\n",
    "\n",
    "#change train to Train and test to Test\n",
    "metadata_shared['train_test_mmvec'] = metadata_shared['train_test'].apply(lambda x: 'Train' if x == 'train' else 'Test')"
   ]
  },
  {
   "cell_type": "code",
   "execution_count": 5,
   "metadata": {},
   "outputs": [
    {
     "data": {
      "text/plain": [
       "[('virome_virmap_analysis', 'virome_virmap_analysis'),\n",
       " ('meta_t_ecs', 'meta_t_ecs'),\n",
       " ('shared_meta_g_taxonomic_profiles', 'shared_meta_g_taxonomic_profiles'),\n",
       " ('HMP2_proteomics_ecs', 'HMP2_proteomics_ecs'),\n",
       " ('HMP2_metabolomics', 'HMP2_metabolomics'),\n",
       " ('virome_virmap_analysis', 'meta_t_ecs'),\n",
       " ('virome_virmap_analysis', 'shared_meta_g_taxonomic_profiles'),\n",
       " ('virome_virmap_analysis', 'HMP2_proteomics_ecs'),\n",
       " ('virome_virmap_analysis', 'HMP2_metabolomics'),\n",
       " ('meta_t_ecs', 'virome_virmap_analysis'),\n",
       " ('meta_t_ecs', 'shared_meta_g_taxonomic_profiles'),\n",
       " ('meta_t_ecs', 'HMP2_proteomics_ecs'),\n",
       " ('meta_t_ecs', 'HMP2_metabolomics'),\n",
       " ('shared_meta_g_taxonomic_profiles', 'virome_virmap_analysis'),\n",
       " ('shared_meta_g_taxonomic_profiles', 'meta_t_ecs'),\n",
       " ('shared_meta_g_taxonomic_profiles', 'HMP2_proteomics_ecs'),\n",
       " ('shared_meta_g_taxonomic_profiles', 'HMP2_metabolomics'),\n",
       " ('HMP2_proteomics_ecs', 'virome_virmap_analysis'),\n",
       " ('HMP2_proteomics_ecs', 'meta_t_ecs'),\n",
       " ('HMP2_proteomics_ecs', 'shared_meta_g_taxonomic_profiles'),\n",
       " ('HMP2_proteomics_ecs', 'HMP2_metabolomics'),\n",
       " ('HMP2_metabolomics', 'virome_virmap_analysis'),\n",
       " ('HMP2_metabolomics', 'meta_t_ecs'),\n",
       " ('HMP2_metabolomics', 'shared_meta_g_taxonomic_profiles'),\n",
       " ('HMP2_metabolomics', 'HMP2_proteomics_ecs')]"
      ]
     },
     "execution_count": 5,
     "metadata": {},
     "output_type": "execute_result"
    }
   ],
   "source": [
    "#create list with all possible pairs of omics\n",
    "pairs = [('virome_virmap_analysis', 'virome_virmap_analysis'),\n",
    "         ('meta_t_ecs', 'meta_t_ecs'),\n",
    "         ('shared_meta_g_taxonomic_profiles', 'shared_meta_g_taxonomic_profiles'),\n",
    "         ('HMP2_proteomics_ecs', 'HMP2_proteomics_ecs'),\n",
    "         ('HMP2_metabolomics', 'HMP2_metabolomics')] + list(itertools.permutations(omic_keys, 2))\n",
    "pairs"
   ]
  },
  {
   "cell_type": "code",
   "execution_count": 6,
   "metadata": {},
   "outputs": [],
   "source": [
    "#creates lists with or without metabolomics\n",
    "pairs_no_metabolomics = [pair for pair in pairs if 'HMP2_metabolomics' not in pair]\n",
    "pairs_metabolomics = [pair for pair in pairs if 'HMP2_metabolomics' in pair]"
   ]
  },
  {
   "cell_type": "code",
   "execution_count": 7,
   "metadata": {},
   "outputs": [],
   "source": [
    "#change order of pairs (meta_t_ecs takes too long, make it appear last)\n",
    "#pairs that are taking too long are omitted (commented out)\n",
    "pairs_metabolomics = [#('HMP2_metabolomics', 'HMP2_metabolomics'),\n",
    "                      ('virome_virmap_analysis', 'HMP2_metabolomics'),\n",
    "                      ('shared_meta_g_taxonomic_profiles', 'HMP2_metabolomics'),\n",
    "                      ('HMP2_proteomics_ecs', 'HMP2_metabolomics'),\n",
    "                      ('HMP2_metabolomics', 'virome_virmap_analysis'),\n",
    "                      ('HMP2_metabolomics', 'shared_meta_g_taxonomic_profiles'),\n",
    "                      ('HMP2_metabolomics', 'HMP2_proteomics_ecs'),\n",
    "                      ('meta_t_ecs', 'HMP2_metabolomics')]\n",
    "                      #('HMP2_metabolomics', 'meta_t_ecs')]"
   ]
  },
  {
   "cell_type": "code",
   "execution_count": 8,
   "metadata": {},
   "outputs": [
    {
     "name": "stdout",
     "output_type": "stream",
     "text": [
      "Metabolomics: 1.0% of features: 818\n",
      "Metabolomics: 3.0% of features: 2456\n",
      "Metabolomics: 5.0% of features: 4093\n",
      "Metabolomics: 10.0% of features: 8186\n",
      "Metabolomics: 15.0% of features: 12280\n"
     ]
    }
   ],
   "source": [
    "#generate subsets of metabolomics data\n",
    "metabolites_all = tables_shared['HMP2_metabolomics'].copy()\n",
    "\n",
    "metabolites_sub = {}\n",
    "for factor in [0.01, 0.03, 0.05, 0.1, 0.15]:\n",
    "    #get metabolomics table\n",
    "    metab = tables_shared['HMP2_metabolomics'].copy()\n",
    "    #number of features to keep\n",
    "    n_features = int(metab.shape[0]*factor)\n",
    "    #take first n_features\n",
    "    feature_ids = list(metab.ids(axis='observation'))[:n_features]\n",
    "    #filter table\n",
    "    metabolites_sub[factor] = metab.filter(feature_ids, axis='observation')\n",
    "    #sanity check\n",
    "    print('Metabolomics: {}% of features: {}'.format(factor*100, metabolites_sub[factor].shape[0]))"
   ]
  },
  {
   "cell_type": "code",
   "execution_count": 13,
   "metadata": {},
   "outputs": [],
   "source": [
    "#runtime = {}\n",
    "#runtime_total = {}\n",
    "#CV_summaries = {}\n",
    "#results = {}\n",
    "#ranks = {}"
   ]
  },
  {
   "cell_type": "code",
   "execution_count": 17,
   "metadata": {},
   "outputs": [],
   "source": [
    "# #run mmvec for each pair of omics without metabolomics - only once\n",
    "# factor = 0\n",
    "# time_factor = 0\n",
    "# for pair in pairs_no_metabolomics:  \n",
    "#     print(pair)\n",
    "#     #get tables and set to correct format\n",
    "#     t1 = tables_shared[pair[0]]\n",
    "#     t2 = tables_shared[pair[1]]\n",
    "#     t1_q2 = q2.Artifact.import_data('FeatureTable[Frequency]', t1)\n",
    "#     t2_q2 = q2.Artifact.import_data('FeatureTable[Frequency]', t2)\n",
    "\n",
    "#     #run and time mmvec\n",
    "#     time_start = time.perf_counter()\n",
    "#     mmvec_res = paired_omics(t1_q2, t2_q2, \n",
    "#                             summary_interval=1,\n",
    "#                             metadata=q2.Metadata(metadata_shared),\n",
    "#                             training_column='train_test_mmvec',\n",
    "#                             min_feature_count=10)\n",
    "#     time_elapsed = (time.perf_counter() - time_start)\n",
    "#     time_factor += time_elapsed\n",
    "#     print('Time elapsed: ', round(time_elapsed,4))\n",
    "#     print()\n",
    "\n",
    "#     #save output\n",
    "#     runtime[\"{}-{}\".format(pair[0], pair[1])] = time_elapsed\n",
    "#     #CV_summaries[\"{}-{}\".format(pair[0], pair[1])] = mmvec_res.model_stats.view(q2.Metadata).to_dataframe()\n",
    "#     #results[\"{}-{}\".format(pair[0], pair[1])] = mmvec_res\n",
    "#     #ranks[\"{}-{}\".format(pair[0], pair[1])] = mmvec_res.conditionals.view(pd.DataFrame)\n",
    "\n",
    "# runtime_total[factor] = time_factor\n",
    "# print('Total time elapsed: ', round(time_factor,4))"
   ]
  },
  {
   "cell_type": "code",
   "execution_count": null,
   "metadata": {},
   "outputs": [],
   "source": [
    "# #sanity check\n",
    "# print(runtime_total)\n",
    "\n",
    "# #save mmvec results as json/pickle\n",
    "# with open(\"../results/mmvec-runtime-total.json\", \"w\") as outfile: \n",
    "#    json.dump(runtime_total, outfile)\n",
    "\n",
    "# with open(\"../results/mmvec-runtime.json\", \"w\") as outfile: \n",
    "#    json.dump(runtime, outfile)"
   ]
  },
  {
   "cell_type": "code",
   "execution_count": 8,
   "metadata": {},
   "outputs": [],
   "source": [
    "#load mmvec results\n",
    "with open(\"../results/mmvec-runtime-total.json\", \"r\") as infile:\n",
    "    runtime_total = json.load(infile)\n",
    "\n",
    "with open(\"../results/mmvec-runtime.json\", \"r\") as infile:\n",
    "    runtime = json.load(infile)"
   ]
  },
  {
   "cell_type": "code",
   "execution_count": null,
   "metadata": {},
   "outputs": [],
   "source": [
    "#ref: https://github.com/biocore/mmvec/blob/88ca33b408a85b6bf90fae06982936247b860272/mmvec/q2/_method.py#L14\n",
    "\n",
    "for factor in [0.01, 0.03, 0.05, 0.1, 0.15]:\n",
    "    print('\\n### Metab Features: {}% ###'.format(factor*100))\n",
    "    metab_table = metabolites_sub[factor]\n",
    "    table_to_use = tables_shared.copy()\n",
    "    table_to_use['HMP2_metabolomics'] = metab_table\n",
    "    print('Metabolomics n features: {}'.format(table_to_use['HMP2_metabolomics'].shape[0]))\n",
    "\n",
    "    time_factor = 0\n",
    "    for pair in pairs_metabolomics:\n",
    "        print(pair)\n",
    "        \n",
    "        #get tables and set to correct format\n",
    "        t1 = table_to_use[pair[0]]\n",
    "        t2 = table_to_use[pair[1]]\n",
    "        t1_q2 = q2.Artifact.import_data('FeatureTable[Frequency]', t1)\n",
    "        t2_q2 = q2.Artifact.import_data('FeatureTable[Frequency]', t2)\n",
    "\n",
    "        #run and time mmvec\n",
    "        time_start = time.perf_counter()\n",
    "        mmvec_res = paired_omics(t1_q2, t2_q2, \n",
    "                                summary_interval=1,\n",
    "                                metadata=q2.Metadata(metadata_shared),\n",
    "                                training_column='train_test_mmvec',\n",
    "                                min_feature_count=10)\n",
    "        time_elapsed = (time.perf_counter() - time_start)\n",
    "        time_factor += time_elapsed\n",
    "        print('Time elapsed: ', round(time_elapsed,2))\n",
    "        print()\n",
    "\n",
    "        # update pair name before saving\n",
    "        if pair[0] == 'HMP2_metabolomics':\n",
    "            pair = ('HMP2_metabolomics_{}'.format(factor), pair[1])\n",
    "        if pair[1] == 'HMP2_metabolomics':\n",
    "            pair = (pair[0], 'HMP2_metabolomics_{}'.format(factor))\n",
    "        #save output\n",
    "        runtime[\"{}-{}\".format(pair[0], pair[1])] = time_elapsed\n",
    "    \n",
    "    runtime_total[factor] = time_factor\n",
    "    print('Total time elapsed: {} secs ({} mins)'.format(round(time_factor, 2),\n",
    "                                                         round(time_factor/60, 2)))\n",
    "    #if time exceeds 1.5 hours, stop the loop\n",
    "    # if time_factor > 5400:\n",
    "    #     print('Last runtime {} exceeds 1 hour'.format(time_factor))\n",
    "    #     print('Stopping loop')\n",
    "    #     break"
   ]
  },
  {
   "cell_type": "markdown",
   "metadata": {},
   "source": [
    "### Add runtimes"
   ]
  },
  {
   "cell_type": "code",
   "execution_count": 9,
   "metadata": {},
   "outputs": [],
   "source": [
    "#load mmvec results\n",
    "with open(\"../results/mmvec-runtime-total.json\", \"r\") as infile:\n",
    "    runtime_total = json.load(infile)\n",
    "\n",
    "with open(\"../results/mmvec-runtime.json\", \"r\") as infile:\n",
    "    runtime = json.load(infile)"
   ]
  },
  {
   "cell_type": "code",
   "execution_count": 30,
   "metadata": {},
   "outputs": [],
   "source": [
    "##add an estimated time for runtime_total with factor = 0.15\n",
    "#first, add an estimate for pair that did not complete running: 22:54:02 = 22*3600 + 54*60 + 2 = 82442\n",
    "#runtime['HMP2_metabolomics_0.15-HMP2_proteomics_ecs'] = 82442\n",
    "\n",
    "#first, get all metabolomic pairs\n",
    "#runtime_metab = {k: v for k, v in runtime.items() if 'HMP2_metabolomics_0.15' in k}\n",
    "\n",
    "#add to total runtime\n",
    "#runtime_total['0.15'] = sum(runtime_metab.values())"
   ]
  },
  {
   "cell_type": "code",
   "execution_count": 32,
   "metadata": {},
   "outputs": [],
   "source": [
    "#need to add runtime_total[0] to each individual runtime \n",
    "#runtime_total[0] is the time that all pairs excluding metabolomics took to run\n",
    "#for key in ['0.01', '0.03', '0.05', '0.1', '0.15']:\n",
    "#    runtime_total[key] += runtime_total['0']"
   ]
  },
  {
   "cell_type": "code",
   "execution_count": 42,
   "metadata": {},
   "outputs": [],
   "source": [
    "# save final set of mmvec results\n",
    "#with open(\"../results/mmvec-runtime-total.json\", \"w\") as outfile: \n",
    "#   json.dump(runtime_total, outfile)\n",
    "\n",
    "#with open(\"../results/mmvec-runtime.json\", \"w\") as outfile: \n",
    "#  json.dump(runtime, outfile)"
   ]
  },
  {
   "cell_type": "code",
   "execution_count": 10,
   "metadata": {},
   "outputs": [
    {
     "data": {
      "text/plain": [
       "{'0.01': 33.79756434013381,\n",
       " '0': 21.83175702846711,\n",
       " '0.03': 82.18809817113376,\n",
       " '0.05': 177.59619504748377,\n",
       " '0.1': 819.7942999900505,\n",
       " '0.15': 2146.9860534352}"
      ]
     },
     "execution_count": 10,
     "metadata": {},
     "output_type": "execute_result"
    }
   ],
   "source": [
    "#print time in minutes\n",
    "runtime_total_minutes = {k: v/60 for k, v in runtime_total.items()}\n",
    "runtime_total_minutes"
   ]
  }
 ],
 "metadata": {
  "kernelspec": {
   "display_name": "qiime2-2019.10",
   "language": "python",
   "name": "python3"
  },
  "language_info": {
   "codemirror_mode": {
    "name": "ipython",
    "version": 3
   },
   "file_extension": ".py",
   "mimetype": "text/x-python",
   "name": "python",
   "nbconvert_exporter": "python",
   "pygments_lexer": "ipython3",
   "version": "3.6.7"
  }
 },
 "nbformat": 4,
 "nbformat_minor": 4
}
