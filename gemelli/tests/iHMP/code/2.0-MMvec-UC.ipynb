{
 "cells": [
  {
   "cell_type": "code",
   "execution_count": 1,
   "metadata": {},
   "outputs": [],
   "source": [
    "import glob\n",
    "import pandas as pd\n",
    "import qiime2 as q2\n",
    "import time\n",
    "from qiime2.plugins.mmvec.actions import paired_omics                                   \n",
    "from biom import load_table\n",
    "\n",
    "import json\n",
    "import itertools\n",
    "\n",
    "#turn off warnings\n",
    "import warnings\n",
    "warnings.filterwarnings(\"ignore\")\n",
    "#turn off tensorflow warnings\n",
    "import os\n",
    "os.environ['TF_CPP_MIN_LOG_LEVEL'] = '2' "
   ]
  },
  {
   "cell_type": "code",
   "execution_count": 2,
   "metadata": {},
   "outputs": [],
   "source": [
    "##calculate # of features needed to match percentages\n",
    "def get_n_features(p_features, total_features, subtotal_features):\n",
    "    total_fts = [int(0.01 * p * total_features) for p in p_features]\n",
    "    prot_fts = [fts - subtotal_features for fts in total_fts]\n",
    "    return total_fts, prot_fts"
   ]
  },
  {
   "cell_type": "code",
   "execution_count": 3,
   "metadata": {},
   "outputs": [
    {
     "data": {
      "text/plain": [
       "{'metagenomics': 3568 x 173 <class 'biom.table.Table'> with 162126 nonzero entries (26% dense),\n",
       " 'metabolomics': 1928 x 173 <class 'biom.table.Table'> with 58132 nonzero entries (17% dense),\n",
       " 'metaproteomics': 108080 x 173 <class 'biom.table.Table'> with 5065165 nonzero entries (27% dense)}"
      ]
     },
     "execution_count": 3,
     "metadata": {},
     "output_type": "execute_result"
    }
   ],
   "source": [
    "#load the data\n",
    "data_path = '/Users/bec5786/Desktop/Shenhav Lab/Joint-RPCA/Case studies/iHMP/Data/runtime/'\n",
    "uc_omic_keys = [omics_.split('/')[-1].split('.')[0] for omics_ in glob.glob('{}UC/*.biom'.format(data_path))]\n",
    "\n",
    "uc_metadata_shared = pd.read_csv('../data/uc-metadata-plus-train-tests.csv', index_col=0)\n",
    "uc_tables_shared = {k_: load_table('{}UC/{}.biom'.format(data_path, k_)) for k_ in uc_omic_keys}\n",
    "uc_tables_shared"
   ]
  },
  {
   "cell_type": "code",
   "execution_count": 4,
   "metadata": {},
   "outputs": [
    {
     "name": "stdout",
     "output_type": "stream",
     "text": [
      "113576 5496\n"
     ]
    }
   ],
   "source": [
    "#add number of features across tables\n",
    "uc_n_feat = 0\n",
    "for k, v in uc_tables_shared.items():\n",
    "    uc_n_feat += v.shape[0]\n",
    "\n",
    "uc_subtotal = uc_n_feat - uc_tables_shared['metaproteomics'].shape[0]\n",
    "print(uc_n_feat, uc_subtotal)"
   ]
  },
  {
   "cell_type": "code",
   "execution_count": 5,
   "metadata": {},
   "outputs": [
    {
     "data": {
      "text/plain": [
       "array([10.46, 11.35, 13.14, 14.94, 19.41, 23.89])"
      ]
     },
     "execution_count": 5,
     "metadata": {},
     "output_type": "execute_result"
    }
   ],
   "source": [
    "#load mmvec (iHMP) results to get % features\n",
    "mmvec_ihmp = pd.read_csv('../results/ihmp-runtime-all.csv', index_col=0)\n",
    "mmvec_ihmp = mmvec_ihmp[mmvec_ihmp.method == 'MMvec']\n",
    "perct = mmvec_ihmp['% features'].values\n",
    "perct"
   ]
  },
  {
   "cell_type": "code",
   "execution_count": 6,
   "metadata": {},
   "outputs": [
    {
     "name": "stdout",
     "output_type": "stream",
     "text": [
      "[11880, 12890, 14923, 16968, 22045, 27133]\n",
      "[6384, 7394, 9427, 11472, 16549, 21637]\n"
     ]
    }
   ],
   "source": [
    "all_factors = list(perct)\n",
    "uc_total_n, uc_prot_n = get_n_features(all_factors, uc_n_feat, uc_subtotal)\n",
    "print(uc_total_n)\n",
    "print(uc_prot_n)"
   ]
  },
  {
   "cell_type": "code",
   "execution_count": 7,
   "metadata": {},
   "outputs": [],
   "source": [
    "##formatting for running MMvec\n",
    "#change index name to 'sample id'\n",
    "uc_metadata_shared.index.name = 'sample id'\n",
    "\n",
    "#change train to Train and test to Test\n",
    "uc_metadata_shared['train_test_mmvec'] = uc_metadata_shared['train_test'].apply(lambda x: 'Train' if x == 'train' else 'Test')"
   ]
  },
  {
   "cell_type": "code",
   "execution_count": 8,
   "metadata": {},
   "outputs": [
    {
     "data": {
      "text/plain": [
       "[('metagenomics', 'metagenomics'),\n",
       " ('metabolomics', 'metabolomics'),\n",
       " ('metaproteomics', 'metaproteomics'),\n",
       " ('metagenomics', 'metabolomics'),\n",
       " ('metagenomics', 'metaproteomics'),\n",
       " ('metabolomics', 'metagenomics'),\n",
       " ('metabolomics', 'metaproteomics'),\n",
       " ('metaproteomics', 'metagenomics'),\n",
       " ('metaproteomics', 'metabolomics')]"
      ]
     },
     "execution_count": 8,
     "metadata": {},
     "output_type": "execute_result"
    }
   ],
   "source": [
    "#create list with all possible pairs of omics\n",
    "omic_keys = list(uc_tables_shared.keys())\n",
    "pairs = [('metagenomics', 'metagenomics'), \n",
    "         ('metabolomics', 'metabolomics'),\n",
    "         ('metaproteomics', 'metaproteomics')] + list(itertools.permutations(omic_keys, 2))\n",
    "pairs"
   ]
  },
  {
   "cell_type": "code",
   "execution_count": 9,
   "metadata": {},
   "outputs": [],
   "source": [
    "pairs_no_prot = [pair for pair in pairs if 'metaproteomics' not in pair]\n",
    "pairs_prot = [pair for pair in pairs if 'metaproteomics' in pair]"
   ]
  },
  {
   "cell_type": "code",
   "execution_count": 10,
   "metadata": {},
   "outputs": [
    {
     "name": "stdout",
     "output_type": "stream",
     "text": [
      "Proteomics: 6.0% of features: 6484\n",
      "Proteomics: 7.000000000000001% of features: 7565\n",
      "Proteomics: 8.0% of features: 8646\n"
     ]
    }
   ],
   "source": [
    "#generate subsets of metabolomics data\n",
    "proteomics_all = uc_tables_shared['metaproteomics'].copy()\n",
    "\n",
    "proteomics_sub = {}\n",
    "#for factor in [0.01, 0.03, 0.04, 0.05, 0.1, 0.15, 0.2, 0.25]:\n",
    "for factor in [0.06, 0.07, 0.08]:\n",
    "    #get metabolomics table\n",
    "    prot = uc_tables_shared['metaproteomics'].copy()\n",
    "    #number of features to keep\n",
    "    n_features = int(prot.shape[0]*factor)\n",
    "    #take first n_features\n",
    "    feature_ids = list(prot.ids(axis='observation'))[:n_features]\n",
    "    #filter table\n",
    "    proteomics_sub[factor] = prot.filter(feature_ids, axis='observation')\n",
    "    #sanity check\n",
    "    print('Proteomics: {}% of features: {}'.format(factor*100, proteomics_sub[factor].shape[0]))"
   ]
  },
  {
   "cell_type": "code",
   "execution_count": 11,
   "metadata": {},
   "outputs": [],
   "source": [
    "uc_metadata_shared_short = uc_metadata_shared.copy()\n",
    "uc_metadata_shared_short = uc_metadata_shared_short[['train_test_mmvec']]"
   ]
  },
  {
   "cell_type": "code",
   "execution_count": 20,
   "metadata": {},
   "outputs": [],
   "source": [
    "# runtime = {}\n",
    "# runtime_total = {}"
   ]
  },
  {
   "cell_type": "code",
   "execution_count": 26,
   "metadata": {},
   "outputs": [
    {
     "name": "stdout",
     "output_type": "stream",
     "text": [
      "('metagenomics', 'metagenomics')\n",
      "WARNING:tensorflow:From /opt/anaconda3/envs/qiime2-2019.10/lib/python3.6/site-packages/mmvec/q2/_method.py:57: The name tf.Session is deprecated. Please use tf.compat.v1.Session instead.\n",
      "\n",
      "WARNING:tensorflow:From /opt/anaconda3/envs/qiime2-2019.10/lib/python3.6/site-packages/mmvec/multimodal.py:90: The name tf.log is deprecated. Please use tf.math.log instead.\n",
      "\n",
      "WARNING:tensorflow:From /opt/anaconda3/envs/qiime2-2019.10/lib/python3.6/site-packages/mmvec/multimodal.py:91: multinomial (from tensorflow.python.ops.random_ops) is deprecated and will be removed in a future version.\n",
      "Instructions for updating:\n",
      "Use `tf.random.categorical` instead.\n",
      "WARNING:tensorflow:From /opt/anaconda3/envs/qiime2-2019.10/lib/python3.6/site-packages/mmvec/multimodal.py:102: The name tf.random_normal is deprecated. Please use tf.random.normal instead.\n",
      "\n",
      "WARNING:tensorflow:From /opt/anaconda3/envs/qiime2-2019.10/lib/python3.6/site-packages/mmvec/multimodal.py:118: Normal.__init__ (from tensorflow.python.ops.distributions.normal) is deprecated and will be removed after 2019-01-01.\n",
      "Instructions for updating:\n",
      "The TensorFlow Distributions library has moved to TensorFlow Probability (https://github.com/tensorflow/probability). You should update all references to use `tfp.distributions` instead of `tf.distributions`.\n",
      "WARNING:tensorflow:From /opt/anaconda3/envs/qiime2-2019.10/lib/python3.6/site-packages/tensorflow_core/python/ops/distributions/normal.py:160: Distribution.__init__ (from tensorflow.python.ops.distributions.distribution) is deprecated and will be removed after 2019-01-01.\n",
      "Instructions for updating:\n",
      "The TensorFlow Distributions library has moved to TensorFlow Probability (https://github.com/tensorflow/probability). You should update all references to use `tfp.distributions` instead of `tf.distributions`.\n",
      "WARNING:tensorflow:From /opt/anaconda3/envs/qiime2-2019.10/lib/python3.6/site-packages/mmvec/multimodal.py:135: Multinomial.__init__ (from tensorflow.python.ops.distributions.multinomial) is deprecated and will be removed after 2019-01-01.\n",
      "Instructions for updating:\n",
      "The TensorFlow Distributions library has moved to TensorFlow Probability (https://github.com/tensorflow/probability). You should update all references to use `tfp.distributions` instead of `tf.distributions`.\n",
      "WARNING:tensorflow:From /opt/anaconda3/envs/qiime2-2019.10/lib/python3.6/site-packages/mmvec/multimodal.py:183: The name tf.summary.scalar is deprecated. Please use tf.compat.v1.summary.scalar instead.\n",
      "\n",
      "WARNING:tensorflow:From /opt/anaconda3/envs/qiime2-2019.10/lib/python3.6/site-packages/mmvec/multimodal.py:185: The name tf.summary.histogram is deprecated. Please use tf.compat.v1.summary.histogram instead.\n",
      "\n",
      "WARNING:tensorflow:From /opt/anaconda3/envs/qiime2-2019.10/lib/python3.6/site-packages/mmvec/multimodal.py:189: The name tf.summary.merge_all is deprecated. Please use tf.compat.v1.summary.merge_all instead.\n",
      "\n",
      "WARNING:tensorflow:From /opt/anaconda3/envs/qiime2-2019.10/lib/python3.6/site-packages/mmvec/multimodal.py:191: The name tf.summary.FileWriter is deprecated. Please use tf.compat.v1.summary.FileWriter instead.\n",
      "\n",
      "WARNING:tensorflow:From /opt/anaconda3/envs/qiime2-2019.10/lib/python3.6/site-packages/mmvec/multimodal.py:196: The name tf.train.AdamOptimizer is deprecated. Please use tf.compat.v1.train.AdamOptimizer instead.\n",
      "\n",
      "WARNING:tensorflow:From /opt/anaconda3/envs/qiime2-2019.10/lib/python3.6/site-packages/tensorflow_core/python/ops/clip_ops.py:301: where (from tensorflow.python.ops.array_ops) is deprecated and will be removed in a future version.\n",
      "Instructions for updating:\n",
      "Use tf.where in 2.0, which has the same broadcast rule as np.where\n",
      "WARNING:tensorflow:From /opt/anaconda3/envs/qiime2-2019.10/lib/python3.6/site-packages/mmvec/multimodal.py:206: The name tf.global_variables_initializer is deprecated. Please use tf.compat.v1.global_variables_initializer instead.\n",
      "\n",
      "WARNING:tensorflow:From /opt/anaconda3/envs/qiime2-2019.10/lib/python3.6/site-packages/mmvec/multimodal.py:243: The name tf.train.Saver is deprecated. Please use tf.compat.v1.train.Saver instead.\n",
      "\n"
     ]
    },
    {
     "name": "stderr",
     "output_type": "stream",
     "text": [
      "100%|██████████| 236508/236508 [25:38<00:00, 153.76it/s]\n"
     ]
    },
    {
     "name": "stdout",
     "output_type": "stream",
     "text": [
      "Time elapsed:  1563.6011\n",
      "\n",
      "('metabolomics', 'metabolomics')\n"
     ]
    },
    {
     "name": "stderr",
     "output_type": "stream",
     "text": [
      "100%|██████████| 80740/80740 [02:48<00:00, 480.21it/s]\n"
     ]
    },
    {
     "name": "stdout",
     "output_type": "stream",
     "text": [
      "Time elapsed:  179.4751\n",
      "\n",
      "('metagenomics', 'metabolomics')\n"
     ]
    },
    {
     "name": "stderr",
     "output_type": "stream",
     "text": [
      "100%|██████████| 236508/236508 [15:38<00:00, 252.01it/s]\n"
     ]
    },
    {
     "name": "stdout",
     "output_type": "stream",
     "text": [
      "Time elapsed:  957.9216\n",
      "\n",
      "('metabolomics', 'metagenomics')\n"
     ]
    },
    {
     "name": "stderr",
     "output_type": "stream",
     "text": [
      "100%|██████████| 80740/80740 [05:16<00:00, 255.34it/s]\n"
     ]
    },
    {
     "name": "stdout",
     "output_type": "stream",
     "text": [
      "Time elapsed:  334.7416\n",
      "\n",
      "Total time elapsed:  3035.7395\n"
     ]
    }
   ],
   "source": [
    "# #run mmvec for each pair of omics without proteomics\n",
    "# factor = 0\n",
    "# time_factor = 0\n",
    "# for pair in pairs_no_prot:  \n",
    "#     print(pair)\n",
    "#     #get tables and set to correct format\n",
    "#     t1 = uc_tables_shared[pair[0]]\n",
    "#     t2 = uc_tables_shared[pair[1]]\n",
    "#     t1_q2 = q2.Artifact.import_data('FeatureTable[Frequency]', t1)\n",
    "#     t2_q2 = q2.Artifact.import_data('FeatureTable[Frequency]', t2)\n",
    "\n",
    "#     #run and time mmvec\n",
    "#     time_start = time.perf_counter()\n",
    "#     mmvec_res = paired_omics(t1_q2, t2_q2, \n",
    "#                             summary_interval=1,\n",
    "#                             metadata=q2.Metadata(uc_metadata_shared_short),\n",
    "#                             training_column='train_test_mmvec',\n",
    "#                             min_feature_count=10)\n",
    "#     time_elapsed = (time.perf_counter() - time_start)\n",
    "#     time_factor += time_elapsed\n",
    "#     print('Time elapsed: ', round(time_elapsed,4))\n",
    "#     print()\n",
    "#     #save output\n",
    "#     runtime[\"{}-{}\".format(pair[0], pair[1])] = time_elapsed\n",
    "#     with open(\"../results/mmvec-runtime-uc.json\", \"w\") as outfile: \n",
    "#         json.dump(runtime, outfile)\n",
    "\n",
    "# runtime_total[factor] = time_factor\n",
    "# print('Total time elapsed: ', round(time_factor,4))\n",
    "\n",
    "# #save mmvec results as json/pickle\n",
    "# with open(\"../results/mmvec-runtime-total-uc.json\", \"w\") as outfile: \n",
    "#    json.dump(runtime_total, outfile)"
   ]
  },
  {
   "cell_type": "code",
   "execution_count": 18,
   "metadata": {},
   "outputs": [
    {
     "name": "stdout",
     "output_type": "stream",
     "text": [
      "{'metagenomics-metagenomics': 1563.6010937170067, 'metabolomics-metabolomics': 179.47512698400533, 'metagenomics-metabolomics': 957.9216301410052, 'metabolomics-metagenomics': 334.7416218419967}\n",
      "{'0': 3035.739472684014}\n"
     ]
    }
   ],
   "source": [
    "# #sanity check\n",
    "# print(runtime)\n",
    "# print(runtime_total)"
   ]
  },
  {
   "cell_type": "code",
   "execution_count": 12,
   "metadata": {},
   "outputs": [],
   "source": [
    "#load mmvec results\n",
    "with open(\"../results/mmvec-runtime-total-uc.json\", \"r\") as infile:\n",
    "    runtime_total = json.load(infile)\n",
    "\n",
    "with open(\"../results/mmvec-runtime-uc.json\", \"r\") as infile:\n",
    "    runtime = json.load(infile)"
   ]
  },
  {
   "cell_type": "code",
   "execution_count": 24,
   "metadata": {},
   "outputs": [
    {
     "name": "stdout",
     "output_type": "stream",
     "text": [
      "\n",
      "### Proteomic Features: 1.0% ###\n",
      "Proteomics n features: 1080\n",
      "('metaproteomics', 'metaproteomics')\n"
     ]
    },
    {
     "name": "stderr",
     "output_type": "stream",
     "text": [
      "100%|██████████| 143664/143664 [03:44<00:00, 638.57it/s]\n"
     ]
    },
    {
     "name": "stdout",
     "output_type": "stream",
     "text": [
      "Time elapsed:  232.43\n",
      "\n",
      "('metagenomics', 'metaproteomics')\n"
     ]
    },
    {
     "name": "stderr",
     "output_type": "stream",
     "text": [
      "100%|██████████| 236508/236508 [08:06<00:00, 486.63it/s]\n"
     ]
    },
    {
     "name": "stdout",
     "output_type": "stream",
     "text": [
      "Time elapsed:  499.39\n",
      "\n",
      "('metabolomics', 'metaproteomics')\n"
     ]
    },
    {
     "name": "stderr",
     "output_type": "stream",
     "text": [
      "100%|██████████| 80740/80740 [01:37<00:00, 832.23it/s]\n"
     ]
    },
    {
     "name": "stdout",
     "output_type": "stream",
     "text": [
      "Time elapsed:  105.31\n",
      "\n",
      "('metaproteomics', 'metagenomics')\n"
     ]
    },
    {
     "name": "stderr",
     "output_type": "stream",
     "text": [
      "100%|██████████| 143664/143664 [09:28<00:00, 252.61it/s]\n"
     ]
    },
    {
     "name": "stdout",
     "output_type": "stream",
     "text": [
      "Time elapsed:  582.34\n",
      "\n",
      "('metaproteomics', 'metabolomics')\n"
     ]
    },
    {
     "name": "stderr",
     "output_type": "stream",
     "text": [
      "100%|██████████| 143664/143664 [06:02<00:00, 396.73it/s]\n"
     ]
    },
    {
     "name": "stdout",
     "output_type": "stream",
     "text": [
      "Time elapsed:  372.51\n",
      "\n",
      "Total time elapsed: 1791.99 secs (29.87 mins)\n",
      "\n",
      "### Proteomic Features: 3.0% ###\n",
      "Proteomics n features: 3242\n",
      "('metaproteomics', 'metaproteomics')\n"
     ]
    },
    {
     "name": "stderr",
     "output_type": "stream",
     "text": [
      "100%|██████████| 311720/311720 [1:00:53<00:00, 85.32it/s] \n"
     ]
    },
    {
     "name": "stdout",
     "output_type": "stream",
     "text": [
      "Time elapsed:  3680.41\n",
      "\n",
      "('metagenomics', 'metaproteomics')\n"
     ]
    },
    {
     "name": "stderr",
     "output_type": "stream",
     "text": [
      "100%|██████████| 236508/236508 [22:00<00:00, 179.11it/s]\n"
     ]
    },
    {
     "name": "stdout",
     "output_type": "stream",
     "text": [
      "Time elapsed:  1343.11\n",
      "\n",
      "('metabolomics', 'metaproteomics')\n"
     ]
    },
    {
     "name": "stderr",
     "output_type": "stream",
     "text": [
      "100%|██████████| 80740/80740 [03:57<00:00, 340.19it/s]\n"
     ]
    },
    {
     "name": "stdout",
     "output_type": "stream",
     "text": [
      "Time elapsed:  252.67\n",
      "\n",
      "('metaproteomics', 'metagenomics')\n"
     ]
    },
    {
     "name": "stderr",
     "output_type": "stream",
     "text": [
      "100%|██████████| 311720/311720 [50:44<00:00, 102.38it/s] \n"
     ]
    },
    {
     "name": "stdout",
     "output_type": "stream",
     "text": [
      "Time elapsed:  3071.32\n",
      "\n",
      "('metaproteomics', 'metabolomics')\n"
     ]
    },
    {
     "name": "stderr",
     "output_type": "stream",
     "text": [
      "100%|██████████| 311720/311720 [18:41<00:00, 277.98it/s]\n"
     ]
    },
    {
     "name": "stdout",
     "output_type": "stream",
     "text": [
      "Time elapsed:  1140.48\n",
      "\n",
      "Total time elapsed: 9487.99 secs (158.13 mins)\n",
      "\n",
      "### Proteomic Features: 5.0% ###\n",
      "Proteomics n features: 5404\n",
      "('metaproteomics', 'metaproteomics')\n"
     ]
    },
    {
     "name": "stderr",
     "output_type": "stream",
     "text": [
      "  3%|▎         | 12527/447748 [5:00:04<170:31:45,  1.41s/it]"
     ]
    },
    {
     "name": "stdout",
     "output_type": "stream",
     "text": [
      "WARNING:tensorflow:From /opt/anaconda3/envs/qiime2-2019.10/lib/python3.6/site-packages/tensorflow_core/python/training/saver.py:963: remove_checkpoint (from tensorflow.python.training.checkpoint_management) is deprecated and will be removed in a future version.\n",
      "Instructions for updating:\n",
      "Use standard file APIs to delete files with this prefix.\n"
     ]
    },
    {
     "name": "stderr",
     "output_type": "stream",
     "text": [
      "  4%|▍         | 17798/447748 [7:07:04<171:57:06,  1.44s/it]\n"
     ]
    },
    {
     "ename": "KeyboardInterrupt",
     "evalue": "",
     "output_type": "error",
     "traceback": [
      "\u001b[0;31m---------------------------------------------------------------------------\u001b[0m",
      "\u001b[0;31mKeyboardInterrupt\u001b[0m                         Traceback (most recent call last)",
      "\u001b[0;32m<ipython-input-24-8f9471f4d40b>\u001b[0m in \u001b[0;36m<module>\u001b[0;34m\u001b[0m\n\u001b[1;32m     24\u001b[0m                                 \u001b[0mmetadata\u001b[0m\u001b[0;34m=\u001b[0m\u001b[0mq2\u001b[0m\u001b[0;34m.\u001b[0m\u001b[0mMetadata\u001b[0m\u001b[0;34m(\u001b[0m\u001b[0muc_metadata_shared_short\u001b[0m\u001b[0;34m)\u001b[0m\u001b[0;34m,\u001b[0m\u001b[0;34m\u001b[0m\u001b[0;34m\u001b[0m\u001b[0m\n\u001b[1;32m     25\u001b[0m                                 \u001b[0mtraining_column\u001b[0m\u001b[0;34m=\u001b[0m\u001b[0;34m'train_test_mmvec'\u001b[0m\u001b[0;34m,\u001b[0m\u001b[0;34m\u001b[0m\u001b[0;34m\u001b[0m\u001b[0m\n\u001b[0;32m---> 26\u001b[0;31m                                 min_feature_count=10)\n\u001b[0m\u001b[1;32m     27\u001b[0m         \u001b[0mtime_elapsed\u001b[0m \u001b[0;34m=\u001b[0m \u001b[0;34m(\u001b[0m\u001b[0mtime\u001b[0m\u001b[0;34m.\u001b[0m\u001b[0mperf_counter\u001b[0m\u001b[0;34m(\u001b[0m\u001b[0;34m)\u001b[0m \u001b[0;34m-\u001b[0m \u001b[0mtime_start\u001b[0m\u001b[0;34m)\u001b[0m\u001b[0;34m\u001b[0m\u001b[0;34m\u001b[0m\u001b[0m\n\u001b[1;32m     28\u001b[0m         \u001b[0mtime_factor\u001b[0m \u001b[0;34m+=\u001b[0m \u001b[0mtime_elapsed\u001b[0m\u001b[0;34m\u001b[0m\u001b[0;34m\u001b[0m\u001b[0m\n",
      "\u001b[0;32m</opt/anaconda3/envs/qiime2-2019.10/lib/python3.6/site-packages/decorator.py:decorator-gen-491>\u001b[0m in \u001b[0;36mpaired_omics\u001b[0;34m(microbes, metabolites, metadata, training_column, num_testing_examples, min_feature_count, epochs, batch_size, latent_dim, input_prior, output_prior, learning_rate, equalize_biplot, arm_the_gpu, summary_interval)\u001b[0m\n",
      "\u001b[0;32m/opt/anaconda3/envs/qiime2-2019.10/lib/python3.6/site-packages/qiime2/sdk/action.py\u001b[0m in \u001b[0;36mbound_callable\u001b[0;34m(*args, **kwargs)\u001b[0m\n\u001b[1;32m    238\u001b[0m                 \u001b[0;31m# Execute\u001b[0m\u001b[0;34m\u001b[0m\u001b[0;34m\u001b[0m\u001b[0;34m\u001b[0m\u001b[0m\n\u001b[1;32m    239\u001b[0m                 outputs = self._callable_executor_(scope, callable_args,\n\u001b[0;32m--> 240\u001b[0;31m                                                    output_types, provenance)\n\u001b[0m\u001b[1;32m    241\u001b[0m \u001b[0;34m\u001b[0m\u001b[0m\n\u001b[1;32m    242\u001b[0m                 \u001b[0;32mif\u001b[0m \u001b[0mlen\u001b[0m\u001b[0;34m(\u001b[0m\u001b[0moutputs\u001b[0m\u001b[0;34m)\u001b[0m \u001b[0;34m!=\u001b[0m \u001b[0mlen\u001b[0m\u001b[0;34m(\u001b[0m\u001b[0mself\u001b[0m\u001b[0;34m.\u001b[0m\u001b[0msignature\u001b[0m\u001b[0;34m.\u001b[0m\u001b[0moutputs\u001b[0m\u001b[0;34m)\u001b[0m\u001b[0;34m:\u001b[0m\u001b[0;34m\u001b[0m\u001b[0;34m\u001b[0m\u001b[0m\n",
      "\u001b[0;32m/opt/anaconda3/envs/qiime2-2019.10/lib/python3.6/site-packages/qiime2/sdk/action.py\u001b[0m in \u001b[0;36m_callable_executor_\u001b[0;34m(self, scope, view_args, output_types, provenance)\u001b[0m\n\u001b[1;32m    381\u001b[0m \u001b[0;34m\u001b[0m\u001b[0m\n\u001b[1;32m    382\u001b[0m     \u001b[0;32mdef\u001b[0m \u001b[0m_callable_executor_\u001b[0m\u001b[0;34m(\u001b[0m\u001b[0mself\u001b[0m\u001b[0;34m,\u001b[0m \u001b[0mscope\u001b[0m\u001b[0;34m,\u001b[0m \u001b[0mview_args\u001b[0m\u001b[0;34m,\u001b[0m \u001b[0moutput_types\u001b[0m\u001b[0;34m,\u001b[0m \u001b[0mprovenance\u001b[0m\u001b[0;34m)\u001b[0m\u001b[0;34m:\u001b[0m\u001b[0;34m\u001b[0m\u001b[0;34m\u001b[0m\u001b[0m\n\u001b[0;32m--> 383\u001b[0;31m         \u001b[0moutput_views\u001b[0m \u001b[0;34m=\u001b[0m \u001b[0mself\u001b[0m\u001b[0;34m.\u001b[0m\u001b[0m_callable\u001b[0m\u001b[0;34m(\u001b[0m\u001b[0;34m**\u001b[0m\u001b[0mview_args\u001b[0m\u001b[0;34m)\u001b[0m\u001b[0;34m\u001b[0m\u001b[0;34m\u001b[0m\u001b[0m\n\u001b[0m\u001b[1;32m    384\u001b[0m         \u001b[0moutput_views\u001b[0m \u001b[0;34m=\u001b[0m \u001b[0mtuplize\u001b[0m\u001b[0;34m(\u001b[0m\u001b[0moutput_views\u001b[0m\u001b[0;34m)\u001b[0m\u001b[0;34m\u001b[0m\u001b[0;34m\u001b[0m\u001b[0m\n\u001b[1;32m    385\u001b[0m \u001b[0;34m\u001b[0m\u001b[0m\n",
      "\u001b[0;32m/opt/anaconda3/envs/qiime2-2019.10/lib/python3.6/site-packages/mmvec/q2/_method.py\u001b[0m in \u001b[0;36mpaired_omics\u001b[0;34m(microbes, metabolites, metadata, training_column, num_testing_examples, min_feature_count, epochs, batch_size, latent_dim, input_prior, output_prior, learning_rate, equalize_biplot, arm_the_gpu, summary_interval)\u001b[0m\n\u001b[1;32m     66\u001b[0m               test_microbes_coo, test_metabolites_df.values)\n\u001b[1;32m     67\u001b[0m \u001b[0;34m\u001b[0m\u001b[0m\n\u001b[0;32m---> 68\u001b[0;31m         \u001b[0mloss\u001b[0m\u001b[0;34m,\u001b[0m \u001b[0mcv\u001b[0m \u001b[0;34m=\u001b[0m \u001b[0mmodel\u001b[0m\u001b[0;34m.\u001b[0m\u001b[0mfit\u001b[0m\u001b[0;34m(\u001b[0m\u001b[0mepoch\u001b[0m\u001b[0;34m=\u001b[0m\u001b[0mepochs\u001b[0m\u001b[0;34m,\u001b[0m \u001b[0msummary_interval\u001b[0m\u001b[0;34m=\u001b[0m\u001b[0msummary_interval\u001b[0m\u001b[0;34m)\u001b[0m\u001b[0;34m\u001b[0m\u001b[0;34m\u001b[0m\u001b[0m\n\u001b[0m\u001b[1;32m     69\u001b[0m         ranks = pd.DataFrame(model.ranks(), index=train_microbes_df.columns,\n\u001b[1;32m     70\u001b[0m                              columns=train_metabolites_df.columns)\n",
      "\u001b[0;32m/opt/anaconda3/envs/qiime2-2019.10/lib/python3.6/site-packages/mmvec/multimodal.py\u001b[0m in \u001b[0;36mfit\u001b[0;34m(self, epoch, summary_interval, checkpoint_interval, testX, testY)\u001b[0m\n\u001b[1;32m    249\u001b[0m                     [self.train, self.merged, self.log_loss, self.cv,\n\u001b[1;32m    250\u001b[0m                      \u001b[0mself\u001b[0m\u001b[0;34m.\u001b[0m\u001b[0mqUmain\u001b[0m\u001b[0;34m,\u001b[0m \u001b[0mself\u001b[0m\u001b[0;34m.\u001b[0m\u001b[0mqUbias\u001b[0m\u001b[0;34m,\u001b[0m\u001b[0;34m\u001b[0m\u001b[0;34m\u001b[0m\u001b[0m\n\u001b[0;32m--> 251\u001b[0;31m                      self.qVmain, self.qVbias]\n\u001b[0m\u001b[1;32m    252\u001b[0m                 )\n\u001b[1;32m    253\u001b[0m                 \u001b[0mtrain_\u001b[0m\u001b[0;34m,\u001b[0m \u001b[0msummary\u001b[0m\u001b[0;34m,\u001b[0m \u001b[0mloss\u001b[0m\u001b[0;34m,\u001b[0m \u001b[0mcv\u001b[0m\u001b[0;34m,\u001b[0m \u001b[0mrU\u001b[0m\u001b[0;34m,\u001b[0m \u001b[0mrUb\u001b[0m\u001b[0;34m,\u001b[0m \u001b[0mrV\u001b[0m\u001b[0;34m,\u001b[0m \u001b[0mrVb\u001b[0m \u001b[0;34m=\u001b[0m \u001b[0mres\u001b[0m\u001b[0;34m\u001b[0m\u001b[0;34m\u001b[0m\u001b[0m\n",
      "\u001b[0;32m/opt/anaconda3/envs/qiime2-2019.10/lib/python3.6/site-packages/tensorflow_core/python/client/session.py\u001b[0m in \u001b[0;36mrun\u001b[0;34m(self, fetches, feed_dict, options, run_metadata)\u001b[0m\n\u001b[1;32m    954\u001b[0m     \u001b[0;32mtry\u001b[0m\u001b[0;34m:\u001b[0m\u001b[0;34m\u001b[0m\u001b[0;34m\u001b[0m\u001b[0m\n\u001b[1;32m    955\u001b[0m       result = self._run(None, fetches, feed_dict, options_ptr,\n\u001b[0;32m--> 956\u001b[0;31m                          run_metadata_ptr)\n\u001b[0m\u001b[1;32m    957\u001b[0m       \u001b[0;32mif\u001b[0m \u001b[0mrun_metadata\u001b[0m\u001b[0;34m:\u001b[0m\u001b[0;34m\u001b[0m\u001b[0;34m\u001b[0m\u001b[0m\n\u001b[1;32m    958\u001b[0m         \u001b[0mproto_data\u001b[0m \u001b[0;34m=\u001b[0m \u001b[0mtf_session\u001b[0m\u001b[0;34m.\u001b[0m\u001b[0mTF_GetBuffer\u001b[0m\u001b[0;34m(\u001b[0m\u001b[0mrun_metadata_ptr\u001b[0m\u001b[0;34m)\u001b[0m\u001b[0;34m\u001b[0m\u001b[0;34m\u001b[0m\u001b[0m\n",
      "\u001b[0;32m/opt/anaconda3/envs/qiime2-2019.10/lib/python3.6/site-packages/tensorflow_core/python/client/session.py\u001b[0m in \u001b[0;36m_run\u001b[0;34m(self, handle, fetches, feed_dict, options, run_metadata)\u001b[0m\n\u001b[1;32m   1178\u001b[0m     \u001b[0;32mif\u001b[0m \u001b[0mfinal_fetches\u001b[0m \u001b[0;32mor\u001b[0m \u001b[0mfinal_targets\u001b[0m \u001b[0;32mor\u001b[0m \u001b[0;34m(\u001b[0m\u001b[0mhandle\u001b[0m \u001b[0;32mand\u001b[0m \u001b[0mfeed_dict_tensor\u001b[0m\u001b[0;34m)\u001b[0m\u001b[0;34m:\u001b[0m\u001b[0;34m\u001b[0m\u001b[0;34m\u001b[0m\u001b[0m\n\u001b[1;32m   1179\u001b[0m       results = self._do_run(handle, final_targets, final_fetches,\n\u001b[0;32m-> 1180\u001b[0;31m                              feed_dict_tensor, options, run_metadata)\n\u001b[0m\u001b[1;32m   1181\u001b[0m     \u001b[0;32melse\u001b[0m\u001b[0;34m:\u001b[0m\u001b[0;34m\u001b[0m\u001b[0;34m\u001b[0m\u001b[0m\n\u001b[1;32m   1182\u001b[0m       \u001b[0mresults\u001b[0m \u001b[0;34m=\u001b[0m \u001b[0;34m[\u001b[0m\u001b[0;34m]\u001b[0m\u001b[0;34m\u001b[0m\u001b[0;34m\u001b[0m\u001b[0m\n",
      "\u001b[0;32m/opt/anaconda3/envs/qiime2-2019.10/lib/python3.6/site-packages/tensorflow_core/python/client/session.py\u001b[0m in \u001b[0;36m_do_run\u001b[0;34m(self, handle, target_list, fetch_list, feed_dict, options, run_metadata)\u001b[0m\n\u001b[1;32m   1357\u001b[0m     \u001b[0;32mif\u001b[0m \u001b[0mhandle\u001b[0m \u001b[0;32mis\u001b[0m \u001b[0;32mNone\u001b[0m\u001b[0;34m:\u001b[0m\u001b[0;34m\u001b[0m\u001b[0;34m\u001b[0m\u001b[0m\n\u001b[1;32m   1358\u001b[0m       return self._do_call(_run_fn, feeds, fetches, targets, options,\n\u001b[0;32m-> 1359\u001b[0;31m                            run_metadata)\n\u001b[0m\u001b[1;32m   1360\u001b[0m     \u001b[0;32melse\u001b[0m\u001b[0;34m:\u001b[0m\u001b[0;34m\u001b[0m\u001b[0;34m\u001b[0m\u001b[0m\n\u001b[1;32m   1361\u001b[0m       \u001b[0;32mreturn\u001b[0m \u001b[0mself\u001b[0m\u001b[0;34m.\u001b[0m\u001b[0m_do_call\u001b[0m\u001b[0;34m(\u001b[0m\u001b[0m_prun_fn\u001b[0m\u001b[0;34m,\u001b[0m \u001b[0mhandle\u001b[0m\u001b[0;34m,\u001b[0m \u001b[0mfeeds\u001b[0m\u001b[0;34m,\u001b[0m \u001b[0mfetches\u001b[0m\u001b[0;34m)\u001b[0m\u001b[0;34m\u001b[0m\u001b[0;34m\u001b[0m\u001b[0m\n",
      "\u001b[0;32m/opt/anaconda3/envs/qiime2-2019.10/lib/python3.6/site-packages/tensorflow_core/python/client/session.py\u001b[0m in \u001b[0;36m_do_call\u001b[0;34m(self, fn, *args)\u001b[0m\n\u001b[1;32m   1363\u001b[0m   \u001b[0;32mdef\u001b[0m \u001b[0m_do_call\u001b[0m\u001b[0;34m(\u001b[0m\u001b[0mself\u001b[0m\u001b[0;34m,\u001b[0m \u001b[0mfn\u001b[0m\u001b[0;34m,\u001b[0m \u001b[0;34m*\u001b[0m\u001b[0margs\u001b[0m\u001b[0;34m)\u001b[0m\u001b[0;34m:\u001b[0m\u001b[0;34m\u001b[0m\u001b[0;34m\u001b[0m\u001b[0m\n\u001b[1;32m   1364\u001b[0m     \u001b[0;32mtry\u001b[0m\u001b[0;34m:\u001b[0m\u001b[0;34m\u001b[0m\u001b[0;34m\u001b[0m\u001b[0m\n\u001b[0;32m-> 1365\u001b[0;31m       \u001b[0;32mreturn\u001b[0m \u001b[0mfn\u001b[0m\u001b[0;34m(\u001b[0m\u001b[0;34m*\u001b[0m\u001b[0margs\u001b[0m\u001b[0;34m)\u001b[0m\u001b[0;34m\u001b[0m\u001b[0;34m\u001b[0m\u001b[0m\n\u001b[0m\u001b[1;32m   1366\u001b[0m     \u001b[0;32mexcept\u001b[0m \u001b[0merrors\u001b[0m\u001b[0;34m.\u001b[0m\u001b[0mOpError\u001b[0m \u001b[0;32mas\u001b[0m \u001b[0me\u001b[0m\u001b[0;34m:\u001b[0m\u001b[0;34m\u001b[0m\u001b[0;34m\u001b[0m\u001b[0m\n\u001b[1;32m   1367\u001b[0m       \u001b[0mmessage\u001b[0m \u001b[0;34m=\u001b[0m \u001b[0mcompat\u001b[0m\u001b[0;34m.\u001b[0m\u001b[0mas_text\u001b[0m\u001b[0;34m(\u001b[0m\u001b[0me\u001b[0m\u001b[0;34m.\u001b[0m\u001b[0mmessage\u001b[0m\u001b[0;34m)\u001b[0m\u001b[0;34m\u001b[0m\u001b[0;34m\u001b[0m\u001b[0m\n",
      "\u001b[0;32m/opt/anaconda3/envs/qiime2-2019.10/lib/python3.6/site-packages/tensorflow_core/python/client/session.py\u001b[0m in \u001b[0;36m_run_fn\u001b[0;34m(feed_dict, fetch_list, target_list, options, run_metadata)\u001b[0m\n\u001b[1;32m   1348\u001b[0m       \u001b[0mself\u001b[0m\u001b[0;34m.\u001b[0m\u001b[0m_extend_graph\u001b[0m\u001b[0;34m(\u001b[0m\u001b[0;34m)\u001b[0m\u001b[0;34m\u001b[0m\u001b[0;34m\u001b[0m\u001b[0m\n\u001b[1;32m   1349\u001b[0m       return self._call_tf_sessionrun(options, feed_dict, fetch_list,\n\u001b[0;32m-> 1350\u001b[0;31m                                       target_list, run_metadata)\n\u001b[0m\u001b[1;32m   1351\u001b[0m \u001b[0;34m\u001b[0m\u001b[0m\n\u001b[1;32m   1352\u001b[0m     \u001b[0;32mdef\u001b[0m \u001b[0m_prun_fn\u001b[0m\u001b[0;34m(\u001b[0m\u001b[0mhandle\u001b[0m\u001b[0;34m,\u001b[0m \u001b[0mfeed_dict\u001b[0m\u001b[0;34m,\u001b[0m \u001b[0mfetch_list\u001b[0m\u001b[0;34m)\u001b[0m\u001b[0;34m:\u001b[0m\u001b[0;34m\u001b[0m\u001b[0;34m\u001b[0m\u001b[0m\n",
      "\u001b[0;32m/opt/anaconda3/envs/qiime2-2019.10/lib/python3.6/site-packages/tensorflow_core/python/client/session.py\u001b[0m in \u001b[0;36m_call_tf_sessionrun\u001b[0;34m(self, options, feed_dict, fetch_list, target_list, run_metadata)\u001b[0m\n\u001b[1;32m   1441\u001b[0m     return tf_session.TF_SessionRun_wrapper(self._session, options, feed_dict,\n\u001b[1;32m   1442\u001b[0m                                             \u001b[0mfetch_list\u001b[0m\u001b[0;34m,\u001b[0m \u001b[0mtarget_list\u001b[0m\u001b[0;34m,\u001b[0m\u001b[0;34m\u001b[0m\u001b[0;34m\u001b[0m\u001b[0m\n\u001b[0;32m-> 1443\u001b[0;31m                                             run_metadata)\n\u001b[0m\u001b[1;32m   1444\u001b[0m \u001b[0;34m\u001b[0m\u001b[0m\n\u001b[1;32m   1445\u001b[0m   \u001b[0;32mdef\u001b[0m \u001b[0m_call_tf_sessionprun\u001b[0m\u001b[0;34m(\u001b[0m\u001b[0mself\u001b[0m\u001b[0;34m,\u001b[0m \u001b[0mhandle\u001b[0m\u001b[0;34m,\u001b[0m \u001b[0mfeed_dict\u001b[0m\u001b[0;34m,\u001b[0m \u001b[0mfetch_list\u001b[0m\u001b[0;34m)\u001b[0m\u001b[0;34m:\u001b[0m\u001b[0;34m\u001b[0m\u001b[0;34m\u001b[0m\u001b[0m\n",
      "\u001b[0;31mKeyboardInterrupt\u001b[0m: "
     ]
    }
   ],
   "source": [
    "#ref: https://github.com/biocore/mmvec/blob/88ca33b408a85b6bf90fae06982936247b860272/mmvec/q2/_method.py#L14\n",
    "\n",
    "for factor in [0.01, 0.03, 0.05, 0.1, 0.15]:\n",
    "    print('\\n### Proteomic Features: {}% ###'.format(factor*100))\n",
    "    prot_table = proteomics_sub[factor]\n",
    "    table_to_use = uc_tables_shared.copy()\n",
    "    table_to_use['metaproteomics'] = prot_table\n",
    "    print('Proteomics n features: {}'.format(table_to_use['metaproteomics'].shape[0]))\n",
    "\n",
    "    time_factor = 0\n",
    "    for pair in pairs_prot:\n",
    "        print(pair)\n",
    "        \n",
    "        #get tables and set to correct format\n",
    "        t1 = table_to_use[pair[0]]\n",
    "        t2 = table_to_use[pair[1]]\n",
    "        t1_q2 = q2.Artifact.import_data('FeatureTable[Frequency]', t1)\n",
    "        t2_q2 = q2.Artifact.import_data('FeatureTable[Frequency]', t2)\n",
    "\n",
    "        #run and time mmvec\n",
    "        time_start = time.perf_counter()\n",
    "        mmvec_res = paired_omics(t1_q2, t2_q2, \n",
    "                                summary_interval=1,\n",
    "                                metadata=q2.Metadata(uc_metadata_shared_short),\n",
    "                                training_column='train_test_mmvec',\n",
    "                                min_feature_count=10)\n",
    "        time_elapsed = (time.perf_counter() - time_start)\n",
    "        time_factor += time_elapsed\n",
    "        print('Time elapsed: ', round(time_elapsed,2))\n",
    "        print()\n",
    "\n",
    "        # update pair name before saving\n",
    "        if pair[0] == 'metaproteomics':\n",
    "            pair = ('metaproteomics{}'.format(factor), pair[1])\n",
    "        if pair[1] == 'metaproteomics':\n",
    "            pair = (pair[0], 'metaproteomics{}'.format(factor))\n",
    "        #save output\n",
    "        runtime[\"{}-{}\".format(pair[0], pair[1])] = time_elapsed\n",
    "        with open(\"../results/mmvec-runtime-uc.json\", \"w\") as outfile: \n",
    "            json.dump(runtime, outfile)\n",
    "    \n",
    "    runtime_total[factor] = time_factor\n",
    "    print('Total time elapsed: {} secs ({} mins)'.format(round(time_factor, 2),\n",
    "                                                         round(time_factor/60, 2)))\n",
    "    \n",
    "    #save mmvec results as json/pickle\n",
    "    with open(\"../results/mmvec-runtime-total-uc.json\", \"w\") as outfile: \n",
    "        json.dump(runtime_total, outfile)\n",
    "    "
   ]
  },
  {
   "cell_type": "code",
   "execution_count": 14,
   "metadata": {},
   "outputs": [],
   "source": [
    "pairs_prot_sub = [#('metaproteomics', 'metaproteomics'),\n",
    "                    ('metagenomics', 'metaproteomics'),\n",
    "                    ('metabolomics', 'metaproteomics'),\n",
    "                    ('metaproteomics', 'metagenomics'),\n",
    "                    ('metaproteomics', 'metabolomics')]\n",
    "\n",
    "for factor in [0.04]:\n",
    "    print('\\n### Proteomic Features: {}% ###'.format(factor*100))\n",
    "    prot_table = proteomics_sub[factor]\n",
    "    table_to_use = uc_tables_shared.copy()\n",
    "    table_to_use['metaproteomics'] = prot_table\n",
    "    print('Proteomics n features: {}'.format(table_to_use['metaproteomics'].shape[0]))\n",
    "\n",
    "    time_factor = 0\n",
    "    for pair in pairs_prot_sub:\n",
    "        print(pair)\n",
    "        \n",
    "        #get tables and set to correct format\n",
    "        t1 = table_to_use[pair[0]]\n",
    "        t2 = table_to_use[pair[1]]\n",
    "        t1_q2 = q2.Artifact.import_data('FeatureTable[Frequency]', t1)\n",
    "        t2_q2 = q2.Artifact.import_data('FeatureTable[Frequency]', t2)\n",
    "\n",
    "        #run and time mmvec\n",
    "        time_start = time.perf_counter()\n",
    "        mmvec_res = paired_omics(t1_q2, t2_q2, \n",
    "                                summary_interval=1,\n",
    "                                metadata=q2.Metadata(uc_metadata_shared_short),\n",
    "                                training_column='train_test_mmvec',\n",
    "                                min_feature_count=10)\n",
    "        time_elapsed = (time.perf_counter() - time_start)\n",
    "        time_factor += time_elapsed\n",
    "        print('Time elapsed: ', round(time_elapsed,2))\n",
    "        print()\n",
    "\n",
    "        # update pair name before saving\n",
    "        if pair[0] == 'metaproteomics':\n",
    "            pair = ('metaproteomics{}'.format(factor), pair[1])\n",
    "        if pair[1] == 'metaproteomics':\n",
    "            pair = (pair[0], 'metaproteomics{}'.format(factor))\n",
    "        #save output\n",
    "        runtime[\"{}-{}\".format(pair[0], pair[1])] = time_elapsed\n",
    "        with open(\"../results/mmvec-runtime-uc.json\", \"w\") as outfile: \n",
    "            json.dump(runtime, outfile)\n",
    "    \n",
    "    runtime_total[factor] = time_factor\n",
    "    print('Total time elapsed: {} secs ({} mins)'.format(round(time_factor, 2),\n",
    "                                                         round(time_factor/60, 2)))\n",
    "    \n",
    "    #save mmvec results as json/pickle\n",
    "    with open(\"../results/mmvec-runtime-total-uc.json\", \"w\") as outfile: \n",
    "        json.dump(runtime_total, outfile)\n",
    "    "
   ]
  },
  {
   "cell_type": "code",
   "execution_count": 13,
   "metadata": {},
   "outputs": [],
   "source": [
    "pairs_prot_sub = [#('metaproteomics', 'metaproteomics'),\n",
    "                    ('metagenomics', 'metaproteomics'),\n",
    "                    ('metabolomics', 'metaproteomics'),\n",
    "                    #('metaproteomics', 'metagenomics'),\n",
    "                    ('metaproteomics', 'metabolomics')]"
   ]
  },
  {
   "cell_type": "code",
   "execution_count": 15,
   "metadata": {},
   "outputs": [
    {
     "name": "stdout",
     "output_type": "stream",
     "text": [
      "\n",
      "### Proteomic Features: 6.0% ###\n",
      "Proteomics n features: 6484\n",
      "('metagenomics', 'metaproteomics')\n"
     ]
    },
    {
     "name": "stderr",
     "output_type": "stream",
     "text": [
      " 45%|████▌     | 107059/236508 [5:00:02<1:51:46, 19.30it/s]"
     ]
    },
    {
     "name": "stdout",
     "output_type": "stream",
     "text": [
      "WARNING:tensorflow:From /opt/anaconda3/envs/qiime2-2019.10/lib/python3.6/site-packages/tensorflow_core/python/training/saver.py:963: remove_checkpoint (from tensorflow.python.training.checkpoint_management) is deprecated and will be removed in a future version.\n",
      "Instructions for updating:\n",
      "Use standard file APIs to delete files with this prefix.\n"
     ]
    },
    {
     "name": "stderr",
     "output_type": "stream",
     "text": [
      "100%|██████████| 236508/236508 [7:12:56<00:00,  9.10it/s]   \n"
     ]
    },
    {
     "name": "stdout",
     "output_type": "stream",
     "text": [
      "Time elapsed:  26016.04 secs (433.6 mins)\n",
      "('metabolomics', 'metaproteomics')\n"
     ]
    },
    {
     "name": "stderr",
     "output_type": "stream",
     "text": [
      "100%|██████████| 80740/80740 [07:35<00:00, 177.31it/s]\n"
     ]
    },
    {
     "name": "stdout",
     "output_type": "stream",
     "text": [
      "Time elapsed:  481.72 secs (8.03 mins)\n",
      "('metaproteomics', 'metabolomics')\n"
     ]
    },
    {
     "name": "stderr",
     "output_type": "stream",
     "text": [
      "100%|██████████| 516396/516396 [59:18<00:00, 145.10it/s]  \n"
     ]
    },
    {
     "name": "stdout",
     "output_type": "stream",
     "text": [
      "Time elapsed:  3592.28 secs (59.87 mins)\n",
      "Total time elapsed: 30090.04 secs (501.5 mins)\n",
      "\n",
      "### Proteomic Features: 7.000000000000001% ###\n",
      "Proteomics n features: 7565\n",
      "('metagenomics', 'metaproteomics')\n"
     ]
    },
    {
     "name": "stderr",
     "output_type": "stream",
     "text": [
      " 14%|█▍        | 34104/236508 [10:02:26<59:35:23,  1.06s/it] \n"
     ]
    },
    {
     "ename": "KeyboardInterrupt",
     "evalue": "",
     "output_type": "error",
     "traceback": [
      "\u001b[0;31m---------------------------------------------------------------------------\u001b[0m",
      "\u001b[0;31mKeyboardInterrupt\u001b[0m                         Traceback (most recent call last)",
      "\u001b[0;32m<ipython-input-15-4df142943104>\u001b[0m in \u001b[0;36m<module>\u001b[0;34m\u001b[0m\n\u001b[1;32m     22\u001b[0m                                 \u001b[0mmetadata\u001b[0m\u001b[0;34m=\u001b[0m\u001b[0mq2\u001b[0m\u001b[0;34m.\u001b[0m\u001b[0mMetadata\u001b[0m\u001b[0;34m(\u001b[0m\u001b[0muc_metadata_shared_short\u001b[0m\u001b[0;34m)\u001b[0m\u001b[0;34m,\u001b[0m\u001b[0;34m\u001b[0m\u001b[0;34m\u001b[0m\u001b[0m\n\u001b[1;32m     23\u001b[0m                                 \u001b[0mtraining_column\u001b[0m\u001b[0;34m=\u001b[0m\u001b[0;34m'train_test_mmvec'\u001b[0m\u001b[0;34m,\u001b[0m\u001b[0;34m\u001b[0m\u001b[0;34m\u001b[0m\u001b[0m\n\u001b[0;32m---> 24\u001b[0;31m                                 min_feature_count=10)\n\u001b[0m\u001b[1;32m     25\u001b[0m         \u001b[0mtime_elapsed\u001b[0m \u001b[0;34m=\u001b[0m \u001b[0;34m(\u001b[0m\u001b[0mtime\u001b[0m\u001b[0;34m.\u001b[0m\u001b[0mperf_counter\u001b[0m\u001b[0;34m(\u001b[0m\u001b[0;34m)\u001b[0m \u001b[0;34m-\u001b[0m \u001b[0mtime_start\u001b[0m\u001b[0;34m)\u001b[0m\u001b[0;34m\u001b[0m\u001b[0;34m\u001b[0m\u001b[0m\n\u001b[1;32m     26\u001b[0m         \u001b[0mtime_factor\u001b[0m \u001b[0;34m+=\u001b[0m \u001b[0mtime_elapsed\u001b[0m\u001b[0;34m\u001b[0m\u001b[0;34m\u001b[0m\u001b[0m\n",
      "\u001b[0;32m</opt/anaconda3/envs/qiime2-2019.10/lib/python3.6/site-packages/decorator.py:decorator-gen-491>\u001b[0m in \u001b[0;36mpaired_omics\u001b[0;34m(microbes, metabolites, metadata, training_column, num_testing_examples, min_feature_count, epochs, batch_size, latent_dim, input_prior, output_prior, learning_rate, equalize_biplot, arm_the_gpu, summary_interval)\u001b[0m\n",
      "\u001b[0;32m/opt/anaconda3/envs/qiime2-2019.10/lib/python3.6/site-packages/qiime2/sdk/action.py\u001b[0m in \u001b[0;36mbound_callable\u001b[0;34m(*args, **kwargs)\u001b[0m\n\u001b[1;32m    238\u001b[0m                 \u001b[0;31m# Execute\u001b[0m\u001b[0;34m\u001b[0m\u001b[0;34m\u001b[0m\u001b[0;34m\u001b[0m\u001b[0m\n\u001b[1;32m    239\u001b[0m                 outputs = self._callable_executor_(scope, callable_args,\n\u001b[0;32m--> 240\u001b[0;31m                                                    output_types, provenance)\n\u001b[0m\u001b[1;32m    241\u001b[0m \u001b[0;34m\u001b[0m\u001b[0m\n\u001b[1;32m    242\u001b[0m                 \u001b[0;32mif\u001b[0m \u001b[0mlen\u001b[0m\u001b[0;34m(\u001b[0m\u001b[0moutputs\u001b[0m\u001b[0;34m)\u001b[0m \u001b[0;34m!=\u001b[0m \u001b[0mlen\u001b[0m\u001b[0;34m(\u001b[0m\u001b[0mself\u001b[0m\u001b[0;34m.\u001b[0m\u001b[0msignature\u001b[0m\u001b[0;34m.\u001b[0m\u001b[0moutputs\u001b[0m\u001b[0;34m)\u001b[0m\u001b[0;34m:\u001b[0m\u001b[0;34m\u001b[0m\u001b[0;34m\u001b[0m\u001b[0m\n",
      "\u001b[0;32m/opt/anaconda3/envs/qiime2-2019.10/lib/python3.6/site-packages/qiime2/sdk/action.py\u001b[0m in \u001b[0;36m_callable_executor_\u001b[0;34m(self, scope, view_args, output_types, provenance)\u001b[0m\n\u001b[1;32m    381\u001b[0m \u001b[0;34m\u001b[0m\u001b[0m\n\u001b[1;32m    382\u001b[0m     \u001b[0;32mdef\u001b[0m \u001b[0m_callable_executor_\u001b[0m\u001b[0;34m(\u001b[0m\u001b[0mself\u001b[0m\u001b[0;34m,\u001b[0m \u001b[0mscope\u001b[0m\u001b[0;34m,\u001b[0m \u001b[0mview_args\u001b[0m\u001b[0;34m,\u001b[0m \u001b[0moutput_types\u001b[0m\u001b[0;34m,\u001b[0m \u001b[0mprovenance\u001b[0m\u001b[0;34m)\u001b[0m\u001b[0;34m:\u001b[0m\u001b[0;34m\u001b[0m\u001b[0;34m\u001b[0m\u001b[0m\n\u001b[0;32m--> 383\u001b[0;31m         \u001b[0moutput_views\u001b[0m \u001b[0;34m=\u001b[0m \u001b[0mself\u001b[0m\u001b[0;34m.\u001b[0m\u001b[0m_callable\u001b[0m\u001b[0;34m(\u001b[0m\u001b[0;34m**\u001b[0m\u001b[0mview_args\u001b[0m\u001b[0;34m)\u001b[0m\u001b[0;34m\u001b[0m\u001b[0;34m\u001b[0m\u001b[0m\n\u001b[0m\u001b[1;32m    384\u001b[0m         \u001b[0moutput_views\u001b[0m \u001b[0;34m=\u001b[0m \u001b[0mtuplize\u001b[0m\u001b[0;34m(\u001b[0m\u001b[0moutput_views\u001b[0m\u001b[0;34m)\u001b[0m\u001b[0;34m\u001b[0m\u001b[0;34m\u001b[0m\u001b[0m\n\u001b[1;32m    385\u001b[0m \u001b[0;34m\u001b[0m\u001b[0m\n",
      "\u001b[0;32m/opt/anaconda3/envs/qiime2-2019.10/lib/python3.6/site-packages/mmvec/q2/_method.py\u001b[0m in \u001b[0;36mpaired_omics\u001b[0;34m(microbes, metabolites, metadata, training_column, num_testing_examples, min_feature_count, epochs, batch_size, latent_dim, input_prior, output_prior, learning_rate, equalize_biplot, arm_the_gpu, summary_interval)\u001b[0m\n\u001b[1;32m     66\u001b[0m               test_microbes_coo, test_metabolites_df.values)\n\u001b[1;32m     67\u001b[0m \u001b[0;34m\u001b[0m\u001b[0m\n\u001b[0;32m---> 68\u001b[0;31m         \u001b[0mloss\u001b[0m\u001b[0;34m,\u001b[0m \u001b[0mcv\u001b[0m \u001b[0;34m=\u001b[0m \u001b[0mmodel\u001b[0m\u001b[0;34m.\u001b[0m\u001b[0mfit\u001b[0m\u001b[0;34m(\u001b[0m\u001b[0mepoch\u001b[0m\u001b[0;34m=\u001b[0m\u001b[0mepochs\u001b[0m\u001b[0;34m,\u001b[0m \u001b[0msummary_interval\u001b[0m\u001b[0;34m=\u001b[0m\u001b[0msummary_interval\u001b[0m\u001b[0;34m)\u001b[0m\u001b[0;34m\u001b[0m\u001b[0;34m\u001b[0m\u001b[0m\n\u001b[0m\u001b[1;32m     69\u001b[0m         ranks = pd.DataFrame(model.ranks(), index=train_microbes_df.columns,\n\u001b[1;32m     70\u001b[0m                              columns=train_metabolites_df.columns)\n",
      "\u001b[0;32m/opt/anaconda3/envs/qiime2-2019.10/lib/python3.6/site-packages/mmvec/multimodal.py\u001b[0m in \u001b[0;36mfit\u001b[0;34m(self, epoch, summary_interval, checkpoint_interval, testX, testY)\u001b[0m\n\u001b[1;32m    249\u001b[0m                     [self.train, self.merged, self.log_loss, self.cv,\n\u001b[1;32m    250\u001b[0m                      \u001b[0mself\u001b[0m\u001b[0;34m.\u001b[0m\u001b[0mqUmain\u001b[0m\u001b[0;34m,\u001b[0m \u001b[0mself\u001b[0m\u001b[0;34m.\u001b[0m\u001b[0mqUbias\u001b[0m\u001b[0;34m,\u001b[0m\u001b[0;34m\u001b[0m\u001b[0;34m\u001b[0m\u001b[0m\n\u001b[0;32m--> 251\u001b[0;31m                      self.qVmain, self.qVbias]\n\u001b[0m\u001b[1;32m    252\u001b[0m                 )\n\u001b[1;32m    253\u001b[0m                 \u001b[0mtrain_\u001b[0m\u001b[0;34m,\u001b[0m \u001b[0msummary\u001b[0m\u001b[0;34m,\u001b[0m \u001b[0mloss\u001b[0m\u001b[0;34m,\u001b[0m \u001b[0mcv\u001b[0m\u001b[0;34m,\u001b[0m \u001b[0mrU\u001b[0m\u001b[0;34m,\u001b[0m \u001b[0mrUb\u001b[0m\u001b[0;34m,\u001b[0m \u001b[0mrV\u001b[0m\u001b[0;34m,\u001b[0m \u001b[0mrVb\u001b[0m \u001b[0;34m=\u001b[0m \u001b[0mres\u001b[0m\u001b[0;34m\u001b[0m\u001b[0;34m\u001b[0m\u001b[0m\n",
      "\u001b[0;32m/opt/anaconda3/envs/qiime2-2019.10/lib/python3.6/site-packages/tensorflow_core/python/client/session.py\u001b[0m in \u001b[0;36mrun\u001b[0;34m(self, fetches, feed_dict, options, run_metadata)\u001b[0m\n\u001b[1;32m    954\u001b[0m     \u001b[0;32mtry\u001b[0m\u001b[0;34m:\u001b[0m\u001b[0;34m\u001b[0m\u001b[0;34m\u001b[0m\u001b[0m\n\u001b[1;32m    955\u001b[0m       result = self._run(None, fetches, feed_dict, options_ptr,\n\u001b[0;32m--> 956\u001b[0;31m                          run_metadata_ptr)\n\u001b[0m\u001b[1;32m    957\u001b[0m       \u001b[0;32mif\u001b[0m \u001b[0mrun_metadata\u001b[0m\u001b[0;34m:\u001b[0m\u001b[0;34m\u001b[0m\u001b[0;34m\u001b[0m\u001b[0m\n\u001b[1;32m    958\u001b[0m         \u001b[0mproto_data\u001b[0m \u001b[0;34m=\u001b[0m \u001b[0mtf_session\u001b[0m\u001b[0;34m.\u001b[0m\u001b[0mTF_GetBuffer\u001b[0m\u001b[0;34m(\u001b[0m\u001b[0mrun_metadata_ptr\u001b[0m\u001b[0;34m)\u001b[0m\u001b[0;34m\u001b[0m\u001b[0;34m\u001b[0m\u001b[0m\n",
      "\u001b[0;32m/opt/anaconda3/envs/qiime2-2019.10/lib/python3.6/site-packages/tensorflow_core/python/client/session.py\u001b[0m in \u001b[0;36m_run\u001b[0;34m(self, handle, fetches, feed_dict, options, run_metadata)\u001b[0m\n\u001b[1;32m   1178\u001b[0m     \u001b[0;32mif\u001b[0m \u001b[0mfinal_fetches\u001b[0m \u001b[0;32mor\u001b[0m \u001b[0mfinal_targets\u001b[0m \u001b[0;32mor\u001b[0m \u001b[0;34m(\u001b[0m\u001b[0mhandle\u001b[0m \u001b[0;32mand\u001b[0m \u001b[0mfeed_dict_tensor\u001b[0m\u001b[0;34m)\u001b[0m\u001b[0;34m:\u001b[0m\u001b[0;34m\u001b[0m\u001b[0;34m\u001b[0m\u001b[0m\n\u001b[1;32m   1179\u001b[0m       results = self._do_run(handle, final_targets, final_fetches,\n\u001b[0;32m-> 1180\u001b[0;31m                              feed_dict_tensor, options, run_metadata)\n\u001b[0m\u001b[1;32m   1181\u001b[0m     \u001b[0;32melse\u001b[0m\u001b[0;34m:\u001b[0m\u001b[0;34m\u001b[0m\u001b[0;34m\u001b[0m\u001b[0m\n\u001b[1;32m   1182\u001b[0m       \u001b[0mresults\u001b[0m \u001b[0;34m=\u001b[0m \u001b[0;34m[\u001b[0m\u001b[0;34m]\u001b[0m\u001b[0;34m\u001b[0m\u001b[0;34m\u001b[0m\u001b[0m\n",
      "\u001b[0;32m/opt/anaconda3/envs/qiime2-2019.10/lib/python3.6/site-packages/tensorflow_core/python/client/session.py\u001b[0m in \u001b[0;36m_do_run\u001b[0;34m(self, handle, target_list, fetch_list, feed_dict, options, run_metadata)\u001b[0m\n\u001b[1;32m   1357\u001b[0m     \u001b[0;32mif\u001b[0m \u001b[0mhandle\u001b[0m \u001b[0;32mis\u001b[0m \u001b[0;32mNone\u001b[0m\u001b[0;34m:\u001b[0m\u001b[0;34m\u001b[0m\u001b[0;34m\u001b[0m\u001b[0m\n\u001b[1;32m   1358\u001b[0m       return self._do_call(_run_fn, feeds, fetches, targets, options,\n\u001b[0;32m-> 1359\u001b[0;31m                            run_metadata)\n\u001b[0m\u001b[1;32m   1360\u001b[0m     \u001b[0;32melse\u001b[0m\u001b[0;34m:\u001b[0m\u001b[0;34m\u001b[0m\u001b[0;34m\u001b[0m\u001b[0m\n\u001b[1;32m   1361\u001b[0m       \u001b[0;32mreturn\u001b[0m \u001b[0mself\u001b[0m\u001b[0;34m.\u001b[0m\u001b[0m_do_call\u001b[0m\u001b[0;34m(\u001b[0m\u001b[0m_prun_fn\u001b[0m\u001b[0;34m,\u001b[0m \u001b[0mhandle\u001b[0m\u001b[0;34m,\u001b[0m \u001b[0mfeeds\u001b[0m\u001b[0;34m,\u001b[0m \u001b[0mfetches\u001b[0m\u001b[0;34m)\u001b[0m\u001b[0;34m\u001b[0m\u001b[0;34m\u001b[0m\u001b[0m\n",
      "\u001b[0;32m/opt/anaconda3/envs/qiime2-2019.10/lib/python3.6/site-packages/tensorflow_core/python/client/session.py\u001b[0m in \u001b[0;36m_do_call\u001b[0;34m(self, fn, *args)\u001b[0m\n\u001b[1;32m   1363\u001b[0m   \u001b[0;32mdef\u001b[0m \u001b[0m_do_call\u001b[0m\u001b[0;34m(\u001b[0m\u001b[0mself\u001b[0m\u001b[0;34m,\u001b[0m \u001b[0mfn\u001b[0m\u001b[0;34m,\u001b[0m \u001b[0;34m*\u001b[0m\u001b[0margs\u001b[0m\u001b[0;34m)\u001b[0m\u001b[0;34m:\u001b[0m\u001b[0;34m\u001b[0m\u001b[0;34m\u001b[0m\u001b[0m\n\u001b[1;32m   1364\u001b[0m     \u001b[0;32mtry\u001b[0m\u001b[0;34m:\u001b[0m\u001b[0;34m\u001b[0m\u001b[0;34m\u001b[0m\u001b[0m\n\u001b[0;32m-> 1365\u001b[0;31m       \u001b[0;32mreturn\u001b[0m \u001b[0mfn\u001b[0m\u001b[0;34m(\u001b[0m\u001b[0;34m*\u001b[0m\u001b[0margs\u001b[0m\u001b[0;34m)\u001b[0m\u001b[0;34m\u001b[0m\u001b[0;34m\u001b[0m\u001b[0m\n\u001b[0m\u001b[1;32m   1366\u001b[0m     \u001b[0;32mexcept\u001b[0m \u001b[0merrors\u001b[0m\u001b[0;34m.\u001b[0m\u001b[0mOpError\u001b[0m \u001b[0;32mas\u001b[0m \u001b[0me\u001b[0m\u001b[0;34m:\u001b[0m\u001b[0;34m\u001b[0m\u001b[0;34m\u001b[0m\u001b[0m\n\u001b[1;32m   1367\u001b[0m       \u001b[0mmessage\u001b[0m \u001b[0;34m=\u001b[0m \u001b[0mcompat\u001b[0m\u001b[0;34m.\u001b[0m\u001b[0mas_text\u001b[0m\u001b[0;34m(\u001b[0m\u001b[0me\u001b[0m\u001b[0;34m.\u001b[0m\u001b[0mmessage\u001b[0m\u001b[0;34m)\u001b[0m\u001b[0;34m\u001b[0m\u001b[0;34m\u001b[0m\u001b[0m\n",
      "\u001b[0;32m/opt/anaconda3/envs/qiime2-2019.10/lib/python3.6/site-packages/tensorflow_core/python/client/session.py\u001b[0m in \u001b[0;36m_run_fn\u001b[0;34m(feed_dict, fetch_list, target_list, options, run_metadata)\u001b[0m\n\u001b[1;32m   1348\u001b[0m       \u001b[0mself\u001b[0m\u001b[0;34m.\u001b[0m\u001b[0m_extend_graph\u001b[0m\u001b[0;34m(\u001b[0m\u001b[0;34m)\u001b[0m\u001b[0;34m\u001b[0m\u001b[0;34m\u001b[0m\u001b[0m\n\u001b[1;32m   1349\u001b[0m       return self._call_tf_sessionrun(options, feed_dict, fetch_list,\n\u001b[0;32m-> 1350\u001b[0;31m                                       target_list, run_metadata)\n\u001b[0m\u001b[1;32m   1351\u001b[0m \u001b[0;34m\u001b[0m\u001b[0m\n\u001b[1;32m   1352\u001b[0m     \u001b[0;32mdef\u001b[0m \u001b[0m_prun_fn\u001b[0m\u001b[0;34m(\u001b[0m\u001b[0mhandle\u001b[0m\u001b[0;34m,\u001b[0m \u001b[0mfeed_dict\u001b[0m\u001b[0;34m,\u001b[0m \u001b[0mfetch_list\u001b[0m\u001b[0;34m)\u001b[0m\u001b[0;34m:\u001b[0m\u001b[0;34m\u001b[0m\u001b[0;34m\u001b[0m\u001b[0m\n",
      "\u001b[0;32m/opt/anaconda3/envs/qiime2-2019.10/lib/python3.6/site-packages/tensorflow_core/python/client/session.py\u001b[0m in \u001b[0;36m_call_tf_sessionrun\u001b[0;34m(self, options, feed_dict, fetch_list, target_list, run_metadata)\u001b[0m\n\u001b[1;32m   1441\u001b[0m     return tf_session.TF_SessionRun_wrapper(self._session, options, feed_dict,\n\u001b[1;32m   1442\u001b[0m                                             \u001b[0mfetch_list\u001b[0m\u001b[0;34m,\u001b[0m \u001b[0mtarget_list\u001b[0m\u001b[0;34m,\u001b[0m\u001b[0;34m\u001b[0m\u001b[0;34m\u001b[0m\u001b[0m\n\u001b[0;32m-> 1443\u001b[0;31m                                             run_metadata)\n\u001b[0m\u001b[1;32m   1444\u001b[0m \u001b[0;34m\u001b[0m\u001b[0m\n\u001b[1;32m   1445\u001b[0m   \u001b[0;32mdef\u001b[0m \u001b[0m_call_tf_sessionprun\u001b[0m\u001b[0;34m(\u001b[0m\u001b[0mself\u001b[0m\u001b[0;34m,\u001b[0m \u001b[0mhandle\u001b[0m\u001b[0;34m,\u001b[0m \u001b[0mfeed_dict\u001b[0m\u001b[0;34m,\u001b[0m \u001b[0mfetch_list\u001b[0m\u001b[0;34m)\u001b[0m\u001b[0;34m:\u001b[0m\u001b[0;34m\u001b[0m\u001b[0;34m\u001b[0m\u001b[0m\n",
      "\u001b[0;31mKeyboardInterrupt\u001b[0m: "
     ]
    }
   ],
   "source": [
    "for factor in [0.06, 0.07, 0.08]:#[0.05]:\n",
    "    print('\\n### Proteomic Features: {}% ###'.format(factor*100))\n",
    "    prot_table = proteomics_sub[factor]\n",
    "    table_to_use = uc_tables_shared.copy()\n",
    "    table_to_use['metaproteomics'] = prot_table\n",
    "    print('Proteomics n features: {}'.format(table_to_use['metaproteomics'].shape[0]))\n",
    "\n",
    "    time_factor = 0\n",
    "    for pair in pairs_prot_sub:\n",
    "        print(pair)\n",
    "        \n",
    "        #get tables and set to correct format\n",
    "        t1 = table_to_use[pair[0]]\n",
    "        t2 = table_to_use[pair[1]]\n",
    "        t1_q2 = q2.Artifact.import_data('FeatureTable[Frequency]', t1)\n",
    "        t2_q2 = q2.Artifact.import_data('FeatureTable[Frequency]', t2)\n",
    "\n",
    "        #run and time mmvec\n",
    "        time_start = time.perf_counter()\n",
    "        mmvec_res = paired_omics(t1_q2, t2_q2, \n",
    "                                summary_interval=1,\n",
    "                                metadata=q2.Metadata(uc_metadata_shared_short),\n",
    "                                training_column='train_test_mmvec',\n",
    "                                min_feature_count=10)\n",
    "        time_elapsed = (time.perf_counter() - time_start)\n",
    "        time_factor += time_elapsed\n",
    "        print('Time elapsed:  {} secs ({} mins)'.format(round(time_elapsed, 2),\n",
    "                                                        round(time_elapsed/60, 2)))\n",
    "\n",
    "        # update pair name before saving\n",
    "        if pair[0] == 'metaproteomics':\n",
    "            pair = ('metaproteomics{}'.format(factor), pair[1])\n",
    "        if pair[1] == 'metaproteomics':\n",
    "            pair = (pair[0], 'metaproteomics{}'.format(factor))\n",
    "        #save output\n",
    "        runtime[\"{}-{}_only\".format(pair[0], pair[1])] = time_elapsed\n",
    "        with open(\"../results/mmvec-runtime-uc.json\", \"w\") as outfile: \n",
    "            json.dump(runtime, outfile)\n",
    "    \n",
    "    runtime_total[factor] = time_factor\n",
    "    print('Total time elapsed: {} secs ({} mins)'.format(round(time_factor, 2),\n",
    "                                                         round(time_factor/60, 2)))\n",
    "    \n",
    "    #save mmvec results as json/pickle\n",
    "    with open(\"../results/mmvec-runtime-total-uc.json\", \"w\") as outfile: \n",
    "       json.dump(runtime_total, outfile)"
   ]
  },
  {
   "cell_type": "code",
   "execution_count": 35,
   "metadata": {},
   "outputs": [
    {
     "name": "stdout",
     "output_type": "stream",
     "text": [
      "\n",
      "### Proteomic Features: 5.0% ###\n",
      "Proteomics n features: 5404\n",
      "('metagenomics', 'metaproteomics')\n"
     ]
    },
    {
     "name": "stderr",
     "output_type": "stream",
     "text": [
      "100%|██████████| 236508/236508 [1:33:10<00:00, 42.30it/s]  \n"
     ]
    },
    {
     "name": "stdout",
     "output_type": "stream",
     "text": [
      "Time elapsed:  5627.84\n",
      "\n",
      "('metabolomics', 'metaproteomics')\n"
     ]
    },
    {
     "name": "stderr",
     "output_type": "stream",
     "text": [
      "100%|██████████| 80740/80740 [07:12<00:00, 186.68it/s]\n"
     ]
    },
    {
     "name": "stdout",
     "output_type": "stream",
     "text": [
      "Time elapsed:  457.66\n",
      "\n",
      "('metaproteomics', 'metabolomics')\n"
     ]
    },
    {
     "name": "stderr",
     "output_type": "stream",
     "text": [
      "100%|██████████| 447748/447748 [53:16<00:00, 140.09it/s] \n"
     ]
    },
    {
     "name": "stdout",
     "output_type": "stream",
     "text": [
      "Time elapsed:  3228.77\n",
      "\n",
      "Total time elapsed: 9314.27 secs (155.24 mins)\n",
      "\n",
      "### Proteomic Features: 10.0% ###\n",
      "Proteomics n features: 10808\n",
      "('metagenomics', 'metaproteomics')\n"
     ]
    },
    {
     "name": "stderr",
     "output_type": "stream",
     "text": [
      "  4%|▍         | 9208/236508 [4:18:45<106:27:20,  1.69s/it]\n"
     ]
    },
    {
     "ename": "KeyboardInterrupt",
     "evalue": "",
     "output_type": "error",
     "traceback": [
      "\u001b[0;31m---------------------------------------------------------------------------\u001b[0m",
      "\u001b[0;31mKeyboardInterrupt\u001b[0m                         Traceback (most recent call last)",
      "\u001b[0;32m<ipython-input-35-94242a36fca5>\u001b[0m in \u001b[0;36m<module>\u001b[0;34m\u001b[0m\n\u001b[1;32m     24\u001b[0m                                 \u001b[0mmetadata\u001b[0m\u001b[0;34m=\u001b[0m\u001b[0mq2\u001b[0m\u001b[0;34m.\u001b[0m\u001b[0mMetadata\u001b[0m\u001b[0;34m(\u001b[0m\u001b[0muc_metadata_shared_short\u001b[0m\u001b[0;34m)\u001b[0m\u001b[0;34m,\u001b[0m\u001b[0;34m\u001b[0m\u001b[0;34m\u001b[0m\u001b[0m\n\u001b[1;32m     25\u001b[0m                                 \u001b[0mtraining_column\u001b[0m\u001b[0;34m=\u001b[0m\u001b[0;34m'train_test_mmvec'\u001b[0m\u001b[0;34m,\u001b[0m\u001b[0;34m\u001b[0m\u001b[0;34m\u001b[0m\u001b[0m\n\u001b[0;32m---> 26\u001b[0;31m                                 min_feature_count=10)\n\u001b[0m\u001b[1;32m     27\u001b[0m         \u001b[0mtime_elapsed\u001b[0m \u001b[0;34m=\u001b[0m \u001b[0;34m(\u001b[0m\u001b[0mtime\u001b[0m\u001b[0;34m.\u001b[0m\u001b[0mperf_counter\u001b[0m\u001b[0;34m(\u001b[0m\u001b[0;34m)\u001b[0m \u001b[0;34m-\u001b[0m \u001b[0mtime_start\u001b[0m\u001b[0;34m)\u001b[0m\u001b[0;34m\u001b[0m\u001b[0;34m\u001b[0m\u001b[0m\n\u001b[1;32m     28\u001b[0m         \u001b[0mtime_factor\u001b[0m \u001b[0;34m+=\u001b[0m \u001b[0mtime_elapsed\u001b[0m\u001b[0;34m\u001b[0m\u001b[0;34m\u001b[0m\u001b[0m\n",
      "\u001b[0;32m</opt/anaconda3/envs/qiime2-2019.10/lib/python3.6/site-packages/decorator.py:decorator-gen-491>\u001b[0m in \u001b[0;36mpaired_omics\u001b[0;34m(microbes, metabolites, metadata, training_column, num_testing_examples, min_feature_count, epochs, batch_size, latent_dim, input_prior, output_prior, learning_rate, equalize_biplot, arm_the_gpu, summary_interval)\u001b[0m\n",
      "\u001b[0;32m/opt/anaconda3/envs/qiime2-2019.10/lib/python3.6/site-packages/qiime2/sdk/action.py\u001b[0m in \u001b[0;36mbound_callable\u001b[0;34m(*args, **kwargs)\u001b[0m\n\u001b[1;32m    238\u001b[0m                 \u001b[0;31m# Execute\u001b[0m\u001b[0;34m\u001b[0m\u001b[0;34m\u001b[0m\u001b[0;34m\u001b[0m\u001b[0m\n\u001b[1;32m    239\u001b[0m                 outputs = self._callable_executor_(scope, callable_args,\n\u001b[0;32m--> 240\u001b[0;31m                                                    output_types, provenance)\n\u001b[0m\u001b[1;32m    241\u001b[0m \u001b[0;34m\u001b[0m\u001b[0m\n\u001b[1;32m    242\u001b[0m                 \u001b[0;32mif\u001b[0m \u001b[0mlen\u001b[0m\u001b[0;34m(\u001b[0m\u001b[0moutputs\u001b[0m\u001b[0;34m)\u001b[0m \u001b[0;34m!=\u001b[0m \u001b[0mlen\u001b[0m\u001b[0;34m(\u001b[0m\u001b[0mself\u001b[0m\u001b[0;34m.\u001b[0m\u001b[0msignature\u001b[0m\u001b[0;34m.\u001b[0m\u001b[0moutputs\u001b[0m\u001b[0;34m)\u001b[0m\u001b[0;34m:\u001b[0m\u001b[0;34m\u001b[0m\u001b[0;34m\u001b[0m\u001b[0m\n",
      "\u001b[0;32m/opt/anaconda3/envs/qiime2-2019.10/lib/python3.6/site-packages/qiime2/sdk/action.py\u001b[0m in \u001b[0;36m_callable_executor_\u001b[0;34m(self, scope, view_args, output_types, provenance)\u001b[0m\n\u001b[1;32m    381\u001b[0m \u001b[0;34m\u001b[0m\u001b[0m\n\u001b[1;32m    382\u001b[0m     \u001b[0;32mdef\u001b[0m \u001b[0m_callable_executor_\u001b[0m\u001b[0;34m(\u001b[0m\u001b[0mself\u001b[0m\u001b[0;34m,\u001b[0m \u001b[0mscope\u001b[0m\u001b[0;34m,\u001b[0m \u001b[0mview_args\u001b[0m\u001b[0;34m,\u001b[0m \u001b[0moutput_types\u001b[0m\u001b[0;34m,\u001b[0m \u001b[0mprovenance\u001b[0m\u001b[0;34m)\u001b[0m\u001b[0;34m:\u001b[0m\u001b[0;34m\u001b[0m\u001b[0;34m\u001b[0m\u001b[0m\n\u001b[0;32m--> 383\u001b[0;31m         \u001b[0moutput_views\u001b[0m \u001b[0;34m=\u001b[0m \u001b[0mself\u001b[0m\u001b[0;34m.\u001b[0m\u001b[0m_callable\u001b[0m\u001b[0;34m(\u001b[0m\u001b[0;34m**\u001b[0m\u001b[0mview_args\u001b[0m\u001b[0;34m)\u001b[0m\u001b[0;34m\u001b[0m\u001b[0;34m\u001b[0m\u001b[0m\n\u001b[0m\u001b[1;32m    384\u001b[0m         \u001b[0moutput_views\u001b[0m \u001b[0;34m=\u001b[0m \u001b[0mtuplize\u001b[0m\u001b[0;34m(\u001b[0m\u001b[0moutput_views\u001b[0m\u001b[0;34m)\u001b[0m\u001b[0;34m\u001b[0m\u001b[0;34m\u001b[0m\u001b[0m\n\u001b[1;32m    385\u001b[0m \u001b[0;34m\u001b[0m\u001b[0m\n",
      "\u001b[0;32m/opt/anaconda3/envs/qiime2-2019.10/lib/python3.6/site-packages/mmvec/q2/_method.py\u001b[0m in \u001b[0;36mpaired_omics\u001b[0;34m(microbes, metabolites, metadata, training_column, num_testing_examples, min_feature_count, epochs, batch_size, latent_dim, input_prior, output_prior, learning_rate, equalize_biplot, arm_the_gpu, summary_interval)\u001b[0m\n\u001b[1;32m     66\u001b[0m               test_microbes_coo, test_metabolites_df.values)\n\u001b[1;32m     67\u001b[0m \u001b[0;34m\u001b[0m\u001b[0m\n\u001b[0;32m---> 68\u001b[0;31m         \u001b[0mloss\u001b[0m\u001b[0;34m,\u001b[0m \u001b[0mcv\u001b[0m \u001b[0;34m=\u001b[0m \u001b[0mmodel\u001b[0m\u001b[0;34m.\u001b[0m\u001b[0mfit\u001b[0m\u001b[0;34m(\u001b[0m\u001b[0mepoch\u001b[0m\u001b[0;34m=\u001b[0m\u001b[0mepochs\u001b[0m\u001b[0;34m,\u001b[0m \u001b[0msummary_interval\u001b[0m\u001b[0;34m=\u001b[0m\u001b[0msummary_interval\u001b[0m\u001b[0;34m)\u001b[0m\u001b[0;34m\u001b[0m\u001b[0;34m\u001b[0m\u001b[0m\n\u001b[0m\u001b[1;32m     69\u001b[0m         ranks = pd.DataFrame(model.ranks(), index=train_microbes_df.columns,\n\u001b[1;32m     70\u001b[0m                              columns=train_metabolites_df.columns)\n",
      "\u001b[0;32m/opt/anaconda3/envs/qiime2-2019.10/lib/python3.6/site-packages/mmvec/multimodal.py\u001b[0m in \u001b[0;36mfit\u001b[0;34m(self, epoch, summary_interval, checkpoint_interval, testX, testY)\u001b[0m\n\u001b[1;32m    249\u001b[0m                     [self.train, self.merged, self.log_loss, self.cv,\n\u001b[1;32m    250\u001b[0m                      \u001b[0mself\u001b[0m\u001b[0;34m.\u001b[0m\u001b[0mqUmain\u001b[0m\u001b[0;34m,\u001b[0m \u001b[0mself\u001b[0m\u001b[0;34m.\u001b[0m\u001b[0mqUbias\u001b[0m\u001b[0;34m,\u001b[0m\u001b[0;34m\u001b[0m\u001b[0;34m\u001b[0m\u001b[0m\n\u001b[0;32m--> 251\u001b[0;31m                      self.qVmain, self.qVbias]\n\u001b[0m\u001b[1;32m    252\u001b[0m                 )\n\u001b[1;32m    253\u001b[0m                 \u001b[0mtrain_\u001b[0m\u001b[0;34m,\u001b[0m \u001b[0msummary\u001b[0m\u001b[0;34m,\u001b[0m \u001b[0mloss\u001b[0m\u001b[0;34m,\u001b[0m \u001b[0mcv\u001b[0m\u001b[0;34m,\u001b[0m \u001b[0mrU\u001b[0m\u001b[0;34m,\u001b[0m \u001b[0mrUb\u001b[0m\u001b[0;34m,\u001b[0m \u001b[0mrV\u001b[0m\u001b[0;34m,\u001b[0m \u001b[0mrVb\u001b[0m \u001b[0;34m=\u001b[0m \u001b[0mres\u001b[0m\u001b[0;34m\u001b[0m\u001b[0;34m\u001b[0m\u001b[0m\n",
      "\u001b[0;32m/opt/anaconda3/envs/qiime2-2019.10/lib/python3.6/site-packages/tensorflow_core/python/client/session.py\u001b[0m in \u001b[0;36mrun\u001b[0;34m(self, fetches, feed_dict, options, run_metadata)\u001b[0m\n\u001b[1;32m    954\u001b[0m     \u001b[0;32mtry\u001b[0m\u001b[0;34m:\u001b[0m\u001b[0;34m\u001b[0m\u001b[0;34m\u001b[0m\u001b[0m\n\u001b[1;32m    955\u001b[0m       result = self._run(None, fetches, feed_dict, options_ptr,\n\u001b[0;32m--> 956\u001b[0;31m                          run_metadata_ptr)\n\u001b[0m\u001b[1;32m    957\u001b[0m       \u001b[0;32mif\u001b[0m \u001b[0mrun_metadata\u001b[0m\u001b[0;34m:\u001b[0m\u001b[0;34m\u001b[0m\u001b[0;34m\u001b[0m\u001b[0m\n\u001b[1;32m    958\u001b[0m         \u001b[0mproto_data\u001b[0m \u001b[0;34m=\u001b[0m \u001b[0mtf_session\u001b[0m\u001b[0;34m.\u001b[0m\u001b[0mTF_GetBuffer\u001b[0m\u001b[0;34m(\u001b[0m\u001b[0mrun_metadata_ptr\u001b[0m\u001b[0;34m)\u001b[0m\u001b[0;34m\u001b[0m\u001b[0;34m\u001b[0m\u001b[0m\n",
      "\u001b[0;32m/opt/anaconda3/envs/qiime2-2019.10/lib/python3.6/site-packages/tensorflow_core/python/client/session.py\u001b[0m in \u001b[0;36m_run\u001b[0;34m(self, handle, fetches, feed_dict, options, run_metadata)\u001b[0m\n\u001b[1;32m   1178\u001b[0m     \u001b[0;32mif\u001b[0m \u001b[0mfinal_fetches\u001b[0m \u001b[0;32mor\u001b[0m \u001b[0mfinal_targets\u001b[0m \u001b[0;32mor\u001b[0m \u001b[0;34m(\u001b[0m\u001b[0mhandle\u001b[0m \u001b[0;32mand\u001b[0m \u001b[0mfeed_dict_tensor\u001b[0m\u001b[0;34m)\u001b[0m\u001b[0;34m:\u001b[0m\u001b[0;34m\u001b[0m\u001b[0;34m\u001b[0m\u001b[0m\n\u001b[1;32m   1179\u001b[0m       results = self._do_run(handle, final_targets, final_fetches,\n\u001b[0;32m-> 1180\u001b[0;31m                              feed_dict_tensor, options, run_metadata)\n\u001b[0m\u001b[1;32m   1181\u001b[0m     \u001b[0;32melse\u001b[0m\u001b[0;34m:\u001b[0m\u001b[0;34m\u001b[0m\u001b[0;34m\u001b[0m\u001b[0m\n\u001b[1;32m   1182\u001b[0m       \u001b[0mresults\u001b[0m \u001b[0;34m=\u001b[0m \u001b[0;34m[\u001b[0m\u001b[0;34m]\u001b[0m\u001b[0;34m\u001b[0m\u001b[0;34m\u001b[0m\u001b[0m\n",
      "\u001b[0;32m/opt/anaconda3/envs/qiime2-2019.10/lib/python3.6/site-packages/tensorflow_core/python/client/session.py\u001b[0m in \u001b[0;36m_do_run\u001b[0;34m(self, handle, target_list, fetch_list, feed_dict, options, run_metadata)\u001b[0m\n\u001b[1;32m   1357\u001b[0m     \u001b[0;32mif\u001b[0m \u001b[0mhandle\u001b[0m \u001b[0;32mis\u001b[0m \u001b[0;32mNone\u001b[0m\u001b[0;34m:\u001b[0m\u001b[0;34m\u001b[0m\u001b[0;34m\u001b[0m\u001b[0m\n\u001b[1;32m   1358\u001b[0m       return self._do_call(_run_fn, feeds, fetches, targets, options,\n\u001b[0;32m-> 1359\u001b[0;31m                            run_metadata)\n\u001b[0m\u001b[1;32m   1360\u001b[0m     \u001b[0;32melse\u001b[0m\u001b[0;34m:\u001b[0m\u001b[0;34m\u001b[0m\u001b[0;34m\u001b[0m\u001b[0m\n\u001b[1;32m   1361\u001b[0m       \u001b[0;32mreturn\u001b[0m \u001b[0mself\u001b[0m\u001b[0;34m.\u001b[0m\u001b[0m_do_call\u001b[0m\u001b[0;34m(\u001b[0m\u001b[0m_prun_fn\u001b[0m\u001b[0;34m,\u001b[0m \u001b[0mhandle\u001b[0m\u001b[0;34m,\u001b[0m \u001b[0mfeeds\u001b[0m\u001b[0;34m,\u001b[0m \u001b[0mfetches\u001b[0m\u001b[0;34m)\u001b[0m\u001b[0;34m\u001b[0m\u001b[0;34m\u001b[0m\u001b[0m\n",
      "\u001b[0;32m/opt/anaconda3/envs/qiime2-2019.10/lib/python3.6/site-packages/tensorflow_core/python/client/session.py\u001b[0m in \u001b[0;36m_do_call\u001b[0;34m(self, fn, *args)\u001b[0m\n\u001b[1;32m   1363\u001b[0m   \u001b[0;32mdef\u001b[0m \u001b[0m_do_call\u001b[0m\u001b[0;34m(\u001b[0m\u001b[0mself\u001b[0m\u001b[0;34m,\u001b[0m \u001b[0mfn\u001b[0m\u001b[0;34m,\u001b[0m \u001b[0;34m*\u001b[0m\u001b[0margs\u001b[0m\u001b[0;34m)\u001b[0m\u001b[0;34m:\u001b[0m\u001b[0;34m\u001b[0m\u001b[0;34m\u001b[0m\u001b[0m\n\u001b[1;32m   1364\u001b[0m     \u001b[0;32mtry\u001b[0m\u001b[0;34m:\u001b[0m\u001b[0;34m\u001b[0m\u001b[0;34m\u001b[0m\u001b[0m\n\u001b[0;32m-> 1365\u001b[0;31m       \u001b[0;32mreturn\u001b[0m \u001b[0mfn\u001b[0m\u001b[0;34m(\u001b[0m\u001b[0;34m*\u001b[0m\u001b[0margs\u001b[0m\u001b[0;34m)\u001b[0m\u001b[0;34m\u001b[0m\u001b[0;34m\u001b[0m\u001b[0m\n\u001b[0m\u001b[1;32m   1366\u001b[0m     \u001b[0;32mexcept\u001b[0m \u001b[0merrors\u001b[0m\u001b[0;34m.\u001b[0m\u001b[0mOpError\u001b[0m \u001b[0;32mas\u001b[0m \u001b[0me\u001b[0m\u001b[0;34m:\u001b[0m\u001b[0;34m\u001b[0m\u001b[0;34m\u001b[0m\u001b[0m\n\u001b[1;32m   1367\u001b[0m       \u001b[0mmessage\u001b[0m \u001b[0;34m=\u001b[0m \u001b[0mcompat\u001b[0m\u001b[0;34m.\u001b[0m\u001b[0mas_text\u001b[0m\u001b[0;34m(\u001b[0m\u001b[0me\u001b[0m\u001b[0;34m.\u001b[0m\u001b[0mmessage\u001b[0m\u001b[0;34m)\u001b[0m\u001b[0;34m\u001b[0m\u001b[0;34m\u001b[0m\u001b[0m\n",
      "\u001b[0;32m/opt/anaconda3/envs/qiime2-2019.10/lib/python3.6/site-packages/tensorflow_core/python/client/session.py\u001b[0m in \u001b[0;36m_run_fn\u001b[0;34m(feed_dict, fetch_list, target_list, options, run_metadata)\u001b[0m\n\u001b[1;32m   1348\u001b[0m       \u001b[0mself\u001b[0m\u001b[0;34m.\u001b[0m\u001b[0m_extend_graph\u001b[0m\u001b[0;34m(\u001b[0m\u001b[0;34m)\u001b[0m\u001b[0;34m\u001b[0m\u001b[0;34m\u001b[0m\u001b[0m\n\u001b[1;32m   1349\u001b[0m       return self._call_tf_sessionrun(options, feed_dict, fetch_list,\n\u001b[0;32m-> 1350\u001b[0;31m                                       target_list, run_metadata)\n\u001b[0m\u001b[1;32m   1351\u001b[0m \u001b[0;34m\u001b[0m\u001b[0m\n\u001b[1;32m   1352\u001b[0m     \u001b[0;32mdef\u001b[0m \u001b[0m_prun_fn\u001b[0m\u001b[0;34m(\u001b[0m\u001b[0mhandle\u001b[0m\u001b[0;34m,\u001b[0m \u001b[0mfeed_dict\u001b[0m\u001b[0;34m,\u001b[0m \u001b[0mfetch_list\u001b[0m\u001b[0;34m)\u001b[0m\u001b[0;34m:\u001b[0m\u001b[0;34m\u001b[0m\u001b[0;34m\u001b[0m\u001b[0m\n",
      "\u001b[0;32m/opt/anaconda3/envs/qiime2-2019.10/lib/python3.6/site-packages/tensorflow_core/python/client/session.py\u001b[0m in \u001b[0;36m_call_tf_sessionrun\u001b[0;34m(self, options, feed_dict, fetch_list, target_list, run_metadata)\u001b[0m\n\u001b[1;32m   1441\u001b[0m     return tf_session.TF_SessionRun_wrapper(self._session, options, feed_dict,\n\u001b[1;32m   1442\u001b[0m                                             \u001b[0mfetch_list\u001b[0m\u001b[0;34m,\u001b[0m \u001b[0mtarget_list\u001b[0m\u001b[0;34m,\u001b[0m\u001b[0;34m\u001b[0m\u001b[0;34m\u001b[0m\u001b[0m\n\u001b[0;32m-> 1443\u001b[0;31m                                             run_metadata)\n\u001b[0m\u001b[1;32m   1444\u001b[0m \u001b[0;34m\u001b[0m\u001b[0m\n\u001b[1;32m   1445\u001b[0m   \u001b[0;32mdef\u001b[0m \u001b[0m_call_tf_sessionprun\u001b[0m\u001b[0;34m(\u001b[0m\u001b[0mself\u001b[0m\u001b[0;34m,\u001b[0m \u001b[0mhandle\u001b[0m\u001b[0;34m,\u001b[0m \u001b[0mfeed_dict\u001b[0m\u001b[0;34m,\u001b[0m \u001b[0mfetch_list\u001b[0m\u001b[0;34m)\u001b[0m\u001b[0;34m:\u001b[0m\u001b[0;34m\u001b[0m\u001b[0;34m\u001b[0m\u001b[0m\n",
      "\u001b[0;31mKeyboardInterrupt\u001b[0m: "
     ]
    }
   ],
   "source": [
    "#ref: https://github.com/biocore/mmvec/blob/88ca33b408a85b6bf90fae06982936247b860272/mmvec/q2/_method.py#L14\n",
    "\n",
    "for factor in [0.05, 0.1, 0.15]:\n",
    "    print('\\n### Proteomic Features: {}% ###'.format(factor*100))\n",
    "    prot_table = proteomics_sub[factor]\n",
    "    table_to_use = uc_tables_shared.copy()\n",
    "    table_to_use['metaproteomics'] = prot_table\n",
    "    print('Proteomics n features: {}'.format(table_to_use['metaproteomics'].shape[0]))\n",
    "\n",
    "    time_factor = 0\n",
    "    for pair in pairs_prot_sub:\n",
    "        print(pair)\n",
    "        \n",
    "        #get tables and set to correct format\n",
    "        t1 = table_to_use[pair[0]]\n",
    "        t2 = table_to_use[pair[1]]\n",
    "        t1_q2 = q2.Artifact.import_data('FeatureTable[Frequency]', t1)\n",
    "        t2_q2 = q2.Artifact.import_data('FeatureTable[Frequency]', t2)\n",
    "\n",
    "        #run and time mmvec\n",
    "        time_start = time.perf_counter()\n",
    "        mmvec_res = paired_omics(t1_q2, t2_q2, \n",
    "                                summary_interval=1,\n",
    "                                metadata=q2.Metadata(uc_metadata_shared_short),\n",
    "                                training_column='train_test_mmvec',\n",
    "                                min_feature_count=10)\n",
    "        time_elapsed = (time.perf_counter() - time_start)\n",
    "        time_factor += time_elapsed\n",
    "        print('Time elapsed: ', round(time_elapsed,2))\n",
    "        print()\n",
    "\n",
    "        # update pair name before saving\n",
    "        if pair[0] == 'metaproteomics':\n",
    "            pair = ('metaproteomics{}'.format(factor), pair[1])\n",
    "        if pair[1] == 'metaproteomics':\n",
    "            pair = (pair[0], 'metaproteomics{}'.format(factor))\n",
    "        #save output\n",
    "        runtime[\"{}-{}\".format(pair[0], pair[1])] = time_elapsed\n",
    "        with open(\"../results/mmvec-runtime-uc.json\", \"w\") as outfile: \n",
    "            json.dump(runtime, outfile)\n",
    "    \n",
    "    runtime_total[factor] = time_factor\n",
    "    print('Total time elapsed: {} secs ({} mins)'.format(round(time_factor, 2),\n",
    "                                                         round(time_factor/60, 2)))\n",
    "    \n",
    "    #save mmvec results as json/pickle\n",
    "    with open(\"../results/mmvec-runtime-total-uc.json\", \"w\") as outfile: \n",
    "        json.dump(runtime_total, outfile)\n",
    "    "
   ]
  },
  {
   "cell_type": "markdown",
   "metadata": {},
   "source": [
    "### Add runtimes"
   ]
  },
  {
   "cell_type": "code",
   "execution_count": 16,
   "metadata": {},
   "outputs": [],
   "source": [
    "#load mmvec results\n",
    "with open(\"../results/mmvec-runtime-total-uc.json\", \"r\") as infile:\n",
    "    runtime_total = json.load(infile)\n",
    "\n",
    "with open(\"../results/mmvec-runtime-uc.json\", \"r\") as infile:\n",
    "    runtime = json.load(infile)"
   ]
  },
  {
   "cell_type": "code",
   "execution_count": 17,
   "metadata": {},
   "outputs": [
    {
     "data": {
      "text/plain": [
       "{'0': 3035.739472684014,\n",
       " '0.01': 4827.727399383017,\n",
       " '0.03': 12523.729009745017,\n",
       " '0.05': 372350.0076423789,\n",
       " '0.04': 28793.750846701034}"
      ]
     },
     "execution_count": 17,
     "metadata": {},
     "output_type": "execute_result"
    }
   ],
   "source": [
    "runtime_total"
   ]
  },
  {
   "cell_type": "code",
   "execution_count": 25,
   "metadata": {},
   "outputs": [
    {
     "data": {
      "text/plain": [
       "{'metagenomics-metagenomics': 1563.6010937170067,\n",
       " 'metabolomics-metabolomics': 179.47512698400533,\n",
       " 'metagenomics-metabolomics': 957.9216301410052,\n",
       " 'metabolomics-metagenomics': 334.7416218419967,\n",
       " 'metaproteomics0.01-metaproteomics0.01': 232.43496004698682,\n",
       " 'metagenomics-metaproteomics0.01': 499.39272144700226,\n",
       " 'metabolomics-metaproteomics0.01': 105.30647485500958,\n",
       " 'metaproteomics0.01-metagenomics': 582.3444733399956,\n",
       " 'metaproteomics0.01-metabolomics': 372.5092970100086,\n",
       " 'metaproteomics0.03-metaproteomics0.03': 3680.409118486001,\n",
       " 'metagenomics-metaproteomics0.03': 1343.1144764290075,\n",
       " 'metabolomics-metaproteomics0.03': 252.66649123700336,\n",
       " 'metaproteomics0.03-metagenomics': 3071.323532092996,\n",
       " 'metaproteomics0.03-metabolomics': 1140.475918815995,\n",
       " 'metagenomics-metaproteomics0.05': 5627.837036309997,\n",
       " 'metabolomics-metaproteomics0.05': 457.6624763409782,\n",
       " 'metaproteomics0.05-metabolomics': 3228.7686570439837,\n",
       " 'metaproteomics0.05-metaproteomics0.05': 360000}"
      ]
     },
     "execution_count": 25,
     "metadata": {},
     "output_type": "execute_result"
    }
   ],
   "source": [
    "## add an estimated time for runtime_total with factor = 0.5 for ('metaproteomics', 'metaproteomics')\n",
    "#100hrs = 100*60*60 = 360000\n",
    "#runtime['metaproteomics0.05-metaproteomics0.05'] = 360000\n",
    "#runtime"
   ]
  },
  {
   "cell_type": "code",
   "execution_count": 18,
   "metadata": {},
   "outputs": [
    {
     "data": {
      "text/plain": [
       "{'0': 3035.739472684014,\n",
       " '0.01': 4827.727399383017,\n",
       " '0.03': 12523.729009745017,\n",
       " '0.05': 372350.0076423789,\n",
       " '0.04': 28793.750846701034}"
      ]
     },
     "execution_count": 18,
     "metadata": {},
     "output_type": "execute_result"
    }
   ],
   "source": [
    "#now, update runtime_total to include the new pair\n",
    "runtime_prot_004 = {k: v for k, v in runtime.items() if 'metaproteomics0.04' in k}\n",
    "sum(runtime_prot_004.values())\n",
    "#need to add runtime_total[0] to this sum \n",
    "runtime_total['0.04'] += runtime_total['0']\n",
    "runtime_total\n",
    "#add to total runtime\n",
    "#runtime_total['0.05'] = sum(runtime_prot_004.values())"
   ]
  },
  {
   "cell_type": "code",
   "execution_count": 26,
   "metadata": {},
   "outputs": [],
   "source": [
    "#now, update runtime_total to include the new pair\n",
    "runtime_prot = {k: v for k, v in runtime.items() if 'metaproteomics0.05' in k}\n",
    "#add to total runtime\n",
    "runtime_total['0.05'] = sum(runtime_prot.values())"
   ]
  },
  {
   "cell_type": "code",
   "execution_count": 28,
   "metadata": {},
   "outputs": [
    {
     "name": "stdout",
     "output_type": "stream",
     "text": [
      "runtime_total[0]:  3035.739472684014\n",
      "\n",
      "runtime_total[0.05]:  369314.26816969493\n",
      "Updated runtime_total[0.05]:  372350.0076423789\n"
     ]
    }
   ],
   "source": [
    "#need to add runtime_total[0] to each individual runtime \n",
    "#runtime_total[0] is the time that all pairs excluding metaproteomics took to run\n",
    "print('runtime_total[0]: ', runtime_total['0'])\n",
    "print()\n",
    "for key in ['0.05']:\n",
    "    print('runtime_total[{}]: '.format(key), runtime_total[key])\n",
    "    runtime_total[key] += runtime_total['0']\n",
    "    print('Updated runtime_total[{}]: '.format(key), runtime_total[key])"
   ]
  },
  {
   "cell_type": "code",
   "execution_count": 15,
   "metadata": {},
   "outputs": [
    {
     "name": "stdout",
     "output_type": "stream",
     "text": [
      "runtime_total[0]:  3035.739472684014\n",
      "\n",
      "runtime_total[0.01]:  1791.9879266990029\n",
      "Updated runtime_total[0.01]:  4827.727399383017\n",
      "runtime_total[0.03]:  9487.989537061003\n",
      "Updated runtime_total[0.03]:  12523.729009745017\n",
      "runtime_total[0.05]:  9314.268169694958\n",
      "Updated runtime_total[0.05]:  12350.007642378972\n"
     ]
    }
   ],
   "source": [
    "#need to add runtime_total[0] to each individual runtime \n",
    "#runtime_total[0] is the time that all pairs excluding metaproteomics took to run\n",
    "print('runtime_total[0]: ', runtime_total['0'])\n",
    "print()\n",
    "for key in ['0.01', '0.03']: #ignore 0.05 output\n",
    "    print('runtime_total[{}]: '.format(key), runtime_total[key])\n",
    "    runtime_total[key] += runtime_total['0']\n",
    "    print('Updated runtime_total[{}]: '.format(key), runtime_total[key])"
   ]
  },
  {
   "cell_type": "code",
   "execution_count": 19,
   "metadata": {},
   "outputs": [],
   "source": [
    "# save final set of mmvec results\n",
    "with open(\"../results/mmvec-runtime-total-uc.json\", \"w\") as outfile: \n",
    "   json.dump(runtime_total, outfile)\n",
    "\n",
    "with open(\"../results/mmvec-runtime-uc.json\", \"w\") as outfile: \n",
    "  json.dump(runtime, outfile)"
   ]
  },
  {
   "cell_type": "code",
   "execution_count": 20,
   "metadata": {},
   "outputs": [
    {
     "data": {
      "text/plain": [
       "{'0': 50.595657878066895,\n",
       " '0.01': 80.46212332305028,\n",
       " '0.03': 208.72881682908363,\n",
       " '0.05': 6205.833460706315,\n",
       " '0.04': 479.89584744501724}"
      ]
     },
     "execution_count": 20,
     "metadata": {},
     "output_type": "execute_result"
    }
   ],
   "source": [
    "#print time in minutes\n",
    "runtime_total_minutes = {k: v/60 for k, v in runtime_total.items()}\n",
    "runtime_total_minutes\n",
    "\n",
    "#runtime_minutes = {k: v/60 for k, v in runtime.items()}"
   ]
  }
 ],
 "metadata": {
  "kernelspec": {
   "display_name": "qiime2-2019.10",
   "language": "python",
   "name": "python3"
  },
  "language_info": {
   "codemirror_mode": {
    "name": "ipython",
    "version": 3
   },
   "file_extension": ".py",
   "mimetype": "text/x-python",
   "name": "python",
   "nbconvert_exporter": "python",
   "pygments_lexer": "ipython3",
   "version": "3.6.7"
  }
 },
 "nbformat": 4,
 "nbformat_minor": 4
}
