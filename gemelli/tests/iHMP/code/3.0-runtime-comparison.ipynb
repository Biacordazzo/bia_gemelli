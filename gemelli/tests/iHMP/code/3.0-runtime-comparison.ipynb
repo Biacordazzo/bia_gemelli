{
 "cells": [
  {
   "cell_type": "code",
   "execution_count": 1,
   "metadata": {},
   "outputs": [],
   "source": [
    "import pandas as pd\n",
    "import json \n",
    "import glob\n",
    "import seaborn as sns\n",
    "import matplotlib.pyplot as plt\n",
    "%matplotlib inline\n",
    "\n",
    "from biom import load_table\n",
    "\n",
    "#turn off warnings\n",
    "import warnings\n",
    "warnings.filterwarnings(\"ignore\")"
   ]
  },
  {
   "cell_type": "code",
   "execution_count": null,
   "metadata": {},
   "outputs": [],
   "source": [
    "#load the data\n",
    "omic_keys = [omics_.split('/')[-1].split('.')[0] for omics_ in glob.glob('../data/*.biom')]\n",
    "tables_shared = {k_: load_table('../data/{}.biom'.format(k_)) for k_ in omic_keys}\n",
    "metadata_shared = pd.read_csv('../data/sample-metadata-plus-train-tests-case-study.csv', index_col=0)"
   ]
  },
  {
   "cell_type": "code",
   "execution_count": null,
   "metadata": {},
   "outputs": [],
   "source": [
    "#load joint-rpca runtime\n",
    "joint_rpca_runtime = pd.read_csv('../results/joint-rpca-runtime.csv')\n",
    "#change col names\n",
    "joint_rpca_runtime.columns = ['method', 'time (s)']\n",
    "\n",
    "#load mmvec runtime\n",
    "with open('../results/mmvec-runtime-total.json') as f:\n",
    "    mmvec_runtime = json.load(f)\n",
    "mmvec_runtime_df = pd.DataFrame(mmvec_runtime.items(), columns=['method', 'time (s)'])"
   ]
  },
  {
   "cell_type": "code",
   "execution_count": null,
   "metadata": {},
   "outputs": [],
   "source": [
    "#reorder rows so that second row is first\n",
    "mmvec_runtime_df = mmvec_runtime_df.reindex([1,0,2])\n",
    "mmvec_runtime_df.reset_index(drop=True, inplace=True)\n",
    "mmvec_runtime_df"
   ]
  },
  {
   "cell_type": "code",
   "execution_count": null,
   "metadata": {},
   "outputs": [],
   "source": [
    "##append mmvec runtime to joint-rpca runtime\n",
    "runtime_df = joint_rpca_runtime.append(mmvec_runtime_df)\n",
    "runtime_df.reset_index(drop=True, inplace=True)\n",
    "\n",
    "#rename rows \n",
    "runtime_df['method'] = ['Joint-RPCA']*4 + ['MMvec']*3\n",
    "runtime_df['metabolomics'] = ['0%', '1%', '2%', '100%', '0%', '1%', '2%']\n",
    "runtime_df"
   ]
  },
  {
   "cell_type": "code",
   "execution_count": null,
   "metadata": {},
   "outputs": [],
   "source": [
    "tables_nometab = {k: v for k, v in tables_shared.items() if k != 'HMP2_metabolomics'}\n",
    "\n",
    "nometab_nfeats = 0\n",
    "for k, v in tables_nometab.items():\n",
    "    nometab_nfeats += v.shape[0]\n",
    "\n",
    "metab_nfeats = {}\n",
    "metab_nfeats[0] = nometab_nfeats"
   ]
  },
  {
   "cell_type": "code",
   "execution_count": null,
   "metadata": {},
   "outputs": [],
   "source": [
    "#repeat for metabolomics\n",
    "for factor in [0.01, 0.02]:\n",
    "    table_touse = tables_shared.copy()\n",
    "    table_touse['HMP2_metabolomics'] = metabolites_sub[factor]\n",
    "    metab_nfeats[factor] = 0\n",
    "    for k, v in table_touse.items():\n",
    "        metab_nfeats[factor] += v.shape[0]\n",
    "\n",
    "#all metabs\n",
    "metab_nfeats[1] = 0\n",
    "for k, v in tables_shared.items():\n",
    "    metab_nfeats[1] += v.shape[0]\n",
    "\n",
    "metab_nfeats"
   ]
  },
  {
   "cell_type": "code",
   "execution_count": null,
   "metadata": {},
   "outputs": [],
   "source": [
    "runtime_df['n_features'] = [9562, 10380, 11199, 91429, 9562, 10380, 11199]\n",
    "runtime_df"
   ]
  },
  {
   "cell_type": "code",
   "execution_count": null,
   "metadata": {},
   "outputs": [],
   "source": [
    "runtime_test = runtime_df.copy()\n",
    "#add row to new df\n",
    "runtime_test.loc[7] = ['MMvec', None, '100%', 91429]\n",
    "runtime_test"
   ]
  },
  {
   "cell_type": "code",
   "execution_count": null,
   "metadata": {},
   "outputs": [],
   "source": [
    "runtime_test['x-label'] = ['{}\\n{} Metabs'.format(n_feats, perc) for n_feats, perc in zip(runtime_test['n_features'], runtime_test['metabolomics'])]\n",
    "runtime_test"
   ]
  },
  {
   "cell_type": "code",
   "execution_count": null,
   "metadata": {},
   "outputs": [],
   "source": [
    "#plot two lines, one for each method\n",
    "runtime_test['index'] = [0,1,2,3]*2\n",
    "plt.figure(figsize=(9, 5))\n",
    "ax = sns.lineplot(x=\"index\", y=\"time (s)\", hue=\"method\", \n",
    "                  style=\"method\", markers=True, data=runtime_test)\n",
    "# Set equally spaced xticks (using the index values)\n",
    "ax.set_xticks(runtime_test['index'])\n",
    "# Set xtick labels to correspond to actual 'n_features' values\n",
    "ax.set_xticklabels(runtime_test['x-label'].unique())\n",
    "#make y axis log scale\n",
    "ax.set_yscale('log')\n",
    "\n",
    "plt.title('Runtime vs Number of Features', fontsize=18)\n",
    "plt.xticks(fontsize=14)\n",
    "plt.yticks(fontsize=14)\n",
    "plt.ylabel('Time (s)', fontsize=16)\n",
    "plt.xlabel('\\nNumber of Features', fontsize=16)\n",
    "#legend outside of plot\n",
    "plt.legend(loc='upper left', bbox_to_anchor=(1, 1), fontsize=14)\n",
    "plt.grid(False)\n",
    "plt.tight_layout()\n",
    "plt.show()"
   ]
  },
  {
   "cell_type": "code",
   "execution_count": null,
   "metadata": {},
   "outputs": [],
   "source": [
    "# nicer_labels = {'HMP2_proteomics_ecs': 'Proteomics',\n",
    "#                 'shared_meta_g_taxonomic_profiles': 'MetaG(taxonomy)',\n",
    "#                 'virome_virmap_analysis': 'Virome',\n",
    "#                 'meta_t_ecs': 'MetaT(pathway)',\n",
    "#                 'joint-rpca': 'Joint-RPCA'}\n",
    "\n",
    "# #replace index with nicer labels\n",
    "# for label in n_features_df.index:\n",
    "#     if label != 'joint-rpca':\n",
    "#         omic1, omic2 = label.split('-')\n",
    "#         n_features_df = n_features_df.rename(index={label: \"{} + \\n{}\".format(nicer_labels[omic1], nicer_labels[omic2])})\n",
    "#     else:\n",
    "#         n_features_df = n_features_df.rename(index={label: nicer_labels[label]})"
   ]
  }
 ],
 "metadata": {
  "kernelspec": {
   "display_name": "qiime2-amplicon-2024.5",
   "language": "python",
   "name": "python3"
  },
  "language_info": {
   "codemirror_mode": {
    "name": "ipython",
    "version": 3
   },
   "file_extension": ".py",
   "mimetype": "text/x-python",
   "name": "python",
   "nbconvert_exporter": "python",
   "pygments_lexer": "ipython3",
   "version": "3.9.19"
  }
 },
 "nbformat": 4,
 "nbformat_minor": 2
}
