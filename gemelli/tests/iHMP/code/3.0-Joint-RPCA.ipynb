{
 "cells": [
  {
   "cell_type": "code",
   "execution_count": 1,
   "metadata": {},
   "outputs": [],
   "source": [
    "import glob\n",
    "import pandas as pd\n",
    "import time\n",
    "\n",
    "from biom import load_table\n",
    "from gemelli.rpca import joint_rpca\n",
    "\n",
    "#turn off warnings\n",
    "import warnings\n",
    "warnings.filterwarnings(\"ignore\")"
   ]
  },
  {
   "cell_type": "code",
   "execution_count": 2,
   "metadata": {},
   "outputs": [],
   "source": [
    "data_path = '/Users/bec5786/Desktop/Shenhav Lab/Joint-RPCA/Case studies/iHMP/Data/runtime/'\n",
    "\n",
    "##calculate # of features needed to match percentages\n",
    "def get_n_features(p_features, total_features, subtotal_features):\n",
    "    total_fts = [int(0.01 * p * total_features) for p in p_features]\n",
    "    prot_fts = [fts - subtotal_features for fts in total_fts]\n",
    "    return total_fts, prot_fts"
   ]
  },
  {
   "cell_type": "markdown",
   "metadata": {},
   "source": [
    "### iHMP Cohort"
   ]
  },
  {
   "cell_type": "code",
   "execution_count": 3,
   "metadata": {},
   "outputs": [
    {
     "data": {
      "text/plain": [
       "{'virome_virmap_analysis': 260 x 135 <class 'biom.table.Table'> with 505 nonzero entries (1% dense),\n",
       " 'meta_t_ecs': 8291 x 135 <class 'biom.table.Table'> with 59744 nonzero entries (5% dense),\n",
       " 'shared_meta_g_taxonomic_profiles': 181 x 135 <class 'biom.table.Table'> with 4465 nonzero entries (18% dense),\n",
       " 'HMP2_proteomics_ecs': 830 x 135 <class 'biom.table.Table'> with 15760 nonzero entries (14% dense),\n",
       " 'HMP2_metabolomics': 81867 x 135 <class 'biom.table.Table'> with 6886507 nonzero entries (62% dense)}"
      ]
     },
     "execution_count": 3,
     "metadata": {},
     "output_type": "execute_result"
    }
   ],
   "source": [
    "#load the data\n",
    "omic_keys = [omics_.split('/')[-1].split('.')[0] for omics_ in glob.glob('{}iHMP/*.biom'.format(data_path))]\n",
    "\n",
    "ihmp_tables_shared = {k_: load_table('{}iHMP/{}.biom'.format(data_path, k_)) for k_ in omic_keys}\n",
    "ihmp_metadata_shared = pd.read_csv('../data/ihmp-sample-metadata-plus-train-tests.csv', index_col=0)\n",
    "ihmp_tables_shared"
   ]
  },
  {
   "cell_type": "code",
   "execution_count": 4,
   "metadata": {},
   "outputs": [
    {
     "name": "stdout",
     "output_type": "stream",
     "text": [
      "91429 9562\n"
     ]
    }
   ],
   "source": [
    "#since we are subsetting metabolomics, calculate the total number of\n",
    "#features in the other omics\n",
    "total_features = 0\n",
    "for omic in omic_keys:\n",
    "    total_features += ihmp_tables_shared[omic].shape[0]\n",
    "\n",
    "subtotal_features = total_features - ihmp_tables_shared['HMP2_metabolomics'].shape[0]\n",
    "print(total_features, subtotal_features)"
   ]
  },
  {
   "cell_type": "code",
   "execution_count": 5,
   "metadata": {},
   "outputs": [
    {
     "name": "stdout",
     "output_type": "stream",
     "text": [
      "Metabolomics: 1.0% of features: 818\n",
      "Total features: 10380\n",
      "Metabolomics: 3.0% of features: 2456\n",
      "Total features: 12018\n",
      "Metabolomics: 5.0% of features: 4093\n",
      "Total features: 13655\n",
      "Metabolomics: 10.0% of features: 8186\n",
      "Total features: 17748\n",
      "Metabolomics: 15.0% of features: 12280\n",
      "Total features: 21842\n"
     ]
    }
   ],
   "source": [
    "#generate subsets of metabolomics data\n",
    "metab_all_fts = [subtotal_features]\n",
    "metabolites_sub = {}\n",
    "for factor in [0.01, 0.03, 0.05, 0.1, 0.15]: \n",
    "    #get metabolomics table\n",
    "    metab = ihmp_tables_shared['HMP2_metabolomics'].copy()\n",
    "    #number of features to keep\n",
    "    n_features = int(metab.shape[0]*factor)\n",
    "    metab_all_fts.append(subtotal_features+n_features)\n",
    "    #select first n features\n",
    "    feature_ids = metab.ids(axis='observation')[:n_features]\n",
    "    #filter table\n",
    "    metabolites_sub[factor] = metab.filter(feature_ids, axis='observation')\n",
    "    #sanity check\n",
    "    print('Metabolomics: {}% of features: {}'.format(factor*100, metabolites_sub[factor].shape[0]))\n",
    "    print('Total features: {}'.format(subtotal_features+n_features))"
   ]
  },
  {
   "cell_type": "code",
   "execution_count": 7,
   "metadata": {},
   "outputs": [
    {
     "data": {
      "text/plain": [
       "[17866, 22438, 27009, 81867]"
      ]
     },
     "execution_count": 7,
     "metadata": {},
     "output_type": "execute_result"
    }
   ],
   "source": [
    "p_features = [30, 35, 40, 100]\n",
    "metab_total_n, metab_n_lst = get_n_features(p_features, total_features, subtotal_features)\n",
    "metab_n_lst"
   ]
  },
  {
   "cell_type": "code",
   "execution_count": 8,
   "metadata": {},
   "outputs": [
    {
     "name": "stdout",
     "output_type": "stream",
     "text": [
      "[9562, 10380, 12018, 13655, 17748, 21842, 27428, 32000, 36571, 91429]\n"
     ]
    }
   ],
   "source": [
    "#save list with all features in each run\n",
    "metab_all_fts = metab_all_fts + metab_total_n\n",
    "print(metab_all_fts)"
   ]
  },
  {
   "cell_type": "code",
   "execution_count": 9,
   "metadata": {},
   "outputs": [
    {
     "name": "stdout",
     "output_type": "stream",
     "text": [
      "Metabolomics: 30.0% of features: 17866\n",
      "Metabolomics: 35.0% of features: 22438\n",
      "Metabolomics: 40.0% of features: 27009\n",
      "Metabolomics: 100.0% of features: 81867\n"
     ]
    }
   ],
   "source": [
    "for factor, metab_n in zip(p_features, metab_n_lst): \n",
    "    #get metabolomics table\n",
    "    metab = ihmp_tables_shared['HMP2_metabolomics'].copy()\n",
    "    #select first n features\n",
    "    feature_ids = metab.ids(axis='observation')[:metab_n]\n",
    "    #filter table\n",
    "    factor = factor/100\n",
    "    metabolites_sub[factor] = metab.filter(feature_ids, axis='observation')\n",
    "    #sanity check\n",
    "    print('Metabolomics: {}% of features: {}'.format(factor*100, metabolites_sub[factor].shape[0]))"
   ]
  },
  {
   "cell_type": "code",
   "execution_count": 10,
   "metadata": {},
   "outputs": [
    {
     "data": {
      "text/plain": [
       "{'virome_virmap_analysis': 260 x 135 <class 'biom.table.Table'> with 505 nonzero entries (1% dense),\n",
       " 'meta_t_ecs': 8291 x 135 <class 'biom.table.Table'> with 59744 nonzero entries (5% dense),\n",
       " 'shared_meta_g_taxonomic_profiles': 181 x 135 <class 'biom.table.Table'> with 4465 nonzero entries (18% dense),\n",
       " 'HMP2_proteomics_ecs': 830 x 135 <class 'biom.table.Table'> with 15760 nonzero entries (14% dense)}"
      ]
     },
     "execution_count": 10,
     "metadata": {},
     "output_type": "execute_result"
    }
   ],
   "source": [
    "#create dictionary to store run time by Joint-RPCA\n",
    "runtime_joint_rpca = {}\n",
    "\n",
    "#run Joint-RPCA on all data and subsets of metabolomics data\n",
    "tables_no_metab = {k_: v_ for k_, v_ in ihmp_tables_shared.items() if k_ != 'HMP2_metabolomics'}\n",
    "tables_no_metab"
   ]
  },
  {
   "cell_type": "code",
   "execution_count": 11,
   "metadata": {},
   "outputs": [
    {
     "name": "stdout",
     "output_type": "stream",
     "text": [
      "No metabolomics\n",
      "Time elapsed: 1.22 secs\n",
      "\n",
      "0.01 factor with 818 metabolites\n",
      "Time elapsed: 1.28 secs\n",
      "\n",
      "0.03 factor with 2456 metabolites\n",
      "Time elapsed: 1.84 secs\n",
      "\n",
      "0.05 factor with 4093 metabolites\n",
      "Time elapsed: 1.93 secs\n",
      "\n",
      "0.1 factor with 8186 metabolites\n",
      "Time elapsed: 3.46 secs\n",
      "\n",
      "0.15 factor with 12280 metabolites\n",
      "Time elapsed: 4.32 secs\n",
      "\n",
      "0.3 factor with 17866 metabolites\n",
      "Time elapsed: 6.03 secs\n",
      "\n",
      "0.35 factor with 22438 metabolites\n",
      "Time elapsed: 7.7 secs\n",
      "\n",
      "0.4 factor with 27009 metabolites\n",
      "Time elapsed: 9.1 secs\n",
      "\n",
      "1 factor with 81867 metabolites\n",
      "Time elapsed: 29.14 secs\n",
      "\n"
     ]
    }
   ],
   "source": [
    "for factor in [0, 0.01, 0.03, 0.05, 0.1, \n",
    "               0.15, 0.3, 0.35, 0.4, 1]:\n",
    "\n",
    "    if factor == 0:\n",
    "        print(\"No metabolomics\")\n",
    "        tables_use = tables_no_metab.copy()\n",
    "    #elif factor==1:\n",
    "    #    tables_use = ihmp_tables_shared.copy()\n",
    "    #    print(\"All {} metabolites\".format(tables_use['HMP2_metabolomics'].shape))\n",
    "    else:\n",
    "        tables_use = ihmp_tables_shared.copy()\n",
    "        tables_use['HMP2_metabolomics'] = metabolites_sub[factor].copy()\n",
    "        print(\"{} factor with {} metabolites\".format(factor, tables_use['HMP2_metabolomics'].shape[0]))\n",
    "\n",
    "    time_start = time.perf_counter()\n",
    "    ord_, dist_, cv_plt = joint_rpca([t.copy() for t in tables_use.values()],\n",
    "                                      sample_metadata=ihmp_metadata_shared,\n",
    "                                      train_test_column='train_test',\n",
    "                                      min_feature_frequency=0,\n",
    "                                      min_sample_count=0,\n",
    "                                      min_feature_count=0,\n",
    "                                      n_test_samples=0,\n",
    "                                      max_iterations=5)\n",
    "    time_elapsed = (time.perf_counter() - time_start)\n",
    "    print('Time elapsed: {} secs'.format(round(time_elapsed,2)))\n",
    "    print()\n",
    "    runtime_joint_rpca['Joint-RPCA-{}'.format(factor)] = time_elapsed\n",
    "    # ord_.write('../results/joint-rpca-ord.txt')\n",
    "    # dist_.write('../results/joint-rpca-dist.txt')\n",
    "    # cv_plt.to_csv('../results/joint-rpca-cv.txt')"
   ]
  },
  {
   "cell_type": "code",
   "execution_count": 12,
   "metadata": {},
   "outputs": [
    {
     "data": {
      "text/html": [
       "<div>\n",
       "<style scoped>\n",
       "    .dataframe tbody tr th:only-of-type {\n",
       "        vertical-align: middle;\n",
       "    }\n",
       "\n",
       "    .dataframe tbody tr th {\n",
       "        vertical-align: top;\n",
       "    }\n",
       "\n",
       "    .dataframe thead th {\n",
       "        text-align: right;\n",
       "    }\n",
       "</style>\n",
       "<table border=\"1\" class=\"dataframe\">\n",
       "  <thead>\n",
       "    <tr style=\"text-align: right;\">\n",
       "      <th></th>\n",
       "      <th>time (s)</th>\n",
       "      <th>factor</th>\n",
       "      <th>method</th>\n",
       "      <th>n features</th>\n",
       "    </tr>\n",
       "  </thead>\n",
       "  <tbody>\n",
       "    <tr>\n",
       "      <th>0</th>\n",
       "      <td>1.223706</td>\n",
       "      <td>0.00</td>\n",
       "      <td>Joint-RPCA</td>\n",
       "      <td>9562</td>\n",
       "    </tr>\n",
       "    <tr>\n",
       "      <th>1</th>\n",
       "      <td>1.283670</td>\n",
       "      <td>0.01</td>\n",
       "      <td>Joint-RPCA</td>\n",
       "      <td>10380</td>\n",
       "    </tr>\n",
       "    <tr>\n",
       "      <th>2</th>\n",
       "      <td>1.837933</td>\n",
       "      <td>0.03</td>\n",
       "      <td>Joint-RPCA</td>\n",
       "      <td>12018</td>\n",
       "    </tr>\n",
       "    <tr>\n",
       "      <th>3</th>\n",
       "      <td>1.932425</td>\n",
       "      <td>0.05</td>\n",
       "      <td>Joint-RPCA</td>\n",
       "      <td>13655</td>\n",
       "    </tr>\n",
       "    <tr>\n",
       "      <th>4</th>\n",
       "      <td>3.457007</td>\n",
       "      <td>0.10</td>\n",
       "      <td>Joint-RPCA</td>\n",
       "      <td>17748</td>\n",
       "    </tr>\n",
       "    <tr>\n",
       "      <th>5</th>\n",
       "      <td>4.316535</td>\n",
       "      <td>0.15</td>\n",
       "      <td>Joint-RPCA</td>\n",
       "      <td>21842</td>\n",
       "    </tr>\n",
       "    <tr>\n",
       "      <th>6</th>\n",
       "      <td>6.031864</td>\n",
       "      <td>0.30</td>\n",
       "      <td>Joint-RPCA</td>\n",
       "      <td>27428</td>\n",
       "    </tr>\n",
       "    <tr>\n",
       "      <th>7</th>\n",
       "      <td>7.704982</td>\n",
       "      <td>0.35</td>\n",
       "      <td>Joint-RPCA</td>\n",
       "      <td>32000</td>\n",
       "    </tr>\n",
       "    <tr>\n",
       "      <th>8</th>\n",
       "      <td>9.098438</td>\n",
       "      <td>0.40</td>\n",
       "      <td>Joint-RPCA</td>\n",
       "      <td>36571</td>\n",
       "    </tr>\n",
       "    <tr>\n",
       "      <th>9</th>\n",
       "      <td>29.136795</td>\n",
       "      <td>1.00</td>\n",
       "      <td>Joint-RPCA</td>\n",
       "      <td>91429</td>\n",
       "    </tr>\n",
       "  </tbody>\n",
       "</table>\n",
       "</div>"
      ],
      "text/plain": [
       "    time (s)  factor      method  n features\n",
       "0   1.223706    0.00  Joint-RPCA        9562\n",
       "1   1.283670    0.01  Joint-RPCA       10380\n",
       "2   1.837933    0.03  Joint-RPCA       12018\n",
       "3   1.932425    0.05  Joint-RPCA       13655\n",
       "4   3.457007    0.10  Joint-RPCA       17748\n",
       "5   4.316535    0.15  Joint-RPCA       21842\n",
       "6   6.031864    0.30  Joint-RPCA       27428\n",
       "7   7.704982    0.35  Joint-RPCA       32000\n",
       "8   9.098438    0.40  Joint-RPCA       36571\n",
       "9  29.136795    1.00  Joint-RPCA       91429"
      ]
     },
     "execution_count": 12,
     "metadata": {},
     "output_type": "execute_result"
    }
   ],
   "source": [
    "#create df to store the run time\n",
    "runtime_df = pd.DataFrame.from_dict(runtime_joint_rpca, \n",
    "                                    orient='index', columns=['time (s)'])\n",
    "runtime_df['factor'] = [float(x.split('-')[-1]) for x in runtime_df.index]\n",
    "runtime_df['method'] = 'Joint-RPCA'\n",
    "runtime_df['n features'] = metab_all_fts\n",
    "runtime_df.reset_index(inplace=True, drop=True)\n",
    "runtime_df.to_csv('../results/ihmp-joint-rpca-runtime.csv')\n",
    "runtime_df"
   ]
  },
  {
   "cell_type": "markdown",
   "metadata": {},
   "source": [
    "### UC Cohort"
   ]
  },
  {
   "cell_type": "code",
   "execution_count": 35,
   "metadata": {},
   "outputs": [
    {
     "data": {
      "text/plain": [
       "{'metagenomics': 3568 x 173 <class 'biom.table.Table'> with 162126 nonzero entries (26% dense),\n",
       " 'metabolomics': 1928 x 173 <class 'biom.table.Table'> with 58132 nonzero entries (17% dense),\n",
       " 'metaproteomics': 108080 x 173 <class 'biom.table.Table'> with 5065165 nonzero entries (27% dense)}"
      ]
     },
     "execution_count": 35,
     "metadata": {},
     "output_type": "execute_result"
    }
   ],
   "source": [
    "#load the data\n",
    "uc_omic_keys = [omics_.split('/')[-1].split('.')[0] for omics_ in glob.glob('{}UC/*.biom'.format(data_path))]\n",
    "\n",
    "uc_metadata_shared = pd.read_csv('../data/uc-metadata-plus-train-tests.csv', index_col=0)\n",
    "uc_tables_shared = {k_: load_table('{}UC/{}.biom'.format(data_path, k_)) for k_ in uc_omic_keys}\n",
    "uc_tables_shared"
   ]
  },
  {
   "cell_type": "code",
   "execution_count": 36,
   "metadata": {},
   "outputs": [
    {
     "name": "stdout",
     "output_type": "stream",
     "text": [
      "113576 5496\n"
     ]
    }
   ],
   "source": [
    "#add number of features across tables\n",
    "uc_n_feat = 0\n",
    "for k, v in uc_tables_shared.items():\n",
    "    uc_n_feat += v.shape[0]\n",
    "\n",
    "uc_subtotal = uc_n_feat - uc_tables_shared['metaproteomics'].shape[0]\n",
    "print(uc_n_feat, uc_subtotal)"
   ]
  },
  {
   "cell_type": "code",
   "execution_count": 37,
   "metadata": {},
   "outputs": [
    {
     "data": {
      "text/plain": [
       "array([10.46, 11.35, 13.14, 14.94, 19.41, 23.89])"
      ]
     },
     "execution_count": 37,
     "metadata": {},
     "output_type": "execute_result"
    }
   ],
   "source": [
    "#load mmvec results to get % features\n",
    "mmvec_ihmp = pd.read_csv('../results/ihmp-runtime.csv', index_col=0)\n",
    "mmvec_ihmp = mmvec_ihmp[mmvec_ihmp.index.str.contains('MMvec')]\n",
    "perct = mmvec_ihmp['% features'].values\n",
    "perct"
   ]
  },
  {
   "cell_type": "code",
   "execution_count": 38,
   "metadata": {},
   "outputs": [
    {
     "name": "stdout",
     "output_type": "stream",
     "text": [
      "[11880, 12890, 14923, 16968, 22045, 27133, 34072, 39751, 45430, 113576]\n",
      "[6384, 7394, 9427, 11472, 16549, 21637, 28576, 34255, 39934, 108080]\n"
     ]
    }
   ],
   "source": [
    "all_factors = list(perct) + [30, 35, 40, 100]\n",
    "\n",
    "uc_total_n, uc_prot_n = get_n_features(all_factors, uc_n_feat, uc_subtotal)\n",
    "print(uc_total_n)\n",
    "print(uc_prot_n)"
   ]
  },
  {
   "cell_type": "code",
   "execution_count": 39,
   "metadata": {},
   "outputs": [
    {
     "name": "stdout",
     "output_type": "stream",
     "text": [
      "Proteomics: 6384\n",
      "Proteomics: 7394\n",
      "Proteomics: 9427\n",
      "Proteomics: 11472\n",
      "Proteomics: 16549\n",
      "Proteomics: 21637\n",
      "Proteomics: 28576\n",
      "Proteomics: 34255\n",
      "Proteomics: 39934\n",
      "Proteomics: 108080\n"
     ]
    }
   ],
   "source": [
    "#generate subsets of metabolomics data\n",
    "protein_sub = {}\n",
    "for n in uc_prot_n: \n",
    "    #get metabolomics table\n",
    "    prot = uc_tables_shared['metaproteomics'].copy()\n",
    "    #select first n features\n",
    "    feature_ids = list(prot.ids(axis='observation'))[:n]\n",
    "    #filter table\n",
    "    protein_sub[n] = prot.filter(feature_ids, axis='observation')\n",
    "    #sanity check\n",
    "    print('Proteomics: {}'.format(protein_sub[n].shape[0]))"
   ]
  },
  {
   "cell_type": "code",
   "execution_count": 40,
   "metadata": {},
   "outputs": [
    {
     "name": "stdout",
     "output_type": "stream",
     "text": [
      "10.46% of features\n",
      "6384 Metaproteomics features used\n",
      "Time elapsed: 4.6 secs\n",
      "\n",
      "11.35% of features\n",
      "7394 Metaproteomics features used\n",
      "Time elapsed: 4.73 secs\n",
      "\n",
      "13.14% of features\n",
      "9427 Metaproteomics features used\n",
      "Time elapsed: 5.83 secs\n",
      "\n",
      "14.94% of features\n",
      "11472 Metaproteomics features used\n",
      "Time elapsed: 6.15 secs\n",
      "\n",
      "19.41% of features\n",
      "16549 Metaproteomics features used\n",
      "Time elapsed: 8.3 secs\n",
      "\n",
      "23.89% of features\n",
      "21637 Metaproteomics features used\n",
      "Time elapsed: 9.97 secs\n",
      "\n",
      "30% of features\n",
      "28576 Metaproteomics features used\n",
      "Time elapsed: 13.2 secs\n",
      "\n",
      "35% of features\n",
      "34255 Metaproteomics features used\n",
      "Time elapsed: 16.92 secs\n",
      "\n",
      "40% of features\n",
      "39934 Metaproteomics features used\n",
      "Time elapsed: 17.2 secs\n",
      "\n",
      "100% of features\n",
      "108080 Metaproteomics features used\n",
      "Time elapsed: 67.66 secs\n",
      "\n"
     ]
    },
    {
     "data": {
      "text/plain": [
       "{10.46: 4.598135105999972,\n",
       " 11.35: 4.7300303259999055,\n",
       " 13.14: 5.828596809000146,\n",
       " 14.94: 6.154360853000071,\n",
       " 19.41: 8.300841738000145,\n",
       " 23.89: 9.971473732999812,\n",
       " 30: 13.201322094000034,\n",
       " 35: 16.923151209000025,\n",
       " 40: 17.19847063300017,\n",
       " 100: 67.66099839999993}"
      ]
     },
     "execution_count": 40,
     "metadata": {},
     "output_type": "execute_result"
    }
   ],
   "source": [
    "runtime_uc_joint_rpca = {}\n",
    "table_to_use = uc_tables_shared.copy()\n",
    "prot_table_all = uc_tables_shared['metaproteomics'].copy()\n",
    "\n",
    "#run joint-rpca\n",
    "for n, perct in zip(uc_prot_n, all_factors):\n",
    "\n",
    "    print(\"{}% of features\".format(perct))\n",
    "    table_to_use['metaproteomics'] = protein_sub[n]\n",
    "    #sanity check\n",
    "    print('{} Metaproteomics features used'.format(table_to_use['metaproteomics'].shape[0]))\n",
    "\n",
    "    time_start = time.perf_counter()\n",
    "    ord_, dist_, cv_plt = joint_rpca([t.copy() for t in table_to_use.values()],\n",
    "                                    sample_metadata=uc_metadata_shared,\n",
    "                                    train_test_column=None,\n",
    "                                    min_feature_frequency=0,\n",
    "                                    min_sample_count=0,\n",
    "                                    min_feature_count=0,\n",
    "                                    n_test_samples=0,\n",
    "                                    max_iterations=5)\n",
    "    time_elapsed = (time.perf_counter() - time_start)\n",
    "    print('Time elapsed: {} secs'.format(round(time_elapsed,2)))\n",
    "    print()\n",
    "    runtime_uc_joint_rpca[perct] = time_elapsed\n",
    "\n",
    "runtime_uc_joint_rpca"
   ]
  },
  {
   "cell_type": "code",
   "execution_count": 42,
   "metadata": {},
   "outputs": [
    {
     "data": {
      "text/html": [
       "<div>\n",
       "<style scoped>\n",
       "    .dataframe tbody tr th:only-of-type {\n",
       "        vertical-align: middle;\n",
       "    }\n",
       "\n",
       "    .dataframe tbody tr th {\n",
       "        vertical-align: top;\n",
       "    }\n",
       "\n",
       "    .dataframe thead th {\n",
       "        text-align: right;\n",
       "    }\n",
       "</style>\n",
       "<table border=\"1\" class=\"dataframe\">\n",
       "  <thead>\n",
       "    <tr style=\"text-align: right;\">\n",
       "      <th></th>\n",
       "      <th>time (s)</th>\n",
       "      <th>% features</th>\n",
       "      <th>n features</th>\n",
       "      <th>method</th>\n",
       "    </tr>\n",
       "  </thead>\n",
       "  <tbody>\n",
       "    <tr>\n",
       "      <th>0</th>\n",
       "      <td>4.598135</td>\n",
       "      <td>10.46</td>\n",
       "      <td>11880</td>\n",
       "      <td>Joint-RPCA</td>\n",
       "    </tr>\n",
       "    <tr>\n",
       "      <th>1</th>\n",
       "      <td>4.730030</td>\n",
       "      <td>11.35</td>\n",
       "      <td>12890</td>\n",
       "      <td>Joint-RPCA</td>\n",
       "    </tr>\n",
       "    <tr>\n",
       "      <th>2</th>\n",
       "      <td>5.828597</td>\n",
       "      <td>13.14</td>\n",
       "      <td>14923</td>\n",
       "      <td>Joint-RPCA</td>\n",
       "    </tr>\n",
       "    <tr>\n",
       "      <th>3</th>\n",
       "      <td>6.154361</td>\n",
       "      <td>14.94</td>\n",
       "      <td>16968</td>\n",
       "      <td>Joint-RPCA</td>\n",
       "    </tr>\n",
       "    <tr>\n",
       "      <th>4</th>\n",
       "      <td>8.300842</td>\n",
       "      <td>19.41</td>\n",
       "      <td>22045</td>\n",
       "      <td>Joint-RPCA</td>\n",
       "    </tr>\n",
       "    <tr>\n",
       "      <th>5</th>\n",
       "      <td>9.971474</td>\n",
       "      <td>23.89</td>\n",
       "      <td>27133</td>\n",
       "      <td>Joint-RPCA</td>\n",
       "    </tr>\n",
       "    <tr>\n",
       "      <th>6</th>\n",
       "      <td>13.201322</td>\n",
       "      <td>30.00</td>\n",
       "      <td>34072</td>\n",
       "      <td>Joint-RPCA</td>\n",
       "    </tr>\n",
       "    <tr>\n",
       "      <th>7</th>\n",
       "      <td>16.923151</td>\n",
       "      <td>35.00</td>\n",
       "      <td>39751</td>\n",
       "      <td>Joint-RPCA</td>\n",
       "    </tr>\n",
       "    <tr>\n",
       "      <th>8</th>\n",
       "      <td>17.198471</td>\n",
       "      <td>40.00</td>\n",
       "      <td>45430</td>\n",
       "      <td>Joint-RPCA</td>\n",
       "    </tr>\n",
       "    <tr>\n",
       "      <th>9</th>\n",
       "      <td>67.660998</td>\n",
       "      <td>100.00</td>\n",
       "      <td>113576</td>\n",
       "      <td>Joint-RPCA</td>\n",
       "    </tr>\n",
       "  </tbody>\n",
       "</table>\n",
       "</div>"
      ],
      "text/plain": [
       "    time (s)  % features  n features      method\n",
       "0   4.598135       10.46       11880  Joint-RPCA\n",
       "1   4.730030       11.35       12890  Joint-RPCA\n",
       "2   5.828597       13.14       14923  Joint-RPCA\n",
       "3   6.154361       14.94       16968  Joint-RPCA\n",
       "4   8.300842       19.41       22045  Joint-RPCA\n",
       "5   9.971474       23.89       27133  Joint-RPCA\n",
       "6  13.201322       30.00       34072  Joint-RPCA\n",
       "7  16.923151       35.00       39751  Joint-RPCA\n",
       "8  17.198471       40.00       45430  Joint-RPCA\n",
       "9  67.660998      100.00      113576  Joint-RPCA"
      ]
     },
     "execution_count": 42,
     "metadata": {},
     "output_type": "execute_result"
    }
   ],
   "source": [
    "#create df to store the run time\n",
    "uc_runtime_df = pd.DataFrame.from_dict(runtime_uc_joint_rpca, \n",
    "                                       orient='index', columns=['time (s)'])\n",
    "uc_runtime_df['% features'] = [float(x) for x in uc_runtime_df.index]\n",
    "uc_runtime_df['n features'] = uc_total_n\n",
    "uc_runtime_df['method'] = 'Joint-RPCA'\n",
    "uc_runtime_df.reset_index(drop=True, inplace=True)\n",
    "uc_runtime_df.to_csv('../results/uc-joint-rpca-runtime.csv')\n",
    "uc_runtime_df"
   ]
  }
 ],
 "metadata": {
  "kernelspec": {
   "display_name": "qiime2-joint-rpca",
   "language": "python",
   "name": "python3"
  },
  "language_info": {
   "codemirror_mode": {
    "name": "ipython",
    "version": 3
   },
   "file_extension": ".py",
   "mimetype": "text/x-python",
   "name": "python",
   "nbconvert_exporter": "python",
   "pygments_lexer": "ipython3",
   "version": "3.9.19"
  }
 },
 "nbformat": 4,
 "nbformat_minor": 2
}
