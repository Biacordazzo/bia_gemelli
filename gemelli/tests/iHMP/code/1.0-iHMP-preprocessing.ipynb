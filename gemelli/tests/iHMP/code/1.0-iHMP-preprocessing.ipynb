{
 "cells": [
  {
   "cell_type": "code",
   "execution_count": 1,
   "metadata": {},
   "outputs": [],
   "source": [
    "import glob\n",
    "import pandas as pd\n",
    "import time\n",
    "import random\n",
    "import matplotlib.pyplot as plt\n",
    "%matplotlib inline\n",
    "\n",
    "from biom import Table, load_table\n",
    "from skbio import DistanceMatrix, OrdinationResults\n",
    "from skbio.stats.composition import closure\n",
    "from gemelli.rpca import joint_rpca, rpca_table_processing\n",
    "from sklearn.model_selection import train_test_split\n",
    "\n",
    "#turn off warnings\n",
    "import warnings\n",
    "warnings.filterwarnings(\"ignore\")"
   ]
  },
  {
   "cell_type": "markdown",
   "metadata": {},
   "source": [
    "## Data pre-processing\n",
    "\n",
    "Only need to run these blocks once"
   ]
  },
  {
   "cell_type": "code",
   "execution_count": 2,
   "metadata": {},
   "outputs": [],
   "source": [
    "data_path = '/Users/bec5786/Desktop/Shenhav Lab/Joint-RPCA/Case studies/iHMP/Data/'\n",
    "data_path_ihmp = '{}ihmp_data/'.format(data_path)"
   ]
  },
  {
   "cell_type": "code",
   "execution_count": 3,
   "metadata": {},
   "outputs": [],
   "source": [
    "# import and match the data the same as in ../../simulations-benchmarking/3.0-ihmp-benchmarks.ipynb\n",
    "# we will also save each table with all the data for that table\n",
    "# for exploration non-jointly based on the joint samples\n",
    "tables = {omics_.split('/')[-1].split('.')[0]:rpca_table_processing(load_table(omics_),\n",
    "                                                                    min_sample_count=0,\n",
    "                                                                    min_feature_count=0,\n",
    "                                                                    min_feature_frequency=0)\n",
    "          for omics_ in glob.glob('{}*.biom'.format(data_path_ihmp))\n",
    "          if not any ('_' + str(d_) in omics_ for d_ in [10, 8, 6, 4, 2, 1])}\n",
    "metadata = pd.read_csv('{}sample-metadata.txt'.format(data_path_ihmp), sep='\\t', index_col=0)\n",
    "\n",
    "# add pathways instead of ECs (easier to interpret)\n",
    "tbl_ = pd.read_csv('{}additional-data/pathabundances_3.tsv'.format(data_path_ihmp), sep='\\t', index_col=0)\n",
    "tbl_ = tbl_[[('UNINTEGRATED' not in x) and ('UNMAPPED' not in x) for x in tbl_.index]]\n",
    "tbl_.columns = [c.replace('_pathabundance_cpm','') for c in tbl_.columns]\n",
    "tbl_ = tbl_.loc[tbl_.sum(1) > 0, tbl_.sum(0) > 0]\n",
    "tbl_ = Table(tbl_.values, tbl_.index, tbl_.columns)\n",
    "tables['meta_t_ecs'] = tbl_.copy()"
   ]
  },
  {
   "cell_type": "code",
   "execution_count": 4,
   "metadata": {},
   "outputs": [
    {
     "data": {
      "text/plain": [
       "{'virome_virmap_analysis': 260 x 645 <class 'biom.table.Table'> with 2490 nonzero entries (1% dense),\n",
       " 'meta_t_ecs': 8291 x 805 <class 'biom.table.Table'> with 368525 nonzero entries (5% dense),\n",
       " 'shared_meta_g_taxonomic_profiles': 181 x 1630 <class 'biom.table.Table'> with 51942 nonzero entries (17% dense),\n",
       " 'HMP2_proteomics_ecs': 830 x 450 <class 'biom.table.Table'> with 56580 nonzero entries (15% dense),\n",
       " 'HMP2_metabolomics': 81867 x 546 <class 'biom.table.Table'> with 27348904 nonzero entries (61% dense)}"
      ]
     },
     "execution_count": 4,
     "metadata": {},
     "output_type": "execute_result"
    }
   ],
   "source": [
    "tables"
   ]
  },
  {
   "cell_type": "code",
   "execution_count": 5,
   "metadata": {},
   "outputs": [
    {
     "name": "stdout",
     "output_type": "stream",
     "text": [
      "virome_virmap_analysis\n",
      "meta_t_ecs\n",
      "shared_meta_g_taxonomic_profiles\n",
      "HMP2_proteomics_ecs\n",
      "HMP2_metabolomics\n"
     ]
    },
    {
     "data": {
      "text/plain": [
       "dict_keys(['virome_virmap_analysis', 'meta_t_ecs', 'shared_meta_g_taxonomic_profiles', 'HMP2_proteomics_ecs', 'HMP2_metabolomics'])"
      ]
     },
     "execution_count": 5,
     "metadata": {},
     "output_type": "execute_result"
    }
   ],
   "source": [
    "# make table/metadata pair for each dataset of all samples in the data\n",
    "tables_metdata_unshared = {}\n",
    "for omics_, table_ in tables.items():\n",
    "    print(omics_)\n",
    "    metadata_omic = metadata.copy()\n",
    "    table_omic = table_.copy()\n",
    "    shared_samps = set(table_omic.ids()) & set(metadata.index)\n",
    "    table_omic = table_omic.filter(shared_samps)\n",
    "    table_omic = rpca_table_processing(table_omic, min_sample_count=0,\n",
    "                                       min_feature_count=0,\n",
    "                                       min_feature_frequency=0)\n",
    "    metadata_omic = metadata_omic.reindex(shared_samps)\n",
    "    table_omic_df = pd.DataFrame(table_omic.matrix_data.toarray(),\n",
    "                                 table_omic.ids('observation'),\n",
    "                                 table_omic.ids())\n",
    "    # these omics output in % abundance so have to use relative counts.\n",
    "    # possibly try to re-scale back to counts?\n",
    "    if omics_ in ['shared_meta_g_taxonomic_profiles','meta_t_ecs','HMP2_metabolomics']:\n",
    "        table_omic_df = table_omic_df.apply(closure)\n",
    "    tables_metdata_unshared[omics_] = [table_omic, table_omic_df, metadata_omic]\n",
    "tables_metdata_unshared.keys()"
   ]
  },
  {
   "cell_type": "code",
   "execution_count": 6,
   "metadata": {},
   "outputs": [
    {
     "data": {
      "text/plain": [
       "CD        61\n",
       "nonIBD    44\n",
       "UC        30\n",
       "Name: diagnosis, dtype: int64"
      ]
     },
     "execution_count": 6,
     "metadata": {},
     "output_type": "execute_result"
    }
   ],
   "source": [
    "shared_samps = set.intersection(*[set(t_.ids()) for t_ in tables.values()]) & set(metadata.index)\n",
    "metadata_shared = metadata.reindex(shared_samps)\n",
    "metadata_shared['diagnosis_binned'] = [x.replace('UC','IBD').replace('CD','IBD')\n",
    "                                       for x in metadata_shared.diagnosis]\n",
    "# re-close metaG/T data\n",
    "metadata_shared = metadata_shared.reindex(shared_samps)\n",
    "tables_shared = {t_k:t_.copy().filter(shared_samps) for t_k, t_ in tables.items()}\n",
    "for t_ in ['shared_meta_g_taxonomic_profiles','meta_t_ecs','HMP2_metabolomics']:\n",
    "    tbl_tmp = tables_shared[t_].to_dataframe().copy()\n",
    "    tbl_tmp = tbl_tmp.apply(closure)\n",
    "    tables_shared[t_] = Table(tbl_tmp.values, tbl_tmp.index, tbl_tmp.columns)\n",
    "\n",
    "train_, test_ = train_test_split(metadata_shared, shuffle=True,\n",
    "                                 stratify=metadata_shared['diagnosis'],\n",
    "                                 test_size=0.25)\n",
    "metadata_shared['train_test'] = 'train'\n",
    "metadata_shared.loc[test_.index, 'train_test'] = 'test'\n",
    "#metadata_shared.to_csv('../data/sample-metadata-plus-train-tests-case-study.csv')\n",
    "metadata_shared.diagnosis.value_counts()"
   ]
  },
  {
   "cell_type": "code",
   "execution_count": 7,
   "metadata": {},
   "outputs": [],
   "source": [
    "#save all tables in biom format\n",
    "for k_, t_ in tables_shared.items():\n",
    "   with open('../data/{}.biom'.format(k_), 'w') as f:\n",
    "       f.write(t_.to_json(generated_by='BIOM-Format'))"
   ]
  },
  {
   "cell_type": "markdown",
   "metadata": {},
   "source": [
    "## Load pre-processed data"
   ]
  },
  {
   "cell_type": "code",
   "execution_count": 8,
   "metadata": {},
   "outputs": [],
   "source": [
    "omic_keys = [omics_.split('/')[-1].split('.')[0] for omics_ in glob.glob('../data/*.biom')]"
   ]
  },
  {
   "cell_type": "code",
   "execution_count": 9,
   "metadata": {},
   "outputs": [
    {
     "data": {
      "text/plain": [
       "{'virome_virmap_analysis': 260 x 135 <class 'biom.table.Table'> with 505 nonzero entries (1% dense),\n",
       " 'meta_t_ecs': 8291 x 135 <class 'biom.table.Table'> with 59744 nonzero entries (5% dense),\n",
       " 'shared_meta_g_taxonomic_profiles': 181 x 135 <class 'biom.table.Table'> with 4465 nonzero entries (18% dense),\n",
       " 'HMP2_proteomics_ecs': 830 x 135 <class 'biom.table.Table'> with 15760 nonzero entries (14% dense),\n",
       " 'HMP2_metabolomics': 81867 x 135 <class 'biom.table.Table'> with 6886507 nonzero entries (62% dense)}"
      ]
     },
     "execution_count": 9,
     "metadata": {},
     "output_type": "execute_result"
    }
   ],
   "source": [
    "#load the data\n",
    "tables_shared = {k_: load_table('../data/{}.biom'.format(k_)) for k_ in omic_keys}\n",
    "metadata_shared = pd.read_csv('../data/sample-metadata-plus-train-tests-case-study.csv', index_col=0)\n",
    "tables_shared"
   ]
  },
  {
   "cell_type": "code",
   "execution_count": 10,
   "metadata": {},
   "outputs": [
    {
     "name": "stdout",
     "output_type": "stream",
     "text": [
      "virome_virmap_analysis\n",
      "MSM5LLDS       363.0\n",
      "MSM6J2IQ         6.0\n",
      "HSM5MD62      3857.0\n",
      "HSM5MD5D    267904.0\n",
      "ESM5MEDN      1903.0\n",
      "dtype: float64\n",
      "\n",
      "meta_t_ecs\n",
      "CSM5MCVN    1.0\n",
      "CSM5MCXL    1.0\n",
      "CSM5MCY8    1.0\n",
      "CSM5MCZ3    1.0\n",
      "CSM5MCZF    1.0\n",
      "dtype: float64\n",
      "\n",
      "shared_meta_g_taxonomic_profiles\n",
      "CSM5MCVN    1.0\n",
      "CSM5MCXL    1.0\n",
      "CSM5MCY8    1.0\n",
      "CSM5MCZ3    1.0\n",
      "CSM5MCZF    1.0\n",
      "dtype: float64\n",
      "\n",
      "HMP2_proteomics_ecs\n",
      "CSM5MCVN    3473.0\n",
      "CSM5MCXL    1210.0\n",
      "CSM5MCY8    1388.0\n",
      "CSM5MCZ3    1965.0\n",
      "CSM5MCZF     291.0\n",
      "dtype: float64\n",
      "\n",
      "HMP2_metabolomics\n",
      "MSM5LLDS    1.0\n",
      "MSM6J2IQ    1.0\n",
      "HSM5MD62    1.0\n",
      "HSM5MD5D    1.0\n",
      "ESM5MEDN    1.0\n",
      "dtype: float64\n",
      "\n"
     ]
    }
   ],
   "source": [
    "for omic in tables_shared.keys():\n",
    "    print(omic)\n",
    "    tbl_test = tables_shared[omic].to_dataframe().copy()\n",
    "    print(tbl_test.sum(0)[0:5])\n",
    "    print()"
   ]
  },
  {
   "cell_type": "markdown",
   "metadata": {},
   "source": [
    "## Joint-RPCA"
   ]
  },
  {
   "cell_type": "code",
   "execution_count": 16,
   "metadata": {},
   "outputs": [
    {
     "name": "stdout",
     "output_type": "stream",
     "text": [
      "Metabolomics: 1.0% of features: 818\n",
      "Metabolomics: 2.0% of features: 1637\n"
     ]
    }
   ],
   "source": [
    "#generate subsets of metabolomics data\n",
    "metab_all = tables_shared['HMP2_metabolomics'].copy()\n",
    "metabolites_sub = {}\n",
    "for factor in [0.01, 0.02]: \n",
    "    #get metabolomics table\n",
    "    metab = tables_shared['HMP2_metabolomics'].copy()\n",
    "    #number of features to keep\n",
    "    n_features = int(metab.shape[0]*factor)\n",
    "    #randomly select n_features\n",
    "    feature_ids = random.sample(list(metab.ids(axis='observation')), n_features)\n",
    "    #filter table\n",
    "    metabolites_sub[factor] = metab.filter(feature_ids, axis='observation')\n",
    "    #sanity check\n",
    "    print('Metabolomics: {}% of features: {}'.format(factor*100, metabolites_sub[factor].shape[0]))"
   ]
  },
  {
   "cell_type": "code",
   "execution_count": 18,
   "metadata": {},
   "outputs": [
    {
     "data": {
      "text/plain": [
       "{'virome_virmap_analysis': 260 x 135 <class 'biom.table.Table'> with 505 nonzero entries (1% dense),\n",
       " 'meta_t_ecs': 8291 x 135 <class 'biom.table.Table'> with 59744 nonzero entries (5% dense),\n",
       " 'shared_meta_g_taxonomic_profiles': 181 x 135 <class 'biom.table.Table'> with 4465 nonzero entries (18% dense),\n",
       " 'HMP2_proteomics_ecs': 830 x 135 <class 'biom.table.Table'> with 15760 nonzero entries (14% dense)}"
      ]
     },
     "execution_count": 18,
     "metadata": {},
     "output_type": "execute_result"
    }
   ],
   "source": [
    "#create dictionary to store run time by Joint-RPCA\n",
    "runtime = {}\n",
    "\n",
    "#run Joint-RPCA on all data and subsets of metabolomics data\n",
    "tables_no_metab = {k_: v_ for k_, v_ in tables_shared.items() if k_ != 'HMP2_metabolomics'}\n",
    "tables_no_metab"
   ]
  },
  {
   "cell_type": "code",
   "execution_count": 19,
   "metadata": {},
   "outputs": [],
   "source": [
    "for factor in [0, 0.01, 0.02, 1]:\n",
    "\n",
    "    if factor == 0:\n",
    "        tables_use = tables_no_metab.copy()\n",
    "    elif factor==1:\n",
    "        tables_use = tables_shared.copy()\n",
    "    else:\n",
    "        tables_use = tables_shared.copy()\n",
    "        tables_use['HMP2_metabolomics'] = metabolites_sub[factor].copy()\n",
    "\n",
    "    time_start = time.perf_counter()\n",
    "    ord_, dist_, cv_plt = joint_rpca([t.copy() for t in tables_shared.values()],\n",
    "                                    sample_metadata=metadata_shared,\n",
    "                                    train_test_column='train_test',\n",
    "                                    min_feature_frequency=0,\n",
    "                                    min_sample_count=0,\n",
    "                                    min_feature_count=0,\n",
    "                                    n_test_samples=0,\n",
    "                                    max_iterations=5)\n",
    "    time_elapsed = (time.perf_counter() - time_start)\n",
    "    runtime['Joint-RPCA-{}'.format(factor)] = time_elapsed\n",
    "    # ord_.write('../results/joint-rpca-ord.txt')\n",
    "    # dist_.write('../results/joint-rpca-dist.txt')\n",
    "    # cv_plt.to_csv('../results/joint-rpca-cv.txt')"
   ]
  },
  {
   "cell_type": "code",
   "execution_count": 21,
   "metadata": {},
   "outputs": [],
   "source": [
    "#create df to store the run time\n",
    "runtime_df = pd.DataFrame.from_dict(runtime, orient='index', columns=['time (s)'])\n",
    "runtime_df.to_csv('../results/joint-rpca-runtime.csv')\n",
    "#runtime_df"
   ]
  },
  {
   "cell_type": "code",
   "execution_count": 12,
   "metadata": {},
   "outputs": [
    {
     "data": {
      "image/png": "[encoded data removed]",
      "text/plain": [
       "<Figure size 640x480 with 1 Axes>"
      ]
     },
     "metadata": {},
     "output_type": "display_data"
    }
   ],
   "source": [
    "# ord_ = OrdinationResults.read('../results/joint-rpca-ord.txt')\n",
    "# dist_ = DistanceMatrix.read('../results/joint-rpca-dist.txt')\n",
    "\n",
    "#plot the CV results\n",
    "cv_plt = pd.read_csv('../results/joint-rpca-cv.txt', index_col=0)\n",
    "ordination_samples = pd.concat([ord_.samples, metadata_shared], axis=1, sort=False)\n",
    "plt.errorbar(cv_plt.index, cv_plt.mean_CV, yerr=cv_plt.std_CV/2)\n",
    "plt.show()"
   ]
  }
 ],
 "metadata": {
  "kernelspec": {
   "display_name": "Python 3 (ipykernel)",
   "language": "python",
   "name": "python3"
  },
  "language_info": {
   "codemirror_mode": {
    "name": "ipython",
    "version": 3
   },
   "file_extension": ".py",
   "mimetype": "text/x-python",
   "name": "python",
   "nbconvert_exporter": "python",
   "pygments_lexer": "ipython3",
   "version": "3.9.19"
  }
 },
 "nbformat": 4,
 "nbformat_minor": 4
}
