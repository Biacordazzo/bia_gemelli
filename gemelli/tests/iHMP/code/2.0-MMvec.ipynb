{
 "cells": [
  {
   "cell_type": "code",
   "execution_count": 12,
   "metadata": {},
   "outputs": [],
   "source": [
    "import glob\n",
    "import pandas as pd\n",
    "import numpy as np\n",
    "import qiime2 as q2\n",
    "import time\n",
    "from qiime2.plugins.mmvec.actions import paired_omics                                   \n",
    "from biom import load_table, Table\n",
    "from skbio import OrdinationResults\n",
    "\n",
    "import matplotlib.pyplot as plt\n",
    "import seaborn as sns\n",
    "import json\n",
    "import pickle\n",
    "\n",
    "%matplotlib inline\n",
    "\n",
    "#turn off warnings\n",
    "import warnings\n",
    "warnings.filterwarnings(\"ignore\")\n",
    "#turn off tensorflow warnings\n",
    "import os\n",
    "os.environ['TF_CPP_MIN_LOG_LEVEL'] = '2' \n"
   ]
  },
  {
   "cell_type": "code",
   "execution_count": 2,
   "metadata": {},
   "outputs": [],
   "source": [
    "#load the data\n",
    "omic_keys = [omics_.split('/')[-1].split('.')[0] for omics_ in glob.glob('../data/*.biom')]\n",
    "tables_shared = {k_: load_table('../data/{}.biom'.format(k_)) for k_ in omic_keys}\n",
    "metadata_shared = pd.read_csv('../data/sample-metadata-plus-train-tests-case-study.csv', index_col=0)"
   ]
  },
  {
   "cell_type": "code",
   "execution_count": 3,
   "metadata": {},
   "outputs": [],
   "source": [
    "#change index name to 'sample id'\n",
    "metadata_shared.index.name = 'sample id'\n",
    "\n",
    "#change train to Train and test to Test\n",
    "metadata_shared['train_test_mmvec'] = metadata_shared['train_test'].apply(lambda x: 'Train' if x == 'train' else 'Test')"
   ]
  },
  {
   "cell_type": "code",
   "execution_count": 4,
   "metadata": {},
   "outputs": [
    {
     "name": "stdout",
     "output_type": "stream",
     "text": [
      "(135, 492)\n"
     ]
    },
    {
     "data": {
      "text/html": [
       "<div>\n",
       "<style scoped>\n",
       "    .dataframe tbody tr th:only-of-type {\n",
       "        vertical-align: middle;\n",
       "    }\n",
       "\n",
       "    .dataframe tbody tr th {\n",
       "        vertical-align: top;\n",
       "    }\n",
       "\n",
       "    .dataframe thead th {\n",
       "        text-align: right;\n",
       "    }\n",
       "</style>\n",
       "<table border=\"1\" class=\"dataframe\">\n",
       "  <thead>\n",
       "    <tr style=\"text-align: right;\">\n",
       "      <th></th>\n",
       "      <th>Participant ID</th>\n",
       "      <th>site_sub_coll</th>\n",
       "      <th>data_type</th>\n",
       "      <th>week_num</th>\n",
       "      <th>date_of_receipt</th>\n",
       "      <th>interval_days</th>\n",
       "      <th>visit_num</th>\n",
       "      <th>Research Project</th>\n",
       "      <th>PDO Number</th>\n",
       "      <th>GSSR IDs</th>\n",
       "      <th>...</th>\n",
       "      <th>Tube A and B received at Broad:</th>\n",
       "      <th>stool_id</th>\n",
       "      <th>smoking status</th>\n",
       "      <th>Number years smoked</th>\n",
       "      <th>Age when started smoking</th>\n",
       "      <th>How many cigarettes/cigars/etc. do you smoke per day?</th>\n",
       "      <th>Testing</th>\n",
       "      <th>diagnosis_binned</th>\n",
       "      <th>train_test</th>\n",
       "      <th>train_test_mmvec</th>\n",
       "    </tr>\n",
       "    <tr>\n",
       "      <th>sample id</th>\n",
       "      <th></th>\n",
       "      <th></th>\n",
       "      <th></th>\n",
       "      <th></th>\n",
       "      <th></th>\n",
       "      <th></th>\n",
       "      <th></th>\n",
       "      <th></th>\n",
       "      <th></th>\n",
       "      <th></th>\n",
       "      <th></th>\n",
       "      <th></th>\n",
       "      <th></th>\n",
       "      <th></th>\n",
       "      <th></th>\n",
       "      <th></th>\n",
       "      <th></th>\n",
       "      <th></th>\n",
       "      <th></th>\n",
       "      <th></th>\n",
       "      <th></th>\n",
       "    </tr>\n",
       "  </thead>\n",
       "  <tbody>\n",
       "    <tr>\n",
       "      <th>MSM9VZFR</th>\n",
       "      <td>M2079</td>\n",
       "      <td>M2079C5</td>\n",
       "      <td>metabolomics</td>\n",
       "      <td>8.0</td>\n",
       "      <td>2015-09-09</td>\n",
       "      <td>15.0</td>\n",
       "      <td>8</td>\n",
       "      <td>ibdmdb</td>\n",
       "      <td>NaN</td>\n",
       "      <td>NaN</td>\n",
       "      <td>...</td>\n",
       "      <td>No</td>\n",
       "      <td>NaN</td>\n",
       "      <td>NaN</td>\n",
       "      <td>NaN</td>\n",
       "      <td>NaN</td>\n",
       "      <td>NaN</td>\n",
       "      <td>Train</td>\n",
       "      <td>nonIBD</td>\n",
       "      <td>train</td>\n",
       "      <td>Train</td>\n",
       "    </tr>\n",
       "    <tr>\n",
       "      <th>MSM9VZGO</th>\n",
       "      <td>M2061</td>\n",
       "      <td>M2061C14</td>\n",
       "      <td>metabolomics</td>\n",
       "      <td>30.0</td>\n",
       "      <td>2015-08-12</td>\n",
       "      <td>15.0</td>\n",
       "      <td>19</td>\n",
       "      <td>ibdmdb</td>\n",
       "      <td>NaN</td>\n",
       "      <td>NaN</td>\n",
       "      <td>...</td>\n",
       "      <td>No</td>\n",
       "      <td>NaN</td>\n",
       "      <td>NaN</td>\n",
       "      <td>NaN</td>\n",
       "      <td>NaN</td>\n",
       "      <td>NaN</td>\n",
       "      <td>Train</td>\n",
       "      <td>nonIBD</td>\n",
       "      <td>train</td>\n",
       "      <td>Train</td>\n",
       "    </tr>\n",
       "    <tr>\n",
       "      <th>CSM67UEA</th>\n",
       "      <td>C3005</td>\n",
       "      <td>C3005C15</td>\n",
       "      <td>metabolomics</td>\n",
       "      <td>27.0</td>\n",
       "      <td>2014-12-02</td>\n",
       "      <td>14.0</td>\n",
       "      <td>20</td>\n",
       "      <td>ibdmdb</td>\n",
       "      <td>NaN</td>\n",
       "      <td>NaN</td>\n",
       "      <td>...</td>\n",
       "      <td>No</td>\n",
       "      <td>NaN</td>\n",
       "      <td>NaN</td>\n",
       "      <td>NaN</td>\n",
       "      <td>NaN</td>\n",
       "      <td>NaN</td>\n",
       "      <td>Train</td>\n",
       "      <td>IBD</td>\n",
       "      <td>train</td>\n",
       "      <td>Train</td>\n",
       "    </tr>\n",
       "    <tr>\n",
       "      <th>HSM7J4HS</th>\n",
       "      <td>H4035</td>\n",
       "      <td>H4035C5</td>\n",
       "      <td>metabolomics</td>\n",
       "      <td>8.0</td>\n",
       "      <td>2015-06-16</td>\n",
       "      <td>14.0</td>\n",
       "      <td>8</td>\n",
       "      <td>ibdmdb</td>\n",
       "      <td>NaN</td>\n",
       "      <td>NaN</td>\n",
       "      <td>...</td>\n",
       "      <td>No</td>\n",
       "      <td>NaN</td>\n",
       "      <td>NaN</td>\n",
       "      <td>NaN</td>\n",
       "      <td>NaN</td>\n",
       "      <td>NaN</td>\n",
       "      <td>Test</td>\n",
       "      <td>IBD</td>\n",
       "      <td>train</td>\n",
       "      <td>Train</td>\n",
       "    </tr>\n",
       "    <tr>\n",
       "      <th>CSMAG78W</th>\n",
       "      <td>C3022</td>\n",
       "      <td>C3022C23</td>\n",
       "      <td>metabolomics</td>\n",
       "      <td>46.0</td>\n",
       "      <td>2015-10-15</td>\n",
       "      <td>16.0</td>\n",
       "      <td>29</td>\n",
       "      <td>ibdmdb</td>\n",
       "      <td>NaN</td>\n",
       "      <td>NaN</td>\n",
       "      <td>...</td>\n",
       "      <td>No</td>\n",
       "      <td>NaN</td>\n",
       "      <td>NaN</td>\n",
       "      <td>NaN</td>\n",
       "      <td>NaN</td>\n",
       "      <td>NaN</td>\n",
       "      <td>Test</td>\n",
       "      <td>nonIBD</td>\n",
       "      <td>train</td>\n",
       "      <td>Train</td>\n",
       "    </tr>\n",
       "  </tbody>\n",
       "</table>\n",
       "<p>5 rows × 492 columns</p>\n",
       "</div>"
      ],
      "text/plain": [
       "          Participant ID site_sub_coll     data_type  week_num  \\\n",
       "sample id                                                        \n",
       "MSM9VZFR           M2079       M2079C5  metabolomics       8.0   \n",
       "MSM9VZGO           M2061      M2061C14  metabolomics      30.0   \n",
       "CSM67UEA           C3005      C3005C15  metabolomics      27.0   \n",
       "HSM7J4HS           H4035       H4035C5  metabolomics       8.0   \n",
       "CSMAG78W           C3022      C3022C23  metabolomics      46.0   \n",
       "\n",
       "          date_of_receipt  interval_days  visit_num Research Project  \\\n",
       "sample id                                                              \n",
       "MSM9VZFR       2015-09-09           15.0          8           ibdmdb   \n",
       "MSM9VZGO       2015-08-12           15.0         19           ibdmdb   \n",
       "CSM67UEA       2014-12-02           14.0         20           ibdmdb   \n",
       "HSM7J4HS       2015-06-16           14.0          8           ibdmdb   \n",
       "CSMAG78W       2015-10-15           16.0         29           ibdmdb   \n",
       "\n",
       "           PDO Number  GSSR IDs  ...  Tube A and B received at Broad:  \\\n",
       "sample id                        ...                                    \n",
       "MSM9VZFR          NaN       NaN  ...                               No   \n",
       "MSM9VZGO          NaN       NaN  ...                               No   \n",
       "CSM67UEA          NaN       NaN  ...                               No   \n",
       "HSM7J4HS          NaN       NaN  ...                               No   \n",
       "CSMAG78W          NaN       NaN  ...                               No   \n",
       "\n",
       "           stool_id  smoking status  Number years smoked  \\\n",
       "sample id                                                  \n",
       "MSM9VZFR        NaN             NaN                  NaN   \n",
       "MSM9VZGO        NaN             NaN                  NaN   \n",
       "CSM67UEA        NaN             NaN                  NaN   \n",
       "HSM7J4HS        NaN             NaN                  NaN   \n",
       "CSMAG78W        NaN             NaN                  NaN   \n",
       "\n",
       "           Age when started smoking  \\\n",
       "sample id                             \n",
       "MSM9VZFR                        NaN   \n",
       "MSM9VZGO                        NaN   \n",
       "CSM67UEA                        NaN   \n",
       "HSM7J4HS                        NaN   \n",
       "CSMAG78W                        NaN   \n",
       "\n",
       "           How many cigarettes/cigars/etc. do you smoke per day?  Testing  \\\n",
       "sample id                                                                   \n",
       "MSM9VZFR                                                 NaN        Train   \n",
       "MSM9VZGO                                                 NaN        Train   \n",
       "CSM67UEA                                                 NaN        Train   \n",
       "HSM7J4HS                                                 NaN         Test   \n",
       "CSMAG78W                                                 NaN         Test   \n",
       "\n",
       "           diagnosis_binned  train_test  train_test_mmvec  \n",
       "sample id                                                  \n",
       "MSM9VZFR             nonIBD       train             Train  \n",
       "MSM9VZGO             nonIBD       train             Train  \n",
       "CSM67UEA                IBD       train             Train  \n",
       "HSM7J4HS                IBD       train             Train  \n",
       "CSMAG78W             nonIBD       train             Train  \n",
       "\n",
       "[5 rows x 492 columns]"
      ]
     },
     "execution_count": 4,
     "metadata": {},
     "output_type": "execute_result"
    }
   ],
   "source": [
    "print(metadata_shared.shape)\n",
    "metadata_shared.head()"
   ]
  },
  {
   "cell_type": "code",
   "execution_count": 5,
   "metadata": {},
   "outputs": [],
   "source": [
    "#for tables: virome_virmap_analysis, HMP2_proteomics_ecs, HMP2_metabolomics\n",
    "#keep only features that appear in at least 10 samples\n",
    "#tables_shared['virome_virmap_analysis'] = tables_shared['virome_virmap_analysis'].filter(lambda val, id_, md: val.sum() > 10, axis='observation')\n",
    "#tables_shared['HMP2_proteomics_ecs'] = tables_shared['HMP2_proteomics_ecs'].filter(lambda val, id_, md: val.sum() > 10, axis='observation')\n",
    "#tables_shared['HMP2_metabolomics'] = tables_shared['HMP2_metabolomics'].filter(lambda val, id_, md: val.sum() > 10, axis='observation')"
   ]
  },
  {
   "cell_type": "code",
   "execution_count": 5,
   "metadata": {},
   "outputs": [],
   "source": [
    "title_bls = {'HMP2_metabolomics':'Metabolomics',\n",
    "             'shared_meta_g_taxonomic_profiles':'MetaG\\n(taxonomy)',\n",
    "             'virome_virmap_analysis':'Virome',\n",
    "             'HMP2_proteomics_ecs':'Proteomics',\n",
    "             'meta_t_ecs':'MetaT\\n(pathway)'}"
   ]
  },
  {
   "cell_type": "code",
   "execution_count": 6,
   "metadata": {},
   "outputs": [
    {
     "name": "stdout",
     "output_type": "stream",
     "text": [
      "('HMP2_proteomics_ecs', 'shared_meta_g_taxonomic_profiles')\n",
      "WARNING:tensorflow:From /opt/anaconda3/envs/qiime2-2019.10/lib/python3.6/site-packages/mmvec/q2/_method.py:57: The name tf.Session is deprecated. Please use tf.compat.v1.Session instead.\n",
      "\n",
      "WARNING:tensorflow:From /opt/anaconda3/envs/qiime2-2019.10/lib/python3.6/site-packages/mmvec/multimodal.py:90: The name tf.log is deprecated. Please use tf.math.log instead.\n",
      "\n",
      "WARNING:tensorflow:From /opt/anaconda3/envs/qiime2-2019.10/lib/python3.6/site-packages/mmvec/multimodal.py:91: multinomial (from tensorflow.python.ops.random_ops) is deprecated and will be removed in a future version.\n",
      "Instructions for updating:\n",
      "Use `tf.random.categorical` instead.\n",
      "WARNING:tensorflow:From /opt/anaconda3/envs/qiime2-2019.10/lib/python3.6/site-packages/mmvec/multimodal.py:102: The name tf.random_normal is deprecated. Please use tf.random.normal instead.\n",
      "\n",
      "WARNING:tensorflow:From /opt/anaconda3/envs/qiime2-2019.10/lib/python3.6/site-packages/mmvec/multimodal.py:118: Normal.__init__ (from tensorflow.python.ops.distributions.normal) is deprecated and will be removed after 2019-01-01.\n",
      "Instructions for updating:\n",
      "The TensorFlow Distributions library has moved to TensorFlow Probability (https://github.com/tensorflow/probability). You should update all references to use `tfp.distributions` instead of `tf.distributions`.\n",
      "WARNING:tensorflow:From /opt/anaconda3/envs/qiime2-2019.10/lib/python3.6/site-packages/tensorflow_core/python/ops/distributions/normal.py:160: Distribution.__init__ (from tensorflow.python.ops.distributions.distribution) is deprecated and will be removed after 2019-01-01.\n",
      "Instructions for updating:\n",
      "The TensorFlow Distributions library has moved to TensorFlow Probability (https://github.com/tensorflow/probability). You should update all references to use `tfp.distributions` instead of `tf.distributions`.\n",
      "WARNING:tensorflow:From /opt/anaconda3/envs/qiime2-2019.10/lib/python3.6/site-packages/mmvec/multimodal.py:135: Multinomial.__init__ (from tensorflow.python.ops.distributions.multinomial) is deprecated and will be removed after 2019-01-01.\n",
      "Instructions for updating:\n",
      "The TensorFlow Distributions library has moved to TensorFlow Probability (https://github.com/tensorflow/probability). You should update all references to use `tfp.distributions` instead of `tf.distributions`.\n",
      "WARNING:tensorflow:From /opt/anaconda3/envs/qiime2-2019.10/lib/python3.6/site-packages/mmvec/multimodal.py:183: The name tf.summary.scalar is deprecated. Please use tf.compat.v1.summary.scalar instead.\n",
      "\n",
      "WARNING:tensorflow:From /opt/anaconda3/envs/qiime2-2019.10/lib/python3.6/site-packages/mmvec/multimodal.py:185: The name tf.summary.histogram is deprecated. Please use tf.compat.v1.summary.histogram instead.\n",
      "\n",
      "WARNING:tensorflow:From /opt/anaconda3/envs/qiime2-2019.10/lib/python3.6/site-packages/mmvec/multimodal.py:189: The name tf.summary.merge_all is deprecated. Please use tf.compat.v1.summary.merge_all instead.\n",
      "\n",
      "WARNING:tensorflow:From /opt/anaconda3/envs/qiime2-2019.10/lib/python3.6/site-packages/mmvec/multimodal.py:191: The name tf.summary.FileWriter is deprecated. Please use tf.compat.v1.summary.FileWriter instead.\n",
      "\n",
      "WARNING:tensorflow:From /opt/anaconda3/envs/qiime2-2019.10/lib/python3.6/site-packages/mmvec/multimodal.py:196: The name tf.train.AdamOptimizer is deprecated. Please use tf.compat.v1.train.AdamOptimizer instead.\n",
      "\n",
      "WARNING:tensorflow:From /opt/anaconda3/envs/qiime2-2019.10/lib/python3.6/site-packages/tensorflow_core/python/ops/clip_ops.py:301: where (from tensorflow.python.ops.array_ops) is deprecated and will be removed in a future version.\n",
      "Instructions for updating:\n",
      "Use tf.where in 2.0, which has the same broadcast rule as np.where\n",
      "WARNING:tensorflow:From /opt/anaconda3/envs/qiime2-2019.10/lib/python3.6/site-packages/mmvec/multimodal.py:206: The name tf.global_variables_initializer is deprecated. Please use tf.compat.v1.global_variables_initializer instead.\n",
      "\n",
      "WARNING:tensorflow:From /opt/anaconda3/envs/qiime2-2019.10/lib/python3.6/site-packages/mmvec/multimodal.py:243: The name tf.train.Saver is deprecated. Please use tf.compat.v1.train.Saver instead.\n",
      "\n"
     ]
    },
    {
     "name": "stderr",
     "output_type": "stream",
     "text": [
      "100%|██████████| 22294/22294 [00:16<00:00, 1348.32it/s]\n"
     ]
    },
    {
     "name": "stdout",
     "output_type": "stream",
     "text": [
      "Time elapsed:  21.0474\n",
      "('HMP2_proteomics_ecs', 'virome_virmap_analysis')\n"
     ]
    },
    {
     "name": "stderr",
     "output_type": "stream",
     "text": [
      "100%|██████████| 22294/22294 [00:16<00:00, 1336.14it/s]\n"
     ]
    },
    {
     "name": "stdout",
     "output_type": "stream",
     "text": [
      "Time elapsed:  21.1966\n",
      "('HMP2_proteomics_ecs', 'meta_t_ecs')\n"
     ]
    },
    {
     "name": "stderr",
     "output_type": "stream",
     "text": [
      "100%|██████████| 22294/22294 [01:53<00:00, 196.97it/s]\n"
     ]
    },
    {
     "name": "stdout",
     "output_type": "stream",
     "text": [
      "Time elapsed:  135.846\n",
      "('virome_virmap_analysis', 'shared_meta_g_taxonomic_profiles')\n"
     ]
    },
    {
     "name": "stderr",
     "output_type": "stream",
     "text": [
      "100%|██████████| 446/446 [00:00<00:00, 766.33it/s]\n"
     ]
    },
    {
     "name": "stdout",
     "output_type": "stream",
     "text": [
      "Time elapsed:  3.2926\n",
      "('virome_virmap_analysis', 'meta_t_ecs')\n"
     ]
    },
    {
     "name": "stderr",
     "output_type": "stream",
     "text": [
      "100%|██████████| 446/446 [00:02<00:00, 186.12it/s]\n"
     ]
    },
    {
     "name": "stdout",
     "output_type": "stream",
     "text": [
      "Time elapsed:  20.153\n"
     ]
    }
   ],
   "source": [
    "# ref: https://github.com/biocore/mmvec/blob/88ca33b408a85b6bf90fae06982936247b860272/mmvec/q2/_method.py#L14\n",
    "runtime = {}\n",
    "CV_summaries = {}\n",
    "results = {}\n",
    "ranks = {}\n",
    "\n",
    "#assuming we have the following omics:\n",
    "pairs = [('HMP2_proteomics_ecs', 'HMP2_proteomics_ecs'),\n",
    "         ('HMP2_proteomics_ecs', 'shared_meta_g_taxonomic_profiles'),\n",
    "         ('shared_meta_g_taxonomic_profiles', 'HMP2_proteomics_ecs'),\n",
    "         ('shared_meta_g_taxonomic_profiles', 'shared_meta_g_taxonomic_profiles'),\n",
    "         ('HMP2_proteomics_ecs', 'virome_virmap_analysis'),\n",
    "         ('virome_virmap_analysis', 'HMP2_proteomics_ecs'),\n",
    "         ('virome_virmap_analysis', 'virome_virmap_analysis'),\n",
    "         ('HMP2_proteomics_ecs', 'meta_t_ecs'),\n",
    "         ('meta_t_ecs', 'HMP2_proteomics_ecs'),\n",
    "         ('meta_t_ecs', 'meta_t_ecs'),\n",
    "         ('virome_virmap_analysis', 'shared_meta_g_taxonomic_profiles'), \n",
    "         ('shared_meta_g_taxonomic_profiles', 'virome_virmap_analysis'), \n",
    "         ('virome_virmap_analysis', 'meta_t_ecs'),\n",
    "         ('meta_t_ecs', 'virome_virmap_analysis'),\n",
    "         ('shared_meta_g_taxonomic_profiles', 'meta_t_ecs'),\n",
    "         ('meta_t_ecs', 'shared_meta_g_taxonomic_profiles')]\n",
    "\n",
    "for pair in pairs:\n",
    "    print(pair)\n",
    "    #get tables and set to correct format\n",
    "    t1 = tables_shared[pair[0]]\n",
    "    t2 = tables_shared[pair[1]]\n",
    "    t1_q2 = q2.Artifact.import_data('FeatureTable[Frequency]', t1)\n",
    "    t2_q2 = q2.Artifact.import_data('FeatureTable[Frequency]', t2)\n",
    "    \n",
    "    #run and time mmvec\n",
    "    time_start = time.perf_counter()\n",
    "    mmvec_res = paired_omics(t1_q2, t2_q2, \n",
    "                             summary_interval=1,\n",
    "                             metadata=q2.Metadata(metadata_shared),\n",
    "                             training_column='train_test_mmvec',\n",
    "                             min_feature_count=10)\n",
    "    time_elapsed = (time.perf_counter() - time_start)\n",
    "    print('Time elapsed: ', round(time_elapsed,4))\n",
    "    \n",
    "    #save output\n",
    "    runtime[\"{}-{}\".format(pair[0], pair[1])] = time_elapsed\n",
    "    CV_summaries[\"{}-{}\".format(pair[0], pair[1])] = mmvec_res.model_stats.view(q2.Metadata).to_dataframe()\n",
    "    results[\"{}-{}\".format(pair[0], pair[1])] = mmvec_res\n",
    "    ranks[\"{}-{}\".format(pair[0], pair[1])] = mmvec_res.conditionals.view(pd.DataFrame)"
   ]
  },
  {
   "cell_type": "code",
   "execution_count": 7,
   "metadata": {},
   "outputs": [
    {
     "data": {
      "text/plain": [
       "{'HMP2_proteomics_ecs-shared_meta_g_taxonomic_profiles': Results (name = value)\n",
       " --------------------------------------------------------------------------------------------------------------\n",
       " conditionals       = <artifact: FeatureData[Conditional] uuid: a7299bcc-0099-48ee-bbd4-323c35130e16>\n",
       " conditional_biplot = <artifact: PCoAResults % Properties('biplot') uuid: 5a4828b2-df05-479e-b24a-dc3e91667bec>\n",
       " model_stats        = <artifact: SampleData[MMvecStats] uuid: 73b032ea-cd2f-42f6-bb74-1409ae7a59ee>,\n",
       " 'HMP2_proteomics_ecs-virome_virmap_analysis': Results (name = value)\n",
       " --------------------------------------------------------------------------------------------------------------\n",
       " conditionals       = <artifact: FeatureData[Conditional] uuid: bca1ba72-9db8-4e4f-9d3c-98029c8bb8e0>\n",
       " conditional_biplot = <artifact: PCoAResults % Properties('biplot') uuid: 57ec63fa-3ab2-438b-afad-d8a072a4b987>\n",
       " model_stats        = <artifact: SampleData[MMvecStats] uuid: c0b9dc93-72ea-442c-9b73-44f346edca12>,\n",
       " 'HMP2_proteomics_ecs-meta_t_ecs': Results (name = value)\n",
       " --------------------------------------------------------------------------------------------------------------\n",
       " conditionals       = <artifact: FeatureData[Conditional] uuid: bb4a33ef-9cf7-4838-b85a-2fa5ccd8007b>\n",
       " conditional_biplot = <artifact: PCoAResults % Properties('biplot') uuid: bf488acf-d314-4b18-9d10-accd0e8fdc55>\n",
       " model_stats        = <artifact: SampleData[MMvecStats] uuid: 45124995-d780-4624-8302-8b0802b9b8cf>,\n",
       " 'virome_virmap_analysis-shared_meta_g_taxonomic_profiles': Results (name = value)\n",
       " --------------------------------------------------------------------------------------------------------------\n",
       " conditionals       = <artifact: FeatureData[Conditional] uuid: 074c56b6-706d-43dc-8e3a-ea2aaa4e73f9>\n",
       " conditional_biplot = <artifact: PCoAResults % Properties('biplot') uuid: f49e4589-fbdb-4da2-a434-b65d13221922>\n",
       " model_stats        = <artifact: SampleData[MMvecStats] uuid: ee481395-7903-4e04-ae72-e3ec2fbc2ebc>,\n",
       " 'virome_virmap_analysis-meta_t_ecs': Results (name = value)\n",
       " --------------------------------------------------------------------------------------------------------------\n",
       " conditionals       = <artifact: FeatureData[Conditional] uuid: eddb5326-dfc1-4404-ac49-30da1485383f>\n",
       " conditional_biplot = <artifact: PCoAResults % Properties('biplot') uuid: 53d0fb46-ee6e-4d60-b1df-2fcf04f8f1d4>\n",
       " model_stats        = <artifact: SampleData[MMvecStats] uuid: 8f209d59-a843-4240-858e-504ae6aff644>}"
      ]
     },
     "execution_count": 7,
     "metadata": {},
     "output_type": "execute_result"
    }
   ],
   "source": [
    "results"
   ]
  },
  {
   "cell_type": "code",
   "execution_count": 8,
   "metadata": {},
   "outputs": [],
   "source": [
    "#save mmvec results as json/pickle\n",
    "with open(\"../results/mmvec-runtime.json\", \"w\") as outfile: \n",
    "   json.dump(runtime, outfile)\n",
    "\n",
    "with open(\"../results/mmvec-ranks.pickle\", 'wb') as outfile:\n",
    "    pickle.dump(ranks, outfile)\n",
    "\n",
    "with open(\"../results/mmvec-results.pickle\", 'wb') as outfile:\n",
    "    pickle.dump(results, outfile)"
   ]
  },
  {
   "cell_type": "code",
   "execution_count": 9,
   "metadata": {},
   "outputs": [
    {
     "name": "stdout",
     "output_type": "stream",
     "text": [
      "('HMP2_proteomics_ecs', 'shared_meta_g_taxonomic_profiles')\n"
     ]
    },
    {
     "data": {
      "image/png": "[encoded data removed]",
      "text/plain": [
       "<Figure size 432x288 with 1 Axes>"
      ]
     },
     "metadata": {
      "needs_background": "light"
     },
     "output_type": "display_data"
    },
    {
     "name": "stdout",
     "output_type": "stream",
     "text": [
      "('HMP2_proteomics_ecs', 'virome_virmap_analysis')\n"
     ]
    },
    {
     "data": {
      "image/png": "[encoded data removed]",
      "text/plain": [
       "<Figure size 432x288 with 1 Axes>"
      ]
     },
     "metadata": {
      "needs_background": "light"
     },
     "output_type": "display_data"
    },
    {
     "name": "stdout",
     "output_type": "stream",
     "text": [
      "('HMP2_proteomics_ecs', 'meta_t_ecs')\n"
     ]
    },
    {
     "data": {
      "image/png": "[encoded data removed]",
      "text/plain": [
       "<Figure size 432x288 with 1 Axes>"
      ]
     },
     "metadata": {
      "needs_background": "light"
     },
     "output_type": "display_data"
    },
    {
     "name": "stdout",
     "output_type": "stream",
     "text": [
      "('virome_virmap_analysis', 'shared_meta_g_taxonomic_profiles')\n"
     ]
    },
    {
     "data": {
      "image/png": "[encoded data removed]",
      "text/plain": [
       "<Figure size 432x288 with 1 Axes>"
      ]
     },
     "metadata": {
      "needs_background": "light"
     },
     "output_type": "display_data"
    },
    {
     "name": "stdout",
     "output_type": "stream",
     "text": [
      "('virome_virmap_analysis', 'meta_t_ecs')\n"
     ]
    },
    {
     "data": {
      "image/png": "[encoded data removed]",
      "text/plain": [
       "<Figure size 432x288 with 1 Axes>"
      ]
     },
     "metadata": {
      "needs_background": "light"
     },
     "output_type": "display_data"
    }
   ],
   "source": [
    "#plot loss for each iteration\n",
    "for pair in pairs:\n",
    "    print(pair)\n",
    "    CV_summaries[\"{}-{}\".format(pair[0], pair[1])].plot(x='iteration', y='loss', label='loss')\n",
    "    plt.show()"
   ]
  },
  {
   "cell_type": "markdown",
   "metadata": {},
   "source": [
    "### Run-time comparison"
   ]
  },
  {
   "cell_type": "code",
   "execution_count": 10,
   "metadata": {},
   "outputs": [],
   "source": [
    "#load joint-rpca runtime\n",
    "joint_rpca_runtime = pd.read_csv('../results/joint-rpca-runtime.csv')\n",
    "#change col names\n",
    "joint_rpca_runtime.columns = ['method', 'time (s)']\n",
    "#change ('Joint-RPCA', 5) to joint-rpca\n",
    "joint_rpca_runtime.method = 'joint-rpca'\n",
    "joint_rpca_runtime\n",
    "\n",
    "#load mmvec runtime\n",
    "with open('../results/mmvec-runtime.json') as f:\n",
    "    mmvec_runtime = json.load(f)\n",
    "mmvec_runtime_df = pd.DataFrame(mmvec_runtime.items(), columns=['method', 'time (s)'])\n",
    "mmvec_runtime_df\n",
    "\n",
    "##append mmvec runtime to joint-rpca runtime\n",
    "runtime_df = joint_rpca_runtime.append(mmvec_runtime_df)"
   ]
  },
  {
   "cell_type": "code",
   "execution_count": 13,
   "metadata": {},
   "outputs": [],
   "source": [
    "#load joint-rpca ord\n",
    "joint_rpca_ord = OrdinationResults.read('../results/joint-rpca-ord.txt')"
   ]
  },
  {
   "cell_type": "code",
   "execution_count": 17,
   "metadata": {},
   "outputs": [
    {
     "data": {
      "text/html": [
       "<div>\n",
       "<style scoped>\n",
       "    .dataframe tbody tr th:only-of-type {\n",
       "        vertical-align: middle;\n",
       "    }\n",
       "\n",
       "    .dataframe tbody tr th {\n",
       "        vertical-align: top;\n",
       "    }\n",
       "\n",
       "    .dataframe thead th {\n",
       "        text-align: right;\n",
       "    }\n",
       "</style>\n",
       "<table border=\"1\" class=\"dataframe\">\n",
       "  <thead>\n",
       "    <tr style=\"text-align: right;\">\n",
       "      <th></th>\n",
       "      <th>N_features</th>\n",
       "      <th>time (s)</th>\n",
       "    </tr>\n",
       "  </thead>\n",
       "  <tbody>\n",
       "    <tr>\n",
       "      <th>HMP2_proteomics_ecs-meta_t_ecs</th>\n",
       "      <td>8591</td>\n",
       "      <td>135.846005</td>\n",
       "    </tr>\n",
       "    <tr>\n",
       "      <th>HMP2_proteomics_ecs-shared_meta_g_taxonomic_profiles</th>\n",
       "      <td>481</td>\n",
       "      <td>21.047448</td>\n",
       "    </tr>\n",
       "    <tr>\n",
       "      <th>HMP2_proteomics_ecs-virome_virmap_analysis</th>\n",
       "      <td>560</td>\n",
       "      <td>21.196570</td>\n",
       "    </tr>\n",
       "    <tr>\n",
       "      <th>joint-rpca</th>\n",
       "      <td>87343</td>\n",
       "      <td>20.862690</td>\n",
       "    </tr>\n",
       "    <tr>\n",
       "      <th>virome_virmap_analysis-meta_t_ecs</th>\n",
       "      <td>8299</td>\n",
       "      <td>20.153024</td>\n",
       "    </tr>\n",
       "    <tr>\n",
       "      <th>virome_virmap_analysis-shared_meta_g_taxonomic_profiles</th>\n",
       "      <td>189</td>\n",
       "      <td>3.292594</td>\n",
       "    </tr>\n",
       "  </tbody>\n",
       "</table>\n",
       "</div>"
      ],
      "text/plain": [
       "                                                   N_features    time (s)\n",
       "HMP2_proteomics_ecs-meta_t_ecs                           8591  135.846005\n",
       "HMP2_proteomics_ecs-shared_meta_g_taxonomic_pro...        481   21.047448\n",
       "HMP2_proteomics_ecs-virome_virmap_analysis                560   21.196570\n",
       "joint-rpca                                              87343   20.862690\n",
       "virome_virmap_analysis-meta_t_ecs                        8299   20.153024\n",
       "virome_virmap_analysis-shared_meta_g_taxonomic_...        189    3.292594"
      ]
     },
     "execution_count": 17,
     "metadata": {},
     "output_type": "execute_result"
    }
   ],
   "source": [
    "#create df with # of features for each pair\n",
    "n_features_df = pd.DataFrame(columns=['method', 'N_features'])\n",
    "for pair in ranks.keys():\n",
    "    n_ = ranks[pair].shape[0] + ranks[pair].shape[1]\n",
    "    n_features_df = n_features_df.append({'method': pair, \n",
    "                                          'N_features': n_}, \n",
    "                                          ignore_index=True)\n",
    "    \n",
    "n_features_df = n_features_df.append({'method': 'joint-rpca',\n",
    "                                      'N_features': joint_rpca_ord.features.shape[0]}, \n",
    "                                      ignore_index=True)\n",
    "\n",
    "#append runtime to n_features_df\n",
    "n_features_df = pd.concat([n_features_df.set_index('method'), runtime_df.set_index('method')], axis=1)\n",
    "n_features_df"
   ]
  },
  {
   "cell_type": "code",
   "execution_count": 39,
   "metadata": {},
   "outputs": [
    {
     "data": {
      "image/png": "[encoded data removed]",
      "text/plain": [
       "<Figure size 576x504 with 2 Axes>"
      ]
     },
     "metadata": {
      "needs_background": "light"
     },
     "output_type": "display_data"
    }
   ],
   "source": [
    "order = n_features_df.sort_values('N_features', ascending=False).index\n",
    "\n",
    "nicer_labels = {'HMP2_proteomics_ecs-shared_meta_g_taxonomic_profiles': 'Proteomics + \\nMetaG(taxonomy)',\n",
    "                'HMP2_proteomics_ecs-virome_virmap_analysis': 'Proteomics + \\nVirome',\n",
    "                'HMP2_proteomics_ecs-meta_t_ecs': 'Proteomics + \\nMetaT(pathway)',\n",
    "                'virome_virmap_analysis-shared_meta_g_taxonomic_profiles': 'Virome + \\nMetaG(taxonomy)',\n",
    "                'virome_virmap_analysis-meta_t_ecs': 'Virome + \\nMetaT(pathway)',\n",
    "                'joint-rpca': 'Joint-RPCA'}\n",
    "\n",
    "fig, axn = plt.subplots(2, 1, figsize=(8, 7)) #gridspec_kw={'height_ratios': [1,1]})\n",
    "\n",
    "#now, plot runtimes as lines\n",
    "n_features_df = n_features_df.loc[order]\n",
    "axn[0].plot(n_features_df.index, n_features_df['time (s)'], marker='o')\n",
    "axn[0].set_ylabel('Runtime (s)', fontsize=14)\n",
    "axn[0].set_xlabel('')\n",
    "#get nice labels\n",
    "axn[0].set_xticklabels([nicer_labels[x] for x in order], rotation=30)\n",
    "\n",
    "#now, plot # of features\n",
    "axn[1].plot(n_features_df.index, n_features_df['N_features'], marker='o')\n",
    "axn[1].set_ylabel('# of features', fontsize=14)\n",
    "axn[1].set_xlabel('')\n",
    "#hide x-axix labels\n",
    "axn[1].set_xticklabels([])\n",
    "#remove bottom ticks and add top ticks\n",
    "axn[1].tick_params(axis='x', which='both', bottom=False, top=True)\n",
    "\n",
    "#increase font size\n",
    "for ax in axn:\n",
    "    for tick in ax.xaxis.get_major_ticks():\n",
    "        tick.label.set_fontsize(14) \n",
    "    for tick in ax.yaxis.get_major_ticks():\n",
    "        tick.label.set_fontsize(14)\n",
    "\n",
    "#add title\n",
    "fig.suptitle('Methods sorted by runtime',\n",
    "             fontsize=16, x=0.5, y=1.02)\n",
    "plt.tight_layout()\n",
    "plt.savefig('../figures/runtime-features-comparison.png', dpi=300)\n",
    "plt.show()"
   ]
  },
  {
   "cell_type": "code",
   "execution_count": 65,
   "metadata": {},
   "outputs": [],
   "source": [
    "# # run MMvec (default)\n",
    "# pairs = [('HMP2_metabolomics', 'virome_virmap_analysis'),\n",
    "#          ('HMP2_metabolomics', 'shared_meta_g_taxonomic_profiles'),\n",
    "#          ('HMP2_metabolomics', 'meta_t_ecs')]\n",
    "\n",
    "# for pair in pairs:\n",
    "#     print(pair)\n",
    "#     t1 = tables_shared[pair[0]]\n",
    "#     t2 = tables_shared[pair[1]]\n",
    "#     t1_q2 = q2.Artifact.import_data('FeatureTable[Frequency]', t1)\n",
    "#     t2_q2 = q2.Artifact.import_data('FeatureTable[Frequency]', t2)\n",
    "#     time_start = time.perf_counter()\n",
    "#     mmvec_res = paired_omics(t1_q2, t2_q2, \n",
    "#                              summary_interval=1,\n",
    "#                              metadata=q2.Metadata(metadata_shared),\n",
    "#                              training_column='train_test_mmvec')\n",
    "#     time_elapsed = (time.perf_counter() - time_start)\n",
    "#     print('Time elapsed: ', round(time_elapsed,4))\n",
    "#     runtime[(pair[0], pair[1])] = [time_elapsed]\n",
    "#     CV_summaries[(pair[0], pair[1])] = mmvec_res.model_stats.view(q2.Metadata).to_dataframe()"
   ]
  }
 ],
 "metadata": {
  "kernelspec": {
   "display_name": "Python 3 (ipykernel)",
   "language": "python",
   "name": "python3"
  },
  "language_info": {
   "codemirror_mode": {
    "name": "ipython",
    "version": 3
   },
   "file_extension": ".py",
   "mimetype": "text/x-python",
   "name": "python",
   "nbconvert_exporter": "python",
   "pygments_lexer": "ipython3",
   "version": "3.6.7"
  }
 },
 "nbformat": 4,
 "nbformat_minor": 4
}
