{
 "cells": [
  {
   "cell_type": "code",
   "execution_count": 1,
   "metadata": {},
   "outputs": [],
   "source": [
    "import glob\n",
    "import pandas as pd\n",
    "import numpy as np\n",
    "import qiime2 as q2\n",
    "import time\n",
    "from qiime2.plugins.mmvec.actions import paired_omics                                   \n",
    "from biom import load_table, \n",
    "import json\n",
    "import itertools\n",
    "\n",
    "#turn off warnings\n",
    "import warnings\n",
    "warnings.filterwarnings(\"ignore\")\n",
    "#turn off tensorflow warnings\n",
    "import os\n",
    "os.environ['TF_CPP_MIN_LOG_LEVEL'] = '2' "
   ]
  },
  {
   "cell_type": "code",
   "execution_count": 2,
   "metadata": {},
   "outputs": [],
   "source": [
    "#load the data\n",
    "omic_keys = [omics_.split('/')[-1].split('.')[0] for omics_ in glob.glob('../data/*.biom')]\n",
    "tables_shared = {k_: load_table('../data/{}.biom'.format(k_)) for k_ in omic_keys}\n",
    "metadata_shared = pd.read_csv('../data/ihmp-sample-metadata-plus-train-tests.csv', index_col=0)"
   ]
  },
  {
   "cell_type": "code",
   "execution_count": 3,
   "metadata": {},
   "outputs": [],
   "source": [
    "##formatting for running MMvec\n",
    "#change index name to 'sample id'\n",
    "metadata_shared.index.name = 'sample id'\n",
    "\n",
    "#change train to Train and test to Test\n",
    "metadata_shared['train_test_mmvec'] = metadata_shared['train_test'].apply(lambda x: 'Train' if x == 'train' else 'Test')"
   ]
  },
  {
   "cell_type": "code",
   "execution_count": 4,
   "metadata": {},
   "outputs": [
    {
     "data": {
      "text/plain": [
       "[('virome_virmap_analysis', 'virome_virmap_analysis'),\n",
       " ('meta_t_ecs', 'meta_t_ecs'),\n",
       " ('shared_meta_g_taxonomic_profiles', 'shared_meta_g_taxonomic_profiles'),\n",
       " ('HMP2_proteomics_ecs', 'HMP2_proteomics_ecs'),\n",
       " ('HMP2_metabolomics', 'HMP2_metabolomics'),\n",
       " ('virome_virmap_analysis', 'meta_t_ecs'),\n",
       " ('virome_virmap_analysis', 'shared_meta_g_taxonomic_profiles'),\n",
       " ('virome_virmap_analysis', 'HMP2_proteomics_ecs'),\n",
       " ('virome_virmap_analysis', 'HMP2_metabolomics'),\n",
       " ('meta_t_ecs', 'virome_virmap_analysis'),\n",
       " ('meta_t_ecs', 'shared_meta_g_taxonomic_profiles'),\n",
       " ('meta_t_ecs', 'HMP2_proteomics_ecs'),\n",
       " ('meta_t_ecs', 'HMP2_metabolomics'),\n",
       " ('shared_meta_g_taxonomic_profiles', 'virome_virmap_analysis'),\n",
       " ('shared_meta_g_taxonomic_profiles', 'meta_t_ecs'),\n",
       " ('shared_meta_g_taxonomic_profiles', 'HMP2_proteomics_ecs'),\n",
       " ('shared_meta_g_taxonomic_profiles', 'HMP2_metabolomics'),\n",
       " ('HMP2_proteomics_ecs', 'virome_virmap_analysis'),\n",
       " ('HMP2_proteomics_ecs', 'meta_t_ecs'),\n",
       " ('HMP2_proteomics_ecs', 'shared_meta_g_taxonomic_profiles'),\n",
       " ('HMP2_proteomics_ecs', 'HMP2_metabolomics'),\n",
       " ('HMP2_metabolomics', 'virome_virmap_analysis'),\n",
       " ('HMP2_metabolomics', 'meta_t_ecs'),\n",
       " ('HMP2_metabolomics', 'shared_meta_g_taxonomic_profiles'),\n",
       " ('HMP2_metabolomics', 'HMP2_proteomics_ecs')]"
      ]
     },
     "execution_count": 4,
     "metadata": {},
     "output_type": "execute_result"
    }
   ],
   "source": [
    "#create list with all possible pairs of omics\n",
    "pairs = [('virome_virmap_analysis', 'virome_virmap_analysis'),\n",
    "         ('meta_t_ecs', 'meta_t_ecs'),\n",
    "         ('shared_meta_g_taxonomic_profiles', 'shared_meta_g_taxonomic_profiles'),\n",
    "         ('HMP2_proteomics_ecs', 'HMP2_proteomics_ecs'),\n",
    "         ('HMP2_metabolomics', 'HMP2_metabolomics')] + list(itertools.permutations(omic_keys, 2))\n",
    "pairs"
   ]
  },
  {
   "cell_type": "code",
   "execution_count": 5,
   "metadata": {},
   "outputs": [],
   "source": [
    "pairs_no_metabolomics = [pair for pair in pairs if 'HMP2_metabolomics' not in pair]\n",
    "pairs_metabolomics = [pair for pair in pairs if 'HMP2_metabolomics' in pair]"
   ]
  },
  {
   "cell_type": "code",
   "execution_count": 6,
   "metadata": {},
   "outputs": [],
   "source": [
    "#change order of pairs (meta_t_ecs takes too long, make it appear last)\n",
    "pairs_metabolomics = [#('HMP2_metabolomics', 'HMP2_metabolomics'),\n",
    "                      ('virome_virmap_analysis', 'HMP2_metabolomics'),\n",
    "                      ('shared_meta_g_taxonomic_profiles', 'HMP2_metabolomics'),\n",
    "                      ('HMP2_proteomics_ecs', 'HMP2_metabolomics'),\n",
    "                      ('HMP2_metabolomics', 'virome_virmap_analysis'),\n",
    "                      ('HMP2_metabolomics', 'shared_meta_g_taxonomic_profiles'),\n",
    "                      ('HMP2_metabolomics', 'HMP2_proteomics_ecs'),\n",
    "                      ('meta_t_ecs', 'HMP2_metabolomics')]\n",
    "                      #('HMP2_metabolomics', 'meta_t_ecs')]"
   ]
  },
  {
   "cell_type": "code",
   "execution_count": 7,
   "metadata": {},
   "outputs": [
    {
     "name": "stdout",
     "output_type": "stream",
     "text": [
      "Metabolomics: 1.0% of features: 818\n",
      "Metabolomics: 3.0% of features: 2456\n",
      "Metabolomics: 5.0% of features: 4093\n",
      "Metabolomics: 10.0% of features: 8186\n",
      "Metabolomics: 15.0% of features: 12280\n",
      "Metabolomics: 20.0% of features: 16373\n",
      "Metabolomics: 25.0% of features: 20466\n"
     ]
    }
   ],
   "source": [
    "#generate subsets of metabolomics data\n",
    "metabolites_all = tables_shared['HMP2_metabolomics'].copy()\n",
    "\n",
    "metabolites_sub = {}\n",
    "for factor in [0.01, 0.03, 0.05, 0.1, 0.15, 0.2, 0.25]:\n",
    "    #get metabolomics table\n",
    "    metab = tables_shared['HMP2_metabolomics'].copy()\n",
    "    #number of features to keep\n",
    "    n_features = int(metab.shape[0]*factor)\n",
    "    #take first n_features\n",
    "    feature_ids = list(metab.ids(axis='observation'))[:n_features]\n",
    "    #filter table\n",
    "    metabolites_sub[factor] = metab.filter(feature_ids, axis='observation')\n",
    "    #sanity check\n",
    "    print('Metabolomics: {}% of features: {}'.format(factor*100, metabolites_sub[factor].shape[0]))"
   ]
  },
  {
   "cell_type": "code",
   "execution_count": 13,
   "metadata": {},
   "outputs": [],
   "source": [
    "#runtime = {}\n",
    "#runtime_total = {}\n",
    "#CV_summaries = {}\n",
    "#results = {}\n",
    "#ranks = {}"
   ]
  },
  {
   "cell_type": "code",
   "execution_count": 17,
   "metadata": {},
   "outputs": [],
   "source": [
    "# #run mmvec for each pair of omics without metabolomics\n",
    "# factor = 0\n",
    "# time_factor = 0\n",
    "# for pair in pairs_no_metabolomics:  \n",
    "#     print(pair)\n",
    "#     #get tables and set to correct format\n",
    "#     t1 = tables_shared[pair[0]]\n",
    "#     t2 = tables_shared[pair[1]]\n",
    "#     t1_q2 = q2.Artifact.import_data('FeatureTable[Frequency]', t1)\n",
    "#     t2_q2 = q2.Artifact.import_data('FeatureTable[Frequency]', t2)\n",
    "\n",
    "#     #run and time mmvec\n",
    "#     time_start = time.perf_counter()\n",
    "#     mmvec_res = paired_omics(t1_q2, t2_q2, \n",
    "#                             summary_interval=1,\n",
    "#                             metadata=q2.Metadata(metadata_shared),\n",
    "#                             training_column='train_test_mmvec',\n",
    "#                             min_feature_count=10)\n",
    "#     time_elapsed = (time.perf_counter() - time_start)\n",
    "#     time_factor += time_elapsed\n",
    "#     print('Time elapsed: ', round(time_elapsed,4))\n",
    "#     print()\n",
    "\n",
    "#     #save output\n",
    "#     runtime[\"{}-{}\".format(pair[0], pair[1])] = time_elapsed\n",
    "#     #CV_summaries[\"{}-{}\".format(pair[0], pair[1])] = mmvec_res.model_stats.view(q2.Metadata).to_dataframe()\n",
    "#     #results[\"{}-{}\".format(pair[0], pair[1])] = mmvec_res\n",
    "#     #ranks[\"{}-{}\".format(pair[0], pair[1])] = mmvec_res.conditionals.view(pd.DataFrame)\n",
    "\n",
    "# runtime_total[factor] = time_factor\n",
    "# print('Total time elapsed: ', round(time_factor,4))"
   ]
  },
  {
   "cell_type": "code",
   "execution_count": 37,
   "metadata": {},
   "outputs": [
    {
     "data": {
      "text/plain": [
       "{0.01: 2895.78936765901, 0: 1309.9054217080266}"
      ]
     },
     "execution_count": 37,
     "metadata": {},
     "output_type": "execute_result"
    }
   ],
   "source": [
    "# #sanity check\n",
    "# print(runtime_total)\n",
    "\n",
    "# #save mmvec results as json/pickle\n",
    "# with open(\"../results/mmvec-runtime-total.json\", \"w\") as outfile: \n",
    "#    json.dump(runtime_total, outfile)\n",
    "\n",
    "# with open(\"../results/mmvec-runtime.json\", \"w\") as outfile: \n",
    "#    json.dump(runtime, outfile)"
   ]
  },
  {
   "cell_type": "code",
   "execution_count": 8,
   "metadata": {},
   "outputs": [],
   "source": [
    "#load mmvec results\n",
    "with open(\"../results/mmvec-runtime-total.json\", \"r\") as infile:\n",
    "    runtime_total = json.load(infile)\n",
    "\n",
    "with open(\"../results/mmvec-runtime.json\", \"r\") as infile:\n",
    "    runtime = json.load(infile)"
   ]
  },
  {
   "cell_type": "code",
   "execution_count": 24,
   "metadata": {},
   "outputs": [
    {
     "name": "stdout",
     "output_type": "stream",
     "text": [
      "\n",
      "### Metab Features: 1.0% ###\n",
      "Metabolomics n features: 818\n",
      "('virome_virmap_analysis', 'HMP2_metabolomics')\n"
     ]
    },
    {
     "name": "stderr",
     "output_type": "stream",
     "text": [
      "100%|██████████| 442/442 [00:01<00:00, 436.98it/s]\n"
     ]
    },
    {
     "name": "stdout",
     "output_type": "stream",
     "text": [
      "Time elapsed:  5.33\n",
      "\n",
      "('shared_meta_g_taxonomic_profiles', 'HMP2_metabolomics')\n"
     ]
    },
    {
     "name": "stderr",
     "output_type": "stream",
     "text": [
      "100%|██████████| 6278/6278 [00:08<00:00, 754.25it/s]\n"
     ]
    },
    {
     "name": "stdout",
     "output_type": "stream",
     "text": [
      "Time elapsed:  12.37\n",
      "\n",
      "('HMP2_proteomics_ecs', 'HMP2_metabolomics')\n"
     ]
    },
    {
     "name": "stderr",
     "output_type": "stream",
     "text": [
      "100%|██████████| 23250/23250 [00:26<00:00, 868.41it/s]\n"
     ]
    },
    {
     "name": "stdout",
     "output_type": "stream",
     "text": [
      "Time elapsed:  32.51\n",
      "\n",
      "('HMP2_metabolomics', 'virome_virmap_analysis')\n"
     ]
    },
    {
     "name": "stderr",
     "output_type": "stream",
     "text": [
      "100%|██████████| 143430/143430 [02:40<00:00, 893.59it/s] \n"
     ]
    },
    {
     "name": "stdout",
     "output_type": "stream",
     "text": [
      "Time elapsed:  166.41\n",
      "\n",
      "('HMP2_metabolomics', 'shared_meta_g_taxonomic_profiles')\n"
     ]
    },
    {
     "name": "stderr",
     "output_type": "stream",
     "text": [
      "100%|██████████| 143430/143430 [02:34<00:00, 929.58it/s] \n"
     ]
    },
    {
     "name": "stdout",
     "output_type": "stream",
     "text": [
      "Time elapsed:  160.26\n",
      "\n",
      "('HMP2_metabolomics', 'HMP2_proteomics_ecs')\n"
     ]
    },
    {
     "name": "stderr",
     "output_type": "stream",
     "text": [
      "100%|██████████| 143430/143430 [03:35<00:00, 664.10it/s]\n"
     ]
    },
    {
     "name": "stdout",
     "output_type": "stream",
     "text": [
      "Time elapsed:  223.17\n",
      "\n",
      "('meta_t_ecs', 'HMP2_metabolomics')\n"
     ]
    },
    {
     "name": "stderr",
     "output_type": "stream",
     "text": [
      "100%|██████████| 76150/76150 [01:34<00:00, 809.68it/s]\n"
     ]
    },
    {
     "name": "stdout",
     "output_type": "stream",
     "text": [
      "Time elapsed:  117.91\n",
      "\n",
      "Total time elapsed: 717.95 secs (11.97 mins)\n",
      "\n",
      "### Metab Features: 3.0% ###\n",
      "Metabolomics n features: 2456\n",
      "('virome_virmap_analysis', 'HMP2_metabolomics')\n"
     ]
    },
    {
     "name": "stderr",
     "output_type": "stream",
     "text": [
      "100%|██████████| 442/442 [00:01<00:00, 387.75it/s]\n"
     ]
    },
    {
     "name": "stdout",
     "output_type": "stream",
     "text": [
      "Time elapsed:  7.95\n",
      "\n",
      "('shared_meta_g_taxonomic_profiles', 'HMP2_metabolomics')\n"
     ]
    },
    {
     "name": "stderr",
     "output_type": "stream",
     "text": [
      "100%|██████████| 6278/6278 [00:16<00:00, 379.91it/s]\n"
     ]
    },
    {
     "name": "stdout",
     "output_type": "stream",
     "text": [
      "Time elapsed:  23.89\n",
      "\n",
      "('HMP2_proteomics_ecs', 'HMP2_metabolomics')\n"
     ]
    },
    {
     "name": "stderr",
     "output_type": "stream",
     "text": [
      "100%|██████████| 23250/23250 [00:46<00:00, 495.73it/s]\n"
     ]
    },
    {
     "name": "stdout",
     "output_type": "stream",
     "text": [
      "Time elapsed:  56.32\n",
      "\n",
      "('HMP2_metabolomics', 'virome_virmap_analysis')\n"
     ]
    },
    {
     "name": "stderr",
     "output_type": "stream",
     "text": [
      "100%|██████████| 411158/411158 [14:37<00:00, 468.62it/s]\n"
     ]
    },
    {
     "name": "stdout",
     "output_type": "stream",
     "text": [
      "Time elapsed:  889.87\n",
      "\n",
      "('HMP2_metabolomics', 'shared_meta_g_taxonomic_profiles')\n"
     ]
    },
    {
     "name": "stderr",
     "output_type": "stream",
     "text": [
      "100%|██████████| 411158/411158 [13:19<00:00, 514.42it/s]\n"
     ]
    },
    {
     "name": "stdout",
     "output_type": "stream",
     "text": [
      "Time elapsed:  813.41\n",
      "\n",
      "('HMP2_metabolomics', 'HMP2_proteomics_ecs')\n"
     ]
    },
    {
     "name": "stderr",
     "output_type": "stream",
     "text": [
      "100%|██████████| 411158/411158 [25:35<00:00, 267.76it/s]\n"
     ]
    },
    {
     "name": "stdout",
     "output_type": "stream",
     "text": [
      "Time elapsed:  1551.62\n",
      "\n",
      "('meta_t_ecs', 'HMP2_metabolomics')\n"
     ]
    },
    {
     "name": "stderr",
     "output_type": "stream",
     "text": [
      "100%|██████████| 76150/76150 [04:07<00:00, 308.05it/s]\n"
     ]
    },
    {
     "name": "stdout",
     "output_type": "stream",
     "text": [
      "Time elapsed:  278.33\n",
      "\n",
      "Total time elapsed: 3621.38 secs (60.36 mins)\n",
      "\n",
      "### Metab Features: 5.0% ###\n",
      "Metabolomics n features: 4093\n",
      "('virome_virmap_analysis', 'HMP2_metabolomics')\n"
     ]
    },
    {
     "name": "stderr",
     "output_type": "stream",
     "text": [
      "100%|██████████| 442/442 [00:01<00:00, 225.52it/s]\n"
     ]
    },
    {
     "name": "stdout",
     "output_type": "stream",
     "text": [
      "Time elapsed:  11.53\n",
      "\n",
      "('shared_meta_g_taxonomic_profiles', 'HMP2_metabolomics')\n"
     ]
    },
    {
     "name": "stderr",
     "output_type": "stream",
     "text": [
      "100%|██████████| 6278/6278 [00:23<00:00, 264.95it/s]\n"
     ]
    },
    {
     "name": "stdout",
     "output_type": "stream",
     "text": [
      "Time elapsed:  34.29\n",
      "\n",
      "('HMP2_proteomics_ecs', 'HMP2_metabolomics')\n"
     ]
    },
    {
     "name": "stderr",
     "output_type": "stream",
     "text": [
      "100%|██████████| 23250/23250 [01:27<00:00, 264.30it/s]\n"
     ]
    },
    {
     "name": "stdout",
     "output_type": "stream",
     "text": [
      "Time elapsed:  101.19\n",
      "\n",
      "('HMP2_metabolomics', 'virome_virmap_analysis')\n"
     ]
    },
    {
     "name": "stderr",
     "output_type": "stream",
     "text": [
      "100%|██████████| 690780/690780 [43:47<00:00, 262.94it/s]  \n"
     ]
    },
    {
     "name": "stdout",
     "output_type": "stream",
     "text": [
      "Time elapsed:  2647.38\n",
      "\n",
      "('HMP2_metabolomics', 'shared_meta_g_taxonomic_profiles')\n"
     ]
    },
    {
     "name": "stderr",
     "output_type": "stream",
     "text": [
      "100%|██████████| 690780/690780 [39:01<00:00, 295.05it/s]  \n"
     ]
    },
    {
     "name": "stdout",
     "output_type": "stream",
     "text": [
      "Time elapsed:  2361.82\n",
      "\n",
      "('HMP2_metabolomics', 'HMP2_proteomics_ecs')\n"
     ]
    },
    {
     "name": "stderr",
     "output_type": "stream",
     "text": [
      "100%|██████████| 690780/690780 [1:03:29<00:00, 181.35it/s]\n"
     ]
    },
    {
     "name": "stdout",
     "output_type": "stream",
     "text": [
      "Time elapsed:  3837.1\n",
      "\n",
      "('meta_t_ecs', 'HMP2_metabolomics')\n"
     ]
    },
    {
     "name": "stderr",
     "output_type": "stream",
     "text": [
      "100%|██████████| 76150/76150 [05:17<00:00, 239.74it/s]\n"
     ]
    },
    {
     "name": "stdout",
     "output_type": "stream",
     "text": [
      "Time elapsed:  352.56\n",
      "\n",
      "Total time elapsed: 9345.87 secs (155.76 mins)\n",
      "\n",
      "### Metab Features: 10.0% ###\n",
      "Metabolomics n features: 8186\n",
      "('virome_virmap_analysis', 'HMP2_metabolomics')\n"
     ]
    },
    {
     "name": "stderr",
     "output_type": "stream",
     "text": [
      "100%|██████████| 442/442 [00:02<00:00, 183.31it/s]\n"
     ]
    },
    {
     "name": "stdout",
     "output_type": "stream",
     "text": [
      "Time elapsed:  17.63\n",
      "\n",
      "('shared_meta_g_taxonomic_profiles', 'HMP2_metabolomics')\n"
     ]
    },
    {
     "name": "stderr",
     "output_type": "stream",
     "text": [
      "100%|██████████| 6278/6278 [00:28<00:00, 221.90it/s]\n"
     ]
    },
    {
     "name": "stdout",
     "output_type": "stream",
     "text": [
      "Time elapsed:  45.25\n",
      "\n",
      "('HMP2_proteomics_ecs', 'HMP2_metabolomics')\n"
     ]
    },
    {
     "name": "stderr",
     "output_type": "stream",
     "text": [
      "100%|██████████| 23250/23250 [01:59<00:00, 194.26it/s]\n"
     ]
    },
    {
     "name": "stdout",
     "output_type": "stream",
     "text": [
      "Time elapsed:  141.38\n",
      "\n",
      "('HMP2_metabolomics', 'virome_virmap_analysis')\n"
     ]
    },
    {
     "name": "stderr",
     "output_type": "stream",
     "text": [
      "100%|██████████| 1401530/1401530 [2:48:10<00:00, 138.89it/s]  \n"
     ]
    },
    {
     "name": "stdout",
     "output_type": "stream",
     "text": [
      "Time elapsed:  10127.89\n",
      "\n",
      "('HMP2_metabolomics', 'shared_meta_g_taxonomic_profiles')\n"
     ]
    },
    {
     "name": "stderr",
     "output_type": "stream",
     "text": [
      "100%|██████████| 1401530/1401530 [2:34:05<00:00, 151.59it/s] \n"
     ]
    },
    {
     "name": "stdout",
     "output_type": "stream",
     "text": [
      "Time elapsed:  9283.01\n",
      "\n",
      "('HMP2_metabolomics', 'HMP2_proteomics_ecs')\n"
     ]
    },
    {
     "name": "stderr",
     "output_type": "stream",
     "text": [
      " 61%|██████    | 853619/1401530 [5:00:05<1:55:45, 78.89it/s] "
     ]
    },
    {
     "name": "stdout",
     "output_type": "stream",
     "text": [
      "WARNING:tensorflow:From /opt/anaconda3/envs/qiime2-2019.10/lib/python3.6/site-packages/tensorflow_core/python/training/saver.py:963: remove_checkpoint (from tensorflow.python.training.checkpoint_management) is deprecated and will be removed in a future version.\n",
      "Instructions for updating:\n",
      "Use standard file APIs to delete files with this prefix.\n"
     ]
    },
    {
     "name": "stderr",
     "output_type": "stream",
     "text": [
      "100%|██████████| 1401530/1401530 [7:40:21<00:00, 50.74it/s]  \n"
     ]
    },
    {
     "name": "stdout",
     "output_type": "stream",
     "text": [
      "Time elapsed:  27665.57\n",
      "\n",
      "('meta_t_ecs', 'HMP2_metabolomics')\n"
     ]
    },
    {
     "name": "stderr",
     "output_type": "stream",
     "text": [
      "100%|██████████| 76150/76150 [09:09<00:00, 138.64it/s]\n"
     ]
    },
    {
     "name": "stdout",
     "output_type": "stream",
     "text": [
      "Time elapsed:  597.03\n",
      "\n",
      "Total time elapsed: 47877.75 secs (797.96 mins)\n",
      "\n",
      "### Metab Features: 15.0% ###\n",
      "Metabolomics n features: 12280\n",
      "('virome_virmap_analysis', 'HMP2_metabolomics')\n"
     ]
    },
    {
     "name": "stderr",
     "output_type": "stream",
     "text": [
      "100%|██████████| 442/442 [00:03<00:00, 141.97it/s]\n"
     ]
    },
    {
     "name": "stdout",
     "output_type": "stream",
     "text": [
      "Time elapsed:  22.21\n",
      "\n",
      "('shared_meta_g_taxonomic_profiles', 'HMP2_metabolomics')\n"
     ]
    },
    {
     "name": "stderr",
     "output_type": "stream",
     "text": [
      "100%|██████████| 6278/6278 [00:44<00:00, 140.26it/s]\n"
     ]
    },
    {
     "name": "stdout",
     "output_type": "stream",
     "text": [
      "Time elapsed:  66.47\n",
      "\n",
      "('HMP2_proteomics_ecs', 'HMP2_metabolomics')\n"
     ]
    },
    {
     "name": "stderr",
     "output_type": "stream",
     "text": [
      "100%|██████████| 23250/23250 [02:58<00:00, 130.17it/s]\n"
     ]
    },
    {
     "name": "stdout",
     "output_type": "stream",
     "text": [
      "Time elapsed:  205.0\n",
      "\n",
      "('HMP2_metabolomics', 'virome_virmap_analysis')\n"
     ]
    },
    {
     "name": "stderr",
     "output_type": "stream",
     "text": [
      "100%|██████████| 2120592/2120592 [6:29:46<00:00, 90.68it/s]   \n"
     ]
    },
    {
     "name": "stdout",
     "output_type": "stream",
     "text": [
      "Time elapsed:  23435.04\n",
      "\n",
      "('HMP2_metabolomics', 'shared_meta_g_taxonomic_profiles')\n"
     ]
    },
    {
     "name": "stderr",
     "output_type": "stream",
     "text": [
      " 89%|████████▉ | 1884358/2120592 [5:21:19<40:16, 97.74it/s]   \n"
     ]
    },
    {
     "ename": "KeyboardInterrupt",
     "evalue": "",
     "output_type": "error",
     "traceback": [
      "\u001b[0;31m---------------------------------------------------------------------------\u001b[0m",
      "\u001b[0;31mKeyboardInterrupt\u001b[0m                         Traceback (most recent call last)",
      "\u001b[0;32m<ipython-input-24-9d28f7f16623>\u001b[0m in \u001b[0;36m<module>\u001b[0;34m\u001b[0m\n\u001b[1;32m     24\u001b[0m                                 \u001b[0mmetadata\u001b[0m\u001b[0;34m=\u001b[0m\u001b[0mq2\u001b[0m\u001b[0;34m.\u001b[0m\u001b[0mMetadata\u001b[0m\u001b[0;34m(\u001b[0m\u001b[0mmetadata_shared\u001b[0m\u001b[0;34m)\u001b[0m\u001b[0;34m,\u001b[0m\u001b[0;34m\u001b[0m\u001b[0;34m\u001b[0m\u001b[0m\n\u001b[1;32m     25\u001b[0m                                 \u001b[0mtraining_column\u001b[0m\u001b[0;34m=\u001b[0m\u001b[0;34m'train_test_mmvec'\u001b[0m\u001b[0;34m,\u001b[0m\u001b[0;34m\u001b[0m\u001b[0;34m\u001b[0m\u001b[0m\n\u001b[0;32m---> 26\u001b[0;31m                                 min_feature_count=10)\n\u001b[0m\u001b[1;32m     27\u001b[0m         \u001b[0mtime_elapsed\u001b[0m \u001b[0;34m=\u001b[0m \u001b[0;34m(\u001b[0m\u001b[0mtime\u001b[0m\u001b[0;34m.\u001b[0m\u001b[0mperf_counter\u001b[0m\u001b[0;34m(\u001b[0m\u001b[0;34m)\u001b[0m \u001b[0;34m-\u001b[0m \u001b[0mtime_start\u001b[0m\u001b[0;34m)\u001b[0m\u001b[0;34m\u001b[0m\u001b[0;34m\u001b[0m\u001b[0m\n\u001b[1;32m     28\u001b[0m         \u001b[0mtime_factor\u001b[0m \u001b[0;34m+=\u001b[0m \u001b[0mtime_elapsed\u001b[0m\u001b[0;34m\u001b[0m\u001b[0;34m\u001b[0m\u001b[0m\n",
      "\u001b[0;32m</opt/anaconda3/envs/qiime2-2019.10/lib/python3.6/site-packages/decorator.py:decorator-gen-491>\u001b[0m in \u001b[0;36mpaired_omics\u001b[0;34m(microbes, metabolites, metadata, training_column, num_testing_examples, min_feature_count, epochs, batch_size, latent_dim, input_prior, output_prior, learning_rate, equalize_biplot, arm_the_gpu, summary_interval)\u001b[0m\n",
      "\u001b[0;32m/opt/anaconda3/envs/qiime2-2019.10/lib/python3.6/site-packages/qiime2/sdk/action.py\u001b[0m in \u001b[0;36mbound_callable\u001b[0;34m(*args, **kwargs)\u001b[0m\n\u001b[1;32m    238\u001b[0m                 \u001b[0;31m# Execute\u001b[0m\u001b[0;34m\u001b[0m\u001b[0;34m\u001b[0m\u001b[0;34m\u001b[0m\u001b[0m\n\u001b[1;32m    239\u001b[0m                 outputs = self._callable_executor_(scope, callable_args,\n\u001b[0;32m--> 240\u001b[0;31m                                                    output_types, provenance)\n\u001b[0m\u001b[1;32m    241\u001b[0m \u001b[0;34m\u001b[0m\u001b[0m\n\u001b[1;32m    242\u001b[0m                 \u001b[0;32mif\u001b[0m \u001b[0mlen\u001b[0m\u001b[0;34m(\u001b[0m\u001b[0moutputs\u001b[0m\u001b[0;34m)\u001b[0m \u001b[0;34m!=\u001b[0m \u001b[0mlen\u001b[0m\u001b[0;34m(\u001b[0m\u001b[0mself\u001b[0m\u001b[0;34m.\u001b[0m\u001b[0msignature\u001b[0m\u001b[0;34m.\u001b[0m\u001b[0moutputs\u001b[0m\u001b[0;34m)\u001b[0m\u001b[0;34m:\u001b[0m\u001b[0;34m\u001b[0m\u001b[0;34m\u001b[0m\u001b[0m\n",
      "\u001b[0;32m/opt/anaconda3/envs/qiime2-2019.10/lib/python3.6/site-packages/qiime2/sdk/action.py\u001b[0m in \u001b[0;36m_callable_executor_\u001b[0;34m(self, scope, view_args, output_types, provenance)\u001b[0m\n\u001b[1;32m    381\u001b[0m \u001b[0;34m\u001b[0m\u001b[0m\n\u001b[1;32m    382\u001b[0m     \u001b[0;32mdef\u001b[0m \u001b[0m_callable_executor_\u001b[0m\u001b[0;34m(\u001b[0m\u001b[0mself\u001b[0m\u001b[0;34m,\u001b[0m \u001b[0mscope\u001b[0m\u001b[0;34m,\u001b[0m \u001b[0mview_args\u001b[0m\u001b[0;34m,\u001b[0m \u001b[0moutput_types\u001b[0m\u001b[0;34m,\u001b[0m \u001b[0mprovenance\u001b[0m\u001b[0;34m)\u001b[0m\u001b[0;34m:\u001b[0m\u001b[0;34m\u001b[0m\u001b[0;34m\u001b[0m\u001b[0m\n\u001b[0;32m--> 383\u001b[0;31m         \u001b[0moutput_views\u001b[0m \u001b[0;34m=\u001b[0m \u001b[0mself\u001b[0m\u001b[0;34m.\u001b[0m\u001b[0m_callable\u001b[0m\u001b[0;34m(\u001b[0m\u001b[0;34m**\u001b[0m\u001b[0mview_args\u001b[0m\u001b[0;34m)\u001b[0m\u001b[0;34m\u001b[0m\u001b[0;34m\u001b[0m\u001b[0m\n\u001b[0m\u001b[1;32m    384\u001b[0m         \u001b[0moutput_views\u001b[0m \u001b[0;34m=\u001b[0m \u001b[0mtuplize\u001b[0m\u001b[0;34m(\u001b[0m\u001b[0moutput_views\u001b[0m\u001b[0;34m)\u001b[0m\u001b[0;34m\u001b[0m\u001b[0;34m\u001b[0m\u001b[0m\n\u001b[1;32m    385\u001b[0m \u001b[0;34m\u001b[0m\u001b[0m\n",
      "\u001b[0;32m/opt/anaconda3/envs/qiime2-2019.10/lib/python3.6/site-packages/mmvec/q2/_method.py\u001b[0m in \u001b[0;36mpaired_omics\u001b[0;34m(microbes, metabolites, metadata, training_column, num_testing_examples, min_feature_count, epochs, batch_size, latent_dim, input_prior, output_prior, learning_rate, equalize_biplot, arm_the_gpu, summary_interval)\u001b[0m\n\u001b[1;32m     66\u001b[0m               test_microbes_coo, test_metabolites_df.values)\n\u001b[1;32m     67\u001b[0m \u001b[0;34m\u001b[0m\u001b[0m\n\u001b[0;32m---> 68\u001b[0;31m         \u001b[0mloss\u001b[0m\u001b[0;34m,\u001b[0m \u001b[0mcv\u001b[0m \u001b[0;34m=\u001b[0m \u001b[0mmodel\u001b[0m\u001b[0;34m.\u001b[0m\u001b[0mfit\u001b[0m\u001b[0;34m(\u001b[0m\u001b[0mepoch\u001b[0m\u001b[0;34m=\u001b[0m\u001b[0mepochs\u001b[0m\u001b[0;34m,\u001b[0m \u001b[0msummary_interval\u001b[0m\u001b[0;34m=\u001b[0m\u001b[0msummary_interval\u001b[0m\u001b[0;34m)\u001b[0m\u001b[0;34m\u001b[0m\u001b[0;34m\u001b[0m\u001b[0m\n\u001b[0m\u001b[1;32m     69\u001b[0m         ranks = pd.DataFrame(model.ranks(), index=train_microbes_df.columns,\n\u001b[1;32m     70\u001b[0m                              columns=train_metabolites_df.columns)\n",
      "\u001b[0;32m/opt/anaconda3/envs/qiime2-2019.10/lib/python3.6/site-packages/mmvec/multimodal.py\u001b[0m in \u001b[0;36mfit\u001b[0;34m(self, epoch, summary_interval, checkpoint_interval, testX, testY)\u001b[0m\n\u001b[1;32m    258\u001b[0m                     [self.train, self.log_loss,\n\u001b[1;32m    259\u001b[0m                      \u001b[0mself\u001b[0m\u001b[0;34m.\u001b[0m\u001b[0mqUmain\u001b[0m\u001b[0;34m,\u001b[0m \u001b[0mself\u001b[0m\u001b[0;34m.\u001b[0m\u001b[0mqUbias\u001b[0m\u001b[0;34m,\u001b[0m\u001b[0;34m\u001b[0m\u001b[0;34m\u001b[0m\u001b[0m\n\u001b[0;32m--> 260\u001b[0;31m                      self.qVmain, self.qVbias]\n\u001b[0m\u001b[1;32m    261\u001b[0m                 )\n\u001b[1;32m    262\u001b[0m                 \u001b[0mtrain_\u001b[0m\u001b[0;34m,\u001b[0m \u001b[0mloss\u001b[0m\u001b[0;34m,\u001b[0m \u001b[0mrU\u001b[0m\u001b[0;34m,\u001b[0m \u001b[0mrUb\u001b[0m\u001b[0;34m,\u001b[0m \u001b[0mrV\u001b[0m\u001b[0;34m,\u001b[0m \u001b[0mrVb\u001b[0m \u001b[0;34m=\u001b[0m \u001b[0mres\u001b[0m\u001b[0;34m\u001b[0m\u001b[0;34m\u001b[0m\u001b[0m\n",
      "\u001b[0;32m/opt/anaconda3/envs/qiime2-2019.10/lib/python3.6/site-packages/tensorflow_core/python/client/session.py\u001b[0m in \u001b[0;36mrun\u001b[0;34m(self, fetches, feed_dict, options, run_metadata)\u001b[0m\n\u001b[1;32m    954\u001b[0m     \u001b[0;32mtry\u001b[0m\u001b[0;34m:\u001b[0m\u001b[0;34m\u001b[0m\u001b[0;34m\u001b[0m\u001b[0m\n\u001b[1;32m    955\u001b[0m       result = self._run(None, fetches, feed_dict, options_ptr,\n\u001b[0;32m--> 956\u001b[0;31m                          run_metadata_ptr)\n\u001b[0m\u001b[1;32m    957\u001b[0m       \u001b[0;32mif\u001b[0m \u001b[0mrun_metadata\u001b[0m\u001b[0;34m:\u001b[0m\u001b[0;34m\u001b[0m\u001b[0;34m\u001b[0m\u001b[0m\n\u001b[1;32m    958\u001b[0m         \u001b[0mproto_data\u001b[0m \u001b[0;34m=\u001b[0m \u001b[0mtf_session\u001b[0m\u001b[0;34m.\u001b[0m\u001b[0mTF_GetBuffer\u001b[0m\u001b[0;34m(\u001b[0m\u001b[0mrun_metadata_ptr\u001b[0m\u001b[0;34m)\u001b[0m\u001b[0;34m\u001b[0m\u001b[0;34m\u001b[0m\u001b[0m\n",
      "\u001b[0;32m/opt/anaconda3/envs/qiime2-2019.10/lib/python3.6/site-packages/tensorflow_core/python/client/session.py\u001b[0m in \u001b[0;36m_run\u001b[0;34m(self, handle, fetches, feed_dict, options, run_metadata)\u001b[0m\n\u001b[1;32m   1178\u001b[0m     \u001b[0;32mif\u001b[0m \u001b[0mfinal_fetches\u001b[0m \u001b[0;32mor\u001b[0m \u001b[0mfinal_targets\u001b[0m \u001b[0;32mor\u001b[0m \u001b[0;34m(\u001b[0m\u001b[0mhandle\u001b[0m \u001b[0;32mand\u001b[0m \u001b[0mfeed_dict_tensor\u001b[0m\u001b[0;34m)\u001b[0m\u001b[0;34m:\u001b[0m\u001b[0;34m\u001b[0m\u001b[0;34m\u001b[0m\u001b[0m\n\u001b[1;32m   1179\u001b[0m       results = self._do_run(handle, final_targets, final_fetches,\n\u001b[0;32m-> 1180\u001b[0;31m                              feed_dict_tensor, options, run_metadata)\n\u001b[0m\u001b[1;32m   1181\u001b[0m     \u001b[0;32melse\u001b[0m\u001b[0;34m:\u001b[0m\u001b[0;34m\u001b[0m\u001b[0;34m\u001b[0m\u001b[0m\n\u001b[1;32m   1182\u001b[0m       \u001b[0mresults\u001b[0m \u001b[0;34m=\u001b[0m \u001b[0;34m[\u001b[0m\u001b[0;34m]\u001b[0m\u001b[0;34m\u001b[0m\u001b[0;34m\u001b[0m\u001b[0m\n",
      "\u001b[0;32m/opt/anaconda3/envs/qiime2-2019.10/lib/python3.6/site-packages/tensorflow_core/python/client/session.py\u001b[0m in \u001b[0;36m_do_run\u001b[0;34m(self, handle, target_list, fetch_list, feed_dict, options, run_metadata)\u001b[0m\n\u001b[1;32m   1357\u001b[0m     \u001b[0;32mif\u001b[0m \u001b[0mhandle\u001b[0m \u001b[0;32mis\u001b[0m \u001b[0;32mNone\u001b[0m\u001b[0;34m:\u001b[0m\u001b[0;34m\u001b[0m\u001b[0;34m\u001b[0m\u001b[0m\n\u001b[1;32m   1358\u001b[0m       return self._do_call(_run_fn, feeds, fetches, targets, options,\n\u001b[0;32m-> 1359\u001b[0;31m                            run_metadata)\n\u001b[0m\u001b[1;32m   1360\u001b[0m     \u001b[0;32melse\u001b[0m\u001b[0;34m:\u001b[0m\u001b[0;34m\u001b[0m\u001b[0;34m\u001b[0m\u001b[0m\n\u001b[1;32m   1361\u001b[0m       \u001b[0;32mreturn\u001b[0m \u001b[0mself\u001b[0m\u001b[0;34m.\u001b[0m\u001b[0m_do_call\u001b[0m\u001b[0;34m(\u001b[0m\u001b[0m_prun_fn\u001b[0m\u001b[0;34m,\u001b[0m \u001b[0mhandle\u001b[0m\u001b[0;34m,\u001b[0m \u001b[0mfeeds\u001b[0m\u001b[0;34m,\u001b[0m \u001b[0mfetches\u001b[0m\u001b[0;34m)\u001b[0m\u001b[0;34m\u001b[0m\u001b[0;34m\u001b[0m\u001b[0m\n",
      "\u001b[0;32m/opt/anaconda3/envs/qiime2-2019.10/lib/python3.6/site-packages/tensorflow_core/python/client/session.py\u001b[0m in \u001b[0;36m_do_call\u001b[0;34m(self, fn, *args)\u001b[0m\n\u001b[1;32m   1363\u001b[0m   \u001b[0;32mdef\u001b[0m \u001b[0m_do_call\u001b[0m\u001b[0;34m(\u001b[0m\u001b[0mself\u001b[0m\u001b[0;34m,\u001b[0m \u001b[0mfn\u001b[0m\u001b[0;34m,\u001b[0m \u001b[0;34m*\u001b[0m\u001b[0margs\u001b[0m\u001b[0;34m)\u001b[0m\u001b[0;34m:\u001b[0m\u001b[0;34m\u001b[0m\u001b[0;34m\u001b[0m\u001b[0m\n\u001b[1;32m   1364\u001b[0m     \u001b[0;32mtry\u001b[0m\u001b[0;34m:\u001b[0m\u001b[0;34m\u001b[0m\u001b[0;34m\u001b[0m\u001b[0m\n\u001b[0;32m-> 1365\u001b[0;31m       \u001b[0;32mreturn\u001b[0m \u001b[0mfn\u001b[0m\u001b[0;34m(\u001b[0m\u001b[0;34m*\u001b[0m\u001b[0margs\u001b[0m\u001b[0;34m)\u001b[0m\u001b[0;34m\u001b[0m\u001b[0;34m\u001b[0m\u001b[0m\n\u001b[0m\u001b[1;32m   1366\u001b[0m     \u001b[0;32mexcept\u001b[0m \u001b[0merrors\u001b[0m\u001b[0;34m.\u001b[0m\u001b[0mOpError\u001b[0m \u001b[0;32mas\u001b[0m \u001b[0me\u001b[0m\u001b[0;34m:\u001b[0m\u001b[0;34m\u001b[0m\u001b[0;34m\u001b[0m\u001b[0m\n\u001b[1;32m   1367\u001b[0m       \u001b[0mmessage\u001b[0m \u001b[0;34m=\u001b[0m \u001b[0mcompat\u001b[0m\u001b[0;34m.\u001b[0m\u001b[0mas_text\u001b[0m\u001b[0;34m(\u001b[0m\u001b[0me\u001b[0m\u001b[0;34m.\u001b[0m\u001b[0mmessage\u001b[0m\u001b[0;34m)\u001b[0m\u001b[0;34m\u001b[0m\u001b[0;34m\u001b[0m\u001b[0m\n",
      "\u001b[0;32m/opt/anaconda3/envs/qiime2-2019.10/lib/python3.6/site-packages/tensorflow_core/python/client/session.py\u001b[0m in \u001b[0;36m_run_fn\u001b[0;34m(feed_dict, fetch_list, target_list, options, run_metadata)\u001b[0m\n\u001b[1;32m   1348\u001b[0m       \u001b[0mself\u001b[0m\u001b[0;34m.\u001b[0m\u001b[0m_extend_graph\u001b[0m\u001b[0;34m(\u001b[0m\u001b[0;34m)\u001b[0m\u001b[0;34m\u001b[0m\u001b[0;34m\u001b[0m\u001b[0m\n\u001b[1;32m   1349\u001b[0m       return self._call_tf_sessionrun(options, feed_dict, fetch_list,\n\u001b[0;32m-> 1350\u001b[0;31m                                       target_list, run_metadata)\n\u001b[0m\u001b[1;32m   1351\u001b[0m \u001b[0;34m\u001b[0m\u001b[0m\n\u001b[1;32m   1352\u001b[0m     \u001b[0;32mdef\u001b[0m \u001b[0m_prun_fn\u001b[0m\u001b[0;34m(\u001b[0m\u001b[0mhandle\u001b[0m\u001b[0;34m,\u001b[0m \u001b[0mfeed_dict\u001b[0m\u001b[0;34m,\u001b[0m \u001b[0mfetch_list\u001b[0m\u001b[0;34m)\u001b[0m\u001b[0;34m:\u001b[0m\u001b[0;34m\u001b[0m\u001b[0;34m\u001b[0m\u001b[0m\n",
      "\u001b[0;32m/opt/anaconda3/envs/qiime2-2019.10/lib/python3.6/site-packages/tensorflow_core/python/client/session.py\u001b[0m in \u001b[0;36m_call_tf_sessionrun\u001b[0;34m(self, options, feed_dict, fetch_list, target_list, run_metadata)\u001b[0m\n\u001b[1;32m   1441\u001b[0m     return tf_session.TF_SessionRun_wrapper(self._session, options, feed_dict,\n\u001b[1;32m   1442\u001b[0m                                             \u001b[0mfetch_list\u001b[0m\u001b[0;34m,\u001b[0m \u001b[0mtarget_list\u001b[0m\u001b[0;34m,\u001b[0m\u001b[0;34m\u001b[0m\u001b[0;34m\u001b[0m\u001b[0m\n\u001b[0;32m-> 1443\u001b[0;31m                                             run_metadata)\n\u001b[0m\u001b[1;32m   1444\u001b[0m \u001b[0;34m\u001b[0m\u001b[0m\n\u001b[1;32m   1445\u001b[0m   \u001b[0;32mdef\u001b[0m \u001b[0m_call_tf_sessionprun\u001b[0m\u001b[0;34m(\u001b[0m\u001b[0mself\u001b[0m\u001b[0;34m,\u001b[0m \u001b[0mhandle\u001b[0m\u001b[0;34m,\u001b[0m \u001b[0mfeed_dict\u001b[0m\u001b[0;34m,\u001b[0m \u001b[0mfetch_list\u001b[0m\u001b[0;34m)\u001b[0m\u001b[0;34m:\u001b[0m\u001b[0;34m\u001b[0m\u001b[0;34m\u001b[0m\u001b[0m\n",
      "\u001b[0;31mKeyboardInterrupt\u001b[0m: "
     ]
    }
   ],
   "source": [
    "#ref: https://github.com/biocore/mmvec/blob/88ca33b408a85b6bf90fae06982936247b860272/mmvec/q2/_method.py#L14\n",
    "\n",
    "for factor in [0.01, 0.03, 0.05, 0.1, 0.15, 0.2, 0.25]:\n",
    "    print('\\n### Metab Features: {}% ###'.format(factor*100))\n",
    "    metab_table = metabolites_sub[factor]\n",
    "    table_to_use = tables_shared.copy()\n",
    "    table_to_use['HMP2_metabolomics'] = metab_table\n",
    "    print('Metabolomics n features: {}'.format(table_to_use['HMP2_metabolomics'].shape[0]))\n",
    "\n",
    "    time_factor = 0\n",
    "    for pair in pairs_metabolomics:\n",
    "        print(pair)\n",
    "        \n",
    "        #get tables and set to correct format\n",
    "        t1 = table_to_use[pair[0]]\n",
    "        t2 = table_to_use[pair[1]]\n",
    "        t1_q2 = q2.Artifact.import_data('FeatureTable[Frequency]', t1)\n",
    "        t2_q2 = q2.Artifact.import_data('FeatureTable[Frequency]', t2)\n",
    "\n",
    "        #run and time mmvec\n",
    "        time_start = time.perf_counter()\n",
    "        mmvec_res = paired_omics(t1_q2, t2_q2, \n",
    "                                summary_interval=1,\n",
    "                                metadata=q2.Metadata(metadata_shared),\n",
    "                                training_column='train_test_mmvec',\n",
    "                                min_feature_count=10)\n",
    "        time_elapsed = (time.perf_counter() - time_start)\n",
    "        time_factor += time_elapsed\n",
    "        print('Time elapsed: ', round(time_elapsed,2))\n",
    "        print()\n",
    "\n",
    "        # update pair name before saving\n",
    "        if pair[0] == 'HMP2_metabolomics':\n",
    "            pair = ('HMP2_metabolomics_{}'.format(factor), pair[1])\n",
    "        if pair[1] == 'HMP2_metabolomics':\n",
    "            pair = (pair[0], 'HMP2_metabolomics_{}'.format(factor))\n",
    "        #save output\n",
    "        runtime[\"{}-{}\".format(pair[0], pair[1])] = time_elapsed\n",
    "    \n",
    "    runtime_total[factor] = time_factor\n",
    "    print('Total time elapsed: {} secs ({} mins)'.format(round(time_factor, 2),\n",
    "                                                         round(time_factor/60, 2)))\n",
    "    #if time exceeds 1.5 hours, stop the loop\n",
    "    # if time_factor > 5400:\n",
    "    #     print('Last runtime {} exceeds 1 hour'.format(time_factor))\n",
    "    #     print('Stopping loop')\n",
    "    #     break"
   ]
  },
  {
   "cell_type": "code",
   "execution_count": 14,
   "metadata": {},
   "outputs": [
    {
     "name": "stdout",
     "output_type": "stream",
     "text": [
      "\n",
      "### Metab Features: 15.0% ###\n",
      "Metabolomics n features: 12280\n",
      "('virome_virmap_analysis', 'HMP2_metabolomics')\n"
     ]
    },
    {
     "name": "stderr",
     "output_type": "stream",
     "text": [
      "100%|██████████| 442/442 [00:03<00:00, 134.59it/s]\n"
     ]
    },
    {
     "name": "stdout",
     "output_type": "stream",
     "text": [
      "Time elapsed:  25.23\n",
      "\n",
      "('shared_meta_g_taxonomic_profiles', 'HMP2_metabolomics')\n"
     ]
    },
    {
     "name": "stderr",
     "output_type": "stream",
     "text": [
      "100%|██████████| 6278/6278 [00:46<00:00, 135.19it/s]\n"
     ]
    },
    {
     "name": "stdout",
     "output_type": "stream",
     "text": [
      "Time elapsed:  70.29\n",
      "\n",
      "('HMP2_proteomics_ecs', 'HMP2_metabolomics')\n"
     ]
    },
    {
     "name": "stderr",
     "output_type": "stream",
     "text": [
      "100%|██████████| 23250/23250 [03:07<00:00, 124.17it/s]\n"
     ]
    },
    {
     "name": "stdout",
     "output_type": "stream",
     "text": [
      "Time elapsed:  216.97\n",
      "\n",
      "('HMP2_metabolomics', 'virome_virmap_analysis')\n"
     ]
    },
    {
     "name": "stderr",
     "output_type": "stream",
     "text": [
      " 78%|███████▊  | 1662104/2120592 [5:00:03<57:46, 132.25it/s]  "
     ]
    },
    {
     "name": "stdout",
     "output_type": "stream",
     "text": [
      "WARNING:tensorflow:From /opt/anaconda3/envs/qiime2-2019.10/lib/python3.6/site-packages/tensorflow_core/python/training/saver.py:963: remove_checkpoint (from tensorflow.python.training.checkpoint_management) is deprecated and will be removed in a future version.\n",
      "Instructions for updating:\n",
      "Use standard file APIs to delete files with this prefix.\n"
     ]
    },
    {
     "name": "stderr",
     "output_type": "stream",
     "text": [
      "100%|██████████| 2120592/2120592 [6:23:06<00:00, 92.25it/s]   \n"
     ]
    },
    {
     "name": "stdout",
     "output_type": "stream",
     "text": [
      "Time elapsed:  23039.25\n",
      "\n",
      "('HMP2_metabolomics', 'shared_meta_g_taxonomic_profiles')\n"
     ]
    },
    {
     "name": "stderr",
     "output_type": "stream",
     "text": [
      "100%|██████████| 2120592/2120592 [5:31:40<00:00, 106.56it/s]  \n"
     ]
    },
    {
     "name": "stdout",
     "output_type": "stream",
     "text": [
      "Time elapsed:  19948.17\n",
      "\n",
      "('HMP2_metabolomics', 'HMP2_proteomics_ecs')\n"
     ]
    },
    {
     "name": "stderr",
     "output_type": "stream",
     "text": [
      "  4%|▎         | 76444/2120592 [22:54:02<612:22:23,  1.08s/it] \n"
     ]
    },
    {
     "ename": "KeyboardInterrupt",
     "evalue": "",
     "output_type": "error",
     "traceback": [
      "\u001b[0;31m---------------------------------------------------------------------------\u001b[0m",
      "\u001b[0;31mKeyboardInterrupt\u001b[0m                         Traceback (most recent call last)",
      "\u001b[0;32m<ipython-input-14-3a780221dc51>\u001b[0m in \u001b[0;36m<module>\u001b[0;34m\u001b[0m\n\u001b[1;32m     24\u001b[0m                                 \u001b[0mmetadata\u001b[0m\u001b[0;34m=\u001b[0m\u001b[0mq2\u001b[0m\u001b[0;34m.\u001b[0m\u001b[0mMetadata\u001b[0m\u001b[0;34m(\u001b[0m\u001b[0mmetadata_shared\u001b[0m\u001b[0;34m)\u001b[0m\u001b[0;34m,\u001b[0m\u001b[0;34m\u001b[0m\u001b[0;34m\u001b[0m\u001b[0m\n\u001b[1;32m     25\u001b[0m                                 \u001b[0mtraining_column\u001b[0m\u001b[0;34m=\u001b[0m\u001b[0;34m'train_test_mmvec'\u001b[0m\u001b[0;34m,\u001b[0m\u001b[0;34m\u001b[0m\u001b[0;34m\u001b[0m\u001b[0m\n\u001b[0;32m---> 26\u001b[0;31m                                 min_feature_count=10)\n\u001b[0m\u001b[1;32m     27\u001b[0m         \u001b[0mtime_elapsed\u001b[0m \u001b[0;34m=\u001b[0m \u001b[0;34m(\u001b[0m\u001b[0mtime\u001b[0m\u001b[0;34m.\u001b[0m\u001b[0mperf_counter\u001b[0m\u001b[0;34m(\u001b[0m\u001b[0;34m)\u001b[0m \u001b[0;34m-\u001b[0m \u001b[0mtime_start\u001b[0m\u001b[0;34m)\u001b[0m\u001b[0;34m\u001b[0m\u001b[0;34m\u001b[0m\u001b[0m\n\u001b[1;32m     28\u001b[0m         \u001b[0mtime_factor\u001b[0m \u001b[0;34m+=\u001b[0m \u001b[0mtime_elapsed\u001b[0m\u001b[0;34m\u001b[0m\u001b[0;34m\u001b[0m\u001b[0m\n",
      "\u001b[0;32m</opt/anaconda3/envs/qiime2-2019.10/lib/python3.6/site-packages/decorator.py:decorator-gen-491>\u001b[0m in \u001b[0;36mpaired_omics\u001b[0;34m(microbes, metabolites, metadata, training_column, num_testing_examples, min_feature_count, epochs, batch_size, latent_dim, input_prior, output_prior, learning_rate, equalize_biplot, arm_the_gpu, summary_interval)\u001b[0m\n",
      "\u001b[0;32m/opt/anaconda3/envs/qiime2-2019.10/lib/python3.6/site-packages/qiime2/sdk/action.py\u001b[0m in \u001b[0;36mbound_callable\u001b[0;34m(*args, **kwargs)\u001b[0m\n\u001b[1;32m    238\u001b[0m                 \u001b[0;31m# Execute\u001b[0m\u001b[0;34m\u001b[0m\u001b[0;34m\u001b[0m\u001b[0;34m\u001b[0m\u001b[0m\n\u001b[1;32m    239\u001b[0m                 outputs = self._callable_executor_(scope, callable_args,\n\u001b[0;32m--> 240\u001b[0;31m                                                    output_types, provenance)\n\u001b[0m\u001b[1;32m    241\u001b[0m \u001b[0;34m\u001b[0m\u001b[0m\n\u001b[1;32m    242\u001b[0m                 \u001b[0;32mif\u001b[0m \u001b[0mlen\u001b[0m\u001b[0;34m(\u001b[0m\u001b[0moutputs\u001b[0m\u001b[0;34m)\u001b[0m \u001b[0;34m!=\u001b[0m \u001b[0mlen\u001b[0m\u001b[0;34m(\u001b[0m\u001b[0mself\u001b[0m\u001b[0;34m.\u001b[0m\u001b[0msignature\u001b[0m\u001b[0;34m.\u001b[0m\u001b[0moutputs\u001b[0m\u001b[0;34m)\u001b[0m\u001b[0;34m:\u001b[0m\u001b[0;34m\u001b[0m\u001b[0;34m\u001b[0m\u001b[0m\n",
      "\u001b[0;32m/opt/anaconda3/envs/qiime2-2019.10/lib/python3.6/site-packages/qiime2/sdk/action.py\u001b[0m in \u001b[0;36m_callable_executor_\u001b[0;34m(self, scope, view_args, output_types, provenance)\u001b[0m\n\u001b[1;32m    381\u001b[0m \u001b[0;34m\u001b[0m\u001b[0m\n\u001b[1;32m    382\u001b[0m     \u001b[0;32mdef\u001b[0m \u001b[0m_callable_executor_\u001b[0m\u001b[0;34m(\u001b[0m\u001b[0mself\u001b[0m\u001b[0;34m,\u001b[0m \u001b[0mscope\u001b[0m\u001b[0;34m,\u001b[0m \u001b[0mview_args\u001b[0m\u001b[0;34m,\u001b[0m \u001b[0moutput_types\u001b[0m\u001b[0;34m,\u001b[0m \u001b[0mprovenance\u001b[0m\u001b[0;34m)\u001b[0m\u001b[0;34m:\u001b[0m\u001b[0;34m\u001b[0m\u001b[0;34m\u001b[0m\u001b[0m\n\u001b[0;32m--> 383\u001b[0;31m         \u001b[0moutput_views\u001b[0m \u001b[0;34m=\u001b[0m \u001b[0mself\u001b[0m\u001b[0;34m.\u001b[0m\u001b[0m_callable\u001b[0m\u001b[0;34m(\u001b[0m\u001b[0;34m**\u001b[0m\u001b[0mview_args\u001b[0m\u001b[0;34m)\u001b[0m\u001b[0;34m\u001b[0m\u001b[0;34m\u001b[0m\u001b[0m\n\u001b[0m\u001b[1;32m    384\u001b[0m         \u001b[0moutput_views\u001b[0m \u001b[0;34m=\u001b[0m \u001b[0mtuplize\u001b[0m\u001b[0;34m(\u001b[0m\u001b[0moutput_views\u001b[0m\u001b[0;34m)\u001b[0m\u001b[0;34m\u001b[0m\u001b[0;34m\u001b[0m\u001b[0m\n\u001b[1;32m    385\u001b[0m \u001b[0;34m\u001b[0m\u001b[0m\n",
      "\u001b[0;32m/opt/anaconda3/envs/qiime2-2019.10/lib/python3.6/site-packages/mmvec/q2/_method.py\u001b[0m in \u001b[0;36mpaired_omics\u001b[0;34m(microbes, metabolites, metadata, training_column, num_testing_examples, min_feature_count, epochs, batch_size, latent_dim, input_prior, output_prior, learning_rate, equalize_biplot, arm_the_gpu, summary_interval)\u001b[0m\n\u001b[1;32m     66\u001b[0m               test_microbes_coo, test_metabolites_df.values)\n\u001b[1;32m     67\u001b[0m \u001b[0;34m\u001b[0m\u001b[0m\n\u001b[0;32m---> 68\u001b[0;31m         \u001b[0mloss\u001b[0m\u001b[0;34m,\u001b[0m \u001b[0mcv\u001b[0m \u001b[0;34m=\u001b[0m \u001b[0mmodel\u001b[0m\u001b[0;34m.\u001b[0m\u001b[0mfit\u001b[0m\u001b[0;34m(\u001b[0m\u001b[0mepoch\u001b[0m\u001b[0;34m=\u001b[0m\u001b[0mepochs\u001b[0m\u001b[0;34m,\u001b[0m \u001b[0msummary_interval\u001b[0m\u001b[0;34m=\u001b[0m\u001b[0msummary_interval\u001b[0m\u001b[0;34m)\u001b[0m\u001b[0;34m\u001b[0m\u001b[0;34m\u001b[0m\u001b[0m\n\u001b[0m\u001b[1;32m     69\u001b[0m         ranks = pd.DataFrame(model.ranks(), index=train_microbes_df.columns,\n\u001b[1;32m     70\u001b[0m                              columns=train_metabolites_df.columns)\n",
      "\u001b[0;32m/opt/anaconda3/envs/qiime2-2019.10/lib/python3.6/site-packages/mmvec/multimodal.py\u001b[0m in \u001b[0;36mfit\u001b[0;34m(self, epoch, summary_interval, checkpoint_interval, testX, testY)\u001b[0m\n\u001b[1;32m    249\u001b[0m                     [self.train, self.merged, self.log_loss, self.cv,\n\u001b[1;32m    250\u001b[0m                      \u001b[0mself\u001b[0m\u001b[0;34m.\u001b[0m\u001b[0mqUmain\u001b[0m\u001b[0;34m,\u001b[0m \u001b[0mself\u001b[0m\u001b[0;34m.\u001b[0m\u001b[0mqUbias\u001b[0m\u001b[0;34m,\u001b[0m\u001b[0;34m\u001b[0m\u001b[0;34m\u001b[0m\u001b[0m\n\u001b[0;32m--> 251\u001b[0;31m                      self.qVmain, self.qVbias]\n\u001b[0m\u001b[1;32m    252\u001b[0m                 )\n\u001b[1;32m    253\u001b[0m                 \u001b[0mtrain_\u001b[0m\u001b[0;34m,\u001b[0m \u001b[0msummary\u001b[0m\u001b[0;34m,\u001b[0m \u001b[0mloss\u001b[0m\u001b[0;34m,\u001b[0m \u001b[0mcv\u001b[0m\u001b[0;34m,\u001b[0m \u001b[0mrU\u001b[0m\u001b[0;34m,\u001b[0m \u001b[0mrUb\u001b[0m\u001b[0;34m,\u001b[0m \u001b[0mrV\u001b[0m\u001b[0;34m,\u001b[0m \u001b[0mrVb\u001b[0m \u001b[0;34m=\u001b[0m \u001b[0mres\u001b[0m\u001b[0;34m\u001b[0m\u001b[0;34m\u001b[0m\u001b[0m\n",
      "\u001b[0;32m/opt/anaconda3/envs/qiime2-2019.10/lib/python3.6/site-packages/tensorflow_core/python/client/session.py\u001b[0m in \u001b[0;36mrun\u001b[0;34m(self, fetches, feed_dict, options, run_metadata)\u001b[0m\n\u001b[1;32m    954\u001b[0m     \u001b[0;32mtry\u001b[0m\u001b[0;34m:\u001b[0m\u001b[0;34m\u001b[0m\u001b[0;34m\u001b[0m\u001b[0m\n\u001b[1;32m    955\u001b[0m       result = self._run(None, fetches, feed_dict, options_ptr,\n\u001b[0;32m--> 956\u001b[0;31m                          run_metadata_ptr)\n\u001b[0m\u001b[1;32m    957\u001b[0m       \u001b[0;32mif\u001b[0m \u001b[0mrun_metadata\u001b[0m\u001b[0;34m:\u001b[0m\u001b[0;34m\u001b[0m\u001b[0;34m\u001b[0m\u001b[0m\n\u001b[1;32m    958\u001b[0m         \u001b[0mproto_data\u001b[0m \u001b[0;34m=\u001b[0m \u001b[0mtf_session\u001b[0m\u001b[0;34m.\u001b[0m\u001b[0mTF_GetBuffer\u001b[0m\u001b[0;34m(\u001b[0m\u001b[0mrun_metadata_ptr\u001b[0m\u001b[0;34m)\u001b[0m\u001b[0;34m\u001b[0m\u001b[0;34m\u001b[0m\u001b[0m\n",
      "\u001b[0;32m/opt/anaconda3/envs/qiime2-2019.10/lib/python3.6/site-packages/tensorflow_core/python/client/session.py\u001b[0m in \u001b[0;36m_run\u001b[0;34m(self, handle, fetches, feed_dict, options, run_metadata)\u001b[0m\n\u001b[1;32m   1178\u001b[0m     \u001b[0;32mif\u001b[0m \u001b[0mfinal_fetches\u001b[0m \u001b[0;32mor\u001b[0m \u001b[0mfinal_targets\u001b[0m \u001b[0;32mor\u001b[0m \u001b[0;34m(\u001b[0m\u001b[0mhandle\u001b[0m \u001b[0;32mand\u001b[0m \u001b[0mfeed_dict_tensor\u001b[0m\u001b[0;34m)\u001b[0m\u001b[0;34m:\u001b[0m\u001b[0;34m\u001b[0m\u001b[0;34m\u001b[0m\u001b[0m\n\u001b[1;32m   1179\u001b[0m       results = self._do_run(handle, final_targets, final_fetches,\n\u001b[0;32m-> 1180\u001b[0;31m                              feed_dict_tensor, options, run_metadata)\n\u001b[0m\u001b[1;32m   1181\u001b[0m     \u001b[0;32melse\u001b[0m\u001b[0;34m:\u001b[0m\u001b[0;34m\u001b[0m\u001b[0;34m\u001b[0m\u001b[0m\n\u001b[1;32m   1182\u001b[0m       \u001b[0mresults\u001b[0m \u001b[0;34m=\u001b[0m \u001b[0;34m[\u001b[0m\u001b[0;34m]\u001b[0m\u001b[0;34m\u001b[0m\u001b[0;34m\u001b[0m\u001b[0m\n",
      "\u001b[0;32m/opt/anaconda3/envs/qiime2-2019.10/lib/python3.6/site-packages/tensorflow_core/python/client/session.py\u001b[0m in \u001b[0;36m_do_run\u001b[0;34m(self, handle, target_list, fetch_list, feed_dict, options, run_metadata)\u001b[0m\n\u001b[1;32m   1357\u001b[0m     \u001b[0;32mif\u001b[0m \u001b[0mhandle\u001b[0m \u001b[0;32mis\u001b[0m \u001b[0;32mNone\u001b[0m\u001b[0;34m:\u001b[0m\u001b[0;34m\u001b[0m\u001b[0;34m\u001b[0m\u001b[0m\n\u001b[1;32m   1358\u001b[0m       return self._do_call(_run_fn, feeds, fetches, targets, options,\n\u001b[0;32m-> 1359\u001b[0;31m                            run_metadata)\n\u001b[0m\u001b[1;32m   1360\u001b[0m     \u001b[0;32melse\u001b[0m\u001b[0;34m:\u001b[0m\u001b[0;34m\u001b[0m\u001b[0;34m\u001b[0m\u001b[0m\n\u001b[1;32m   1361\u001b[0m       \u001b[0;32mreturn\u001b[0m \u001b[0mself\u001b[0m\u001b[0;34m.\u001b[0m\u001b[0m_do_call\u001b[0m\u001b[0;34m(\u001b[0m\u001b[0m_prun_fn\u001b[0m\u001b[0;34m,\u001b[0m \u001b[0mhandle\u001b[0m\u001b[0;34m,\u001b[0m \u001b[0mfeeds\u001b[0m\u001b[0;34m,\u001b[0m \u001b[0mfetches\u001b[0m\u001b[0;34m)\u001b[0m\u001b[0;34m\u001b[0m\u001b[0;34m\u001b[0m\u001b[0m\n",
      "\u001b[0;32m/opt/anaconda3/envs/qiime2-2019.10/lib/python3.6/site-packages/tensorflow_core/python/client/session.py\u001b[0m in \u001b[0;36m_do_call\u001b[0;34m(self, fn, *args)\u001b[0m\n\u001b[1;32m   1363\u001b[0m   \u001b[0;32mdef\u001b[0m \u001b[0m_do_call\u001b[0m\u001b[0;34m(\u001b[0m\u001b[0mself\u001b[0m\u001b[0;34m,\u001b[0m \u001b[0mfn\u001b[0m\u001b[0;34m,\u001b[0m \u001b[0;34m*\u001b[0m\u001b[0margs\u001b[0m\u001b[0;34m)\u001b[0m\u001b[0;34m:\u001b[0m\u001b[0;34m\u001b[0m\u001b[0;34m\u001b[0m\u001b[0m\n\u001b[1;32m   1364\u001b[0m     \u001b[0;32mtry\u001b[0m\u001b[0;34m:\u001b[0m\u001b[0;34m\u001b[0m\u001b[0;34m\u001b[0m\u001b[0m\n\u001b[0;32m-> 1365\u001b[0;31m       \u001b[0;32mreturn\u001b[0m \u001b[0mfn\u001b[0m\u001b[0;34m(\u001b[0m\u001b[0;34m*\u001b[0m\u001b[0margs\u001b[0m\u001b[0;34m)\u001b[0m\u001b[0;34m\u001b[0m\u001b[0;34m\u001b[0m\u001b[0m\n\u001b[0m\u001b[1;32m   1366\u001b[0m     \u001b[0;32mexcept\u001b[0m \u001b[0merrors\u001b[0m\u001b[0;34m.\u001b[0m\u001b[0mOpError\u001b[0m \u001b[0;32mas\u001b[0m \u001b[0me\u001b[0m\u001b[0;34m:\u001b[0m\u001b[0;34m\u001b[0m\u001b[0;34m\u001b[0m\u001b[0m\n\u001b[1;32m   1367\u001b[0m       \u001b[0mmessage\u001b[0m \u001b[0;34m=\u001b[0m \u001b[0mcompat\u001b[0m\u001b[0;34m.\u001b[0m\u001b[0mas_text\u001b[0m\u001b[0;34m(\u001b[0m\u001b[0me\u001b[0m\u001b[0;34m.\u001b[0m\u001b[0mmessage\u001b[0m\u001b[0;34m)\u001b[0m\u001b[0;34m\u001b[0m\u001b[0;34m\u001b[0m\u001b[0m\n",
      "\u001b[0;32m/opt/anaconda3/envs/qiime2-2019.10/lib/python3.6/site-packages/tensorflow_core/python/client/session.py\u001b[0m in \u001b[0;36m_run_fn\u001b[0;34m(feed_dict, fetch_list, target_list, options, run_metadata)\u001b[0m\n\u001b[1;32m   1348\u001b[0m       \u001b[0mself\u001b[0m\u001b[0;34m.\u001b[0m\u001b[0m_extend_graph\u001b[0m\u001b[0;34m(\u001b[0m\u001b[0;34m)\u001b[0m\u001b[0;34m\u001b[0m\u001b[0;34m\u001b[0m\u001b[0m\n\u001b[1;32m   1349\u001b[0m       return self._call_tf_sessionrun(options, feed_dict, fetch_list,\n\u001b[0;32m-> 1350\u001b[0;31m                                       target_list, run_metadata)\n\u001b[0m\u001b[1;32m   1351\u001b[0m \u001b[0;34m\u001b[0m\u001b[0m\n\u001b[1;32m   1352\u001b[0m     \u001b[0;32mdef\u001b[0m \u001b[0m_prun_fn\u001b[0m\u001b[0;34m(\u001b[0m\u001b[0mhandle\u001b[0m\u001b[0;34m,\u001b[0m \u001b[0mfeed_dict\u001b[0m\u001b[0;34m,\u001b[0m \u001b[0mfetch_list\u001b[0m\u001b[0;34m)\u001b[0m\u001b[0;34m:\u001b[0m\u001b[0;34m\u001b[0m\u001b[0;34m\u001b[0m\u001b[0m\n",
      "\u001b[0;32m/opt/anaconda3/envs/qiime2-2019.10/lib/python3.6/site-packages/tensorflow_core/python/client/session.py\u001b[0m in \u001b[0;36m_call_tf_sessionrun\u001b[0;34m(self, options, feed_dict, fetch_list, target_list, run_metadata)\u001b[0m\n\u001b[1;32m   1441\u001b[0m     return tf_session.TF_SessionRun_wrapper(self._session, options, feed_dict,\n\u001b[1;32m   1442\u001b[0m                                             \u001b[0mfetch_list\u001b[0m\u001b[0;34m,\u001b[0m \u001b[0mtarget_list\u001b[0m\u001b[0;34m,\u001b[0m\u001b[0;34m\u001b[0m\u001b[0;34m\u001b[0m\u001b[0m\n\u001b[0;32m-> 1443\u001b[0;31m                                             run_metadata)\n\u001b[0m\u001b[1;32m   1444\u001b[0m \u001b[0;34m\u001b[0m\u001b[0m\n\u001b[1;32m   1445\u001b[0m   \u001b[0;32mdef\u001b[0m \u001b[0m_call_tf_sessionprun\u001b[0m\u001b[0;34m(\u001b[0m\u001b[0mself\u001b[0m\u001b[0;34m,\u001b[0m \u001b[0mhandle\u001b[0m\u001b[0;34m,\u001b[0m \u001b[0mfeed_dict\u001b[0m\u001b[0;34m,\u001b[0m \u001b[0mfetch_list\u001b[0m\u001b[0;34m)\u001b[0m\u001b[0;34m:\u001b[0m\u001b[0;34m\u001b[0m\u001b[0;34m\u001b[0m\u001b[0m\n",
      "\u001b[0;31mKeyboardInterrupt\u001b[0m: "
     ]
    }
   ],
   "source": [
    "#ref: https://github.com/biocore/mmvec/blob/88ca33b408a85b6bf90fae06982936247b860272/mmvec/q2/_method.py#L14\n",
    "\n",
    "for factor in [0.15]:\n",
    "    print('\\n### Metab Features: {}% ###'.format(factor*100))\n",
    "    metab_table = metabolites_sub[factor]\n",
    "    table_to_use = tables_shared.copy()\n",
    "    table_to_use['HMP2_metabolomics'] = metab_table\n",
    "    print('Metabolomics n features: {}'.format(table_to_use['HMP2_metabolomics'].shape[0]))\n",
    "\n",
    "    time_factor = 0\n",
    "    for pair in pairs_metabolomics:\n",
    "        print(pair)\n",
    "        \n",
    "        #get tables and set to correct format\n",
    "        t1 = table_to_use[pair[0]]\n",
    "        t2 = table_to_use[pair[1]]\n",
    "        t1_q2 = q2.Artifact.import_data('FeatureTable[Frequency]', t1)\n",
    "        t2_q2 = q2.Artifact.import_data('FeatureTable[Frequency]', t2)\n",
    "\n",
    "        #run and time mmvec\n",
    "        time_start = time.perf_counter()\n",
    "        mmvec_res = paired_omics(t1_q2, t2_q2, \n",
    "                                summary_interval=1,\n",
    "                                metadata=q2.Metadata(metadata_shared),\n",
    "                                training_column='train_test_mmvec',\n",
    "                                min_feature_count=10)\n",
    "        time_elapsed = (time.perf_counter() - time_start)\n",
    "        time_factor += time_elapsed\n",
    "        print('Time elapsed: ', round(time_elapsed,2))\n",
    "        print()\n",
    "\n",
    "        # update pair name before saving\n",
    "        if pair[0] == 'HMP2_metabolomics':\n",
    "            pair = ('HMP2_metabolomics_{}'.format(factor), pair[1])\n",
    "        if pair[1] == 'HMP2_metabolomics':\n",
    "            pair = (pair[0], 'HMP2_metabolomics_{}'.format(factor))\n",
    "        #save output\n",
    "        runtime[\"{}-{}\".format(pair[0], pair[1])] = time_elapsed\n",
    "        #save in memory as well\n",
    "        with open(\"../results/mmvec-runtime.json\", \"w\") as outfile: \n",
    "            json.dump(runtime, outfile)\n",
    "    \n",
    "    runtime_total[factor] = time_factor\n",
    "    print('Total time elapsed: {} secs ({} mins)'.format(round(time_factor, 2),\n",
    "                                                         round(time_factor/60, 2)))\n",
    "    #save mmvec results as json/pickle\n",
    "    with open(\"../results/mmvec-runtime-total.json\", \"w\") as outfile: \n",
    "        json.dump(runtime_total, outfile)"
   ]
  },
  {
   "cell_type": "code",
   "execution_count": 11,
   "metadata": {},
   "outputs": [
    {
     "name": "stdout",
     "output_type": "stream",
     "text": [
      "\n",
      "### Metab Features: 15.0% ###\n",
      "Metabolomics n features: 12280\n",
      "('meta_t_ecs', 'HMP2_metabolomics')\n"
     ]
    },
    {
     "name": "stderr",
     "output_type": "stream",
     "text": [
      "100%|██████████| 76150/76150 [28:17<00:00, 44.85it/s]  \n"
     ]
    },
    {
     "ename": "NameError",
     "evalue": "name 'time_factor' is not defined",
     "output_type": "error",
     "traceback": [
      "\u001b[0;31m---------------------------------------------------------------------------\u001b[0m",
      "\u001b[0;31mNameError\u001b[0m                                 Traceback (most recent call last)",
      "\u001b[0;32m<ipython-input-11-a9d7dbfbba56>\u001b[0m in \u001b[0;36m<module>\u001b[0;34m\u001b[0m\n\u001b[1;32m     23\u001b[0m                                 min_feature_count=10)\n\u001b[1;32m     24\u001b[0m         \u001b[0mtime_elapsed\u001b[0m \u001b[0;34m=\u001b[0m \u001b[0;34m(\u001b[0m\u001b[0mtime\u001b[0m\u001b[0;34m.\u001b[0m\u001b[0mperf_counter\u001b[0m\u001b[0;34m(\u001b[0m\u001b[0;34m)\u001b[0m \u001b[0;34m-\u001b[0m \u001b[0mtime_start\u001b[0m\u001b[0;34m)\u001b[0m\u001b[0;34m\u001b[0m\u001b[0;34m\u001b[0m\u001b[0m\n\u001b[0;32m---> 25\u001b[0;31m         \u001b[0mtime_factor\u001b[0m \u001b[0;34m+=\u001b[0m \u001b[0mtime_elapsed\u001b[0m\u001b[0;34m\u001b[0m\u001b[0;34m\u001b[0m\u001b[0m\n\u001b[0m\u001b[1;32m     26\u001b[0m         \u001b[0mprint\u001b[0m\u001b[0;34m(\u001b[0m\u001b[0;34m'Time elapsed: '\u001b[0m\u001b[0;34m,\u001b[0m \u001b[0mround\u001b[0m\u001b[0;34m(\u001b[0m\u001b[0mtime_elapsed\u001b[0m\u001b[0;34m,\u001b[0m\u001b[0;36m2\u001b[0m\u001b[0;34m)\u001b[0m\u001b[0;34m)\u001b[0m\u001b[0;34m\u001b[0m\u001b[0;34m\u001b[0m\u001b[0m\n\u001b[1;32m     27\u001b[0m         \u001b[0mprint\u001b[0m\u001b[0;34m(\u001b[0m\u001b[0;34m)\u001b[0m\u001b[0;34m\u001b[0m\u001b[0;34m\u001b[0m\u001b[0m\n",
      "\u001b[0;31mNameError\u001b[0m: name 'time_factor' is not defined"
     ]
    }
   ],
   "source": [
    "for factor in [0.15]:\n",
    "    print('\\n### Metab Features: {}% ###'.format(factor*100))\n",
    "    metab_table = metabolites_sub[factor]\n",
    "    table_to_use = tables_shared.copy()\n",
    "    table_to_use['HMP2_metabolomics'] = metab_table\n",
    "    print('Metabolomics n features: {}'.format(table_to_use['HMP2_metabolomics'].shape[0]))\n",
    "\n",
    "    for pair in [('meta_t_ecs', 'HMP2_metabolomics')]:\n",
    "        print(pair)\n",
    "        \n",
    "        #get tables and set to correct format\n",
    "        t1 = table_to_use[pair[0]]\n",
    "        t2 = table_to_use[pair[1]]\n",
    "        t1_q2 = q2.Artifact.import_data('FeatureTable[Frequency]', t1)\n",
    "        t2_q2 = q2.Artifact.import_data('FeatureTable[Frequency]', t2)\n",
    "\n",
    "        #run and time mmvec\n",
    "        time_start = time.perf_counter()\n",
    "        mmvec_res = paired_omics(t1_q2, t2_q2, \n",
    "                                summary_interval=1,\n",
    "                                metadata=q2.Metadata(metadata_shared),\n",
    "                                training_column='train_test_mmvec',\n",
    "                                min_feature_count=10)\n",
    "        time_elapsed = (time.perf_counter() - time_start)\n",
    "        print('Time elapsed: ', round(time_elapsed,2))\n",
    "        print()\n",
    "\n",
    "        # update pair name before saving\n",
    "        if pair[0] == 'HMP2_metabolomics':\n",
    "            pair = ('HMP2_metabolomics_{}'.format(factor), pair[1])\n",
    "        if pair[1] == 'HMP2_metabolomics':\n",
    "            pair = (pair[0], 'HMP2_metabolomics_{}'.format(factor))\n",
    "        #save output\n",
    "        runtime[\"{}-{}\".format(pair[0], pair[1])] = time_elapsed\n",
    "        #save in memory as well\n",
    "        with open(\"../results/mmvec-runtime.json\", \"w\") as outfile: \n",
    "            json.dump(runtime, outfile)"
   ]
  },
  {
   "cell_type": "markdown",
   "metadata": {},
   "source": [
    "### Add runtimes"
   ]
  },
  {
   "cell_type": "code",
   "execution_count": 38,
   "metadata": {},
   "outputs": [],
   "source": [
    "#load mmvec results\n",
    "with open(\"../results/mmvec-runtime-total.json\", \"r\") as infile:\n",
    "    runtime_total = json.load(infile)\n",
    "\n",
    "with open(\"../results/mmvec-runtime.json\", \"r\") as infile:\n",
    "    runtime = json.load(infile)"
   ]
  },
  {
   "cell_type": "code",
   "execution_count": 30,
   "metadata": {},
   "outputs": [],
   "source": [
    "## add an estimated time for runtime_total with factor = 0.15\n",
    "#add an estimate for pair that did not complete running: 22:54:02 = 22*3600 + 54*60 + 2 = 82442\n",
    "runtime['HMP2_metabolomics_0.15-HMP2_proteomics_ecs'] = 82442\n",
    "#first, get all metabolomic pairs\n",
    "runtime_metab = {k: v for k, v in runtime.items() if 'HMP2_metabolomics_0.15' in k}\n",
    "#add to total runtime\n",
    "runtime_total['0.15'] = sum(runtime_metab.values())"
   ]
  },
  {
   "cell_type": "code",
   "execution_count": 32,
   "metadata": {},
   "outputs": [],
   "source": [
    "#need to add runtime_total[0] to each individual runtime \n",
    "#runtime_total[0] is the time that all pairs excluding metabolomics took to run\n",
    "for key in ['0.01', '0.03', '0.05', '0.1', '0.15']:\n",
    "    runtime_total[key] += runtime_total['0']"
   ]
  },
  {
   "cell_type": "code",
   "execution_count": 42,
   "metadata": {},
   "outputs": [],
   "source": [
    "# save final set of mmvec results\n",
    "with open(\"../results/mmvec-runtime-total.json\", \"w\") as outfile: \n",
    "   json.dump(runtime_total, outfile)\n",
    "\n",
    "#with open(\"../results/mmvec-runtime.json\", \"w\") as outfile: \n",
    "#  json.dump(runtime, outfile)"
   ]
  },
  {
   "cell_type": "code",
   "execution_count": 43,
   "metadata": {},
   "outputs": [
    {
     "data": {
      "text/plain": [
       "{'0.01': 33.79756434013381,\n",
       " '0': 21.83175702846711,\n",
       " '0.03': 82.18809817113376,\n",
       " '0.05': 177.59619504748377,\n",
       " '0.1': 819.7942999900505,\n",
       " '0.15': 2146.9860534352}"
      ]
     },
     "execution_count": 43,
     "metadata": {},
     "output_type": "execute_result"
    }
   ],
   "source": [
    "#print time in minutes\n",
    "runtime_total_minutes = {k: v/60 for k, v in runtime_total.items()}\n",
    "runtime_total_minutes\n",
    "\n",
    "#runtime_minutes = {k: v/60 for k, v in runtime.items()}"
   ]
  }
 ],
 "metadata": {
  "kernelspec": {
   "display_name": "Python 3 (ipykernel)",
   "language": "python",
   "name": "python3"
  },
  "language_info": {
   "codemirror_mode": {
    "name": "ipython",
    "version": 3
   },
   "file_extension": ".py",
   "mimetype": "text/x-python",
   "name": "python",
   "nbconvert_exporter": "python",
   "pygments_lexer": "ipython3",
   "version": "3.6.7"
  }
 },
 "nbformat": 4,
 "nbformat_minor": 4
}
