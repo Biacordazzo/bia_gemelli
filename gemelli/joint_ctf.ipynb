{
 "cells": [
  {
   "cell_type": "code",
   "execution_count": null,
   "metadata": {},
   "outputs": [],
   "source": [
    "import copy\n",
    "import biom\n",
    "import numpy as np\n",
    "import pandas as pd\n",
    "import warnings\n",
    "from typing import Callable\n",
    "from scipy.spatial import distance\n",
    "from skbio import (OrdinationResults,\n",
    "                   DistanceMatrix)\n",
    "from scipy.sparse.linalg import svds\n",
    "from gemelli.optspace import svd_sort\n",
    "from gemelli.ctf import ctf_table_processing\n",
    "from gemelli.preprocessing import (build_sparse,\n",
    "                                   matrix_rclr)\n",
    "from gemelli._defaults import (DEFAULT_COMP, DEFAULT_MSC,\n",
    "                               DEFAULT_MFC, DEFAULT_MFF,\n",
    "                               DEFAULT_TEMPTED_PC,\n",
    "                               DEFAULT_TEMPTED_EP,\n",
    "                               DEFAULT_TEMPTED_SMTH,\n",
    "                               DEFAULT_TEMPTED_RES,\n",
    "                               DEFAULT_TEMPTED_MAXITER,\n",
    "                               DEFAULT_TEMPTED_RH as DEFAULT_TRH,\n",
    "                               DEFAULT_TEMPTED_RHC as DEFAULT_RC,\n",
    "                               DEFAULT_TEMPTED_SVDC,\n",
    "                               DEFAULT_TEMPTED_SVDCN as DEFAULT_TSCN)\n",
    "\n",
    "from gemelli.tempted import (freg_rkhs, bernoulli_kernel)"
   ]
  },
  {
   "cell_type": "code",
   "execution_count": null,
   "metadata": {},
   "outputs": [],
   "source": [
    "def format_time():\n",
    "    '''\n",
    "    Normalize time points to be in the same format and keep\n",
    "    only the defined interval (if defined)\n",
    "    '''"
   ]
  },
  {
   "cell_type": "code",
   "execution_count": null,
   "metadata": {},
   "outputs": [],
   "source": [
    "def initialization():\n",
    "    \"\"\"\n",
    "    Initialize the loadings for the joint-CTF model\n",
    "    \"\"\"\n",
    "    pass"
   ]
  },
  {
   "cell_type": "code",
   "execution_count": null,
   "metadata": {},
   "outputs": [],
   "source": [
    "def udpate_tabular():\n",
    "    '''\n",
    "    Update the tabular loadings (subjects and features) lodings\n",
    "    '''\n",
    "    pass"
   ]
  },
  {
   "cell_type": "code",
   "execution_count": null,
   "metadata": {},
   "outputs": [],
   "source": [
    "def update_lambda():\n",
    "    '''\n",
    "    Estimates the singular value using the loadings\n",
    "    from the most recent iteration\n",
    "    '''\n",
    "    pass"
   ]
  },
  {
   "cell_type": "code",
   "execution_count": null,
   "metadata": {},
   "outputs": [],
   "source": [
    "def udpate_residuals():\n",
    "    '''\n",
    "    Update the tensor to be factorized by subtracting the \n",
    "    approximation the previous iteration\n",
    "    '''\n",
    "    pass"
   ]
  },
  {
   "cell_type": "code",
   "execution_count": null,
   "metadata": {},
   "outputs": [],
   "source": [
    "def joint_ctf():\n",
    "    '''\n",
    "    Joint decomposition of two or more tensors\n",
    "    '''\n",
    "    pass"
   ]
  },
  {
   "cell_type": "code",
   "execution_count": null,
   "metadata": {},
   "outputs": [],
   "source": [
    "def joint_ctf_helper():\n",
    "    '''\n",
    "    Joint decomposition of two or more tensors\n",
    "    '''\n",
    "    pass"
   ]
  }
 ],
 "metadata": {
  "kernelspec": {
   "display_name": "Python 3",
   "language": "python",
   "name": "python3"
  },
  "language_info": {
   "name": "python",
   "version": "3.8.18"
  }
 },
 "nbformat": 4,
 "nbformat_minor": 2
}
