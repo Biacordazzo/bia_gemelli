{
 "cells": [
  {
   "cell_type": "markdown",
   "metadata": {},
   "source": [
    "# Tutorial Introduction"
   ]
  },
  {
   "cell_type": "markdown",
   "metadata": {},
   "source": [
    "Repeat measure experimental designs (e.g. time series) are valid and powerful method to control inter-individual variation. However, conventional dimensionality reduction methods can not account for the high-correlation of each subject to thierself at a later time point. This inherent correlation structure can cause subject grouping to confound or even outweigh important phenotype groupings. To address this we will use Compositional Tensor Factorization (CTF) which we provide in the software package [gemelli](https://github.com/cameronmartino/gemelli). CTF can account for repeated measures, compositionality, and sparsity in microbiome data.\n",
    "\n",
    "In this tutorial we use _gemelli_ to perform CTF on a time series dataset comparing Crohn's and control subjects over a period of 25 weeks published in [Vázquez-Baeza et al](https://gut.bmj.com/content/67/9/1743). First we will download the processed data originally from [here](https://qiita.ucsd.edu/study/description/2538#). The pre-processed data can be downloaded with the following links:\n",
    "\n",
    "* **Table** (table.qza) | [download](https://github.com/cameronmartino/gemelli/tree/master/ipynb/tutorials/IBD-2538/data/table.qza)\n",
    "* **Rarefied Table** (rarefied-table.qza) | [download](https://github.com/cameronmartino/gemelli/tree/master/ipynb/tutorials/IBD-2538/data/rarefied-table.qza)\n",
    "* **Sample Metadata** (metadata.tsv) | [download](https://github.com/cameronmartino/gemelli/tree/master/ipynb/tutorials/IBD-2538/data/metadata.tsv)\n",
    "* **Feature Metadata** (taxonomy.qza) | [download](https://github.com/cameronmartino/gemelli/tree/master/ipynb/tutorials/IBD-2538/data/taxonomy.qza)\n",
    "* **Tree** (sepp-insertion-tree.qza) | [download](https://github.com/cameronmartino/gemelli/tree/master/ipynb/tutorials/IBD-2538/data/sepp-insertion-tree.qza)\n",
    "\n",
    "**Note**: This tutorial assumes you have installed [QIIME2](https://qiime2.org/) using one of the procedures in the [install documents](https://docs.qiime2.org/2020.2/install/). This tutorial also assumed you have installed, [Qurro](https://github.com/biocore/qurro), [DEICODE](https://github.com/biocore/DEICODE), and [gemelli](https://github.com/cameronmartino/gemelli).\n",
    "\n",
    "First we will make a tutorial directory and download the data above and move the files to the `IBD-2538/data` directory:\n",
    "\n",
    "```bash\n",
    "mkdir IBD-2538\n",
    "```\n",
    "```bash\n",
    "# move downloaded data here\n",
    "mkdir IBD-2538/data\n",
    "```\n",
    "\n",
    "First we will import our data with the QIIME2 Python API. \n"
   ]
  },
  {
   "cell_type": "code",
   "execution_count": 5,
   "metadata": {},
   "outputs": [],
   "source": [
    "import os\n",
    "import warnings\n",
    "import qiime2 as q2\n",
    "# hide pandas Future/Deprecation Warning(s) for tutorial\n",
    "warnings.filterwarnings(\"ignore\", category=DeprecationWarning) \n",
    "warnings.simplefilter(action='ignore', category=FutureWarning)\n",
    "\n",
    "# import table(s)\n",
    "table = q2.Artifact.load('IBD-2538/data/table.qza')\n",
    "rarefied_table = q2.Artifact.load('IBD-2538/data/rarefied-table.qza')\n",
    "# import metadata\n",
    "metadata = q2.Metadata.load('IBD-2538/data/metadata.tsv')\n",
    "# import tree\n",
    "tree = q2.Artifact.load('IBD-2538/data/sepp-insertion-tree.qza')\n",
    "# import taxonomy\n",
    "taxonomy = q2.Artifact.load('IBD-2538/data/taxonomy.qza')\n"
   ]
  },
  {
   "cell_type": "markdown",
   "metadata": {},
   "source": [
    "\n",
    "Next, we will demonstrate the issues with using conventional dimensionality reduction methods on time series data. To do this we will perform PCoA dimensionality reduction on weighted and unweighted UniFrac $\\beta$-diversity distances. We will also run Aitchison Robust PCA with _DEICODE_ which is built on the same framework as CTF but does not account for repeated measures.\n"
   ]
  },
  {
   "cell_type": "code",
   "execution_count": 22,
   "metadata": {},
   "outputs": [
    {
     "data": {
      "text/plain": [
       "'IBD-2538/core-metric-output/RPCA-biplot.qzv'"
      ]
     },
     "execution_count": 22,
     "metadata": {},
     "output_type": "execute_result"
    }
   ],
   "source": [
    "from qiime2.plugins.deicode.actions import rpca\n",
    "from qiime2.plugins.emperor.actions import (plot, biplot)\n",
    "from qiime2.plugins.diversity.actions import (beta_phylogenetic, pcoa)\n",
    "\n",
    "# generate distances\n",
    "unweighted_unifrac_distance = beta_phylogenetic(rarefied_table, tree, 'unweighted_unifrac')\n",
    "weighted_unifrac_distance = beta_phylogenetic(rarefied_table, tree, 'weighted_unifrac')\n",
    "# perform PCoA\n",
    "unweighted_unifrac_pcoa = pcoa(unweighted_unifrac_distance.distance_matrix)\n",
    "weighted_unifrac_pcoa = pcoa(weighted_unifrac_distance.distance_matrix)\n",
    "# use emperor to plot\n",
    "unweighted_unifrac_pcoa_plot = plot(unweighted_unifrac_pcoa.pcoa, metadata)\n",
    "weighted_unifrac_pcoa_plot = plot(weighted_unifrac_pcoa.pcoa, metadata)\n",
    "# run RPCA and plot with emperor\n",
    "rpca_biplot, rpca_distance = rpca(table)\n",
    "rpca_biplot_emperor = biplot(rpca_biplot, metadata)\n",
    "# make directory to store results\n",
    "output_path = 'IBD-2538/core-metric-output'\n",
    "os.mkdir(output_path)\n",
    "# now we can save the plots\n",
    "unweighted_unifrac_pcoa_plot.visualization.save(os.path.join(output_path, 'unweighted-unifrac-distance-pcoa.qzv'))\n",
    "weighted_unifrac_pcoa_plot.visualization.save(os.path.join(output_path, 'weighted-unifrac-distance-pcoa.qzv'))\n",
    "rpca_biplot_emperor.visualization.save(os.path.join(output_path, 'RPCA-biplot.qzv'))\n"
   ]
  },
  {
   "cell_type": "markdown",
   "metadata": {},
   "source": [
    "Now we can visualize the sample groupings by host subject ID and IBD with [Emperor](https://biocore.github.io/emperor/). From this we can see all three metric the PCoA samples clearly separate by host subject ID which in some cases (e.g. UniFrac) can overwhelm the control (blue) v. Crohn's disease (orange) sample groupings. Even in the case where the IBD grouping is not completely lost (e.g. RPCA) we can still see confounding groupings in the control (blue) groups by subject ID. In either case this can complicate the interpretation of these analysis.    \n"
   ]
  },
  {
   "cell_type": "markdown",
   "metadata": {},
   "source": [
    "\n",
    "\n",
    "\n",
    "\n",
    "![image.png](etc/subjectidsgroups.png)\n",
    "\n"
   ]
  },
  {
   "cell_type": "markdown",
   "metadata": {},
   "source": [
    "This confounding effect can also be observed in the statistics performed on pairwise $\\beta$-diversity distances (e.g. PERMANOVA). In this case of exploring the distance matrices [q2-longitudinal](https://msystems.asm.org/content/3/6/e00219-18) has many excellent methods for accounting for repeated measure data. You can find the q2-longitudinal tutorial [here](https://docs.qiime2.org/2020.2/tutorials/longitudinal/).\n"
   ]
  },
  {
   "cell_type": "markdown",
   "metadata": {},
   "source": [
    "# Compositional Tensor Factorization (CTF) Introduction"
   ]
  },
  {
   "cell_type": "markdown",
   "metadata": {},
   "source": [
    "In order to account for the correlation from a subject to thierself we will compositional tensor factorization (CTF). CTF builds on the ability to account for compositionality and sparsity using the robust center log-ratio transform covered in the RPCA tutorial (found [here](https://forum.qiime2.org/t/robust-aitchison-pca-beta-diversity-with-deicode)) but restructures and factors the data as a tensor. Here we will run CTF through _gemelli_ and explore/interpret the different results. \n",
    "\n",
    "\n",
    "To run CTF we only need to run one command (gemelli ctf). The required input requirements are:\n",
    "\n",
    "1. table\n",
    "    - The table is of type `FeatureTable[Frequency]` which is a table where the rows are features (e.g. ASVs/microbes), the columns are samples, and the entries are the number of sequences for each sample-feature pair.\n",
    "2. sample-metadata\n",
    "    - This is a QIIME2 formatted [metadata](https://docs.qiime2.org/2020.2/tutorials/metadata/) (e.g. tsv format) where the rows are samples matched to the (1) table and the columns are different sample data (e.g. time point).  \n",
    "3. individual-id-column\n",
    "    - This is the name of the column in the (2) metdata that indicates the individual subject/site that was sampled repeatedly.\n",
    "4. state-column\n",
    "    - This is the name of the column in the (2) metdata that indicates the numeric repeated measure (e.g., Time in months/days) or non-numeric categorical (i.e. decade/body-site). \n",
    "5. output-dir\n",
    "    - The desired location of the output. We will cover each output independently below.  \n",
    "\n",
    "There are also optional input parameters:\n",
    "\n",
    "* ( _Optional_ ) feature-metadata-file\n",
    "    - This is a metadata file (e.g. tsv) where the rows are matched to the table features and the columns are feature metadata such as taxonomy, gene pathway, etc... \n",
    "\n",
    "In this tutorial out subject id column is `host_subject_id` and our state-column is different time points denoted as `timepoint` in the sample metadata. Now we are ready to run CTF:\n"
   ]
  },
  {
   "cell_type": "code",
   "execution_count": 44,
   "metadata": {},
   "outputs": [
    {
     "name": "stderr",
     "output_type": "stream",
     "text": [
      "/Users/cmartino/miniconda3/envs/qiime2-2019.10-tut/lib/python3.6/site-packages/gemelli/preprocessing.py:356: RuntimeWarning: Subject(s) () contains multiple samples. Multiple subject counts will be meaned across samples by subject.\n",
      "  RuntimeWarning)\n"
     ]
    },
    {
     "data": {
      "text/plain": [
       "Results (name = value)\n",
       "--------------------------------------------------------------------------------------------------------------------\n",
       "subject_biplot           = <artifact: PCoAResults % Properties('biplot') uuid: 20cc873b-a6d6-46f9-86e4-948a726eac40>\n",
       "state_biplot             = <artifact: PCoAResults % Properties('biplot') uuid: 4fba65ac-b94c-4647-9e02-7fb45ec140ed>\n",
       "distance_matrix          = <artifact: DistanceMatrix uuid: 087d4a46-72a6-4d70-b564-2480d2cd44d9>\n",
       "state_subject_ordination = <artifact: SampleData[SampleTrajectory] uuid: 1251705a-5e2a-4c0a-a389-fa9c1b523fcd>\n",
       "state_feature_ordination = <artifact: FeatureData[FeatureTrajectory] uuid: 9b65e359-2e0d-45bf-aa0f-51480ac8aea3>"
      ]
     },
     "execution_count": 44,
     "metadata": {},
     "output_type": "execute_result"
    }
   ],
   "source": [
    "from qiime2.plugins.gemelli.actions import ctf\n",
    "\n",
    "# make a dir. for results\n",
    "os.mkdir('IBD-2538/ctf-results')\n",
    "# run CTF\n",
    "ctf_results = ctf(table, metadata,\n",
    "                   'host_subject_id',\n",
    "                   'timepoint',\n",
    "                   feature_metadata=taxonomy.view(q2.Metadata))\n",
    "ctf_results\n"
   ]
  },
  {
   "cell_type": "markdown",
   "metadata": {},
   "source": [
    "We will now cover the output files being:\n",
    "* subject_biplot\n",
    "* state_biplot\n",
    "* distance_matrix\n",
    "* state_subject_ordination\n",
    "* state_feature_ordination\n",
    "\n",
    "\n",
    "First, we will explore the `state_subject_ordination`. The subject trajectory has PC axes like a conventional ordination (i.e. PCoA) but with time as the second axis. This can be visualized through the existing q2-longitudinal plugin. \n"
   ]
  },
  {
   "cell_type": "code",
   "execution_count": 45,
   "metadata": {},
   "outputs": [
    {
     "data": {
      "text/plain": [
       "'IBD-2538/ctf-results/state_subject_ordination.qzv'"
      ]
     },
     "execution_count": 45,
     "metadata": {},
     "output_type": "execute_result"
    }
   ],
   "source": [
    "from qiime2.plugins.longitudinal.actions import (volatility, linear_mixed_effects)\n",
    "\n",
    "# make a time series plot\n",
    "temporal_plot = volatility(ctf_results.state_subject_ordination.view(q2.Metadata),\n",
    "                           'timepoint',\n",
    "                           individual_id_column='subject_id',\n",
    "                           default_group_column='ibd',\n",
    "                           default_metric='PC1')\n",
    "temporal_plot.visualization.save('IBD-2538/ctf-results/state_subject_ordination.qzv')\n"
   ]
  },
  {
   "cell_type": "markdown",
   "metadata": {},
   "source": [
    "The interpretation is also similar to a conventional ordination scatter plot -- where the larger the distance is between subjects at each time point the greater the difference in their microbial communities. Here we can see that CTF can effectively show a difference between controls and Crohn's subjects across time.\n",
    "\n",
    "![image.png](etc/sample-visualization.png)\n"
   ]
  },
  {
   "cell_type": "markdown",
   "metadata": {},
   "source": [
    "There is not a strong chnage over time in this example. However, we could explore the `distance_matrix` to test the differences by IBD by looking at pairwise distances with a Mixed Effects Model. How to use and evaluate the q2-longitudinal commands is covered in depth in thier tutorial [here](https://docs.qiime2.org/2020.2/tutorials/longitudinal/).\n",
    "\n",
    "Now we will explore the `subject_biplot` which is a ordination where dots represent _subjects_ not _samples_ and arrows represent features (e.g. ASVs). First, we will need to aggregate the metadata by subject. This can be done by hand or using DataFrames in python (with pandas) or R like so:\n"
   ]
  },
  {
   "cell_type": "code",
   "execution_count": 46,
   "metadata": {},
   "outputs": [
    {
     "data": {
      "text/html": [
       "<div>\n",
       "<style scoped>\n",
       "    .dataframe tbody tr th:only-of-type {\n",
       "        vertical-align: middle;\n",
       "    }\n",
       "\n",
       "    .dataframe tbody tr th {\n",
       "        vertical-align: top;\n",
       "    }\n",
       "\n",
       "    .dataframe thead th {\n",
       "        text-align: right;\n",
       "    }\n",
       "</style>\n",
       "<table border=\"1\" class=\"dataframe\">\n",
       "  <thead>\n",
       "    <tr style=\"text-align: right;\">\n",
       "      <th></th>\n",
       "      <th>ibd</th>\n",
       "      <th>active_disease</th>\n",
       "    </tr>\n",
       "    <tr>\n",
       "      <th>#SampleID</th>\n",
       "      <th></th>\n",
       "      <th></th>\n",
       "    </tr>\n",
       "  </thead>\n",
       "  <tbody>\n",
       "    <tr>\n",
       "      <th>s1000100</th>\n",
       "      <td>Control</td>\n",
       "      <td>quiescent</td>\n",
       "    </tr>\n",
       "    <tr>\n",
       "      <th>s1000200</th>\n",
       "      <td>Control</td>\n",
       "      <td>quiescent</td>\n",
       "    </tr>\n",
       "    <tr>\n",
       "      <th>s1000300</th>\n",
       "      <td>Control</td>\n",
       "      <td>quiescent</td>\n",
       "    </tr>\n",
       "    <tr>\n",
       "      <th>s1000500</th>\n",
       "      <td>Control</td>\n",
       "      <td>quiescent</td>\n",
       "    </tr>\n",
       "    <tr>\n",
       "      <th>s1000600</th>\n",
       "      <td>Control</td>\n",
       "      <td>quiescent</td>\n",
       "    </tr>\n",
       "  </tbody>\n",
       "</table>\n",
       "</div>"
      ],
      "text/plain": [
       "               ibd active_disease\n",
       "#SampleID                        \n",
       "s1000100   Control      quiescent\n",
       "s1000200   Control      quiescent\n",
       "s1000300   Control      quiescent\n",
       "s1000500   Control      quiescent\n",
       "s1000600   Control      quiescent"
      ]
     },
     "execution_count": 46,
     "metadata": {},
     "output_type": "execute_result"
    }
   ],
   "source": [
    "import pandas as pd\n",
    "from qiime2 import Metadata\n",
    "\n",
    "# first we import the metdata into pandas\n",
    "mf = pd.read_csv('IBD-2538/data/metadata.tsv', sep='\\t',index_col=0)\n",
    "# next we aggregate by subjects (i.e. 'host_subject_id') \n",
    "# and keep the first instance of 'diagnosis_full' by subject.\n",
    "mf = mf.groupby('host_subject_id').agg({'ibd':'first','active_disease':'first'})\n",
    "# now we save the metadata in QIIME2 format.\n",
    "mf.index.name = '#SampleID'\n",
    "mf.to_csv('IBD-2538/data/subject-metadata.tsv', sep='\\t')\n",
    "mf.head(5)\n"
   ]
  },
  {
   "cell_type": "markdown",
   "metadata": {},
   "source": [
    "With out `subject-metadata` table build we are not ready to plot with emperor. \n"
   ]
  },
  {
   "cell_type": "code",
   "execution_count": 47,
   "metadata": {},
   "outputs": [
    {
     "data": {
      "text/plain": [
       "'IBD-2538/ctf-results/subject_biplot.qzv'"
      ]
     },
     "execution_count": 47,
     "metadata": {},
     "output_type": "execute_result"
    }
   ],
   "source": [
    "# plot subject biplot\n",
    "subject_biplot_emperor = biplot(ctf_results.subject_biplot,\n",
    "                                q2.Metadata(mf),\n",
    "                                feature_metadata=taxonomy.view(q2.Metadata),\n",
    "                                number_of_features=100)\n",
    "# save visual\n",
    "subject_biplot_emperor.visualization.save('IBD-2538/ctf-results/subject_biplot.qzv')\n"
   ]
  },
  {
   "cell_type": "markdown",
   "metadata": {},
   "source": [
    "From this visualization we can see that the IBD type is clearly separated in two groupings.\n",
    "\n",
    "![image.png](etc/per_subject_biplot.png)\n",
    "\n",
    "\n",
    "We can also see that the IBD grouping is separated entirely over the first PC. We can now use [Qurro](https://github.com/biocore/qurro) to explore the feature loading partitions (arrows) in this biplot as a log-ratio of the original table counts. This allows us to relate these low-dimensional representations back to our original data. Additionally, log-ratio provide a nice set of data points for additional analysis such as LME models. "
   ]
  },
  {
   "cell_type": "code",
   "execution_count": 69,
   "metadata": {},
   "outputs": [
    {
     "name": "stdout",
     "output_type": "stream",
     "text": [
      "176 sample(s) in the sample metadata file were not present in the BIOM table.\n",
      "These sample(s) have been removed from the visualization.\n"
     ]
    },
    {
     "data": {
      "text/plain": [
       "'IBD-2538/ctf-results/qurro.qzv'"
      ]
     },
     "execution_count": 69,
     "metadata": {},
     "output_type": "execute_result"
    }
   ],
   "source": [
    "from qiime2.plugins.qurro.actions import loading_plot\n",
    "\n",
    "# run Qurro\n",
    "qurro_plot = loading_plot(ctf_results.subject_biplot, table,\n",
    "                          metadata,\n",
    "                          feature_metadata=taxonomy.view(q2.Metadata))\n",
    "# save visual\n",
    "qurro_plot.visualization.save('IBD-2538/ctf-results/qurro.qzv')\n"
   ]
  },
  {
   "cell_type": "markdown",
   "metadata": {},
   "source": [
    "From the Qurro output `qurro.qzv` we will simply choose the PC1 loadings above and below zero as the numerator (red ranks) and denominator (blue ranks) respectively but these could also be partitioned by taxonomy or sequence identifiers (see the Qurro tutorials [here](https://github.com/biocore/qurro#tutorials) for more information). We will also plot this log-ratio in Qurro with the x-axis as time and the color as IBD, which clearly shows nice separation between phenotypes. \n",
    "\n",
    "![image.png](etc/qurro-plot.png)\n",
    "\n",
    "We can further explore these phenotype differences by exporting the `sample_plot_data.tsv` from Qurro (marked in a orange box above). We will then merge this `sample_plot_data` with our sample metadata in python or R. \n",
    "\n",
    "**Note:** Qurro will have an option to export all of the metadata or only the log-ratio soon.\n"
   ]
  },
  {
   "cell_type": "code",
   "execution_count": 61,
   "metadata": {},
   "outputs": [
    {
     "data": {
      "text/html": [
       "<div>\n",
       "<style scoped>\n",
       "    .dataframe tbody tr th:only-of-type {\n",
       "        vertical-align: middle;\n",
       "    }\n",
       "\n",
       "    .dataframe tbody tr th {\n",
       "        vertical-align: top;\n",
       "    }\n",
       "\n",
       "    .dataframe thead th {\n",
       "        text-align: right;\n",
       "    }\n",
       "</style>\n",
       "<table border=\"1\" class=\"dataframe\">\n",
       "  <thead>\n",
       "    <tr style=\"text-align: right;\">\n",
       "      <th></th>\n",
       "      <th>timepoint</th>\n",
       "      <th>host_subject_id</th>\n",
       "      <th>ibd</th>\n",
       "      <th>Current_Natural_Log_Ratio</th>\n",
       "    </tr>\n",
       "    <tr>\n",
       "      <th>#SampleID</th>\n",
       "      <th></th>\n",
       "      <th></th>\n",
       "      <th></th>\n",
       "      <th></th>\n",
       "    </tr>\n",
       "  </thead>\n",
       "  <tbody>\n",
       "    <tr>\n",
       "      <th>2538.1000102</th>\n",
       "      <td>25</td>\n",
       "      <td>s1000100</td>\n",
       "      <td>Control</td>\n",
       "      <td>7.349010</td>\n",
       "    </tr>\n",
       "    <tr>\n",
       "      <th>2538.1000104000004</th>\n",
       "      <td>6</td>\n",
       "      <td>s1000100</td>\n",
       "      <td>Control</td>\n",
       "      <td>6.492556</td>\n",
       "    </tr>\n",
       "  </tbody>\n",
       "</table>\n",
       "</div>"
      ],
      "text/plain": [
       "                    timepoint host_subject_id      ibd  \\\n",
       "#SampleID                                                \n",
       "2538.1000102               25        s1000100  Control   \n",
       "2538.1000104000004          6        s1000100  Control   \n",
       "\n",
       "                    Current_Natural_Log_Ratio  \n",
       "#SampleID                                      \n",
       "2538.1000102                         7.349010  \n",
       "2538.1000104000004                   6.492556  "
      ]
     },
     "execution_count": 61,
     "metadata": {},
     "output_type": "execute_result"
    }
   ],
   "source": [
    "import pandas as pd\n",
    "\n",
    "# import log-ratio data\n",
    "metadata_one = pd.read_csv('IBD-2538/data/metadata.tsv',\n",
    "                           sep='\\t', index_col=0)\n",
    "# import rest of the metadata\n",
    "metadata_two = pd.read_csv('IBD-2538/ctf-results/sample_plot_data.tsv',\n",
    "                           sep='\\t', index_col=0)[['Current_Natural_Log_Ratio']]\n",
    "# merge the data\n",
    "log_ratio_metdata = pd.concat([metadata_two, metadata_one], axis=1)\n",
    "# ensure no duplicate columns\n",
    "log_ratio_metdata = log_ratio_metdata.dropna(subset=['Current_Natural_Log_Ratio'])\n",
    "log_ratio_metdata.index = log_ratio_metdata.index.astype(str)\n",
    "# export in QIIME2 format\n",
    "log_ratio_metdata = log_ratio_metdata[['timepoint','host_subject_id',\n",
    "                                       'ibd','Current_Natural_Log_Ratio']]\n",
    "\n",
    "log_ratio_metdata.index.name = '#SampleID'\n",
    "log_ratio_metdata.to_csv('IBD-2538/ctf-results/merged_sample_plot_data.tsv', sep='\\t')\n",
    "log_ratio_metdata.head(2)\n"
   ]
  },
  {
   "cell_type": "markdown",
   "metadata": {},
   "source": [
    "As you can see above the metadata now has the added column of `Current_Natural_Log_Ratio` from Qurro. So now we will continue to explore this log-ratio by first plotting it explicitly over time with q2-longitudinal.\n"
   ]
  },
  {
   "cell_type": "code",
   "execution_count": 62,
   "metadata": {},
   "outputs": [
    {
     "data": {
      "text/plain": [
       "'IBD-2538/ctf-results/log_ratio_plot.qzv'"
      ]
     },
     "execution_count": 62,
     "metadata": {},
     "output_type": "execute_result"
    }
   ],
   "source": [
    "# make a time series plot of log-ratio\n",
    "temporal_plot = volatility(q2.Metadata(log_ratio_metdata),\n",
    "                           'timepoint',\n",
    "                           individual_id_column='host_subject_id',\n",
    "                           default_group_column='ibd',\n",
    "                           default_metric='Current_Natural_Log_Ratio')\n",
    "temporal_plot.visualization.save('IBD-2538/ctf-results/log_ratio_plot.qzv')\n",
    "\n"
   ]
  },
  {
   "cell_type": "markdown",
   "metadata": {},
   "source": [
    "This can clearly show that we are recreating the separation by IBD that we saw in both the `subject_biplot` & `state_subject_ordination`. \n",
    "\n",
    "![image.png](etc/log-ratio-visualization.png)\n",
    "\n",
    "We can now test this difference by running a linear mixed effects (LME). "
   ]
  },
  {
   "cell_type": "code",
   "execution_count": 64,
   "metadata": {},
   "outputs": [
    {
     "name": "stderr",
     "output_type": "stream",
     "text": [
      "/Users/cmartino/miniconda3/envs/qiime2-2019.10-tut/lib/python3.6/site-packages/q2_longitudinal/_longitudinal.py:291: UserWarning: This is only a warning, and the results of this action are still valid. The column name \"predicted Current_Natural_Log_Ratio\" already exists in your metadata file. Any \"raw\" metadata that can be downloaded from the resulting visualization will contain overwritten values for this metadata column, not the original values.\n",
      "  warnings.warn(warning, UserWarning)\n"
     ]
    },
    {
     "data": {
      "text/plain": [
       "'IBD-2538/ctf-results/lme_log_ratio.qzv'"
      ]
     },
     "execution_count": 64,
     "metadata": {},
     "output_type": "execute_result"
    }
   ],
   "source": [
    "# Run LME model on log-ratio\n",
    "lme_plot = linear_mixed_effects(q2.Metadata(log_ratio_metdata),\n",
    "                                'timepoint',\n",
    "                                individual_id_column='host_subject_id',\n",
    "                                group_columns='ibd',\n",
    "                                metric='Current_Natural_Log_Ratio')\n",
    "lme_plot.visualization.save('IBD-2538/ctf-results/lme_log_ratio.qzv')\n"
   ]
  },
  {
   "cell_type": "markdown",
   "metadata": {},
   "source": [
    "From this LME model we can see that indeed the IBD grouping is significant across time. \n",
    "\n",
    "![image.png](etc/lme-logratio.png)\n",
    "\n"
   ]
  }
 ],
 "metadata": {
  "kernelspec": {
   "display_name": "Python 3",
   "language": "python",
   "name": "python3"
  },
  "language_info": {
   "codemirror_mode": {
    "name": "ipython",
    "version": 3
   },
   "file_extension": ".py",
   "mimetype": "text/x-python",
   "name": "python",
   "nbconvert_exporter": "python",
   "pygments_lexer": "ipython3",
   "version": "3.6.7"
  }
 },
 "nbformat": 4,
 "nbformat_minor": 2
}
