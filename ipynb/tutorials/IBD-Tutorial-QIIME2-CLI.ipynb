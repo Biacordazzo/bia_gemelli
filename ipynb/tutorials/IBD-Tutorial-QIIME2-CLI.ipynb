{
 "cells": [
  {
   "cell_type": "markdown",
   "metadata": {},
   "source": [
    "# Tutorial Introduction"
   ]
  },
  {
   "cell_type": "markdown",
   "metadata": {},
   "source": [
    "Repeat measure experimental designs (e.g. time series) are valid and powerful method to control inter-individual variation. However, conventional dimensionality reduction methods can not account for the high-correlation of each subject to thierself at a later time point. This inherent correlation structure can cause subject grouping to confound or even outweigh important phenotype groupings. To address this we will use Compositional Tensor Factorization (CTF) which we provide in the software package [gemelli](https://github.com/cameronmartino/gemelli). CTF can account for repeated measures, compositionality, and sparsity in microbiome data.\n",
    "\n",
    "In this tutorial we use _gemelli_ to perform CTF on a time series dataset comparing Crohn's and control subjects over a period of 25 weeks published in [Vázquez-Baeza et al](https://gut.bmj.com/content/67/9/1743). First we will download the processed data originally from [here](https://qiita.ucsd.edu/study/description/2538#). The pre-processed data can be downloaded with the following links:\n",
    "\n",
    "* **Table** (table.qza) | [download](https://github.com/cameronmartino/gemelli/tree/master/ipynb/tutorials/IBD-2538/data/table.qza)\n",
    "* **Rarefied Table** (rarefied-table.qza) | [download](https://github.com/cameronmartino/gemelli/tree/master/ipynb/tutorials/IBD-2538/data/rarefied-table.qza)\n",
    "* **Sample Metadata** (metadata.tsv) | [download](https://github.com/cameronmartino/gemelli/tree/master/ipynb/tutorials/IBD-2538/data/metadata.tsv)\n",
    "* **Feature Metadata** (taxonomy.qza) | [download](https://github.com/cameronmartino/gemelli/tree/master/ipynb/tutorials/IBD-2538/data/taxonomy.qza)\n",
    "* **Tree** (sepp-insertion-tree.qza) | [download](https://github.com/cameronmartino/gemelli/tree/master/ipynb/tutorials/IBD-2538/data/sepp-insertion-tree.qza)\n",
    "\n",
    "**Note**: This tutorial assumes you have installed [QIIME2](https://qiime2.org/) using one of the procedures in the [install documents](https://docs.qiime2.org/2020.2/install/) and have installed, [Qurro](https://github.com/biocore/qurro), [DEICODE](https://github.com/biocore/DEICODE), and [gemelli](https://github.com/cameronmartino/gemelli).\n",
    "\n",
    "First we will make a tutorial directory and download the data above and move the files to the `IBD-2538/data` directory:\n",
    "\n",
    "```bash\n",
    "mkdir IBD-2538\n",
    "```\n",
    "```bash\n",
    "mkdir IBD-2538/data\n",
    "```\n",
    "\n",
    "First we will demonstrate the issues with using conventional dimensionality reduction methods on time series data. To do this we will create a directory to store the results:\n"
   ]
  },
  {
   "cell_type": "code",
   "execution_count": 1,
   "metadata": {},
   "outputs": [
    {
     "name": "stdout",
     "output_type": "stream",
     "text": [
      "mkdir: IBD-2538/core-metric-output: File exists\r\n"
     ]
    }
   ],
   "source": [
    "# make directory to store results\n",
    "!mkdir IBD-2538/core-metric-output\n"
   ]
  },
  {
   "cell_type": "markdown",
   "metadata": {},
   "source": [
    "Now we will perform PCoA dimentionality reduction on weighted and unweighted UniFrac $\\beta$-diversity distances.  \n",
    "\n"
   ]
  },
  {
   "cell_type": "code",
   "execution_count": 2,
   "metadata": {},
   "outputs": [
    {
     "name": "stdout",
     "output_type": "stream",
     "text": [
      "\u001b[32mSaved DistanceMatrix % Properties('phylogenetic') to: IBD-2538/core-metric-output/unweighted-unifrac-distance.qza\u001b[0m\n",
      "\u001b[32mSaved DistanceMatrix % Properties('phylogenetic') to: IBD-2538/core-metric-output/weighted-unifrac-distance.qza\u001b[0m\n",
      "\u001b[32mSaved PCoAResults to: IBD-2538/core-metric-output/unweighted-unifrac-distance-pcoa.qza\u001b[0m\n",
      "\u001b[32mSaved PCoAResults to: IBD-2538/core-metric-output/weighted-unifrac-distance-pcoa.qza\u001b[0m\n",
      "\u001b[32mSaved Visualization to: IBD-2538/core-metric-output/unweighted-unifrac-distance-pcoa.qzv\u001b[0m\n",
      "\u001b[32mSaved Visualization to: IBD-2538/core-metric-output/weighted-unifrac-distance-pcoa.qzv\u001b[0m\n"
     ]
    }
   ],
   "source": [
    "\n",
    "!qiime diversity beta-phylogenetic\\\n",
    "    --i-table  IBD-2538/data/rarefied-table.qza\\\n",
    "    --p-metric 'unweighted_unifrac'\\\n",
    "    --i-phylogeny IBD-2538/data/sepp-insertion-tree.qza\\\n",
    "    --o-distance-matrix IBD-2538/core-metric-output/unweighted-unifrac-distance.qza\n",
    "\n",
    "!qiime diversity beta-phylogenetic\\\n",
    "    --i-table  IBD-2538/data/rarefied-table.qza\\\n",
    "    --p-metric 'weighted_unifrac'\\\n",
    "    --i-phylogeny IBD-2538/data/sepp-insertion-tree.qza\\\n",
    "    --o-distance-matrix IBD-2538/core-metric-output/weighted-unifrac-distance.qza\n",
    "\n",
    "!qiime diversity pcoa\\\n",
    "    --i-distance-matrix IBD-2538/core-metric-output/unweighted-unifrac-distance.qza\\\n",
    "    --o-pcoa IBD-2538/core-metric-output/unweighted-unifrac-distance-pcoa.qza\n",
    "\n",
    "!qiime diversity pcoa\\\n",
    "    --i-distance-matrix IBD-2538/core-metric-output/weighted-unifrac-distance.qza\\\n",
    "    --o-pcoa IBD-2538/core-metric-output/weighted-unifrac-distance-pcoa.qza\n",
    "\n",
    "!qiime emperor plot\\\n",
    "    --i-pcoa IBD-2538/core-metric-output/unweighted-unifrac-distance-pcoa.qza\\\n",
    "    --m-metadata-file IBD-2538/data/metadata.tsv\\\n",
    "    --o-visualization IBD-2538/core-metric-output/unweighted-unifrac-distance-pcoa.qzv \n",
    "\n",
    "!qiime emperor plot\\\n",
    "    --i-pcoa IBD-2538/core-metric-output/weighted-unifrac-distance-pcoa.qza\\\n",
    "    --m-metadata-file IBD-2538/data/metadata.tsv\\\n",
    "    --o-visualization IBD-2538/core-metric-output/weighted-unifrac-distance-pcoa.qzv  \n"
   ]
  },
  {
   "cell_type": "markdown",
   "metadata": {},
   "source": [
    "We will also run Aitchison Robust PCA with _DEICODE_ which is built on the same framework as CTF but does not account for repeated measures.\n"
   ]
  },
  {
   "cell_type": "code",
   "execution_count": 3,
   "metadata": {},
   "outputs": [
    {
     "name": "stdout",
     "output_type": "stream",
     "text": [
      "\u001b[32mSaved PCoAResults % Properties('biplot') to: IBD-2538/core-metric-output/RPCA-biplot.qza\u001b[0m\n",
      "\u001b[32mSaved DistanceMatrix to: IBD-2538/core-metric-output/RPCA-distance.qza\u001b[0m\n",
      "\u001b[32mSaved Visualization to: IBD-2538/core-metric-output/RPCA-biplot.qzv\u001b[0m\n"
     ]
    }
   ],
   "source": [
    "!qiime deicode rpca\\\n",
    "    --i-table IBD-2538/data/table.qza\\\n",
    "    --o-biplot IBD-2538/core-metric-output/RPCA-biplot.qza\\\n",
    "    --o-distance-matrix IBD-2538/core-metric-output/RPCA-distance.qza\n",
    "    \n",
    "!qiime emperor biplot\\\n",
    "    --i-biplot IBD-2538/core-metric-output/RPCA-biplot.qza \\\n",
    "    --m-sample-metadata-file IBD-2538/data/metadata.tsv \\\n",
    "    --m-feature-metadata-file IBD-2538/data/taxonomy.qza \\\n",
    "    --o-visualization IBD-2538/core-metric-output/RPCA-biplot.qzv  \n"
   ]
  },
  {
   "cell_type": "markdown",
   "metadata": {},
   "source": [
    "Now we can visualize the sample groupings by host subject ID and IBD with [Emperor](https://biocore.github.io/emperor/). From this we can see all three metric the PCoA samples clearly separate by host subject ID which in some cases (e.g. UniFrac) can overwhelm the control (blue) v. Crohn's disease (orange) sample groupings. Even in the case where the IBD grouping is not completely lost (e.g. RPCA) we can still see confounding groupings in the control (blue) groups by subject ID. In either case this can complicate the interpretation of these analysis.    \n"
   ]
  },
  {
   "attachments": {},
   "cell_type": "markdown",
   "metadata": {},
   "source": [
    "\n",
    "\n",
    "\n",
    "\n",
    "![image.png](etc/subjectidsgroups.png)\n",
    "\n"
   ]
  },
  {
   "cell_type": "markdown",
   "metadata": {},
   "source": [
    "This confounding effect can also be observed in the statistics performed on pairwise $\\beta$-diversity distances (e.g. PERMANOVA). In this case of exploring the distance matrices [q2-longitudinal](https://msystems.asm.org/content/3/6/e00219-18) has many excellent methods for accounting for repeated measure data. You can find the q2-longitudinal tutorial [here](https://docs.qiime2.org/2020.2/tutorials/longitudinal/).\n"
   ]
  },
  {
   "cell_type": "markdown",
   "metadata": {},
   "source": [
    "# Compositional Tensor Factorization (CTF) Introduction"
   ]
  },
  {
   "cell_type": "markdown",
   "metadata": {},
   "source": [
    "In order to account for the correlation from a subject to thierself we will compositional tensor factorization (CTF). CTF builds on the ability to account for compositionality and sparsityusing the robust center logratio transform covered in the RPCA tutorial (found [here](https://forum.qiime2.org/t/robust-aitchison-pca-beta-diversity-with-deicode)) but restructures and factors the data as a tensor. Here we will run CTF through _gemelli_ and explore/interpret the different results. \n",
    "\n",
    "\n",
    "To run CTF we only need to run once command (gemelli ctf). The required input requirements are:\n",
    "\n",
    "1. table\n",
    "    - The table is of type `FeatureTable[Frequency]` which is a table where the rows are features (e.g. ASVs/microbes), the columns are samples, and the entries are the number of sequences for each sample-feature pair.\n",
    "2. sample-metadata\n",
    "    - This is a QIIME2 formatted [metadata](https://docs.qiime2.org/2020.2/tutorials/metadata/) (e.g. tsv format) where the rows are samples matched to the (1) table and the columns are different sample data (e.g. time point).  \n",
    "3. individual-id-column\n",
    "    - This is the name of the column in the (2) metdata that indicates the individual subject/site that was sampled repeatedly.\n",
    "4. state-column\n",
    "    - This is the name of the column in the (2) metdata that indicates the numeric repeated measure (e.g., Time in months/days) or non-numeric categorical (i.e. decade/body-site). \n",
    "5. output-dir\n",
    "    - The desired location of the output. We will cover each output independently below.  \n",
    "\n",
    "There are also optional input parameters:\n",
    "\n",
    "* ( _Optional_ ) feature-metadata-file\n",
    "    - This is a metadata file (e.g. tsv) where the rows are matched to the table features and the columns are feature metadata such as taxonomy, gene pathway, etc... \n",
    "\n",
    "In this tutorial out subject id column is `host_subject_id` and our state-column is different time points denoted as `timepoint` in the sample metadata. Now we are ready to run CTF:\n"
   ]
  },
  {
   "cell_type": "code",
   "execution_count": 4,
   "metadata": {},
   "outputs": [
    {
     "name": "stdout",
     "output_type": "stream",
     "text": [
      "\u001b[32mSaved PCoAResults % Properties('biplot') to: IBD-2538/ctf-results/subject_biplot.qza\u001b[0m\n",
      "\u001b[32mSaved PCoAResults % Properties('biplot') to: IBD-2538/ctf-results/state_biplot.qza\u001b[0m\n",
      "\u001b[32mSaved DistanceMatrix to: IBD-2538/ctf-results/distance_matrix.qza\u001b[0m\n",
      "\u001b[32mSaved SampleData[SampleTrajectory] to: IBD-2538/ctf-results/state_subject_ordination.qza\u001b[0m\n",
      "\u001b[32mSaved FeatureData[FeatureTrajectory] to: IBD-2538/ctf-results/state_feature_ordination.qza\u001b[0m\n"
     ]
    }
   ],
   "source": [
    "!qiime gemelli ctf\\\n",
    "    --i-table  IBD-2538/data/table.qza  \\\n",
    "    --m-sample-metadata-file IBD-2538/data/metadata.tsv \\\n",
    "    --m-feature-metadata-file IBD-2538/data/taxonomy.qza \\\n",
    "    --p-state-column timepoint\\\n",
    "    --p-individual-id-column host_subject_id\\\n",
    "    --output-dir IBD-2538/ctf-results\n"
   ]
  },
  {
   "cell_type": "markdown",
   "metadata": {},
   "source": [
    "We will now cover the output files being:\n",
    "* subject_biplot\n",
    "* state_biplot\n",
    "* distance_matrix\n",
    "* state_subject_ordination\n",
    "* state_feature_ordination\n",
    "\n",
    "\n",
    "First we will explore the `state_subject_ordination`. The subject trajectory has PC axes like a conventional ordination (i.e. PCoA) but with time as the second axis. This can be visualized through the existing q2-longitudinal plugin. \n"
   ]
  },
  {
   "cell_type": "code",
   "execution_count": 5,
   "metadata": {},
   "outputs": [
    {
     "name": "stdout",
     "output_type": "stream",
     "text": [
      "\u001b[32mSaved Visualization to: IBD-2538/ctf-results/state_subject_ordination.qzv\u001b[0m\r\n"
     ]
    }
   ],
   "source": [
    "!qiime longitudinal volatility \\\n",
    "    --m-metadata-file IBD-2538/ctf-results/state_subject_ordination.qza \\\n",
    "    --p-state-column timepoint \\\n",
    "    --p-individual-id-column subject_id \\\n",
    "    --p-default-group-column ibd \\\n",
    "    --p-default-metric PC1 \\\n",
    "    --o-visualization IBD-2538/ctf-results/state_subject_ordination.qzv\n"
   ]
  },
  {
   "cell_type": "markdown",
   "metadata": {},
   "source": [
    "The interpretation is also similar to a conventional ordination scatter plot -- where the larger the distance is between subjects at each time point the greater the difference in thier microbial communities. Here we can see that CTF can effectively show a difference between controls and crohn's subjects across time.\n",
    "\n",
    "![image.png](etc/sample-visualization.png)\n"
   ]
  },
  {
   "cell_type": "markdown",
   "metadata": {},
   "source": [
    "There is not a strong chnage over time in this example. However, we could explore the `distance_matrix` to test the differences by IBD by looking at pairwise distances with a Mixed Effects Model. How to use and evaluate the q2-longitudinal commands is covered in depth in thier tutorial [here](https://docs.qiime2.org/2020.2/tutorials/longitudinal/).\n",
    "\n",
    "**Note:** In the python and QIIME2 API versions of this tutorial we split by time point to run PERMANOVA. However, this is difficult using the command line interface and is skipped here.\n",
    "\n",
    "Now we will explore the `subject_biplot` which is a ordination where dots represent _subjects_ not _samples_ and arrows represent features (e.g. ASVs). First, we will need to aggergate the metadata by subject. This can be done by hand or using DataFrames in python (with pandas) or R like so:\n"
   ]
  },
  {
   "cell_type": "code",
   "execution_count": 6,
   "metadata": {},
   "outputs": [
    {
     "data": {
      "text/html": [
       "<div>\n",
       "<style scoped>\n",
       "    .dataframe tbody tr th:only-of-type {\n",
       "        vertical-align: middle;\n",
       "    }\n",
       "\n",
       "    .dataframe tbody tr th {\n",
       "        vertical-align: top;\n",
       "    }\n",
       "\n",
       "    .dataframe thead th {\n",
       "        text-align: right;\n",
       "    }\n",
       "</style>\n",
       "<table border=\"1\" class=\"dataframe\">\n",
       "  <thead>\n",
       "    <tr style=\"text-align: right;\">\n",
       "      <th></th>\n",
       "      <th>ibd</th>\n",
       "      <th>active_disease</th>\n",
       "    </tr>\n",
       "    <tr>\n",
       "      <th>#SampleID</th>\n",
       "      <th></th>\n",
       "      <th></th>\n",
       "    </tr>\n",
       "  </thead>\n",
       "  <tbody>\n",
       "    <tr>\n",
       "      <th>s1000100</th>\n",
       "      <td>Control</td>\n",
       "      <td>quiescent</td>\n",
       "    </tr>\n",
       "    <tr>\n",
       "      <th>s1000200</th>\n",
       "      <td>Control</td>\n",
       "      <td>quiescent</td>\n",
       "    </tr>\n",
       "    <tr>\n",
       "      <th>s1000300</th>\n",
       "      <td>Control</td>\n",
       "      <td>quiescent</td>\n",
       "    </tr>\n",
       "    <tr>\n",
       "      <th>s1000500</th>\n",
       "      <td>Control</td>\n",
       "      <td>quiescent</td>\n",
       "    </tr>\n",
       "    <tr>\n",
       "      <th>s1000600</th>\n",
       "      <td>Control</td>\n",
       "      <td>quiescent</td>\n",
       "    </tr>\n",
       "  </tbody>\n",
       "</table>\n",
       "</div>"
      ],
      "text/plain": [
       "               ibd active_disease\n",
       "#SampleID                        \n",
       "s1000100   Control      quiescent\n",
       "s1000200   Control      quiescent\n",
       "s1000300   Control      quiescent\n",
       "s1000500   Control      quiescent\n",
       "s1000600   Control      quiescent"
      ]
     },
     "execution_count": 6,
     "metadata": {},
     "output_type": "execute_result"
    }
   ],
   "source": [
    "import pandas as pd\n",
    "from qiime2 import Metadata\n",
    "\n",
    "# first we import the metdata into pandas\n",
    "mf = pd.read_csv('IBD-2538/data/metadata.tsv', sep='\\t',index_col=0)\n",
    "# next we aggregate by subjects (i.e. 'host_subject_id') \n",
    "# and keep the first instance of 'diagnosis_full' by subject.\n",
    "mf = mf.groupby('host_subject_id').agg({'ibd':'first','active_disease':'first'})\n",
    "# now we save the metadata in QIIME2 format.\n",
    "mf.index.name = '#SampleID'\n",
    "mf.to_csv('IBD-2538/data/subject-metadata.tsv', sep='\\t')\n",
    "mf.head(5)\n"
   ]
  },
  {
   "cell_type": "markdown",
   "metadata": {},
   "source": [
    "With out `subject-metadata` table build we are not ready to plot with emperor. \n"
   ]
  },
  {
   "cell_type": "code",
   "execution_count": 7,
   "metadata": {},
   "outputs": [
    {
     "name": "stdout",
     "output_type": "stream",
     "text": [
      "\u001b[32mSaved Visualization to: IBD-2538/ctf-results/subject_biplot.qzv\u001b[0m\r\n"
     ]
    }
   ],
   "source": [
    "!qiime emperor biplot\\\n",
    "    --i-biplot IBD-2538/ctf-results/subject_biplot.qza \\\n",
    "    --m-sample-metadata-file IBD-2538/data/subject-metadata.tsv \\\n",
    "    --m-feature-metadata-file IBD-2538/data/taxonomy.qza \\\n",
    "    --p-number-of-features 100\\\n",
    "    --o-visualization IBD-2538/ctf-results/subject_biplot.qzv\n"
   ]
  },
  {
   "attachments": {},
   "cell_type": "markdown",
   "metadata": {},
   "source": [
    "From this visualization we can see that the IBD type is clearly seperated in two groupings.\n",
    "\n",
    "![image.png](etc/per_subject_biplot.png)\n",
    "\n",
    "\n",
    "We can also see that the IBD grouping is separated entirely over the first PC. We can now use [Qurro](https://github.com/biocore/qurro) to explore the feature loading partitions (arrows) in this biplot as a log-ratio of the original table counts. This allows us to relate these low-dimensional representations back to our original data. Additionally, log-ratio provide a nice set of data points for additional analysis such as LME models. "
   ]
  },
  {
   "cell_type": "code",
   "execution_count": 8,
   "metadata": {},
   "outputs": [
    {
     "name": "stdout",
     "output_type": "stream",
     "text": [
      "\u001b[32mSaved Visualization to: IBD-2538/ctf-results/qurro.qzv\u001b[0m\r\n"
     ]
    }
   ],
   "source": [
    "!qiime qurro loading-plot\\\n",
    "    --i-table IBD-2538/data/table.qza\\\n",
    "    --i-ranks IBD-2538/ctf-results/subject_biplot.qza\\\n",
    "    --m-sample-metadata-file IBD-2538/data/metadata.tsv\\\n",
    "    --m-feature-metadata-file IBD-2538/data/taxonomy.qza\\\n",
    "    --o-visualization IBD-2538/ctf-results/qurro.qzv\n"
   ]
  },
  {
   "attachments": {},
   "cell_type": "markdown",
   "metadata": {},
   "source": [
    "From the Qurro output `qurro.qzv` we will simply choose the PC1 loadings above and below zero as the numerator (red ranks) and denominator (blue ranks) respectively but these could also be partitioned by taxonomy or sequence identifiers (see the Qurro tutorials [here](https://github.com/biocore/qurro#tutorials) for more information). We will also plot this log-ratio in Qurro with the x-axis as time and the color as IBD, which clearly shows nice separation between phenotypes. \n",
    "\n",
    "![image.png](etc/qurro-plot.png)\n",
    "\n",
    "We can further explore these phenotype differences by exporting the `sample_plot_data.tsv` from qurro (marked in a orange box above). We will then merge this `sample_plot_data` with our sample metadata in python or R. \n",
    "\n",
    "**Note:** Qurro will have an option to export all of the metadata or only the log-ratio soon.\n"
   ]
  },
  {
   "cell_type": "code",
   "execution_count": 9,
   "metadata": {},
   "outputs": [
    {
     "data": {
      "text/html": [
       "<div>\n",
       "<style scoped>\n",
       "    .dataframe tbody tr th:only-of-type {\n",
       "        vertical-align: middle;\n",
       "    }\n",
       "\n",
       "    .dataframe tbody tr th {\n",
       "        vertical-align: top;\n",
       "    }\n",
       "\n",
       "    .dataframe thead th {\n",
       "        text-align: right;\n",
       "    }\n",
       "</style>\n",
       "<table border=\"1\" class=\"dataframe\">\n",
       "  <thead>\n",
       "    <tr style=\"text-align: right;\">\n",
       "      <th></th>\n",
       "      <th>Current_Natural_Log_Ratio</th>\n",
       "      <th>active_disease</th>\n",
       "      <th>age</th>\n",
       "      <th>age_unit</th>\n",
       "      <th>alcohol_frequency</th>\n",
       "      <th>anonymized_name</th>\n",
       "      <th>anti_tnf</th>\n",
       "      <th>antibiotic_select</th>\n",
       "      <th>appendix_removed</th>\n",
       "      <th>asa_5_asa</th>\n",
       "      <th>...</th>\n",
       "      <th>tanning_beds</th>\n",
       "      <th>tanning_sprays</th>\n",
       "      <th>taxon_id</th>\n",
       "      <th>teethbrushing_frequency</th>\n",
       "      <th>title</th>\n",
       "      <th>tonsils_removed</th>\n",
       "      <th>tot_mass</th>\n",
       "      <th>weeks</th>\n",
       "      <th>weight_change</th>\n",
       "      <th>timepoint</th>\n",
       "    </tr>\n",
       "    <tr>\n",
       "      <th>#SampleID</th>\n",
       "      <th></th>\n",
       "      <th></th>\n",
       "      <th></th>\n",
       "      <th></th>\n",
       "      <th></th>\n",
       "      <th></th>\n",
       "      <th></th>\n",
       "      <th></th>\n",
       "      <th></th>\n",
       "      <th></th>\n",
       "      <th></th>\n",
       "      <th></th>\n",
       "      <th></th>\n",
       "      <th></th>\n",
       "      <th></th>\n",
       "      <th></th>\n",
       "      <th></th>\n",
       "      <th></th>\n",
       "      <th></th>\n",
       "      <th></th>\n",
       "      <th></th>\n",
       "    </tr>\n",
       "  </thead>\n",
       "  <tbody>\n",
       "    <tr>\n",
       "      <th>2538.10001</th>\n",
       "      <td>7.349010</td>\n",
       "      <td>quiescent</td>\n",
       "      <td>56</td>\n",
       "      <td>years</td>\n",
       "      <td>Missing: Not provided</td>\n",
       "      <td>102</td>\n",
       "      <td>Missing: Not provided</td>\n",
       "      <td>Missing: Not provided</td>\n",
       "      <td>Missing: Not provided</td>\n",
       "      <td>Missing: Not provided</td>\n",
       "      <td>...</td>\n",
       "      <td>Missing: Not provided</td>\n",
       "      <td>Missing: Not provided</td>\n",
       "      <td>408170.0</td>\n",
       "      <td>Missing: Not provided</td>\n",
       "      <td>Guiding longitudinal sampling in inflammatory ...</td>\n",
       "      <td>Missing: Not provided</td>\n",
       "      <td>129.3</td>\n",
       "      <td>Missing: Not provided</td>\n",
       "      <td>Missing: Not provided</td>\n",
       "      <td>25</td>\n",
       "    </tr>\n",
       "    <tr>\n",
       "      <th>2538.10001</th>\n",
       "      <td>6.492556</td>\n",
       "      <td>quiescent</td>\n",
       "      <td>56</td>\n",
       "      <td>years</td>\n",
       "      <td>Missing: Not provided</td>\n",
       "      <td>104</td>\n",
       "      <td>Missing: Not provided</td>\n",
       "      <td>Missing: Not provided</td>\n",
       "      <td>Missing: Not provided</td>\n",
       "      <td>Missing: Not provided</td>\n",
       "      <td>...</td>\n",
       "      <td>Missing: Not provided</td>\n",
       "      <td>Missing: Not provided</td>\n",
       "      <td>408170.0</td>\n",
       "      <td>Missing: Not provided</td>\n",
       "      <td>Guiding longitudinal sampling in inflammatory ...</td>\n",
       "      <td>Missing: Not provided</td>\n",
       "      <td>129.3</td>\n",
       "      <td>Missing: Not provided</td>\n",
       "      <td>Missing: Not provided</td>\n",
       "      <td>6</td>\n",
       "    </tr>\n",
       "  </tbody>\n",
       "</table>\n",
       "<p>2 rows × 128 columns</p>\n",
       "</div>"
      ],
      "text/plain": [
       "            Current_Natural_Log_Ratio active_disease  age age_unit  \\\n",
       "#SampleID                                                            \n",
       "2538.10001                   7.349010      quiescent   56    years   \n",
       "2538.10001                   6.492556      quiescent   56    years   \n",
       "\n",
       "                alcohol_frequency  anonymized_name               anti_tnf  \\\n",
       "#SampleID                                                                   \n",
       "2538.10001  Missing: Not provided              102  Missing: Not provided   \n",
       "2538.10001  Missing: Not provided              104  Missing: Not provided   \n",
       "\n",
       "                antibiotic_select       appendix_removed  \\\n",
       "#SampleID                                                  \n",
       "2538.10001  Missing: Not provided  Missing: Not provided   \n",
       "2538.10001  Missing: Not provided  Missing: Not provided   \n",
       "\n",
       "                        asa_5_asa  ...           tanning_beds  \\\n",
       "#SampleID                          ...                          \n",
       "2538.10001  Missing: Not provided  ...  Missing: Not provided   \n",
       "2538.10001  Missing: Not provided  ...  Missing: Not provided   \n",
       "\n",
       "                   tanning_sprays  taxon_id teethbrushing_frequency  \\\n",
       "#SampleID                                                             \n",
       "2538.10001  Missing: Not provided  408170.0   Missing: Not provided   \n",
       "2538.10001  Missing: Not provided  408170.0   Missing: Not provided   \n",
       "\n",
       "                                                        title  \\\n",
       "#SampleID                                                       \n",
       "2538.10001  Guiding longitudinal sampling in inflammatory ...   \n",
       "2538.10001  Guiding longitudinal sampling in inflammatory ...   \n",
       "\n",
       "                  tonsils_removed tot_mass                  weeks  \\\n",
       "#SampleID                                                           \n",
       "2538.10001  Missing: Not provided    129.3  Missing: Not provided   \n",
       "2538.10001  Missing: Not provided    129.3  Missing: Not provided   \n",
       "\n",
       "                    weight_change timepoint  \n",
       "#SampleID                                    \n",
       "2538.10001  Missing: Not provided        25  \n",
       "2538.10001  Missing: Not provided         6  \n",
       "\n",
       "[2 rows x 128 columns]"
      ]
     },
     "execution_count": 9,
     "metadata": {},
     "output_type": "execute_result"
    }
   ],
   "source": [
    "import pandas as pd\n",
    "\n",
    "# import log-ratio data\n",
    "metadata_one = pd.read_csv('IBD-2538/data/metadata.tsv',\n",
    "                           sep='\\t', index_col=0)\n",
    "# import rest of the metadata\n",
    "metadata_two = pd.read_csv('IBD-2538/ctf-results/sample_plot_data.tsv',\n",
    "                           sep='\\t', index_col=0)[['Current_Natural_Log_Ratio']]\n",
    "# merge the data\n",
    "log_ratio_metdata = pd.concat([metadata_two, metadata_one], axis=1)\n",
    "# ensure no duplicate columns\n",
    "log_ratio_metdata = log_ratio_metdata.dropna(subset=['Current_Natural_Log_Ratio'])\n",
    "# export in QIIME2 format\n",
    "log_ratio_metdata.index.name = '#SampleID'\n",
    "log_ratio_metdata.to_csv('IBD-2538/ctf-results/merged_sample_plot_data.tsv', sep='\\t')\n",
    "log_ratio_metdata.head(2)\n"
   ]
  },
  {
   "cell_type": "markdown",
   "metadata": {},
   "source": [
    "As you can see above the metadata now has the added column of `Current_Natural_Log_Ratio` from Qurro. So now we will continue to explore this log-ratio by first plotting it explicitly over time with q2-longitudinal.\n"
   ]
  },
  {
   "cell_type": "code",
   "execution_count": 10,
   "metadata": {},
   "outputs": [
    {
     "name": "stdout",
     "output_type": "stream",
     "text": [
      "\u001b[32mSaved Visualization to: IBD-2538/ctf-results/log_ratio_plot.qzv\u001b[0m\r\n"
     ]
    }
   ],
   "source": [
    "!qiime longitudinal volatility \\\n",
    "    --m-metadata-file IBD-2538/ctf-results/merged_sample_plot_data.tsv\\\n",
    "    --p-state-column timepoint \\\n",
    "    --p-individual-id-column host_subject_id \\\n",
    "    --p-default-group-column ibd \\\n",
    "    --p-default-metric Current_Natural_Log_Ratio \\\n",
    "    --o-visualization IBD-2538/ctf-results/log_ratio_plot.qzv\n",
    "\n"
   ]
  },
  {
   "attachments": {},
   "cell_type": "markdown",
   "metadata": {},
   "source": [
    "This can clearly show that we are recreating the separation by IBD that we saw in both the `subject_biplot` & `state_subject_ordination`. \n",
    "\n",
    "![image.png](etc/log-ratio-visualization.png)\n",
    "\n",
    "We can now test this difference by running a linear mixed effects (LME). "
   ]
  },
  {
   "cell_type": "code",
   "execution_count": 11,
   "metadata": {},
   "outputs": [
    {
     "name": "stdout",
     "output_type": "stream",
     "text": [
      "\u001b[32mSaved Visualization to: IBD-2538/ctf-results/lme_log_ratio.qzv\u001b[0m\r\n"
     ]
    }
   ],
   "source": [
    "!qiime longitudinal linear-mixed-effects\\\n",
    "    --m-metadata-file IBD-2538/ctf-results/merged_sample_plot_data.tsv\\\n",
    "    --p-state-column timepoint \\\n",
    "    --p-individual-id-column host_subject_id \\\n",
    "    --p-group-columns ibd \\\n",
    "    --p-metric Current_Natural_Log_Ratio \\\n",
    "    --o-visualization IBD-2538/ctf-results/lme_log_ratio.qzv\n"
   ]
  },
  {
   "cell_type": "markdown",
   "metadata": {},
   "source": [
    "From this LME model we can see that indeed the IBD grouping is significant across time. \n",
    "\n",
    "![image.png](etc/lme-logratio.png)\n",
    "\n"
   ]
  }
 ],
 "metadata": {
  "kernelspec": {
   "display_name": "Python 3",
   "language": "python",
   "name": "python3"
  },
  "language_info": {
   "codemirror_mode": {
    "name": "ipython",
    "version": 3
   },
   "file_extension": ".py",
   "mimetype": "text/x-python",
   "name": "python",
   "nbconvert_exporter": "python",
   "pygments_lexer": "ipython3",
   "version": "3.6.7"
  }
 },
 "nbformat": 4,
 "nbformat_minor": 2
}
