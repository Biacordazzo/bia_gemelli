{
 "cells": [
  {
   "cell_type": "markdown",
   "metadata": {},
   "source": [
    "# Tutorial \n",
    "\n",
    "**Note**: This guide assumes you have installed [gemelli](https://github.com/biocore/gemelli).\n",
    "\n",
    "\n",
    "## Introduction \n",
    "\n",
    "In this tutorial you will learn how to interpret and perform Robust Aitchison PCA. The focus of this tutorial is compositional beta diversity. There are many beta diversity metrics that have been proposed, all with varying benefits on varying data structures. However, presence/absence metric often prove to give better results than those that rely on abundances (i.e. unweighted vs. weighted UniFrac). One component of this phenomenon is the interpretation of relative abundances can provide spurious results (see [the differential abundance analysis introduction](https://docs.qiime2.org/2019.1/tutorials/gneiss/). One solution to this problem is to use a compositional distance metric such as Aitchison distance. \n",
    "\n",
    "\n",
    "As a toy example let’s build three taxa. These three taxa represent common distributions we see in microbiome datasets. Where the first taxon is increasing exponentially across samples, this is a trend that we would be interested in. However, taxon 2 and 3 have much higher counts and taxon 3 is randomly fluctuating across samples.  \n",
    "\n",
    "![](//forum-qiime2-org.s3.dualstack.us-west-2.amazonaws.com/original/2X/7/72ebdf6a3303ce0a5850ce52a46befac564cc26d.png)\n",
    "\n",
    "In our distances below we have Euclidean, Bray-Curtis, Jaccard, and Aitchison distances (from left to right). We can see that the abundance based metrics Euclidean and Bray-Curtis are heavily influenced by the abundance of taxon 3 and seem to randomly fluctuate. In the presence/absence metric, Jaccard, we see that the distance saturates to one very quickly. However, in the Aitchison distance we see a linear curve representing taxon 1. The reason the distance is linear is because Aitchison distance relies on log transforms (the log of an exponential taxon 1 is linear). \n",
    "\n",
    "\n",
    "![](//forum-qiime2-org.s3.dualstack.us-west-2.amazonaws.com/original/2X/b/bc002a51edcd3e34cba1874a6aa97d7d08b6c0b5.png)\n",
    "\n",
    "From this toy example, it is clear that Aitchison distance better accounts for the proportions. However, we made the unrealistic assumption in our toy example that there were no zero counts. In real microbiome datasets there are a large number of zeros (i.e. sparsity). Sparsity complicates log ratio transformations because the log-ratio of zero is undefined. To solve this pseudo counts, that can skew results, are commonly used (see [Naught all zeros in sequence count data are the same](https://www.biorxiv.org/content/10.1101/477794v1)). \n",
    "\n",
    "Robust Aitchison PCA solves this problem in two steps:\n",
    "\n",
    "**1.** Compostional preprocessing using the centered log ratio transform on only the non-zero values of the data (no pseudo count)\n",
    "\n",
    "![](//forum-qiime2-org.s3.dualstack.us-west-2.amazonaws.com/original/2X/4/43fe1323791b5cea419e0973b8983621dbf31a20.gif)\n",
    "\n",
    "![](//forum-qiime2-org.s3.dualstack.us-west-2.amazonaws.com/original/2X/1/13b8c6f415d6ab10c81dec1a27f1f24079be398f.gif)\n",
    "\n",
    "**2.** Dimensionality reduction through Robust PCA on only the non-zero values of the data ( [matrix completion]( https://arxiv.org/pdf/0906.2027.pdf)). \n",
    "\n",
    "![](//forum-qiime2-org.s3.dualstack.us-west-2.amazonaws.com/original/2X/a/a327d5600f68b96457c227c660f533e94ee68341.gif)\n",
    "\n",
    "\n",
    "To demonstrate this in action we will run an example dataset below, where the output can be viewed as a compositional biplot through emperor. \n",
    "\n",
    "## Example \n",
    "\n",
    "\n",
    "In this example we will use Robust Aitchison PCA via gemelli on the “Moving Pictures” dataset. The dataset consists of human microbiome samples from two individuals at four body sites at five timepoints, the first of which immediately followed antibiotic usage ([Caporaso et al. 2011](https://www.ncbi.nlm.nih.gov/pubmed/21624126)). The tables needed for this tutorial are provided below:\n"
   ]
  },
  {
   "cell_type": "markdown",
   "metadata": {},
   "source": [
    "\n",
    "##### Table [download](https://github.com/biocore/DEICODE/blob/master/ipynb/tutorials/qiime2-moving-pictures-tutorial/table.biom?raw=true)\n",
    "**save as:** table.biom \n",
    "\n",
    "##### Sample Metadata [download](https://github.com/biocore/DEICODE/blob/master/ipynb/tutorials/qiime2-moving-pictures-tutorial/sample-metadata.tsv?raw=true)\n",
    "**save as:** sample-metadata.tsv\n",
    "\n",
    "##### Feature Metadata  [download](https://github.com/biocore/DEICODE/blob/master/ipynb/tutorials/qiime2-moving-pictures-tutorial/taxonomy.tsv?raw=true)\n",
    "**save as:** taxonomy.tsv\n"
   ]
  },
  {
   "cell_type": "code",
   "execution_count": 1,
   "metadata": {},
   "outputs": [],
   "source": [
    "!cd qiime2-moving-pictures-tutorial"
   ]
  },
  {
   "cell_type": "markdown",
   "metadata": {},
   "source": [
    "Using table.biom in [biom format](http://biom-format.org/), a raw count table, we will generate our beta diversity ordination file. There are a few parameters to gemelli that we may want to consider. The first is filtering cutoffs, these are `min-feature-count`, `min-sample-count`, and `min-feature-frequency`. Both min-feature-count and min-sample-count accept integer values and remove feature or samples, respectively, with sums below this cutoff. The feature cut-off is useful in the case that features with very low total counts among all samples represent contamination or chimeric sequences. The sample cut off is useful for the case that some sample received very few reads relative to other samples. The min-feature-frequency can be useful to remove features that only appear in a small portion of samples, which may be difficult to further asses using tools like [Qurro](https://github.com/biocore/qurro).\n",
    "\n",
    "**Note:** it is _not_ recommended to bin your features by taxonomic assignment (i.e. by genus level). \n",
    "**Note:** it is _not_ recommended to rarefy your data before using gemelli. \n",
    "\n",
    "The other main parameter of the gemelli is the number of components to use through `n-components` (i.e. the rank). gemelli relies on a low-rank assumption and therefore it is recommended to choose a value between 2 and 10. \n",
    "\n",
    "Now that we understand the acceptable parameters, we are ready to run gemelli.  \n"
   ]
  },
  {
   "cell_type": "code",
   "execution_count": 2,
   "metadata": {
    "scrolled": true
   },
   "outputs": [],
   "source": [
    "%%capture\n",
    "!gemelli rpca \\\n",
    "    --in-biom qiime2-moving-pictures-tutorial/table.biom \\\n",
    "    --output-dir qiime2-moving-pictures-tutorial/standalone-cli"
   ]
  },
  {
   "cell_type": "markdown",
   "metadata": {},
   "source": [
    "The same command can be run using the python API through the following:"
   ]
  },
  {
   "cell_type": "code",
   "execution_count": 2,
   "metadata": {},
   "outputs": [
    {
     "name": "stderr",
     "output_type": "stream",
     "text": [
      "/Users/cameronmartino/Dropbox/bin/gemelli/gemelli/preprocessing.py:426: RuntimeWarning: divide by zero encountered in log\n",
      "  mat = np.log(matrix_closure(mat))\n"
     ]
    }
   ],
   "source": [
    "from biom import load_table\n",
    "from gemelli.rpca import rpca\n",
    "\n",
    "# import the data table\n",
    "table = load_table('qiime2-moving-pictures-tutorial/table.biom')\n",
    "# perform RPCA\n",
    "ordination, distance = rpca(table, min_sample_count=500)\n"
   ]
  },
  {
   "cell_type": "markdown",
   "metadata": {},
   "source": [
    "To ensure the impact of differences in sequencing depth or sample sum differences are not influencing the sample distances an additional QC step can be run. To do this we will first rarefy the data at the same depth as the sample sum cut-off used above. Then we will run mantel tests between the rarefied and unrarefied distance vs. the absolute difference in sample sums.  This can be done easily through the following:"
   ]
  },
  {
   "cell_type": "code",
   "execution_count": 8,
   "metadata": {},
   "outputs": [
    {
     "data": {
      "text/plain": [
       "(-0.5204080617994011, 0.6064763616568878)"
      ]
     },
     "execution_count": 8,
     "metadata": {},
     "output_type": "execute_result"
    }
   ],
   "source": [
    "from gemelli.utils import qc_rarefaction\n",
    "\n",
    "rare_ordination, rare_distance = rpca(table.copy().subsample(500))\n",
    "t, p = qc_rarefaction(table, rare_distance, distance)\n",
    "(t, p)"
   ]
  },
  {
   "cell_type": "markdown",
   "metadata": {},
   "source": [
    "We can see here that the difference between the rarefied distance vs. unrarefied distance in the correlation to the absolute difference in sample sums is non-significant. If it was significant you would need to continue on using _only_ the rarefied results but since it is not here we will continue with the unrarefied. If you are unsure about your results, RPCA works with rarefied data and you continue with that."
   ]
  },
  {
   "cell_type": "markdown",
   "metadata": {},
   "source": [
    "The output of the standalone tool is two-fold an [OrdinationResults](http://scikit-bio.org/docs/0.5.1/generated/generated/skbio.stats.ordination.OrdinationResults.html) file and a [DistanceMatrix](http://scikit-bio.org/docs/0.5.1/generated/generated/skbio.stats.distance.DistanceMatrix.html) both in [scikit-bio](http://scikit-bio.org/docs/0.5.1/index.html) format. Both the output files can both be imported and visualized from the standalone command or directly used from the python API. First we will plot the ordination biplot to explore sample separation and the features driving the difference.\n",
    "\n",
    "First we need to import the metadata."
   ]
  },
  {
   "cell_type": "code",
   "execution_count": 5,
   "metadata": {},
   "outputs": [
    {
     "data": {
      "text/html": [
       "<div>\n",
       "<style scoped>\n",
       "    .dataframe tbody tr th:only-of-type {\n",
       "        vertical-align: middle;\n",
       "    }\n",
       "\n",
       "    .dataframe tbody tr th {\n",
       "        vertical-align: top;\n",
       "    }\n",
       "\n",
       "    .dataframe thead th {\n",
       "        text-align: right;\n",
       "    }\n",
       "</style>\n",
       "<table border=\"1\" class=\"dataframe\">\n",
       "  <thead>\n",
       "    <tr style=\"text-align: right;\">\n",
       "      <th></th>\n",
       "      <th>BarcodeSequence</th>\n",
       "      <th>LinkerPrimerSequence</th>\n",
       "      <th>BodySite</th>\n",
       "      <th>Year</th>\n",
       "      <th>Month</th>\n",
       "      <th>Day</th>\n",
       "      <th>Subject</th>\n",
       "      <th>ReportedAntibioticUsage</th>\n",
       "      <th>DaysSinceExperimentStart</th>\n",
       "      <th>Description</th>\n",
       "    </tr>\n",
       "    <tr>\n",
       "      <th>#SampleID</th>\n",
       "      <th></th>\n",
       "      <th></th>\n",
       "      <th></th>\n",
       "      <th></th>\n",
       "      <th></th>\n",
       "      <th></th>\n",
       "      <th></th>\n",
       "      <th></th>\n",
       "      <th></th>\n",
       "      <th></th>\n",
       "    </tr>\n",
       "  </thead>\n",
       "  <tbody>\n",
       "    <tr>\n",
       "      <th>L1S8</th>\n",
       "      <td>AGCTGACTAGTC</td>\n",
       "      <td>GTGCCAGCMGCCGCGGTAA</td>\n",
       "      <td>gut</td>\n",
       "      <td>2008</td>\n",
       "      <td>10</td>\n",
       "      <td>28</td>\n",
       "      <td>subject-1</td>\n",
       "      <td>Yes</td>\n",
       "      <td>0</td>\n",
       "      <td>subject-1.gut.2008-10-28</td>\n",
       "    </tr>\n",
       "    <tr>\n",
       "      <th>L1S57</th>\n",
       "      <td>ACACACTATGGC</td>\n",
       "      <td>GTGCCAGCMGCCGCGGTAA</td>\n",
       "      <td>gut</td>\n",
       "      <td>2009</td>\n",
       "      <td>1</td>\n",
       "      <td>20</td>\n",
       "      <td>subject-1</td>\n",
       "      <td>No</td>\n",
       "      <td>84</td>\n",
       "      <td>subject-1.gut.2009-1-20</td>\n",
       "    </tr>\n",
       "  </tbody>\n",
       "</table>\n",
       "</div>"
      ],
      "text/plain": [
       "          BarcodeSequence LinkerPrimerSequence BodySite  Year Month Day  \\\n",
       "#SampleID                                                                 \n",
       "L1S8         AGCTGACTAGTC  GTGCCAGCMGCCGCGGTAA      gut  2008    10  28   \n",
       "L1S57        ACACACTATGGC  GTGCCAGCMGCCGCGGTAA      gut  2009     1  20   \n",
       "\n",
       "             Subject ReportedAntibioticUsage DaysSinceExperimentStart  \\\n",
       "#SampleID                                                               \n",
       "L1S8       subject-1                     Yes                        0   \n",
       "L1S57      subject-1                      No                       84   \n",
       "\n",
       "                        Description  \n",
       "#SampleID                            \n",
       "L1S8       subject-1.gut.2008-10-28  \n",
       "L1S57       subject-1.gut.2009-1-20  "
      ]
     },
     "execution_count": 5,
     "metadata": {},
     "output_type": "execute_result"
    }
   ],
   "source": [
    "import pandas as pd\n",
    "import numpy as np\n",
    "import seaborn as sns\n",
    "from matplotlib import pyplot as plt\n",
    "from assets.plotting_helper import biplot\n",
    "%matplotlib inline\n",
    "\n",
    "# import the sample metadata\n",
    "mf = pd.read_csv('qiime2-moving-pictures-tutorial/sample-metadata.tsv',\n",
    "                 sep='\\t', index_col=0).drop(['#q2:types'], axis=0)\n",
    "# import the taxonomy metadata\n",
    "tf = pd.read_csv('qiime2-moving-pictures-tutorial/taxonomy.tsv',\n",
    "                 sep='\\t', index_col=0)\n",
    "# view\n",
    "mf.head(2)"
   ]
  },
  {
   "cell_type": "markdown",
   "metadata": {},
   "source": [
    "We can view the ordination loadings through the `ordination` result of type OrdinationResults."
   ]
  },
  {
   "cell_type": "code",
   "execution_count": 6,
   "metadata": {},
   "outputs": [
    {
     "data": {
      "text/html": [
       "<div>\n",
       "<style scoped>\n",
       "    .dataframe tbody tr th:only-of-type {\n",
       "        vertical-align: middle;\n",
       "    }\n",
       "\n",
       "    .dataframe tbody tr th {\n",
       "        vertical-align: top;\n",
       "    }\n",
       "\n",
       "    .dataframe thead th {\n",
       "        text-align: right;\n",
       "    }\n",
       "</style>\n",
       "<table border=\"1\" class=\"dataframe\">\n",
       "  <thead>\n",
       "    <tr style=\"text-align: right;\">\n",
       "      <th></th>\n",
       "      <th>PC1</th>\n",
       "      <th>PC2</th>\n",
       "      <th>PC3</th>\n",
       "      <th>PC4</th>\n",
       "      <th>PC5</th>\n",
       "    </tr>\n",
       "  </thead>\n",
       "  <tbody>\n",
       "    <tr>\n",
       "      <th>L1S105</th>\n",
       "      <td>-0.090263</td>\n",
       "      <td>0.202402</td>\n",
       "      <td>0.293835</td>\n",
       "      <td>0.273304</td>\n",
       "      <td>-0.118611</td>\n",
       "    </tr>\n",
       "    <tr>\n",
       "      <th>L1S140</th>\n",
       "      <td>-0.351046</td>\n",
       "      <td>0.041167</td>\n",
       "      <td>-0.048862</td>\n",
       "      <td>-0.086615</td>\n",
       "      <td>-0.107419</td>\n",
       "    </tr>\n",
       "  </tbody>\n",
       "</table>\n",
       "</div>"
      ],
      "text/plain": [
       "             PC1       PC2       PC3       PC4       PC5\n",
       "L1S105 -0.090263  0.202402  0.293835  0.273304 -0.118611\n",
       "L1S140 -0.351046  0.041167 -0.048862 -0.086615 -0.107419"
      ]
     },
     "execution_count": 6,
     "metadata": {},
     "output_type": "execute_result"
    }
   ],
   "source": [
    "# the sample loadings\n",
    "spca_df = ordination.samples\n",
    "spca_df.head(2)"
   ]
  },
  {
   "cell_type": "code",
   "execution_count": 7,
   "metadata": {},
   "outputs": [
    {
     "data": {
      "text/html": [
       "<div>\n",
       "<style scoped>\n",
       "    .dataframe tbody tr th:only-of-type {\n",
       "        vertical-align: middle;\n",
       "    }\n",
       "\n",
       "    .dataframe tbody tr th {\n",
       "        vertical-align: top;\n",
       "    }\n",
       "\n",
       "    .dataframe thead th {\n",
       "        text-align: right;\n",
       "    }\n",
       "</style>\n",
       "<table border=\"1\" class=\"dataframe\">\n",
       "  <thead>\n",
       "    <tr style=\"text-align: right;\">\n",
       "      <th></th>\n",
       "      <th>PC1</th>\n",
       "      <th>PC2</th>\n",
       "      <th>PC3</th>\n",
       "      <th>PC4</th>\n",
       "      <th>PC5</th>\n",
       "    </tr>\n",
       "  </thead>\n",
       "  <tbody>\n",
       "    <tr>\n",
       "      <th>4b5eeb300368260019c1fbc7a3c718fc</th>\n",
       "      <td>-0.076566</td>\n",
       "      <td>0.021455</td>\n",
       "      <td>0.272938</td>\n",
       "      <td>0.357056</td>\n",
       "      <td>-0.256331</td>\n",
       "    </tr>\n",
       "    <tr>\n",
       "      <th>fe30ff0f71a38a39cf1717ec2be3a2fc</th>\n",
       "      <td>0.108060</td>\n",
       "      <td>-0.240542</td>\n",
       "      <td>-0.170898</td>\n",
       "      <td>-0.053301</td>\n",
       "      <td>-0.221769</td>\n",
       "    </tr>\n",
       "  </tbody>\n",
       "</table>\n",
       "</div>"
      ],
      "text/plain": [
       "                                       PC1       PC2       PC3       PC4  \\\n",
       "4b5eeb300368260019c1fbc7a3c718fc -0.076566  0.021455  0.272938  0.357056   \n",
       "fe30ff0f71a38a39cf1717ec2be3a2fc  0.108060 -0.240542 -0.170898 -0.053301   \n",
       "\n",
       "                                       PC5  \n",
       "4b5eeb300368260019c1fbc7a3c718fc -0.256331  \n",
       "fe30ff0f71a38a39cf1717ec2be3a2fc -0.221769  "
      ]
     },
     "execution_count": 7,
     "metadata": {},
     "output_type": "execute_result"
    }
   ],
   "source": [
    "# the feature loadings\n",
    "fpca_df = ordination.features\n",
    "fpca_df.head(2)"
   ]
  },
  {
   "cell_type": "markdown",
   "metadata": {},
   "source": [
    "Next we can directly add the metadata to the loadings."
   ]
  },
  {
   "cell_type": "code",
   "execution_count": 8,
   "metadata": {},
   "outputs": [
    {
     "data": {
      "text/html": [
       "<div>\n",
       "<style scoped>\n",
       "    .dataframe tbody tr th:only-of-type {\n",
       "        vertical-align: middle;\n",
       "    }\n",
       "\n",
       "    .dataframe tbody tr th {\n",
       "        vertical-align: top;\n",
       "    }\n",
       "\n",
       "    .dataframe thead th {\n",
       "        text-align: right;\n",
       "    }\n",
       "</style>\n",
       "<table border=\"1\" class=\"dataframe\">\n",
       "  <thead>\n",
       "    <tr style=\"text-align: right;\">\n",
       "      <th></th>\n",
       "      <th>PC1</th>\n",
       "      <th>PC2</th>\n",
       "      <th>PC3</th>\n",
       "      <th>PC4</th>\n",
       "      <th>PC5</th>\n",
       "      <th>BarcodeSequence</th>\n",
       "      <th>LinkerPrimerSequence</th>\n",
       "      <th>BodySite</th>\n",
       "      <th>Year</th>\n",
       "      <th>Month</th>\n",
       "      <th>Day</th>\n",
       "      <th>Subject</th>\n",
       "      <th>ReportedAntibioticUsage</th>\n",
       "      <th>DaysSinceExperimentStart</th>\n",
       "      <th>Description</th>\n",
       "    </tr>\n",
       "  </thead>\n",
       "  <tbody>\n",
       "    <tr>\n",
       "      <th>L1S105</th>\n",
       "      <td>-0.090263</td>\n",
       "      <td>0.202402</td>\n",
       "      <td>0.293835</td>\n",
       "      <td>0.273304</td>\n",
       "      <td>-0.118611</td>\n",
       "      <td>AGTGCGATGCGT</td>\n",
       "      <td>GTGCCAGCMGCCGCGGTAA</td>\n",
       "      <td>gut</td>\n",
       "      <td>2009</td>\n",
       "      <td>3</td>\n",
       "      <td>17</td>\n",
       "      <td>subject-1</td>\n",
       "      <td>No</td>\n",
       "      <td>140</td>\n",
       "      <td>subject-1.gut.2009-3-17</td>\n",
       "    </tr>\n",
       "    <tr>\n",
       "      <th>L1S140</th>\n",
       "      <td>-0.351046</td>\n",
       "      <td>0.041167</td>\n",
       "      <td>-0.048862</td>\n",
       "      <td>-0.086615</td>\n",
       "      <td>-0.107419</td>\n",
       "      <td>ATGGCAGCTCTA</td>\n",
       "      <td>GTGCCAGCMGCCGCGGTAA</td>\n",
       "      <td>gut</td>\n",
       "      <td>2008</td>\n",
       "      <td>10</td>\n",
       "      <td>28</td>\n",
       "      <td>subject-2</td>\n",
       "      <td>Yes</td>\n",
       "      <td>0</td>\n",
       "      <td>subject-2.gut.2008-10-28</td>\n",
       "    </tr>\n",
       "  </tbody>\n",
       "</table>\n",
       "</div>"
      ],
      "text/plain": [
       "             PC1       PC2       PC3       PC4       PC5 BarcodeSequence  \\\n",
       "L1S105 -0.090263  0.202402  0.293835  0.273304 -0.118611    AGTGCGATGCGT   \n",
       "L1S140 -0.351046  0.041167 -0.048862 -0.086615 -0.107419    ATGGCAGCTCTA   \n",
       "\n",
       "       LinkerPrimerSequence BodySite  Year Month Day    Subject  \\\n",
       "L1S105  GTGCCAGCMGCCGCGGTAA      gut  2009     3  17  subject-1   \n",
       "L1S140  GTGCCAGCMGCCGCGGTAA      gut  2008    10  28  subject-2   \n",
       "\n",
       "       ReportedAntibioticUsage DaysSinceExperimentStart  \\\n",
       "L1S105                      No                      140   \n",
       "L1S140                     Yes                        0   \n",
       "\n",
       "                     Description  \n",
       "L1S105   subject-1.gut.2009-3-17  \n",
       "L1S140  subject-2.gut.2008-10-28  "
      ]
     },
     "execution_count": 8,
     "metadata": {},
     "output_type": "execute_result"
    }
   ],
   "source": [
    "# merge the sample metadata and loadings\n",
    "spca_df = pd.concat([spca_df, mf.reindex(spca_df.index)],\n",
    "                    axis=1, sort=True)\n",
    "spca_df.head(2)\n"
   ]
  },
  {
   "cell_type": "code",
   "execution_count": 9,
   "metadata": {},
   "outputs": [
    {
     "data": {
      "text/html": [
       "<div>\n",
       "<style scoped>\n",
       "    .dataframe tbody tr th:only-of-type {\n",
       "        vertical-align: middle;\n",
       "    }\n",
       "\n",
       "    .dataframe tbody tr th {\n",
       "        vertical-align: top;\n",
       "    }\n",
       "\n",
       "    .dataframe thead th {\n",
       "        text-align: right;\n",
       "    }\n",
       "</style>\n",
       "<table border=\"1\" class=\"dataframe\">\n",
       "  <thead>\n",
       "    <tr style=\"text-align: right;\">\n",
       "      <th></th>\n",
       "      <th>PC1</th>\n",
       "      <th>PC2</th>\n",
       "      <th>PC3</th>\n",
       "      <th>PC4</th>\n",
       "      <th>PC5</th>\n",
       "      <th>Taxon</th>\n",
       "      <th>Confidence</th>\n",
       "    </tr>\n",
       "  </thead>\n",
       "  <tbody>\n",
       "    <tr>\n",
       "      <th>0160e14a78b18b903618f11bc732746e</th>\n",
       "      <td>0.043439</td>\n",
       "      <td>-0.028137</td>\n",
       "      <td>0.065841</td>\n",
       "      <td>0.186956</td>\n",
       "      <td>0.022391</td>\n",
       "      <td>k__Bacteria; p__Verrucomicrobia; c__Verrucomic...</td>\n",
       "      <td>1.000000</td>\n",
       "    </tr>\n",
       "    <tr>\n",
       "      <th>01b99cb344ed2530f7d80897ffe257a9</th>\n",
       "      <td>0.008712</td>\n",
       "      <td>0.005172</td>\n",
       "      <td>-0.003146</td>\n",
       "      <td>-0.001097</td>\n",
       "      <td>-0.005254</td>\n",
       "      <td>k__Bacteria; p__Proteobacteria; c__Betaproteob...</td>\n",
       "      <td>0.777604</td>\n",
       "    </tr>\n",
       "  </tbody>\n",
       "</table>\n",
       "</div>"
      ],
      "text/plain": [
       "                                       PC1       PC2       PC3       PC4  \\\n",
       "0160e14a78b18b903618f11bc732746e  0.043439 -0.028137  0.065841  0.186956   \n",
       "01b99cb344ed2530f7d80897ffe257a9  0.008712  0.005172 -0.003146 -0.001097   \n",
       "\n",
       "                                       PC5  \\\n",
       "0160e14a78b18b903618f11bc732746e  0.022391   \n",
       "01b99cb344ed2530f7d80897ffe257a9 -0.005254   \n",
       "\n",
       "                                                                              Taxon  \\\n",
       "0160e14a78b18b903618f11bc732746e  k__Bacteria; p__Verrucomicrobia; c__Verrucomic...   \n",
       "01b99cb344ed2530f7d80897ffe257a9  k__Bacteria; p__Proteobacteria; c__Betaproteob...   \n",
       "\n",
       "                                  Confidence  \n",
       "0160e14a78b18b903618f11bc732746e    1.000000  \n",
       "01b99cb344ed2530f7d80897ffe257a9    0.777604  "
      ]
     },
     "execution_count": 9,
     "metadata": {},
     "output_type": "execute_result"
    }
   ],
   "source": [
    "# merge the feature metadata and loadings\n",
    "fpca_df = pd.concat([fpca_df, tf.reindex(fpca_df.index)],\n",
    "                    axis=1, sort=True)\n",
    "fpca_df.head(2)\n"
   ]
  },
  {
   "cell_type": "markdown",
   "metadata": {},
   "source": [
    "Now we will plot both loadings as a biplot by using seaborn and matplotlib. To do this we will first make a plotting helper function called `biplot` which is located in the assets directory."
   ]
  },
  {
   "cell_type": "code",
   "execution_count": 10,
   "metadata": {},
   "outputs": [
    {
     "data": {
      "image/png": "[encoded data removed]",
      "text/plain": [
       "<Figure size 432x432 with 1 Axes>"
      ]
     },
     "metadata": {
      "needs_background": "light"
     },
     "output_type": "display_data"
    }
   ],
   "source": [
    "fig, ax = plt.subplots(1,1, figsize=(6, 6))\n",
    "\n",
    "# plot the biplot\n",
    "ax = biplot('PC1', 'PC2', spca_df,\n",
    "            fpca_df, 'BodySite', ax)\n",
    "\n",
    "plt.show()\n"
   ]
  },
  {
   "cell_type": "markdown",
   "metadata": {},
   "source": [
    "Biplots are exploratory visualization tools that allow us to represent the features (i.e. taxonomy or OTUs)  that strongly influence the principal component axis as arrows. The interpretation of the compositional biplot differs slightly from classical biplot interpretation. The important features with regard to sample clusters are not a single arrow but by the log ratio between features represented by arrows pointing in different directions.\n"
   ]
  },
  {
   "cell_type": "markdown",
   "metadata": {},
   "source": [
    "From this visualization we noticed that BodySite seems to explain the clusters well. We can run [PERMANOVA](https://docs.qiime2.org/2019.1/plugins/available/diversity/beta-group-significance/) on the distances to get a statistical significance for this. "
   ]
  },
  {
   "cell_type": "code",
   "execution_count": 11,
   "metadata": {},
   "outputs": [
    {
     "data": {
      "text/plain": [
       "method name               PERMANOVA\n",
       "test statistic name        pseudo-F\n",
       "sample size                      34\n",
       "number of groups                  4\n",
       "test statistic              1.67627\n",
       "p-value                       0.057\n",
       "number of permutations          999\n",
       "Name: PERMANOVA results, dtype: object"
      ]
     },
     "execution_count": 11,
     "metadata": {},
     "output_type": "execute_result"
    }
   ],
   "source": [
    "from skbio.stats.distance import permanova\n",
    "\n",
    "permanova(distance, mf['BodySite'])"
   ]
  },
  {
   "cell_type": "markdown",
   "metadata": {},
   "source": [
    "Indeed we can now see that the clusters we saw in the biplot are significant."
   ]
  },
  {
   "cell_type": "markdown",
   "metadata": {},
   "source": [
    "We can see from the biplot and PERMANOVA results that gut is very different from the skin samples. Next we can use [qurro](https://github.com/biocore/qurro) to explore log-ratios of the microbes highlighted by gemelli. For more about why log-ratios are useful you may want to read [\"Establishing microbial composition measurement standards with reference frames\"](https://www.nature.com/articles/s41467-019-10656-5)."
   ]
  },
  {
   "cell_type": "code",
   "execution_count": 15,
   "metadata": {
    "scrolled": true
   },
   "outputs": [],
   "source": [
    "%%capture\n",
    "!qurro\\\n",
    "    --ranks qiime2-moving-pictures-tutorial/standalone-cli/ordination.txt\\\n",
    "    --table qiime2-moving-pictures-tutorial/table.biom\\\n",
    "    --sample-metadata qiime2-moving-pictures-tutorial/sample-metadata.tsv\\\n",
    "    --feature-metadata qiime2-moving-pictures-tutorial/taxonomy.tsv\\\n",
    "    --output-dir qiime2-moving-pictures-tutorial/qurro-standalone"
   ]
  },
  {
   "cell_type": "markdown",
   "metadata": {},
   "source": [
    "Two taxa groups whose arrows seem to be directly opposed with relation to the BodySite grouping is Bacteroides (associated with gut) and Streptococcus (associated with skin and oral). We can use Qurro to explore this relationship. To make a log-ratio we can filter by taxa who contain Bacteroides in the numerator and Streptococcus in the denominator of the log-ratio. Those features will then be summed according to thier taxonomic labels and used in the log-ratio. In Qurro the axis one loadings (or another axis) from gemelli are highlighted by if they are contained in the numerator or denominator. The log-ratio plot is contained on the left and can be visualized as a scatter or box-plot. From this it is clear these taxa can separate our BodySite groupings. \n",
    "\n",
    "![](etc/img16.png)\n"
   ]
  },
  {
   "cell_type": "markdown",
   "metadata": {},
   "source": [
    "A tsv file with the log-ratios can be exported and a t-test by BodySite on the log-ratios could confirm this observation by using the `Export current sample plot data` button. "
   ]
  },
  {
   "cell_type": "code",
   "execution_count": 13,
   "metadata": {},
   "outputs": [
    {
     "data": {
      "text/html": [
       "<div>\n",
       "<style scoped>\n",
       "    .dataframe tbody tr th:only-of-type {\n",
       "        vertical-align: middle;\n",
       "    }\n",
       "\n",
       "    .dataframe tbody tr th {\n",
       "        vertical-align: top;\n",
       "    }\n",
       "\n",
       "    .dataframe thead th {\n",
       "        text-align: right;\n",
       "    }\n",
       "</style>\n",
       "<table border=\"1\" class=\"dataframe\">\n",
       "  <thead>\n",
       "    <tr style=\"text-align: right;\">\n",
       "      <th></th>\n",
       "      <th></th>\n",
       "      <th>test-stat</th>\n",
       "      <th>p-value</th>\n",
       "    </tr>\n",
       "    <tr>\n",
       "      <th>group one vs.</th>\n",
       "      <th>group two</th>\n",
       "      <th></th>\n",
       "      <th></th>\n",
       "    </tr>\n",
       "  </thead>\n",
       "  <tbody>\n",
       "    <tr>\n",
       "      <th rowspan=\"3\" valign=\"top\">gut</th>\n",
       "      <th>left palm</th>\n",
       "      <td>9.943842</td>\n",
       "      <td>3.749890e-06</td>\n",
       "    </tr>\n",
       "    <tr>\n",
       "      <th>right palm</th>\n",
       "      <td>3.385889</td>\n",
       "      <td>6.933597e-03</td>\n",
       "    </tr>\n",
       "    <tr>\n",
       "      <th>tongue</th>\n",
       "      <td>20.744948</td>\n",
       "      <td>6.574794e-09</td>\n",
       "    </tr>\n",
       "    <tr>\n",
       "      <th rowspan=\"2\" valign=\"top\">left palm</th>\n",
       "      <th>right palm</th>\n",
       "      <td>-1.181070</td>\n",
       "      <td>2.587322e-01</td>\n",
       "    </tr>\n",
       "    <tr>\n",
       "      <th>tongue</th>\n",
       "      <td>1.526182</td>\n",
       "      <td>1.528810e-01</td>\n",
       "    </tr>\n",
       "    <tr>\n",
       "      <th>right palm</th>\n",
       "      <th>tongue</th>\n",
       "      <td>1.893318</td>\n",
       "      <td>8.078723e-02</td>\n",
       "    </tr>\n",
       "  </tbody>\n",
       "</table>\n",
       "</div>"
      ],
      "text/plain": [
       "                          test-stat       p-value\n",
       "group one vs. group two                          \n",
       "gut           left palm    9.943842  3.749890e-06\n",
       "              right palm   3.385889  6.933597e-03\n",
       "              tongue      20.744948  6.574794e-09\n",
       "left palm     right palm  -1.181070  2.587322e-01\n",
       "              tongue       1.526182  1.528810e-01\n",
       "right palm    tongue       1.893318  8.078723e-02"
      ]
     },
     "execution_count": 13,
     "metadata": {},
     "output_type": "execute_result"
    }
   ],
   "source": [
    "import itertools\n",
    "from scipy.stats import ttest_ind\n",
    "\n",
    "# import the taxonomy metadata\n",
    "lrdf = pd.read_csv('qiime2-moving-pictures-tutorial/sample_plot_data.tsv',\n",
    "                   sep='\\t', index_col=0).dropna(subset=['Current_Natural_Log_Ratio'])\n",
    "# split data by BodySite\n",
    "lrs = {type_:df_.Current_Natural_Log_Ratio\n",
    "       for type_, df_ in lrdf.groupby('BodySite')}\n",
    "# get all combos\n",
    "ids_ = list(itertools.combinations(lrs.keys(), 2))\n",
    "# take t-test\n",
    "tst = pd.DataFrame({(id1_, id2_):ttest_ind(lrs[id1_], lrs[id2_])\n",
    "                    for id1_, id2_ in ids_},\n",
    "                   ['test-stat','p-value']).T\n",
    "tst.index.names = ['group one vs.', 'group two']\n",
    "# view results\n",
    "tst\n"
   ]
  },
  {
   "cell_type": "markdown",
   "metadata": {},
   "source": [
    "From this we can see that gut vs. skin and oral is significantly different using this log-ratio but skin vs. oral is not."
   ]
  }
 ],
 "metadata": {
  "kernelspec": {
   "display_name": "Python 3",
   "language": "python",
   "name": "python3"
  },
  "language_info": {
   "codemirror_mode": {
    "name": "ipython",
    "version": 3
   },
   "file_extension": ".py",
   "mimetype": "text/x-python",
   "name": "python",
   "nbconvert_exporter": "python",
   "pygments_lexer": "ipython3",
   "version": "3.6.7"
  }
 },
 "nbformat": 4,
 "nbformat_minor": 2
}
